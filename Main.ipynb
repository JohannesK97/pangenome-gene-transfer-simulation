{
 "cells": [
  {
   "cell_type": "code",
   "execution_count": 1,
   "id": "176ebdcb-bc57-485b-a98b-d05d27af4ba7",
   "metadata": {},
   "outputs": [],
   "source": [
    "# Packages\n",
    "import gene_model\n",
    "import gfs\n",
    "import color_scheme\n",
    "import hgt_mutations\n",
    "\n",
    "from matplotlib import pyplot as plt\n",
    "import seaborn as sns"
   ]
  },
  {
   "cell_type": "code",
   "execution_count": 2,
   "id": "f60eb658-a2e5-417f-a0df-b3e87cafe37e",
   "metadata": {},
   "outputs": [],
   "source": [
    "# Simulation Parameters\n",
    "theta = 2 # Gene Gain rate\n",
    "rho = 0 # Gene Loss rate\n",
    "\n",
    "gene_conv = 0 # Gene Conversion rate\n",
    "recomb = 0 # Recombination rate\n",
    "hgt_rate = 0.5 # HGT rate\n",
    "\n",
    "\n",
    "num_sites = 1 # Number of sites to simulate\n",
    "num_samples = 5 # Number of samples / individuals"
   ]
  },
  {
   "cell_type": "code",
   "execution_count": 3,
   "id": "f521c76b-a960-4eb6-a5ab-ffc39c1bae13",
   "metadata": {},
   "outputs": [
    {
     "name": "stdout",
     "output_type": "stream",
     "text": [
      "Not enough hgt_edges, such that there doesn't have to be exactly one mutation.\n",
      "0.0\t('absent', 'present')\t[1 0 1 1 1]\n",
      "╔══╤════╤════╤══════════╤═════════════╤══════╤════════╗\n",
      "║id│site│node│time      │derived_state│parent│metadata║\n",
      "╠══╪════╪════╪══════════╪═════════════╪══════╪════════╣\n",
      "║0 │   0│   5│0.38181875│      present│    -1│        ║\n",
      "║1 │   0│   6│0.31550241│      present│    -1│        ║\n",
      "╚══╧════╧════╧══════════╧═════════════╧══════╧════════╝\n",
      "\n"
     ]
    },
    {
     "name": "stderr",
     "output_type": "stream",
     "text": [
      "C:\\Users\\uhewm\\OneDrive\\PhD\\Project No.2\\pangenome-gene-transfer-simulation\\gene_model.py:231: RuntimeWarning: 2 double mutation (present -> present) occured. It is recommended to increase the num_sites to 20 or higher. Alternatily use the double_site_relocation or relocate_double_gene_gain option.\n",
      "  warnings.warn(\n"
     ]
    },
    {
     "data": {
      "image/svg+xml": [
       "<svg baseProfile=\"full\" height=\"200\" version=\"1.1\" width=\"200\" xmlns=\"http://www.w3.org/2000/svg\" xmlns:ev=\"http://www.w3.org/2001/xml-events\" xmlns:xlink=\"http://www.w3.org/1999/xlink\"><defs><style type=\"text/css\"><![CDATA[.background path {fill: #808080; fill-opacity: 0}.background path:nth-child(odd) {fill-opacity: .1}.x-regions rect {fill: yellow; stroke: black; opacity: 0.5}.axes {font-size: 14px}.x-axis .tick .lab {font-weight: bold; dominant-baseline: hanging}.axes, .tree {font-size: 14px; text-anchor: middle}.axes line, .edge {stroke: black; fill: none}.axes .ax-skip {stroke-dasharray: 4}.y-axis .grid {stroke: #FAFAFA}.node > .sym {fill: black; stroke: none}.site > .sym {stroke: black}.mut text {fill: red; font-style: italic}.mut.extra text {fill: hotpink}.mut line {fill: none; stroke: none}.mut .sym {fill: none; stroke: red}.mut.extra .sym {stroke: hotpink}.node .mut .sym {stroke-width: 1.5px}.tree text, .tree-sequence text {dominant-baseline: central}.plotbox .lab.lft {text-anchor: end}.plotbox .lab.rgt {text-anchor: start}.polytomy line {stroke: black; stroke-dasharray: 1px, 1px}.polytomy text {paint-order:stroke;stroke-width:0.3em;stroke:white}]]></style></defs><g class=\"tree-sequence\"><g class=\"background\"><path d=\"M20,0 l160,0 l0,138.2 l0,25 l0,5 l-160,0 l0,-5 l0,-25 l0,-138.2z\" /></g><g class=\"axes\"><g class=\"x-axis\"><g class=\"title\" transform=\"translate(100 200)\"><text class=\"lab\" text-anchor=\"middle\" transform=\"translate(0 -11)\">Genome position</text></g><line class=\"ax-line\" x1=\"20\" x2=\"180\" y1=\"163.2\" y2=\"163.2\" /><g class=\"ticks\"><g class=\"tick\" transform=\"translate(20 163.2)\"><line x1=\"0\" x2=\"0\" y1=\"0\" y2=\"5\" /><g transform=\"translate(0 6)\"><text class=\"lab\">0</text></g></g><g class=\"tick\" transform=\"translate(180 163.2)\"><line x1=\"0\" x2=\"0\" y1=\"0\" y2=\"5\" /><g transform=\"translate(0 6)\"><text class=\"lab\">1</text></g></g></g><g class=\"site s0\" transform=\"translate(20 163.2)\"><line class=\"sym\" x1=\"0\" x2=\"0\" y1=\"0\" y2=\"-10\" /><g class=\"mut m1\"><polyline class=\"sym\" points=\"2.5,-6.5 0,-1.5 -2.5,-6.5\" /></g><g class=\"mut m0\"><polyline class=\"sym\" points=\"2.5,-10.5 0,-5.5 -2.5,-10.5\" /></g></g></g></g><g class=\"plotbox trees\"><g class=\"tree t0\" transform=\"translate(20 0)\"><g class=\"plotbox\"><g class=\"c2 node n8 p0 root\" transform=\"translate(89 26.8)\"><g class=\"a8 c2 m0 node n5 p0 s0\" transform=\"translate(27 90.0012)\"><g class=\"a5 leaf node n2 p0 sample\" transform=\"translate(-12 4.59878)\"><path class=\"edge\" d=\"M 0 0 V -4.59878 H 12\" /><rect class=\"sym\" height=\"6\" width=\"6\" x=\"-3\" y=\"-3\" /><text class=\"lab\" transform=\"translate(0 11)\">2</text></g><g class=\"a5 leaf node n3 p0 sample\" transform=\"translate(12 4.59878)\"><path class=\"edge\" d=\"M 0 0 V -4.59878 H -12\" /><rect class=\"sym\" height=\"6\" width=\"6\" x=\"-3\" y=\"-3\" /><text class=\"lab\" transform=\"translate(0 11)\">3</text></g><path class=\"edge\" d=\"M 0 0 V -90.0012 H -27\" /><g class=\"mut m0 s0\" transform=\"translate(0 -51.7897)\"><line x1=\"0\" x2=\"0\" y1=\"0\" y2=\"51.7897\" /><path class=\"sym\" d=\"M -3,-3 l 6,6 M -3,3 l 6,-6\" /><text class=\"lab rgt\" transform=\"translate(5 0)\">0</text></g><circle class=\"sym\" cx=\"0\" cy=\"0\" r=\"3\" /><text class=\"lab rgt\" transform=\"translate(3 -7)\">5</text></g><g class=\"a8 c2 node n7 p0\" transform=\"translate(-27 33.9605)\"><g class=\"a7 leaf node n1 p0 sample\" transform=\"translate(18 60.6395)\"><path class=\"edge\" d=\"M 0 0 V -60.6395 H -18\" /><rect class=\"sym\" height=\"6\" width=\"6\" x=\"-3\" y=\"-3\" /><text class=\"lab\" transform=\"translate(0 11)\">1</text></g><g class=\"a7 c2 m1 node n6 p0 s0\" transform=\"translate(-18 46.2452)\"><g class=\"a6 leaf node n0 p0 sample\" transform=\"translate(-12 14.3942)\"><path class=\"edge\" d=\"M 0 0 V -14.3942 H 12\" /><rect class=\"sym\" height=\"6\" width=\"6\" x=\"-3\" y=\"-3\" /><text class=\"lab\" transform=\"translate(0 11)\">0</text></g><g class=\"a6 leaf node n4 p0 sample\" transform=\"translate(12 14.3942)\"><path class=\"edge\" d=\"M 0 0 V -14.3942 H -12\" /><rect class=\"sym\" height=\"6\" width=\"6\" x=\"-3\" y=\"-3\" /><text class=\"lab\" transform=\"translate(0 11)\">4</text></g><path class=\"edge\" d=\"M 0 0 V -46.2452 H 18\" /><g class=\"mut m1 s0\" transform=\"translate(0 -32.2004)\"><line x1=\"0\" x2=\"0\" y1=\"0\" y2=\"32.2004\" /><path class=\"sym\" d=\"M -3,-3 l 6,6 M -3,3 l 6,-6\" /><text class=\"lab lft\" transform=\"translate(-5 0)\">1</text></g><circle class=\"sym\" cx=\"0\" cy=\"0\" r=\"3\" /><text class=\"lab lft\" transform=\"translate(-3 -7)\">6</text></g><path class=\"edge\" d=\"M 0 0 V -33.9605 H 27\" /><circle class=\"sym\" cx=\"0\" cy=\"0\" r=\"3\" /><text class=\"lab lft\" transform=\"translate(-3 -7)\">7</text></g><circle class=\"sym\" cx=\"0\" cy=\"0\" r=\"3\" /><text class=\"lab\" transform=\"translate(0 -11)\">8</text></g></g></g></g></g></svg>"
      ],
      "text/plain": [
       "'<svg baseProfile=\"full\" height=\"200\" version=\"1.1\" width=\"200\" xmlns=\"http://www.w3.org/2000/svg\" xmlns:ev=\"http://www.w3.org/2001/xml-events\" xmlns:xlink=\"http://www.w3.org/1999/xlink\"><defs><style type=\"text/css\"><![CDATA[.background path {fill: #808080; fill-opacity: 0}.background path:nth-child(odd) {fill-opacity: .1}.x-regions rect {fill: yellow; stroke: black; opacity: 0.5}.axes {font-size: 14px}.x-axis .tick .lab {font-weight: bold; dominant-baseline: hanging}.axes, .tree {font-size: 14px; text-anchor: middle}.axes line, .edge {stroke: black; fill: none}.axes .ax-skip {stroke-dasharray: 4}.y-axis .grid {stroke: #FAFAFA}.node > .sym {fill: black; stroke: none}.site > .sym {stroke: black}.mut text {fill: red; font-style: italic}.mut.extra text {fill: hotpink}.mut line {fill: none; stroke: none}.mut .sym {fill: none; stroke: red}.mut.extra .sym {stroke: hotpink}.node .mut .sym {stroke-width: 1.5px}.tree text, .tree-sequence text {dominant-baseline: central}.plotbox .lab.lft {text-anchor: end}.plotbox .lab.rgt {text-anchor: start}.polytomy line {stroke: black; stroke-dasharray: 1px, 1px}.polytomy text {paint-order:stroke;stroke-width:0.3em;stroke:white}]]></style></defs><g class=\"tree-sequence\"><g class=\"background\"><path d=\"M20,0 l160,0 l0,138.2 l0,25 l0,5 l-160,0 l0,-5 l0,-25 l0,-138.2z\" /></g><g class=\"axes\"><g class=\"x-axis\"><g class=\"title\" transform=\"translate(100 200)\"><text class=\"lab\" text-anchor=\"middle\" transform=\"translate(0 -11)\">Genome position</text></g><line class=\"ax-line\" x1=\"20\" x2=\"180\" y1=\"163.2\" y2=\"163.2\" /><g class=\"ticks\"><g class=\"tick\" transform=\"translate(20 163.2)\"><line x1=\"0\" x2=\"0\" y1=\"0\" y2=\"5\" /><g transform=\"translate(0 6)\"><text class=\"lab\">0</text></g></g><g class=\"tick\" transform=\"translate(180 163.2)\"><line x1=\"0\" x2=\"0\" y1=\"0\" y2=\"5\" /><g transform=\"translate(0 6)\"><text class=\"lab\">1</text></g></g></g><g class=\"site s0\" transform=\"translate(20 163.2)\"><line class=\"sym\" x1=\"0\" x2=\"0\" y1=\"0\" y2=\"-10\" /><g class=\"mut m1\"><polyline class=\"sym\" points=\"2.5,-6.5 0,-1.5 -2.5,-6.5\" /></g><g class=\"mut m0\"><polyline class=\"sym\" points=\"2.5,-10.5 0,-5.5 -2.5,-10.5\" /></g></g></g></g><g class=\"plotbox trees\"><g class=\"tree t0\" transform=\"translate(20 0)\"><g class=\"plotbox\"><g class=\"c2 node n8 p0 root\" transform=\"translate(89 26.8)\"><g class=\"a8 c2 m0 node n5 p0 s0\" transform=\"translate(27 90.0012)\"><g class=\"a5 leaf node n2 p0 sample\" transform=\"translate(-12 4.59878)\"><path class=\"edge\" d=\"M 0 0 V -4.59878 H 12\" /><rect class=\"sym\" height=\"6\" width=\"6\" x=\"-3\" y=\"-3\" /><text class=\"lab\" transform=\"translate(0 11)\">2</text></g><g class=\"a5 leaf node n3 p0 sample\" transform=\"translate(12 4.59878)\"><path class=\"edge\" d=\"M 0 0 V -4.59878 H -12\" /><rect class=\"sym\" height=\"6\" width=\"6\" x=\"-3\" y=\"-3\" /><text class=\"lab\" transform=\"translate(0 11)\">3</text></g><path class=\"edge\" d=\"M 0 0 V -90.0012 H -27\" /><g class=\"mut m0 s0\" transform=\"translate(0 -51.7897)\"><line x1=\"0\" x2=\"0\" y1=\"0\" y2=\"51.7897\" /><path class=\"sym\" d=\"M -3,-3 l 6,6 M -3,3 l 6,-6\" /><text class=\"lab rgt\" transform=\"translate(5 0)\">0</text></g><circle class=\"sym\" cx=\"0\" cy=\"0\" r=\"3\" /><text class=\"lab rgt\" transform=\"translate(3 -7)\">5</text></g><g class=\"a8 c2 node n7 p0\" transform=\"translate(-27 33.9605)\"><g class=\"a7 leaf node n1 p0 sample\" transform=\"translate(18 60.6395)\"><path class=\"edge\" d=\"M 0 0 V -60.6395 H -18\" /><rect class=\"sym\" height=\"6\" width=\"6\" x=\"-3\" y=\"-3\" /><text class=\"lab\" transform=\"translate(0 11)\">1</text></g><g class=\"a7 c2 m1 node n6 p0 s0\" transform=\"translate(-18 46.2452)\"><g class=\"a6 leaf node n0 p0 sample\" transform=\"translate(-12 14.3942)\"><path class=\"edge\" d=\"M 0 0 V -14.3942 H 12\" /><rect class=\"sym\" height=\"6\" width=\"6\" x=\"-3\" y=\"-3\" /><text class=\"lab\" transform=\"translate(0 11)\">0</text></g><g class=\"a6 leaf node n4 p0 sample\" transform=\"translate(12 14.3942)\"><path class=\"edge\" d=\"M 0 0 V -14.3942 H -12\" /><rect class=\"sym\" height=\"6\" width=\"6\" x=\"-3\" y=\"-3\" /><text class=\"lab\" transform=\"translate(0 11)\">4</text></g><path class=\"edge\" d=\"M 0 0 V -46.2452 H 18\" /><g class=\"mut m1 s0\" transform=\"translate(0 -32.2004)\"><line x1=\"0\" x2=\"0\" y1=\"0\" y2=\"32.2004\" /><path class=\"sym\" d=\"M -3,-3 l 6,6 M -3,3 l 6,-6\" /><text class=\"lab lft\" transform=\"translate(-5 0)\">1</text></g><circle class=\"sym\" cx=\"0\" cy=\"0\" r=\"3\" /><text class=\"lab lft\" transform=\"translate(-3 -7)\">6</text></g><path class=\"edge\" d=\"M 0 0 V -33.9605 H 27\" /><circle class=\"sym\" cx=\"0\" cy=\"0\" r=\"3\" /><text class=\"lab lft\" transform=\"translate(-3 -7)\">7</text></g><circle class=\"sym\" cx=\"0\" cy=\"0\" r=\"3\" /><text class=\"lab\" transform=\"translate(0 -11)\">8</text></g></g></g></g></g></svg>'"
      ]
     },
     "execution_count": 3,
     "metadata": {},
     "output_type": "execute_result"
    }
   ],
   "source": [
    "import numpy as np\n",
    "\n",
    "run = True\n",
    "\n",
    "while run:\n",
    "\n",
    "    mts = gene_model.gene_model(\n",
    "        theta=1,\n",
    "        rho=rho,\n",
    "        gene_conversion_rate=gene_conv,\n",
    "        recombination_rate=recomb,\n",
    "        hgt_rate=0.5,\n",
    "        num_samples=num_samples,\n",
    "        num_sites=num_sites,\n",
    "        double_site_relocation=False, # Fix double gene gain events, won't hide the warning.\n",
    "    )\n",
    "\n",
    "    for var in mts.variants():\n",
    "        #if not (var.alleles == ('absent',) or np.all(var.genotypes == [1, 1, 1, 1, 1])):\n",
    "        #if not (var.alleles == ('present',)):\n",
    "        run = False\n",
    "\n",
    "for var in mts.variants():\n",
    "    print(var.site.position, var.alleles, var.genotypes, sep=\"\\t\")\n",
    "\n",
    "print(mts.tables.mutations)\n",
    "mts.draw_svg()\n"
   ]
  },
  {
   "cell_type": "code",
   "execution_count": 57,
   "id": "d75a3935-35df-4ad0-8822-268e35b33740",
   "metadata": {},
   "outputs": [
    {
     "name": "stdout",
     "output_type": "stream",
     "text": [
      "0.98┊                24    ┊\n",
      "    ┊             ┏━━━┻━━┓ ┊\n",
      "0.97┊            23      ┃ ┊\n",
      "    ┊         ┏━━━┻━━━┓  ┃ ┊\n",
      "0.92┊         ┃       ┃ 22 ┊\n",
      "    ┊         ┃       ┃  ┃ ┊\n",
      "0.92┊         ┃      20 21 ┊\n",
      "    ┊         ┃       ┃    ┊\n",
      "0.60┊        19       ┃    ┊\n",
      "    ┊      ┏━━┻━━━┓   ┃    ┊\n",
      "0.32┊     18      ┃   ┃    ┊\n",
      "    ┊   ┏━━┻━━┓   ┃   ┃    ┊\n",
      "0.28┊  17     ┃   ┃   ┃    ┊\n",
      "    ┊ ┏━┻┓    ┃   ┃   ┃    ┊\n",
      "0.28┊ ┃  ┃    ┃   ┃  16    ┊\n",
      "    ┊ ┃  ┃    ┃   ┃   ┃    ┊\n",
      "0.28┊ ┃ 14    ┃   ┃  15    ┊\n",
      "    ┊ ┃  ┃    ┃   ┃        ┊\n",
      "0.27┊ ┃  ┃   13   ┃        ┊\n",
      "    ┊ ┃  ┃  ┏━┻┓  ┃        ┊\n",
      "0.12┊ ┃ 12  ┃  ┃  ┃        ┊\n",
      "    ┊ ┃  ┃  ┃  ┃  ┃        ┊\n",
      "0.12┊ ┃ 11  ┃  ┃ 10        ┊\n",
      "    ┊ ┃     ┃  ┃  ┃        ┊\n",
      "0.07┊ ┃     9  ┃  ┃        ┊\n",
      "    ┊ ┃    ┏┻┓ ┃  ┃        ┊\n",
      "0.06┊ ┃    ┃ ┃ ┃  8        ┊\n",
      "    ┊ ┃    ┃ ┃ ┃ ┏┻┓       ┊\n",
      "0.05┊ ┃    ┃ 7 ┃ ┃ ┃       ┊\n",
      "    ┊ ┃    ┃ ┃ ┃ ┃ ┃       ┊\n",
      "0.05┊ ┃    ┃ 6 5 ┃ ┃       ┊\n",
      "    ┊ ┃    ┃   ┃ ┃ ┃       ┊\n",
      "0.00┊ 0    3   4 1 2       ┊\n",
      "    0                      1\n",
      "\n"
     ]
    }
   ],
   "source": [
    "print(mts.draw_text())\n",
    "\n"
   ]
  },
  {
   "cell_type": "code",
   "execution_count": 11,
   "id": "d0aa9f8e-1753-48d9-bfb9-d9ca719ee305",
   "metadata": {},
   "outputs": [
    {
     "name": "stdout",
     "output_type": "stream",
     "text": [
      "{(0.0, 1.0): [{(8, False)}, {(37, False)}, {(14, False)}, {(25, False)}, {(5, False)}, {(44, False)}, set(), set(), {(17, False), (10, True)}, {(10, False)}, {(21, False)}, set(), set(), set(), {(30, False)}, set(), set(), {(22, False), (19, True)}, {(19, False)}, {(21, False)}, set(), {(33, False)}, {(25, False)}, set(), set(), {(26, False)}, {(33, False)}, set(), set(), set(), {(37, False)}, set(), set(), {(44, False)}, set(), set(), set(), {(38, False)}, {(41, False)}, set(), set(), {(53, False)}, set(), set(), {(45, False)}, {(50, False)}, set(), set(), set(), set(), {(53, False)}, set(), set(), set(), set()], (1.0, 2.0): [{(8, False)}, {(37, False)}, {(14, False)}, {(25, False)}, {(5, False)}, {(44, False)}, set(), set(), {(17, False)}, set(), set(), set(), set(), set(), {(30, False)}, set(), set(), {(22, False)}, set(), set(), set(), set(), {(25, False)}, set(), set(), {(26, False)}, {(44, False)}, set(), set(), set(), {(37, False)}, set(), set(), set(), set(), set(), set(), {(38, False)}, {(41, False)}, set(), set(), {(53, False), (43, True)}, {(43, False)}, {(49, False)}, {(45, False)}, {(49, False)}, set(), set(), set(), {(50, False)}, {(53, False)}, set(), set(), set(), set()], (2.0, 3.0): [{(8, False)}, {(29, False)}, {(14, False)}, {(25, False)}, {(5, False)}, {(20, False)}, set(), set(), {(17, False)}, set(), set(), set(), set(), set(), {(30, False), (16, True)}, {(16, False)}, {(20, False)}, {(22, False)}, set(), set(), {(44, False)}, set(), {(25, False), (24, True)}, {(24, False)}, {(35, False)}, {(26, False)}, {(28, True), (35, False)}, {(28, False)}, {(29, False)}, {(37, False)}, {(37, False)}, set(), set(), set(), set(), {(44, False)}, set(), {(38, False)}, {(41, False)}, set(), set(), {(53, False)}, set(), set(), {(45, False)}, {(50, False)}, set(), set(), set(), set(), {(53, False)}, set(), set(), set(), set()], (3.0, 4.0): [{(8, False)}, {(36, False)}, {(14, False)}, {(25, False)}, {(5, False)}, {(44, False), (7, True)}, {(7, False)}, {(11, False)}, {(17, False)}, set(), set(), {(33, False), (13, True)}, {(13, False)}, {(36, False)}, {(30, False)}, set(), set(), {(22, False)}, set(), set(), set(), set(), {(25, False)}, set(), set(), {(26, False)}, {(33, False)}, set(), set(), set(), {(37, False)}, set(), set(), {(44, False)}, set(), set(), {(37, False)}, {(38, False)}, {(41, False)}, set(), set(), {(53, False)}, set(), set(), {(45, False)}, {(50, False)}, set(), set(), set(), set(), {(52, True), (53, False)}, {(52, False)}, {(54, False)}, {(54, False)}, set()], (4.0, 5.0): [{(8, False)}, {(34, False)}, {(14, False)}, {(25, False)}, {(5, False)}, {(44, False)}, set(), set(), {(17, False)}, set(), set(), set(), set(), set(), {(30, False)}, set(), set(), {(22, False)}, set(), set(), set(), set(), {(25, False)}, set(), set(), {(26, False)}, {(44, False)}, set(), set(), set(), {(37, False), (32, True)}, {(32, False)}, {(34, False)}, set(), {(37, False)}, set(), set(), {(38, False)}, {(40, True), (41, False)}, {(40, False)}, {(48, False)}, {(48, False)}, set(), set(), {(45, False)}, {(47, True), (50, False)}, {(47, False)}, {(54, False)}, {(53, False)}, set(), {(53, False)}, set(), set(), {(54, False)}, set()]}\n",
      "0.0\t('absent', 'present')\t[1 0 0 1 0]\n",
      "1.0\t('absent', 'present')\t[0 0 0 0 1]\n",
      "2.0\t('absent', 'present')\t[0 0 0 1 0]\n",
      "3.0\t('absent', 'present')\t[1 0 0 1 1]\n",
      "4.0\t('absent', 'present')\t[1 0 0 1 1]\n",
      "1.13┊                 ┊               ┊                     ┊             54     ┊             54      ┊\n",
      "    ┊                 ┊               ┊                     ┊          ┏━━━┻━━━┓ ┊         ┏━━━━┻━━━━┓ ┊\n",
      "0.95┊          53     ┊        53     ┊            53       ┊         53       ┃ ┊        53         ┃ ┊\n",
      "    ┊        ┏━━┻━━┓  ┊       ┏━┻━━┓  ┊        ┏━━━━┻━━━┓   ┊       ┏━━┻━━┓    ┃ ┊     ┏━━━┻━━━┓     ┃ ┊\n",
      "0.93┊        ┃     ┃  ┊       ┃    ┃  ┊        ┃        ┃   ┊       ┃     ┃   52 ┊     ┃       ┃     ┃ ┊\n",
      "    ┊        ┃     ┃  ┊       ┃    ┃  ┊        ┃        ┃   ┊       ┃     ┃    ┃ ┊     ┃       ┃     ┃ ┊\n",
      "0.93┊       50     ┃  ┊      50    ┃  ┊       50        ┃   ┊      50     ┃   51 ┊    50       ┃     ┃ ┊\n",
      "    ┊        ┃     ┃  ┊       ┃    ┃  ┊        ┃        ┃   ┊       ┃     ┃      ┊     ┃       ┃     ┃ ┊\n",
      "0.88┊        ┃     ┃  ┊      49    ┃  ┊        ┃        ┃   ┊       ┃     ┃      ┊     ┃       ┃     ┃ ┊\n",
      "    ┊        ┃     ┃  ┊     ┏━┻━┓  ┃  ┊        ┃        ┃   ┊       ┃     ┃      ┊     ┃       ┃     ┃ ┊\n",
      "0.65┊        ┃     ┃  ┊     ┃   ┃  ┃  ┊        ┃        ┃   ┊       ┃     ┃      ┊     ┃      48     ┃ ┊\n",
      "    ┊        ┃     ┃  ┊     ┃   ┃  ┃  ┊        ┃        ┃   ┊       ┃     ┃      ┊     ┃     ┏━┻━━┓  ┃ ┊\n",
      "0.63┊        ┃     ┃  ┊     ┃   ┃  ┃  ┊        ┃        ┃   ┊       ┃     ┃      ┊     ┃     ┃    ┃ 47 ┊\n",
      "    ┊        ┃     ┃  ┊     ┃   ┃  ┃  ┊        ┃        ┃   ┊       ┃     ┃      ┊     ┃     ┃    ┃  ┃ ┊\n",
      "0.63┊       45     ┃  ┊    45   ┃  ┃  ┊       45        ┃   ┊      45     ┃      ┊    45     ┃    ┃ 46 ┊\n",
      "    ┊        ┃     ┃  ┊     ┃   ┃  ┃  ┊        ┃        ┃   ┊       ┃     ┃      ┊     ┃     ┃    ┃    ┊\n",
      "0.59┊       44     ┃  ┊    44   ┃  ┃  ┊       44        ┃   ┊      44     ┃      ┊    44     ┃    ┃    ┊\n",
      "    ┊     ┏━━┻━━┓  ┃  ┊   ┏━┻┓  ┃  ┃  ┊     ┏━━┻━━┓     ┃   ┊     ┏━┻┓    ┃      ┊   ┏━┻┓    ┃    ┃    ┊\n",
      "0.51┊     ┃     ┃  ┃  ┊   ┃  ┃ 43  ┃  ┊     ┃     ┃     ┃   ┊     ┃  ┃    ┃      ┊   ┃  ┃    ┃    ┃    ┊\n",
      "    ┊     ┃     ┃  ┃  ┊   ┃  ┃  ┃  ┃  ┊     ┃     ┃     ┃   ┊     ┃  ┃    ┃      ┊   ┃  ┃    ┃    ┃    ┊\n",
      "0.51┊     ┃     ┃ 41  ┊   ┃  ┃ 42 41  ┊     ┃     ┃    41   ┊     ┃  ┃   41      ┊   ┃  ┃   41    ┃    ┊\n",
      "    ┊     ┃     ┃  ┃  ┊   ┃  ┃     ┃  ┊     ┃     ┃     ┃   ┊     ┃  ┃    ┃      ┊   ┃  ┃    ┃    ┃    ┊\n",
      "0.46┊     ┃     ┃  ┃  ┊   ┃  ┃     ┃  ┊     ┃     ┃     ┃   ┊     ┃  ┃    ┃      ┊   ┃  ┃    ┃   40    ┊\n",
      "    ┊     ┃     ┃  ┃  ┊   ┃  ┃     ┃  ┊     ┃     ┃     ┃   ┊     ┃  ┃    ┃      ┊   ┃  ┃    ┃    ┃    ┊\n",
      "0.46┊     ┃     ┃ 38  ┊   ┃  ┃    38  ┊     ┃     ┃    38   ┊     ┃  ┃   38      ┊   ┃  ┃   38   39    ┊\n",
      "    ┊     ┃     ┃  ┃  ┊   ┃  ┃     ┃  ┊     ┃     ┃     ┃   ┊     ┃  ┃    ┃      ┊   ┃  ┃    ┃         ┊\n",
      "0.40┊     ┃     ┃ 37  ┊   ┃  ┃    37  ┊     ┃     ┃    37   ┊     ┃  ┃   37      ┊   ┃  ┃   37         ┊\n",
      "    ┊     ┃     ┃ ┏┻┓ ┊   ┃  ┃    ┏┻┓ ┊     ┃     ┃   ┏━┻━┓ ┊     ┃  ┃  ┏━┻━┓    ┊   ┃  ┃  ┏━┻━┓       ┊\n",
      "0.35┊     ┃     ┃ ┃ ┃ ┊   ┃  ┃    ┃ ┃ ┊     ┃     ┃   ┃   ┃ ┊     ┃  ┃ 36   ┃    ┊   ┃  ┃  ┃   ┃       ┊\n",
      "    ┊     ┃     ┃ ┃ ┃ ┊   ┃  ┃    ┃ ┃ ┊     ┃     ┃   ┃   ┃ ┊     ┃  ┃ ┏┻━┓ ┃    ┊   ┃  ┃  ┃   ┃       ┊\n",
      "0.30┊     ┃     ┃ ┃ ┃ ┊   ┃  ┃    ┃ ┃ ┊    35     ┃   ┃   ┃ ┊     ┃  ┃ ┃  ┃ ┃    ┊   ┃  ┃  ┃   ┃       ┊\n",
      "    ┊     ┃     ┃ ┃ ┃ ┊   ┃  ┃    ┃ ┃ ┊   ┏━┻━┓   ┃   ┃   ┃ ┊     ┃  ┃ ┃  ┃ ┃    ┊   ┃  ┃  ┃   ┃       ┊\n",
      "0.30┊     ┃     ┃ ┃ ┃ ┊   ┃  ┃    ┃ ┃ ┊   ┃   ┃   ┃   ┃   ┃ ┊     ┃  ┃ ┃  ┃ ┃    ┊   ┃  ┃ 34   ┃       ┊\n",
      "    ┊     ┃     ┃ ┃ ┃ ┊   ┃  ┃    ┃ ┃ ┊   ┃   ┃   ┃   ┃   ┃ ┊     ┃  ┃ ┃  ┃ ┃    ┊   ┃  ┃ ┏┻━┓ ┃       ┊\n",
      "0.29┊    33     ┃ ┃ ┃ ┊   ┃  ┃    ┃ ┃ ┊   ┃   ┃   ┃   ┃   ┃ ┊    33  ┃ ┃  ┃ ┃    ┊   ┃  ┃ ┃  ┃ ┃       ┊\n",
      "    ┊   ┏━┻━┓   ┃ ┃ ┃ ┊   ┃  ┃    ┃ ┃ ┊   ┃   ┃   ┃   ┃   ┃ ┊   ┏━┻┓ ┃ ┃  ┃ ┃    ┊   ┃  ┃ ┃  ┃ ┃       ┊\n",
      "0.29┊   ┃   ┃   ┃ ┃ ┃ ┊   ┃  ┃    ┃ ┃ ┊   ┃   ┃   ┃   ┃   ┃ ┊   ┃  ┃ ┃ ┃  ┃ ┃    ┊   ┃  ┃ ┃ 32 ┃       ┊\n",
      "    ┊   ┃   ┃   ┃ ┃ ┃ ┊   ┃  ┃    ┃ ┃ ┊   ┃   ┃   ┃   ┃   ┃ ┊   ┃  ┃ ┃ ┃  ┃ ┃    ┊   ┃  ┃ ┃  ┃ ┃       ┊\n",
      "0.29┊   ┃   ┃   ┃ ┃30 ┊   ┃  ┃    ┃30 ┊   ┃   ┃   ┃   ┃  30 ┊   ┃  ┃ ┃ ┃  ┃30    ┊   ┃  ┃ ┃ 3130       ┊\n",
      "    ┊   ┃   ┃   ┃ ┃ ┃ ┊   ┃  ┃    ┃ ┃ ┊   ┃   ┃   ┃   ┃   ┃ ┊   ┃  ┃ ┃ ┃  ┃ ┃    ┊   ┃  ┃ ┃    ┃       ┊\n",
      "0.20┊   ┃   ┃   ┃ ┃ ┃ ┊   ┃  ┃    ┃ ┃ ┊   ┃   ┃   ┃  29   ┃ ┊   ┃  ┃ ┃ ┃  ┃ ┃    ┊   ┃  ┃ ┃    ┃       ┊\n",
      "    ┊   ┃   ┃   ┃ ┃ ┃ ┊   ┃  ┃    ┃ ┃ ┊   ┃   ┃   ┃  ┏┻━┓ ┃ ┊   ┃  ┃ ┃ ┃  ┃ ┃    ┊   ┃  ┃ ┃    ┃       ┊\n",
      "0.18┊   ┃   ┃   ┃ ┃ ┃ ┊   ┃  ┃    ┃ ┃ ┊   ┃   ┃   ┃  ┃ 28 ┃ ┊   ┃  ┃ ┃ ┃  ┃ ┃    ┊   ┃  ┃ ┃    ┃       ┊\n",
      "    ┊   ┃   ┃   ┃ ┃ ┃ ┊   ┃  ┃    ┃ ┃ ┊   ┃   ┃   ┃  ┃  ┃ ┃ ┊   ┃  ┃ ┃ ┃  ┃ ┃    ┊   ┃  ┃ ┃    ┃       ┊\n",
      "0.18┊  26   ┃   ┃ ┃ ┃ ┊  26  ┃    ┃ ┃ ┊  26   ┃   ┃  ┃ 27 ┃ ┊  26  ┃ ┃ ┃  ┃ ┃    ┊  26  ┃ ┃    ┃       ┊\n",
      "    ┊   ┃   ┃   ┃ ┃ ┃ ┊   ┃  ┃    ┃ ┃ ┊   ┃   ┃   ┃  ┃    ┃ ┊   ┃  ┃ ┃ ┃  ┃ ┃    ┊   ┃  ┃ ┃    ┃       ┊\n",
      "0.16┊  25   ┃   ┃ ┃ ┃ ┊  25  ┃    ┃ ┃ ┊  25   ┃   ┃  ┃    ┃ ┊  25  ┃ ┃ ┃  ┃ ┃    ┊  25  ┃ ┃    ┃       ┊\n",
      "    ┊ ┏━┻┓  ┃   ┃ ┃ ┃ ┊ ┏━┻┓ ┃    ┃ ┃ ┊ ┏━┻┓  ┃   ┃  ┃    ┃ ┊ ┏━┻┓ ┃ ┃ ┃  ┃ ┃    ┊ ┏━┻┓ ┃ ┃    ┃       ┊\n",
      "0.16┊ ┃  ┃  ┃   ┃ ┃ ┃ ┊ ┃  ┃ ┃    ┃ ┃ ┊ ┃  ┃ 24   ┃  ┃    ┃ ┊ ┃  ┃ ┃ ┃ ┃  ┃ ┃    ┊ ┃  ┃ ┃ ┃    ┃       ┊\n",
      "    ┊ ┃  ┃  ┃   ┃ ┃ ┃ ┊ ┃  ┃ ┃    ┃ ┃ ┊ ┃  ┃  ┃   ┃  ┃    ┃ ┊ ┃  ┃ ┃ ┃ ┃  ┃ ┃    ┊ ┃  ┃ ┃ ┃    ┃       ┊\n",
      "0.16┊ 22 ┃  ┃   ┃ ┃ ┃ ┊ 22 ┃ ┃    ┃ ┃ ┊ 22 ┃ 23   ┃  ┃    ┃ ┊ 22 ┃ ┃ ┃ ┃  ┃ ┃    ┊ 22 ┃ ┃ ┃    ┃       ┊\n",
      "    ┊ ┃  ┃  ┃   ┃ ┃ ┃ ┊ ┃  ┃ ┃    ┃ ┃ ┊ ┃  ┃      ┃  ┃    ┃ ┊ ┃  ┃ ┃ ┃ ┃  ┃ ┃    ┊ ┃  ┃ ┃ ┃    ┃       ┊\n",
      "0.14┊ ┃  ┃ 21   ┃ ┃ ┃ ┊ ┃  ┃ ┃    ┃ ┃ ┊ ┃  ┃      ┃  ┃    ┃ ┊ ┃  ┃ ┃ ┃ ┃  ┃ ┃    ┊ ┃  ┃ ┃ ┃    ┃       ┊\n",
      "    ┊ ┃  ┃ ┏┻━┓ ┃ ┃ ┃ ┊ ┃  ┃ ┃    ┃ ┃ ┊ ┃  ┃      ┃  ┃    ┃ ┊ ┃  ┃ ┃ ┃ ┃  ┃ ┃    ┊ ┃  ┃ ┃ ┃    ┃       ┊\n",
      "0.10┊ ┃  ┃ ┃  ┃ ┃ ┃ ┃ ┊ ┃  ┃ ┃    ┃ ┃ ┊ ┃  ┃     20  ┃    ┃ ┊ ┃  ┃ ┃ ┃ ┃  ┃ ┃    ┊ ┃  ┃ ┃ ┃    ┃       ┊\n",
      "    ┊ ┃  ┃ ┃  ┃ ┃ ┃ ┃ ┊ ┃  ┃ ┃    ┃ ┃ ┊ ┃  ┃    ┏━┻┓ ┃    ┃ ┊ ┃  ┃ ┃ ┃ ┃  ┃ ┃    ┊ ┃  ┃ ┃ ┃    ┃       ┊\n",
      "0.08┊ ┃  ┃ ┃ 19 ┃ ┃ ┃ ┊ ┃  ┃ ┃    ┃ ┃ ┊ ┃  ┃    ┃  ┃ ┃    ┃ ┊ ┃  ┃ ┃ ┃ ┃  ┃ ┃    ┊ ┃  ┃ ┃ ┃    ┃       ┊\n",
      "    ┊ ┃  ┃ ┃  ┃ ┃ ┃ ┃ ┊ ┃  ┃ ┃    ┃ ┃ ┊ ┃  ┃    ┃  ┃ ┃    ┃ ┊ ┃  ┃ ┃ ┃ ┃  ┃ ┃    ┊ ┃  ┃ ┃ ┃    ┃       ┊\n",
      "0.08┊ 17 ┃ ┃ 18 ┃ ┃ ┃ ┊ 17 ┃ ┃    ┃ ┃ ┊ 17 ┃    ┃  ┃ ┃    ┃ ┊ 17 ┃ ┃ ┃ ┃  ┃ ┃    ┊ 17 ┃ ┃ ┃    ┃       ┊\n",
      "    ┊ ┃  ┃ ┃    ┃ ┃ ┃ ┊ ┃  ┃ ┃    ┃ ┃ ┊ ┃  ┃    ┃  ┃ ┃    ┃ ┊ ┃  ┃ ┃ ┃ ┃  ┃ ┃    ┊ ┃  ┃ ┃ ┃    ┃       ┊\n",
      "0.07┊ ┃  ┃ ┃    ┃ ┃ ┃ ┊ ┃  ┃ ┃    ┃ ┃ ┊ ┃  ┃    ┃ 16 ┃    ┃ ┊ ┃  ┃ ┃ ┃ ┃  ┃ ┃    ┊ ┃  ┃ ┃ ┃    ┃       ┊\n",
      "    ┊ ┃  ┃ ┃    ┃ ┃ ┃ ┊ ┃  ┃ ┃    ┃ ┃ ┊ ┃  ┃    ┃  ┃ ┃    ┃ ┊ ┃  ┃ ┃ ┃ ┃  ┃ ┃    ┊ ┃  ┃ ┃ ┃    ┃       ┊\n",
      "0.07┊ ┃  ┃ ┃    ┃ ┃14 ┊ ┃  ┃ ┃    ┃14 ┊ ┃  ┃    ┃ 15 ┃   14 ┊ ┃  ┃ ┃ ┃ ┃  ┃14    ┊ ┃  ┃ ┃ ┃   14       ┊\n",
      "    ┊ ┃  ┃ ┃    ┃ ┃ ┃ ┊ ┃  ┃ ┃    ┃ ┃ ┊ ┃  ┃    ┃    ┃    ┃ ┊ ┃  ┃ ┃ ┃ ┃  ┃ ┃    ┊ ┃  ┃ ┃ ┃    ┃       ┊\n",
      "0.04┊ ┃  ┃ ┃    ┃ ┃ ┃ ┊ ┃  ┃ ┃    ┃ ┃ ┊ ┃  ┃    ┃    ┃    ┃ ┊ ┃  ┃ ┃ ┃ ┃ 13 ┃    ┊ ┃  ┃ ┃ ┃    ┃       ┊\n",
      "    ┊ ┃  ┃ ┃    ┃ ┃ ┃ ┊ ┃  ┃ ┃    ┃ ┃ ┊ ┃  ┃    ┃    ┃    ┃ ┊ ┃  ┃ ┃ ┃ ┃  ┃ ┃    ┊ ┃  ┃ ┃ ┃    ┃       ┊\n",
      "0.04┊ ┃  ┃ ┃    ┃ ┃ ┃ ┊ ┃  ┃ ┃    ┃ ┃ ┊ ┃  ┃    ┃    ┃    ┃ ┊ ┃  ┃11 ┃ ┃ 12 ┃    ┊ ┃  ┃ ┃ ┃    ┃       ┊\n",
      "    ┊ ┃  ┃ ┃    ┃ ┃ ┃ ┊ ┃  ┃ ┃    ┃ ┃ ┊ ┃  ┃    ┃    ┃    ┃ ┊ ┃  ┃ ┃ ┃ ┃    ┃    ┊ ┃  ┃ ┃ ┃    ┃       ┊\n",
      "0.02┊ ┃  ┃10    ┃ ┃ ┃ ┊ ┃  ┃ ┃    ┃ ┃ ┊ ┃  ┃    ┃    ┃    ┃ ┊ ┃  ┃ ┃ ┃ ┃    ┃    ┊ ┃  ┃ ┃ ┃    ┃       ┊\n",
      "    ┊ ┃  ┃ ┃    ┃ ┃ ┃ ┊ ┃  ┃ ┃    ┃ ┃ ┊ ┃  ┃    ┃    ┃    ┃ ┊ ┃  ┃ ┃ ┃ ┃    ┃    ┊ ┃  ┃ ┃ ┃    ┃       ┊\n",
      "0.02┊ 8  ┃ 9    ┃ ┃ ┃ ┊ 8  ┃ ┃    ┃ ┃ ┊ 8  ┃    ┃    ┃    ┃ ┊ 8  ┃ ┃ ┃ ┃    ┃    ┊ 8  ┃ ┃ ┃    ┃       ┊\n",
      "    ┊ ┃  ┃      ┃ ┃ ┃ ┊ ┃  ┃ ┃    ┃ ┃ ┊ ┃  ┃    ┃    ┃    ┃ ┊ ┃  ┃ ┃ ┃ ┃    ┃    ┊ ┃  ┃ ┃ ┃    ┃       ┊\n",
      "0.02┊ ┃  ┃      ┃ ┃ ┃ ┊ ┃  ┃ ┃    ┃ ┃ ┊ ┃  ┃    ┃    ┃    ┃ ┊ ┃  ┃ 7 ┃ ┃    ┃    ┊ ┃  ┃ ┃ ┃    ┃       ┊\n",
      "    ┊ ┃  ┃      ┃ ┃ ┃ ┊ ┃  ┃ ┃    ┃ ┃ ┊ ┃  ┃    ┃    ┃    ┃ ┊ ┃  ┃ ┃ ┃ ┃    ┃    ┊ ┃  ┃ ┃ ┃    ┃       ┊\n",
      "0.02┊ ┃  ┃      5 ┃ ┃ ┊ ┃  ┃ 5    ┃ ┃ ┊ ┃  ┃    5    ┃    ┃ ┊ ┃  ┃ 6 5 ┃    ┃    ┊ ┃  ┃ 5 ┃    ┃       ┊\n",
      "    ┊ ┃  ┃      ┃ ┃ ┃ ┊ ┃  ┃ ┃    ┃ ┃ ┊ ┃  ┃    ┃    ┃    ┃ ┊ ┃  ┃   ┃ ┃    ┃    ┊ ┃  ┃ ┃ ┃    ┃       ┊\n",
      "0.00┊ 0  3      4 1 2 ┊ 0  3 4    1 2 ┊ 0  3    4    1    2 ┊ 0  3   4 1    2    ┊ 0  3 4 1    2       ┊\n",
      "    0                 1               2                     3                    4                     5\n",
      "\n"
     ]
    },
    {
     "data": {
      "image/svg+xml": [
       "<svg baseProfile=\"full\" height=\"200\" version=\"1.1\" width=\"1000\" xmlns=\"http://www.w3.org/2000/svg\" xmlns:ev=\"http://www.w3.org/2001/xml-events\" xmlns:xlink=\"http://www.w3.org/1999/xlink\"><defs><style type=\"text/css\"><![CDATA[.background path {fill: #808080; fill-opacity: 0}.background path:nth-child(odd) {fill-opacity: .1}.x-regions rect {fill: yellow; stroke: black; opacity: 0.5}.axes {font-size: 14px}.x-axis .tick .lab {font-weight: bold; dominant-baseline: hanging}.axes, .tree {font-size: 14px; text-anchor: middle}.axes line, .edge {stroke: black; fill: none}.axes .ax-skip {stroke-dasharray: 4}.y-axis .grid {stroke: #FAFAFA}.node > .sym {fill: black; stroke: none}.site > .sym {stroke: black}.mut text {fill: red; font-style: italic}.mut.extra text {fill: hotpink}.mut line {fill: none; stroke: none}.mut .sym {fill: none; stroke: red}.mut.extra .sym {stroke: hotpink}.node .mut .sym {stroke-width: 1.5px}.tree text, .tree-sequence text {dominant-baseline: central}.plotbox .lab.lft {text-anchor: end}.plotbox .lab.rgt {text-anchor: start}.polytomy line {stroke: black; stroke-dasharray: 1px, 1px}.polytomy text {paint-order:stroke;stroke-width:0.3em;stroke:white}]]></style></defs><g class=\"tree-sequence\"><g class=\"background\"><path d=\"M20,0 l192,0 l0,138.2 l0,25 l0,5 l-192,0 l0,-5 l0,-25 l0,-138.2z\" /><path d=\"M212,0 l192,0 l0,138.2 l0,25 l0,5 l-192,0 l0,-5 l0,-25 l0,-138.2z\" /><path d=\"M404,0 l192,0 l0,138.2 l0,25 l0,5 l-192,0 l0,-5 l0,-25 l0,-138.2z\" /><path d=\"M596,0 l192,0 l0,138.2 l0,25 l0,5 l-192,0 l0,-5 l0,-25 l0,-138.2z\" /><path d=\"M788,0 l192,0 l0,138.2 l0,25 l0,5 l-192,0 l0,-5 l0,-25 l0,-138.2z\" /></g><g class=\"axes\"><g class=\"x-axis\"><g class=\"title\" transform=\"translate(500 200)\"><text class=\"lab\" text-anchor=\"middle\" transform=\"translate(0 -11)\">Genome position</text></g><line class=\"ax-line\" x1=\"20\" x2=\"980\" y1=\"163.2\" y2=\"163.2\" /><g class=\"ticks\"><g class=\"tick\" transform=\"translate(20 163.2)\"><line x1=\"0\" x2=\"0\" y1=\"0\" y2=\"5\" /><g transform=\"translate(0 6)\"><text class=\"lab\">0</text></g></g><g class=\"tick\" transform=\"translate(212 163.2)\"><line x1=\"0\" x2=\"0\" y1=\"0\" y2=\"5\" /><g transform=\"translate(0 6)\"><text class=\"lab\">1</text></g></g><g class=\"tick\" transform=\"translate(404 163.2)\"><line x1=\"0\" x2=\"0\" y1=\"0\" y2=\"5\" /><g transform=\"translate(0 6)\"><text class=\"lab\">2</text></g></g><g class=\"tick\" transform=\"translate(596 163.2)\"><line x1=\"0\" x2=\"0\" y1=\"0\" y2=\"5\" /><g transform=\"translate(0 6)\"><text class=\"lab\">3</text></g></g><g class=\"tick\" transform=\"translate(788 163.2)\"><line x1=\"0\" x2=\"0\" y1=\"0\" y2=\"5\" /><g transform=\"translate(0 6)\"><text class=\"lab\">4</text></g></g><g class=\"tick\" transform=\"translate(980 163.2)\"><line x1=\"0\" x2=\"0\" y1=\"0\" y2=\"5\" /><g transform=\"translate(0 6)\"><text class=\"lab\">5</text></g></g></g><g class=\"site s0\" transform=\"translate(20 163.2)\"><line class=\"sym\" x1=\"0\" x2=\"0\" y1=\"0\" y2=\"-10\" /><g class=\"mut m5\"><polyline class=\"sym\" points=\"2.5,-6.5 0,-1.5 -2.5,-6.5\" /></g><g class=\"mut m4\"><polyline class=\"sym\" points=\"2.5,-10.5 0,-5.5 -2.5,-10.5\" /></g><g class=\"mut m3\"><polyline class=\"sym\" points=\"2.5,-14.5 0,-9.5 -2.5,-14.5\" /></g><g class=\"mut m2\"><polyline class=\"sym\" points=\"2.5,-18.5 0,-13.5 -2.5,-18.5\" /></g><g class=\"mut m1\"><polyline class=\"sym\" points=\"2.5,-22.5 0,-17.5 -2.5,-22.5\" /></g><g class=\"mut m0\"><polyline class=\"sym\" points=\"2.5,-26.5 0,-21.5 -2.5,-26.5\" /></g></g><g class=\"site s1\" transform=\"translate(212 163.2)\"><line class=\"sym\" x1=\"0\" x2=\"0\" y1=\"0\" y2=\"-10\" /><g class=\"mut m11\"><polyline class=\"sym\" points=\"2.5,-6.5 0,-1.5 -2.5,-6.5\" /></g><g class=\"mut m10\"><polyline class=\"sym\" points=\"2.5,-10.5 0,-5.5 -2.5,-10.5\" /></g><g class=\"mut m9\"><polyline class=\"sym\" points=\"2.5,-14.5 0,-9.5 -2.5,-14.5\" /></g><g class=\"mut m8\"><polyline class=\"sym\" points=\"2.5,-18.5 0,-13.5 -2.5,-18.5\" /></g><g class=\"mut m7\"><polyline class=\"sym\" points=\"2.5,-22.5 0,-17.5 -2.5,-22.5\" /></g><g class=\"mut m6\"><polyline class=\"sym\" points=\"2.5,-26.5 0,-21.5 -2.5,-26.5\" /></g></g><g class=\"site s2\" transform=\"translate(404 163.2)\"><line class=\"sym\" x1=\"0\" x2=\"0\" y1=\"0\" y2=\"-10\" /><g class=\"mut m17\"><polyline class=\"sym\" points=\"2.5,-6.5 0,-1.5 -2.5,-6.5\" /></g><g class=\"mut m16\"><polyline class=\"sym\" points=\"2.5,-10.5 0,-5.5 -2.5,-10.5\" /></g><g class=\"mut m15\"><polyline class=\"sym\" points=\"2.5,-14.5 0,-9.5 -2.5,-14.5\" /></g><g class=\"mut m14\"><polyline class=\"sym\" points=\"2.5,-18.5 0,-13.5 -2.5,-18.5\" /></g><g class=\"mut m13\"><polyline class=\"sym\" points=\"2.5,-22.5 0,-17.5 -2.5,-22.5\" /></g><g class=\"mut m12\"><polyline class=\"sym\" points=\"2.5,-26.5 0,-21.5 -2.5,-26.5\" /></g></g><g class=\"site s3\" transform=\"translate(596 163.2)\"><line class=\"sym\" x1=\"0\" x2=\"0\" y1=\"0\" y2=\"-10\" /><g class=\"mut m23\"><polyline class=\"sym\" points=\"2.5,-6.5 0,-1.5 -2.5,-6.5\" /></g><g class=\"mut m22\"><polyline class=\"sym\" points=\"2.5,-10.5 0,-5.5 -2.5,-10.5\" /></g><g class=\"mut m21\"><polyline class=\"sym\" points=\"2.5,-14.5 0,-9.5 -2.5,-14.5\" /></g><g class=\"mut m20\"><polyline class=\"sym\" points=\"2.5,-18.5 0,-13.5 -2.5,-18.5\" /></g><g class=\"mut m19\"><polyline class=\"sym\" points=\"2.5,-22.5 0,-17.5 -2.5,-22.5\" /></g><g class=\"mut m18\"><polyline class=\"sym\" points=\"2.5,-26.5 0,-21.5 -2.5,-26.5\" /></g></g><g class=\"site s4\" transform=\"translate(788 163.2)\"><line class=\"sym\" x1=\"0\" x2=\"0\" y1=\"0\" y2=\"-10\" /><g class=\"mut m29\"><polyline class=\"sym\" points=\"2.5,-6.5 0,-1.5 -2.5,-6.5\" /></g><g class=\"mut m28\"><polyline class=\"sym\" points=\"2.5,-10.5 0,-5.5 -2.5,-10.5\" /></g><g class=\"mut m27\"><polyline class=\"sym\" points=\"2.5,-14.5 0,-9.5 -2.5,-14.5\" /></g><g class=\"mut m26\"><polyline class=\"sym\" points=\"2.5,-18.5 0,-13.5 -2.5,-18.5\" /></g><g class=\"mut m25\"><polyline class=\"sym\" points=\"2.5,-22.5 0,-17.5 -2.5,-22.5\" /></g><g class=\"mut m24\"><polyline class=\"sym\" points=\"2.5,-26.5 0,-21.5 -2.5,-26.5\" /></g></g></g></g><g class=\"plotbox trees\"><g class=\"tree t0\" transform=\"translate(20 0)\"><g class=\"plotbox\"><g class=\"c2 node n53 p0 root\" transform=\"translate(120.429 42.2958)\"><g class=\"a53 c1 node n41 p0\" transform=\"translate(29.8571 36.1445)\"><g class=\"a41 c1 node n38 p0\" transform=\"translate(0.0 4.79875)\"><g class=\"a38 c2 node n37 p0\" transform=\"translate(0.0 4.68389)\"><g class=\"a37 leaf m2 node n1 p0 s0 sample\" transform=\"translate(-10.8571 33.4771)\"><path class=\"edge\" d=\"M 0 0 V -33.4771 H 10.8571\" /><g class=\"mut m2 s0\" transform=\"translate(0 -8.35442e-10)\"><line x1=\"0\" x2=\"0\" y1=\"0\" y2=\"8.35442e-10\" /><path class=\"sym\" d=\"M -3,-3 l 6,6 M -3,3 l 6,-6\" /><text class=\"lab lft\" transform=\"translate(-5 0)\">2</text></g><rect class=\"sym\" height=\"6\" width=\"6\" x=\"-3\" y=\"-3\" /><text class=\"lab\" transform=\"translate(0 11)\">1</text></g><g class=\"a37 c1 node n30 p0\" transform=\"translate(10.8571 9.49879)\"><g class=\"a30 c1 node n14 p0\" transform=\"translate(0.0 18.2275)\"><g class=\"a14 leaf m3 node n2 p0 s0 sample\" transform=\"translate(0.0 5.75082)\"><path class=\"edge\" d=\"M 0 0 V -5.75082 H 0.0\" /><g class=\"mut m3 s0\" transform=\"translate(0 -8.35442e-10)\"><line x1=\"0\" x2=\"0\" y1=\"0\" y2=\"8.35442e-10\" /><path class=\"sym\" d=\"M -3,-3 l 6,6 M -3,3 l 6,-6\" /><text class=\"lab lft\" transform=\"translate(-5 0)\">3</text></g><rect class=\"sym\" height=\"6\" width=\"6\" x=\"-3\" y=\"-3\" /><text class=\"lab\" transform=\"translate(0 11)\">2</text></g><path class=\"edge\" d=\"M 0 0 V -18.2275 H 0.0\" /><circle class=\"sym\" cx=\"0\" cy=\"0\" r=\"3\" /><text class=\"lab lft\" transform=\"translate(-3 -7)\">14</text></g><path class=\"edge\" d=\"M 0 0 V -9.49879 H -10.8571\" /><circle class=\"sym\" cx=\"0\" cy=\"0\" r=\"3\" /><text class=\"lab rgt\" transform=\"translate(3 -7)\">30</text></g><path class=\"edge\" d=\"M 0 0 V -4.68389 H 0.0\" /><circle class=\"sym\" cx=\"0\" cy=\"0\" r=\"3\" /><text class=\"lab lft\" transform=\"translate(-3 -7)\">37</text></g><path class=\"edge\" d=\"M 0 0 V -4.79875 H 0.0\" /><circle class=\"sym\" cx=\"0\" cy=\"0\" r=\"3\" /><text class=\"lab lft\" transform=\"translate(-3 -7)\">38</text></g><path class=\"edge\" d=\"M 0 0 V -36.1445 H -29.8571\" /><circle class=\"sym\" cx=\"0\" cy=\"0\" r=\"3\" /><text class=\"lab rgt\" transform=\"translate(3 -7)\">41</text></g><g class=\"a53 c1 node n50 p0\" transform=\"translate(-29.8571 1.81874)\"><g class=\"a50 c1 node n45 p0\" transform=\"translate(0.0 24.9237)\"><g class=\"a45 c2 node n44 p0\" transform=\"translate(0.0 3.07195)\"><g class=\"a44 c1 node n5 p0\" transform=\"translate(27.1429 48.0024)\"><g class=\"a5 leaf m5 node n4 p0 s0 sample\" transform=\"translate(0.0 1.28742)\"><path class=\"edge\" d=\"M 0 0 V -1.28742 H 0.0\" /><g class=\"mut m5 s0\" transform=\"translate(0 -8.35442e-10)\"><line x1=\"0\" x2=\"0\" y1=\"0\" y2=\"8.35442e-10\" /><path class=\"sym\" d=\"M -3,-3 l 6,6 M -3,3 l 6,-6\" /><text class=\"lab lft\" transform=\"translate(-5 0)\">5</text></g><rect class=\"sym\" height=\"6\" width=\"6\" x=\"-3\" y=\"-3\" /><text class=\"lab\" transform=\"translate(0 11)\">4</text></g><path class=\"edge\" d=\"M 0 0 V -48.0024 H -27.1429\" /><circle class=\"sym\" cx=\"0\" cy=\"0\" r=\"3\" /><text class=\"lab rgt\" transform=\"translate(3 -7)\">5</text></g><g class=\"a44 c2 m0 node n33 p0 s0\" transform=\"translate(-27.1429 25.0228)\"><g class=\"a33 c2 node n21 p0\" transform=\"translate(21.7143 12.2767)\"><g class=\"a21 c1 node n10 p0\" transform=\"translate(-10.8571 10.3349)\"><g class=\"a10 leaf node n9 p0\" transform=\"translate(0.0 8.35444e-06)\"><path class=\"edge\" d=\"M 0 0 V -8.35444e-06 H 0.0\" /><circle class=\"sym\" cx=\"0\" cy=\"0\" r=\"3\" /><text class=\"lab\" transform=\"translate(0 11)\">9</text></g><path class=\"edge\" d=\"M 0 0 V -10.3349 H 10.8571\" /><circle class=\"sym\" cx=\"0\" cy=\"0\" r=\"3\" /><text class=\"lab lft\" transform=\"translate(-3 -7)\">10</text></g><g class=\"a21 c1 node n19 p0\" transform=\"translate(10.8571 5.48563)\"><g class=\"a19 leaf node n18 p0\" transform=\"translate(0.0 8.35444e-06)\"><path class=\"edge\" d=\"M 0 0 V -8.35444e-06 H 0.0\" /><circle class=\"sym\" cx=\"0\" cy=\"0\" r=\"3\" /><text class=\"lab\" transform=\"translate(0 11)\">18</text></g><path class=\"edge\" d=\"M 0 0 V -5.48563 H -10.8571\" /><circle class=\"sym\" cx=\"0\" cy=\"0\" r=\"3\" /><text class=\"lab rgt\" transform=\"translate(3 -7)\">19</text></g><path class=\"edge\" d=\"M 0 0 V -12.2767 H -21.7143\" /><circle class=\"sym\" cx=\"0\" cy=\"0\" r=\"3\" /><text class=\"lab rgt\" transform=\"translate(3 -7)\">21</text></g><g class=\"a33 c1 node n26 p0\" transform=\"translate(-21.7143 9.3567)\"><g class=\"a26 c2 node n25 p0\" transform=\"translate(0.0 1.33799)\"><g class=\"a25 leaf m4 node n3 p0 s0 sample\" transform=\"translate(10.8571 13.5724)\"><path class=\"edge\" d=\"M 0 0 V -13.5724 H -10.8571\" /><g class=\"mut m4 s0\" transform=\"translate(0 -8.35442e-10)\"><line x1=\"0\" x2=\"0\" y1=\"0\" y2=\"8.35442e-10\" /><path class=\"sym\" d=\"M -3,-3 l 6,6 M -3,3 l 6,-6\" /><text class=\"lab rgt\" transform=\"translate(5 0)\">4</text></g><rect class=\"sym\" height=\"6\" width=\"6\" x=\"-3\" y=\"-3\" /><text class=\"lab\" transform=\"translate(0 11)\">3</text></g><g class=\"a25 c1 node n22 p0\" transform=\"translate(-10.8571 0.603786)\"><g class=\"a22 c1 node n17 p0\" transform=\"translate(0.0 6.46384)\"><g class=\"a17 c1 node n8 p0\" transform=\"translate(0.0 4.84927)\"><g class=\"a8 leaf m1 node n0 p0 s0 sample\" transform=\"translate(0.0 1.65546)\"><path class=\"edge\" d=\"M 0 0 V -1.65546 H 0.0\" /><g class=\"mut m1 s0\" transform=\"translate(0 -8.35442e-10)\"><line x1=\"0\" x2=\"0\" y1=\"0\" y2=\"8.35442e-10\" /><path class=\"sym\" d=\"M -3,-3 l 6,6 M -3,3 l 6,-6\" /><text class=\"lab lft\" transform=\"translate(-5 0)\">1</text></g><rect class=\"sym\" height=\"6\" width=\"6\" x=\"-3\" y=\"-3\" /><text class=\"lab\" transform=\"translate(0 11)\">0</text></g><path class=\"edge\" d=\"M 0 0 V -4.84927 H 0.0\" /><circle class=\"sym\" cx=\"0\" cy=\"0\" r=\"3\" /><text class=\"lab lft\" transform=\"translate(-3 -7)\">8</text></g><path class=\"edge\" d=\"M 0 0 V -6.46384 H 0.0\" /><circle class=\"sym\" cx=\"0\" cy=\"0\" r=\"3\" /><text class=\"lab lft\" transform=\"translate(-3 -7)\">17</text></g><path class=\"edge\" d=\"M 0 0 V -0.603786 H 10.8571\" /><circle class=\"sym\" cx=\"0\" cy=\"0\" r=\"3\" /><text class=\"lab lft\" transform=\"translate(-3 -7)\">22</text></g><path class=\"edge\" d=\"M 0 0 V -1.33799 H 0.0\" /><circle class=\"sym\" cx=\"0\" cy=\"0\" r=\"3\" /><text class=\"lab lft\" transform=\"translate(-3 -7)\">25</text></g><path class=\"edge\" d=\"M 0 0 V -9.3567 H 21.7143\" /><circle class=\"sym\" cx=\"0\" cy=\"0\" r=\"3\" /><text class=\"lab lft\" transform=\"translate(-3 -7)\">26</text></g><path class=\"edge\" d=\"M 0 0 V -25.0228 H 27.1429\" /><g class=\"mut m0 s0\" transform=\"translate(0 -16.4004)\"><line x1=\"0\" x2=\"0\" y1=\"0\" y2=\"16.4004\" /><path class=\"sym\" d=\"M -3,-3 l 6,6 M -3,3 l 6,-6\" /><text class=\"lab lft\" transform=\"translate(-5 0)\">0</text></g><circle class=\"sym\" cx=\"0\" cy=\"0\" r=\"3\" /><text class=\"lab lft\" transform=\"translate(-3 -7)\">33</text></g><path class=\"edge\" d=\"M 0 0 V -3.07195 H 0.0\" /><circle class=\"sym\" cx=\"0\" cy=\"0\" r=\"3\" /><text class=\"lab lft\" transform=\"translate(-3 -7)\">44</text></g><path class=\"edge\" d=\"M 0 0 V -24.9237 H 0.0\" /><circle class=\"sym\" cx=\"0\" cy=\"0\" r=\"3\" /><text class=\"lab lft\" transform=\"translate(-3 -7)\">45</text></g><path class=\"edge\" d=\"M 0 0 V -1.81874 H 29.8571\" /><circle class=\"sym\" cx=\"0\" cy=\"0\" r=\"3\" /><text class=\"lab lft\" transform=\"translate(-3 -7)\">50</text></g><circle class=\"sym\" cx=\"0\" cy=\"0\" r=\"3\" /><text class=\"lab\" transform=\"translate(0 -11)\">53</text></g></g></g><g class=\"tree t1\" transform=\"translate(212 0)\"><g class=\"plotbox\"><g class=\"c2 node n53 p0 root\" transform=\"translate(116.583 42.2958)\"><g class=\"a53 c1 node n41 p0\" transform=\"translate(30.0833 36.1445)\"><g class=\"a41 c1 node n38 p0\" transform=\"translate(0.0 4.79875)\"><g class=\"a38 c2 node n37 p0\" transform=\"translate(0.0 4.68389)\"><g class=\"a37 leaf m8 node n1 p0 s1 sample\" transform=\"translate(-12.6667 33.4771)\"><path class=\"edge\" d=\"M 0 0 V -33.4771 H 12.6667\" /><g class=\"mut m8 s1\" transform=\"translate(0 -8.35442e-10)\"><line x1=\"0\" x2=\"0\" y1=\"0\" y2=\"8.35442e-10\" /><path class=\"sym\" d=\"M -3,-3 l 6,6 M -3,3 l 6,-6\" /><text class=\"lab lft\" transform=\"translate(-5 0)\">8</text></g><rect class=\"sym\" height=\"6\" width=\"6\" x=\"-3\" y=\"-3\" /><text class=\"lab\" transform=\"translate(0 11)\">1</text></g><g class=\"a37 c1 node n30 p0\" transform=\"translate(12.6667 9.49879)\"><g class=\"a30 c1 node n14 p0\" transform=\"translate(0.0 18.2275)\"><g class=\"a14 leaf m9 node n2 p0 s1 sample\" transform=\"translate(0.0 5.75082)\"><path class=\"edge\" d=\"M 0 0 V -5.75082 H 0.0\" /><g class=\"mut m9 s1\" transform=\"translate(0 -8.35442e-10)\"><line x1=\"0\" x2=\"0\" y1=\"0\" y2=\"8.35442e-10\" /><path class=\"sym\" d=\"M -3,-3 l 6,6 M -3,3 l 6,-6\" /><text class=\"lab lft\" transform=\"translate(-5 0)\">9</text></g><rect class=\"sym\" height=\"6\" width=\"6\" x=\"-3\" y=\"-3\" /><text class=\"lab\" transform=\"translate(0 11)\">2</text></g><path class=\"edge\" d=\"M 0 0 V -18.2275 H 0.0\" /><circle class=\"sym\" cx=\"0\" cy=\"0\" r=\"3\" /><text class=\"lab lft\" transform=\"translate(-3 -7)\">14</text></g><path class=\"edge\" d=\"M 0 0 V -9.49879 H -12.6667\" /><circle class=\"sym\" cx=\"0\" cy=\"0\" r=\"3\" /><text class=\"lab rgt\" transform=\"translate(3 -7)\">30</text></g><path class=\"edge\" d=\"M 0 0 V -4.68389 H 0.0\" /><circle class=\"sym\" cx=\"0\" cy=\"0\" r=\"3\" /><text class=\"lab lft\" transform=\"translate(-3 -7)\">37</text></g><path class=\"edge\" d=\"M 0 0 V -4.79875 H 0.0\" /><circle class=\"sym\" cx=\"0\" cy=\"0\" r=\"3\" /><text class=\"lab lft\" transform=\"translate(-3 -7)\">38</text></g><path class=\"edge\" d=\"M 0 0 V -36.1445 H -30.0833\" /><circle class=\"sym\" cx=\"0\" cy=\"0\" r=\"3\" /><text class=\"lab rgt\" transform=\"translate(3 -7)\">41</text></g><g class=\"a53 c1 node n50 p0\" transform=\"translate(-30.0833 1.81874)\"><g class=\"a50 c2 node n49 p0\" transform=\"translate(0.0 4.04356)\"><g class=\"a49 c1 node n43 p0\" transform=\"translate(22.1667 30.2822)\"><g class=\"a43 leaf node n42 p0\" transform=\"translate(0.0 8.35444e-06)\"><path class=\"edge\" d=\"M 0 0 V -8.35444e-06 H 0.0\" /><circle class=\"sym\" cx=\"0\" cy=\"0\" r=\"3\" /><text class=\"lab\" transform=\"translate(0 11)\">42</text></g><path class=\"edge\" d=\"M 0 0 V -30.2822 H -22.1667\" /><circle class=\"sym\" cx=\"0\" cy=\"0\" r=\"3\" /><text class=\"lab rgt\" transform=\"translate(3 -7)\">43</text></g><g class=\"a49 c1 node n45 p0\" transform=\"translate(-22.1667 20.8801)\"><g class=\"a45 c2 node n44 p0\" transform=\"translate(0.0 3.07195)\"><g class=\"a44 c1 m6 node n5 p0 s1\" transform=\"translate(19 48.0024)\"><g class=\"a5 leaf m11 node n4 p0 s1 sample\" transform=\"translate(0.0 1.28742)\"><path class=\"edge\" d=\"M 0 0 V -1.28742 H 0.0\" /><g class=\"mut m11 s1\" transform=\"translate(0 -8.35442e-10)\"><line x1=\"0\" x2=\"0\" y1=\"0\" y2=\"8.35442e-10\" /><path class=\"sym\" d=\"M -3,-3 l 6,6 M -3,3 l 6,-6\" /><text class=\"lab lft\" transform=\"translate(-5 0)\">11</text></g><rect class=\"sym\" height=\"6\" width=\"6\" x=\"-3\" y=\"-3\" /><text class=\"lab\" transform=\"translate(0 11)\">4</text></g><path class=\"edge\" d=\"M 0 0 V -48.0024 H -19\" /><g class=\"mut m6 s1\" transform=\"translate(0 -21.7266)\"><line x1=\"0\" x2=\"0\" y1=\"0\" y2=\"21.7266\" /><path class=\"sym\" d=\"M -3,-3 l 6,6 M -3,3 l 6,-6\" /><text class=\"lab rgt\" transform=\"translate(5 0)\">6</text></g><circle class=\"sym\" cx=\"0\" cy=\"0\" r=\"3\" /><text class=\"lab rgt\" transform=\"translate(3 -7)\">5</text></g><g class=\"a44 c1 node n26 p0\" transform=\"translate(-19 34.3795)\"><g class=\"a26 c2 node n25 p0\" transform=\"translate(0.0 1.33799)\"><g class=\"a25 leaf m10 node n3 p0 s1 sample\" transform=\"translate(12.6667 13.5724)\"><path class=\"edge\" d=\"M 0 0 V -13.5724 H -12.6667\" /><g class=\"mut m10 s1\" transform=\"translate(0 -8.35442e-10)\"><line x1=\"0\" x2=\"0\" y1=\"0\" y2=\"8.35442e-10\" /><path class=\"sym\" d=\"M -3,-3 l 6,6 M -3,3 l 6,-6\" /><text class=\"lab rgt\" transform=\"translate(5 0)\">10</text></g><rect class=\"sym\" height=\"6\" width=\"6\" x=\"-3\" y=\"-3\" /><text class=\"lab\" transform=\"translate(0 11)\">3</text></g><g class=\"a25 c1 node n22 p0\" transform=\"translate(-12.6667 0.603786)\"><g class=\"a22 c1 node n17 p0\" transform=\"translate(0.0 6.46384)\"><g class=\"a17 c1 node n8 p0\" transform=\"translate(0.0 4.84927)\"><g class=\"a8 leaf m7 node n0 p0 s1 sample\" transform=\"translate(0.0 1.65546)\"><path class=\"edge\" d=\"M 0 0 V -1.65546 H 0.0\" /><g class=\"mut m7 s1\" transform=\"translate(0 -8.35442e-10)\"><line x1=\"0\" x2=\"0\" y1=\"0\" y2=\"8.35442e-10\" /><path class=\"sym\" d=\"M -3,-3 l 6,6 M -3,3 l 6,-6\" /><text class=\"lab lft\" transform=\"translate(-5 0)\">7</text></g><rect class=\"sym\" height=\"6\" width=\"6\" x=\"-3\" y=\"-3\" /><text class=\"lab\" transform=\"translate(0 11)\">0</text></g><path class=\"edge\" d=\"M 0 0 V -4.84927 H 0.0\" /><circle class=\"sym\" cx=\"0\" cy=\"0\" r=\"3\" /><text class=\"lab lft\" transform=\"translate(-3 -7)\">8</text></g><path class=\"edge\" d=\"M 0 0 V -6.46384 H 0.0\" /><circle class=\"sym\" cx=\"0\" cy=\"0\" r=\"3\" /><text class=\"lab lft\" transform=\"translate(-3 -7)\">17</text></g><path class=\"edge\" d=\"M 0 0 V -0.603786 H 12.6667\" /><circle class=\"sym\" cx=\"0\" cy=\"0\" r=\"3\" /><text class=\"lab lft\" transform=\"translate(-3 -7)\">22</text></g><path class=\"edge\" d=\"M 0 0 V -1.33799 H 0.0\" /><circle class=\"sym\" cx=\"0\" cy=\"0\" r=\"3\" /><text class=\"lab lft\" transform=\"translate(-3 -7)\">25</text></g><path class=\"edge\" d=\"M 0 0 V -34.3795 H 19\" /><circle class=\"sym\" cx=\"0\" cy=\"0\" r=\"3\" /><text class=\"lab lft\" transform=\"translate(-3 -7)\">26</text></g><path class=\"edge\" d=\"M 0 0 V -3.07195 H 0.0\" /><circle class=\"sym\" cx=\"0\" cy=\"0\" r=\"3\" /><text class=\"lab lft\" transform=\"translate(-3 -7)\">44</text></g><path class=\"edge\" d=\"M 0 0 V -20.8801 H 22.1667\" /><circle class=\"sym\" cx=\"0\" cy=\"0\" r=\"3\" /><text class=\"lab lft\" transform=\"translate(-3 -7)\">45</text></g><path class=\"edge\" d=\"M 0 0 V -4.04356 H 0.0\" /><circle class=\"sym\" cx=\"0\" cy=\"0\" r=\"3\" /><text class=\"lab lft\" transform=\"translate(-3 -7)\">49</text></g><path class=\"edge\" d=\"M 0 0 V -1.81874 H 30.0833\" /><circle class=\"sym\" cx=\"0\" cy=\"0\" r=\"3\" /><text class=\"lab lft\" transform=\"translate(-3 -7)\">50</text></g><circle class=\"sym\" cx=\"0\" cy=\"0\" r=\"3\" /><text class=\"lab\" transform=\"translate(0 -11)\">53</text></g></g></g><g class=\"tree t2\" transform=\"translate(404 0)\"><g class=\"plotbox\"><g class=\"c2 node n53 p0 root\" transform=\"translate(111.438 42.2958)\"><g class=\"a53 c1 node n41 p0\" transform=\"translate(36.8125 36.1445)\"><g class=\"a41 c1 node n38 p0\" transform=\"translate(0.0 4.79875)\"><g class=\"a38 c2 node n37 p0\" transform=\"translate(0.0 4.68389)\"><g class=\"a37 c1 node n30 p0\" transform=\"translate(14.25 9.49879)\"><g class=\"a30 c1 node n14 p0\" transform=\"translate(0.0 18.2275)\"><g class=\"a14 leaf m15 node n2 p0 s2 sample\" transform=\"translate(0.0 5.75082)\"><path class=\"edge\" d=\"M 0 0 V -5.75082 H 0.0\" /><g class=\"mut m15 s2\" transform=\"translate(0 -8.35442e-10)\"><line x1=\"0\" x2=\"0\" y1=\"0\" y2=\"8.35442e-10\" /><path class=\"sym\" d=\"M -3,-3 l 6,6 M -3,3 l 6,-6\" /><text class=\"lab lft\" transform=\"translate(-5 0)\">15</text></g><rect class=\"sym\" height=\"6\" width=\"6\" x=\"-3\" y=\"-3\" /><text class=\"lab\" transform=\"translate(0 11)\">2</text></g><path class=\"edge\" d=\"M 0 0 V -18.2275 H 0.0\" /><circle class=\"sym\" cx=\"0\" cy=\"0\" r=\"3\" /><text class=\"lab lft\" transform=\"translate(-3 -7)\">14</text></g><path class=\"edge\" d=\"M 0 0 V -9.49879 H -14.25\" /><circle class=\"sym\" cx=\"0\" cy=\"0\" r=\"3\" /><text class=\"lab rgt\" transform=\"translate(3 -7)\">30</text></g><g class=\"a37 c2 node n29 p0\" transform=\"translate(-14.25 17.0615)\"><g class=\"a29 leaf m14 node n1 p0 s2 sample\" transform=\"translate(-9.5 16.4156)\"><path class=\"edge\" d=\"M 0 0 V -16.4156 H 9.5\" /><g class=\"mut m14 s2\" transform=\"translate(0 -8.35442e-10)\"><line x1=\"0\" x2=\"0\" y1=\"0\" y2=\"8.35442e-10\" /><path class=\"sym\" d=\"M -3,-3 l 6,6 M -3,3 l 6,-6\" /><text class=\"lab lft\" transform=\"translate(-5 0)\">14</text></g><rect class=\"sym\" height=\"6\" width=\"6\" x=\"-3\" y=\"-3\" /><text class=\"lab\" transform=\"translate(0 11)\">1</text></g><g class=\"a29 c1 node n28 p0\" transform=\"translate(9.5 1.50522)\"><g class=\"a28 leaf node n27 p0\" transform=\"translate(0.0 8.35444e-06)\"><path class=\"edge\" d=\"M 0 0 V -8.35444e-06 H 0.0\" /><circle class=\"sym\" cx=\"0\" cy=\"0\" r=\"3\" /><text class=\"lab\" transform=\"translate(0 11)\">27</text></g><path class=\"edge\" d=\"M 0 0 V -1.50522 H -9.5\" /><circle class=\"sym\" cx=\"0\" cy=\"0\" r=\"3\" /><text class=\"lab rgt\" transform=\"translate(3 -7)\">28</text></g><path class=\"edge\" d=\"M 0 0 V -17.0615 H 14.25\" /><circle class=\"sym\" cx=\"0\" cy=\"0\" r=\"3\" /><text class=\"lab lft\" transform=\"translate(-3 -7)\">29</text></g><path class=\"edge\" d=\"M 0 0 V -4.68389 H 0.0\" /><circle class=\"sym\" cx=\"0\" cy=\"0\" r=\"3\" /><text class=\"lab lft\" transform=\"translate(-3 -7)\">37</text></g><path class=\"edge\" d=\"M 0 0 V -4.79875 H 0.0\" /><circle class=\"sym\" cx=\"0\" cy=\"0\" r=\"3\" /><text class=\"lab lft\" transform=\"translate(-3 -7)\">38</text></g><path class=\"edge\" d=\"M 0 0 V -36.1445 H -36.8125\" /><circle class=\"sym\" cx=\"0\" cy=\"0\" r=\"3\" /><text class=\"lab rgt\" transform=\"translate(3 -7)\">41</text></g><g class=\"a53 c1 node n50 p0\" transform=\"translate(-36.8125 1.81874)\"><g class=\"a50 c1 node n45 p0\" transform=\"translate(0.0 24.9237)\"><g class=\"a45 c2 node n44 p0\" transform=\"translate(0.0 3.07195)\"><g class=\"a44 c2 node n20 p0\" transform=\"translate(21.375 41.1304)\"><g class=\"a20 c1 node n5 p0\" transform=\"translate(-9.5 6.87201)\"><g class=\"a5 leaf m17 node n4 p0 s2 sample\" transform=\"translate(0.0 1.28742)\"><path class=\"edge\" d=\"M 0 0 V -1.28742 H 0.0\" /><g class=\"mut m17 s2\" transform=\"translate(0 -8.35442e-10)\"><line x1=\"0\" x2=\"0\" y1=\"0\" y2=\"8.35442e-10\" /><path class=\"sym\" d=\"M -3,-3 l 6,6 M -3,3 l 6,-6\" /><text class=\"lab lft\" transform=\"translate(-5 0)\">17</text></g><rect class=\"sym\" height=\"6\" width=\"6\" x=\"-3\" y=\"-3\" /><text class=\"lab\" transform=\"translate(0 11)\">4</text></g><path class=\"edge\" d=\"M 0 0 V -6.87201 H 9.5\" /><circle class=\"sym\" cx=\"0\" cy=\"0\" r=\"3\" /><text class=\"lab lft\" transform=\"translate(-3 -7)\">5</text></g><g class=\"a20 c1 node n16 p0\" transform=\"translate(9.5 2.4086)\"><g class=\"a16 leaf node n15 p0\" transform=\"translate(0.0 8.35444e-06)\"><path class=\"edge\" d=\"M 0 0 V -8.35444e-06 H 0.0\" /><circle class=\"sym\" cx=\"0\" cy=\"0\" r=\"3\" /><text class=\"lab\" transform=\"translate(0 11)\">15</text></g><path class=\"edge\" d=\"M 0 0 V -2.4086 H -9.5\" /><circle class=\"sym\" cx=\"0\" cy=\"0\" r=\"3\" /><text class=\"lab rgt\" transform=\"translate(3 -7)\">16</text></g><path class=\"edge\" d=\"M 0 0 V -41.1304 H -21.375\" /><circle class=\"sym\" cx=\"0\" cy=\"0\" r=\"3\" /><text class=\"lab rgt\" transform=\"translate(3 -7)\">20</text></g><g class=\"a44 c2 node n35 p0\" transform=\"translate(-21.375 24.0921)\"><g class=\"a35 c1 node n24 p0\" transform=\"translate(14.25 12.2291)\"><g class=\"a24 leaf node n23 p0\" transform=\"translate(0.0 8.35444e-06)\"><path class=\"edge\" d=\"M 0 0 V -8.35444e-06 H 0.0\" /><circle class=\"sym\" cx=\"0\" cy=\"0\" r=\"3\" /><text class=\"lab\" transform=\"translate(0 11)\">23</text></g><path class=\"edge\" d=\"M 0 0 V -12.2291 H -14.25\" /><circle class=\"sym\" cx=\"0\" cy=\"0\" r=\"3\" /><text class=\"lab rgt\" transform=\"translate(3 -7)\">24</text></g><g class=\"a35 c1 node n26 p0\" transform=\"translate(-14.25 10.2874)\"><g class=\"a26 c2 node n25 p0\" transform=\"translate(0.0 1.33799)\"><g class=\"a25 leaf m12 m16 node n3 p0 s2 sample\" transform=\"translate(9.5 13.5724)\"><path class=\"edge\" d=\"M 0 0 V -13.5724 H -9.5\" /><g class=\"mut m12 s2\" transform=\"translate(0 -13.2916)\"><line x1=\"0\" x2=\"0\" y1=\"0\" y2=\"13.2916\" /><path class=\"sym\" d=\"M -3,-3 l 6,6 M -3,3 l 6,-6\" /><text class=\"lab rgt\" transform=\"translate(5 0)\">12</text></g><g class=\"mut m16 s2\" transform=\"translate(0 -8.35442e-10)\"><line x1=\"0\" x2=\"0\" y1=\"0\" y2=\"8.35442e-10\" /><path class=\"sym\" d=\"M -3,-3 l 6,6 M -3,3 l 6,-6\" /><text class=\"lab rgt\" transform=\"translate(5 0)\">16</text></g><rect class=\"sym\" height=\"6\" width=\"6\" x=\"-3\" y=\"-3\" /><text class=\"lab\" transform=\"translate(0 11)\">3</text></g><g class=\"a25 c1 node n22 p0\" transform=\"translate(-9.5 0.603786)\"><g class=\"a22 c1 node n17 p0\" transform=\"translate(0.0 6.46384)\"><g class=\"a17 c1 node n8 p0\" transform=\"translate(0.0 4.84927)\"><g class=\"a8 leaf m13 node n0 p0 s2 sample\" transform=\"translate(0.0 1.65546)\"><path class=\"edge\" d=\"M 0 0 V -1.65546 H 0.0\" /><g class=\"mut m13 s2\" transform=\"translate(0 -8.35442e-10)\"><line x1=\"0\" x2=\"0\" y1=\"0\" y2=\"8.35442e-10\" /><path class=\"sym\" d=\"M -3,-3 l 6,6 M -3,3 l 6,-6\" /><text class=\"lab lft\" transform=\"translate(-5 0)\">13</text></g><rect class=\"sym\" height=\"6\" width=\"6\" x=\"-3\" y=\"-3\" /><text class=\"lab\" transform=\"translate(0 11)\">0</text></g><path class=\"edge\" d=\"M 0 0 V -4.84927 H 0.0\" /><circle class=\"sym\" cx=\"0\" cy=\"0\" r=\"3\" /><text class=\"lab lft\" transform=\"translate(-3 -7)\">8</text></g><path class=\"edge\" d=\"M 0 0 V -6.46384 H 0.0\" /><circle class=\"sym\" cx=\"0\" cy=\"0\" r=\"3\" /><text class=\"lab lft\" transform=\"translate(-3 -7)\">17</text></g><path class=\"edge\" d=\"M 0 0 V -0.603786 H 9.5\" /><circle class=\"sym\" cx=\"0\" cy=\"0\" r=\"3\" /><text class=\"lab lft\" transform=\"translate(-3 -7)\">22</text></g><path class=\"edge\" d=\"M 0 0 V -1.33799 H 0.0\" /><circle class=\"sym\" cx=\"0\" cy=\"0\" r=\"3\" /><text class=\"lab lft\" transform=\"translate(-3 -7)\">25</text></g><path class=\"edge\" d=\"M 0 0 V -10.2874 H 14.25\" /><circle class=\"sym\" cx=\"0\" cy=\"0\" r=\"3\" /><text class=\"lab lft\" transform=\"translate(-3 -7)\">26</text></g><path class=\"edge\" d=\"M 0 0 V -24.0921 H 21.375\" /><circle class=\"sym\" cx=\"0\" cy=\"0\" r=\"3\" /><text class=\"lab lft\" transform=\"translate(-3 -7)\">35</text></g><path class=\"edge\" d=\"M 0 0 V -3.07195 H 0.0\" /><circle class=\"sym\" cx=\"0\" cy=\"0\" r=\"3\" /><text class=\"lab lft\" transform=\"translate(-3 -7)\">44</text></g><path class=\"edge\" d=\"M 0 0 V -24.9237 H 0.0\" /><circle class=\"sym\" cx=\"0\" cy=\"0\" r=\"3\" /><text class=\"lab lft\" transform=\"translate(-3 -7)\">45</text></g><path class=\"edge\" d=\"M 0 0 V -1.81874 H 36.8125\" /><circle class=\"sym\" cx=\"0\" cy=\"0\" r=\"3\" /><text class=\"lab lft\" transform=\"translate(-3 -7)\">50</text></g><circle class=\"sym\" cx=\"0\" cy=\"0\" r=\"3\" /><text class=\"lab\" transform=\"translate(0 -11)\">53</text></g></g></g><g class=\"tree t3\" transform=\"translate(596 0)\"><g class=\"plotbox\"><g class=\"c2 node n54 p0 root\" transform=\"translate(131.031 26.8)\"><g class=\"a54 c1 node n52 p0\" transform=\"translate(31.4688 17.3145)\"><g class=\"a52 leaf node n51 p0\" transform=\"translate(0.0 8.35444e-06)\"><path class=\"edge\" d=\"M 0 0 V -8.35444e-06 H 0.0\" /><circle class=\"sym\" cx=\"0\" cy=\"0\" r=\"3\" /><text class=\"lab\" transform=\"translate(0 11)\">51</text></g><path class=\"edge\" d=\"M 0 0 V -17.3145 H -31.4688\" /><circle class=\"sym\" cx=\"0\" cy=\"0\" r=\"3\" /><text class=\"lab rgt\" transform=\"translate(3 -7)\">52</text></g><g class=\"a54 c2 node n53 p0\" transform=\"translate(-31.4688 15.4958)\"><g class=\"a53 c1 node n41 p0\" transform=\"translate(29.6875 36.1445)\"><g class=\"a41 c1 node n38 p0\" transform=\"translate(0.0 4.79875)\"><g class=\"a38 c2 node n37 p0\" transform=\"translate(0.0 4.68389)\"><g class=\"a37 c1 node n30 p0\" transform=\"translate(14.25 9.49879)\"><g class=\"a30 c1 node n14 p0\" transform=\"translate(0.0 18.2275)\"><g class=\"a14 leaf m21 node n2 p0 s3 sample\" transform=\"translate(0.0 5.75082)\"><path class=\"edge\" d=\"M 0 0 V -5.75082 H 0.0\" /><g class=\"mut m21 s3\" transform=\"translate(0 -8.35442e-10)\"><line x1=\"0\" x2=\"0\" y1=\"0\" y2=\"8.35442e-10\" /><path class=\"sym\" d=\"M -3,-3 l 6,6 M -3,3 l 6,-6\" /><text class=\"lab lft\" transform=\"translate(-5 0)\">21</text></g><rect class=\"sym\" height=\"6\" width=\"6\" x=\"-3\" y=\"-3\" /><text class=\"lab\" transform=\"translate(0 11)\">2</text></g><path class=\"edge\" d=\"M 0 0 V -18.2275 H 0.0\" /><circle class=\"sym\" cx=\"0\" cy=\"0\" r=\"3\" /><text class=\"lab lft\" transform=\"translate(-3 -7)\">14</text></g><path class=\"edge\" d=\"M 0 0 V -9.49879 H -14.25\" /><circle class=\"sym\" cx=\"0\" cy=\"0\" r=\"3\" /><text class=\"lab rgt\" transform=\"translate(3 -7)\">30</text></g><g class=\"a37 c2 node n36 p0\" transform=\"translate(-14.25 4.60951)\"><g class=\"a36 leaf m20 node n1 p0 s3 sample\" transform=\"translate(-9.5 28.8676)\"><path class=\"edge\" d=\"M 0 0 V -28.8676 H 9.5\" /><g class=\"mut m20 s3\" transform=\"translate(0 -8.35442e-10)\"><line x1=\"0\" x2=\"0\" y1=\"0\" y2=\"8.35442e-10\" /><path class=\"sym\" d=\"M -3,-3 l 6,6 M -3,3 l 6,-6\" /><text class=\"lab lft\" transform=\"translate(-5 0)\">20</text></g><rect class=\"sym\" height=\"6\" width=\"6\" x=\"-3\" y=\"-3\" /><text class=\"lab\" transform=\"translate(0 11)\">1</text></g><g class=\"a36 c1 node n13 p0\" transform=\"translate(9.5 25.6622)\"><g class=\"a13 leaf node n12 p0\" transform=\"translate(0.0 8.35444e-06)\"><path class=\"edge\" d=\"M 0 0 V -8.35444e-06 H 0.0\" /><circle class=\"sym\" cx=\"0\" cy=\"0\" r=\"3\" /><text class=\"lab\" transform=\"translate(0 11)\">12</text></g><path class=\"edge\" d=\"M 0 0 V -25.6622 H -9.5\" /><circle class=\"sym\" cx=\"0\" cy=\"0\" r=\"3\" /><text class=\"lab rgt\" transform=\"translate(3 -7)\">13</text></g><path class=\"edge\" d=\"M 0 0 V -4.60951 H 14.25\" /><circle class=\"sym\" cx=\"0\" cy=\"0\" r=\"3\" /><text class=\"lab lft\" transform=\"translate(-3 -7)\">36</text></g><path class=\"edge\" d=\"M 0 0 V -4.68389 H 0.0\" /><circle class=\"sym\" cx=\"0\" cy=\"0\" r=\"3\" /><text class=\"lab lft\" transform=\"translate(-3 -7)\">37</text></g><path class=\"edge\" d=\"M 0 0 V -4.79875 H 0.0\" /><circle class=\"sym\" cx=\"0\" cy=\"0\" r=\"3\" /><text class=\"lab lft\" transform=\"translate(-3 -7)\">38</text></g><path class=\"edge\" d=\"M 0 0 V -36.1445 H -29.6875\" /><circle class=\"sym\" cx=\"0\" cy=\"0\" r=\"3\" /><text class=\"lab rgt\" transform=\"translate(3 -7)\">41</text></g><g class=\"a53 c1 node n50 p0\" transform=\"translate(-29.6875 1.81874)\"><g class=\"a50 c1 m18 node n45 p0 s3\" transform=\"translate(0.0 24.9237)\"><g class=\"a45 c2 node n44 p0\" transform=\"translate(0.0 3.07195)\"><g class=\"a44 c1 node n5 p0\" transform=\"translate(16.625 48.0024)\"><g class=\"a5 leaf m23 node n4 p0 s3 sample\" transform=\"translate(0.0 1.28742)\"><path class=\"edge\" d=\"M 0 0 V -1.28742 H 0.0\" /><g class=\"mut m23 s3\" transform=\"translate(0 -8.35442e-10)\"><line x1=\"0\" x2=\"0\" y1=\"0\" y2=\"8.35442e-10\" /><path class=\"sym\" d=\"M -3,-3 l 6,6 M -3,3 l 6,-6\" /><text class=\"lab lft\" transform=\"translate(-5 0)\">23</text></g><rect class=\"sym\" height=\"6\" width=\"6\" x=\"-3\" y=\"-3\" /><text class=\"lab\" transform=\"translate(0 11)\">4</text></g><path class=\"edge\" d=\"M 0 0 V -48.0024 H -16.625\" /><circle class=\"sym\" cx=\"0\" cy=\"0\" r=\"3\" /><text class=\"lab rgt\" transform=\"translate(3 -7)\">5</text></g><g class=\"a44 c2 node n33 p0\" transform=\"translate(-16.625 25.0228)\"><g class=\"a33 c1 node n11 p0\" transform=\"translate(14.25 21.0617)\"><g class=\"a11 c1 node n7 p0\" transform=\"translate(0.0 1.91796)\"><g class=\"a7 leaf node n6 p0\" transform=\"translate(0.0 8.35444e-06)\"><path class=\"edge\" d=\"M 0 0 V -8.35444e-06 H 0.0\" /><circle class=\"sym\" cx=\"0\" cy=\"0\" r=\"3\" /><text class=\"lab\" transform=\"translate(0 11)\">6</text></g><path class=\"edge\" d=\"M 0 0 V -1.91796 H 0.0\" /><circle class=\"sym\" cx=\"0\" cy=\"0\" r=\"3\" /><text class=\"lab lft\" transform=\"translate(-3 -7)\">7</text></g><path class=\"edge\" d=\"M 0 0 V -21.0617 H -14.25\" /><circle class=\"sym\" cx=\"0\" cy=\"0\" r=\"3\" /><text class=\"lab rgt\" transform=\"translate(3 -7)\">11</text></g><g class=\"a33 c1 node n26 p0\" transform=\"translate(-14.25 9.3567)\"><g class=\"a26 c2 node n25 p0\" transform=\"translate(0.0 1.33799)\"><g class=\"a25 leaf m22 node n3 p0 s3 sample\" transform=\"translate(9.5 13.5724)\"><path class=\"edge\" d=\"M 0 0 V -13.5724 H -9.5\" /><g class=\"mut m22 s3\" transform=\"translate(0 -8.35442e-10)\"><line x1=\"0\" x2=\"0\" y1=\"0\" y2=\"8.35442e-10\" /><path class=\"sym\" d=\"M -3,-3 l 6,6 M -3,3 l 6,-6\" /><text class=\"lab rgt\" transform=\"translate(5 0)\">22</text></g><rect class=\"sym\" height=\"6\" width=\"6\" x=\"-3\" y=\"-3\" /><text class=\"lab\" transform=\"translate(0 11)\">3</text></g><g class=\"a25 c1 node n22 p0\" transform=\"translate(-9.5 0.603786)\"><g class=\"a22 c1 node n17 p0\" transform=\"translate(0.0 6.46384)\"><g class=\"a17 c1 node n8 p0\" transform=\"translate(0.0 4.84927)\"><g class=\"a8 leaf m19 node n0 p0 s3 sample\" transform=\"translate(0.0 1.65546)\"><path class=\"edge\" d=\"M 0 0 V -1.65546 H 0.0\" /><g class=\"mut m19 s3\" transform=\"translate(0 -8.35442e-10)\"><line x1=\"0\" x2=\"0\" y1=\"0\" y2=\"8.35442e-10\" /><path class=\"sym\" d=\"M -3,-3 l 6,6 M -3,3 l 6,-6\" /><text class=\"lab lft\" transform=\"translate(-5 0)\">19</text></g><rect class=\"sym\" height=\"6\" width=\"6\" x=\"-3\" y=\"-3\" /><text class=\"lab\" transform=\"translate(0 11)\">0</text></g><path class=\"edge\" d=\"M 0 0 V -4.84927 H 0.0\" /><circle class=\"sym\" cx=\"0\" cy=\"0\" r=\"3\" /><text class=\"lab lft\" transform=\"translate(-3 -7)\">8</text></g><path class=\"edge\" d=\"M 0 0 V -6.46384 H 0.0\" /><circle class=\"sym\" cx=\"0\" cy=\"0\" r=\"3\" /><text class=\"lab lft\" transform=\"translate(-3 -7)\">17</text></g><path class=\"edge\" d=\"M 0 0 V -0.603786 H 9.5\" /><circle class=\"sym\" cx=\"0\" cy=\"0\" r=\"3\" /><text class=\"lab lft\" transform=\"translate(-3 -7)\">22</text></g><path class=\"edge\" d=\"M 0 0 V -1.33799 H 0.0\" /><circle class=\"sym\" cx=\"0\" cy=\"0\" r=\"3\" /><text class=\"lab lft\" transform=\"translate(-3 -7)\">25</text></g><path class=\"edge\" d=\"M 0 0 V -9.3567 H 14.25\" /><circle class=\"sym\" cx=\"0\" cy=\"0\" r=\"3\" /><text class=\"lab lft\" transform=\"translate(-3 -7)\">26</text></g><path class=\"edge\" d=\"M 0 0 V -25.0228 H 16.625\" /><circle class=\"sym\" cx=\"0\" cy=\"0\" r=\"3\" /><text class=\"lab lft\" transform=\"translate(-3 -7)\">33</text></g><path class=\"edge\" d=\"M 0 0 V -3.07195 H 0.0\" /><circle class=\"sym\" cx=\"0\" cy=\"0\" r=\"3\" /><text class=\"lab lft\" transform=\"translate(-3 -7)\">44</text></g><path class=\"edge\" d=\"M 0 0 V -24.9237 H 0.0\" /><g class=\"mut m18 s3\" transform=\"translate(0 -8.69616)\"><line x1=\"0\" x2=\"0\" y1=\"0\" y2=\"8.69616\" /><path class=\"sym\" d=\"M -3,-3 l 6,6 M -3,3 l 6,-6\" /><text class=\"lab lft\" transform=\"translate(-5 0)\">18</text></g><circle class=\"sym\" cx=\"0\" cy=\"0\" r=\"3\" /><text class=\"lab lft\" transform=\"translate(-3 -7)\">45</text></g><path class=\"edge\" d=\"M 0 0 V -1.81874 H 29.6875\" /><circle class=\"sym\" cx=\"0\" cy=\"0\" r=\"3\" /><text class=\"lab lft\" transform=\"translate(-3 -7)\">50</text></g><path class=\"edge\" d=\"M 0 0 V -15.4958 H 31.4688\" /><circle class=\"sym\" cx=\"0\" cy=\"0\" r=\"3\" /><text class=\"lab lft\" transform=\"translate(-3 -7)\">53</text></g><circle class=\"sym\" cx=\"0\" cy=\"0\" r=\"3\" /><text class=\"lab\" transform=\"translate(0 -11)\">54</text></g></g></g><g class=\"tree t4\" transform=\"translate(788 0)\"><g class=\"plotbox\"><g class=\"c2 node n54 p0 root\" transform=\"translate(126.281 26.8)\"><g class=\"a54 c2 node n53 p0\" transform=\"translate(-36.2188 15.4958)\"><g class=\"a53 c1 node n50 p0\" transform=\"translate(-36.8125 1.81874)\"><g class=\"a50 c1 node n45 p0\" transform=\"translate(0.0 24.9237)\"><g class=\"a45 c2 node n44 p0\" transform=\"translate(0.0 3.07195)\"><g class=\"a44 c1 node n5 p0\" transform=\"translate(14.25 48.0024)\"><g class=\"a5 leaf m29 node n4 p0 s4 sample\" transform=\"translate(0.0 1.28742)\"><path class=\"edge\" d=\"M 0 0 V -1.28742 H 0.0\" /><g class=\"mut m29 s4\" transform=\"translate(0 -8.35442e-10)\"><line x1=\"0\" x2=\"0\" y1=\"0\" y2=\"8.35442e-10\" /><path class=\"sym\" d=\"M -3,-3 l 6,6 M -3,3 l 6,-6\" /><text class=\"lab lft\" transform=\"translate(-5 0)\">29</text></g><rect class=\"sym\" height=\"6\" width=\"6\" x=\"-3\" y=\"-3\" /><text class=\"lab\" transform=\"translate(0 11)\">4</text></g><path class=\"edge\" d=\"M 0 0 V -48.0024 H -14.25\" /><circle class=\"sym\" cx=\"0\" cy=\"0\" r=\"3\" /><text class=\"lab rgt\" transform=\"translate(3 -7)\">5</text></g><g class=\"a44 c1 node n26 p0\" transform=\"translate(-14.25 34.3795)\"><g class=\"a26 c2 node n25 p0\" transform=\"translate(0.0 1.33799)\"><g class=\"a25 leaf m28 node n3 p0 s4 sample\" transform=\"translate(9.5 13.5724)\"><path class=\"edge\" d=\"M 0 0 V -13.5724 H -9.5\" /><g class=\"mut m28 s4\" transform=\"translate(0 -8.35442e-10)\"><line x1=\"0\" x2=\"0\" y1=\"0\" y2=\"8.35442e-10\" /><path class=\"sym\" d=\"M -3,-3 l 6,6 M -3,3 l 6,-6\" /><text class=\"lab rgt\" transform=\"translate(5 0)\">28</text></g><rect class=\"sym\" height=\"6\" width=\"6\" x=\"-3\" y=\"-3\" /><text class=\"lab\" transform=\"translate(0 11)\">3</text></g><g class=\"a25 c1 node n22 p0\" transform=\"translate(-9.5 0.603786)\"><g class=\"a22 c1 node n17 p0\" transform=\"translate(0.0 6.46384)\"><g class=\"a17 c1 node n8 p0\" transform=\"translate(0.0 4.84927)\"><g class=\"a8 leaf m25 node n0 p0 s4 sample\" transform=\"translate(0.0 1.65546)\"><path class=\"edge\" d=\"M 0 0 V -1.65546 H 0.0\" /><g class=\"mut m25 s4\" transform=\"translate(0 -8.35442e-10)\"><line x1=\"0\" x2=\"0\" y1=\"0\" y2=\"8.35442e-10\" /><path class=\"sym\" d=\"M -3,-3 l 6,6 M -3,3 l 6,-6\" /><text class=\"lab lft\" transform=\"translate(-5 0)\">25</text></g><rect class=\"sym\" height=\"6\" width=\"6\" x=\"-3\" y=\"-3\" /><text class=\"lab\" transform=\"translate(0 11)\">0</text></g><path class=\"edge\" d=\"M 0 0 V -4.84927 H 0.0\" /><circle class=\"sym\" cx=\"0\" cy=\"0\" r=\"3\" /><text class=\"lab lft\" transform=\"translate(-3 -7)\">8</text></g><path class=\"edge\" d=\"M 0 0 V -6.46384 H 0.0\" /><circle class=\"sym\" cx=\"0\" cy=\"0\" r=\"3\" /><text class=\"lab lft\" transform=\"translate(-3 -7)\">17</text></g><path class=\"edge\" d=\"M 0 0 V -0.603786 H 9.5\" /><circle class=\"sym\" cx=\"0\" cy=\"0\" r=\"3\" /><text class=\"lab lft\" transform=\"translate(-3 -7)\">22</text></g><path class=\"edge\" d=\"M 0 0 V -1.33799 H 0.0\" /><circle class=\"sym\" cx=\"0\" cy=\"0\" r=\"3\" /><text class=\"lab lft\" transform=\"translate(-3 -7)\">25</text></g><path class=\"edge\" d=\"M 0 0 V -34.3795 H 14.25\" /><circle class=\"sym\" cx=\"0\" cy=\"0\" r=\"3\" /><text class=\"lab lft\" transform=\"translate(-3 -7)\">26</text></g><path class=\"edge\" d=\"M 0 0 V -3.07195 H 0.0\" /><circle class=\"sym\" cx=\"0\" cy=\"0\" r=\"3\" /><text class=\"lab lft\" transform=\"translate(-3 -7)\">44</text></g><path class=\"edge\" d=\"M 0 0 V -24.9237 H 0.0\" /><circle class=\"sym\" cx=\"0\" cy=\"0\" r=\"3\" /><text class=\"lab lft\" transform=\"translate(-3 -7)\">45</text></g><path class=\"edge\" d=\"M 0 0 V -1.81874 H 36.8125\" /><circle class=\"sym\" cx=\"0\" cy=\"0\" r=\"3\" /><text class=\"lab lft\" transform=\"translate(-3 -7)\">50</text></g><g class=\"a53 c2 node n48 p0\" transform=\"translate(36.8125 25.0835)\"><g class=\"a48 c1 node n40 p0\" transform=\"translate(16.625 15.8597)\"><g class=\"a40 leaf node n39 p0\" transform=\"translate(0.0 8.35444e-06)\"><path class=\"edge\" d=\"M 0 0 V -8.35444e-06 H 0.0\" /><circle class=\"sym\" cx=\"0\" cy=\"0\" r=\"3\" /><text class=\"lab\" transform=\"translate(0 11)\">39</text></g><path class=\"edge\" d=\"M 0 0 V -15.8597 H -16.625\" /><circle class=\"sym\" cx=\"0\" cy=\"0\" r=\"3\" /><text class=\"lab rgt\" transform=\"translate(3 -7)\">40</text></g><g class=\"a48 c1 node n41 p0\" transform=\"translate(-16.625 11.061)\"><g class=\"a41 c1 node n38 p0\" transform=\"translate(0.0 4.79875)\"><g class=\"a38 c2 node n37 p0\" transform=\"translate(0.0 4.68389)\"><g class=\"a37 c1 node n30 p0\" transform=\"translate(14.25 9.49879)\"><g class=\"a30 c1 node n14 p0\" transform=\"translate(0.0 18.2275)\"><g class=\"a14 leaf m27 node n2 p0 s4 sample\" transform=\"translate(0.0 5.75082)\"><path class=\"edge\" d=\"M 0 0 V -5.75082 H 0.0\" /><g class=\"mut m27 s4\" transform=\"translate(0 -8.35442e-10)\"><line x1=\"0\" x2=\"0\" y1=\"0\" y2=\"8.35442e-10\" /><path class=\"sym\" d=\"M -3,-3 l 6,6 M -3,3 l 6,-6\" /><text class=\"lab lft\" transform=\"translate(-5 0)\">27</text></g><rect class=\"sym\" height=\"6\" width=\"6\" x=\"-3\" y=\"-3\" /><text class=\"lab\" transform=\"translate(0 11)\">2</text></g><path class=\"edge\" d=\"M 0 0 V -18.2275 H 0.0\" /><circle class=\"sym\" cx=\"0\" cy=\"0\" r=\"3\" /><text class=\"lab lft\" transform=\"translate(-3 -7)\">14</text></g><path class=\"edge\" d=\"M 0 0 V -9.49879 H -14.25\" /><circle class=\"sym\" cx=\"0\" cy=\"0\" r=\"3\" /><text class=\"lab rgt\" transform=\"translate(3 -7)\">30</text></g><g class=\"a37 c2 node n34 p0\" transform=\"translate(-14.25 8.72387)\"><g class=\"a34 leaf m26 node n1 p0 s4 sample\" transform=\"translate(-9.5 24.7532)\"><path class=\"edge\" d=\"M 0 0 V -24.7532 H 9.5\" /><g class=\"mut m26 s4\" transform=\"translate(0 -8.35442e-10)\"><line x1=\"0\" x2=\"0\" y1=\"0\" y2=\"8.35442e-10\" /><path class=\"sym\" d=\"M -3,-3 l 6,6 M -3,3 l 6,-6\" /><text class=\"lab lft\" transform=\"translate(-5 0)\">26</text></g><rect class=\"sym\" height=\"6\" width=\"6\" x=\"-3\" y=\"-3\" /><text class=\"lab\" transform=\"translate(0 11)\">1</text></g><g class=\"a34 c1 node n32 p0\" transform=\"translate(9.5 0.774914)\"><g class=\"a32 leaf node n31 p0\" transform=\"translate(0.0 8.35444e-06)\"><path class=\"edge\" d=\"M 0 0 V -8.35444e-06 H 0.0\" /><circle class=\"sym\" cx=\"0\" cy=\"0\" r=\"3\" /><text class=\"lab\" transform=\"translate(0 11)\">31</text></g><path class=\"edge\" d=\"M 0 0 V -0.774914 H -9.5\" /><circle class=\"sym\" cx=\"0\" cy=\"0\" r=\"3\" /><text class=\"lab rgt\" transform=\"translate(3 -7)\">32</text></g><path class=\"edge\" d=\"M 0 0 V -8.72387 H 14.25\" /><circle class=\"sym\" cx=\"0\" cy=\"0\" r=\"3\" /><text class=\"lab lft\" transform=\"translate(-3 -7)\">34</text></g><path class=\"edge\" d=\"M 0 0 V -4.68389 H 0.0\" /><circle class=\"sym\" cx=\"0\" cy=\"0\" r=\"3\" /><text class=\"lab lft\" transform=\"translate(-3 -7)\">37</text></g><path class=\"edge\" d=\"M 0 0 V -4.79875 H 0.0\" /><circle class=\"sym\" cx=\"0\" cy=\"0\" r=\"3\" /><text class=\"lab lft\" transform=\"translate(-3 -7)\">38</text></g><path class=\"edge\" d=\"M 0 0 V -11.061 H 16.625\" /><circle class=\"sym\" cx=\"0\" cy=\"0\" r=\"3\" /><text class=\"lab lft\" transform=\"translate(-3 -7)\">41</text></g><path class=\"edge\" d=\"M 0 0 V -25.0835 H -36.8125\" /><circle class=\"sym\" cx=\"0\" cy=\"0\" r=\"3\" /><text class=\"lab rgt\" transform=\"translate(3 -7)\">48</text></g><path class=\"edge\" d=\"M 0 0 V -15.4958 H 36.2188\" /><circle class=\"sym\" cx=\"0\" cy=\"0\" r=\"3\" /><text class=\"lab lft\" transform=\"translate(-3 -7)\">53</text></g><g class=\"a54 c1 m24 node n47 p0 s4\" transform=\"translate(36.2188 42.2382)\"><g class=\"a47 leaf node n46 p0\" transform=\"translate(0.0 8.35444e-06)\"><path class=\"edge\" d=\"M 0 0 V -8.35444e-06 H 0.0\" /><circle class=\"sym\" cx=\"0\" cy=\"0\" r=\"3\" /><text class=\"lab\" transform=\"translate(0 11)\">46</text></g><path class=\"edge\" d=\"M 0 0 V -42.2382 H -36.2188\" /><g class=\"mut m24 s4\" transform=\"translate(0 -1.23088)\"><line x1=\"0\" x2=\"0\" y1=\"0\" y2=\"1.23088\" /><path class=\"sym\" d=\"M -3,-3 l 6,6 M -3,3 l 6,-6\" /><text class=\"lab rgt\" transform=\"translate(5 0)\">24</text></g><circle class=\"sym\" cx=\"0\" cy=\"0\" r=\"3\" /><text class=\"lab rgt\" transform=\"translate(3 -7)\">47</text></g><circle class=\"sym\" cx=\"0\" cy=\"0\" r=\"3\" /><text class=\"lab\" transform=\"translate(0 -11)\">54</text></g></g></g></g></g></svg>"
      ],
      "text/plain": [
       "'<svg baseProfile=\"full\" height=\"200\" version=\"1.1\" width=\"1000\" xmlns=\"http://www.w3.org/2000/svg\" xmlns:ev=\"http://www.w3.org/2001/xml-events\" xmlns:xlink=\"http://www.w3.org/1999/xlink\"><defs><style type=\"text/css\"><![CDATA[.background path {fill: #808080; fill-opacity: 0}.background path:nth-child(odd) {fill-opacity: .1}.x-regions rect {fill: yellow; stroke: black; opacity: 0.5}.axes {font-size: 14px}.x-axis .tick .lab {font-weight: bold; dominant-baseline: hanging}.axes, .tree {font-size: 14px; text-anchor: middle}.axes line, .edge {stroke: black; fill: none}.axes .ax-skip {stroke-dasharray: 4}.y-axis .grid {stroke: #FAFAFA}.node > .sym {fill: black; stroke: none}.site > .sym {stroke: black}.mut text {fill: red; font-style: italic}.mut.extra text {fill: hotpink}.mut line {fill: none; stroke: none}.mut .sym {fill: none; stroke: red}.mut.extra .sym {stroke: hotpink}.node .mut .sym {stroke-width: 1.5px}.tree text, .tree-sequence text {dominant-baseline: central}.plotbox .lab.lft {text-anchor: end}.plotbox .lab.rgt {text-anchor: start}.polytomy line {stroke: black; stroke-dasharray: 1px, 1px}.polytomy text {paint-order:stroke;stroke-width:0.3em;stroke:white}]]></style></defs><g class=\"tree-sequence\"><g class=\"background\"><path d=\"M20,0 l192,0 l0,138.2 l0,25 l0,5 l-192,0 l0,-5 l0,-25 l0,-138.2z\" /><path d=\"M212,0 l192,0 l0,138.2 l0,25 l0,5 l-192,0 l0,-5 l0,-25 l0,-138.2z\" /><path d=\"M404,0 l192,0 l0,138.2 l0,25 l0,5 l-192,0 l0,-5 l0,-25 l0,-138.2z\" /><path d=\"M596,0 l192,0 l0,138.2 l0,25 l0,5 l-192,0 l0,-5 l0,-25 l0,-138.2z\" /><path d=\"M788,0 l192,0 l0,138.2 l0,25 l0,5 l-192,0 l0,-5 l0,-25 l0,-138.2z\" /></g><g class=\"axes\"><g class=\"x-axis\"><g class=\"title\" transform=\"translate(500 200)\"><text class=\"lab\" text-anchor=\"middle\" transform=\"translate(0 -11)\">Genome position</text></g><line class=\"ax-line\" x1=\"20\" x2=\"980\" y1=\"163.2\" y2=\"163.2\" /><g class=\"ticks\"><g class=\"tick\" transform=\"translate(20 163.2)\"><line x1=\"0\" x2=\"0\" y1=\"0\" y2=\"5\" /><g transform=\"translate(0 6)\"><text class=\"lab\">0</text></g></g><g class=\"tick\" transform=\"translate(212 163.2)\"><line x1=\"0\" x2=\"0\" y1=\"0\" y2=\"5\" /><g transform=\"translate(0 6)\"><text class=\"lab\">1</text></g></g><g class=\"tick\" transform=\"translate(404 163.2)\"><line x1=\"0\" x2=\"0\" y1=\"0\" y2=\"5\" /><g transform=\"translate(0 6)\"><text class=\"lab\">2</text></g></g><g class=\"tick\" transform=\"translate(596 163.2)\"><line x1=\"0\" x2=\"0\" y1=\"0\" y2=\"5\" /><g transform=\"translate(0 6)\"><text class=\"lab\">3</text></g></g><g class=\"tick\" transform=\"translate(788 163.2)\"><line x1=\"0\" x2=\"0\" y1=\"0\" y2=\"5\" /><g transform=\"translate(0 6)\"><text class=\"lab\">4</text></g></g><g class=\"tick\" transform=\"translate(980 163.2)\"><line x1=\"0\" x2=\"0\" y1=\"0\" y2=\"5\" /><g transform=\"translate(0 6)\"><text class=\"lab\">5</text></g></g></g><g class=\"site s0\" transform=\"translate(20 163.2)\"><line class=\"sym\" x1=\"0\" x2=\"0\" y1=\"0\" y2=\"-10\" /><g class=\"mut m5\"><polyline class=\"sym\" points=\"2.5,-6.5 0,-1.5 -2.5,-6.5\" /></g><g class=\"mut m4\"><polyline class=\"sym\" points=\"2.5,-10.5 0,-5.5 -2.5,-10.5\" /></g><g class=\"mut m3\"><polyline class=\"sym\" points=\"2.5,-14.5 0,-9.5 -2.5,-14.5\" /></g><g class=\"mut m2\"><polyline class=\"sym\" points=\"2.5,-18.5 0,-13.5 -2.5,-18.5\" /></g><g class=\"mut m1\"><polyline class=\"sym\" points=\"2.5,-22.5 0,-17.5 -2.5,-22.5\" /></g><g class=\"mut m0\"><polyline class=\"sym\" points=\"2.5,-26.5 0,-21.5 -2.5,-26.5\" /></g></g><g class=\"site s1\" transform=\"translate(212 163.2)\"><line class=\"sym\" x1=\"0\" x2=\"0\" y1=\"0\" y2=\"-10\" /><g class=\"mut m11\"><polyline class=\"sym\" points=\"2.5,-6.5 0,-1.5 -2.5,-6.5\" /></g><g class=\"mut m10\"><polyline class=\"sym\" points=\"2.5,-10.5 0,-5.5 -2.5,-10.5\" /></g><g class=\"mut m9\"><polyline class=\"sym\" points=\"2.5,-14.5 0,-9.5 -2.5,-14.5\" /></g><g class=\"mut m8\"><polyline class=\"sym\" points=\"2.5,-18.5 0,-13.5 -2.5,-18.5\" /></g><g class=\"mut m7\"><polyline class=\"sym\" points=\"2.5,-22.5 0,-17.5 -2.5,-22.5\" /></g><g class=\"mut m6\"><polyline class=\"sym\" points=\"2.5,-26.5 0,-21.5 -2.5,-26.5\" /></g></g><g class=\"site s2\" transform=\"translate(404 163.2)\"><line class=\"sym\" x1=\"0\" x2=\"0\" y1=\"0\" y2=\"-10\" /><g class=\"mut m17\"><polyline class=\"sym\" points=\"2.5,-6.5 0,-1.5 -2.5,-6.5\" /></g><g class=\"mut m16\"><polyline class=\"sym\" points=\"2.5,-10.5 0,-5.5 -2.5,-10.5\" /></g><g class=\"mut m15\"><polyline class=\"sym\" points=\"2.5,-14.5 0,-9.5 -2.5,-14.5\" /></g><g class=\"mut m14\"><polyline class=\"sym\" points=\"2.5,-18.5 0,-13.5 -2.5,-18.5\" /></g><g class=\"mut m13\"><polyline class=\"sym\" points=\"2.5,-22.5 0,-17.5 -2.5,-22.5\" /></g><g class=\"mut m12\"><polyline class=\"sym\" points=\"2.5,-26.5 0,-21.5 -2.5,-26.5\" /></g></g><g class=\"site s3\" transform=\"translate(596 163.2)\"><line class=\"sym\" x1=\"0\" x2=\"0\" y1=\"0\" y2=\"-10\" /><g class=\"mut m23\"><polyline class=\"sym\" points=\"2.5,-6.5 0,-1.5 -2.5,-6.5\" /></g><g class=\"mut m22\"><polyline class=\"sym\" points=\"2.5,-10.5 0,-5.5 -2.5,-10.5\" /></g><g class=\"mut m21\"><polyline class=\"sym\" points=\"2.5,-14.5 0,-9.5 -2.5,-14.5\" /></g><g class=\"mut m20\"><polyline class=\"sym\" points=\"2.5,-18.5 0,-13.5 -2.5,-18.5\" /></g><g class=\"mut m19\"><polyline class=\"sym\" points=\"2.5,-22.5 0,-17.5 -2.5,-22.5\" /></g><g class=\"mut m18\"><polyline class=\"sym\" points=\"2.5,-26.5 0,-21.5 -2.5,-26.5\" /></g></g><g class=\"site s4\" transform=\"translate(788 163.2)\"><line class=\"sym\" x1=\"0\" x2=\"0\" y1=\"0\" y2=\"-10\" /><g class=\"mut m29\"><polyline class=\"sym\" points=\"2.5,-6.5 0,-1.5 -2.5,-6.5\" /></g><g class=\"mut m28\"><polyline class=\"sym\" points=\"2.5,-10.5 0,-5.5 -2.5,-10.5\" /></g><g class=\"mut m27\"><polyline class=\"sym\" points=\"2.5,-14.5 0,-9.5 -2.5,-14.5\" /></g><g class=\"mut m26\"><polyline class=\"sym\" points=\"2.5,-18.5 0,-13.5 -2.5,-18.5\" /></g><g class=\"mut m25\"><polyline class=\"sym\" points=\"2.5,-22.5 0,-17.5 -2.5,-22.5\" /></g><g class=\"mut m24\"><polyline class=\"sym\" points=\"2.5,-26.5 0,-21.5 -2.5,-26.5\" /></g></g></g></g><g class=\"plotbox trees\"><g class=\"tree t0\" transform=\"translate(20 0)\"><g class=\"plotbox\"><g class=\"c2 node n53 p0 root\" transform=\"translate(120.429 42.2958)\"><g class=\"a53 c1 node n41 p0\" transform=\"translate(29.8571 36.1445)\"><g class=\"a41 c1 node n38 p0\" transform=\"translate(0.0 4.79875)\"><g class=\"a38 c2 node n37 p0\" transform=\"translate(0.0 4.68389)\"><g class=\"a37 leaf m2 node n1 p0 s0 sample\" transform=\"translate(-10.8571 33.4771)\"><path class=\"edge\" d=\"M 0 0 V -33.4771 H 10.8571\" /><g class=\"mut m2 s0\" transform=\"translate(0 -8.35442e-10)\"><line x1=\"0\" x2=\"0\" y1=\"0\" y2=\"8.35442e-10\" /><path class=\"sym\" d=\"M -3,-3 l 6,6 M -3,3 l 6,-6\" /><text class=\"lab lft\" transform=\"translate(-5 0)\">2</text></g><rect class=\"sym\" height=\"6\" width=\"6\" x=\"-3\" y=\"-3\" /><text class=\"lab\" transform=\"translate(0 11)\">1</text></g><g class=\"a37 c1 node n30 p0\" transform=\"translate(10.8571 9.49879)\"><g class=\"a30 c1 node n14 p0\" transform=\"translate(0.0 18.2275)\"><g class=\"a14 leaf m3 node n2 p0 s0 sample\" transform=\"translate(0.0 5.75082)\"><path class=\"edge\" d=\"M 0 0 V -5.75082 H 0.0\" /><g class=\"mut m3 s0\" transform=\"translate(0 -8.35442e-10)\"><line x1=\"0\" x2=\"0\" y1=\"0\" y2=\"8.35442e-10\" /><path class=\"sym\" d=\"M -3,-3 l 6,6 M -3,3 l 6,-6\" /><text class=\"lab lft\" transform=\"translate(-5 0)\">3</text></g><rect class=\"sym\" height=\"6\" width=\"6\" x=\"-3\" y=\"-3\" /><text class=\"lab\" transform=\"translate(0 11)\">2</text></g><path class=\"edge\" d=\"M 0 0 V -18.2275 H 0.0\" /><circle class=\"sym\" cx=\"0\" cy=\"0\" r=\"3\" /><text class=\"lab lft\" transform=\"translate(-3 -7)\">14</text></g><path class=\"edge\" d=\"M 0 0 V -9.49879 H -10.8571\" /><circle class=\"sym\" cx=\"0\" cy=\"0\" r=\"3\" /><text class=\"lab rgt\" transform=\"translate(3 -7)\">30</text></g><path class=\"edge\" d=\"M 0 0 V -4.68389 H 0.0\" /><circle class=\"sym\" cx=\"0\" cy=\"0\" r=\"3\" /><text class=\"lab lft\" transform=\"translate(-3 -7)\">37</text></g><path class=\"edge\" d=\"M 0 0 V -4.79875 H 0.0\" /><circle class=\"sym\" cx=\"0\" cy=\"0\" r=\"3\" /><text class=\"lab lft\" transform=\"translate(-3 -7)\">38</text></g><path class=\"edge\" d=\"M 0 0 V -36.1445 H -29.8571\" /><circle class=\"sym\" cx=\"0\" cy=\"0\" r=\"3\" /><text class=\"lab rgt\" transform=\"translate(3 -7)\">41</text></g><g class=\"a53 c1 node n50 p0\" transform=\"translate(-29.8571 1.81874)\"><g class=\"a50 c1 node n45 p0\" transform=\"translate(0.0 24.9237)\"><g class=\"a45 c2 node n44 p0\" transform=\"translate(0.0 3.07195)\"><g class=\"a44 c1 node n5 p0\" transform=\"translate(27.1429 48.0024)\"><g class=\"a5 leaf m5 node n4 p0 s0 sample\" transform=\"translate(0.0 1.28742)\"><path class=\"edge\" d=\"M 0 0 V -1.28742 H 0.0\" /><g class=\"mut m5 s0\" transform=\"translate(0 -8.35442e-10)\"><line x1=\"0\" x2=\"0\" y1=\"0\" y2=\"8.35442e-10\" /><path class=\"sym\" d=\"M -3,-3 l 6,6 M -3,3 l 6,-6\" /><text class=\"lab lft\" transform=\"translate(-5 0)\">5</text></g><rect class=\"sym\" height=\"6\" width=\"6\" x=\"-3\" y=\"-3\" /><text class=\"lab\" transform=\"translate(0 11)\">4</text></g><path class=\"edge\" d=\"M 0 0 V -48.0024 H -27.1429\" /><circle class=\"sym\" cx=\"0\" cy=\"0\" r=\"3\" /><text class=\"lab rgt\" transform=\"translate(3 -7)\">5</text></g><g class=\"a44 c2 m0 node n33 p0 s0\" transform=\"translate(-27.1429 25.0228)\"><g class=\"a33 c2 node n21 p0\" transform=\"translate(21.7143 12.2767)\"><g class=\"a21 c1 node n10 p0\" transform=\"translate(-10.8571 10.3349)\"><g class=\"a10 leaf node n9 p0\" transform=\"translate(0.0 8.35444e-06)\"><path class=\"edge\" d=\"M 0 0 V -8.35444e-06 H 0.0\" /><circle class=\"sym\" cx=\"0\" cy=\"0\" r=\"3\" /><text class=\"lab\" transform=\"translate(0 11)\">9</text></g><path class=\"edge\" d=\"M 0 0 V -10.3349 H 10.8571\" /><circle class=\"sym\" cx=\"0\" cy=\"0\" r=\"3\" /><text class=\"lab lft\" transform=\"translate(-3 -7)\">10</text></g><g class=\"a21 c1 node n19 p0\" transform=\"translate(10.8571 5.48563)\"><g class=\"a19 leaf node n18 p0\" transform=\"translate(0.0 8.35444e-06)\"><path class=\"edge\" d=\"M 0 0 V -8.35444e-06 H 0.0\" /><circle class=\"sym\" cx=\"0\" cy=\"0\" r=\"3\" /><text class=\"lab\" transform=\"translate(0 11)\">18</text></g><path class=\"edge\" d=\"M 0 0 V -5.48563 H -10.8571\" /><circle class=\"sym\" cx=\"0\" cy=\"0\" r=\"3\" /><text class=\"lab rgt\" transform=\"translate(3 -7)\">19</text></g><path class=\"edge\" d=\"M 0 0 V -12.2767 H -21.7143\" /><circle class=\"sym\" cx=\"0\" cy=\"0\" r=\"3\" /><text class=\"lab rgt\" transform=\"translate(3 -7)\">21</text></g><g class=\"a33 c1 node n26 p0\" transform=\"translate(-21.7143 9.3567)\"><g class=\"a26 c2 node n25 p0\" transform=\"translate(0.0 1.33799)\"><g class=\"a25 leaf m4 node n3 p0 s0 sample\" transform=\"translate(10.8571 13.5724)\"><path class=\"edge\" d=\"M 0 0 V -13.5724 H -10.8571\" /><g class=\"mut m4 s0\" transform=\"translate(0 -8.35442e-10)\"><line x1=\"0\" x2=\"0\" y1=\"0\" y2=\"8.35442e-10\" /><path class=\"sym\" d=\"M -3,-3 l 6,6 M -3,3 l 6,-6\" /><text class=\"lab rgt\" transform=\"translate(5 0)\">4</text></g><rect class=\"sym\" height=\"6\" width=\"6\" x=\"-3\" y=\"-3\" /><text class=\"lab\" transform=\"translate(0 11)\">3</text></g><g class=\"a25 c1 node n22 p0\" transform=\"translate(-10.8571 0.603786)\"><g class=\"a22 c1 node n17 p0\" transform=\"translate(0.0 6.46384)\"><g class=\"a17 c1 node n8 p0\" transform=\"translate(0.0 4.84927)\"><g class=\"a8 leaf m1 node n0 p0 s0 sample\" transform=\"translate(0.0 1.65546)\"><path class=\"edge\" d=\"M 0 0 V -1.65546 H 0.0\" /><g class=\"mut m1 s0\" transform=\"translate(0 -8.35442e-10)\"><line x1=\"0\" x2=\"0\" y1=\"0\" y2=\"8.35442e-10\" /><path class=\"sym\" d=\"M -3,-3 l 6,6 M -3,3 l 6,-6\" /><text class=\"lab lft\" transform=\"translate(-5 0)\">1</text></g><rect class=\"sym\" height=\"6\" width=\"6\" x=\"-3\" y=\"-3\" /><text class=\"lab\" transform=\"translate(0 11)\">0</text></g><path class=\"edge\" d=\"M 0 0 V -4.84927 H 0.0\" /><circle class=\"sym\" cx=\"0\" cy=\"0\" r=\"3\" /><text class=\"lab lft\" transform=\"translate(-3 -7)\">8</text></g><path class=\"edge\" d=\"M 0 0 V -6.46384 H 0.0\" /><circle class=\"sym\" cx=\"0\" cy=\"0\" r=\"3\" /><text class=\"lab lft\" transform=\"translate(-3 -7)\">17</text></g><path class=\"edge\" d=\"M 0 0 V -0.603786 H 10.8571\" /><circle class=\"sym\" cx=\"0\" cy=\"0\" r=\"3\" /><text class=\"lab lft\" transform=\"translate(-3 -7)\">22</text></g><path class=\"edge\" d=\"M 0 0 V -1.33799 H 0.0\" /><circle class=\"sym\" cx=\"0\" cy=\"0\" r=\"3\" /><text class=\"lab lft\" transform=\"translate(-3 -7)\">25</text></g><path class=\"edge\" d=\"M 0 0 V -9.3567 H 21.7143\" /><circle class=\"sym\" cx=\"0\" cy=\"0\" r=\"3\" /><text class=\"lab lft\" transform=\"translate(-3 -7)\">26</text></g><path class=\"edge\" d=\"M 0 0 V -25.0228 H 27.1429\" /><g class=\"mut m0 s0\" transform=\"translate(0 -16.4004)\"><line x1=\"0\" x2=\"0\" y1=\"0\" y2=\"16.4004\" /><path class=\"sym\" d=\"M -3,-3 l 6,6 M -3,3 l 6,-6\" /><text class=\"lab lft\" transform=\"translate(-5 0)\">0</text></g><circle class=\"sym\" cx=\"0\" cy=\"0\" r=\"3\" /><text class=\"lab lft\" transform=\"translate(-3 -7)\">33</text></g><path class=\"edge\" d=\"M 0 0 V -3.07195 H 0.0\" /><circle class=\"sym\" cx=\"0\" cy=\"0\" r=\"3\" /><text class=\"lab lft\" transform=\"translate(-3 -7)\">44</text></g><path class=\"edge\" d=\"M 0 0 V -24.9237 H 0.0\" /><circle class=\"sym\" cx=\"0\" cy=\"0\" r=\"3\" /><text class=\"lab lft\" transform=\"translate(-3 -7)\">45</text></g><path class=\"edge\" d=\"M 0 0 V -1.81874 H 29.8571\" /><circle class=\"sym\" cx=\"0\" cy=\"0\" r=\"3\" /><text class=\"lab lft\" transform=\"translate(-3 -7)\">50</text></g><circle class=\"sym\" cx=\"0\" cy=\"0\" r=\"3\" /><text class=\"lab\" transform=\"translate(0 -11)\">53</text></g></g></g><g class=\"tree t1\" transform=\"translate(212 0)\"><g class=\"plotbox\"><g class=\"c2 node n53 p0 root\" transform=\"translate(116.583 42.2958)\"><g class=\"a53 c1 node n41 p0\" transform=\"translate(30.0833 36.1445)\"><g class=\"a41 c1 node n38 p0\" transform=\"translate(0.0 4.79875)\"><g class=\"a38 c2 node n37 p0\" transform=\"translate(0.0 4.68389)\"><g class=\"a37 leaf m8 node n1 p0 s1 sample\" transform=\"translate(-12.6667 33.4771)\"><path class=\"edge\" d=\"M 0 0 V -33.4771 H 12.6667\" /><g class=\"mut m8 s1\" transform=\"translate(0 -8.35442e-10)\"><line x1=\"0\" x2=\"0\" y1=\"0\" y2=\"8.35442e-10\" /><path class=\"sym\" d=\"M -3,-3 l 6,6 M -3,3 l 6,-6\" /><text class=\"lab lft\" transform=\"translate(-5 0)\">8</text></g><rect class=\"sym\" height=\"6\" width=\"6\" x=\"-3\" y=\"-3\" /><text class=\"lab\" transform=\"translate(0 11)\">1</text></g><g class=\"a37 c1 node n30 p0\" transform=\"translate(12.6667 9.49879)\"><g class=\"a30 c1 node n14 p0\" transform=\"translate(0.0 18.2275)\"><g class=\"a14 leaf m9 node n2 p0 s1 sample\" transform=\"translate(0.0 5.75082)\"><path class=\"edge\" d=\"M 0 0 V -5.75082 H 0.0\" /><g class=\"mut m9 s1\" transform=\"translate(0 -8.35442e-10)\"><line x1=\"0\" x2=\"0\" y1=\"0\" y2=\"8.35442e-10\" /><path class=\"sym\" d=\"M -3,-3 l 6,6 M -3,3 l 6,-6\" /><text class=\"lab lft\" transform=\"translate(-5 0)\">9</text></g><rect class=\"sym\" height=\"6\" width=\"6\" x=\"-3\" y=\"-3\" /><text class=\"lab\" transform=\"translate(0 11)\">2</text></g><path class=\"edge\" d=\"M 0 0 V -18.2275 H 0.0\" /><circle class=\"sym\" cx=\"0\" cy=\"0\" r=\"3\" /><text class=\"lab lft\" transform=\"translate(-3 -7)\">14</text></g><path class=\"edge\" d=\"M 0 0 V -9.49879 H -12.6667\" /><circle class=\"sym\" cx=\"0\" cy=\"0\" r=\"3\" /><text class=\"lab rgt\" transform=\"translate(3 -7)\">30</text></g><path class=\"edge\" d=\"M 0 0 V -4.68389 H 0.0\" /><circle class=\"sym\" cx=\"0\" cy=\"0\" r=\"3\" /><text class=\"lab lft\" transform=\"translate(-3 -7)\">37</text></g><path class=\"edge\" d=\"M 0 0 V -4.79875 H 0.0\" /><circle class=\"sym\" cx=\"0\" cy=\"0\" r=\"3\" /><text class=\"lab lft\" transform=\"translate(-3 -7)\">38</text></g><path class=\"edge\" d=\"M 0 0 V -36.1445 H -30.0833\" /><circle class=\"sym\" cx=\"0\" cy=\"0\" r=\"3\" /><text class=\"lab rgt\" transform=\"translate(3 -7)\">41</text></g><g class=\"a53 c1 node n50 p0\" transform=\"translate(-30.0833 1.81874)\"><g class=\"a50 c2 node n49 p0\" transform=\"translate(0.0 4.04356)\"><g class=\"a49 c1 node n43 p0\" transform=\"translate(22.1667 30.2822)\"><g class=\"a43 leaf node n42 p0\" transform=\"translate(0.0 8.35444e-06)\"><path class=\"edge\" d=\"M 0 0 V -8.35444e-06 H 0.0\" /><circle class=\"sym\" cx=\"0\" cy=\"0\" r=\"3\" /><text class=\"lab\" transform=\"translate(0 11)\">42</text></g><path class=\"edge\" d=\"M 0 0 V -30.2822 H -22.1667\" /><circle class=\"sym\" cx=\"0\" cy=\"0\" r=\"3\" /><text class=\"lab rgt\" transform=\"translate(3 -7)\">43</text></g><g class=\"a49 c1 node n45 p0\" transform=\"translate(-22.1667 20.8801)\"><g class=\"a45 c2 node n44 p0\" transform=\"translate(0.0 3.07195)\"><g class=\"a44 c1 m6 node n5 p0 s1\" transform=\"translate(19 48.0024)\"><g class=\"a5 leaf m11 node n4 p0 s1 sample\" transform=\"translate(0.0 1.28742)\"><path class=\"edge\" d=\"M 0 0 V -1.28742 H 0.0\" /><g class=\"mut m11 s1\" transform=\"translate(0 -8.35442e-10)\"><line x1=\"0\" x2=\"0\" y1=\"0\" y2=\"8.35442e-10\" /><path class=\"sym\" d=\"M -3,-3 l 6,6 M -3,3 l 6,-6\" /><text class=\"lab lft\" transform=\"translate(-5 0)\">11</text></g><rect class=\"sym\" height=\"6\" width=\"6\" x=\"-3\" y=\"-3\" /><text class=\"lab\" transform=\"translate(0 11)\">4</text></g><path class=\"edge\" d=\"M 0 0 V -48.0024 H -19\" /><g class=\"mut m6 s1\" transform=\"translate(0 -21.7266)\"><line x1=\"0\" x2=\"0\" y1=\"0\" y2=\"21.7266\" /><path class=\"sym\" d=\"M -3,-3 l 6,6 M -3,3 l 6,-6\" /><text class=\"lab rgt\" transform=\"translate(5 0)\">6</text></g><circle class=\"sym\" cx=\"0\" cy=\"0\" r=\"3\" /><text class=\"lab rgt\" transform=\"translate(3 -7)\">5</text></g><g class=\"a44 c1 node n26 p0\" transform=\"translate(-19 34.3795)\"><g class=\"a26 c2 node n25 p0\" transform=\"translate(0.0 1.33799)\"><g class=\"a25 leaf m10 node n3 p0 s1 sample\" transform=\"translate(12.6667 13.5724)\"><path class=\"edge\" d=\"M 0 0 V -13.5724 H -12.6667\" /><g class=\"mut m10 s1\" transform=\"translate(0 -8.35442e-10)\"><line x1=\"0\" x2=\"0\" y1=\"0\" y2=\"8.35442e-10\" /><path class=\"sym\" d=\"M -3,-3 l 6,6 M -3,3 l 6,-6\" /><text class=\"lab rgt\" transform=\"translate(5 0)\">10</text></g><rect class=\"sym\" height=\"6\" width=\"6\" x=\"-3\" y=\"-3\" /><text class=\"lab\" transform=\"translate(0 11)\">3</text></g><g class=\"a25 c1 node n22 p0\" transform=\"translate(-12.6667 0.603786)\"><g class=\"a22 c1 node n17 p0\" transform=\"translate(0.0 6.46384)\"><g class=\"a17 c1 node n8 p0\" transform=\"translate(0.0 4.84927)\"><g class=\"a8 leaf m7 node n0 p0 s1 sample\" transform=\"translate(0.0 1.65546)\"><path class=\"edge\" d=\"M 0 0 V -1.65546 H 0.0\" /><g class=\"mut m7 s1\" transform=\"translate(0 -8.35442e-10)\"><line x1=\"0\" x2=\"0\" y1=\"0\" y2=\"8.35442e-10\" /><path class=\"sym\" d=\"M -3,-3 l 6,6 M -3,3 l 6,-6\" /><text class=\"lab lft\" transform=\"translate(-5 0)\">7</text></g><rect class=\"sym\" height=\"6\" width=\"6\" x=\"-3\" y=\"-3\" /><text class=\"lab\" transform=\"translate(0 11)\">0</text></g><path class=\"edge\" d=\"M 0 0 V -4.84927 H 0.0\" /><circle class=\"sym\" cx=\"0\" cy=\"0\" r=\"3\" /><text class=\"lab lft\" transform=\"translate(-3 -7)\">8</text></g><path class=\"edge\" d=\"M 0 0 V -6.46384 H 0.0\" /><circle class=\"sym\" cx=\"0\" cy=\"0\" r=\"3\" /><text class=\"lab lft\" transform=\"translate(-3 -7)\">17</text></g><path class=\"edge\" d=\"M 0 0 V -0.603786 H 12.6667\" /><circle class=\"sym\" cx=\"0\" cy=\"0\" r=\"3\" /><text class=\"lab lft\" transform=\"translate(-3 -7)\">22</text></g><path class=\"edge\" d=\"M 0 0 V -1.33799 H 0.0\" /><circle class=\"sym\" cx=\"0\" cy=\"0\" r=\"3\" /><text class=\"lab lft\" transform=\"translate(-3 -7)\">25</text></g><path class=\"edge\" d=\"M 0 0 V -34.3795 H 19\" /><circle class=\"sym\" cx=\"0\" cy=\"0\" r=\"3\" /><text class=\"lab lft\" transform=\"translate(-3 -7)\">26</text></g><path class=\"edge\" d=\"M 0 0 V -3.07195 H 0.0\" /><circle class=\"sym\" cx=\"0\" cy=\"0\" r=\"3\" /><text class=\"lab lft\" transform=\"translate(-3 -7)\">44</text></g><path class=\"edge\" d=\"M 0 0 V -20.8801 H 22.1667\" /><circle class=\"sym\" cx=\"0\" cy=\"0\" r=\"3\" /><text class=\"lab lft\" transform=\"translate(-3 -7)\">45</text></g><path class=\"edge\" d=\"M 0 0 V -4.04356 H 0.0\" /><circle class=\"sym\" cx=\"0\" cy=\"0\" r=\"3\" /><text class=\"lab lft\" transform=\"translate(-3 -7)\">49</text></g><path class=\"edge\" d=\"M 0 0 V -1.81874 H 30.0833\" /><circle class=\"sym\" cx=\"0\" cy=\"0\" r=\"3\" /><text class=\"lab lft\" transform=\"translate(-3 -7)\">50</text></g><circle class=\"sym\" cx=\"0\" cy=\"0\" r=\"3\" /><text class=\"lab\" transform=\"translate(0 -11)\">53</text></g></g></g><g class=\"tree t2\" transform=\"translate(404 0)\"><g class=\"plotbox\"><g class=\"c2 node n53 p0 root\" transform=\"translate(111.438 42.2958)\"><g class=\"a53 c1 node n41 p0\" transform=\"translate(36.8125 36.1445)\"><g class=\"a41 c1 node n38 p0\" transform=\"translate(0.0 4.79875)\"><g class=\"a38 c2 node n37 p0\" transform=\"translate(0.0 4.68389)\"><g class=\"a37 c1 node n30 p0\" transform=\"translate(14.25 9.49879)\"><g class=\"a30 c1 node n14 p0\" transform=\"translate(0.0 18.2275)\"><g class=\"a14 leaf m15 node n2 p0 s2 sample\" transform=\"translate(0.0 5.75082)\"><path class=\"edge\" d=\"M 0 0 V -5.75082 H 0.0\" /><g class=\"mut m15 s2\" transform=\"translate(0 -8.35442e-10)\"><line x1=\"0\" x2=\"0\" y1=\"0\" y2=\"8.35442e-10\" /><path class=\"sym\" d=\"M -3,-3 l 6,6 M -3,3 l 6,-6\" /><text class=\"lab lft\" transform=\"translate(-5 0)\">15</text></g><rect class=\"sym\" height=\"6\" width=\"6\" x=\"-3\" y=\"-3\" /><text class=\"lab\" transform=\"translate(0 11)\">2</text></g><path class=\"edge\" d=\"M 0 0 V -18.2275 H 0.0\" /><circle class=\"sym\" cx=\"0\" cy=\"0\" r=\"3\" /><text class=\"lab lft\" transform=\"translate(-3 -7)\">14</text></g><path class=\"edge\" d=\"M 0 0 V -9.49879 H -14.25\" /><circle class=\"sym\" cx=\"0\" cy=\"0\" r=\"3\" /><text class=\"lab rgt\" transform=\"translate(3 -7)\">30</text></g><g class=\"a37 c2 node n29 p0\" transform=\"translate(-14.25 17.0615)\"><g class=\"a29 leaf m14 node n1 p0 s2 sample\" transform=\"translate(-9.5 16.4156)\"><path class=\"edge\" d=\"M 0 0 V -16.4156 H 9.5\" /><g class=\"mut m14 s2\" transform=\"translate(0 -8.35442e-10)\"><line x1=\"0\" x2=\"0\" y1=\"0\" y2=\"8.35442e-10\" /><path class=\"sym\" d=\"M -3,-3 l 6,6 M -3,3 l 6,-6\" /><text class=\"lab lft\" transform=\"translate(-5 0)\">14</text></g><rect class=\"sym\" height=\"6\" width=\"6\" x=\"-3\" y=\"-3\" /><text class=\"lab\" transform=\"translate(0 11)\">1</text></g><g class=\"a29 c1 node n28 p0\" transform=\"translate(9.5 1.50522)\"><g class=\"a28 leaf node n27 p0\" transform=\"translate(0.0 8.35444e-06)\"><path class=\"edge\" d=\"M 0 0 V -8.35444e-06 H 0.0\" /><circle class=\"sym\" cx=\"0\" cy=\"0\" r=\"3\" /><text class=\"lab\" transform=\"translate(0 11)\">27</text></g><path class=\"edge\" d=\"M 0 0 V -1.50522 H -9.5\" /><circle class=\"sym\" cx=\"0\" cy=\"0\" r=\"3\" /><text class=\"lab rgt\" transform=\"translate(3 -7)\">28</text></g><path class=\"edge\" d=\"M 0 0 V -17.0615 H 14.25\" /><circle class=\"sym\" cx=\"0\" cy=\"0\" r=\"3\" /><text class=\"lab lft\" transform=\"translate(-3 -7)\">29</text></g><path class=\"edge\" d=\"M 0 0 V -4.68389 H 0.0\" /><circle class=\"sym\" cx=\"0\" cy=\"0\" r=\"3\" /><text class=\"lab lft\" transform=\"translate(-3 -7)\">37</text></g><path class=\"edge\" d=\"M 0 0 V -4.79875 H 0.0\" /><circle class=\"sym\" cx=\"0\" cy=\"0\" r=\"3\" /><text class=\"lab lft\" transform=\"translate(-3 -7)\">38</text></g><path class=\"edge\" d=\"M 0 0 V -36.1445 H -36.8125\" /><circle class=\"sym\" cx=\"0\" cy=\"0\" r=\"3\" /><text class=\"lab rgt\" transform=\"translate(3 -7)\">41</text></g><g class=\"a53 c1 node n50 p0\" transform=\"translate(-36.8125 1.81874)\"><g class=\"a50 c1 node n45 p0\" transform=\"translate(0.0 24.9237)\"><g class=\"a45 c2 node n44 p0\" transform=\"translate(0.0 3.07195)\"><g class=\"a44 c2 node n20 p0\" transform=\"translate(21.375 41.1304)\"><g class=\"a20 c1 node n5 p0\" transform=\"translate(-9.5 6.87201)\"><g class=\"a5 leaf m17 node n4 p0 s2 sample\" transform=\"translate(0.0 1.28742)\"><path class=\"edge\" d=\"M 0 0 V -1.28742 H 0.0\" /><g class=\"mut m17 s2\" transform=\"translate(0 -8.35442e-10)\"><line x1=\"0\" x2=\"0\" y1=\"0\" y2=\"8.35442e-10\" /><path class=\"sym\" d=\"M -3,-3 l 6,6 M -3,3 l 6,-6\" /><text class=\"lab lft\" transform=\"translate(-5 0)\">17</text></g><rect class=\"sym\" height=\"6\" width=\"6\" x=\"-3\" y=\"-3\" /><text class=\"lab\" transform=\"translate(0 11)\">4</text></g><path class=\"edge\" d=\"M 0 0 V -6.87201 H 9.5\" /><circle class=\"sym\" cx=\"0\" cy=\"0\" r=\"3\" /><text class=\"lab lft\" transform=\"translate(-3 -7)\">5</text></g><g class=\"a20 c1 node n16 p0\" transform=\"translate(9.5 2.4086)\"><g class=\"a16 leaf node n15 p0\" transform=\"translate(0.0 8.35444e-06)\"><path class=\"edge\" d=\"M 0 0 V -8.35444e-06 H 0.0\" /><circle class=\"sym\" cx=\"0\" cy=\"0\" r=\"3\" /><text class=\"lab\" transform=\"translate(0 11)\">15</text></g><path class=\"edge\" d=\"M 0 0 V -2.4086 H -9.5\" /><circle class=\"sym\" cx=\"0\" cy=\"0\" r=\"3\" /><text class=\"lab rgt\" transform=\"translate(3 -7)\">16</text></g><path class=\"edge\" d=\"M 0 0 V -41.1304 H -21.375\" /><circle class=\"sym\" cx=\"0\" cy=\"0\" r=\"3\" /><text class=\"lab rgt\" transform=\"translate(3 -7)\">20</text></g><g class=\"a44 c2 node n35 p0\" transform=\"translate(-21.375 24.0921)\"><g class=\"a35 c1 node n24 p0\" transform=\"translate(14.25 12.2291)\"><g class=\"a24 leaf node n23 p0\" transform=\"translate(0.0 8.35444e-06)\"><path class=\"edge\" d=\"M 0 0 V -8.35444e-06 H 0.0\" /><circle class=\"sym\" cx=\"0\" cy=\"0\" r=\"3\" /><text class=\"lab\" transform=\"translate(0 11)\">23</text></g><path class=\"edge\" d=\"M 0 0 V -12.2291 H -14.25\" /><circle class=\"sym\" cx=\"0\" cy=\"0\" r=\"3\" /><text class=\"lab rgt\" transform=\"translate(3 -7)\">24</text></g><g class=\"a35 c1 node n26 p0\" transform=\"translate(-14.25 10.2874)\"><g class=\"a26 c2 node n25 p0\" transform=\"translate(0.0 1.33799)\"><g class=\"a25 leaf m12 m16 node n3 p0 s2 sample\" transform=\"translate(9.5 13.5724)\"><path class=\"edge\" d=\"M 0 0 V -13.5724 H -9.5\" /><g class=\"mut m12 s2\" transform=\"translate(0 -13.2916)\"><line x1=\"0\" x2=\"0\" y1=\"0\" y2=\"13.2916\" /><path class=\"sym\" d=\"M -3,-3 l 6,6 M -3,3 l 6,-6\" /><text class=\"lab rgt\" transform=\"translate(5 0)\">12</text></g><g class=\"mut m16 s2\" transform=\"translate(0 -8.35442e-10)\"><line x1=\"0\" x2=\"0\" y1=\"0\" y2=\"8.35442e-10\" /><path class=\"sym\" d=\"M -3,-3 l 6,6 M -3,3 l 6,-6\" /><text class=\"lab rgt\" transform=\"translate(5 0)\">16</text></g><rect class=\"sym\" height=\"6\" width=\"6\" x=\"-3\" y=\"-3\" /><text class=\"lab\" transform=\"translate(0 11)\">3</text></g><g class=\"a25 c1 node n22 p0\" transform=\"translate(-9.5 0.603786)\"><g class=\"a22 c1 node n17 p0\" transform=\"translate(0.0 6.46384)\"><g class=\"a17 c1 node n8 p0\" transform=\"translate(0.0 4.84927)\"><g class=\"a8 leaf m13 node n0 p0 s2 sample\" transform=\"translate(0.0 1.65546)\"><path class=\"edge\" d=\"M 0 0 V -1.65546 H 0.0\" /><g class=\"mut m13 s2\" transform=\"translate(0 -8.35442e-10)\"><line x1=\"0\" x2=\"0\" y1=\"0\" y2=\"8.35442e-10\" /><path class=\"sym\" d=\"M -3,-3 l 6,6 M -3,3 l 6,-6\" /><text class=\"lab lft\" transform=\"translate(-5 0)\">13</text></g><rect class=\"sym\" height=\"6\" width=\"6\" x=\"-3\" y=\"-3\" /><text class=\"lab\" transform=\"translate(0 11)\">0</text></g><path class=\"edge\" d=\"M 0 0 V -4.84927 H 0.0\" /><circle class=\"sym\" cx=\"0\" cy=\"0\" r=\"3\" /><text class=\"lab lft\" transform=\"translate(-3 -7)\">8</text></g><path class=\"edge\" d=\"M 0 0 V -6.46384 H 0.0\" /><circle class=\"sym\" cx=\"0\" cy=\"0\" r=\"3\" /><text class=\"lab lft\" transform=\"translate(-3 -7)\">17</text></g><path class=\"edge\" d=\"M 0 0 V -0.603786 H 9.5\" /><circle class=\"sym\" cx=\"0\" cy=\"0\" r=\"3\" /><text class=\"lab lft\" transform=\"translate(-3 -7)\">22</text></g><path class=\"edge\" d=\"M 0 0 V -1.33799 H 0.0\" /><circle class=\"sym\" cx=\"0\" cy=\"0\" r=\"3\" /><text class=\"lab lft\" transform=\"translate(-3 -7)\">25</text></g><path class=\"edge\" d=\"M 0 0 V -10.2874 H 14.25\" /><circle class=\"sym\" cx=\"0\" cy=\"0\" r=\"3\" /><text class=\"lab lft\" transform=\"translate(-3 -7)\">26</text></g><path class=\"edge\" d=\"M 0 0 V -24.0921 H 21.375\" /><circle class=\"sym\" cx=\"0\" cy=\"0\" r=\"3\" /><text class=\"lab lft\" transform=\"translate(-3 -7)\">35</text></g><path class=\"edge\" d=\"M 0 0 V -3.07195 H 0.0\" /><circle class=\"sym\" cx=\"0\" cy=\"0\" r=\"3\" /><text class=\"lab lft\" transform=\"translate(-3 -7)\">44</text></g><path class=\"edge\" d=\"M 0 0 V -24.9237 H 0.0\" /><circle class=\"sym\" cx=\"0\" cy=\"0\" r=\"3\" /><text class=\"lab lft\" transform=\"translate(-3 -7)\">45</text></g><path class=\"edge\" d=\"M 0 0 V -1.81874 H 36.8125\" /><circle class=\"sym\" cx=\"0\" cy=\"0\" r=\"3\" /><text class=\"lab lft\" transform=\"translate(-3 -7)\">50</text></g><circle class=\"sym\" cx=\"0\" cy=\"0\" r=\"3\" /><text class=\"lab\" transform=\"translate(0 -11)\">53</text></g></g></g><g class=\"tree t3\" transform=\"translate(596 0)\"><g class=\"plotbox\"><g class=\"c2 node n54 p0 root\" transform=\"translate(131.031 26.8)\"><g class=\"a54 c1 node n52 p0\" transform=\"translate(31.4688 17.3145)\"><g class=\"a52 leaf node n51 p0\" transform=\"translate(0.0 8.35444e-06)\"><path class=\"edge\" d=\"M 0 0 V -8.35444e-06 H 0.0\" /><circle class=\"sym\" cx=\"0\" cy=\"0\" r=\"3\" /><text class=\"lab\" transform=\"translate(0 11)\">51</text></g><path class=\"edge\" d=\"M 0 0 V -17.3145 H -31.4688\" /><circle class=\"sym\" cx=\"0\" cy=\"0\" r=\"3\" /><text class=\"lab rgt\" transform=\"translate(3 -7)\">52</text></g><g class=\"a54 c2 node n53 p0\" transform=\"translate(-31.4688 15.4958)\"><g class=\"a53 c1 node n41 p0\" transform=\"translate(29.6875 36.1445)\"><g class=\"a41 c1 node n38 p0\" transform=\"translate(0.0 4.79875)\"><g class=\"a38 c2 node n37 p0\" transform=\"translate(0.0 4.68389)\"><g class=\"a37 c1 node n30 p0\" transform=\"translate(14.25 9.49879)\"><g class=\"a30 c1 node n14 p0\" transform=\"translate(0.0 18.2275)\"><g class=\"a14 leaf m21 node n2 p0 s3 sample\" transform=\"translate(0.0 5.75082)\"><path class=\"edge\" d=\"M 0 0 V -5.75082 H 0.0\" /><g class=\"mut m21 s3\" transform=\"translate(0 -8.35442e-10)\"><line x1=\"0\" x2=\"0\" y1=\"0\" y2=\"8.35442e-10\" /><path class=\"sym\" d=\"M -3,-3 l 6,6 M -3,3 l 6,-6\" /><text class=\"lab lft\" transform=\"translate(-5 0)\">21</text></g><rect class=\"sym\" height=\"6\" width=\"6\" x=\"-3\" y=\"-3\" /><text class=\"lab\" transform=\"translate(0 11)\">2</text></g><path class=\"edge\" d=\"M 0 0 V -18.2275 H 0.0\" /><circle class=\"sym\" cx=\"0\" cy=\"0\" r=\"3\" /><text class=\"lab lft\" transform=\"translate(-3 -7)\">14</text></g><path class=\"edge\" d=\"M 0 0 V -9.49879 H -14.25\" /><circle class=\"sym\" cx=\"0\" cy=\"0\" r=\"3\" /><text class=\"lab rgt\" transform=\"translate(3 -7)\">30</text></g><g class=\"a37 c2 node n36 p0\" transform=\"translate(-14.25 4.60951)\"><g class=\"a36 leaf m20 node n1 p0 s3 sample\" transform=\"translate(-9.5 28.8676)\"><path class=\"edge\" d=\"M 0 0 V -28.8676 H 9.5\" /><g class=\"mut m20 s3\" transform=\"translate(0 -8.35442e-10)\"><line x1=\"0\" x2=\"0\" y1=\"0\" y2=\"8.35442e-10\" /><path class=\"sym\" d=\"M -3,-3 l 6,6 M -3,3 l 6,-6\" /><text class=\"lab lft\" transform=\"translate(-5 0)\">20</text></g><rect class=\"sym\" height=\"6\" width=\"6\" x=\"-3\" y=\"-3\" /><text class=\"lab\" transform=\"translate(0 11)\">1</text></g><g class=\"a36 c1 node n13 p0\" transform=\"translate(9.5 25.6622)\"><g class=\"a13 leaf node n12 p0\" transform=\"translate(0.0 8.35444e-06)\"><path class=\"edge\" d=\"M 0 0 V -8.35444e-06 H 0.0\" /><circle class=\"sym\" cx=\"0\" cy=\"0\" r=\"3\" /><text class=\"lab\" transform=\"translate(0 11)\">12</text></g><path class=\"edge\" d=\"M 0 0 V -25.6622 H -9.5\" /><circle class=\"sym\" cx=\"0\" cy=\"0\" r=\"3\" /><text class=\"lab rgt\" transform=\"translate(3 -7)\">13</text></g><path class=\"edge\" d=\"M 0 0 V -4.60951 H 14.25\" /><circle class=\"sym\" cx=\"0\" cy=\"0\" r=\"3\" /><text class=\"lab lft\" transform=\"translate(-3 -7)\">36</text></g><path class=\"edge\" d=\"M 0 0 V -4.68389 H 0.0\" /><circle class=\"sym\" cx=\"0\" cy=\"0\" r=\"3\" /><text class=\"lab lft\" transform=\"translate(-3 -7)\">37</text></g><path class=\"edge\" d=\"M 0 0 V -4.79875 H 0.0\" /><circle class=\"sym\" cx=\"0\" cy=\"0\" r=\"3\" /><text class=\"lab lft\" transform=\"translate(-3 -7)\">38</text></g><path class=\"edge\" d=\"M 0 0 V -36.1445 H -29.6875\" /><circle class=\"sym\" cx=\"0\" cy=\"0\" r=\"3\" /><text class=\"lab rgt\" transform=\"translate(3 -7)\">41</text></g><g class=\"a53 c1 node n50 p0\" transform=\"translate(-29.6875 1.81874)\"><g class=\"a50 c1 m18 node n45 p0 s3\" transform=\"translate(0.0 24.9237)\"><g class=\"a45 c2 node n44 p0\" transform=\"translate(0.0 3.07195)\"><g class=\"a44 c1 node n5 p0\" transform=\"translate(16.625 48.0024)\"><g class=\"a5 leaf m23 node n4 p0 s3 sample\" transform=\"translate(0.0 1.28742)\"><path class=\"edge\" d=\"M 0 0 V -1.28742 H 0.0\" /><g class=\"mut m23 s3\" transform=\"translate(0 -8.35442e-10)\"><line x1=\"0\" x2=\"0\" y1=\"0\" y2=\"8.35442e-10\" /><path class=\"sym\" d=\"M -3,-3 l 6,6 M -3,3 l 6,-6\" /><text class=\"lab lft\" transform=\"translate(-5 0)\">23</text></g><rect class=\"sym\" height=\"6\" width=\"6\" x=\"-3\" y=\"-3\" /><text class=\"lab\" transform=\"translate(0 11)\">4</text></g><path class=\"edge\" d=\"M 0 0 V -48.0024 H -16.625\" /><circle class=\"sym\" cx=\"0\" cy=\"0\" r=\"3\" /><text class=\"lab rgt\" transform=\"translate(3 -7)\">5</text></g><g class=\"a44 c2 node n33 p0\" transform=\"translate(-16.625 25.0228)\"><g class=\"a33 c1 node n11 p0\" transform=\"translate(14.25 21.0617)\"><g class=\"a11 c1 node n7 p0\" transform=\"translate(0.0 1.91796)\"><g class=\"a7 leaf node n6 p0\" transform=\"translate(0.0 8.35444e-06)\"><path class=\"edge\" d=\"M 0 0 V -8.35444e-06 H 0.0\" /><circle class=\"sym\" cx=\"0\" cy=\"0\" r=\"3\" /><text class=\"lab\" transform=\"translate(0 11)\">6</text></g><path class=\"edge\" d=\"M 0 0 V -1.91796 H 0.0\" /><circle class=\"sym\" cx=\"0\" cy=\"0\" r=\"3\" /><text class=\"lab lft\" transform=\"translate(-3 -7)\">7</text></g><path class=\"edge\" d=\"M 0 0 V -21.0617 H -14.25\" /><circle class=\"sym\" cx=\"0\" cy=\"0\" r=\"3\" /><text class=\"lab rgt\" transform=\"translate(3 -7)\">11</text></g><g class=\"a33 c1 node n26 p0\" transform=\"translate(-14.25 9.3567)\"><g class=\"a26 c2 node n25 p0\" transform=\"translate(0.0 1.33799)\"><g class=\"a25 leaf m22 node n3 p0 s3 sample\" transform=\"translate(9.5 13.5724)\"><path class=\"edge\" d=\"M 0 0 V -13.5724 H -9.5\" /><g class=\"mut m22 s3\" transform=\"translate(0 -8.35442e-10)\"><line x1=\"0\" x2=\"0\" y1=\"0\" y2=\"8.35442e-10\" /><path class=\"sym\" d=\"M -3,-3 l 6,6 M -3,3 l 6,-6\" /><text class=\"lab rgt\" transform=\"translate(5 0)\">22</text></g><rect class=\"sym\" height=\"6\" width=\"6\" x=\"-3\" y=\"-3\" /><text class=\"lab\" transform=\"translate(0 11)\">3</text></g><g class=\"a25 c1 node n22 p0\" transform=\"translate(-9.5 0.603786)\"><g class=\"a22 c1 node n17 p0\" transform=\"translate(0.0 6.46384)\"><g class=\"a17 c1 node n8 p0\" transform=\"translate(0.0 4.84927)\"><g class=\"a8 leaf m19 node n0 p0 s3 sample\" transform=\"translate(0.0 1.65546)\"><path class=\"edge\" d=\"M 0 0 V -1.65546 H 0.0\" /><g class=\"mut m19 s3\" transform=\"translate(0 -8.35442e-10)\"><line x1=\"0\" x2=\"0\" y1=\"0\" y2=\"8.35442e-10\" /><path class=\"sym\" d=\"M -3,-3 l 6,6 M -3,3 l 6,-6\" /><text class=\"lab lft\" transform=\"translate(-5 0)\">19</text></g><rect class=\"sym\" height=\"6\" width=\"6\" x=\"-3\" y=\"-3\" /><text class=\"lab\" transform=\"translate(0 11)\">0</text></g><path class=\"edge\" d=\"M 0 0 V -4.84927 H 0.0\" /><circle class=\"sym\" cx=\"0\" cy=\"0\" r=\"3\" /><text class=\"lab lft\" transform=\"translate(-3 -7)\">8</text></g><path class=\"edge\" d=\"M 0 0 V -6.46384 H 0.0\" /><circle class=\"sym\" cx=\"0\" cy=\"0\" r=\"3\" /><text class=\"lab lft\" transform=\"translate(-3 -7)\">17</text></g><path class=\"edge\" d=\"M 0 0 V -0.603786 H 9.5\" /><circle class=\"sym\" cx=\"0\" cy=\"0\" r=\"3\" /><text class=\"lab lft\" transform=\"translate(-3 -7)\">22</text></g><path class=\"edge\" d=\"M 0 0 V -1.33799 H 0.0\" /><circle class=\"sym\" cx=\"0\" cy=\"0\" r=\"3\" /><text class=\"lab lft\" transform=\"translate(-3 -7)\">25</text></g><path class=\"edge\" d=\"M 0 0 V -9.3567 H 14.25\" /><circle class=\"sym\" cx=\"0\" cy=\"0\" r=\"3\" /><text class=\"lab lft\" transform=\"translate(-3 -7)\">26</text></g><path class=\"edge\" d=\"M 0 0 V -25.0228 H 16.625\" /><circle class=\"sym\" cx=\"0\" cy=\"0\" r=\"3\" /><text class=\"lab lft\" transform=\"translate(-3 -7)\">33</text></g><path class=\"edge\" d=\"M 0 0 V -3.07195 H 0.0\" /><circle class=\"sym\" cx=\"0\" cy=\"0\" r=\"3\" /><text class=\"lab lft\" transform=\"translate(-3 -7)\">44</text></g><path class=\"edge\" d=\"M 0 0 V -24.9237 H 0.0\" /><g class=\"mut m18 s3\" transform=\"translate(0 -8.69616)\"><line x1=\"0\" x2=\"0\" y1=\"0\" y2=\"8.69616\" /><path class=\"sym\" d=\"M -3,-3 l 6,6 M -3,3 l 6,-6\" /><text class=\"lab lft\" transform=\"translate(-5 0)\">18</text></g><circle class=\"sym\" cx=\"0\" cy=\"0\" r=\"3\" /><text class=\"lab lft\" transform=\"translate(-3 -7)\">45</text></g><path class=\"edge\" d=\"M 0 0 V -1.81874 H 29.6875\" /><circle class=\"sym\" cx=\"0\" cy=\"0\" r=\"3\" /><text class=\"lab lft\" transform=\"translate(-3 -7)\">50</text></g><path class=\"edge\" d=\"M 0 0 V -15.4958 H 31.4688\" /><circle class=\"sym\" cx=\"0\" cy=\"0\" r=\"3\" /><text class=\"lab lft\" transform=\"translate(-3 -7)\">53</text></g><circle class=\"sym\" cx=\"0\" cy=\"0\" r=\"3\" /><text class=\"lab\" transform=\"translate(0 -11)\">54</text></g></g></g><g class=\"tree t4\" transform=\"translate(788 0)\"><g class=\"plotbox\"><g class=\"c2 node n54 p0 root\" transform=\"translate(126.281 26.8)\"><g class=\"a54 c2 node n53 p0\" transform=\"translate(-36.2188 15.4958)\"><g class=\"a53 c1 node n50 p0\" transform=\"translate(-36.8125 1.81874)\"><g class=\"a50 c1 node n45 p0\" transform=\"translate(0.0 24.9237)\"><g class=\"a45 c2 node n44 p0\" transform=\"translate(0.0 3.07195)\"><g class=\"a44 c1 node n5 p0\" transform=\"translate(14.25 48.0024)\"><g class=\"a5 leaf m29 node n4 p0 s4 sample\" transform=\"translate(0.0 1.28742)\"><path class=\"edge\" d=\"M 0 0 V -1.28742 H 0.0\" /><g class=\"mut m29 s4\" transform=\"translate(0 -8.35442e-10)\"><line x1=\"0\" x2=\"0\" y1=\"0\" y2=\"8.35442e-10\" /><path class=\"sym\" d=\"M -3,-3 l 6,6 M -3,3 l 6,-6\" /><text class=\"lab lft\" transform=\"translate(-5 0)\">29</text></g><rect class=\"sym\" height=\"6\" width=\"6\" x=\"-3\" y=\"-3\" /><text class=\"lab\" transform=\"translate(0 11)\">4</text></g><path class=\"edge\" d=\"M 0 0 V -48.0024 H -14.25\" /><circle class=\"sym\" cx=\"0\" cy=\"0\" r=\"3\" /><text class=\"lab rgt\" transform=\"translate(3 -7)\">5</text></g><g class=\"a44 c1 node n26 p0\" transform=\"translate(-14.25 34.3795)\"><g class=\"a26 c2 node n25 p0\" transform=\"translate(0.0 1.33799)\"><g class=\"a25 leaf m28 node n3 p0 s4 sample\" transform=\"translate(9.5 13.5724)\"><path class=\"edge\" d=\"M 0 0 V -13.5724 H -9.5\" /><g class=\"mut m28 s4\" transform=\"translate(0 -8.35442e-10)\"><line x1=\"0\" x2=\"0\" y1=\"0\" y2=\"8.35442e-10\" /><path class=\"sym\" d=\"M -3,-3 l 6,6 M -3,3 l 6,-6\" /><text class=\"lab rgt\" transform=\"translate(5 0)\">28</text></g><rect class=\"sym\" height=\"6\" width=\"6\" x=\"-3\" y=\"-3\" /><text class=\"lab\" transform=\"translate(0 11)\">3</text></g><g class=\"a25 c1 node n22 p0\" transform=\"translate(-9.5 0.603786)\"><g class=\"a22 c1 node n17 p0\" transform=\"translate(0.0 6.46384)\"><g class=\"a17 c1 node n8 p0\" transform=\"translate(0.0 4.84927)\"><g class=\"a8 leaf m25 node n0 p0 s4 sample\" transform=\"translate(0.0 1.65546)\"><path class=\"edge\" d=\"M 0 0 V -1.65546 H 0.0\" /><g class=\"mut m25 s4\" transform=\"translate(0 -8.35442e-10)\"><line x1=\"0\" x2=\"0\" y1=\"0\" y2=\"8.35442e-10\" /><path class=\"sym\" d=\"M -3,-3 l 6,6 M -3,3 l 6,-6\" /><text class=\"lab lft\" transform=\"translate(-5 0)\">25</text></g><rect class=\"sym\" height=\"6\" width=\"6\" x=\"-3\" y=\"-3\" /><text class=\"lab\" transform=\"translate(0 11)\">0</text></g><path class=\"edge\" d=\"M 0 0 V -4.84927 H 0.0\" /><circle class=\"sym\" cx=\"0\" cy=\"0\" r=\"3\" /><text class=\"lab lft\" transform=\"translate(-3 -7)\">8</text></g><path class=\"edge\" d=\"M 0 0 V -6.46384 H 0.0\" /><circle class=\"sym\" cx=\"0\" cy=\"0\" r=\"3\" /><text class=\"lab lft\" transform=\"translate(-3 -7)\">17</text></g><path class=\"edge\" d=\"M 0 0 V -0.603786 H 9.5\" /><circle class=\"sym\" cx=\"0\" cy=\"0\" r=\"3\" /><text class=\"lab lft\" transform=\"translate(-3 -7)\">22</text></g><path class=\"edge\" d=\"M 0 0 V -1.33799 H 0.0\" /><circle class=\"sym\" cx=\"0\" cy=\"0\" r=\"3\" /><text class=\"lab lft\" transform=\"translate(-3 -7)\">25</text></g><path class=\"edge\" d=\"M 0 0 V -34.3795 H 14.25\" /><circle class=\"sym\" cx=\"0\" cy=\"0\" r=\"3\" /><text class=\"lab lft\" transform=\"translate(-3 -7)\">26</text></g><path class=\"edge\" d=\"M 0 0 V -3.07195 H 0.0\" /><circle class=\"sym\" cx=\"0\" cy=\"0\" r=\"3\" /><text class=\"lab lft\" transform=\"translate(-3 -7)\">44</text></g><path class=\"edge\" d=\"M 0 0 V -24.9237 H 0.0\" /><circle class=\"sym\" cx=\"0\" cy=\"0\" r=\"3\" /><text class=\"lab lft\" transform=\"translate(-3 -7)\">45</text></g><path class=\"edge\" d=\"M 0 0 V -1.81874 H 36.8125\" /><circle class=\"sym\" cx=\"0\" cy=\"0\" r=\"3\" /><text class=\"lab lft\" transform=\"translate(-3 -7)\">50</text></g><g class=\"a53 c2 node n48 p0\" transform=\"translate(36.8125 25.0835)\"><g class=\"a48 c1 node n40 p0\" transform=\"translate(16.625 15.8597)\"><g class=\"a40 leaf node n39 p0\" transform=\"translate(0.0 8.35444e-06)\"><path class=\"edge\" d=\"M 0 0 V -8.35444e-06 H 0.0\" /><circle class=\"sym\" cx=\"0\" cy=\"0\" r=\"3\" /><text class=\"lab\" transform=\"translate(0 11)\">39</text></g><path class=\"edge\" d=\"M 0 0 V -15.8597 H -16.625\" /><circle class=\"sym\" cx=\"0\" cy=\"0\" r=\"3\" /><text class=\"lab rgt\" transform=\"translate(3 -7)\">40</text></g><g class=\"a48 c1 node n41 p0\" transform=\"translate(-16.625 11.061)\"><g class=\"a41 c1 node n38 p0\" transform=\"translate(0.0 4.79875)\"><g class=\"a38 c2 node n37 p0\" transform=\"translate(0.0 4.68389)\"><g class=\"a37 c1 node n30 p0\" transform=\"translate(14.25 9.49879)\"><g class=\"a30 c1 node n14 p0\" transform=\"translate(0.0 18.2275)\"><g class=\"a14 leaf m27 node n2 p0 s4 sample\" transform=\"translate(0.0 5.75082)\"><path class=\"edge\" d=\"M 0 0 V -5.75082 H 0.0\" /><g class=\"mut m27 s4\" transform=\"translate(0 -8.35442e-10)\"><line x1=\"0\" x2=\"0\" y1=\"0\" y2=\"8.35442e-10\" /><path class=\"sym\" d=\"M -3,-3 l 6,6 M -3,3 l 6,-6\" /><text class=\"lab lft\" transform=\"translate(-5 0)\">27</text></g><rect class=\"sym\" height=\"6\" width=\"6\" x=\"-3\" y=\"-3\" /><text class=\"lab\" transform=\"translate(0 11)\">2</text></g><path class=\"edge\" d=\"M 0 0 V -18.2275 H 0.0\" /><circle class=\"sym\" cx=\"0\" cy=\"0\" r=\"3\" /><text class=\"lab lft\" transform=\"translate(-3 -7)\">14</text></g><path class=\"edge\" d=\"M 0 0 V -9.49879 H -14.25\" /><circle class=\"sym\" cx=\"0\" cy=\"0\" r=\"3\" /><text class=\"lab rgt\" transform=\"translate(3 -7)\">30</text></g><g class=\"a37 c2 node n34 p0\" transform=\"translate(-14.25 8.72387)\"><g class=\"a34 leaf m26 node n1 p0 s4 sample\" transform=\"translate(-9.5 24.7532)\"><path class=\"edge\" d=\"M 0 0 V -24.7532 H 9.5\" /><g class=\"mut m26 s4\" transform=\"translate(0 -8.35442e-10)\"><line x1=\"0\" x2=\"0\" y1=\"0\" y2=\"8.35442e-10\" /><path class=\"sym\" d=\"M -3,-3 l 6,6 M -3,3 l 6,-6\" /><text class=\"lab lft\" transform=\"translate(-5 0)\">26</text></g><rect class=\"sym\" height=\"6\" width=\"6\" x=\"-3\" y=\"-3\" /><text class=\"lab\" transform=\"translate(0 11)\">1</text></g><g class=\"a34 c1 node n32 p0\" transform=\"translate(9.5 0.774914)\"><g class=\"a32 leaf node n31 p0\" transform=\"translate(0.0 8.35444e-06)\"><path class=\"edge\" d=\"M 0 0 V -8.35444e-06 H 0.0\" /><circle class=\"sym\" cx=\"0\" cy=\"0\" r=\"3\" /><text class=\"lab\" transform=\"translate(0 11)\">31</text></g><path class=\"edge\" d=\"M 0 0 V -0.774914 H -9.5\" /><circle class=\"sym\" cx=\"0\" cy=\"0\" r=\"3\" /><text class=\"lab rgt\" transform=\"translate(3 -7)\">32</text></g><path class=\"edge\" d=\"M 0 0 V -8.72387 H 14.25\" /><circle class=\"sym\" cx=\"0\" cy=\"0\" r=\"3\" /><text class=\"lab lft\" transform=\"translate(-3 -7)\">34</text></g><path class=\"edge\" d=\"M 0 0 V -4.68389 H 0.0\" /><circle class=\"sym\" cx=\"0\" cy=\"0\" r=\"3\" /><text class=\"lab lft\" transform=\"translate(-3 -7)\">37</text></g><path class=\"edge\" d=\"M 0 0 V -4.79875 H 0.0\" /><circle class=\"sym\" cx=\"0\" cy=\"0\" r=\"3\" /><text class=\"lab lft\" transform=\"translate(-3 -7)\">38</text></g><path class=\"edge\" d=\"M 0 0 V -11.061 H 16.625\" /><circle class=\"sym\" cx=\"0\" cy=\"0\" r=\"3\" /><text class=\"lab lft\" transform=\"translate(-3 -7)\">41</text></g><path class=\"edge\" d=\"M 0 0 V -25.0835 H -36.8125\" /><circle class=\"sym\" cx=\"0\" cy=\"0\" r=\"3\" /><text class=\"lab rgt\" transform=\"translate(3 -7)\">48</text></g><path class=\"edge\" d=\"M 0 0 V -15.4958 H 36.2188\" /><circle class=\"sym\" cx=\"0\" cy=\"0\" r=\"3\" /><text class=\"lab lft\" transform=\"translate(-3 -7)\">53</text></g><g class=\"a54 c1 m24 node n47 p0 s4\" transform=\"translate(36.2188 42.2382)\"><g class=\"a47 leaf node n46 p0\" transform=\"translate(0.0 8.35444e-06)\"><path class=\"edge\" d=\"M 0 0 V -8.35444e-06 H 0.0\" /><circle class=\"sym\" cx=\"0\" cy=\"0\" r=\"3\" /><text class=\"lab\" transform=\"translate(0 11)\">46</text></g><path class=\"edge\" d=\"M 0 0 V -42.2382 H -36.2188\" /><g class=\"mut m24 s4\" transform=\"translate(0 -1.23088)\"><line x1=\"0\" x2=\"0\" y1=\"0\" y2=\"1.23088\" /><path class=\"sym\" d=\"M -3,-3 l 6,6 M -3,3 l 6,-6\" /><text class=\"lab rgt\" transform=\"translate(5 0)\">24</text></g><circle class=\"sym\" cx=\"0\" cy=\"0\" r=\"3\" /><text class=\"lab rgt\" transform=\"translate(3 -7)\">47</text></g><circle class=\"sym\" cx=\"0\" cy=\"0\" r=\"3\" /><text class=\"lab\" transform=\"translate(0 -11)\">54</text></g></g></g></g></g></svg>'"
      ]
     },
     "execution_count": 11,
     "metadata": {},
     "output_type": "execute_result"
    }
   ],
   "source": [
    "mts = gene_model.gene_model(\n",
    "        theta=1,\n",
    "        rho=0,\n",
    "        gene_conversion_rate=gene_conv,\n",
    "        recombination_rate=recomb,\n",
    "        hgt_rate=0.5,\n",
    "        num_samples=num_samples,\n",
    "        num_sites=5,\n",
    "        double_site_relocation=False, # Fix double gene gain events, won't hide the warning.\n",
    "    )\n",
    "\n",
    "for var in mts.variants():\n",
    "    print(var.site.position, var.alleles, var.genotypes, sep=\"\\t\")\n",
    "\n",
    "print(mts.draw_text())  \n",
    "mts.draw_svg()\n",
    "\n"
   ]
  },
  {
   "cell_type": "code",
   "execution_count": 7,
   "id": "c6522ffc-ca57-4b3c-b702-907b77e4683c",
   "metadata": {},
   "outputs": [
    {
     "name": "stdout",
     "output_type": "stream",
     "text": [
      "True\n",
      "True\n",
      "False\n",
      "False\n",
      "False\n",
      "False\n",
      "Node 0 at site 4: absent\n",
      "{0: 5, 1: 10, 2: 8, 3: 13, 4: 8, 5: 24, 8: 17, 10: 16, 13: 18, 14: 15, 15: 16, 16: 17, 17: 21, 18: 21, 21: 31, 24: 34, 31: 34}\n",
      "False\n"
     ]
    },
    {
     "data": {
      "text/plain": [
       "[Mutation(id=24, site=4, node=24, derived_state='present', parent=-1, metadata=b'\\x00', time=0.6867895706611306, edge=38),\n",
       " Mutation(id=25, site=4, node=0, derived_state='absent', parent=-1, metadata=b'\\x01', time=1e-11, edge=0),\n",
       " Mutation(id=26, site=4, node=1, derived_state='absent', parent=-1, metadata=b'\\x01', time=1e-11, edge=7),\n",
       " Mutation(id=27, site=4, node=2, derived_state='absent', parent=-1, metadata=b'\\x01', time=1e-11, edge=2),\n",
       " Mutation(id=28, site=4, node=3, derived_state='absent', parent=-1, metadata=b'\\x01', time=1e-11, edge=10),\n",
       " Mutation(id=29, site=4, node=4, derived_state='absent', parent=-1, metadata=b'\\x01', time=1e-11, edge=3)]"
      ]
     },
     "execution_count": 7,
     "metadata": {},
     "output_type": "execute_result"
    }
   ],
   "source": [
    "\n",
    "# Site und Node definieren\n",
    "site_id = 4  # ID der Site\n",
    "node_id = 0  # ID des Knotens\n",
    "\n",
    "# Zugriff auf die Site und den Baum\n",
    "site = mts.site(site_id)\n",
    "tree = mts.at(site_id)\n",
    "\n",
    "# Standardmäßig ist der Zustand der ancestrale Zustand\n",
    "state = site.ancestral_state\n",
    "\n",
    "# Iteriere durch die Mutationen der Site\n",
    "for mutation in site.mutations:\n",
    "    # Prüfe, ob der Knoten (oder einer seiner Vorfahren) von der Mutation betroffen ist\n",
    "    print(tree.is_descendant(node_id, mutation.node))\n",
    "    if tree.is_descendant(node_id, mutation.node):\n",
    "        state = mutation.derived_state\n",
    "\n",
    "print(f\"Node {node_id} at site {site_id}: {state}\")\n",
    "\n",
    "print(tree.parent_dict)  # Zeigt die Eltern-Kind-Beziehungen im Baum\n",
    "\n",
    "print(tree.is_descendant(0, 14))\n",
    "\n",
    "site.mutations"
   ]
  },
  {
   "cell_type": "code",
   "execution_count": 12,
   "id": "92d3f643-dfee-4656-9e71-e3af756d0619",
   "metadata": {},
   "outputs": [
    {
     "data": {
      "text/plain": [
       "array([20, 46, 82, 87], dtype=uint32)"
      ]
     },
     "execution_count": 12,
     "metadata": {},
     "output_type": "execute_result"
    }
   ],
   "source": [
    "import numpy as np\n",
    "\n",
    "alleles = [\"absent\", \"present\"]\n",
    "\n",
    "poisson = np.random.poisson(theta / (rho if rho != 0 else 1))\n",
    "poisson = min(poisson, num_sites)\n",
    "\n",
    "position = np.arange(0, num_sites, dtype=\"uint32\")\n",
    "position = np.random.choice(position, poisson, replace=False)\n",
    "position.sort()\n",
    "\n",
    "position"
   ]
  },
  {
   "cell_type": "code",
   "execution_count": 168,
   "id": "3b2d8dfb-e739-4443-8373-fa2743d703b7",
   "metadata": {},
   "outputs": [
    {
     "data": {
      "image/svg+xml": [
       "<svg baseProfile=\"full\" height=\"200\" version=\"1.1\" width=\"200\" xmlns=\"http://www.w3.org/2000/svg\" xmlns:ev=\"http://www.w3.org/2001/xml-events\" xmlns:xlink=\"http://www.w3.org/1999/xlink\"><defs><style type=\"text/css\"><![CDATA[.background path {fill: #808080; fill-opacity: 0}.background path:nth-child(odd) {fill-opacity: .1}.x-regions rect {fill: yellow; stroke: black; opacity: 0.5}.axes {font-size: 14px}.x-axis .tick .lab {font-weight: bold; dominant-baseline: hanging}.axes, .tree {font-size: 14px; text-anchor: middle}.axes line, .edge {stroke: black; fill: none}.axes .ax-skip {stroke-dasharray: 4}.y-axis .grid {stroke: #FAFAFA}.node > .sym {fill: black; stroke: none}.site > .sym {stroke: black}.mut text {fill: red; font-style: italic}.mut.extra text {fill: hotpink}.mut line {fill: none; stroke: none}.mut .sym {fill: none; stroke: red}.mut.extra .sym {stroke: hotpink}.node .mut .sym {stroke-width: 1.5px}.tree text, .tree-sequence text {dominant-baseline: central}.plotbox .lab.lft {text-anchor: end}.plotbox .lab.rgt {text-anchor: start}.polytomy line {stroke: black; stroke-dasharray: 1px, 1px}.polytomy text {paint-order:stroke;stroke-width:0.3em;stroke:white}]]></style></defs><g class=\"tree-sequence\"><g class=\"background\"><path d=\"M20,0 l160,0 l0,138.2 l0,25 l0,5 l-160,0 l0,-5 l0,-25 l0,-138.2z\" /></g><g class=\"axes\"><g class=\"x-axis\"><g class=\"title\" transform=\"translate(100 200)\"><text class=\"lab\" text-anchor=\"middle\" transform=\"translate(0 -11)\">Genome position</text></g><line class=\"ax-line\" x1=\"20\" x2=\"180\" y1=\"163.2\" y2=\"163.2\" /><g class=\"ticks\"><g class=\"tick\" transform=\"translate(20 163.2)\"><line x1=\"0\" x2=\"0\" y1=\"0\" y2=\"5\" /><g transform=\"translate(0 6)\"><text class=\"lab\">0</text></g></g><g class=\"tick\" transform=\"translate(180 163.2)\"><line x1=\"0\" x2=\"0\" y1=\"0\" y2=\"5\" /><g transform=\"translate(0 6)\"><text class=\"lab\">100</text></g></g></g></g></g><g class=\"plotbox trees\"><g class=\"tree t0\" transform=\"translate(20 0)\"><g class=\"plotbox\"><g class=\"c2 node n18 p0 root\" transform=\"translate(96.125 26.8)\"><g class=\"a18 c2 node n16 p0\" transform=\"translate(-27.375 30.9192)\"><g class=\"a16 i1 leaf node n3 p0 sample\" transform=\"translate(17.25 63.6808)\"><path class=\"edge\" d=\"M 0 0 V -63.6808 H -17.25\" /><rect class=\"sym\" height=\"6\" width=\"6\" x=\"-3\" y=\"-3\" /><text class=\"lab\" transform=\"translate(0 11)\">3</text></g><g class=\"a16 c2 node n13 p0\" transform=\"translate(-17.25 51.207)\"><g class=\"a13 c2 node n11 p0\" transform=\"translate(-16.5 8.42592)\"><g class=\"a11 i0 leaf node n0 p0 sample\" transform=\"translate(-9 4.04789)\"><path class=\"edge\" d=\"M 0 0 V -4.04789 H 9\" /><rect class=\"sym\" height=\"6\" width=\"6\" x=\"-3\" y=\"-3\" /><text class=\"lab\" transform=\"translate(0 11)\">0</text></g><g class=\"a11 c2 node n10 p0\" transform=\"translate(9 3.29921)\"><g class=\"a10 i3 leaf node n6 p0 sample\" transform=\"translate(-6 0.748674)\"><path class=\"edge\" d=\"M 0 0 V -0.748674 H 6\" /><rect class=\"sym\" height=\"6\" width=\"6\" x=\"-3\" y=\"-3\" /><text class=\"lab\" transform=\"translate(0 11)\">6</text></g><g class=\"a10 i4 leaf node n9 p0 sample\" transform=\"translate(6 0.748674)\"><path class=\"edge\" d=\"M 0 0 V -0.748674 H -6\" /><rect class=\"sym\" height=\"6\" width=\"6\" x=\"-3\" y=\"-3\" /><text class=\"lab\" transform=\"translate(0 11)\">9</text></g><path class=\"edge\" d=\"M 0 0 V -3.29921 H -9\" /><circle class=\"sym\" cx=\"0\" cy=\"0\" r=\"3\" /><text class=\"lab rgt\" transform=\"translate(3 -7)\">10</text></g><path class=\"edge\" d=\"M 0 0 V -8.42592 H 16.5\" /><circle class=\"sym\" cx=\"0\" cy=\"0\" r=\"3\" /><text class=\"lab lft\" transform=\"translate(-3 -7)\">11</text></g><g class=\"a13 c2 node n12 p0\" transform=\"translate(16.5 7.55183)\"><g class=\"a12 i0 leaf node n1 p0 sample\" transform=\"translate(-6 4.92198)\"><path class=\"edge\" d=\"M 0 0 V -4.92198 H 6\" /><rect class=\"sym\" height=\"6\" width=\"6\" x=\"-3\" y=\"-3\" /><text class=\"lab\" transform=\"translate(0 11)\">1</text></g><g class=\"a12 i2 leaf node n5 p0 sample\" transform=\"translate(6 4.92198)\"><path class=\"edge\" d=\"M 0 0 V -4.92198 H -6\" /><rect class=\"sym\" height=\"6\" width=\"6\" x=\"-3\" y=\"-3\" /><text class=\"lab\" transform=\"translate(0 11)\">5</text></g><path class=\"edge\" d=\"M 0 0 V -7.55183 H -16.5\" /><circle class=\"sym\" cx=\"0\" cy=\"0\" r=\"3\" /><text class=\"lab rgt\" transform=\"translate(3 -7)\">12</text></g><path class=\"edge\" d=\"M 0 0 V -51.207 H 17.25\" /><circle class=\"sym\" cx=\"0\" cy=\"0\" r=\"3\" /><text class=\"lab lft\" transform=\"translate(-3 -7)\">13</text></g><path class=\"edge\" d=\"M 0 0 V -30.9192 H 27.375\" /><circle class=\"sym\" cx=\"0\" cy=\"0\" r=\"3\" /><text class=\"lab lft\" transform=\"translate(-3 -7)\">16</text></g><g class=\"a18 c2 node n17 p0\" transform=\"translate(27.375 30.2492)\"><g class=\"a17 i4 leaf node n8 p0 sample\" transform=\"translate(10.5 64.3508)\"><path class=\"edge\" d=\"M 0 0 V -64.3508 H -10.5\" /><rect class=\"sym\" height=\"6\" width=\"6\" x=\"-3\" y=\"-3\" /><text class=\"lab\" transform=\"translate(0 11)\">8</text></g><g class=\"a17 c2 node n15 p0\" transform=\"translate(-10.5 32.4402)\"><g class=\"a15 i2 leaf node n4 p0 sample\" transform=\"translate(9 31.9106)\"><path class=\"edge\" d=\"M 0 0 V -31.9106 H -9\" /><rect class=\"sym\" height=\"6\" width=\"6\" x=\"-3\" y=\"-3\" /><text class=\"lab\" transform=\"translate(0 11)\">4</text></g><g class=\"a15 c2 node n14 p0\" transform=\"translate(-9 6.84014)\"><g class=\"a14 i1 leaf node n2 p0 sample\" transform=\"translate(-6 25.0705)\"><path class=\"edge\" d=\"M 0 0 V -25.0705 H 6\" /><rect class=\"sym\" height=\"6\" width=\"6\" x=\"-3\" y=\"-3\" /><text class=\"lab\" transform=\"translate(0 11)\">2</text></g><g class=\"a14 i3 leaf node n7 p0 sample\" transform=\"translate(6 25.0705)\"><path class=\"edge\" d=\"M 0 0 V -25.0705 H -6\" /><rect class=\"sym\" height=\"6\" width=\"6\" x=\"-3\" y=\"-3\" /><text class=\"lab\" transform=\"translate(0 11)\">7</text></g><path class=\"edge\" d=\"M 0 0 V -6.84014 H 9\" /><circle class=\"sym\" cx=\"0\" cy=\"0\" r=\"3\" /><text class=\"lab lft\" transform=\"translate(-3 -7)\">14</text></g><path class=\"edge\" d=\"M 0 0 V -32.4402 H 10.5\" /><circle class=\"sym\" cx=\"0\" cy=\"0\" r=\"3\" /><text class=\"lab lft\" transform=\"translate(-3 -7)\">15</text></g><path class=\"edge\" d=\"M 0 0 V -30.2492 H -27.375\" /><circle class=\"sym\" cx=\"0\" cy=\"0\" r=\"3\" /><text class=\"lab rgt\" transform=\"translate(3 -7)\">17</text></g><circle class=\"sym\" cx=\"0\" cy=\"0\" r=\"3\" /><text class=\"lab\" transform=\"translate(0 -11)\">18</text></g></g></g></g></g></svg>"
      ],
      "text/plain": [
       "'<svg baseProfile=\"full\" height=\"200\" version=\"1.1\" width=\"200\" xmlns=\"http://www.w3.org/2000/svg\" xmlns:ev=\"http://www.w3.org/2001/xml-events\" xmlns:xlink=\"http://www.w3.org/1999/xlink\"><defs><style type=\"text/css\"><![CDATA[.background path {fill: #808080; fill-opacity: 0}.background path:nth-child(odd) {fill-opacity: .1}.x-regions rect {fill: yellow; stroke: black; opacity: 0.5}.axes {font-size: 14px}.x-axis .tick .lab {font-weight: bold; dominant-baseline: hanging}.axes, .tree {font-size: 14px; text-anchor: middle}.axes line, .edge {stroke: black; fill: none}.axes .ax-skip {stroke-dasharray: 4}.y-axis .grid {stroke: #FAFAFA}.node > .sym {fill: black; stroke: none}.site > .sym {stroke: black}.mut text {fill: red; font-style: italic}.mut.extra text {fill: hotpink}.mut line {fill: none; stroke: none}.mut .sym {fill: none; stroke: red}.mut.extra .sym {stroke: hotpink}.node .mut .sym {stroke-width: 1.5px}.tree text, .tree-sequence text {dominant-baseline: central}.plotbox .lab.lft {text-anchor: end}.plotbox .lab.rgt {text-anchor: start}.polytomy line {stroke: black; stroke-dasharray: 1px, 1px}.polytomy text {paint-order:stroke;stroke-width:0.3em;stroke:white}]]></style></defs><g class=\"tree-sequence\"><g class=\"background\"><path d=\"M20,0 l160,0 l0,138.2 l0,25 l0,5 l-160,0 l0,-5 l0,-25 l0,-138.2z\" /></g><g class=\"axes\"><g class=\"x-axis\"><g class=\"title\" transform=\"translate(100 200)\"><text class=\"lab\" text-anchor=\"middle\" transform=\"translate(0 -11)\">Genome position</text></g><line class=\"ax-line\" x1=\"20\" x2=\"180\" y1=\"163.2\" y2=\"163.2\" /><g class=\"ticks\"><g class=\"tick\" transform=\"translate(20 163.2)\"><line x1=\"0\" x2=\"0\" y1=\"0\" y2=\"5\" /><g transform=\"translate(0 6)\"><text class=\"lab\">0</text></g></g><g class=\"tick\" transform=\"translate(180 163.2)\"><line x1=\"0\" x2=\"0\" y1=\"0\" y2=\"5\" /><g transform=\"translate(0 6)\"><text class=\"lab\">100</text></g></g></g></g></g><g class=\"plotbox trees\"><g class=\"tree t0\" transform=\"translate(20 0)\"><g class=\"plotbox\"><g class=\"c2 node n18 p0 root\" transform=\"translate(96.125 26.8)\"><g class=\"a18 c2 node n16 p0\" transform=\"translate(-27.375 30.9192)\"><g class=\"a16 i1 leaf node n3 p0 sample\" transform=\"translate(17.25 63.6808)\"><path class=\"edge\" d=\"M 0 0 V -63.6808 H -17.25\" /><rect class=\"sym\" height=\"6\" width=\"6\" x=\"-3\" y=\"-3\" /><text class=\"lab\" transform=\"translate(0 11)\">3</text></g><g class=\"a16 c2 node n13 p0\" transform=\"translate(-17.25 51.207)\"><g class=\"a13 c2 node n11 p0\" transform=\"translate(-16.5 8.42592)\"><g class=\"a11 i0 leaf node n0 p0 sample\" transform=\"translate(-9 4.04789)\"><path class=\"edge\" d=\"M 0 0 V -4.04789 H 9\" /><rect class=\"sym\" height=\"6\" width=\"6\" x=\"-3\" y=\"-3\" /><text class=\"lab\" transform=\"translate(0 11)\">0</text></g><g class=\"a11 c2 node n10 p0\" transform=\"translate(9 3.29921)\"><g class=\"a10 i3 leaf node n6 p0 sample\" transform=\"translate(-6 0.748674)\"><path class=\"edge\" d=\"M 0 0 V -0.748674 H 6\" /><rect class=\"sym\" height=\"6\" width=\"6\" x=\"-3\" y=\"-3\" /><text class=\"lab\" transform=\"translate(0 11)\">6</text></g><g class=\"a10 i4 leaf node n9 p0 sample\" transform=\"translate(6 0.748674)\"><path class=\"edge\" d=\"M 0 0 V -0.748674 H -6\" /><rect class=\"sym\" height=\"6\" width=\"6\" x=\"-3\" y=\"-3\" /><text class=\"lab\" transform=\"translate(0 11)\">9</text></g><path class=\"edge\" d=\"M 0 0 V -3.29921 H -9\" /><circle class=\"sym\" cx=\"0\" cy=\"0\" r=\"3\" /><text class=\"lab rgt\" transform=\"translate(3 -7)\">10</text></g><path class=\"edge\" d=\"M 0 0 V -8.42592 H 16.5\" /><circle class=\"sym\" cx=\"0\" cy=\"0\" r=\"3\" /><text class=\"lab lft\" transform=\"translate(-3 -7)\">11</text></g><g class=\"a13 c2 node n12 p0\" transform=\"translate(16.5 7.55183)\"><g class=\"a12 i0 leaf node n1 p0 sample\" transform=\"translate(-6 4.92198)\"><path class=\"edge\" d=\"M 0 0 V -4.92198 H 6\" /><rect class=\"sym\" height=\"6\" width=\"6\" x=\"-3\" y=\"-3\" /><text class=\"lab\" transform=\"translate(0 11)\">1</text></g><g class=\"a12 i2 leaf node n5 p0 sample\" transform=\"translate(6 4.92198)\"><path class=\"edge\" d=\"M 0 0 V -4.92198 H -6\" /><rect class=\"sym\" height=\"6\" width=\"6\" x=\"-3\" y=\"-3\" /><text class=\"lab\" transform=\"translate(0 11)\">5</text></g><path class=\"edge\" d=\"M 0 0 V -7.55183 H -16.5\" /><circle class=\"sym\" cx=\"0\" cy=\"0\" r=\"3\" /><text class=\"lab rgt\" transform=\"translate(3 -7)\">12</text></g><path class=\"edge\" d=\"M 0 0 V -51.207 H 17.25\" /><circle class=\"sym\" cx=\"0\" cy=\"0\" r=\"3\" /><text class=\"lab lft\" transform=\"translate(-3 -7)\">13</text></g><path class=\"edge\" d=\"M 0 0 V -30.9192 H 27.375\" /><circle class=\"sym\" cx=\"0\" cy=\"0\" r=\"3\" /><text class=\"lab lft\" transform=\"translate(-3 -7)\">16</text></g><g class=\"a18 c2 node n17 p0\" transform=\"translate(27.375 30.2492)\"><g class=\"a17 i4 leaf node n8 p0 sample\" transform=\"translate(10.5 64.3508)\"><path class=\"edge\" d=\"M 0 0 V -64.3508 H -10.5\" /><rect class=\"sym\" height=\"6\" width=\"6\" x=\"-3\" y=\"-3\" /><text class=\"lab\" transform=\"translate(0 11)\">8</text></g><g class=\"a17 c2 node n15 p0\" transform=\"translate(-10.5 32.4402)\"><g class=\"a15 i2 leaf node n4 p0 sample\" transform=\"translate(9 31.9106)\"><path class=\"edge\" d=\"M 0 0 V -31.9106 H -9\" /><rect class=\"sym\" height=\"6\" width=\"6\" x=\"-3\" y=\"-3\" /><text class=\"lab\" transform=\"translate(0 11)\">4</text></g><g class=\"a15 c2 node n14 p0\" transform=\"translate(-9 6.84014)\"><g class=\"a14 i1 leaf node n2 p0 sample\" transform=\"translate(-6 25.0705)\"><path class=\"edge\" d=\"M 0 0 V -25.0705 H 6\" /><rect class=\"sym\" height=\"6\" width=\"6\" x=\"-3\" y=\"-3\" /><text class=\"lab\" transform=\"translate(0 11)\">2</text></g><g class=\"a14 i3 leaf node n7 p0 sample\" transform=\"translate(6 25.0705)\"><path class=\"edge\" d=\"M 0 0 V -25.0705 H -6\" /><rect class=\"sym\" height=\"6\" width=\"6\" x=\"-3\" y=\"-3\" /><text class=\"lab\" transform=\"translate(0 11)\">7</text></g><path class=\"edge\" d=\"M 0 0 V -6.84014 H 9\" /><circle class=\"sym\" cx=\"0\" cy=\"0\" r=\"3\" /><text class=\"lab lft\" transform=\"translate(-3 -7)\">14</text></g><path class=\"edge\" d=\"M 0 0 V -32.4402 H 10.5\" /><circle class=\"sym\" cx=\"0\" cy=\"0\" r=\"3\" /><text class=\"lab lft\" transform=\"translate(-3 -7)\">15</text></g><path class=\"edge\" d=\"M 0 0 V -30.2492 H -27.375\" /><circle class=\"sym\" cx=\"0\" cy=\"0\" r=\"3\" /><text class=\"lab rgt\" transform=\"translate(3 -7)\">17</text></g><circle class=\"sym\" cx=\"0\" cy=\"0\" r=\"3\" /><text class=\"lab\" transform=\"translate(0 -11)\">18</text></g></g></g></g></g></svg>'"
      ]
     },
     "execution_count": 168,
     "metadata": {},
     "output_type": "execute_result"
    }
   ],
   "source": [
    "import msprime # Simulieren des Abstammungsbaumes\n",
    "tree_sequence = msprime.sim_ancestry(samples=5, population_size=1, sequence_length=100, recombination_rate=0)\n",
    "\n",
    "# Einführen von Mutationen, um Allel-Präsenzen zu erstellen\n",
    "mutated_ts = msprime.sim_mutations(tree_sequence, rate=1e-4)\n",
    "\n",
    "# Anzeigen aller Varianten\n",
    "for variant in mutated_ts.variants():\n",
    "    print(\"Position:\", variant.site.position, \"Alleles:\", variant.alleles)\n",
    "\n",
    "tree_sequence.draw_svg()"
   ]
  },
  {
   "cell_type": "code",
   "execution_count": 8,
   "id": "ebe592d2-e726-4450-80fa-9d3cd145d0f7",
   "metadata": {},
   "outputs": [
    {
     "data": {
      "text/plain": [
       "array([0, 1, 2, 3, 4, 5, 6, 7, 8, 9], dtype=uint32)"
      ]
     },
     "execution_count": 8,
     "metadata": {},
     "output_type": "execute_result"
    }
   ],
   "source": [
    "#poisson = np.random.poisson(theta / (rho if rho != 0 else 1))\n",
    "#poisson = min(poisson, num_sites)\n",
    "alleles = [\"absent\", \"present\"]\n",
    "poisson = num_sites\n",
    "\n",
    "position = np.arange(0, num_sites, dtype=\"uint32\")\n",
    "position = np.random.choice(position, poisson, replace=False)\n",
    "position.sort()\n",
    "\n",
    "ancestral_state = [alleles[0]] * poisson\n",
    "\n",
    "position"
   ]
  },
  {
   "cell_type": "code",
   "execution_count": 178,
   "id": "4aa7523a-284f-4491-bb47-c4d95542a8f9",
   "metadata": {},
   "outputs": [
    {
     "name": "stdout",
     "output_type": "stream",
     "text": [
      "Position: 0.0 Alleles: ('A', 'T')\n",
      "Position: 1.0 Alleles: ('T', 'A', 'G')\n",
      "Position: 2.0 Alleles: ('T', 'A')\n",
      "Position: 3.0 Alleles: ('T', 'G', 'C')\n",
      "Position: 4.0 Alleles: ('G', 'A')\n",
      "Position: 5.0 Alleles: ('T', 'C', 'A')\n",
      "Position: 6.0 Alleles: ('T', 'C')\n",
      "Position: 7.0 Alleles: ('T', 'C')\n",
      "Position: 8.0 Alleles: ('G', 'T')\n",
      "Position: 9.0 Alleles: ('C', 'A', 'G')\n"
     ]
    }
   ],
   "source": [
    "for variant in mutated_ts.variants():\n",
    "    print(\"Position:\", variant.site.position, \"Alleles:\", variant.alleles)"
   ]
  },
  {
   "cell_type": "code",
   "execution_count": 177,
   "id": "8a94a815-3953-4507-9838-e1e9ce0e5e52",
   "metadata": {},
   "outputs": [
    {
     "name": "stdout",
     "output_type": "stream",
     "text": [
      "Site: 0 | Alleles: ('A', 'T') | Genotypes: [0 0 0 0 1 0 0 0 0 0]\n",
      "Site: 0 | Alleles: ('A', 'T') | Genotypes: [0 0 0 0 1 0 0 0 0 0]\n",
      "Site: 1 | Alleles: ('T', 'A', 'G') | Genotypes: [1 2 1 0 0 1 0 0 1 0]\n",
      "Site: 1 | Alleles: ('T', 'A', 'G') | Genotypes: [1 2 1 0 0 1 0 0 1 0]\n",
      "Site: 1 | Alleles: ('T', 'A', 'G') | Genotypes: [1 2 1 0 0 1 0 0 1 0]\n",
      "Site: 2 | Alleles: ('T', 'A') | Genotypes: [0 0 0 0 0 0 0 0 0 1]\n",
      "Site: 2 | Alleles: ('T', 'A') | Genotypes: [0 0 0 0 0 0 0 0 0 1]\n",
      "Site: 3 | Alleles: ('T', 'G', 'C') | Genotypes: [0 2 2 2 0 0 0 0 0 0]\n",
      "Site: 3 | Alleles: ('T', 'G', 'C') | Genotypes: [0 2 2 2 0 0 0 0 0 0]\n",
      "Site: 3 | Alleles: ('T', 'G', 'C') | Genotypes: [0 2 2 2 0 0 0 0 0 0]\n",
      "Site: 4 | Alleles: ('G', 'A') | Genotypes: [0 0 0 0 1 0 0 0 0 0]\n",
      "Site: 4 | Alleles: ('G', 'A') | Genotypes: [0 0 0 0 1 0 0 0 0 0]\n",
      "Site: 5 | Alleles: ('T', 'C', 'A') | Genotypes: [2 0 0 0 1 2 0 1 2 0]\n",
      "Site: 5 | Alleles: ('T', 'C', 'A') | Genotypes: [2 0 0 0 1 2 0 1 2 0]\n",
      "Site: 5 | Alleles: ('T', 'C', 'A') | Genotypes: [2 0 0 0 1 2 0 1 2 0]\n",
      "Site: 6 | Alleles: ('T', 'C') | Genotypes: [0 0 0 0 1 0 0 0 0 1]\n",
      "Site: 6 | Alleles: ('T', 'C') | Genotypes: [0 0 0 0 1 0 0 0 0 1]\n",
      "Site: 7 | Alleles: ('T', 'C') | Genotypes: [1 1 1 1 0 1 1 1 1 1]\n",
      "Site: 7 | Alleles: ('T', 'C') | Genotypes: [1 1 1 1 0 1 1 1 1 1]\n",
      "Site: 8 | Alleles: ('G', 'T') | Genotypes: [0 0 0 0 0 0 1 1 0 0]\n",
      "Site: 8 | Alleles: ('G', 'T') | Genotypes: [0 0 0 0 0 0 1 1 0 0]\n",
      "Site: 9 | Alleles: ('C', 'A', 'G') | Genotypes: [0 0 0 0 0 0 2 1 0 0]\n",
      "Site: 9 | Alleles: ('C', 'A', 'G') | Genotypes: [0 0 0 0 0 0 2 1 0 0]\n",
      "Site: 9 | Alleles: ('C', 'A', 'G') | Genotypes: [0 0 0 0 0 0 2 1 0 0]\n"
     ]
    }
   ],
   "source": [
    "import msprime\n",
    "import numpy as np\n",
    "\n",
    "# Simulate the ancestry and add mutations\n",
    "tree_sequence = msprime.sim_ancestry(samples=5, population_size=100, sequence_length=10, recombination_rate=1e-8)\n",
    "mutated_ts = msprime.sim_mutations(tree_sequence, rate=0.01)\n",
    "\n",
    "# Initialize with a presumed ancestral state (e.g., hypothetical 'A')\n",
    "ancestral_alleles = ['A'] * int(mutated_ts.sequence_length)\n",
    "\n",
    "# List encountered mutations and adjust from presumed ancestral state\n",
    "for var in mutated_ts.variants():\n",
    "    for i in range(len(var.alleles)):\n",
    "        # var.alleles[i] might reveal distinct alleles related to original ancestral one\n",
    "        print(f\"Site: {int(var.site.position)} | Alleles: {var.alleles} | Genotypes: {var.genotypes}\")\n",
    "\n",
    "# Understanding: Original MRCA alleles are set as 'A' for non-affected order points assuming, but post-mutation interpretation inherits genoform modulations."
   ]
  },
  {
   "cell_type": "code",
   "execution_count": 161,
   "id": "68bf911a-8a91-475f-b864-363894c2f10e",
   "metadata": {},
   "outputs": [
    {
     "name": "stdout",
     "output_type": "stream",
     "text": [
      "Genotypes\n",
      "Site 0: [0 0 0 0 0]\n",
      "Site 1: [0 0 0 0 0]\n",
      "Site 2: [0 0 0 0 0]\n",
      "Site 3: [0 0 0 0 0]\n",
      "Site 4: [0 0 0 0 0]\n",
      "Site 5: [0 0 0 0 0]\n",
      "Site 6: [0 0 0 0 0]\n",
      "Site 7: [0 0 0 0 0]\n",
      "Site 8: [0 0 0 0 0]\n",
      "Site 9: [0 0 0 0 0]\n",
      "Site 10: [0 0 0 0 0]\n",
      "Site 11: [0 0 0 0 0]\n",
      "Site 12: [0 0 0 0 0]\n",
      "Site 13: [0 0 0 0 0]\n",
      "Site 14: [0 0 0 0 0]\n",
      "Site 15: [0 0 0 0 0]\n",
      "Site 16: [0 0 0 0 0]\n",
      "Site 17: [0 0 0 0 0]\n",
      "Site 18: [0 0 0 0 0]\n",
      "Site 19: [0 0 0 0 0]\n",
      "Site 20: [0 0 0 0 0]\n",
      "Site 21: [0 0 0 0 0]\n",
      "Site 22: [0 0 0 0 0]\n",
      "Site 23: [0 0 0 0 0]\n",
      "Site 24: [0 0 0 0 0]\n",
      "Site 25: [0 0 0 0 0]\n",
      "Site 26: [0 0 0 0 0]\n",
      "Site 27: [0 0 0 0 0]\n",
      "Site 28: [0 0 0 1 0]\n",
      "Site 29: [0 0 0 0 0]\n",
      "Site 30: [0 0 0 0 0]\n",
      "Site 31: [0 0 0 0 0]\n",
      "Site 32: [1 1 1 0 1]\n",
      "Site 33: [0 0 0 0 0]\n",
      "Site 34: [0 0 0 0 0]\n",
      "Site 35: [0 0 0 0 0]\n",
      "Site 36: [0 0 0 0 0]\n",
      "Site 37: [0 0 0 0 0]\n",
      "Site 38: [0 0 0 0 0]\n",
      "Site 39: [0 0 0 0 0]\n",
      "Site 40: [0 0 0 0 0]\n"
     ]
    }
   ],
   "source": [
    "import numpy as np\n",
    "np.set_printoptions(linewidth=200)  # print genotypes on a single line\n",
    "\n",
    "print(\"Genotypes\")\n",
    "for v in ts.variants():\n",
    "    print(f\"Site {v.site.id}: {v.genotypes}\")\n",
    "    "
   ]
  },
  {
   "cell_type": "code",
   "execution_count": 82,
   "id": "7a25b442-71a1-450e-95ba-bf90ddd7bf12",
   "metadata": {},
   "outputs": [
    {
     "name": "stdout",
     "output_type": "stream",
     "text": [
      "There are 795 nodes, of which 5 are sample nodes\n"
     ]
    },
    {
     "ename": "IndexError",
     "evalue": "index 100 is out of bounds for axis 0 with size 5",
     "output_type": "error",
     "traceback": [
      "\u001b[1;31m---------------------------------------------------------------------------\u001b[0m",
      "\u001b[1;31mIndexError\u001b[0m                                Traceback (most recent call last)",
      "Cell \u001b[1;32mIn[82], line 9\u001b[0m\n\u001b[0;32m      6\u001b[0m node_id \u001b[38;5;241m=\u001b[39m \u001b[38;5;241m100\u001b[39m  \u001b[38;5;66;03m# Beispiel-ID des gewünschten Knotens/Wunschindividuums\u001b[39;00m\n\u001b[0;32m      8\u001b[0m \u001b[38;5;28;01mfor\u001b[39;00m variant \u001b[38;5;129;01min\u001b[39;00m ts\u001b[38;5;241m.\u001b[39mvariants():\n\u001b[1;32m----> 9\u001b[0m     allel_index \u001b[38;5;241m=\u001b[39m \u001b[43mvariant\u001b[49m\u001b[38;5;241;43m.\u001b[39;49m\u001b[43mgenotypes\u001b[49m\u001b[43m[\u001b[49m\u001b[43mnode_id\u001b[49m\u001b[43m]\u001b[49m\n\u001b[0;32m     10\u001b[0m     allel \u001b[38;5;241m=\u001b[39m variant\u001b[38;5;241m.\u001b[39malleles[allel_index]\n\u001b[0;32m     11\u001b[0m     \u001b[38;5;28mprint\u001b[39m(\u001b[38;5;124mf\u001b[39m\u001b[38;5;124m\"\u001b[39m\u001b[38;5;124mPosition: \u001b[39m\u001b[38;5;132;01m{\u001b[39;00mvariant\u001b[38;5;241m.\u001b[39msite\u001b[38;5;241m.\u001b[39mposition\u001b[38;5;132;01m}\u001b[39;00m\u001b[38;5;124m, Allel: \u001b[39m\u001b[38;5;132;01m{\u001b[39;00mallel\u001b[38;5;132;01m}\u001b[39;00m\u001b[38;5;124m\"\u001b[39m)\n",
      "\u001b[1;31mIndexError\u001b[0m: index 100 is out of bounds for axis 0 with size 5"
     ]
    }
   ],
   "source": [
    "ts = mts\n",
    "print(\"There are\", ts.num_nodes, \"nodes, of which\", ts.num_samples, \"are sample nodes\")\n",
    "\n",
    "# mts.genotype_matrix()\n",
    "\n",
    "node_id = 100  # Beispiel-ID des gewünschten Knotens/Wunschindividuums\n",
    "\n",
    "for variant in ts.variants():\n",
    "    allel_index = variant.genotypes[node_id]\n",
    "    allel = variant.alleles[allel_index]\n",
    "    print(f\"Position: {variant.site.position}, Allel: {allel}\")"
   ]
  },
  {
   "cell_type": "code",
   "execution_count": 11,
   "id": "b62b4d5d-c747-45ba-a54e-cacae2c52520",
   "metadata": {},
   "outputs": [
    {
     "name": "stdout",
     "output_type": "stream",
     "text": [
      "There are 58 edges, one of which is:\n",
      "  Edge(left=0.0, right=60000.0, parent=5, child=0, metadata=b'', id=0)\n"
     ]
    }
   ],
   "source": [
    "print(\"There are\", ts.num_edges, \"edges, one of which is:\\n \", ts.edge(0))"
   ]
  },
  {
   "cell_type": "code",
   "execution_count": 84,
   "id": "410de4e1-e1fa-4fb5-9f92-d1533263ba54",
   "metadata": {},
   "outputs": [
    {
     "name": "stdout",
     "output_type": "stream",
     "text": [
      "Kinder des spezifischen internen Knotens: [0]\n",
      "Position: 17.0, Child Node Allele: absent\n",
      "Position: 23.0, Child Node Allele: absent\n",
      "Position: 24.0, Child Node Allele: absent\n",
      "Position: 28.0, Child Node Allele: absent\n",
      "Position: 32.0, Child Node Allele: absent\n",
      "Position: 37.0, Child Node Allele: absent\n",
      "Position: 38.0, Child Node Allele: absent\n",
      "Position: 44.0, Child Node Allele: absent\n",
      "Position: 45.0, Child Node Allele: absent\n",
      "Position: 48.0, Child Node Allele: absent\n",
      "Position: 49.0, Child Node Allele: absent\n",
      "Position: 51.0, Child Node Allele: present\n",
      "Position: 54.0, Child Node Allele: absent\n",
      "Position: 55.0, Child Node Allele: absent\n",
      "Position: 56.0, Child Node Allele: present\n",
      "Position: 59.0, Child Node Allele: absent\n",
      "Position: 62.0, Child Node Allele: absent\n",
      "Position: 63.0, Child Node Allele: absent\n",
      "Position: 71.0, Child Node Allele: absent\n",
      "Position: 76.0, Child Node Allele: absent\n",
      "Position: 77.0, Child Node Allele: absent\n",
      "Position: 89.0, Child Node Allele: absent\n",
      "Position: 99.0, Child Node Allele: absent\n",
      "Position: 102.0, Child Node Allele: absent\n",
      "Position: 103.0, Child Node Allele: absent\n",
      "Position: 119.0, Child Node Allele: absent\n",
      "Position: 120.0, Child Node Allele: absent\n",
      "Position: 123.0, Child Node Allele: absent\n",
      "Position: 142.0, Child Node Allele: absent\n",
      "Position: 144.0, Child Node Allele: absent\n",
      "Position: 147.0, Child Node Allele: absent\n",
      "Position: 148.0, Child Node Allele: absent\n",
      "Position: 150.0, Child Node Allele: present\n",
      "Position: 154.0, Child Node Allele: absent\n",
      "Position: 161.0, Child Node Allele: absent\n",
      "Position: 163.0, Child Node Allele: absent\n",
      "Position: 164.0, Child Node Allele: absent\n",
      "Position: 173.0, Child Node Allele: absent\n",
      "Position: 190.0, Child Node Allele: absent\n",
      "Position: 191.0, Child Node Allele: absent\n",
      "Position: 199.0, Child Node Allele: absent\n"
     ]
    }
   ],
   "source": [
    "# Gehe zu einem bestimmten Baum in der Sequenz\n",
    "tree = ts.first()\n",
    "\n",
    "# Beispiel: Interner Knoten, den du untersuchen möchtest\n",
    "internal_node_id = tree.parent(0)  # wähle ein Beispiel; dort parent eines Leaf-Nodes\n",
    "\n",
    "# Verwende all_nodes() oder parent() Methoden, um interne Knoten zu identifizieren\n",
    "children = list(tree.children(internal_node_id))\n",
    "\n",
    "print(\"Kinder des spezifischen internen Knotens:\", children)\n",
    "\n",
    "# Wenn du die genetischen Infos erhalten willst über Blätter:\n",
    "for variant in ts.variants():\n",
    "    for child in children:\n",
    "        genotype = variant.genotypes[child]\n",
    "        allele = variant.alleles[genotype]\n",
    "        print(f\"Position: {variant.site.position}, Child Node Allele: {allele}\")"
   ]
  },
  {
   "cell_type": "code",
   "execution_count": 12,
   "id": "11a36c4a-523a-468f-b3bd-13b0960333dd",
   "metadata": {},
   "outputs": [
    {
     "name": "stdout",
     "output_type": "stream",
     "text": [
      "There are 19 trees, associated with breakpoints [    0.   859.   860.  9499.  9500. 14823. 14824. 28834. 28835. 31702.\n",
      " 31703. 36073. 36074. 47296. 47297. 50118. 50119. 53818. 53819. 60000.]\n"
     ]
    }
   ],
   "source": [
    "breakpoints = ts.breakpoints(as_array=True)\n",
    "print(\"There are\", ts.num_trees, \"trees, associated with breakpoints\", breakpoints)"
   ]
  },
  {
   "cell_type": "code",
   "execution_count": 100,
   "id": "03a1707e-3dbe-46e2-9474-6e5c83f9d620",
   "metadata": {},
   "outputs": [
    {
     "data": {
      "text/html": [
       "\n",
       "        <div>\n",
       "            <style scoped=\"\">\n",
       "                .tskit-table tbody tr th:only-of-type {vertical-align: middle;}\n",
       "                .tskit-table tbody tr th {vertical-align: top;}\n",
       "                .tskit-table tbody td {text-align: right;padding: 0.5em 0.5em;}\n",
       "                .tskit-table tbody th {padding: 0.5em 0.5em;}\n",
       "            </style>\n",
       "            <table border=\"1\" class=\"tskit-table\">\n",
       "                <thead>\n",
       "                    <tr>\n",
       "                        <th>id</th><th>site</th><th>node</th><th>time</th><th>derived_state</th><th>parent</th><th>metadata</th>\n",
       "                    </tr>\n",
       "                </thead>\n",
       "                <tbody>\n",
       "                    <tr><td>0</td><td>0</td><td>36</td><td>0.03431124</td><td>absent</td><td>-1</td><td></td></tr>\n",
       "<tr><td>1</td><td>0</td><td>0</td><td>0.00000000</td><td>absent</td><td>-1</td><td></td></tr>\n",
       "<tr><td>2</td><td>0</td><td>1</td><td>0.00000000</td><td>absent</td><td>-1</td><td></td></tr>\n",
       "<tr><td>3</td><td>0</td><td>2</td><td>0.00000000</td><td>absent</td><td>0</td><td></td></tr>\n",
       "<tr><td>4</td><td>0</td><td>3</td><td>0.00000000</td><td>absent</td><td>-1</td><td></td></tr>\n",
       "<tr><td>5</td><td>0</td><td>4</td><td>0.00000000</td><td>absent</td><td>-1</td><td></td></tr>\n",
       "<tr><td>6</td><td>1</td><td>407</td><td>0.40295404</td><td>absent</td><td>-1</td><td></td></tr>\n",
       "<tr><td>7</td><td>1</td><td>0</td><td>0.00000000</td><td>absent</td><td>-1</td><td></td></tr>\n",
       "<tr><td>8</td><td>1</td><td>1</td><td>0.00000000</td><td>absent</td><td>-1</td><td></td></tr>\n",
       "<tr><td>9</td><td>1</td><td>2</td><td>0.00000000</td><td>absent</td><td>-1</td><td></td></tr>\n",
       "<tr><td>10</td><td>1</td><td>3</td><td>0.00000000</td><td>absent</td><td>6</td><td></td></tr>\n",
       "<tr><td>11</td><td>1</td><td>4</td><td>0.00000000</td><td>absent</td><td>-1</td><td></td></tr>\n",
       "<tr><td>12</td><td>2</td><td>0</td><td>0.00000000</td><td>absent</td><td>-1</td><td></td></tr>\n",
       "<tr><td>13</td><td>2</td><td>1</td><td>0.00000000</td><td>absent</td><td>-1</td><td></td></tr>\n",
       "<tr><td>14</td><td>2</td><td>2</td><td>0.00000000</td><td>absent</td><td>-1</td><td></td></tr>\n",
       "<tr><td>15</td><td>2</td><td>3</td><td>0.00000000</td><td>absent</td><td>-1</td><td></td></tr>\n",
       "<tr><td>16</td><td>2</td><td>4</td><td>0.00000000</td><td>absent</td><td>-1</td><td></td></tr>\n",
       "<tr><td>17</td><td>3</td><td>676</td><td>0.76243905</td><td>absent</td><td>-1</td><td></td></tr>\n",
       "<tr><td>18</td><td>3</td><td>301</td><td>0.25705277</td><td>absent</td><td>-1</td><td></td></tr>\n",
       "<tr><td>19</td><td>3</td><td>0</td><td>0.00000000</td><td>absent</td><td>-1</td><td></td></tr>\n",
       "<tr><td style=\"text-align: center;\" colspan=\"104\"><em>87 rows skipped (tskit.set_print_options)</em></td></tr>\n",
       "<tr><td>107</td><td>18</td><td>387</td><td>0.37607842</td><td>absent</td><td>-1</td><td></td></tr>\n",
       "<tr><td>108</td><td>18</td><td>0</td><td>0.00000000</td><td>absent</td><td>-1</td><td></td></tr>\n",
       "<tr><td>109</td><td>18</td><td>1</td><td>0.00000000</td><td>absent</td><td>-1</td><td></td></tr>\n",
       "<tr><td>110</td><td>18</td><td>2</td><td>0.00000000</td><td>absent</td><td>-1</td><td></td></tr>\n",
       "<tr><td>111</td><td>18</td><td>3</td><td>0.00000000</td><td>absent</td><td>107</td><td></td></tr>\n",
       "<tr><td>112</td><td>18</td><td>4</td><td>0.00000000</td><td>absent</td><td>-1</td><td></td></tr>\n",
       "<tr><td>113</td><td>19</td><td>720</td><td>0.81125172</td><td>absent</td><td>-1</td><td></td></tr>\n",
       "<tr><td>114</td><td>19</td><td>0</td><td>0.00000000</td><td>absent</td><td>-1</td><td></td></tr>\n",
       "<tr><td>115</td><td>19</td><td>1</td><td>0.00000000</td><td>absent</td><td>-1</td><td></td></tr>\n",
       "<tr><td>116</td><td>19</td><td>2</td><td>0.00000000</td><td>absent</td><td>-1</td><td></td></tr>\n",
       "<tr><td>117</td><td>19</td><td>3</td><td>0.00000000</td><td>absent</td><td>113</td><td></td></tr>\n",
       "<tr><td>118</td><td>19</td><td>4</td><td>0.00000000</td><td>absent</td><td>-1</td><td></td></tr>\n",
       "<tr><td>119</td><td>20</td><td>247</td><td>0.21882762</td><td>absent</td><td>-1</td><td></td></tr>\n",
       "<tr><td>120</td><td>20</td><td>0</td><td>0.00000000</td><td>absent</td><td>-1</td><td></td></tr>\n",
       "<tr><td>121</td><td>20</td><td>1</td><td>0.00000000</td><td>absent</td><td>-1</td><td></td></tr>\n",
       "<tr><td>122</td><td>20</td><td>2</td><td>0.00000000</td><td>absent</td><td>119</td><td></td></tr>\n",
       "<tr><td>123</td><td>20</td><td>3</td><td>0.00000000</td><td>absent</td><td>-1</td><td></td></tr>\n",
       "<tr><td>124</td><td>20</td><td>4</td><td>0.00000000</td><td>absent</td><td>-1</td><td></td></tr>\n",
       "<tr><td>125</td><td>28</td><td>602</td><td>0.61941577</td><td>present</td><td>-1</td><td></td></tr>\n",
       "<tr><td>126</td><td>32</td><td>714</td><td>0.80392325</td><td>present</td><td>-1</td><td></td></tr>\n",
       "\n",
       "                </tbody>\n",
       "            </table>\n",
       "        </div>\n",
       "    "
      ],
      "text/plain": [
       "<tskit.tables.MutationTable at 0x24f21afb0e0>"
      ]
     },
     "execution_count": 100,
     "metadata": {},
     "output_type": "execute_result"
    }
   ],
   "source": [
    "# ts.tables.sites\n",
    "\n",
    "ts.tables.mutations"
   ]
  },
  {
   "cell_type": "code",
   "execution_count": 89,
   "id": "70b34104-1d76-4dba-adfa-ec06af0c2bc0",
   "metadata": {},
   "outputs": [
    {
     "name": "stdout",
     "output_type": "stream",
     "text": [
      "     Position  Sample Index  Genotype   Allele\n",
      "0        17.0             0         0   absent\n",
      "1        17.0             1         0   absent\n",
      "2        17.0             2         0   absent\n",
      "3        17.0             3         0   absent\n",
      "4        17.0             4         0   absent\n",
      "5        23.0             0         0   absent\n",
      "6        23.0             1         0   absent\n",
      "7        23.0             2         0   absent\n",
      "8        23.0             3         0   absent\n",
      "9        23.0             4         0   absent\n",
      "10       24.0             0         0   absent\n",
      "11       24.0             1         0   absent\n",
      "12       24.0             2         0   absent\n",
      "13       24.0             3         0   absent\n",
      "14       24.0             4         0   absent\n",
      "15       28.0             0         0   absent\n",
      "16       28.0             1         0   absent\n",
      "17       28.0             2         0   absent\n",
      "18       28.0             3         0   absent\n",
      "19       28.0             4         0   absent\n",
      "20       32.0             0         0   absent\n",
      "21       32.0             1         0   absent\n",
      "22       32.0             2         0   absent\n",
      "23       32.0             3         0   absent\n",
      "24       32.0             4         0   absent\n",
      "25       37.0             0         0   absent\n",
      "26       37.0             1         0   absent\n",
      "27       37.0             2         0   absent\n",
      "28       37.0             3         0   absent\n",
      "29       37.0             4         0   absent\n",
      "30       38.0             0         0   absent\n",
      "31       38.0             1         0   absent\n",
      "32       38.0             2         0   absent\n",
      "33       38.0             3         0   absent\n",
      "34       38.0             4         0   absent\n",
      "35       44.0             0         0   absent\n",
      "36       44.0             1         0   absent\n",
      "37       44.0             2         0   absent\n",
      "38       44.0             3         0   absent\n",
      "39       44.0             4         0   absent\n",
      "40       45.0             0         0   absent\n",
      "41       45.0             1         0   absent\n",
      "42       45.0             2         0   absent\n",
      "43       45.0             3         0   absent\n",
      "44       45.0             4         0   absent\n",
      "45       48.0             0         0   absent\n",
      "46       48.0             1         0   absent\n",
      "47       48.0             2         0   absent\n",
      "48       48.0             3         0   absent\n",
      "49       48.0             4         0   absent\n",
      "50       49.0             0         0   absent\n",
      "51       49.0             1         0   absent\n",
      "52       49.0             2         0   absent\n",
      "53       49.0             3         0   absent\n",
      "54       49.0             4         0   absent\n",
      "55       51.0             0         0  present\n",
      "56       51.0             1         0  present\n",
      "57       51.0             2         0  present\n",
      "58       51.0             3         0  present\n",
      "59       51.0             4         0  present\n",
      "60       54.0             0         0   absent\n",
      "61       54.0             1         0   absent\n",
      "62       54.0             2         0   absent\n",
      "63       54.0             3         0   absent\n",
      "64       54.0             4         0   absent\n",
      "65       55.0             0         0   absent\n",
      "66       55.0             1         0   absent\n",
      "67       55.0             2         0   absent\n",
      "68       55.0             3         0   absent\n",
      "69       55.0             4         0   absent\n",
      "70       56.0             0         0  present\n",
      "71       56.0             1         0  present\n",
      "72       56.0             2         0  present\n",
      "73       56.0             3         0  present\n",
      "74       56.0             4         0  present\n",
      "75       59.0             0         0   absent\n",
      "76       59.0             1         0   absent\n",
      "77       59.0             2         0   absent\n",
      "78       59.0             3         0   absent\n",
      "79       59.0             4         0   absent\n",
      "80       62.0             0         0   absent\n",
      "81       62.0             1         0   absent\n",
      "82       62.0             2         0   absent\n",
      "83       62.0             3         0   absent\n",
      "84       62.0             4         0   absent\n",
      "85       63.0             0         0   absent\n",
      "86       63.0             1         0   absent\n",
      "87       63.0             2         0   absent\n",
      "88       63.0             3         0   absent\n",
      "89       63.0             4         0   absent\n",
      "90       71.0             0         0   absent\n",
      "91       71.0             1         0   absent\n",
      "92       71.0             2         0   absent\n",
      "93       71.0             3         0   absent\n",
      "94       71.0             4         0   absent\n",
      "95       76.0             0         0   absent\n",
      "96       76.0             1         0   absent\n",
      "97       76.0             2         0   absent\n",
      "98       76.0             3         0   absent\n",
      "99       76.0             4         0   absent\n",
      "100      77.0             0         0   absent\n",
      "101      77.0             1         0   absent\n",
      "102      77.0             2         0   absent\n",
      "103      77.0             3         0   absent\n",
      "104      77.0             4         0   absent\n",
      "105      89.0             0         0   absent\n",
      "106      89.0             1         0   absent\n",
      "107      89.0             2         0   absent\n",
      "108      89.0             3         0   absent\n",
      "109      89.0             4         0   absent\n",
      "110      99.0             0         0   absent\n",
      "111      99.0             1         0   absent\n",
      "112      99.0             2         0   absent\n",
      "113      99.0             3         0   absent\n",
      "114      99.0             4         0   absent\n",
      "115     102.0             0         0   absent\n",
      "116     102.0             1         0   absent\n",
      "117     102.0             2         0   absent\n",
      "118     102.0             3         0   absent\n",
      "119     102.0             4         0   absent\n",
      "120     103.0             0         0   absent\n",
      "121     103.0             1         0   absent\n",
      "122     103.0             2         0   absent\n",
      "123     103.0             3         0   absent\n",
      "124     103.0             4         0   absent\n",
      "125     119.0             0         0   absent\n",
      "126     119.0             1         0   absent\n",
      "127     119.0             2         0   absent\n",
      "128     119.0             3         0   absent\n",
      "129     119.0             4         0   absent\n",
      "130     120.0             0         0   absent\n",
      "131     120.0             1         0   absent\n",
      "132     120.0             2         0   absent\n",
      "133     120.0             3         0   absent\n",
      "134     120.0             4         0   absent\n",
      "135     123.0             0         0   absent\n",
      "136     123.0             1         0   absent\n",
      "137     123.0             2         0   absent\n",
      "138     123.0             3         0   absent\n",
      "139     123.0             4         0   absent\n",
      "140     142.0             0         0   absent\n",
      "141     142.0             1         0   absent\n",
      "142     142.0             2         0   absent\n",
      "143     142.0             3         1  present\n",
      "144     142.0             4         0   absent\n",
      "145     144.0             0         0   absent\n",
      "146     144.0             1         0   absent\n",
      "147     144.0             2         0   absent\n",
      "148     144.0             3         0   absent\n",
      "149     144.0             4         0   absent\n",
      "150     147.0             0         0   absent\n",
      "151     147.0             1         0   absent\n",
      "152     147.0             2         0   absent\n",
      "153     147.0             3         0   absent\n",
      "154     147.0             4         0   absent\n",
      "155     148.0             0         0   absent\n",
      "156     148.0             1         0   absent\n",
      "157     148.0             2         0   absent\n",
      "158     148.0             3         0   absent\n",
      "159     148.0             4         0   absent\n",
      "160     150.0             0         1  present\n",
      "161     150.0             1         1  present\n",
      "162     150.0             2         1  present\n",
      "163     150.0             3         0   absent\n",
      "164     150.0             4         1  present\n",
      "165     154.0             0         0   absent\n",
      "166     154.0             1         0   absent\n",
      "167     154.0             2         0   absent\n",
      "168     154.0             3         0   absent\n",
      "169     154.0             4         0   absent\n",
      "170     161.0             0         0   absent\n",
      "171     161.0             1         0   absent\n",
      "172     161.0             2         0   absent\n",
      "173     161.0             3         0   absent\n",
      "174     161.0             4         0   absent\n",
      "175     163.0             0         0   absent\n",
      "176     163.0             1         0   absent\n",
      "177     163.0             2         0   absent\n",
      "178     163.0             3         0   absent\n",
      "179     163.0             4         0   absent\n",
      "180     164.0             0         0   absent\n",
      "181     164.0             1         0   absent\n",
      "182     164.0             2         0   absent\n",
      "183     164.0             3         0   absent\n",
      "184     164.0             4         0   absent\n",
      "185     173.0             0         0   absent\n",
      "186     173.0             1         0   absent\n",
      "187     173.0             2         0   absent\n",
      "188     173.0             3         0   absent\n",
      "189     173.0             4         0   absent\n",
      "190     190.0             0         0   absent\n",
      "191     190.0             1         0   absent\n",
      "192     190.0             2         0   absent\n",
      "193     190.0             3         0   absent\n",
      "194     190.0             4         0   absent\n",
      "195     191.0             0         0   absent\n",
      "196     191.0             1         0   absent\n",
      "197     191.0             2         0   absent\n",
      "198     191.0             3         0   absent\n",
      "199     191.0             4         0   absent\n",
      "200     199.0             0         0   absent\n",
      "201     199.0             1         0   absent\n",
      "202     199.0             2         0   absent\n",
      "203     199.0             3         0   absent\n",
      "204     199.0             4         0   absent\n"
     ]
    }
   ],
   "source": [
    "import pandas as pd\n",
    "\n",
    "mutated_ts = ts\n",
    "# Liste, in der die Mutationsdaten gespeichert werden\n",
    "mutation_data = []\n",
    "\n",
    "pd.set_option('display.max_rows', None)  # Zeigt alle Zeilen an\n",
    "pd.set_option('display.max_columns', None)  # Zeigt alle Spalten an\n",
    "\n",
    "# Durchlaufe alle Varianten (Mutationen)\n",
    "for variant in mutated_ts.variants():\n",
    "    position = variant.site.position\n",
    "    alleles = variant.alleles\n",
    "    for sample_index, genotype in enumerate(variant.genotypes):\n",
    "        allele = alleles[genotype]\n",
    "        mutation_data.append({\n",
    "            \"Position\": position,\n",
    "            \"Sample Index\": sample_index,\n",
    "            \"Genotype\": genotype,\n",
    "            \"Allele\": allele\n",
    "        })\n",
    "\n",
    "# Erstelle ein DataFrame aus den Mutationsdaten\n",
    "mutation_df = pd.DataFrame(mutation_data)\n",
    "\n",
    "# Druck die Tabelle\n",
    "print(mutation_df)"
   ]
  },
  {
   "cell_type": "code",
   "execution_count": 23,
   "id": "63b1a8a9-bbb7-4aa8-87b4-2a9dc7f1ae6a",
   "metadata": {},
   "outputs": [
    {
     "name": "stdout",
     "output_type": "stream",
     "text": [
      "Node 7's parent is 10 and childen are (1, 5) in the first tree\n",
      "     39  \n",
      "    ┏━┻━┓\n",
      "   36   ┃\n",
      "    ┃   ┃\n",
      "    ┃  31\n",
      "    ┃   ┃\n",
      "    ┃  28\n",
      "    ┃   ┃\n",
      "    ┃  24\n",
      "    ┃   ┃\n",
      "   23   ┃\n",
      "  ┏━┻━┓ ┃\n",
      "  ┃  19 ┃\n",
      "  ┃   ┃ ┃\n",
      "  ┃   ┃16\n",
      "  ┃   ┃ ┃\n",
      "  ┃   ┃13\n",
      "  ┃   ┃ ┃\n",
      " 10   ┃ ┃\n",
      "  ┃   ┃ ┃\n",
      "  ┃   7 ┃\n",
      "  ┃   ┃ ┃\n",
      "  6   ┃ ┃\n",
      " ┏┻━┓ ┃ ┃\n",
      " 5  ┃ ┃ ┃\n",
      "┏┻┓ ┃ ┃ ┃\n",
      "0 3 1 2 4\n",
      "\n"
     ]
    }
   ],
   "source": [
    "first_tree = ts.first()\n",
    "parent_of_7 = first_tree.parent(6)\n",
    "children_of_7 = first_tree.children(6)\n",
    "print(\"Node 7's parent is\", parent_of_7, \"and childen are\", children_of_7, \"in the first tree\")\n",
    "print(first_tree.draw_text())"
   ]
  },
  {
   "cell_type": "code",
   "execution_count": 24,
   "id": "22d89829-1bae-4124-83a0-4f3fbcd0a7e3",
   "metadata": {},
   "outputs": [
    {
     "name": "stdout",
     "output_type": "stream",
     "text": [
      "Site(id=0, position=0.0, ancestral_state='present', mutations=[Mutation(id=0, site=0, node=1, derived_state='absent', parent=-1, metadata=b'', time=0.04115098429061284, edge=2), Mutation(id=1, site=0, node=0, derived_state='present', parent=-1, metadata=b'', time=1e-11, edge=0), Mutation(id=2, site=0, node=1, derived_state='absent', parent=0, metadata=b'', time=1e-11, edge=2), Mutation(id=3, site=0, node=2, derived_state='present', parent=-1, metadata=b'', time=1e-11, edge=4), Mutation(id=4, site=0, node=3, derived_state='present', parent=-1, metadata=b'', time=1e-11, edge=1), Mutation(id=5, site=0, node=4, derived_state='present', parent=-1, metadata=b'', time=1e-11, edge=8)], metadata=b'')\n"
     ]
    }
   ],
   "source": [
    "print(ts.site(0))  # For convenience, the Python API also returns the mutations at the site"
   ]
  }
 ],
 "metadata": {
  "kernelspec": {
   "display_name": "pangenome-gene-transfer-simulation",
   "language": "python",
   "name": "pangenome-gene-transfer-simulation"
  },
  "language_info": {
   "codemirror_mode": {
    "name": "ipython",
    "version": 3
   },
   "file_extension": ".py",
   "mimetype": "text/x-python",
   "name": "python",
   "nbconvert_exporter": "python",
   "pygments_lexer": "ipython3",
   "version": "3.12.1"
  }
 },
 "nbformat": 4,
 "nbformat_minor": 5
}
