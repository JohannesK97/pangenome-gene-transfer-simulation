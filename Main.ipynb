{
 "cells": [
  {
   "cell_type": "code",
   "execution_count": 1,
   "id": "176ebdcb-bc57-485b-a98b-d05d27af4ba7",
   "metadata": {},
   "outputs": [],
   "source": [
    "# Packages\n",
    "import gene_model\n",
    "import gfs\n",
    "import color_scheme\n",
    "import hgt_mutations\n",
    "\n",
    "from matplotlib import pyplot as plt\n",
    "import seaborn as sns"
   ]
  },
  {
   "cell_type": "code",
   "execution_count": 2,
   "id": "f60eb658-a2e5-417f-a0df-b3e87cafe37e",
   "metadata": {},
   "outputs": [],
   "source": [
    "# Simulation Parameters\n",
    "theta = 2 # Gene Gain rate\n",
    "rho = 0 # Gene Loss rate\n",
    "\n",
    "gene_conv = 0 # Gene Conversion rate\n",
    "recomb = 0 # Recombination rate\n",
    "hgt_rate = 0.5 # HGT rate\n",
    "\n",
    "\n",
    "num_sites = 1 # Number of sites to simulate\n",
    "num_samples = 5 # Number of samples / individuals"
   ]
  },
  {
   "cell_type": "code",
   "execution_count": 3,
   "id": "f521c76b-a960-4eb6-a5ab-ffc39c1bae13",
   "metadata": {},
   "outputs": [
    {
     "name": "stdout",
     "output_type": "stream",
     "text": [
      "0.0\t('absent', 'present')\t[1 0 0 0 0]\n",
      "╔══╤════╤════╤══════════╤═════════════╤══════╤════════╗\n",
      "║id│site│node│time      │derived_state│parent│metadata║\n",
      "╠══╪════╪════╪══════════╪═════════════╪══════╪════════╣\n",
      "║0 │   0│   0│0.06068009│      present│    -1│ b'\\x00'║\n",
      "╚══╧════╧════╧══════════╧═════════════╧══════╧════════╝\n",
      "\n"
     ]
    },
    {
     "name": "stderr",
     "output_type": "stream",
     "text": [
      "C:\\Users\\uhewm\\OneDrive\\PhD\\Project No.2\\pangenome-gene-transfer-simulation\\gene_model.py:246: RuntimeWarning: 1 double mutation (present -> present) occured. It is recommended to increase the num_sites to 20 or higher. Alternatily use the double_site_relocation or relocate_double_gene_gain option.\n",
      "  warnings.warn(\n"
     ]
    },
    {
     "data": {
      "image/svg+xml": [
       "<svg baseProfile=\"full\" height=\"200\" version=\"1.1\" width=\"200\" xmlns=\"http://www.w3.org/2000/svg\" xmlns:ev=\"http://www.w3.org/2001/xml-events\" xmlns:xlink=\"http://www.w3.org/1999/xlink\"><defs><style type=\"text/css\"><![CDATA[.background path {fill: #808080; fill-opacity: 0}.background path:nth-child(odd) {fill-opacity: .1}.x-regions rect {fill: yellow; stroke: black; opacity: 0.5}.axes {font-size: 14px}.x-axis .tick .lab {font-weight: bold; dominant-baseline: hanging}.axes, .tree {font-size: 14px; text-anchor: middle}.axes line, .edge {stroke: black; fill: none}.axes .ax-skip {stroke-dasharray: 4}.y-axis .grid {stroke: #FAFAFA}.node > .sym {fill: black; stroke: none}.site > .sym {stroke: black}.mut text {fill: red; font-style: italic}.mut.extra text {fill: hotpink}.mut line {fill: none; stroke: none}.mut .sym {fill: none; stroke: red}.mut.extra .sym {stroke: hotpink}.node .mut .sym {stroke-width: 1.5px}.tree text, .tree-sequence text {dominant-baseline: central}.plotbox .lab.lft {text-anchor: end}.plotbox .lab.rgt {text-anchor: start}.polytomy line {stroke: black; stroke-dasharray: 1px, 1px}.polytomy text {paint-order:stroke;stroke-width:0.3em;stroke:white}]]></style></defs><g class=\"tree-sequence\"><g class=\"background\"><path d=\"M20,0 l160,0 l0,138.2 l0,25 l0,5 l-160,0 l0,-5 l0,-25 l0,-138.2z\" /></g><g class=\"axes\"><g class=\"x-axis\"><g class=\"title\" transform=\"translate(100 200)\"><text class=\"lab\" text-anchor=\"middle\" transform=\"translate(0 -11)\">Genome position</text></g><line class=\"ax-line\" x1=\"20\" x2=\"180\" y1=\"163.2\" y2=\"163.2\" /><g class=\"ticks\"><g class=\"tick\" transform=\"translate(20 163.2)\"><line x1=\"0\" x2=\"0\" y1=\"0\" y2=\"5\" /><g transform=\"translate(0 6)\"><text class=\"lab\">0</text></g></g><g class=\"tick\" transform=\"translate(180 163.2)\"><line x1=\"0\" x2=\"0\" y1=\"0\" y2=\"5\" /><g transform=\"translate(0 6)\"><text class=\"lab\">1</text></g></g></g><g class=\"site s0\" transform=\"translate(20 163.2)\"><line class=\"sym\" x1=\"0\" x2=\"0\" y1=\"0\" y2=\"-10\" /><g class=\"mut m0\"><polyline class=\"sym\" points=\"2.5,-6.5 0,-1.5 -2.5,-6.5\" /></g></g></g></g><g class=\"plotbox trees\"><g class=\"tree t0\" transform=\"translate(20 0)\"><g class=\"plotbox\"><g class=\"c2 node n12 p0 root\" transform=\"translate(80 26.8)\"><g class=\"a12 c2 node n10 p0\" transform=\"translate(35 77.9485)\"><g class=\"a10 leaf node n2 p0 sample\" transform=\"translate(15 16.6515)\"><path class=\"edge\" d=\"M 0 0 V -16.6515 H -15\" /><rect class=\"sym\" height=\"6\" width=\"6\" x=\"-3\" y=\"-3\" /><text class=\"lab\" transform=\"translate(0 11)\">2</text></g><g class=\"a10 c2 node n9 p0\" transform=\"translate(-15 13.2069)\"><g class=\"a9 leaf node n1 p0 sample\" transform=\"translate(-10 3.44469)\"><path class=\"edge\" d=\"M 0 0 V -3.44469 H 10\" /><rect class=\"sym\" height=\"6\" width=\"6\" x=\"-3\" y=\"-3\" /><text class=\"lab\" transform=\"translate(0 11)\">1</text></g><g class=\"a9 c1 node n7 p0\" transform=\"translate(10 1.4789)\"><g class=\"a7 leaf node n6 p0\" transform=\"translate(0.0 6.74014e-06)\"><path class=\"edge\" d=\"M 0 0 V -6.74014e-06 H 0.0\" /><circle class=\"sym\" cx=\"0\" cy=\"0\" r=\"3\" /><text class=\"lab\" transform=\"translate(0 11)\">6</text></g><path class=\"edge\" d=\"M 0 0 V -1.4789 H -10\" /><circle class=\"sym\" cx=\"0\" cy=\"0\" r=\"3\" /><text class=\"lab rgt\" transform=\"translate(3 -7)\">7</text></g><path class=\"edge\" d=\"M 0 0 V -13.2069 H 15\" /><circle class=\"sym\" cx=\"0\" cy=\"0\" r=\"3\" /><text class=\"lab lft\" transform=\"translate(-3 -7)\">9</text></g><path class=\"edge\" d=\"M 0 0 V -77.9485 H -35\" /><circle class=\"sym\" cx=\"0\" cy=\"0\" r=\"3\" /><text class=\"lab rgt\" transform=\"translate(3 -7)\">10</text></g><g class=\"a12 c2 node n11 p0\" transform=\"translate(-35 68.3203)\"><g class=\"a11 leaf m0 node n0 p0 s0 sample\" transform=\"translate(-15 26.2797)\"><path class=\"edge\" d=\"M 0 0 V -26.2797 H 15\" /><g class=\"mut m0 s0\" transform=\"translate(0 -4.08992)\"><line x1=\"0\" x2=\"0\" y1=\"0\" y2=\"4.08992\" /><path class=\"sym\" d=\"M -3,-3 l 6,6 M -3,3 l 6,-6\" /><text class=\"lab lft\" transform=\"translate(-5 0)\">0</text></g><rect class=\"sym\" height=\"6\" width=\"6\" x=\"-3\" y=\"-3\" /><text class=\"lab\" transform=\"translate(0 11)\">0</text></g><g class=\"a11 c2 node n8 p0\" transform=\"translate(15 23.8231)\"><g class=\"a8 leaf node n4 p0 sample\" transform=\"translate(10 2.45661)\"><path class=\"edge\" d=\"M 0 0 V -2.45661 H -10\" /><rect class=\"sym\" height=\"6\" width=\"6\" x=\"-3\" y=\"-3\" /><text class=\"lab\" transform=\"translate(0 11)\">4</text></g><g class=\"a8 c1 node n5 p0\" transform=\"translate(-10 0.490824)\"><g class=\"a5 leaf node n3 p0 sample\" transform=\"translate(0.0 1.96578)\"><path class=\"edge\" d=\"M 0 0 V -1.96578 H 0.0\" /><rect class=\"sym\" height=\"6\" width=\"6\" x=\"-3\" y=\"-3\" /><text class=\"lab\" transform=\"translate(0 11)\">3</text></g><path class=\"edge\" d=\"M 0 0 V -0.490824 H 10\" /><circle class=\"sym\" cx=\"0\" cy=\"0\" r=\"3\" /><text class=\"lab lft\" transform=\"translate(-3 -7)\">5</text></g><path class=\"edge\" d=\"M 0 0 V -23.8231 H -15\" /><circle class=\"sym\" cx=\"0\" cy=\"0\" r=\"3\" /><text class=\"lab rgt\" transform=\"translate(3 -7)\">8</text></g><path class=\"edge\" d=\"M 0 0 V -68.3203 H 35\" /><circle class=\"sym\" cx=\"0\" cy=\"0\" r=\"3\" /><text class=\"lab lft\" transform=\"translate(-3 -7)\">11</text></g><circle class=\"sym\" cx=\"0\" cy=\"0\" r=\"3\" /><text class=\"lab\" transform=\"translate(0 -11)\">12</text></g></g></g></g></g></svg>"
      ],
      "text/plain": [
       "'<svg baseProfile=\"full\" height=\"200\" version=\"1.1\" width=\"200\" xmlns=\"http://www.w3.org/2000/svg\" xmlns:ev=\"http://www.w3.org/2001/xml-events\" xmlns:xlink=\"http://www.w3.org/1999/xlink\"><defs><style type=\"text/css\"><![CDATA[.background path {fill: #808080; fill-opacity: 0}.background path:nth-child(odd) {fill-opacity: .1}.x-regions rect {fill: yellow; stroke: black; opacity: 0.5}.axes {font-size: 14px}.x-axis .tick .lab {font-weight: bold; dominant-baseline: hanging}.axes, .tree {font-size: 14px; text-anchor: middle}.axes line, .edge {stroke: black; fill: none}.axes .ax-skip {stroke-dasharray: 4}.y-axis .grid {stroke: #FAFAFA}.node > .sym {fill: black; stroke: none}.site > .sym {stroke: black}.mut text {fill: red; font-style: italic}.mut.extra text {fill: hotpink}.mut line {fill: none; stroke: none}.mut .sym {fill: none; stroke: red}.mut.extra .sym {stroke: hotpink}.node .mut .sym {stroke-width: 1.5px}.tree text, .tree-sequence text {dominant-baseline: central}.plotbox .lab.lft {text-anchor: end}.plotbox .lab.rgt {text-anchor: start}.polytomy line {stroke: black; stroke-dasharray: 1px, 1px}.polytomy text {paint-order:stroke;stroke-width:0.3em;stroke:white}]]></style></defs><g class=\"tree-sequence\"><g class=\"background\"><path d=\"M20,0 l160,0 l0,138.2 l0,25 l0,5 l-160,0 l0,-5 l0,-25 l0,-138.2z\" /></g><g class=\"axes\"><g class=\"x-axis\"><g class=\"title\" transform=\"translate(100 200)\"><text class=\"lab\" text-anchor=\"middle\" transform=\"translate(0 -11)\">Genome position</text></g><line class=\"ax-line\" x1=\"20\" x2=\"180\" y1=\"163.2\" y2=\"163.2\" /><g class=\"ticks\"><g class=\"tick\" transform=\"translate(20 163.2)\"><line x1=\"0\" x2=\"0\" y1=\"0\" y2=\"5\" /><g transform=\"translate(0 6)\"><text class=\"lab\">0</text></g></g><g class=\"tick\" transform=\"translate(180 163.2)\"><line x1=\"0\" x2=\"0\" y1=\"0\" y2=\"5\" /><g transform=\"translate(0 6)\"><text class=\"lab\">1</text></g></g></g><g class=\"site s0\" transform=\"translate(20 163.2)\"><line class=\"sym\" x1=\"0\" x2=\"0\" y1=\"0\" y2=\"-10\" /><g class=\"mut m0\"><polyline class=\"sym\" points=\"2.5,-6.5 0,-1.5 -2.5,-6.5\" /></g></g></g></g><g class=\"plotbox trees\"><g class=\"tree t0\" transform=\"translate(20 0)\"><g class=\"plotbox\"><g class=\"c2 node n12 p0 root\" transform=\"translate(80 26.8)\"><g class=\"a12 c2 node n10 p0\" transform=\"translate(35 77.9485)\"><g class=\"a10 leaf node n2 p0 sample\" transform=\"translate(15 16.6515)\"><path class=\"edge\" d=\"M 0 0 V -16.6515 H -15\" /><rect class=\"sym\" height=\"6\" width=\"6\" x=\"-3\" y=\"-3\" /><text class=\"lab\" transform=\"translate(0 11)\">2</text></g><g class=\"a10 c2 node n9 p0\" transform=\"translate(-15 13.2069)\"><g class=\"a9 leaf node n1 p0 sample\" transform=\"translate(-10 3.44469)\"><path class=\"edge\" d=\"M 0 0 V -3.44469 H 10\" /><rect class=\"sym\" height=\"6\" width=\"6\" x=\"-3\" y=\"-3\" /><text class=\"lab\" transform=\"translate(0 11)\">1</text></g><g class=\"a9 c1 node n7 p0\" transform=\"translate(10 1.4789)\"><g class=\"a7 leaf node n6 p0\" transform=\"translate(0.0 6.74014e-06)\"><path class=\"edge\" d=\"M 0 0 V -6.74014e-06 H 0.0\" /><circle class=\"sym\" cx=\"0\" cy=\"0\" r=\"3\" /><text class=\"lab\" transform=\"translate(0 11)\">6</text></g><path class=\"edge\" d=\"M 0 0 V -1.4789 H -10\" /><circle class=\"sym\" cx=\"0\" cy=\"0\" r=\"3\" /><text class=\"lab rgt\" transform=\"translate(3 -7)\">7</text></g><path class=\"edge\" d=\"M 0 0 V -13.2069 H 15\" /><circle class=\"sym\" cx=\"0\" cy=\"0\" r=\"3\" /><text class=\"lab lft\" transform=\"translate(-3 -7)\">9</text></g><path class=\"edge\" d=\"M 0 0 V -77.9485 H -35\" /><circle class=\"sym\" cx=\"0\" cy=\"0\" r=\"3\" /><text class=\"lab rgt\" transform=\"translate(3 -7)\">10</text></g><g class=\"a12 c2 node n11 p0\" transform=\"translate(-35 68.3203)\"><g class=\"a11 leaf m0 node n0 p0 s0 sample\" transform=\"translate(-15 26.2797)\"><path class=\"edge\" d=\"M 0 0 V -26.2797 H 15\" /><g class=\"mut m0 s0\" transform=\"translate(0 -4.08992)\"><line x1=\"0\" x2=\"0\" y1=\"0\" y2=\"4.08992\" /><path class=\"sym\" d=\"M -3,-3 l 6,6 M -3,3 l 6,-6\" /><text class=\"lab lft\" transform=\"translate(-5 0)\">0</text></g><rect class=\"sym\" height=\"6\" width=\"6\" x=\"-3\" y=\"-3\" /><text class=\"lab\" transform=\"translate(0 11)\">0</text></g><g class=\"a11 c2 node n8 p0\" transform=\"translate(15 23.8231)\"><g class=\"a8 leaf node n4 p0 sample\" transform=\"translate(10 2.45661)\"><path class=\"edge\" d=\"M 0 0 V -2.45661 H -10\" /><rect class=\"sym\" height=\"6\" width=\"6\" x=\"-3\" y=\"-3\" /><text class=\"lab\" transform=\"translate(0 11)\">4</text></g><g class=\"a8 c1 node n5 p0\" transform=\"translate(-10 0.490824)\"><g class=\"a5 leaf node n3 p0 sample\" transform=\"translate(0.0 1.96578)\"><path class=\"edge\" d=\"M 0 0 V -1.96578 H 0.0\" /><rect class=\"sym\" height=\"6\" width=\"6\" x=\"-3\" y=\"-3\" /><text class=\"lab\" transform=\"translate(0 11)\">3</text></g><path class=\"edge\" d=\"M 0 0 V -0.490824 H 10\" /><circle class=\"sym\" cx=\"0\" cy=\"0\" r=\"3\" /><text class=\"lab lft\" transform=\"translate(-3 -7)\">5</text></g><path class=\"edge\" d=\"M 0 0 V -23.8231 H -15\" /><circle class=\"sym\" cx=\"0\" cy=\"0\" r=\"3\" /><text class=\"lab rgt\" transform=\"translate(3 -7)\">8</text></g><path class=\"edge\" d=\"M 0 0 V -68.3203 H 35\" /><circle class=\"sym\" cx=\"0\" cy=\"0\" r=\"3\" /><text class=\"lab lft\" transform=\"translate(-3 -7)\">11</text></g><circle class=\"sym\" cx=\"0\" cy=\"0\" r=\"3\" /><text class=\"lab\" transform=\"translate(0 -11)\">12</text></g></g></g></g></g></svg>'"
      ]
     },
     "execution_count": 3,
     "metadata": {},
     "output_type": "execute_result"
    }
   ],
   "source": [
    "import numpy as np\n",
    "\n",
    "run = True\n",
    "\n",
    "while run:\n",
    "\n",
    "    mts = gene_model.gene_model(\n",
    "        theta=1,\n",
    "        rho=rho,\n",
    "        gene_conversion_rate=gene_conv,\n",
    "        recombination_rate=recomb,\n",
    "        hgt_rate=0.5,\n",
    "        num_samples=num_samples,\n",
    "        num_sites=num_sites,\n",
    "        double_site_relocation=False, # Fix double gene gain events, won't hide the warning.\n",
    "    )\n",
    "\n",
    "    for var in mts.variants():\n",
    "        #if not (var.alleles == ('absent',) or np.all(var.genotypes == [1, 1, 1, 1, 1])):\n",
    "        #if not (var.alleles == ('present',)):\n",
    "        run = False\n",
    "\n",
    "for var in mts.variants():\n",
    "    print(var.site.position, var.alleles, var.genotypes, sep=\"\\t\")\n",
    "\n",
    "print(mts.tables.mutations)\n",
    "mts.draw_svg()\n"
   ]
  },
  {
   "cell_type": "code",
   "execution_count": 24,
   "id": "d0aa9f8e-1753-48d9-bfb9-d9ca719ee305",
   "metadata": {},
   "outputs": [
    {
     "name": "stdout",
     "output_type": "stream",
     "text": [
      "0.0\t('absent', 'present')\t[0 0 0 0 0]\n",
      "1.0\t('absent', 'present')\t[0 0 0 0 0]\n",
      "╔══╤════╤════╤══════════╤═════════════╤══════╤════════╗\n",
      "║id│site│node│time      │derived_state│parent│metadata║\n",
      "╠══╪════╪════╪══════════╪═════════════╪══════╪════════╣\n",
      "║0 │   0│  23│1.00755232│       absent│    -1│ b'\\x00'║\n",
      "║1 │   0│  23│0.94314215│      present│     0│ b'\\x00'║\n",
      "║2 │   0│  13│0.20668536│       absent│     1│ b'\\x00'║\n",
      "║3 │   0│  12│0.13131986│       absent│     1│ b'\\x02'║\n",
      "║4 │   0│  10│0.11805291│       absent│     1│ b'\\x00'║\n",
      "║5 │   0│   2│0.09175852│       absent│     2│ b'\\x00'║\n",
      "║6 │   0│   0│0.00000000│       absent│     4│ b'\\x01'║\n",
      "║7 │   0│   1│0.00000000│       absent│     2│ b'\\x01'║\n",
      "║8 │   0│   2│0.00000000│       absent│     5│ b'\\x01'║\n",
      "║9 │   0│   3│0.00000000│       absent│     4│ b'\\x01'║\n",
      "║10│   0│   4│0.00000000│       absent│     4│ b'\\x01'║\n",
      "║11│   1│  10│0.51469227│      present│    -1│ b'\\x00'║\n",
      "║12│   1│  10│0.26763437│       absent│    11│ b'\\x00'║\n",
      "║13│   1│   8│0.18782290│       absent│    -1│ b'\\x00'║\n",
      "║14│   1│   2│0.08243369│       absent│    -1│ b'\\x00'║\n",
      "║15│   1│   6│0.06736392│       absent│    13│ b'\\x02'║\n",
      "║16│   1│   1│0.02735659│       absent│    -1│ b'\\x00'║\n",
      "║17│   1│   0│0.00000000│       absent│    12│ b'\\x01'║\n",
      "║18│   1│   1│0.00000000│       absent│    16│ b'\\x01'║\n",
      "║19│   1│   2│0.00000000│       absent│    14│ b'\\x01'║\n",
      "║20│   1│   3│0.00000000│       absent│    15│ b'\\x01'║\n",
      "║21│   1│   4│0.00000000│       absent│    12│ b'\\x01'║\n",
      "╚══╧════╧════╧══════════╧═════════════╧══════╧════════╝\n",
      "\n"
     ]
    },
    {
     "data": {
      "image/svg+xml": [
       "<svg baseProfile=\"full\" height=\"200\" version=\"1.1\" width=\"400\" xmlns=\"http://www.w3.org/2000/svg\" xmlns:ev=\"http://www.w3.org/2001/xml-events\" xmlns:xlink=\"http://www.w3.org/1999/xlink\"><defs><style type=\"text/css\"><![CDATA[.background path {fill: #808080; fill-opacity: 0}.background path:nth-child(odd) {fill-opacity: .1}.x-regions rect {fill: yellow; stroke: black; opacity: 0.5}.axes {font-size: 14px}.x-axis .tick .lab {font-weight: bold; dominant-baseline: hanging}.axes, .tree {font-size: 14px; text-anchor: middle}.axes line, .edge {stroke: black; fill: none}.axes .ax-skip {stroke-dasharray: 4}.y-axis .grid {stroke: #FAFAFA}.node > .sym {fill: black; stroke: none}.site > .sym {stroke: black}.mut text {fill: red; font-style: italic}.mut.extra text {fill: hotpink}.mut line {fill: none; stroke: none}.mut .sym {fill: none; stroke: red}.mut.extra .sym {stroke: hotpink}.node .mut .sym {stroke-width: 1.5px}.tree text, .tree-sequence text {dominant-baseline: central}.plotbox .lab.lft {text-anchor: end}.plotbox .lab.rgt {text-anchor: start}.polytomy line {stroke: black; stroke-dasharray: 1px, 1px}.polytomy text {paint-order:stroke;stroke-width:0.3em;stroke:white}]]></style></defs><g class=\"tree-sequence\"><g class=\"background\"><path d=\"M20,0 l180,0 l0,138.2 l0,25 l0,5 l-180,0 l0,-5 l0,-25 l0,-138.2z\" /><path d=\"M200,0 l180,0 l0,138.2 l0,25 l0,5 l-180,0 l0,-5 l0,-25 l0,-138.2z\" /></g><g class=\"axes\"><g class=\"x-axis\"><g class=\"title\" transform=\"translate(200 200)\"><text class=\"lab\" text-anchor=\"middle\" transform=\"translate(0 -11)\">Genome position</text></g><line class=\"ax-line\" x1=\"20\" x2=\"380\" y1=\"163.2\" y2=\"163.2\" /><g class=\"ticks\"><g class=\"tick\" transform=\"translate(20 163.2)\"><line x1=\"0\" x2=\"0\" y1=\"0\" y2=\"5\" /><g transform=\"translate(0 6)\"><text class=\"lab\">0</text></g></g><g class=\"tick\" transform=\"translate(200 163.2)\"><line x1=\"0\" x2=\"0\" y1=\"0\" y2=\"5\" /><g transform=\"translate(0 6)\"><text class=\"lab\">1</text></g></g><g class=\"tick\" transform=\"translate(380 163.2)\"><line x1=\"0\" x2=\"0\" y1=\"0\" y2=\"5\" /><g transform=\"translate(0 6)\"><text class=\"lab\">2</text></g></g></g><g class=\"site s0\" transform=\"translate(20 163.2)\"><line class=\"sym\" x1=\"0\" x2=\"0\" y1=\"0\" y2=\"-10\" /><g class=\"mut m10\"><polyline class=\"sym\" points=\"2.5,-6.5 0,-1.5 -2.5,-6.5\" /></g><g class=\"mut m9\"><polyline class=\"sym\" points=\"2.5,-10.5 0,-5.5 -2.5,-10.5\" /></g><g class=\"mut m8\"><polyline class=\"sym\" points=\"2.5,-14.5 0,-9.5 -2.5,-14.5\" /></g><g class=\"mut m7\"><polyline class=\"sym\" points=\"2.5,-18.5 0,-13.5 -2.5,-18.5\" /></g><g class=\"mut m6\"><polyline class=\"sym\" points=\"2.5,-22.5 0,-17.5 -2.5,-22.5\" /></g><g class=\"mut m5\"><polyline class=\"sym\" points=\"2.5,-26.5 0,-21.5 -2.5,-26.5\" /></g><g class=\"mut m4\"><polyline class=\"sym\" points=\"2.5,-30.5 0,-25.5 -2.5,-30.5\" /></g><g class=\"mut m3\"><polyline class=\"sym\" points=\"2.5,-34.5 0,-29.5 -2.5,-34.5\" /></g><g class=\"mut m2\"><polyline class=\"sym\" points=\"2.5,-38.5 0,-33.5 -2.5,-38.5\" /></g><g class=\"mut m1\"><polyline class=\"sym\" points=\"2.5,-42.5 0,-37.5 -2.5,-42.5\" /></g><g class=\"mut m0\"><polyline class=\"sym\" points=\"2.5,-46.5 0,-41.5 -2.5,-46.5\" /></g></g><g class=\"site s1\" transform=\"translate(200 163.2)\"><line class=\"sym\" x1=\"0\" x2=\"0\" y1=\"0\" y2=\"-10\" /><g class=\"mut m21\"><polyline class=\"sym\" points=\"2.5,-6.5 0,-1.5 -2.5,-6.5\" /></g><g class=\"mut m20\"><polyline class=\"sym\" points=\"2.5,-10.5 0,-5.5 -2.5,-10.5\" /></g><g class=\"mut m19\"><polyline class=\"sym\" points=\"2.5,-14.5 0,-9.5 -2.5,-14.5\" /></g><g class=\"mut m18\"><polyline class=\"sym\" points=\"2.5,-18.5 0,-13.5 -2.5,-18.5\" /></g><g class=\"mut m17\"><polyline class=\"sym\" points=\"2.5,-22.5 0,-17.5 -2.5,-22.5\" /></g><g class=\"mut m16\"><polyline class=\"sym\" points=\"2.5,-26.5 0,-21.5 -2.5,-26.5\" /></g><g class=\"mut m15\"><polyline class=\"sym\" points=\"2.5,-30.5 0,-25.5 -2.5,-30.5\" /></g><g class=\"mut m14\"><polyline class=\"sym\" points=\"2.5,-34.5 0,-29.5 -2.5,-34.5\" /></g><g class=\"mut m13\"><polyline class=\"sym\" points=\"2.5,-38.5 0,-33.5 -2.5,-38.5\" /></g><g class=\"mut m12\"><polyline class=\"sym\" points=\"2.5,-42.5 0,-37.5 -2.5,-42.5\" /></g><g class=\"mut m11\"><polyline class=\"sym\" points=\"2.5,-46.5 0,-41.5 -2.5,-46.5\" /></g></g></g></g><g class=\"plotbox trees\"><g class=\"tree t0\" transform=\"translate(20 0)\"><g class=\"plotbox\"><g class=\"c2 node n24 p0 root\" transform=\"translate(128.281 26.8)\"><g class=\"a24 c1 node n22 p0\" transform=\"translate(22.9688 33.1867)\"><g class=\"a22 leaf node n21 p0\" transform=\"translate(0.0 7.33341e-06)\"><path class=\"edge\" d=\"M 0 0 V -7.33341e-06 H 0.0\" /><circle class=\"sym\" cx=\"0\" cy=\"0\" r=\"3\" /><text class=\"lab\" transform=\"translate(0 11)\">21</text></g><path class=\"edge\" d=\"M 0 0 V -33.1867 H -22.9688\" /><circle class=\"sym\" cx=\"0\" cy=\"0\" r=\"3\" /><text class=\"lab rgt\" transform=\"translate(3 -7)\">22</text></g><g class=\"a24 c2 m0 m1 node n23 p0 s0\" transform=\"translate(-22.9688 25.9829)\"><g class=\"a23 c1 node n17 p0\" transform=\"translate(28.4375 35.3713)\"><g class=\"a17 leaf node n16 p0\" transform=\"translate(0.0 7.33341e-06)\"><path class=\"edge\" d=\"M 0 0 V -7.33341e-06 H 0.0\" /><circle class=\"sym\" cx=\"0\" cy=\"0\" r=\"3\" /><text class=\"lab\" transform=\"translate(0 11)\">16</text></g><path class=\"edge\" d=\"M 0 0 V -35.3713 H -28.4375\" /><circle class=\"sym\" cx=\"0\" cy=\"0\" r=\"3\" /><text class=\"lab rgt\" transform=\"translate(3 -7)\">17</text></g><g class=\"a23 c1 node n20 p0\" transform=\"translate(-28.4375 7.20371)\"><g class=\"a20 c2 node n19 p0\" transform=\"translate(0.0 16.0971)\"><g class=\"a19 c1 m4 node n10 p0 s0\" transform=\"translate(-26.25 36.9599)\"><g class=\"a10 c2 node n9 p0\" transform=\"translate(0.0 1.35797)\"><g class=\"a9 c2 node n5 p0\" transform=\"translate(-13.125 6.27078)\"><g class=\"a5 leaf m6 node n0 p0 s0 sample\" transform=\"translate(-8.75 0.727609)\"><path class=\"edge\" d=\"M 0 0 V -0.727609 H 8.75\" /><g class=\"mut m6 s0\" transform=\"translate(0 -7.33337e-10)\"><line x1=\"0\" x2=\"0\" y1=\"0\" y2=\"7.33337e-10\" /><path class=\"sym\" d=\"M -3,-3 l 6,6 M -3,3 l 6,-6\" /><text class=\"lab lft\" transform=\"translate(-5 0)\">6</text></g><rect class=\"sym\" height=\"6\" width=\"6\" x=\"-3\" y=\"-3\" /><text class=\"lab\" transform=\"translate(0 11)\">0</text></g><g class=\"a5 leaf m10 node n4 p0 s0 sample\" transform=\"translate(8.75 0.727609)\"><path class=\"edge\" d=\"M 0 0 V -0.727609 H -8.75\" /><g class=\"mut m10 s0\" transform=\"translate(0 -7.33337e-10)\"><line x1=\"0\" x2=\"0\" y1=\"0\" y2=\"7.33337e-10\" /><path class=\"sym\" d=\"M -3,-3 l 6,6 M -3,3 l 6,-6\" /><text class=\"lab rgt\" transform=\"translate(5 0)\">10</text></g><rect class=\"sym\" height=\"6\" width=\"6\" x=\"-3\" y=\"-3\" /><text class=\"lab\" transform=\"translate(0 11)\">4</text></g><path class=\"edge\" d=\"M 0 0 V -6.27078 H 13.125\" /><circle class=\"sym\" cx=\"0\" cy=\"0\" r=\"3\" /><text class=\"lab lft\" transform=\"translate(-3 -7)\">5</text></g><g class=\"a9 c1 node n6 p0\" transform=\"translate(13.125 2.47605)\"><g class=\"a6 leaf m9 node n3 p0 s0 sample\" transform=\"translate(0.0 4.52234)\"><path class=\"edge\" d=\"M 0 0 V -4.52234 H 0.0\" /><g class=\"mut m9 s0\" transform=\"translate(0 -7.33337e-10)\"><line x1=\"0\" x2=\"0\" y1=\"0\" y2=\"7.33337e-10\" /><path class=\"sym\" d=\"M -3,-3 l 6,6 M -3,3 l 6,-6\" /><text class=\"lab lft\" transform=\"translate(-5 0)\">9</text></g><rect class=\"sym\" height=\"6\" width=\"6\" x=\"-3\" y=\"-3\" /><text class=\"lab\" transform=\"translate(0 11)\">3</text></g><path class=\"edge\" d=\"M 0 0 V -2.47605 H -13.125\" /><circle class=\"sym\" cx=\"0\" cy=\"0\" r=\"3\" /><text class=\"lab rgt\" transform=\"translate(3 -7)\">6</text></g><path class=\"edge\" d=\"M 0 0 V -1.35797 H 0.0\" /><circle class=\"sym\" cx=\"0\" cy=\"0\" r=\"3\" /><text class=\"lab lft\" transform=\"translate(-3 -7)\">9</text></g><path class=\"edge\" d=\"M 0 0 V -36.9599 H 26.25\" /><g class=\"mut m4 s0\" transform=\"translate(0 -0.300937)\"><line x1=\"0\" x2=\"0\" y1=\"0\" y2=\"0.300937\" /><path class=\"sym\" d=\"M -3,-3 l 6,6 M -3,3 l 6,-6\" /><text class=\"lab lft\" transform=\"translate(-5 0)\">4</text></g><circle class=\"sym\" cx=\"0\" cy=\"0\" r=\"3\" /><text class=\"lab lft\" transform=\"translate(-3 -7)\">10</text></g><g class=\"a19 c2 node n18 p0\" transform=\"translate(26.25 9.40476)\"><g class=\"a18 c2 m2 node n13 p0 s0\" transform=\"translate(-13.125 23.9895)\"><g class=\"a13 leaf m7 node n1 p0 s0 sample\" transform=\"translate(-8.75 11.922)\"><path class=\"edge\" d=\"M 0 0 V -11.922 H 8.75\" /><g class=\"mut m7 s0\" transform=\"translate(0 -7.33337e-10)\"><line x1=\"0\" x2=\"0\" y1=\"0\" y2=\"7.33337e-10\" /><path class=\"sym\" d=\"M -3,-3 l 6,6 M -3,3 l 6,-6\" /><text class=\"lab lft\" transform=\"translate(-5 0)\">7</text></g><rect class=\"sym\" height=\"6\" width=\"6\" x=\"-3\" y=\"-3\" /><text class=\"lab\" transform=\"translate(0 11)\">1</text></g><g class=\"a13 leaf m5 m8 node n2 p0 s0 sample\" transform=\"translate(8.75 11.922)\"><path class=\"edge\" d=\"M 0 0 V -11.922 H -8.75\" /><g class=\"mut m5 s0\" transform=\"translate(0 -6.72902)\"><line x1=\"0\" x2=\"0\" y1=\"0\" y2=\"6.72902\" /><path class=\"sym\" d=\"M -3,-3 l 6,6 M -3,3 l 6,-6\" /><text class=\"lab rgt\" transform=\"translate(5 0)\">5</text></g><g class=\"mut m8 s0\" transform=\"translate(0 -7.33337e-10)\"><line x1=\"0\" x2=\"0\" y1=\"0\" y2=\"7.33337e-10\" /><path class=\"sym\" d=\"M -3,-3 l 6,6 M -3,3 l 6,-6\" /><text class=\"lab rgt\" transform=\"translate(5 0)\">8</text></g><rect class=\"sym\" height=\"6\" width=\"6\" x=\"-3\" y=\"-3\" /><text class=\"lab\" transform=\"translate(0 11)\">2</text></g><path class=\"edge\" d=\"M 0 0 V -23.9895 H 13.125\" /><g class=\"mut m2 s0\" transform=\"translate(0 -3.23505)\"><line x1=\"0\" x2=\"0\" y1=\"0\" y2=\"3.23505\" /><path class=\"sym\" d=\"M -3,-3 l 6,6 M -3,3 l 6,-6\" /><text class=\"lab lft\" transform=\"translate(-5 0)\">2</text></g><circle class=\"sym\" cx=\"0\" cy=\"0\" r=\"3\" /><text class=\"lab lft\" transform=\"translate(-3 -7)\">13</text></g><g class=\"a18 c1 node n15 p0\" transform=\"translate(13.125 2.66573)\"><g class=\"a15 c1 m3 node n12 p0 s0\" transform=\"translate(0.0 24.8894)\"><g class=\"a12 leaf node n11 p0\" transform=\"translate(0.0 7.33341e-06)\"><path class=\"edge\" d=\"M 0 0 V -7.33341e-06 H 0.0\" /><circle class=\"sym\" cx=\"0\" cy=\"0\" r=\"3\" /><text class=\"lab\" transform=\"translate(0 11)\">11</text></g><path class=\"edge\" d=\"M 0 0 V -24.8894 H 0.0\" /><g class=\"mut m3 s0\" transform=\"translate(0 -1.27385)\"><line x1=\"0\" x2=\"0\" y1=\"0\" y2=\"1.27385\" /><path class=\"sym\" d=\"M -3,-3 l 6,6 M -3,3 l 6,-6\" /><text class=\"lab lft\" transform=\"translate(-5 0)\">3</text></g><circle class=\"sym\" cx=\"0\" cy=\"0\" r=\"3\" /><text class=\"lab lft\" transform=\"translate(-3 -7)\">12</text></g><path class=\"edge\" d=\"M 0 0 V -2.66573 H -13.125\" /><circle class=\"sym\" cx=\"0\" cy=\"0\" r=\"3\" /><text class=\"lab rgt\" transform=\"translate(3 -7)\">15</text></g><path class=\"edge\" d=\"M 0 0 V -9.40476 H -26.25\" /><circle class=\"sym\" cx=\"0\" cy=\"0\" r=\"3\" /><text class=\"lab rgt\" transform=\"translate(3 -7)\">18</text></g><path class=\"edge\" d=\"M 0 0 V -16.0971 H 0.0\" /><circle class=\"sym\" cx=\"0\" cy=\"0\" r=\"3\" /><text class=\"lab lft\" transform=\"translate(-3 -7)\">19</text></g><path class=\"edge\" d=\"M 0 0 V -7.20371 H 28.4375\" /><circle class=\"sym\" cx=\"0\" cy=\"0\" r=\"3\" /><text class=\"lab lft\" transform=\"translate(-3 -7)\">20</text></g><path class=\"edge\" d=\"M 0 0 V -25.9829 H 22.9688\" /><g class=\"mut m0 s0\" transform=\"translate(0 -5.27084)\"><line x1=\"0\" x2=\"0\" y1=\"0\" y2=\"5.27084\" /><path class=\"sym\" d=\"M -3,-3 l 6,6 M -3,3 l 6,-6\" /><text class=\"lab lft\" transform=\"translate(-5 0)\">0</text></g><g class=\"mut m1 s0\" transform=\"translate(0 -0.547382)\"><line x1=\"0\" x2=\"0\" y1=\"0\" y2=\"0.547382\" /><path class=\"sym\" d=\"M -3,-3 l 6,6 M -3,3 l 6,-6\" /><text class=\"lab lft\" transform=\"translate(-5 0)\">1</text></g><circle class=\"sym\" cx=\"0\" cy=\"0\" r=\"3\" /><text class=\"lab lft\" transform=\"translate(-3 -7)\">23</text></g><circle class=\"sym\" cx=\"0\" cy=\"0\" r=\"3\" /><text class=\"lab\" transform=\"translate(0 -11)\">24</text></g></g></g><g class=\"tree t1\" transform=\"translate(200 0)\"><g class=\"plotbox\"><g class=\"c2 node n19 p0 root\" transform=\"translate(95.8333 76.0837)\"><g class=\"a19 c1 m11 m12 node n10 p0 s1\" transform=\"translate(-35 36.9599)\"><g class=\"a10 c2 node n9 p0\" transform=\"translate(0.0 1.35797)\"><g class=\"a9 c2 node n5 p0\" transform=\"translate(-17.5 6.27078)\"><g class=\"a5 leaf m17 node n0 p0 s1 sample\" transform=\"translate(-11.6667 0.727609)\"><path class=\"edge\" d=\"M 0 0 V -0.727609 H 11.6667\" /><g class=\"mut m17 s1\" transform=\"translate(0 -7.33337e-10)\"><line x1=\"0\" x2=\"0\" y1=\"0\" y2=\"7.33337e-10\" /><path class=\"sym\" d=\"M -3,-3 l 6,6 M -3,3 l 6,-6\" /><text class=\"lab lft\" transform=\"translate(-5 0)\">17</text></g><rect class=\"sym\" height=\"6\" width=\"6\" x=\"-3\" y=\"-3\" /><text class=\"lab\" transform=\"translate(0 11)\">0</text></g><g class=\"a5 leaf m21 node n4 p0 s1 sample\" transform=\"translate(11.6667 0.727609)\"><path class=\"edge\" d=\"M 0 0 V -0.727609 H -11.6667\" /><g class=\"mut m21 s1\" transform=\"translate(0 -7.33337e-10)\"><line x1=\"0\" x2=\"0\" y1=\"0\" y2=\"7.33337e-10\" /><path class=\"sym\" d=\"M -3,-3 l 6,6 M -3,3 l 6,-6\" /><text class=\"lab rgt\" transform=\"translate(5 0)\">21</text></g><rect class=\"sym\" height=\"6\" width=\"6\" x=\"-3\" y=\"-3\" /><text class=\"lab\" transform=\"translate(0 11)\">4</text></g><path class=\"edge\" d=\"M 0 0 V -6.27078 H 17.5\" /><circle class=\"sym\" cx=\"0\" cy=\"0\" r=\"3\" /><text class=\"lab lft\" transform=\"translate(-3 -7)\">5</text></g><g class=\"a9 c1 m15 node n6 p0 s1\" transform=\"translate(17.5 2.47605)\"><g class=\"a6 leaf m20 node n3 p0 s1 sample\" transform=\"translate(0.0 4.52234)\"><path class=\"edge\" d=\"M 0 0 V -4.52234 H 0.0\" /><g class=\"mut m20 s1\" transform=\"translate(0 -7.33337e-10)\"><line x1=\"0\" x2=\"0\" y1=\"0\" y2=\"7.33337e-10\" /><path class=\"sym\" d=\"M -3,-3 l 6,6 M -3,3 l 6,-6\" /><text class=\"lab lft\" transform=\"translate(-5 0)\">20</text></g><rect class=\"sym\" height=\"6\" width=\"6\" x=\"-3\" y=\"-3\" /><text class=\"lab\" transform=\"translate(0 11)\">3</text></g><path class=\"edge\" d=\"M 0 0 V -2.47605 H -17.5\" /><g class=\"mut m15 s1\" transform=\"translate(0 -0.417731)\"><line x1=\"0\" x2=\"0\" y1=\"0\" y2=\"0.417731\" /><path class=\"sym\" d=\"M -3,-3 l 6,6 M -3,3 l 6,-6\" /><text class=\"lab rgt\" transform=\"translate(5 0)\">15</text></g><circle class=\"sym\" cx=\"0\" cy=\"0\" r=\"3\" /><text class=\"lab rgt\" transform=\"translate(3 -7)\">6</text></g><path class=\"edge\" d=\"M 0 0 V -1.35797 H 0.0\" /><circle class=\"sym\" cx=\"0\" cy=\"0\" r=\"3\" /><text class=\"lab lft\" transform=\"translate(-3 -7)\">9</text></g><path class=\"edge\" d=\"M 0 0 V -36.9599 H 35\" /><g class=\"mut m11 s1\" transform=\"translate(0 -29.3881)\"><line x1=\"0\" x2=\"0\" y1=\"0\" y2=\"29.3881\" /><path class=\"sym\" d=\"M -3,-3 l 6,6 M -3,3 l 6,-6\" /><text class=\"lab lft\" transform=\"translate(-5 0)\">11</text></g><g class=\"mut m12 s1\" transform=\"translate(0 -11.2704)\"><line x1=\"0\" x2=\"0\" y1=\"0\" y2=\"11.2704\" /><path class=\"sym\" d=\"M -3,-3 l 6,6 M -3,3 l 6,-6\" /><text class=\"lab lft\" transform=\"translate(-5 0)\">12</text></g><circle class=\"sym\" cx=\"0\" cy=\"0\" r=\"3\" /><text class=\"lab lft\" transform=\"translate(-3 -7)\">10</text></g><g class=\"a19 c2 node n14 p0\" transform=\"translate(35 23.7943)\"><g class=\"a14 c1 m13 node n8 p0 s1\" transform=\"translate(17.5 16.9996)\"><g class=\"a8 leaf node n7 p0\" transform=\"translate(0.0 7.33341e-06)\"><path class=\"edge\" d=\"M 0 0 V -7.33341e-06 H 0.0\" /><circle class=\"sym\" cx=\"0\" cy=\"0\" r=\"3\" /><text class=\"lab\" transform=\"translate(0 11)\">7</text></g><path class=\"edge\" d=\"M 0 0 V -16.9996 H -17.5\" /><g class=\"mut m13 s1\" transform=\"translate(0 -9.25147)\"><line x1=\"0\" x2=\"0\" y1=\"0\" y2=\"9.25147\" /><path class=\"sym\" d=\"M -3,-3 l 6,6 M -3,3 l 6,-6\" /><text class=\"lab rgt\" transform=\"translate(5 0)\">13</text></g><circle class=\"sym\" cx=\"0\" cy=\"0\" r=\"3\" /><text class=\"lab rgt\" transform=\"translate(3 -7)\">8</text></g><g class=\"a14 c2 node n13 p0\" transform=\"translate(-17.5 9.59993)\"><g class=\"a13 leaf m16 m18 node n1 p0 s1 sample\" transform=\"translate(-11.6667 11.922)\"><path class=\"edge\" d=\"M 0 0 V -11.922 H 11.6667\" /><g class=\"mut m16 s1\" transform=\"translate(0 -2.00617)\"><line x1=\"0\" x2=\"0\" y1=\"0\" y2=\"2.00617\" /><path class=\"sym\" d=\"M -3,-3 l 6,6 M -3,3 l 6,-6\" /><text class=\"lab lft\" transform=\"translate(-5 0)\">16</text></g><g class=\"mut m18 s1\" transform=\"translate(0 -7.33337e-10)\"><line x1=\"0\" x2=\"0\" y1=\"0\" y2=\"7.33337e-10\" /><path class=\"sym\" d=\"M -3,-3 l 6,6 M -3,3 l 6,-6\" /><text class=\"lab lft\" transform=\"translate(-5 0)\">18</text></g><rect class=\"sym\" height=\"6\" width=\"6\" x=\"-3\" y=\"-3\" /><text class=\"lab\" transform=\"translate(0 11)\">1</text></g><g class=\"a13 leaf m14 m19 node n2 p0 s1 sample\" transform=\"translate(11.6667 11.922)\"><path class=\"edge\" d=\"M 0 0 V -11.922 H -11.6667\" /><g class=\"mut m14 s1\" transform=\"translate(0 -6.0452)\"><line x1=\"0\" x2=\"0\" y1=\"0\" y2=\"6.0452\" /><path class=\"sym\" d=\"M -3,-3 l 6,6 M -3,3 l 6,-6\" /><text class=\"lab rgt\" transform=\"translate(5 0)\">14</text></g><g class=\"mut m19 s1\" transform=\"translate(0 -7.33337e-10)\"><line x1=\"0\" x2=\"0\" y1=\"0\" y2=\"7.33337e-10\" /><path class=\"sym\" d=\"M -3,-3 l 6,6 M -3,3 l 6,-6\" /><text class=\"lab rgt\" transform=\"translate(5 0)\">19</text></g><rect class=\"sym\" height=\"6\" width=\"6\" x=\"-3\" y=\"-3\" /><text class=\"lab\" transform=\"translate(0 11)\">2</text></g><path class=\"edge\" d=\"M 0 0 V -9.59993 H 17.5\" /><circle class=\"sym\" cx=\"0\" cy=\"0\" r=\"3\" /><text class=\"lab lft\" transform=\"translate(-3 -7)\">13</text></g><path class=\"edge\" d=\"M 0 0 V -23.7943 H -35\" /><circle class=\"sym\" cx=\"0\" cy=\"0\" r=\"3\" /><text class=\"lab rgt\" transform=\"translate(3 -7)\">14</text></g><circle class=\"sym\" cx=\"0\" cy=\"0\" r=\"3\" /><text class=\"lab\" transform=\"translate(0 -11)\">19</text></g></g></g></g></g></svg>"
      ],
      "text/plain": [
       "'<svg baseProfile=\"full\" height=\"200\" version=\"1.1\" width=\"400\" xmlns=\"http://www.w3.org/2000/svg\" xmlns:ev=\"http://www.w3.org/2001/xml-events\" xmlns:xlink=\"http://www.w3.org/1999/xlink\"><defs><style type=\"text/css\"><![CDATA[.background path {fill: #808080; fill-opacity: 0}.background path:nth-child(odd) {fill-opacity: .1}.x-regions rect {fill: yellow; stroke: black; opacity: 0.5}.axes {font-size: 14px}.x-axis .tick .lab {font-weight: bold; dominant-baseline: hanging}.axes, .tree {font-size: 14px; text-anchor: middle}.axes line, .edge {stroke: black; fill: none}.axes .ax-skip {stroke-dasharray: 4}.y-axis .grid {stroke: #FAFAFA}.node > .sym {fill: black; stroke: none}.site > .sym {stroke: black}.mut text {fill: red; font-style: italic}.mut.extra text {fill: hotpink}.mut line {fill: none; stroke: none}.mut .sym {fill: none; stroke: red}.mut.extra .sym {stroke: hotpink}.node .mut .sym {stroke-width: 1.5px}.tree text, .tree-sequence text {dominant-baseline: central}.plotbox .lab.lft {text-anchor: end}.plotbox .lab.rgt {text-anchor: start}.polytomy line {stroke: black; stroke-dasharray: 1px, 1px}.polytomy text {paint-order:stroke;stroke-width:0.3em;stroke:white}]]></style></defs><g class=\"tree-sequence\"><g class=\"background\"><path d=\"M20,0 l180,0 l0,138.2 l0,25 l0,5 l-180,0 l0,-5 l0,-25 l0,-138.2z\" /><path d=\"M200,0 l180,0 l0,138.2 l0,25 l0,5 l-180,0 l0,-5 l0,-25 l0,-138.2z\" /></g><g class=\"axes\"><g class=\"x-axis\"><g class=\"title\" transform=\"translate(200 200)\"><text class=\"lab\" text-anchor=\"middle\" transform=\"translate(0 -11)\">Genome position</text></g><line class=\"ax-line\" x1=\"20\" x2=\"380\" y1=\"163.2\" y2=\"163.2\" /><g class=\"ticks\"><g class=\"tick\" transform=\"translate(20 163.2)\"><line x1=\"0\" x2=\"0\" y1=\"0\" y2=\"5\" /><g transform=\"translate(0 6)\"><text class=\"lab\">0</text></g></g><g class=\"tick\" transform=\"translate(200 163.2)\"><line x1=\"0\" x2=\"0\" y1=\"0\" y2=\"5\" /><g transform=\"translate(0 6)\"><text class=\"lab\">1</text></g></g><g class=\"tick\" transform=\"translate(380 163.2)\"><line x1=\"0\" x2=\"0\" y1=\"0\" y2=\"5\" /><g transform=\"translate(0 6)\"><text class=\"lab\">2</text></g></g></g><g class=\"site s0\" transform=\"translate(20 163.2)\"><line class=\"sym\" x1=\"0\" x2=\"0\" y1=\"0\" y2=\"-10\" /><g class=\"mut m10\"><polyline class=\"sym\" points=\"2.5,-6.5 0,-1.5 -2.5,-6.5\" /></g><g class=\"mut m9\"><polyline class=\"sym\" points=\"2.5,-10.5 0,-5.5 -2.5,-10.5\" /></g><g class=\"mut m8\"><polyline class=\"sym\" points=\"2.5,-14.5 0,-9.5 -2.5,-14.5\" /></g><g class=\"mut m7\"><polyline class=\"sym\" points=\"2.5,-18.5 0,-13.5 -2.5,-18.5\" /></g><g class=\"mut m6\"><polyline class=\"sym\" points=\"2.5,-22.5 0,-17.5 -2.5,-22.5\" /></g><g class=\"mut m5\"><polyline class=\"sym\" points=\"2.5,-26.5 0,-21.5 -2.5,-26.5\" /></g><g class=\"mut m4\"><polyline class=\"sym\" points=\"2.5,-30.5 0,-25.5 -2.5,-30.5\" /></g><g class=\"mut m3\"><polyline class=\"sym\" points=\"2.5,-34.5 0,-29.5 -2.5,-34.5\" /></g><g class=\"mut m2\"><polyline class=\"sym\" points=\"2.5,-38.5 0,-33.5 -2.5,-38.5\" /></g><g class=\"mut m1\"><polyline class=\"sym\" points=\"2.5,-42.5 0,-37.5 -2.5,-42.5\" /></g><g class=\"mut m0\"><polyline class=\"sym\" points=\"2.5,-46.5 0,-41.5 -2.5,-46.5\" /></g></g><g class=\"site s1\" transform=\"translate(200 163.2)\"><line class=\"sym\" x1=\"0\" x2=\"0\" y1=\"0\" y2=\"-10\" /><g class=\"mut m21\"><polyline class=\"sym\" points=\"2.5,-6.5 0,-1.5 -2.5,-6.5\" /></g><g class=\"mut m20\"><polyline class=\"sym\" points=\"2.5,-10.5 0,-5.5 -2.5,-10.5\" /></g><g class=\"mut m19\"><polyline class=\"sym\" points=\"2.5,-14.5 0,-9.5 -2.5,-14.5\" /></g><g class=\"mut m18\"><polyline class=\"sym\" points=\"2.5,-18.5 0,-13.5 -2.5,-18.5\" /></g><g class=\"mut m17\"><polyline class=\"sym\" points=\"2.5,-22.5 0,-17.5 -2.5,-22.5\" /></g><g class=\"mut m16\"><polyline class=\"sym\" points=\"2.5,-26.5 0,-21.5 -2.5,-26.5\" /></g><g class=\"mut m15\"><polyline class=\"sym\" points=\"2.5,-30.5 0,-25.5 -2.5,-30.5\" /></g><g class=\"mut m14\"><polyline class=\"sym\" points=\"2.5,-34.5 0,-29.5 -2.5,-34.5\" /></g><g class=\"mut m13\"><polyline class=\"sym\" points=\"2.5,-38.5 0,-33.5 -2.5,-38.5\" /></g><g class=\"mut m12\"><polyline class=\"sym\" points=\"2.5,-42.5 0,-37.5 -2.5,-42.5\" /></g><g class=\"mut m11\"><polyline class=\"sym\" points=\"2.5,-46.5 0,-41.5 -2.5,-46.5\" /></g></g></g></g><g class=\"plotbox trees\"><g class=\"tree t0\" transform=\"translate(20 0)\"><g class=\"plotbox\"><g class=\"c2 node n24 p0 root\" transform=\"translate(128.281 26.8)\"><g class=\"a24 c1 node n22 p0\" transform=\"translate(22.9688 33.1867)\"><g class=\"a22 leaf node n21 p0\" transform=\"translate(0.0 7.33341e-06)\"><path class=\"edge\" d=\"M 0 0 V -7.33341e-06 H 0.0\" /><circle class=\"sym\" cx=\"0\" cy=\"0\" r=\"3\" /><text class=\"lab\" transform=\"translate(0 11)\">21</text></g><path class=\"edge\" d=\"M 0 0 V -33.1867 H -22.9688\" /><circle class=\"sym\" cx=\"0\" cy=\"0\" r=\"3\" /><text class=\"lab rgt\" transform=\"translate(3 -7)\">22</text></g><g class=\"a24 c2 m0 m1 node n23 p0 s0\" transform=\"translate(-22.9688 25.9829)\"><g class=\"a23 c1 node n17 p0\" transform=\"translate(28.4375 35.3713)\"><g class=\"a17 leaf node n16 p0\" transform=\"translate(0.0 7.33341e-06)\"><path class=\"edge\" d=\"M 0 0 V -7.33341e-06 H 0.0\" /><circle class=\"sym\" cx=\"0\" cy=\"0\" r=\"3\" /><text class=\"lab\" transform=\"translate(0 11)\">16</text></g><path class=\"edge\" d=\"M 0 0 V -35.3713 H -28.4375\" /><circle class=\"sym\" cx=\"0\" cy=\"0\" r=\"3\" /><text class=\"lab rgt\" transform=\"translate(3 -7)\">17</text></g><g class=\"a23 c1 node n20 p0\" transform=\"translate(-28.4375 7.20371)\"><g class=\"a20 c2 node n19 p0\" transform=\"translate(0.0 16.0971)\"><g class=\"a19 c1 m4 node n10 p0 s0\" transform=\"translate(-26.25 36.9599)\"><g class=\"a10 c2 node n9 p0\" transform=\"translate(0.0 1.35797)\"><g class=\"a9 c2 node n5 p0\" transform=\"translate(-13.125 6.27078)\"><g class=\"a5 leaf m6 node n0 p0 s0 sample\" transform=\"translate(-8.75 0.727609)\"><path class=\"edge\" d=\"M 0 0 V -0.727609 H 8.75\" /><g class=\"mut m6 s0\" transform=\"translate(0 -7.33337e-10)\"><line x1=\"0\" x2=\"0\" y1=\"0\" y2=\"7.33337e-10\" /><path class=\"sym\" d=\"M -3,-3 l 6,6 M -3,3 l 6,-6\" /><text class=\"lab lft\" transform=\"translate(-5 0)\">6</text></g><rect class=\"sym\" height=\"6\" width=\"6\" x=\"-3\" y=\"-3\" /><text class=\"lab\" transform=\"translate(0 11)\">0</text></g><g class=\"a5 leaf m10 node n4 p0 s0 sample\" transform=\"translate(8.75 0.727609)\"><path class=\"edge\" d=\"M 0 0 V -0.727609 H -8.75\" /><g class=\"mut m10 s0\" transform=\"translate(0 -7.33337e-10)\"><line x1=\"0\" x2=\"0\" y1=\"0\" y2=\"7.33337e-10\" /><path class=\"sym\" d=\"M -3,-3 l 6,6 M -3,3 l 6,-6\" /><text class=\"lab rgt\" transform=\"translate(5 0)\">10</text></g><rect class=\"sym\" height=\"6\" width=\"6\" x=\"-3\" y=\"-3\" /><text class=\"lab\" transform=\"translate(0 11)\">4</text></g><path class=\"edge\" d=\"M 0 0 V -6.27078 H 13.125\" /><circle class=\"sym\" cx=\"0\" cy=\"0\" r=\"3\" /><text class=\"lab lft\" transform=\"translate(-3 -7)\">5</text></g><g class=\"a9 c1 node n6 p0\" transform=\"translate(13.125 2.47605)\"><g class=\"a6 leaf m9 node n3 p0 s0 sample\" transform=\"translate(0.0 4.52234)\"><path class=\"edge\" d=\"M 0 0 V -4.52234 H 0.0\" /><g class=\"mut m9 s0\" transform=\"translate(0 -7.33337e-10)\"><line x1=\"0\" x2=\"0\" y1=\"0\" y2=\"7.33337e-10\" /><path class=\"sym\" d=\"M -3,-3 l 6,6 M -3,3 l 6,-6\" /><text class=\"lab lft\" transform=\"translate(-5 0)\">9</text></g><rect class=\"sym\" height=\"6\" width=\"6\" x=\"-3\" y=\"-3\" /><text class=\"lab\" transform=\"translate(0 11)\">3</text></g><path class=\"edge\" d=\"M 0 0 V -2.47605 H -13.125\" /><circle class=\"sym\" cx=\"0\" cy=\"0\" r=\"3\" /><text class=\"lab rgt\" transform=\"translate(3 -7)\">6</text></g><path class=\"edge\" d=\"M 0 0 V -1.35797 H 0.0\" /><circle class=\"sym\" cx=\"0\" cy=\"0\" r=\"3\" /><text class=\"lab lft\" transform=\"translate(-3 -7)\">9</text></g><path class=\"edge\" d=\"M 0 0 V -36.9599 H 26.25\" /><g class=\"mut m4 s0\" transform=\"translate(0 -0.300937)\"><line x1=\"0\" x2=\"0\" y1=\"0\" y2=\"0.300937\" /><path class=\"sym\" d=\"M -3,-3 l 6,6 M -3,3 l 6,-6\" /><text class=\"lab lft\" transform=\"translate(-5 0)\">4</text></g><circle class=\"sym\" cx=\"0\" cy=\"0\" r=\"3\" /><text class=\"lab lft\" transform=\"translate(-3 -7)\">10</text></g><g class=\"a19 c2 node n18 p0\" transform=\"translate(26.25 9.40476)\"><g class=\"a18 c2 m2 node n13 p0 s0\" transform=\"translate(-13.125 23.9895)\"><g class=\"a13 leaf m7 node n1 p0 s0 sample\" transform=\"translate(-8.75 11.922)\"><path class=\"edge\" d=\"M 0 0 V -11.922 H 8.75\" /><g class=\"mut m7 s0\" transform=\"translate(0 -7.33337e-10)\"><line x1=\"0\" x2=\"0\" y1=\"0\" y2=\"7.33337e-10\" /><path class=\"sym\" d=\"M -3,-3 l 6,6 M -3,3 l 6,-6\" /><text class=\"lab lft\" transform=\"translate(-5 0)\">7</text></g><rect class=\"sym\" height=\"6\" width=\"6\" x=\"-3\" y=\"-3\" /><text class=\"lab\" transform=\"translate(0 11)\">1</text></g><g class=\"a13 leaf m5 m8 node n2 p0 s0 sample\" transform=\"translate(8.75 11.922)\"><path class=\"edge\" d=\"M 0 0 V -11.922 H -8.75\" /><g class=\"mut m5 s0\" transform=\"translate(0 -6.72902)\"><line x1=\"0\" x2=\"0\" y1=\"0\" y2=\"6.72902\" /><path class=\"sym\" d=\"M -3,-3 l 6,6 M -3,3 l 6,-6\" /><text class=\"lab rgt\" transform=\"translate(5 0)\">5</text></g><g class=\"mut m8 s0\" transform=\"translate(0 -7.33337e-10)\"><line x1=\"0\" x2=\"0\" y1=\"0\" y2=\"7.33337e-10\" /><path class=\"sym\" d=\"M -3,-3 l 6,6 M -3,3 l 6,-6\" /><text class=\"lab rgt\" transform=\"translate(5 0)\">8</text></g><rect class=\"sym\" height=\"6\" width=\"6\" x=\"-3\" y=\"-3\" /><text class=\"lab\" transform=\"translate(0 11)\">2</text></g><path class=\"edge\" d=\"M 0 0 V -23.9895 H 13.125\" /><g class=\"mut m2 s0\" transform=\"translate(0 -3.23505)\"><line x1=\"0\" x2=\"0\" y1=\"0\" y2=\"3.23505\" /><path class=\"sym\" d=\"M -3,-3 l 6,6 M -3,3 l 6,-6\" /><text class=\"lab lft\" transform=\"translate(-5 0)\">2</text></g><circle class=\"sym\" cx=\"0\" cy=\"0\" r=\"3\" /><text class=\"lab lft\" transform=\"translate(-3 -7)\">13</text></g><g class=\"a18 c1 node n15 p0\" transform=\"translate(13.125 2.66573)\"><g class=\"a15 c1 m3 node n12 p0 s0\" transform=\"translate(0.0 24.8894)\"><g class=\"a12 leaf node n11 p0\" transform=\"translate(0.0 7.33341e-06)\"><path class=\"edge\" d=\"M 0 0 V -7.33341e-06 H 0.0\" /><circle class=\"sym\" cx=\"0\" cy=\"0\" r=\"3\" /><text class=\"lab\" transform=\"translate(0 11)\">11</text></g><path class=\"edge\" d=\"M 0 0 V -24.8894 H 0.0\" /><g class=\"mut m3 s0\" transform=\"translate(0 -1.27385)\"><line x1=\"0\" x2=\"0\" y1=\"0\" y2=\"1.27385\" /><path class=\"sym\" d=\"M -3,-3 l 6,6 M -3,3 l 6,-6\" /><text class=\"lab lft\" transform=\"translate(-5 0)\">3</text></g><circle class=\"sym\" cx=\"0\" cy=\"0\" r=\"3\" /><text class=\"lab lft\" transform=\"translate(-3 -7)\">12</text></g><path class=\"edge\" d=\"M 0 0 V -2.66573 H -13.125\" /><circle class=\"sym\" cx=\"0\" cy=\"0\" r=\"3\" /><text class=\"lab rgt\" transform=\"translate(3 -7)\">15</text></g><path class=\"edge\" d=\"M 0 0 V -9.40476 H -26.25\" /><circle class=\"sym\" cx=\"0\" cy=\"0\" r=\"3\" /><text class=\"lab rgt\" transform=\"translate(3 -7)\">18</text></g><path class=\"edge\" d=\"M 0 0 V -16.0971 H 0.0\" /><circle class=\"sym\" cx=\"0\" cy=\"0\" r=\"3\" /><text class=\"lab lft\" transform=\"translate(-3 -7)\">19</text></g><path class=\"edge\" d=\"M 0 0 V -7.20371 H 28.4375\" /><circle class=\"sym\" cx=\"0\" cy=\"0\" r=\"3\" /><text class=\"lab lft\" transform=\"translate(-3 -7)\">20</text></g><path class=\"edge\" d=\"M 0 0 V -25.9829 H 22.9688\" /><g class=\"mut m0 s0\" transform=\"translate(0 -5.27084)\"><line x1=\"0\" x2=\"0\" y1=\"0\" y2=\"5.27084\" /><path class=\"sym\" d=\"M -3,-3 l 6,6 M -3,3 l 6,-6\" /><text class=\"lab lft\" transform=\"translate(-5 0)\">0</text></g><g class=\"mut m1 s0\" transform=\"translate(0 -0.547382)\"><line x1=\"0\" x2=\"0\" y1=\"0\" y2=\"0.547382\" /><path class=\"sym\" d=\"M -3,-3 l 6,6 M -3,3 l 6,-6\" /><text class=\"lab lft\" transform=\"translate(-5 0)\">1</text></g><circle class=\"sym\" cx=\"0\" cy=\"0\" r=\"3\" /><text class=\"lab lft\" transform=\"translate(-3 -7)\">23</text></g><circle class=\"sym\" cx=\"0\" cy=\"0\" r=\"3\" /><text class=\"lab\" transform=\"translate(0 -11)\">24</text></g></g></g><g class=\"tree t1\" transform=\"translate(200 0)\"><g class=\"plotbox\"><g class=\"c2 node n19 p0 root\" transform=\"translate(95.8333 76.0837)\"><g class=\"a19 c1 m11 m12 node n10 p0 s1\" transform=\"translate(-35 36.9599)\"><g class=\"a10 c2 node n9 p0\" transform=\"translate(0.0 1.35797)\"><g class=\"a9 c2 node n5 p0\" transform=\"translate(-17.5 6.27078)\"><g class=\"a5 leaf m17 node n0 p0 s1 sample\" transform=\"translate(-11.6667 0.727609)\"><path class=\"edge\" d=\"M 0 0 V -0.727609 H 11.6667\" /><g class=\"mut m17 s1\" transform=\"translate(0 -7.33337e-10)\"><line x1=\"0\" x2=\"0\" y1=\"0\" y2=\"7.33337e-10\" /><path class=\"sym\" d=\"M -3,-3 l 6,6 M -3,3 l 6,-6\" /><text class=\"lab lft\" transform=\"translate(-5 0)\">17</text></g><rect class=\"sym\" height=\"6\" width=\"6\" x=\"-3\" y=\"-3\" /><text class=\"lab\" transform=\"translate(0 11)\">0</text></g><g class=\"a5 leaf m21 node n4 p0 s1 sample\" transform=\"translate(11.6667 0.727609)\"><path class=\"edge\" d=\"M 0 0 V -0.727609 H -11.6667\" /><g class=\"mut m21 s1\" transform=\"translate(0 -7.33337e-10)\"><line x1=\"0\" x2=\"0\" y1=\"0\" y2=\"7.33337e-10\" /><path class=\"sym\" d=\"M -3,-3 l 6,6 M -3,3 l 6,-6\" /><text class=\"lab rgt\" transform=\"translate(5 0)\">21</text></g><rect class=\"sym\" height=\"6\" width=\"6\" x=\"-3\" y=\"-3\" /><text class=\"lab\" transform=\"translate(0 11)\">4</text></g><path class=\"edge\" d=\"M 0 0 V -6.27078 H 17.5\" /><circle class=\"sym\" cx=\"0\" cy=\"0\" r=\"3\" /><text class=\"lab lft\" transform=\"translate(-3 -7)\">5</text></g><g class=\"a9 c1 m15 node n6 p0 s1\" transform=\"translate(17.5 2.47605)\"><g class=\"a6 leaf m20 node n3 p0 s1 sample\" transform=\"translate(0.0 4.52234)\"><path class=\"edge\" d=\"M 0 0 V -4.52234 H 0.0\" /><g class=\"mut m20 s1\" transform=\"translate(0 -7.33337e-10)\"><line x1=\"0\" x2=\"0\" y1=\"0\" y2=\"7.33337e-10\" /><path class=\"sym\" d=\"M -3,-3 l 6,6 M -3,3 l 6,-6\" /><text class=\"lab lft\" transform=\"translate(-5 0)\">20</text></g><rect class=\"sym\" height=\"6\" width=\"6\" x=\"-3\" y=\"-3\" /><text class=\"lab\" transform=\"translate(0 11)\">3</text></g><path class=\"edge\" d=\"M 0 0 V -2.47605 H -17.5\" /><g class=\"mut m15 s1\" transform=\"translate(0 -0.417731)\"><line x1=\"0\" x2=\"0\" y1=\"0\" y2=\"0.417731\" /><path class=\"sym\" d=\"M -3,-3 l 6,6 M -3,3 l 6,-6\" /><text class=\"lab rgt\" transform=\"translate(5 0)\">15</text></g><circle class=\"sym\" cx=\"0\" cy=\"0\" r=\"3\" /><text class=\"lab rgt\" transform=\"translate(3 -7)\">6</text></g><path class=\"edge\" d=\"M 0 0 V -1.35797 H 0.0\" /><circle class=\"sym\" cx=\"0\" cy=\"0\" r=\"3\" /><text class=\"lab lft\" transform=\"translate(-3 -7)\">9</text></g><path class=\"edge\" d=\"M 0 0 V -36.9599 H 35\" /><g class=\"mut m11 s1\" transform=\"translate(0 -29.3881)\"><line x1=\"0\" x2=\"0\" y1=\"0\" y2=\"29.3881\" /><path class=\"sym\" d=\"M -3,-3 l 6,6 M -3,3 l 6,-6\" /><text class=\"lab lft\" transform=\"translate(-5 0)\">11</text></g><g class=\"mut m12 s1\" transform=\"translate(0 -11.2704)\"><line x1=\"0\" x2=\"0\" y1=\"0\" y2=\"11.2704\" /><path class=\"sym\" d=\"M -3,-3 l 6,6 M -3,3 l 6,-6\" /><text class=\"lab lft\" transform=\"translate(-5 0)\">12</text></g><circle class=\"sym\" cx=\"0\" cy=\"0\" r=\"3\" /><text class=\"lab lft\" transform=\"translate(-3 -7)\">10</text></g><g class=\"a19 c2 node n14 p0\" transform=\"translate(35 23.7943)\"><g class=\"a14 c1 m13 node n8 p0 s1\" transform=\"translate(17.5 16.9996)\"><g class=\"a8 leaf node n7 p0\" transform=\"translate(0.0 7.33341e-06)\"><path class=\"edge\" d=\"M 0 0 V -7.33341e-06 H 0.0\" /><circle class=\"sym\" cx=\"0\" cy=\"0\" r=\"3\" /><text class=\"lab\" transform=\"translate(0 11)\">7</text></g><path class=\"edge\" d=\"M 0 0 V -16.9996 H -17.5\" /><g class=\"mut m13 s1\" transform=\"translate(0 -9.25147)\"><line x1=\"0\" x2=\"0\" y1=\"0\" y2=\"9.25147\" /><path class=\"sym\" d=\"M -3,-3 l 6,6 M -3,3 l 6,-6\" /><text class=\"lab rgt\" transform=\"translate(5 0)\">13</text></g><circle class=\"sym\" cx=\"0\" cy=\"0\" r=\"3\" /><text class=\"lab rgt\" transform=\"translate(3 -7)\">8</text></g><g class=\"a14 c2 node n13 p0\" transform=\"translate(-17.5 9.59993)\"><g class=\"a13 leaf m16 m18 node n1 p0 s1 sample\" transform=\"translate(-11.6667 11.922)\"><path class=\"edge\" d=\"M 0 0 V -11.922 H 11.6667\" /><g class=\"mut m16 s1\" transform=\"translate(0 -2.00617)\"><line x1=\"0\" x2=\"0\" y1=\"0\" y2=\"2.00617\" /><path class=\"sym\" d=\"M -3,-3 l 6,6 M -3,3 l 6,-6\" /><text class=\"lab lft\" transform=\"translate(-5 0)\">16</text></g><g class=\"mut m18 s1\" transform=\"translate(0 -7.33337e-10)\"><line x1=\"0\" x2=\"0\" y1=\"0\" y2=\"7.33337e-10\" /><path class=\"sym\" d=\"M -3,-3 l 6,6 M -3,3 l 6,-6\" /><text class=\"lab lft\" transform=\"translate(-5 0)\">18</text></g><rect class=\"sym\" height=\"6\" width=\"6\" x=\"-3\" y=\"-3\" /><text class=\"lab\" transform=\"translate(0 11)\">1</text></g><g class=\"a13 leaf m14 m19 node n2 p0 s1 sample\" transform=\"translate(11.6667 11.922)\"><path class=\"edge\" d=\"M 0 0 V -11.922 H -11.6667\" /><g class=\"mut m14 s1\" transform=\"translate(0 -6.0452)\"><line x1=\"0\" x2=\"0\" y1=\"0\" y2=\"6.0452\" /><path class=\"sym\" d=\"M -3,-3 l 6,6 M -3,3 l 6,-6\" /><text class=\"lab rgt\" transform=\"translate(5 0)\">14</text></g><g class=\"mut m19 s1\" transform=\"translate(0 -7.33337e-10)\"><line x1=\"0\" x2=\"0\" y1=\"0\" y2=\"7.33337e-10\" /><path class=\"sym\" d=\"M -3,-3 l 6,6 M -3,3 l 6,-6\" /><text class=\"lab rgt\" transform=\"translate(5 0)\">19</text></g><rect class=\"sym\" height=\"6\" width=\"6\" x=\"-3\" y=\"-3\" /><text class=\"lab\" transform=\"translate(0 11)\">2</text></g><path class=\"edge\" d=\"M 0 0 V -9.59993 H 17.5\" /><circle class=\"sym\" cx=\"0\" cy=\"0\" r=\"3\" /><text class=\"lab lft\" transform=\"translate(-3 -7)\">13</text></g><path class=\"edge\" d=\"M 0 0 V -23.7943 H -35\" /><circle class=\"sym\" cx=\"0\" cy=\"0\" r=\"3\" /><text class=\"lab rgt\" transform=\"translate(3 -7)\">14</text></g><circle class=\"sym\" cx=\"0\" cy=\"0\" r=\"3\" /><text class=\"lab\" transform=\"translate(0 -11)\">19</text></g></g></g></g></g></svg>'"
      ]
     },
     "execution_count": 24,
     "metadata": {},
     "output_type": "execute_result"
    }
   ],
   "source": [
    "mts = gene_model.gene_model(\n",
    "        theta=1,\n",
    "        rho=1,\n",
    "        gene_conversion_rate=gene_conv,\n",
    "        recombination_rate=recomb,\n",
    "        hgt_rate=0.5,\n",
    "        num_samples=num_samples,\n",
    "        num_sites=2,\n",
    "        double_site_relocation=False, # Fix double gene gain events, won't hide the warning.\n",
    "    )\n",
    "\n",
    "for var in mts.variants():\n",
    "    print(var.site.position, var.alleles, var.genotypes, sep=\"\\t\")\n",
    "\n",
    "print(mts.tables.mutations)\n",
    "#print(mts.draw_text())\n",
    "mts.draw_svg()\n",
    "\n"
   ]
  },
  {
   "cell_type": "code",
   "execution_count": 7,
   "id": "84e17574-4550-4d41-843b-7e35cf338bb7",
   "metadata": {},
   "outputs": [
    {
     "data": {
      "text/html": [
       "\n",
       "        <div>\n",
       "            <style scoped=\"\">\n",
       "                .tskit-table tbody tr th:only-of-type {vertical-align: middle;}\n",
       "                .tskit-table tbody tr th {vertical-align: top;}\n",
       "                .tskit-table tbody td {text-align: right;padding: 0.5em 0.5em;}\n",
       "                .tskit-table tbody th {padding: 0.5em 0.5em;}\n",
       "            </style>\n",
       "            <table border=\"1\" class=\"tskit-table\">\n",
       "                <thead>\n",
       "                    <tr>\n",
       "                        <th>id</th><th>site</th><th>node</th><th>time</th><th>derived_state</th><th>parent</th><th>metadata</th>\n",
       "                    </tr>\n",
       "                </thead>\n",
       "                <tbody>\n",
       "                    <tr><td>0</td><td>0</td><td>31</td><td>0.39395049</td><td>absent</td><td>-1</td><td>b'\\x00'</td></tr>\n",
       "<tr><td>1</td><td>0</td><td>3</td><td>0.11426446</td><td>present</td><td>-1</td><td>b'\\x00'</td></tr>\n",
       "<tr><td>2</td><td>0</td><td>4</td><td>0.09234955</td><td>absent</td><td>0</td><td>b'\\x00'</td></tr>\n",
       "<tr><td>3</td><td>0</td><td>3</td><td>0.02365485</td><td>absent</td><td>1</td><td>b'\\x00'</td></tr>\n",
       "<tr><td>4</td><td>0</td><td>0</td><td>0.00000000</td><td>absent</td><td>-1</td><td>b'\\x01'</td></tr>\n",
       "<tr><td>5</td><td>0</td><td>1</td><td>0.00000000</td><td>absent</td><td>-1</td><td>b'\\x01'</td></tr>\n",
       "<tr><td>6</td><td>0</td><td>2</td><td>0.00000000</td><td>absent</td><td>-1</td><td>b'\\x01'</td></tr>\n",
       "<tr><td>7</td><td>0</td><td>3</td><td>0.00000000</td><td>absent</td><td>3</td><td>b'\\x01'</td></tr>\n",
       "<tr><td>8</td><td>0</td><td>4</td><td>0.00000000</td><td>absent</td><td>2</td><td>b'\\x01'</td></tr>\n",
       "<tr><td>9</td><td>1</td><td>60</td><td>1.21572392</td><td>absent</td><td>-1</td><td>b'\\x00'</td></tr>\n",
       "<tr><td>10</td><td>1</td><td>54</td><td>0.87497551</td><td>absent</td><td>9</td><td>b'\\x00'</td></tr>\n",
       "<tr><td>11</td><td>1</td><td>56</td><td>0.84212218</td><td>absent</td><td>-1</td><td>b'\\x00'</td></tr>\n",
       "<tr><td>12</td><td>1</td><td>45</td><td>0.62744328</td><td>absent</td><td>11</td><td>b'\\x00'</td></tr>\n",
       "<tr><td>13</td><td>1</td><td>37</td><td>0.57922981</td><td>absent</td><td>10</td><td>b'\\x02'</td></tr>\n",
       "<tr><td>14</td><td>1</td><td>42</td><td>0.53870904</td><td>present</td><td>11</td><td>b'\\x00'</td></tr>\n",
       "<tr><td>15</td><td>1</td><td>42</td><td>0.51863216</td><td>absent</td><td>14</td><td>b'\\x00'</td></tr>\n",
       "<tr><td>16</td><td>1</td><td>30</td><td>0.40008696</td><td>absent</td><td>11</td><td>b'\\x00'</td></tr>\n",
       "<tr><td>17</td><td>1</td><td>4</td><td>0.12024743</td><td>absent</td><td>16</td><td>b'\\x02'</td></tr>\n",
       "<tr><td>18</td><td>1</td><td>4</td><td>0.08097385</td><td>absent</td><td>17</td><td>b'\\x00'</td></tr>\n",
       "<tr><td>19</td><td>1</td><td>4</td><td>0.03177540</td><td>absent</td><td>18</td><td>b'\\x00'</td></tr>\n",
       "<tr><td style=\"text-align: center;\" colspan=\"104\"><em>19 rows skipped (tskit.set_print_options)</em></td></tr>\n",
       "<tr><td>39</td><td>3</td><td>45</td><td>0.63674729</td><td>absent</td><td>-1</td><td>b'\\x00'</td></tr>\n",
       "<tr><td>40</td><td>3</td><td>42</td><td>0.57055832</td><td>absent</td><td>-1</td><td>b'\\x00'</td></tr>\n",
       "<tr><td>41</td><td>3</td><td>42</td><td>0.55043692</td><td>present</td><td>40</td><td>b'\\x00'</td></tr>\n",
       "<tr><td>42</td><td>3</td><td>45</td><td>0.46089480</td><td>absent</td><td>39</td><td>b'\\x00'</td></tr>\n",
       "<tr><td>43</td><td>3</td><td>24</td><td>0.41275452</td><td>absent</td><td>41</td><td>b'\\x00'</td></tr>\n",
       "<tr><td>44</td><td>3</td><td>5</td><td>0.15594271</td><td>absent</td><td>42</td><td>b'\\x00'</td></tr>\n",
       "<tr><td>45</td><td>3</td><td>0</td><td>0.07608025</td><td>absent</td><td>44</td><td>b'\\x00'</td></tr>\n",
       "<tr><td>46</td><td>3</td><td>0</td><td>0.00000000</td><td>absent</td><td>45</td><td>b'\\x01'</td></tr>\n",
       "<tr><td>47</td><td>3</td><td>1</td><td>0.00000000</td><td>absent</td><td>43</td><td>b'\\x01'</td></tr>\n",
       "<tr><td>48</td><td>3</td><td>2</td><td>0.00000000</td><td>absent</td><td>44</td><td>b'\\x01'</td></tr>\n",
       "<tr><td>49</td><td>3</td><td>3</td><td>0.00000000</td><td>absent</td><td>42</td><td>b'\\x01'</td></tr>\n",
       "<tr><td>50</td><td>3</td><td>4</td><td>0.00000000</td><td>absent</td><td>42</td><td>b'\\x03'</td></tr>\n",
       "<tr><td>51</td><td>4</td><td>42</td><td>0.59937800</td><td>present</td><td>-1</td><td>b'\\x00'</td></tr>\n",
       "<tr><td>52</td><td>4</td><td>45</td><td>0.46192011</td><td>absent</td><td>-1</td><td>b'\\x00'</td></tr>\n",
       "<tr><td>53</td><td>4</td><td>5</td><td>0.13038592</td><td>absent</td><td>52</td><td>b'\\x00'</td></tr>\n",
       "<tr><td>54</td><td>4</td><td>0</td><td>0.00000000</td><td>absent</td><td>53</td><td>b'\\x01'</td></tr>\n",
       "<tr><td>55</td><td>4</td><td>1</td><td>0.00000000</td><td>present</td><td>51</td><td>b'\\x01'</td></tr>\n",
       "<tr><td>56</td><td>4</td><td>2</td><td>0.00000000</td><td>absent</td><td>53</td><td>b'\\x01'</td></tr>\n",
       "<tr><td>57</td><td>4</td><td>3</td><td>0.00000000</td><td>absent</td><td>52</td><td>b'\\x01'</td></tr>\n",
       "<tr><td>58</td><td>4</td><td>4</td><td>0.00000000</td><td>absent</td><td>52</td><td>b'\\x03'</td></tr>\n",
       "\n",
       "                </tbody>\n",
       "            </table>\n",
       "        </div>\n",
       "    "
      ],
      "text/plain": [
       "<tskit.tables.MutationTable at 0x252f1177d10>"
      ]
     },
     "execution_count": 7,
     "metadata": {},
     "output_type": "execute_result"
    }
   ],
   "source": [
    "mts.tables.mutations"
   ]
  },
  {
   "cell_type": "code",
   "execution_count": 7,
   "id": "c6522ffc-ca57-4b3c-b702-907b77e4683c",
   "metadata": {},
   "outputs": [
    {
     "name": "stdout",
     "output_type": "stream",
     "text": [
      "True\n",
      "True\n",
      "False\n",
      "False\n",
      "False\n",
      "False\n",
      "Node 0 at site 4: absent\n",
      "{0: 5, 1: 10, 2: 8, 3: 13, 4: 8, 5: 24, 8: 17, 10: 16, 13: 18, 14: 15, 15: 16, 16: 17, 17: 21, 18: 21, 21: 31, 24: 34, 31: 34}\n",
      "False\n"
     ]
    },
    {
     "data": {
      "text/plain": [
       "[Mutation(id=24, site=4, node=24, derived_state='present', parent=-1, metadata=b'\\x00', time=0.6867895706611306, edge=38),\n",
       " Mutation(id=25, site=4, node=0, derived_state='absent', parent=-1, metadata=b'\\x01', time=1e-11, edge=0),\n",
       " Mutation(id=26, site=4, node=1, derived_state='absent', parent=-1, metadata=b'\\x01', time=1e-11, edge=7),\n",
       " Mutation(id=27, site=4, node=2, derived_state='absent', parent=-1, metadata=b'\\x01', time=1e-11, edge=2),\n",
       " Mutation(id=28, site=4, node=3, derived_state='absent', parent=-1, metadata=b'\\x01', time=1e-11, edge=10),\n",
       " Mutation(id=29, site=4, node=4, derived_state='absent', parent=-1, metadata=b'\\x01', time=1e-11, edge=3)]"
      ]
     },
     "execution_count": 7,
     "metadata": {},
     "output_type": "execute_result"
    }
   ],
   "source": [
    "\n",
    "# Site und Node definieren\n",
    "site_id = 4  # ID der Site\n",
    "node_id = 0  # ID des Knotens\n",
    "\n",
    "# Zugriff auf die Site und den Baum\n",
    "site = mts.site(site_id)\n",
    "tree = mts.at(site_id)\n",
    "\n",
    "# Standardmäßig ist der Zustand der ancestrale Zustand\n",
    "state = site.ancestral_state\n",
    "\n",
    "# Iteriere durch die Mutationen der Site\n",
    "for mutation in site.mutations:\n",
    "    # Prüfe, ob der Knoten (oder einer seiner Vorfahren) von der Mutation betroffen ist\n",
    "    print(tree.is_descendant(node_id, mutation.node))\n",
    "    if tree.is_descendant(node_id, mutation.node):\n",
    "        state = mutation.derived_state\n",
    "\n",
    "print(f\"Node {node_id} at site {site_id}: {state}\")\n",
    "\n",
    "print(tree.parent_dict)  # Zeigt die Eltern-Kind-Beziehungen im Baum\n",
    "\n",
    "print(tree.is_descendant(0, 14))\n",
    "\n",
    "site.mutations"
   ]
  },
  {
   "cell_type": "code",
   "execution_count": 12,
   "id": "92d3f643-dfee-4656-9e71-e3af756d0619",
   "metadata": {},
   "outputs": [
    {
     "data": {
      "text/plain": [
       "array([20, 46, 82, 87], dtype=uint32)"
      ]
     },
     "execution_count": 12,
     "metadata": {},
     "output_type": "execute_result"
    }
   ],
   "source": [
    "import numpy as np\n",
    "\n",
    "alleles = [\"absent\", \"present\"]\n",
    "\n",
    "poisson = np.random.poisson(theta / (rho if rho != 0 else 1))\n",
    "poisson = min(poisson, num_sites)\n",
    "\n",
    "position = np.arange(0, num_sites, dtype=\"uint32\")\n",
    "position = np.random.choice(position, poisson, replace=False)\n",
    "position.sort()\n",
    "\n",
    "position"
   ]
  },
  {
   "cell_type": "code",
   "execution_count": 168,
   "id": "3b2d8dfb-e739-4443-8373-fa2743d703b7",
   "metadata": {},
   "outputs": [
    {
     "data": {
      "image/svg+xml": [
       "<svg baseProfile=\"full\" height=\"200\" version=\"1.1\" width=\"200\" xmlns=\"http://www.w3.org/2000/svg\" xmlns:ev=\"http://www.w3.org/2001/xml-events\" xmlns:xlink=\"http://www.w3.org/1999/xlink\"><defs><style type=\"text/css\"><![CDATA[.background path {fill: #808080; fill-opacity: 0}.background path:nth-child(odd) {fill-opacity: .1}.x-regions rect {fill: yellow; stroke: black; opacity: 0.5}.axes {font-size: 14px}.x-axis .tick .lab {font-weight: bold; dominant-baseline: hanging}.axes, .tree {font-size: 14px; text-anchor: middle}.axes line, .edge {stroke: black; fill: none}.axes .ax-skip {stroke-dasharray: 4}.y-axis .grid {stroke: #FAFAFA}.node > .sym {fill: black; stroke: none}.site > .sym {stroke: black}.mut text {fill: red; font-style: italic}.mut.extra text {fill: hotpink}.mut line {fill: none; stroke: none}.mut .sym {fill: none; stroke: red}.mut.extra .sym {stroke: hotpink}.node .mut .sym {stroke-width: 1.5px}.tree text, .tree-sequence text {dominant-baseline: central}.plotbox .lab.lft {text-anchor: end}.plotbox .lab.rgt {text-anchor: start}.polytomy line {stroke: black; stroke-dasharray: 1px, 1px}.polytomy text {paint-order:stroke;stroke-width:0.3em;stroke:white}]]></style></defs><g class=\"tree-sequence\"><g class=\"background\"><path d=\"M20,0 l160,0 l0,138.2 l0,25 l0,5 l-160,0 l0,-5 l0,-25 l0,-138.2z\" /></g><g class=\"axes\"><g class=\"x-axis\"><g class=\"title\" transform=\"translate(100 200)\"><text class=\"lab\" text-anchor=\"middle\" transform=\"translate(0 -11)\">Genome position</text></g><line class=\"ax-line\" x1=\"20\" x2=\"180\" y1=\"163.2\" y2=\"163.2\" /><g class=\"ticks\"><g class=\"tick\" transform=\"translate(20 163.2)\"><line x1=\"0\" x2=\"0\" y1=\"0\" y2=\"5\" /><g transform=\"translate(0 6)\"><text class=\"lab\">0</text></g></g><g class=\"tick\" transform=\"translate(180 163.2)\"><line x1=\"0\" x2=\"0\" y1=\"0\" y2=\"5\" /><g transform=\"translate(0 6)\"><text class=\"lab\">100</text></g></g></g></g></g><g class=\"plotbox trees\"><g class=\"tree t0\" transform=\"translate(20 0)\"><g class=\"plotbox\"><g class=\"c2 node n18 p0 root\" transform=\"translate(96.125 26.8)\"><g class=\"a18 c2 node n16 p0\" transform=\"translate(-27.375 30.9192)\"><g class=\"a16 i1 leaf node n3 p0 sample\" transform=\"translate(17.25 63.6808)\"><path class=\"edge\" d=\"M 0 0 V -63.6808 H -17.25\" /><rect class=\"sym\" height=\"6\" width=\"6\" x=\"-3\" y=\"-3\" /><text class=\"lab\" transform=\"translate(0 11)\">3</text></g><g class=\"a16 c2 node n13 p0\" transform=\"translate(-17.25 51.207)\"><g class=\"a13 c2 node n11 p0\" transform=\"translate(-16.5 8.42592)\"><g class=\"a11 i0 leaf node n0 p0 sample\" transform=\"translate(-9 4.04789)\"><path class=\"edge\" d=\"M 0 0 V -4.04789 H 9\" /><rect class=\"sym\" height=\"6\" width=\"6\" x=\"-3\" y=\"-3\" /><text class=\"lab\" transform=\"translate(0 11)\">0</text></g><g class=\"a11 c2 node n10 p0\" transform=\"translate(9 3.29921)\"><g class=\"a10 i3 leaf node n6 p0 sample\" transform=\"translate(-6 0.748674)\"><path class=\"edge\" d=\"M 0 0 V -0.748674 H 6\" /><rect class=\"sym\" height=\"6\" width=\"6\" x=\"-3\" y=\"-3\" /><text class=\"lab\" transform=\"translate(0 11)\">6</text></g><g class=\"a10 i4 leaf node n9 p0 sample\" transform=\"translate(6 0.748674)\"><path class=\"edge\" d=\"M 0 0 V -0.748674 H -6\" /><rect class=\"sym\" height=\"6\" width=\"6\" x=\"-3\" y=\"-3\" /><text class=\"lab\" transform=\"translate(0 11)\">9</text></g><path class=\"edge\" d=\"M 0 0 V -3.29921 H -9\" /><circle class=\"sym\" cx=\"0\" cy=\"0\" r=\"3\" /><text class=\"lab rgt\" transform=\"translate(3 -7)\">10</text></g><path class=\"edge\" d=\"M 0 0 V -8.42592 H 16.5\" /><circle class=\"sym\" cx=\"0\" cy=\"0\" r=\"3\" /><text class=\"lab lft\" transform=\"translate(-3 -7)\">11</text></g><g class=\"a13 c2 node n12 p0\" transform=\"translate(16.5 7.55183)\"><g class=\"a12 i0 leaf node n1 p0 sample\" transform=\"translate(-6 4.92198)\"><path class=\"edge\" d=\"M 0 0 V -4.92198 H 6\" /><rect class=\"sym\" height=\"6\" width=\"6\" x=\"-3\" y=\"-3\" /><text class=\"lab\" transform=\"translate(0 11)\">1</text></g><g class=\"a12 i2 leaf node n5 p0 sample\" transform=\"translate(6 4.92198)\"><path class=\"edge\" d=\"M 0 0 V -4.92198 H -6\" /><rect class=\"sym\" height=\"6\" width=\"6\" x=\"-3\" y=\"-3\" /><text class=\"lab\" transform=\"translate(0 11)\">5</text></g><path class=\"edge\" d=\"M 0 0 V -7.55183 H -16.5\" /><circle class=\"sym\" cx=\"0\" cy=\"0\" r=\"3\" /><text class=\"lab rgt\" transform=\"translate(3 -7)\">12</text></g><path class=\"edge\" d=\"M 0 0 V -51.207 H 17.25\" /><circle class=\"sym\" cx=\"0\" cy=\"0\" r=\"3\" /><text class=\"lab lft\" transform=\"translate(-3 -7)\">13</text></g><path class=\"edge\" d=\"M 0 0 V -30.9192 H 27.375\" /><circle class=\"sym\" cx=\"0\" cy=\"0\" r=\"3\" /><text class=\"lab lft\" transform=\"translate(-3 -7)\">16</text></g><g class=\"a18 c2 node n17 p0\" transform=\"translate(27.375 30.2492)\"><g class=\"a17 i4 leaf node n8 p0 sample\" transform=\"translate(10.5 64.3508)\"><path class=\"edge\" d=\"M 0 0 V -64.3508 H -10.5\" /><rect class=\"sym\" height=\"6\" width=\"6\" x=\"-3\" y=\"-3\" /><text class=\"lab\" transform=\"translate(0 11)\">8</text></g><g class=\"a17 c2 node n15 p0\" transform=\"translate(-10.5 32.4402)\"><g class=\"a15 i2 leaf node n4 p0 sample\" transform=\"translate(9 31.9106)\"><path class=\"edge\" d=\"M 0 0 V -31.9106 H -9\" /><rect class=\"sym\" height=\"6\" width=\"6\" x=\"-3\" y=\"-3\" /><text class=\"lab\" transform=\"translate(0 11)\">4</text></g><g class=\"a15 c2 node n14 p0\" transform=\"translate(-9 6.84014)\"><g class=\"a14 i1 leaf node n2 p0 sample\" transform=\"translate(-6 25.0705)\"><path class=\"edge\" d=\"M 0 0 V -25.0705 H 6\" /><rect class=\"sym\" height=\"6\" width=\"6\" x=\"-3\" y=\"-3\" /><text class=\"lab\" transform=\"translate(0 11)\">2</text></g><g class=\"a14 i3 leaf node n7 p0 sample\" transform=\"translate(6 25.0705)\"><path class=\"edge\" d=\"M 0 0 V -25.0705 H -6\" /><rect class=\"sym\" height=\"6\" width=\"6\" x=\"-3\" y=\"-3\" /><text class=\"lab\" transform=\"translate(0 11)\">7</text></g><path class=\"edge\" d=\"M 0 0 V -6.84014 H 9\" /><circle class=\"sym\" cx=\"0\" cy=\"0\" r=\"3\" /><text class=\"lab lft\" transform=\"translate(-3 -7)\">14</text></g><path class=\"edge\" d=\"M 0 0 V -32.4402 H 10.5\" /><circle class=\"sym\" cx=\"0\" cy=\"0\" r=\"3\" /><text class=\"lab lft\" transform=\"translate(-3 -7)\">15</text></g><path class=\"edge\" d=\"M 0 0 V -30.2492 H -27.375\" /><circle class=\"sym\" cx=\"0\" cy=\"0\" r=\"3\" /><text class=\"lab rgt\" transform=\"translate(3 -7)\">17</text></g><circle class=\"sym\" cx=\"0\" cy=\"0\" r=\"3\" /><text class=\"lab\" transform=\"translate(0 -11)\">18</text></g></g></g></g></g></svg>"
      ],
      "text/plain": [
       "'<svg baseProfile=\"full\" height=\"200\" version=\"1.1\" width=\"200\" xmlns=\"http://www.w3.org/2000/svg\" xmlns:ev=\"http://www.w3.org/2001/xml-events\" xmlns:xlink=\"http://www.w3.org/1999/xlink\"><defs><style type=\"text/css\"><![CDATA[.background path {fill: #808080; fill-opacity: 0}.background path:nth-child(odd) {fill-opacity: .1}.x-regions rect {fill: yellow; stroke: black; opacity: 0.5}.axes {font-size: 14px}.x-axis .tick .lab {font-weight: bold; dominant-baseline: hanging}.axes, .tree {font-size: 14px; text-anchor: middle}.axes line, .edge {stroke: black; fill: none}.axes .ax-skip {stroke-dasharray: 4}.y-axis .grid {stroke: #FAFAFA}.node > .sym {fill: black; stroke: none}.site > .sym {stroke: black}.mut text {fill: red; font-style: italic}.mut.extra text {fill: hotpink}.mut line {fill: none; stroke: none}.mut .sym {fill: none; stroke: red}.mut.extra .sym {stroke: hotpink}.node .mut .sym {stroke-width: 1.5px}.tree text, .tree-sequence text {dominant-baseline: central}.plotbox .lab.lft {text-anchor: end}.plotbox .lab.rgt {text-anchor: start}.polytomy line {stroke: black; stroke-dasharray: 1px, 1px}.polytomy text {paint-order:stroke;stroke-width:0.3em;stroke:white}]]></style></defs><g class=\"tree-sequence\"><g class=\"background\"><path d=\"M20,0 l160,0 l0,138.2 l0,25 l0,5 l-160,0 l0,-5 l0,-25 l0,-138.2z\" /></g><g class=\"axes\"><g class=\"x-axis\"><g class=\"title\" transform=\"translate(100 200)\"><text class=\"lab\" text-anchor=\"middle\" transform=\"translate(0 -11)\">Genome position</text></g><line class=\"ax-line\" x1=\"20\" x2=\"180\" y1=\"163.2\" y2=\"163.2\" /><g class=\"ticks\"><g class=\"tick\" transform=\"translate(20 163.2)\"><line x1=\"0\" x2=\"0\" y1=\"0\" y2=\"5\" /><g transform=\"translate(0 6)\"><text class=\"lab\">0</text></g></g><g class=\"tick\" transform=\"translate(180 163.2)\"><line x1=\"0\" x2=\"0\" y1=\"0\" y2=\"5\" /><g transform=\"translate(0 6)\"><text class=\"lab\">100</text></g></g></g></g></g><g class=\"plotbox trees\"><g class=\"tree t0\" transform=\"translate(20 0)\"><g class=\"plotbox\"><g class=\"c2 node n18 p0 root\" transform=\"translate(96.125 26.8)\"><g class=\"a18 c2 node n16 p0\" transform=\"translate(-27.375 30.9192)\"><g class=\"a16 i1 leaf node n3 p0 sample\" transform=\"translate(17.25 63.6808)\"><path class=\"edge\" d=\"M 0 0 V -63.6808 H -17.25\" /><rect class=\"sym\" height=\"6\" width=\"6\" x=\"-3\" y=\"-3\" /><text class=\"lab\" transform=\"translate(0 11)\">3</text></g><g class=\"a16 c2 node n13 p0\" transform=\"translate(-17.25 51.207)\"><g class=\"a13 c2 node n11 p0\" transform=\"translate(-16.5 8.42592)\"><g class=\"a11 i0 leaf node n0 p0 sample\" transform=\"translate(-9 4.04789)\"><path class=\"edge\" d=\"M 0 0 V -4.04789 H 9\" /><rect class=\"sym\" height=\"6\" width=\"6\" x=\"-3\" y=\"-3\" /><text class=\"lab\" transform=\"translate(0 11)\">0</text></g><g class=\"a11 c2 node n10 p0\" transform=\"translate(9 3.29921)\"><g class=\"a10 i3 leaf node n6 p0 sample\" transform=\"translate(-6 0.748674)\"><path class=\"edge\" d=\"M 0 0 V -0.748674 H 6\" /><rect class=\"sym\" height=\"6\" width=\"6\" x=\"-3\" y=\"-3\" /><text class=\"lab\" transform=\"translate(0 11)\">6</text></g><g class=\"a10 i4 leaf node n9 p0 sample\" transform=\"translate(6 0.748674)\"><path class=\"edge\" d=\"M 0 0 V -0.748674 H -6\" /><rect class=\"sym\" height=\"6\" width=\"6\" x=\"-3\" y=\"-3\" /><text class=\"lab\" transform=\"translate(0 11)\">9</text></g><path class=\"edge\" d=\"M 0 0 V -3.29921 H -9\" /><circle class=\"sym\" cx=\"0\" cy=\"0\" r=\"3\" /><text class=\"lab rgt\" transform=\"translate(3 -7)\">10</text></g><path class=\"edge\" d=\"M 0 0 V -8.42592 H 16.5\" /><circle class=\"sym\" cx=\"0\" cy=\"0\" r=\"3\" /><text class=\"lab lft\" transform=\"translate(-3 -7)\">11</text></g><g class=\"a13 c2 node n12 p0\" transform=\"translate(16.5 7.55183)\"><g class=\"a12 i0 leaf node n1 p0 sample\" transform=\"translate(-6 4.92198)\"><path class=\"edge\" d=\"M 0 0 V -4.92198 H 6\" /><rect class=\"sym\" height=\"6\" width=\"6\" x=\"-3\" y=\"-3\" /><text class=\"lab\" transform=\"translate(0 11)\">1</text></g><g class=\"a12 i2 leaf node n5 p0 sample\" transform=\"translate(6 4.92198)\"><path class=\"edge\" d=\"M 0 0 V -4.92198 H -6\" /><rect class=\"sym\" height=\"6\" width=\"6\" x=\"-3\" y=\"-3\" /><text class=\"lab\" transform=\"translate(0 11)\">5</text></g><path class=\"edge\" d=\"M 0 0 V -7.55183 H -16.5\" /><circle class=\"sym\" cx=\"0\" cy=\"0\" r=\"3\" /><text class=\"lab rgt\" transform=\"translate(3 -7)\">12</text></g><path class=\"edge\" d=\"M 0 0 V -51.207 H 17.25\" /><circle class=\"sym\" cx=\"0\" cy=\"0\" r=\"3\" /><text class=\"lab lft\" transform=\"translate(-3 -7)\">13</text></g><path class=\"edge\" d=\"M 0 0 V -30.9192 H 27.375\" /><circle class=\"sym\" cx=\"0\" cy=\"0\" r=\"3\" /><text class=\"lab lft\" transform=\"translate(-3 -7)\">16</text></g><g class=\"a18 c2 node n17 p0\" transform=\"translate(27.375 30.2492)\"><g class=\"a17 i4 leaf node n8 p0 sample\" transform=\"translate(10.5 64.3508)\"><path class=\"edge\" d=\"M 0 0 V -64.3508 H -10.5\" /><rect class=\"sym\" height=\"6\" width=\"6\" x=\"-3\" y=\"-3\" /><text class=\"lab\" transform=\"translate(0 11)\">8</text></g><g class=\"a17 c2 node n15 p0\" transform=\"translate(-10.5 32.4402)\"><g class=\"a15 i2 leaf node n4 p0 sample\" transform=\"translate(9 31.9106)\"><path class=\"edge\" d=\"M 0 0 V -31.9106 H -9\" /><rect class=\"sym\" height=\"6\" width=\"6\" x=\"-3\" y=\"-3\" /><text class=\"lab\" transform=\"translate(0 11)\">4</text></g><g class=\"a15 c2 node n14 p0\" transform=\"translate(-9 6.84014)\"><g class=\"a14 i1 leaf node n2 p0 sample\" transform=\"translate(-6 25.0705)\"><path class=\"edge\" d=\"M 0 0 V -25.0705 H 6\" /><rect class=\"sym\" height=\"6\" width=\"6\" x=\"-3\" y=\"-3\" /><text class=\"lab\" transform=\"translate(0 11)\">2</text></g><g class=\"a14 i3 leaf node n7 p0 sample\" transform=\"translate(6 25.0705)\"><path class=\"edge\" d=\"M 0 0 V -25.0705 H -6\" /><rect class=\"sym\" height=\"6\" width=\"6\" x=\"-3\" y=\"-3\" /><text class=\"lab\" transform=\"translate(0 11)\">7</text></g><path class=\"edge\" d=\"M 0 0 V -6.84014 H 9\" /><circle class=\"sym\" cx=\"0\" cy=\"0\" r=\"3\" /><text class=\"lab lft\" transform=\"translate(-3 -7)\">14</text></g><path class=\"edge\" d=\"M 0 0 V -32.4402 H 10.5\" /><circle class=\"sym\" cx=\"0\" cy=\"0\" r=\"3\" /><text class=\"lab lft\" transform=\"translate(-3 -7)\">15</text></g><path class=\"edge\" d=\"M 0 0 V -30.2492 H -27.375\" /><circle class=\"sym\" cx=\"0\" cy=\"0\" r=\"3\" /><text class=\"lab rgt\" transform=\"translate(3 -7)\">17</text></g><circle class=\"sym\" cx=\"0\" cy=\"0\" r=\"3\" /><text class=\"lab\" transform=\"translate(0 -11)\">18</text></g></g></g></g></g></svg>'"
      ]
     },
     "execution_count": 168,
     "metadata": {},
     "output_type": "execute_result"
    }
   ],
   "source": [
    "import msprime # Simulieren des Abstammungsbaumes\n",
    "tree_sequence = msprime.sim_ancestry(samples=5, population_size=1, sequence_length=100, recombination_rate=0)\n",
    "\n",
    "# Einführen von Mutationen, um Allel-Präsenzen zu erstellen\n",
    "mutated_ts = msprime.sim_mutations(tree_sequence, rate=1e-4)\n",
    "\n",
    "# Anzeigen aller Varianten\n",
    "for variant in mutated_ts.variants():\n",
    "    print(\"Position:\", variant.site.position, \"Alleles:\", variant.alleles)\n",
    "\n",
    "tree_sequence.draw_svg()"
   ]
  },
  {
   "cell_type": "code",
   "execution_count": 8,
   "id": "ebe592d2-e726-4450-80fa-9d3cd145d0f7",
   "metadata": {},
   "outputs": [
    {
     "data": {
      "text/plain": [
       "array([0, 1, 2, 3, 4, 5, 6, 7, 8, 9], dtype=uint32)"
      ]
     },
     "execution_count": 8,
     "metadata": {},
     "output_type": "execute_result"
    }
   ],
   "source": [
    "#poisson = np.random.poisson(theta / (rho if rho != 0 else 1))\n",
    "#poisson = min(poisson, num_sites)\n",
    "alleles = [\"absent\", \"present\"]\n",
    "poisson = num_sites\n",
    "\n",
    "position = np.arange(0, num_sites, dtype=\"uint32\")\n",
    "position = np.random.choice(position, poisson, replace=False)\n",
    "position.sort()\n",
    "\n",
    "ancestral_state = [alleles[0]] * poisson\n",
    "\n",
    "position"
   ]
  },
  {
   "cell_type": "code",
   "execution_count": 178,
   "id": "4aa7523a-284f-4491-bb47-c4d95542a8f9",
   "metadata": {},
   "outputs": [
    {
     "name": "stdout",
     "output_type": "stream",
     "text": [
      "Position: 0.0 Alleles: ('A', 'T')\n",
      "Position: 1.0 Alleles: ('T', 'A', 'G')\n",
      "Position: 2.0 Alleles: ('T', 'A')\n",
      "Position: 3.0 Alleles: ('T', 'G', 'C')\n",
      "Position: 4.0 Alleles: ('G', 'A')\n",
      "Position: 5.0 Alleles: ('T', 'C', 'A')\n",
      "Position: 6.0 Alleles: ('T', 'C')\n",
      "Position: 7.0 Alleles: ('T', 'C')\n",
      "Position: 8.0 Alleles: ('G', 'T')\n",
      "Position: 9.0 Alleles: ('C', 'A', 'G')\n"
     ]
    }
   ],
   "source": [
    "for variant in mutated_ts.variants():\n",
    "    print(\"Position:\", variant.site.position, \"Alleles:\", variant.alleles)"
   ]
  },
  {
   "cell_type": "code",
   "execution_count": 177,
   "id": "8a94a815-3953-4507-9838-e1e9ce0e5e52",
   "metadata": {},
   "outputs": [
    {
     "name": "stdout",
     "output_type": "stream",
     "text": [
      "Site: 0 | Alleles: ('A', 'T') | Genotypes: [0 0 0 0 1 0 0 0 0 0]\n",
      "Site: 0 | Alleles: ('A', 'T') | Genotypes: [0 0 0 0 1 0 0 0 0 0]\n",
      "Site: 1 | Alleles: ('T', 'A', 'G') | Genotypes: [1 2 1 0 0 1 0 0 1 0]\n",
      "Site: 1 | Alleles: ('T', 'A', 'G') | Genotypes: [1 2 1 0 0 1 0 0 1 0]\n",
      "Site: 1 | Alleles: ('T', 'A', 'G') | Genotypes: [1 2 1 0 0 1 0 0 1 0]\n",
      "Site: 2 | Alleles: ('T', 'A') | Genotypes: [0 0 0 0 0 0 0 0 0 1]\n",
      "Site: 2 | Alleles: ('T', 'A') | Genotypes: [0 0 0 0 0 0 0 0 0 1]\n",
      "Site: 3 | Alleles: ('T', 'G', 'C') | Genotypes: [0 2 2 2 0 0 0 0 0 0]\n",
      "Site: 3 | Alleles: ('T', 'G', 'C') | Genotypes: [0 2 2 2 0 0 0 0 0 0]\n",
      "Site: 3 | Alleles: ('T', 'G', 'C') | Genotypes: [0 2 2 2 0 0 0 0 0 0]\n",
      "Site: 4 | Alleles: ('G', 'A') | Genotypes: [0 0 0 0 1 0 0 0 0 0]\n",
      "Site: 4 | Alleles: ('G', 'A') | Genotypes: [0 0 0 0 1 0 0 0 0 0]\n",
      "Site: 5 | Alleles: ('T', 'C', 'A') | Genotypes: [2 0 0 0 1 2 0 1 2 0]\n",
      "Site: 5 | Alleles: ('T', 'C', 'A') | Genotypes: [2 0 0 0 1 2 0 1 2 0]\n",
      "Site: 5 | Alleles: ('T', 'C', 'A') | Genotypes: [2 0 0 0 1 2 0 1 2 0]\n",
      "Site: 6 | Alleles: ('T', 'C') | Genotypes: [0 0 0 0 1 0 0 0 0 1]\n",
      "Site: 6 | Alleles: ('T', 'C') | Genotypes: [0 0 0 0 1 0 0 0 0 1]\n",
      "Site: 7 | Alleles: ('T', 'C') | Genotypes: [1 1 1 1 0 1 1 1 1 1]\n",
      "Site: 7 | Alleles: ('T', 'C') | Genotypes: [1 1 1 1 0 1 1 1 1 1]\n",
      "Site: 8 | Alleles: ('G', 'T') | Genotypes: [0 0 0 0 0 0 1 1 0 0]\n",
      "Site: 8 | Alleles: ('G', 'T') | Genotypes: [0 0 0 0 0 0 1 1 0 0]\n",
      "Site: 9 | Alleles: ('C', 'A', 'G') | Genotypes: [0 0 0 0 0 0 2 1 0 0]\n",
      "Site: 9 | Alleles: ('C', 'A', 'G') | Genotypes: [0 0 0 0 0 0 2 1 0 0]\n",
      "Site: 9 | Alleles: ('C', 'A', 'G') | Genotypes: [0 0 0 0 0 0 2 1 0 0]\n"
     ]
    }
   ],
   "source": [
    "import msprime\n",
    "import numpy as np\n",
    "\n",
    "# Simulate the ancestry and add mutations\n",
    "tree_sequence = msprime.sim_ancestry(samples=5, population_size=100, sequence_length=10, recombination_rate=1e-8)\n",
    "mutated_ts = msprime.sim_mutations(tree_sequence, rate=0.01)\n",
    "\n",
    "# Initialize with a presumed ancestral state (e.g., hypothetical 'A')\n",
    "ancestral_alleles = ['A'] * int(mutated_ts.sequence_length)\n",
    "\n",
    "# List encountered mutations and adjust from presumed ancestral state\n",
    "for var in mutated_ts.variants():\n",
    "    for i in range(len(var.alleles)):\n",
    "        # var.alleles[i] might reveal distinct alleles related to original ancestral one\n",
    "        print(f\"Site: {int(var.site.position)} | Alleles: {var.alleles} | Genotypes: {var.genotypes}\")\n",
    "\n",
    "# Understanding: Original MRCA alleles are set as 'A' for non-affected order points assuming, but post-mutation interpretation inherits genoform modulations."
   ]
  },
  {
   "cell_type": "code",
   "execution_count": 161,
   "id": "68bf911a-8a91-475f-b864-363894c2f10e",
   "metadata": {},
   "outputs": [
    {
     "name": "stdout",
     "output_type": "stream",
     "text": [
      "Genotypes\n",
      "Site 0: [0 0 0 0 0]\n",
      "Site 1: [0 0 0 0 0]\n",
      "Site 2: [0 0 0 0 0]\n",
      "Site 3: [0 0 0 0 0]\n",
      "Site 4: [0 0 0 0 0]\n",
      "Site 5: [0 0 0 0 0]\n",
      "Site 6: [0 0 0 0 0]\n",
      "Site 7: [0 0 0 0 0]\n",
      "Site 8: [0 0 0 0 0]\n",
      "Site 9: [0 0 0 0 0]\n",
      "Site 10: [0 0 0 0 0]\n",
      "Site 11: [0 0 0 0 0]\n",
      "Site 12: [0 0 0 0 0]\n",
      "Site 13: [0 0 0 0 0]\n",
      "Site 14: [0 0 0 0 0]\n",
      "Site 15: [0 0 0 0 0]\n",
      "Site 16: [0 0 0 0 0]\n",
      "Site 17: [0 0 0 0 0]\n",
      "Site 18: [0 0 0 0 0]\n",
      "Site 19: [0 0 0 0 0]\n",
      "Site 20: [0 0 0 0 0]\n",
      "Site 21: [0 0 0 0 0]\n",
      "Site 22: [0 0 0 0 0]\n",
      "Site 23: [0 0 0 0 0]\n",
      "Site 24: [0 0 0 0 0]\n",
      "Site 25: [0 0 0 0 0]\n",
      "Site 26: [0 0 0 0 0]\n",
      "Site 27: [0 0 0 0 0]\n",
      "Site 28: [0 0 0 1 0]\n",
      "Site 29: [0 0 0 0 0]\n",
      "Site 30: [0 0 0 0 0]\n",
      "Site 31: [0 0 0 0 0]\n",
      "Site 32: [1 1 1 0 1]\n",
      "Site 33: [0 0 0 0 0]\n",
      "Site 34: [0 0 0 0 0]\n",
      "Site 35: [0 0 0 0 0]\n",
      "Site 36: [0 0 0 0 0]\n",
      "Site 37: [0 0 0 0 0]\n",
      "Site 38: [0 0 0 0 0]\n",
      "Site 39: [0 0 0 0 0]\n",
      "Site 40: [0 0 0 0 0]\n"
     ]
    }
   ],
   "source": [
    "import numpy as np\n",
    "np.set_printoptions(linewidth=200)  # print genotypes on a single line\n",
    "\n",
    "print(\"Genotypes\")\n",
    "for v in ts.variants():\n",
    "    print(f\"Site {v.site.id}: {v.genotypes}\")\n",
    "    "
   ]
  },
  {
   "cell_type": "code",
   "execution_count": 82,
   "id": "7a25b442-71a1-450e-95ba-bf90ddd7bf12",
   "metadata": {},
   "outputs": [
    {
     "name": "stdout",
     "output_type": "stream",
     "text": [
      "There are 795 nodes, of which 5 are sample nodes\n"
     ]
    },
    {
     "ename": "IndexError",
     "evalue": "index 100 is out of bounds for axis 0 with size 5",
     "output_type": "error",
     "traceback": [
      "\u001b[1;31m---------------------------------------------------------------------------\u001b[0m",
      "\u001b[1;31mIndexError\u001b[0m                                Traceback (most recent call last)",
      "Cell \u001b[1;32mIn[82], line 9\u001b[0m\n\u001b[0;32m      6\u001b[0m node_id \u001b[38;5;241m=\u001b[39m \u001b[38;5;241m100\u001b[39m  \u001b[38;5;66;03m# Beispiel-ID des gewünschten Knotens/Wunschindividuums\u001b[39;00m\n\u001b[0;32m      8\u001b[0m \u001b[38;5;28;01mfor\u001b[39;00m variant \u001b[38;5;129;01min\u001b[39;00m ts\u001b[38;5;241m.\u001b[39mvariants():\n\u001b[1;32m----> 9\u001b[0m     allel_index \u001b[38;5;241m=\u001b[39m \u001b[43mvariant\u001b[49m\u001b[38;5;241;43m.\u001b[39;49m\u001b[43mgenotypes\u001b[49m\u001b[43m[\u001b[49m\u001b[43mnode_id\u001b[49m\u001b[43m]\u001b[49m\n\u001b[0;32m     10\u001b[0m     allel \u001b[38;5;241m=\u001b[39m variant\u001b[38;5;241m.\u001b[39malleles[allel_index]\n\u001b[0;32m     11\u001b[0m     \u001b[38;5;28mprint\u001b[39m(\u001b[38;5;124mf\u001b[39m\u001b[38;5;124m\"\u001b[39m\u001b[38;5;124mPosition: \u001b[39m\u001b[38;5;132;01m{\u001b[39;00mvariant\u001b[38;5;241m.\u001b[39msite\u001b[38;5;241m.\u001b[39mposition\u001b[38;5;132;01m}\u001b[39;00m\u001b[38;5;124m, Allel: \u001b[39m\u001b[38;5;132;01m{\u001b[39;00mallel\u001b[38;5;132;01m}\u001b[39;00m\u001b[38;5;124m\"\u001b[39m)\n",
      "\u001b[1;31mIndexError\u001b[0m: index 100 is out of bounds for axis 0 with size 5"
     ]
    }
   ],
   "source": [
    "ts = mts\n",
    "print(\"There are\", ts.num_nodes, \"nodes, of which\", ts.num_samples, \"are sample nodes\")\n",
    "\n",
    "# mts.genotype_matrix()\n",
    "\n",
    "node_id = 100  # Beispiel-ID des gewünschten Knotens/Wunschindividuums\n",
    "\n",
    "for variant in ts.variants():\n",
    "    allel_index = variant.genotypes[node_id]\n",
    "    allel = variant.alleles[allel_index]\n",
    "    print(f\"Position: {variant.site.position}, Allel: {allel}\")"
   ]
  },
  {
   "cell_type": "code",
   "execution_count": 11,
   "id": "b62b4d5d-c747-45ba-a54e-cacae2c52520",
   "metadata": {},
   "outputs": [
    {
     "name": "stdout",
     "output_type": "stream",
     "text": [
      "There are 58 edges, one of which is:\n",
      "  Edge(left=0.0, right=60000.0, parent=5, child=0, metadata=b'', id=0)\n"
     ]
    }
   ],
   "source": [
    "print(\"There are\", ts.num_edges, \"edges, one of which is:\\n \", ts.edge(0))"
   ]
  },
  {
   "cell_type": "code",
   "execution_count": 84,
   "id": "410de4e1-e1fa-4fb5-9f92-d1533263ba54",
   "metadata": {},
   "outputs": [
    {
     "name": "stdout",
     "output_type": "stream",
     "text": [
      "Kinder des spezifischen internen Knotens: [0]\n",
      "Position: 17.0, Child Node Allele: absent\n",
      "Position: 23.0, Child Node Allele: absent\n",
      "Position: 24.0, Child Node Allele: absent\n",
      "Position: 28.0, Child Node Allele: absent\n",
      "Position: 32.0, Child Node Allele: absent\n",
      "Position: 37.0, Child Node Allele: absent\n",
      "Position: 38.0, Child Node Allele: absent\n",
      "Position: 44.0, Child Node Allele: absent\n",
      "Position: 45.0, Child Node Allele: absent\n",
      "Position: 48.0, Child Node Allele: absent\n",
      "Position: 49.0, Child Node Allele: absent\n",
      "Position: 51.0, Child Node Allele: present\n",
      "Position: 54.0, Child Node Allele: absent\n",
      "Position: 55.0, Child Node Allele: absent\n",
      "Position: 56.0, Child Node Allele: present\n",
      "Position: 59.0, Child Node Allele: absent\n",
      "Position: 62.0, Child Node Allele: absent\n",
      "Position: 63.0, Child Node Allele: absent\n",
      "Position: 71.0, Child Node Allele: absent\n",
      "Position: 76.0, Child Node Allele: absent\n",
      "Position: 77.0, Child Node Allele: absent\n",
      "Position: 89.0, Child Node Allele: absent\n",
      "Position: 99.0, Child Node Allele: absent\n",
      "Position: 102.0, Child Node Allele: absent\n",
      "Position: 103.0, Child Node Allele: absent\n",
      "Position: 119.0, Child Node Allele: absent\n",
      "Position: 120.0, Child Node Allele: absent\n",
      "Position: 123.0, Child Node Allele: absent\n",
      "Position: 142.0, Child Node Allele: absent\n",
      "Position: 144.0, Child Node Allele: absent\n",
      "Position: 147.0, Child Node Allele: absent\n",
      "Position: 148.0, Child Node Allele: absent\n",
      "Position: 150.0, Child Node Allele: present\n",
      "Position: 154.0, Child Node Allele: absent\n",
      "Position: 161.0, Child Node Allele: absent\n",
      "Position: 163.0, Child Node Allele: absent\n",
      "Position: 164.0, Child Node Allele: absent\n",
      "Position: 173.0, Child Node Allele: absent\n",
      "Position: 190.0, Child Node Allele: absent\n",
      "Position: 191.0, Child Node Allele: absent\n",
      "Position: 199.0, Child Node Allele: absent\n"
     ]
    }
   ],
   "source": [
    "# Gehe zu einem bestimmten Baum in der Sequenz\n",
    "tree = ts.first()\n",
    "\n",
    "# Beispiel: Interner Knoten, den du untersuchen möchtest\n",
    "internal_node_id = tree.parent(0)  # wähle ein Beispiel; dort parent eines Leaf-Nodes\n",
    "\n",
    "# Verwende all_nodes() oder parent() Methoden, um interne Knoten zu identifizieren\n",
    "children = list(tree.children(internal_node_id))\n",
    "\n",
    "print(\"Kinder des spezifischen internen Knotens:\", children)\n",
    "\n",
    "# Wenn du die genetischen Infos erhalten willst über Blätter:\n",
    "for variant in ts.variants():\n",
    "    for child in children:\n",
    "        genotype = variant.genotypes[child]\n",
    "        allele = variant.alleles[genotype]\n",
    "        print(f\"Position: {variant.site.position}, Child Node Allele: {allele}\")"
   ]
  },
  {
   "cell_type": "code",
   "execution_count": 12,
   "id": "11a36c4a-523a-468f-b3bd-13b0960333dd",
   "metadata": {},
   "outputs": [
    {
     "name": "stdout",
     "output_type": "stream",
     "text": [
      "There are 19 trees, associated with breakpoints [    0.   859.   860.  9499.  9500. 14823. 14824. 28834. 28835. 31702.\n",
      " 31703. 36073. 36074. 47296. 47297. 50118. 50119. 53818. 53819. 60000.]\n"
     ]
    }
   ],
   "source": [
    "breakpoints = ts.breakpoints(as_array=True)\n",
    "print(\"There are\", ts.num_trees, \"trees, associated with breakpoints\", breakpoints)"
   ]
  },
  {
   "cell_type": "code",
   "execution_count": 100,
   "id": "03a1707e-3dbe-46e2-9474-6e5c83f9d620",
   "metadata": {},
   "outputs": [
    {
     "data": {
      "text/html": [
       "\n",
       "        <div>\n",
       "            <style scoped=\"\">\n",
       "                .tskit-table tbody tr th:only-of-type {vertical-align: middle;}\n",
       "                .tskit-table tbody tr th {vertical-align: top;}\n",
       "                .tskit-table tbody td {text-align: right;padding: 0.5em 0.5em;}\n",
       "                .tskit-table tbody th {padding: 0.5em 0.5em;}\n",
       "            </style>\n",
       "            <table border=\"1\" class=\"tskit-table\">\n",
       "                <thead>\n",
       "                    <tr>\n",
       "                        <th>id</th><th>site</th><th>node</th><th>time</th><th>derived_state</th><th>parent</th><th>metadata</th>\n",
       "                    </tr>\n",
       "                </thead>\n",
       "                <tbody>\n",
       "                    <tr><td>0</td><td>0</td><td>36</td><td>0.03431124</td><td>absent</td><td>-1</td><td></td></tr>\n",
       "<tr><td>1</td><td>0</td><td>0</td><td>0.00000000</td><td>absent</td><td>-1</td><td></td></tr>\n",
       "<tr><td>2</td><td>0</td><td>1</td><td>0.00000000</td><td>absent</td><td>-1</td><td></td></tr>\n",
       "<tr><td>3</td><td>0</td><td>2</td><td>0.00000000</td><td>absent</td><td>0</td><td></td></tr>\n",
       "<tr><td>4</td><td>0</td><td>3</td><td>0.00000000</td><td>absent</td><td>-1</td><td></td></tr>\n",
       "<tr><td>5</td><td>0</td><td>4</td><td>0.00000000</td><td>absent</td><td>-1</td><td></td></tr>\n",
       "<tr><td>6</td><td>1</td><td>407</td><td>0.40295404</td><td>absent</td><td>-1</td><td></td></tr>\n",
       "<tr><td>7</td><td>1</td><td>0</td><td>0.00000000</td><td>absent</td><td>-1</td><td></td></tr>\n",
       "<tr><td>8</td><td>1</td><td>1</td><td>0.00000000</td><td>absent</td><td>-1</td><td></td></tr>\n",
       "<tr><td>9</td><td>1</td><td>2</td><td>0.00000000</td><td>absent</td><td>-1</td><td></td></tr>\n",
       "<tr><td>10</td><td>1</td><td>3</td><td>0.00000000</td><td>absent</td><td>6</td><td></td></tr>\n",
       "<tr><td>11</td><td>1</td><td>4</td><td>0.00000000</td><td>absent</td><td>-1</td><td></td></tr>\n",
       "<tr><td>12</td><td>2</td><td>0</td><td>0.00000000</td><td>absent</td><td>-1</td><td></td></tr>\n",
       "<tr><td>13</td><td>2</td><td>1</td><td>0.00000000</td><td>absent</td><td>-1</td><td></td></tr>\n",
       "<tr><td>14</td><td>2</td><td>2</td><td>0.00000000</td><td>absent</td><td>-1</td><td></td></tr>\n",
       "<tr><td>15</td><td>2</td><td>3</td><td>0.00000000</td><td>absent</td><td>-1</td><td></td></tr>\n",
       "<tr><td>16</td><td>2</td><td>4</td><td>0.00000000</td><td>absent</td><td>-1</td><td></td></tr>\n",
       "<tr><td>17</td><td>3</td><td>676</td><td>0.76243905</td><td>absent</td><td>-1</td><td></td></tr>\n",
       "<tr><td>18</td><td>3</td><td>301</td><td>0.25705277</td><td>absent</td><td>-1</td><td></td></tr>\n",
       "<tr><td>19</td><td>3</td><td>0</td><td>0.00000000</td><td>absent</td><td>-1</td><td></td></tr>\n",
       "<tr><td style=\"text-align: center;\" colspan=\"104\"><em>87 rows skipped (tskit.set_print_options)</em></td></tr>\n",
       "<tr><td>107</td><td>18</td><td>387</td><td>0.37607842</td><td>absent</td><td>-1</td><td></td></tr>\n",
       "<tr><td>108</td><td>18</td><td>0</td><td>0.00000000</td><td>absent</td><td>-1</td><td></td></tr>\n",
       "<tr><td>109</td><td>18</td><td>1</td><td>0.00000000</td><td>absent</td><td>-1</td><td></td></tr>\n",
       "<tr><td>110</td><td>18</td><td>2</td><td>0.00000000</td><td>absent</td><td>-1</td><td></td></tr>\n",
       "<tr><td>111</td><td>18</td><td>3</td><td>0.00000000</td><td>absent</td><td>107</td><td></td></tr>\n",
       "<tr><td>112</td><td>18</td><td>4</td><td>0.00000000</td><td>absent</td><td>-1</td><td></td></tr>\n",
       "<tr><td>113</td><td>19</td><td>720</td><td>0.81125172</td><td>absent</td><td>-1</td><td></td></tr>\n",
       "<tr><td>114</td><td>19</td><td>0</td><td>0.00000000</td><td>absent</td><td>-1</td><td></td></tr>\n",
       "<tr><td>115</td><td>19</td><td>1</td><td>0.00000000</td><td>absent</td><td>-1</td><td></td></tr>\n",
       "<tr><td>116</td><td>19</td><td>2</td><td>0.00000000</td><td>absent</td><td>-1</td><td></td></tr>\n",
       "<tr><td>117</td><td>19</td><td>3</td><td>0.00000000</td><td>absent</td><td>113</td><td></td></tr>\n",
       "<tr><td>118</td><td>19</td><td>4</td><td>0.00000000</td><td>absent</td><td>-1</td><td></td></tr>\n",
       "<tr><td>119</td><td>20</td><td>247</td><td>0.21882762</td><td>absent</td><td>-1</td><td></td></tr>\n",
       "<tr><td>120</td><td>20</td><td>0</td><td>0.00000000</td><td>absent</td><td>-1</td><td></td></tr>\n",
       "<tr><td>121</td><td>20</td><td>1</td><td>0.00000000</td><td>absent</td><td>-1</td><td></td></tr>\n",
       "<tr><td>122</td><td>20</td><td>2</td><td>0.00000000</td><td>absent</td><td>119</td><td></td></tr>\n",
       "<tr><td>123</td><td>20</td><td>3</td><td>0.00000000</td><td>absent</td><td>-1</td><td></td></tr>\n",
       "<tr><td>124</td><td>20</td><td>4</td><td>0.00000000</td><td>absent</td><td>-1</td><td></td></tr>\n",
       "<tr><td>125</td><td>28</td><td>602</td><td>0.61941577</td><td>present</td><td>-1</td><td></td></tr>\n",
       "<tr><td>126</td><td>32</td><td>714</td><td>0.80392325</td><td>present</td><td>-1</td><td></td></tr>\n",
       "\n",
       "                </tbody>\n",
       "            </table>\n",
       "        </div>\n",
       "    "
      ],
      "text/plain": [
       "<tskit.tables.MutationTable at 0x24f21afb0e0>"
      ]
     },
     "execution_count": 100,
     "metadata": {},
     "output_type": "execute_result"
    }
   ],
   "source": [
    "# ts.tables.sites\n",
    "\n",
    "ts.tables.mutations"
   ]
  },
  {
   "cell_type": "code",
   "execution_count": 89,
   "id": "70b34104-1d76-4dba-adfa-ec06af0c2bc0",
   "metadata": {},
   "outputs": [
    {
     "name": "stdout",
     "output_type": "stream",
     "text": [
      "     Position  Sample Index  Genotype   Allele\n",
      "0        17.0             0         0   absent\n",
      "1        17.0             1         0   absent\n",
      "2        17.0             2         0   absent\n",
      "3        17.0             3         0   absent\n",
      "4        17.0             4         0   absent\n",
      "5        23.0             0         0   absent\n",
      "6        23.0             1         0   absent\n",
      "7        23.0             2         0   absent\n",
      "8        23.0             3         0   absent\n",
      "9        23.0             4         0   absent\n",
      "10       24.0             0         0   absent\n",
      "11       24.0             1         0   absent\n",
      "12       24.0             2         0   absent\n",
      "13       24.0             3         0   absent\n",
      "14       24.0             4         0   absent\n",
      "15       28.0             0         0   absent\n",
      "16       28.0             1         0   absent\n",
      "17       28.0             2         0   absent\n",
      "18       28.0             3         0   absent\n",
      "19       28.0             4         0   absent\n",
      "20       32.0             0         0   absent\n",
      "21       32.0             1         0   absent\n",
      "22       32.0             2         0   absent\n",
      "23       32.0             3         0   absent\n",
      "24       32.0             4         0   absent\n",
      "25       37.0             0         0   absent\n",
      "26       37.0             1         0   absent\n",
      "27       37.0             2         0   absent\n",
      "28       37.0             3         0   absent\n",
      "29       37.0             4         0   absent\n",
      "30       38.0             0         0   absent\n",
      "31       38.0             1         0   absent\n",
      "32       38.0             2         0   absent\n",
      "33       38.0             3         0   absent\n",
      "34       38.0             4         0   absent\n",
      "35       44.0             0         0   absent\n",
      "36       44.0             1         0   absent\n",
      "37       44.0             2         0   absent\n",
      "38       44.0             3         0   absent\n",
      "39       44.0             4         0   absent\n",
      "40       45.0             0         0   absent\n",
      "41       45.0             1         0   absent\n",
      "42       45.0             2         0   absent\n",
      "43       45.0             3         0   absent\n",
      "44       45.0             4         0   absent\n",
      "45       48.0             0         0   absent\n",
      "46       48.0             1         0   absent\n",
      "47       48.0             2         0   absent\n",
      "48       48.0             3         0   absent\n",
      "49       48.0             4         0   absent\n",
      "50       49.0             0         0   absent\n",
      "51       49.0             1         0   absent\n",
      "52       49.0             2         0   absent\n",
      "53       49.0             3         0   absent\n",
      "54       49.0             4         0   absent\n",
      "55       51.0             0         0  present\n",
      "56       51.0             1         0  present\n",
      "57       51.0             2         0  present\n",
      "58       51.0             3         0  present\n",
      "59       51.0             4         0  present\n",
      "60       54.0             0         0   absent\n",
      "61       54.0             1         0   absent\n",
      "62       54.0             2         0   absent\n",
      "63       54.0             3         0   absent\n",
      "64       54.0             4         0   absent\n",
      "65       55.0             0         0   absent\n",
      "66       55.0             1         0   absent\n",
      "67       55.0             2         0   absent\n",
      "68       55.0             3         0   absent\n",
      "69       55.0             4         0   absent\n",
      "70       56.0             0         0  present\n",
      "71       56.0             1         0  present\n",
      "72       56.0             2         0  present\n",
      "73       56.0             3         0  present\n",
      "74       56.0             4         0  present\n",
      "75       59.0             0         0   absent\n",
      "76       59.0             1         0   absent\n",
      "77       59.0             2         0   absent\n",
      "78       59.0             3         0   absent\n",
      "79       59.0             4         0   absent\n",
      "80       62.0             0         0   absent\n",
      "81       62.0             1         0   absent\n",
      "82       62.0             2         0   absent\n",
      "83       62.0             3         0   absent\n",
      "84       62.0             4         0   absent\n",
      "85       63.0             0         0   absent\n",
      "86       63.0             1         0   absent\n",
      "87       63.0             2         0   absent\n",
      "88       63.0             3         0   absent\n",
      "89       63.0             4         0   absent\n",
      "90       71.0             0         0   absent\n",
      "91       71.0             1         0   absent\n",
      "92       71.0             2         0   absent\n",
      "93       71.0             3         0   absent\n",
      "94       71.0             4         0   absent\n",
      "95       76.0             0         0   absent\n",
      "96       76.0             1         0   absent\n",
      "97       76.0             2         0   absent\n",
      "98       76.0             3         0   absent\n",
      "99       76.0             4         0   absent\n",
      "100      77.0             0         0   absent\n",
      "101      77.0             1         0   absent\n",
      "102      77.0             2         0   absent\n",
      "103      77.0             3         0   absent\n",
      "104      77.0             4         0   absent\n",
      "105      89.0             0         0   absent\n",
      "106      89.0             1         0   absent\n",
      "107      89.0             2         0   absent\n",
      "108      89.0             3         0   absent\n",
      "109      89.0             4         0   absent\n",
      "110      99.0             0         0   absent\n",
      "111      99.0             1         0   absent\n",
      "112      99.0             2         0   absent\n",
      "113      99.0             3         0   absent\n",
      "114      99.0             4         0   absent\n",
      "115     102.0             0         0   absent\n",
      "116     102.0             1         0   absent\n",
      "117     102.0             2         0   absent\n",
      "118     102.0             3         0   absent\n",
      "119     102.0             4         0   absent\n",
      "120     103.0             0         0   absent\n",
      "121     103.0             1         0   absent\n",
      "122     103.0             2         0   absent\n",
      "123     103.0             3         0   absent\n",
      "124     103.0             4         0   absent\n",
      "125     119.0             0         0   absent\n",
      "126     119.0             1         0   absent\n",
      "127     119.0             2         0   absent\n",
      "128     119.0             3         0   absent\n",
      "129     119.0             4         0   absent\n",
      "130     120.0             0         0   absent\n",
      "131     120.0             1         0   absent\n",
      "132     120.0             2         0   absent\n",
      "133     120.0             3         0   absent\n",
      "134     120.0             4         0   absent\n",
      "135     123.0             0         0   absent\n",
      "136     123.0             1         0   absent\n",
      "137     123.0             2         0   absent\n",
      "138     123.0             3         0   absent\n",
      "139     123.0             4         0   absent\n",
      "140     142.0             0         0   absent\n",
      "141     142.0             1         0   absent\n",
      "142     142.0             2         0   absent\n",
      "143     142.0             3         1  present\n",
      "144     142.0             4         0   absent\n",
      "145     144.0             0         0   absent\n",
      "146     144.0             1         0   absent\n",
      "147     144.0             2         0   absent\n",
      "148     144.0             3         0   absent\n",
      "149     144.0             4         0   absent\n",
      "150     147.0             0         0   absent\n",
      "151     147.0             1         0   absent\n",
      "152     147.0             2         0   absent\n",
      "153     147.0             3         0   absent\n",
      "154     147.0             4         0   absent\n",
      "155     148.0             0         0   absent\n",
      "156     148.0             1         0   absent\n",
      "157     148.0             2         0   absent\n",
      "158     148.0             3         0   absent\n",
      "159     148.0             4         0   absent\n",
      "160     150.0             0         1  present\n",
      "161     150.0             1         1  present\n",
      "162     150.0             2         1  present\n",
      "163     150.0             3         0   absent\n",
      "164     150.0             4         1  present\n",
      "165     154.0             0         0   absent\n",
      "166     154.0             1         0   absent\n",
      "167     154.0             2         0   absent\n",
      "168     154.0             3         0   absent\n",
      "169     154.0             4         0   absent\n",
      "170     161.0             0         0   absent\n",
      "171     161.0             1         0   absent\n",
      "172     161.0             2         0   absent\n",
      "173     161.0             3         0   absent\n",
      "174     161.0             4         0   absent\n",
      "175     163.0             0         0   absent\n",
      "176     163.0             1         0   absent\n",
      "177     163.0             2         0   absent\n",
      "178     163.0             3         0   absent\n",
      "179     163.0             4         0   absent\n",
      "180     164.0             0         0   absent\n",
      "181     164.0             1         0   absent\n",
      "182     164.0             2         0   absent\n",
      "183     164.0             3         0   absent\n",
      "184     164.0             4         0   absent\n",
      "185     173.0             0         0   absent\n",
      "186     173.0             1         0   absent\n",
      "187     173.0             2         0   absent\n",
      "188     173.0             3         0   absent\n",
      "189     173.0             4         0   absent\n",
      "190     190.0             0         0   absent\n",
      "191     190.0             1         0   absent\n",
      "192     190.0             2         0   absent\n",
      "193     190.0             3         0   absent\n",
      "194     190.0             4         0   absent\n",
      "195     191.0             0         0   absent\n",
      "196     191.0             1         0   absent\n",
      "197     191.0             2         0   absent\n",
      "198     191.0             3         0   absent\n",
      "199     191.0             4         0   absent\n",
      "200     199.0             0         0   absent\n",
      "201     199.0             1         0   absent\n",
      "202     199.0             2         0   absent\n",
      "203     199.0             3         0   absent\n",
      "204     199.0             4         0   absent\n"
     ]
    }
   ],
   "source": [
    "import pandas as pd\n",
    "\n",
    "mutated_ts = ts\n",
    "# Liste, in der die Mutationsdaten gespeichert werden\n",
    "mutation_data = []\n",
    "\n",
    "pd.set_option('display.max_rows', None)  # Zeigt alle Zeilen an\n",
    "pd.set_option('display.max_columns', None)  # Zeigt alle Spalten an\n",
    "\n",
    "# Durchlaufe alle Varianten (Mutationen)\n",
    "for variant in mutated_ts.variants():\n",
    "    position = variant.site.position\n",
    "    alleles = variant.alleles\n",
    "    for sample_index, genotype in enumerate(variant.genotypes):\n",
    "        allele = alleles[genotype]\n",
    "        mutation_data.append({\n",
    "            \"Position\": position,\n",
    "            \"Sample Index\": sample_index,\n",
    "            \"Genotype\": genotype,\n",
    "            \"Allele\": allele\n",
    "        })\n",
    "\n",
    "# Erstelle ein DataFrame aus den Mutationsdaten\n",
    "mutation_df = pd.DataFrame(mutation_data)\n",
    "\n",
    "# Druck die Tabelle\n",
    "print(mutation_df)"
   ]
  },
  {
   "cell_type": "code",
   "execution_count": 23,
   "id": "63b1a8a9-bbb7-4aa8-87b4-2a9dc7f1ae6a",
   "metadata": {},
   "outputs": [
    {
     "name": "stdout",
     "output_type": "stream",
     "text": [
      "Node 7's parent is 10 and childen are (1, 5) in the first tree\n",
      "     39  \n",
      "    ┏━┻━┓\n",
      "   36   ┃\n",
      "    ┃   ┃\n",
      "    ┃  31\n",
      "    ┃   ┃\n",
      "    ┃  28\n",
      "    ┃   ┃\n",
      "    ┃  24\n",
      "    ┃   ┃\n",
      "   23   ┃\n",
      "  ┏━┻━┓ ┃\n",
      "  ┃  19 ┃\n",
      "  ┃   ┃ ┃\n",
      "  ┃   ┃16\n",
      "  ┃   ┃ ┃\n",
      "  ┃   ┃13\n",
      "  ┃   ┃ ┃\n",
      " 10   ┃ ┃\n",
      "  ┃   ┃ ┃\n",
      "  ┃   7 ┃\n",
      "  ┃   ┃ ┃\n",
      "  6   ┃ ┃\n",
      " ┏┻━┓ ┃ ┃\n",
      " 5  ┃ ┃ ┃\n",
      "┏┻┓ ┃ ┃ ┃\n",
      "0 3 1 2 4\n",
      "\n"
     ]
    }
   ],
   "source": [
    "first_tree = ts.first()\n",
    "parent_of_7 = first_tree.parent(6)\n",
    "children_of_7 = first_tree.children(6)\n",
    "print(\"Node 7's parent is\", parent_of_7, \"and childen are\", children_of_7, \"in the first tree\")\n",
    "print(first_tree.draw_text())"
   ]
  },
  {
   "cell_type": "code",
   "execution_count": 24,
   "id": "22d89829-1bae-4124-83a0-4f3fbcd0a7e3",
   "metadata": {},
   "outputs": [
    {
     "name": "stdout",
     "output_type": "stream",
     "text": [
      "Site(id=0, position=0.0, ancestral_state='present', mutations=[Mutation(id=0, site=0, node=1, derived_state='absent', parent=-1, metadata=b'', time=0.04115098429061284, edge=2), Mutation(id=1, site=0, node=0, derived_state='present', parent=-1, metadata=b'', time=1e-11, edge=0), Mutation(id=2, site=0, node=1, derived_state='absent', parent=0, metadata=b'', time=1e-11, edge=2), Mutation(id=3, site=0, node=2, derived_state='present', parent=-1, metadata=b'', time=1e-11, edge=4), Mutation(id=4, site=0, node=3, derived_state='present', parent=-1, metadata=b'', time=1e-11, edge=1), Mutation(id=5, site=0, node=4, derived_state='present', parent=-1, metadata=b'', time=1e-11, edge=8)], metadata=b'')\n"
     ]
    }
   ],
   "source": [
    "print(ts.site(0))  # For convenience, the Python API also returns the mutations at the site"
   ]
  }
 ],
 "metadata": {
  "kernelspec": {
   "display_name": "pangenome-gene-transfer-simulation",
   "language": "python",
   "name": "pangenome-gene-transfer-simulation"
  },
  "language_info": {
   "codemirror_mode": {
    "name": "ipython",
    "version": 3
   },
   "file_extension": ".py",
   "mimetype": "text/x-python",
   "name": "python",
   "nbconvert_exporter": "python",
   "pygments_lexer": "ipython3",
   "version": "3.12.1"
  }
 },
 "nbformat": 4,
 "nbformat_minor": 5
}
