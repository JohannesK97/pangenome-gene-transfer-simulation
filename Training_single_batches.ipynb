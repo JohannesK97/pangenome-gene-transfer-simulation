{
 "cells": [
  {
   "cell_type": "code",
   "execution_count": 53,
   "id": "482e89b0-1930-4213-a09d-7aa6f5e937ae",
   "metadata": {},
   "outputs": [],
   "source": [
    "import torch.nn as nn\n",
    "from sbi.inference import SNPE\n",
    "from torch.utils.data import DataLoader\n",
    "import torch\n",
    "from torch.utils.data import Dataset\n",
    "import h5py\n",
    "import glob\n",
    "import numpy as np\n",
    "from advanced_simulator_h5 import reconstruct_distance_matrix\n",
    "import torch.nn.functional as F\n",
    "from sbi import utils\n",
    "from sbi.neural_nets import posterior_nn\n",
    "import os\n",
    "\n",
    "# Funktion: Flatten und concat Beobachtungen zu 2D Tensor [B, FeatureDim]\n",
    "def flatten_and_concat(gene_tensor, allele_tensor, distances_tensor, fitch_tensor):\n",
    "    B = gene_tensor.shape[0]\n",
    "    gene_flat = gene_tensor.view(B, -1)                    # [B, 1000]\n",
    "    allele_flat = allele_tensor.view(B, -1)                # [B, 1000,1000 = 1,000,000]\n",
    "    distances_flat = distances_tensor.view(B, -1)          # [B, 1,000,000]\n",
    "    fitch_flat = fitch_tensor.view(B, -1)                  # [B, 1]\n",
    "    combined = torch.cat([gene_flat, allele_flat, distances_flat, fitch_flat], dim=1)  # [B, 2,001,001]\n",
    "    return combined\n",
    "\n",
    "\n",
    "def unflatten_and_split(x: torch.Tensor, num_samples: int, multidimensional_scaling_dimensions: int) -> tuple:\n",
    "    \"\"\"\n",
    "    Zerlegt einen flach kombinierten Tensor wieder in seine Einzelbestandteile:\n",
    "    - gene presence/absence matrix\n",
    "    - allele PCA matrix\n",
    "    - distance matrix\n",
    "    - fitch score\n",
    "\n",
    "    Args:\n",
    "        x: Tensor der Form (B, N), der alle Komponenten enthält.\n",
    "        alleles_shape: Tuple (A0, A1) — Form der Allele und Distance-Matrix.\n",
    "\n",
    "    Returns:\n",
    "        Tuple aus:\n",
    "        - gene_tensor: (B, 1, A1)\n",
    "        - allele_tensor: (B, 1, A0, A1)\n",
    "        - distance_tensor: (B, 1, A0, A1)\n",
    "        - fitch_tensor: (B, 1)\n",
    "    \"\"\"\n",
    "    B = x.shape[0]\n",
    "    G = num_samples\n",
    "    A0, A1 = num_samples, multidimensional_scaling_dimensions\n",
    "    D0, D1 = num_samples, multidimensional_scaling_dimensions\n",
    "\n",
    "    gene_len = G\n",
    "    allele_len = A0 * A1\n",
    "    distance_len = D0 * D1\n",
    "\n",
    "    gene_flat = x[:, :gene_len].view(B, 1, G)\n",
    "\n",
    "    allele_start = gene_len\n",
    "    allele_end = allele_start + allele_len\n",
    "    allele_flat = x[:, allele_start:allele_end].view(B, 1, A0, A1)\n",
    "\n",
    "    distance_start = allele_end\n",
    "    distance_end = distance_start + distance_len\n",
    "    distance_flat = x[:, distance_start:distance_end].view(B, 1, D0, D1)\n",
    "\n",
    "    fitch_flat = x[:, distance_end:].view(B, 1)\n",
    "\n",
    "    return gene_flat, allele_flat, distance_flat, fitch_flat\n",
    "    \n",
    "class NeuralNetwork(nn.Module):\n",
    "    def __init__(self, num_samples, multidimensional_scaling_dimensions):\n",
    "        super().__init__()\n",
    "        \n",
    "        self.num_samples = num_samples\n",
    "        self.multidimensional_scaling_dimensions = multidimensional_scaling_dimensions\n",
    "\n",
    "        self.Softplus = nn.Softplus()\n",
    "\n",
    "        self.conv1d = nn.Conv1d(in_channels=1, out_channels=16, kernel_size=3, padding=0)\n",
    "        \n",
    "        dummy_input = torch.zeros(1, 1, num_samples)  # B=1, C=1, L=num_samples\n",
    "        conv1d_out_dim = self.conv1d(dummy_input).view(1, -1).shape[1]\n",
    "\n",
    "        self.pointwise_combine_allele_distance = nn.Conv2d(in_channels=2*3, out_channels=8, kernel_size=1)\n",
    "        \n",
    "        dummy_input = torch.zeros(1, 1, num_samples, num_samples)\n",
    "        out = self.min_max_avg_conv2d(dummy_input)\n",
    "        out_combined = torch.cat([out, out], dim=1)\n",
    "        conv2d_out_dim = self.pointwise_combine_allele_distance(out_combined).view(1, -1).shape[1]\n",
    "\n",
    "        total_input_dim = conv1d_out_dim + conv2d_out_dim + 1 \n",
    "\n",
    "        self.fc = nn.Sequential(\n",
    "            nn.Linear(total_input_dim, 128),\n",
    "            nn.ReLU(),\n",
    "            nn.Linear(128, 128),\n",
    "            nn.ReLU(),\n",
    "            nn.Linear(128, 3),\n",
    "            nn.Softplus()\n",
    "        )\n",
    "        \n",
    "    def min_max_avg_conv2d(self, x, kernel_size=5, stride=3, padding=0):\n",
    "        \"\"\"\n",
    "        x: Tensor mit Shape [B, C, H, W]\n",
    "        Kernel: z.B. 3x3\n",
    "        Output: Tensor mit Shape [B, C*3, H_out, W_out], wobei für jeden Kanal\n",
    "                Minimum, Maximum, Average über das jeweilige Fenster berechnet werden.\n",
    "        \"\"\"\n",
    "    \n",
    "        B, C, H, W = x.shape\n",
    "    \n",
    "        # 1. Unfold: extrahiere alle Fenster als Spalten\n",
    "        # Ergebnis: [B, C * kernel_size*kernel_size, L], L = Anzahl Fenster = H_out * W_out\n",
    "        x_unfold = F.unfold(x, kernel_size=kernel_size, stride=stride, padding=padding)\n",
    "        # Shape: [B, C * k*k, L]\n",
    "    \n",
    "        k = kernel_size * kernel_size\n",
    "        L = x_unfold.shape[-1]\n",
    "    \n",
    "        # 2. reshape zu [B, C, k*k, L]\n",
    "        x_unfold = x_unfold.view(B, C, k, L)\n",
    "    \n",
    "        # 3. min, max, avg entlang Dimension k (Fenstergröße)\n",
    "        min_vals = x_unfold.min(dim=2)[0]   # [B, C, L]\n",
    "        max_vals = x_unfold.max(dim=2)[0]   # [B, C, L]\n",
    "        avg_vals = x_unfold.mean(dim=2)     # [B, C, L]\n",
    "    \n",
    "        # 4. Concatenate diese 3 Werte pro Kanal\n",
    "        out = torch.cat([min_vals, max_vals, avg_vals], dim=1)  # [B, C*3, L]\n",
    "    \n",
    "        # 5. Fold zurück zu Bild: Größe (H_out, W_out)\n",
    "        H_out = (H + 2*padding - kernel_size)//stride + 1\n",
    "        W_out = (W + 2*padding - kernel_size)//stride + 1\n",
    "    \n",
    "        out = out.view(B, C*3, H_out, W_out)\n",
    "        return self.Softplus(out)\n",
    "        \n",
    "    def forward(self, x):\n",
    "        \"\"\"\n",
    "        x: shape [B, total_features]\n",
    "        \"\"\"\n",
    "        B = x.shape[0]\n",
    "        \n",
    "        gene_flat, allele_flat, distance_flat, fitch_flat = unflatten_and_split(x, self.num_samples, self.multidimensional_scaling_dimensions)\n",
    "\n",
    "        allele_flat = allele_flat.squeeze(1)     # [B, 100, 50]\n",
    "        distance_flat = distance_flat.squeeze(1) # [B, 100, 50]\n",
    "    \n",
    "        allele_processed_list = []\n",
    "        distance_processed_list = []\n",
    "    \n",
    "        for i in range(B):\n",
    "            allele_processed = reconstruct_distance_matrix(\n",
    "                allele_flat[i],  # shape [100, 50]\n",
    "                gene_absence_presence=gene_flat[i].squeeze()  # ggf. anpassen\n",
    "            )\n",
    "            distance_processed = reconstruct_distance_matrix(\n",
    "                distance_flat[i],  # shape [100, 50]\n",
    "                gene_absence_presence=None\n",
    "            )\n",
    "    \n",
    "            allele_processed_list.append(torch.tensor(allele_processed, dtype=torch.float32))\n",
    "            distance_processed_list.append(torch.tensor(distance_processed, dtype=torch.float32))\n",
    "    \n",
    "        # Stapeln zu Tensor zurück\n",
    "        allele_flat_processed = torch.stack(allele_processed_list)    # [B, H, W]\n",
    "        distance_flat_processed = torch.stack(distance_processed_list) # [B, H, W]\n",
    "\n",
    "        allele_flat_processed = allele_flat_processed.unsqueeze(1)    \n",
    "        distance_flat_processed = distance_flat_processed.unsqueeze(1)\n",
    "    \n",
    "        # Jetzt kannst du Conv2d Layer darauf anwenden\n",
    "        allele_flat_conv_out = self.min_max_avg_conv2d(allele_flat_processed)\n",
    "        distance_flat_conv_out = self.min_max_avg_conv2d(distance_flat_processed)\n",
    "    \n",
    "        gene_flat_conv_out = self.conv1d(gene_flat)\n",
    "\n",
    "        allele_distance_combined = torch.cat([allele_flat_conv_out, distance_flat_conv_out], dim=1)\n",
    "        \n",
    "        allele_distance_combined_conv_out = self.pointwise_combine_allele_distance(allele_distance_combined)\n",
    "        \n",
    "        # --- Kombination\n",
    "\n",
    "        parts = [gene_flat_conv_out, allele_distance_combined_conv_out, fitch_flat]\n",
    "\n",
    "        parts = [p.view(p.size(0), -1) for p in parts]\n",
    "        \n",
    "        x = torch.cat(parts, dim=-1)\n",
    "        \n",
    "        return self.fc(x)\n",
    "\n",
    "class H5SimulationDataset(Dataset):\n",
    "    def __init__(self, files_or_dir):\n",
    "        if isinstance(files_or_dir, str):  # ein Pfad\n",
    "            self.files = sorted(glob.glob(f\"{files_or_dir}/*.h5\"))\n",
    "        elif isinstance(files_or_dir, list):  # eine Liste von Dateipfaden\n",
    "            self.files = sorted(files_or_dir)\n",
    "        else:\n",
    "            raise ValueError(\"Expected str (directory) or list (files) for files_or_dir.\")\n",
    "\n",
    "    def __len__(self):\n",
    "        return len(self.files)\n",
    "\n",
    "    def __getitem__(self, idx):\n",
    "        file = self.files[idx]\n",
    "        with h5py.File(file, \"r\") as f:\n",
    "            grp = f[\"results\"]\n",
    "            hgt_rate = grp.attrs[\"hgt_rate\"]\n",
    "            rho = grp.attrs[\"rho\"]\n",
    "            gene_number_hgt_events_passed = grp.attrs[\"gene_number_hgt_events_passed\"]\n",
    "            fitch_score = grp.attrs[\"fitch_score\"]\n",
    "            \n",
    "            gene_absence_presence = grp[\"matrix\"][:]\n",
    "            distance_matrix = grp[\"distance_matrix\"][:]\n",
    "            #reconstructed_distance_matrix = reconstruct_distance_matrix(distance_matrix, gene_absence_presence=None)\n",
    "            reconstructed_distance_matrix = distance_matrix\n",
    "            \n",
    "            # PCA-Matrizen\n",
    "            alleles_list_pca = []\n",
    "            pca_keys = [key for key in grp.keys() if key.startswith(\"alleles_list_pca_\")]\n",
    "            pca_keys.sort()\n",
    "            for key in pca_keys:\n",
    "                alleles_pca_raw = grp[key][:]\n",
    "                idx = int(key.split(\"_\")[-1])\n",
    "                \"\"\"\n",
    "                alleles_pca_reconstructed = reconstruct_distance_matrix(\n",
    "                        alleles_pca_raw,\n",
    "                        gene_absence_presence = gene_absence_presence[idx]\n",
    "                    )\n",
    "                \"\"\"\n",
    "                alleles_pca_reconstructed = alleles_pca_raw\n",
    "                alleles_list_pca.append(alleles_pca_reconstructed)\n",
    "\n",
    "        # Als Torch-Tensoren\n",
    "        gene_absence_presence = torch.tensor(gene_absence_presence, dtype=torch.float32)\n",
    "        distance_matrix = torch.tensor(reconstructed_distance_matrix, dtype=torch.float32)\n",
    "        alleles_list_pca = torch.tensor(np.stack(alleles_list_pca), dtype=torch.float32)\n",
    "        fitch_score = torch.tensor(fitch_score, dtype=torch.float32)\n",
    "\n",
    "        theta = torch.tensor([hgt_rate, rho, gene_number_hgt_events_passed], dtype=torch.float32)\n",
    "\n",
    "        return {\n",
    "            \"gene_absence_presence\": torch.tensor(gene_absence_presence, dtype=torch.float32),\n",
    "            \"alleles_list_pca\": torch.tensor(alleles_list_pca, dtype=torch.float32),\n",
    "            \"distance_matrix\": torch.tensor(distance_matrix, dtype=torch.float32),\n",
    "            \"fitch_score\": torch.tensor(fitch_score, dtype=torch.float32),\n",
    "            \"theta\": theta\n",
    "        }\n",
    "\n"
   ]
  },
  {
   "cell_type": "code",
   "execution_count": 3,
   "id": "f48e17cd-f900-4f45-8a08-a3c10c00471c",
   "metadata": {},
   "outputs": [
    {
     "name": "stdout",
     "output_type": "stream",
     "text": [
      "20101\n",
      "torch.Size([100, 100])\n"
     ]
    },
    {
     "name": "stderr",
     "output_type": "stream",
     "text": [
      "C:\\Users\\uhewm\\AppData\\Local\\Temp\\ipykernel_3940\\2674638720.py:203: DeprecationWarning: Conversion of an array with ndim > 0 to a scalar is deprecated, and will error in future. Ensure you extract a single element from your array before performing this operation. (Deprecated NumPy 1.25.)\n",
      "  theta = torch.tensor([hgt_rate, rho, gene_number_hgt_events_passed], dtype=torch.float32)\n",
      "C:\\Users\\uhewm\\AppData\\Local\\Temp\\ipykernel_3940\\2674638720.py:206: UserWarning: To copy construct from a tensor, it is recommended to use sourceTensor.clone().detach() or sourceTensor.clone().detach().requires_grad_(True), rather than torch.tensor(sourceTensor).\n",
      "  \"gene_absence_presence\": torch.tensor(gene_absence_presence, dtype=torch.float32),\n",
      "C:\\Users\\uhewm\\AppData\\Local\\Temp\\ipykernel_3940\\2674638720.py:207: UserWarning: To copy construct from a tensor, it is recommended to use sourceTensor.clone().detach() or sourceTensor.clone().detach().requires_grad_(True), rather than torch.tensor(sourceTensor).\n",
      "  \"alleles_list_pca\": torch.tensor(alleles_list_pca, dtype=torch.float32),\n",
      "C:\\Users\\uhewm\\AppData\\Local\\Temp\\ipykernel_3940\\2674638720.py:208: UserWarning: To copy construct from a tensor, it is recommended to use sourceTensor.clone().detach() or sourceTensor.clone().detach().requires_grad_(True), rather than torch.tensor(sourceTensor).\n",
      "  \"distance_matrix\": torch.tensor(distance_matrix, dtype=torch.float32),\n",
      "C:\\Users\\uhewm\\AppData\\Local\\Temp\\ipykernel_3940\\2674638720.py:209: UserWarning: To copy construct from a tensor, it is recommended to use sourceTensor.clone().detach() or sourceTensor.clone().detach().requires_grad_(True), rather than torch.tensor(sourceTensor).\n",
      "  \"fitch_score\": torch.tensor(fitch_score, dtype=torch.float32),\n"
     ]
    }
   ],
   "source": [
    "for batch in loader:\n",
    "    gene_absence_presence = batch[\"gene_absence_presence\"]\n",
    "    alleles_list_pca = batch[\"alleles_list_pca\"]\n",
    "    distance_matrix = batch[\"distance_matrix\"]\n",
    "    fitch_score = batch[\"fitch_score\"]\n",
    "    theta = batch[\"theta\"]\n",
    "\n",
    "x = flatten_and_concat(\n",
    "    gene_absence_presence,\n",
    "    alleles_list_pca,\n",
    "    distance_matrix,\n",
    "    fitch_score.unsqueeze(1)\n",
    ")\n",
    "\n",
    "print(len(x[0]))\n",
    "\n",
    "dataset = H5SimulationDataset(chunk_files)\n",
    "loader = DataLoader(dataset, batch_size=32, shuffle=False, num_workers=0)\n",
    "\n",
    "print(dataset[0]['distance_matrix'].size())"
   ]
  },
  {
   "cell_type": "code",
   "execution_count": 75,
   "id": "dd9142b0-bf50-4ffa-bd4f-b75789e060a6",
   "metadata": {},
   "outputs": [
    {
     "name": "stdout",
     "output_type": "stream",
     "text": [
      "\n",
      "=== Bearbeite Chunk 1 mit 400 Dateien ===\n"
     ]
    },
    {
     "name": "stderr",
     "output_type": "stream",
     "text": [
      "C:\\Users\\uhewm\\AppData\\Local\\Temp\\ipykernel_3940\\1405035236.py:255: DeprecationWarning: Conversion of an array with ndim > 0 to a scalar is deprecated, and will error in future. Ensure you extract a single element from your array before performing this operation. (Deprecated NumPy 1.25.)\n",
      "  theta = torch.tensor([hgt_rate, rho, gene_number_hgt_events_passed], dtype=torch.float32)\n",
      "C:\\Users\\uhewm\\AppData\\Local\\Temp\\ipykernel_3940\\1405035236.py:258: UserWarning: To copy construct from a tensor, it is recommended to use sourceTensor.clone().detach() or sourceTensor.clone().detach().requires_grad_(True), rather than torch.tensor(sourceTensor).\n",
      "  \"gene_absence_presence\": torch.tensor(gene_absence_presence, dtype=torch.float32),\n",
      "C:\\Users\\uhewm\\AppData\\Local\\Temp\\ipykernel_3940\\1405035236.py:259: UserWarning: To copy construct from a tensor, it is recommended to use sourceTensor.clone().detach() or sourceTensor.clone().detach().requires_grad_(True), rather than torch.tensor(sourceTensor).\n",
      "  \"alleles_list_pca\": torch.tensor(alleles_list_pca, dtype=torch.float32),\n",
      "C:\\Users\\uhewm\\AppData\\Local\\Temp\\ipykernel_3940\\1405035236.py:260: UserWarning: To copy construct from a tensor, it is recommended to use sourceTensor.clone().detach() or sourceTensor.clone().detach().requires_grad_(True), rather than torch.tensor(sourceTensor).\n",
      "  \"distance_matrix\": torch.tensor(distance_matrix, dtype=torch.float32),\n",
      "C:\\Users\\uhewm\\AppData\\Local\\Temp\\ipykernel_3940\\1405035236.py:261: UserWarning: To copy construct from a tensor, it is recommended to use sourceTensor.clone().detach() or sourceTensor.clone().detach().requires_grad_(True), rather than torch.tensor(sourceTensor).\n",
      "  \"fitch_score\": torch.tensor(fitch_score, dtype=torch.float32),\n"
     ]
    },
    {
     "name": "stdout",
     "output_type": "stream",
     "text": [
      " Neural network successfully converged after 62 epochs.✔ Chunk 1 abgeschlossen und Posterior gespeichert.\n",
      "\n",
      "=== Bearbeite Chunk 2 mit 368 Dateien ===\n",
      "Using SNPE-C with atomic loss\n",
      " Neural network successfully converged after 62 epochs.✔ Chunk 2 abgeschlossen und Posterior gespeichert.\n",
      "\n",
      "=== Alle Chunks abgeschlossen! ===\n"
     ]
    }
   ],
   "source": [
    "# === Parameter ===\n",
    "output_dir = r\"C:\\Users\\uhewm\\Desktop\\SBI_Data\\simulation_chunks\"\n",
    "all_files = glob.glob(os.path.join(output_dir, \"*.h5\"))\n",
    "\n",
    "hgt_rate_max = 20 # Maximum hgt rate\n",
    "hgt_rate_min = 0 # Minimum hgt rate\n",
    "\n",
    "rho_max = 3 # Maximum gene loss rate\n",
    "rho_min = 0 # Minimum gene loss rate\n",
    "\n",
    "num_samples = 100\n",
    "multidimensional_scaling_dimensions = 50\n",
    "\n",
    "# CHUNK-GRÖSSE\n",
    "chunk_size = 400\n",
    "\n",
    "# Dein Prior\n",
    "prior = utils.BoxUniform(\n",
    "    low=torch.tensor([hgt_rate_min, rho_min, 0.0]),\n",
    "    high=torch.tensor([hgt_rate_max, rho_max, 1000.0])  # je nach Parameter\n",
    ")\n",
    "\n",
    "# === DEIN EMBEDDING ===\n",
    "embedding_net = NeuralNetwork(num_samples=num_samples, multidimensional_scaling_dimensions=multidimensional_scaling_dimensions)\n",
    "\n",
    "# === INITIALISIERE SNPE ===\n",
    "neural_posterior = posterior_nn(\n",
    "    model=\"maf\",\n",
    "    embedding_net=embedding_net,\n",
    "    hidden_features=64,\n",
    "    num_transforms=4\n",
    ")\n",
    "inference = SNPE(prior=prior, density_estimator=neural_posterior)\n",
    "\n",
    "posterior = None  # Initialwert für ersten Durchlauf\n",
    "\n",
    "batch_size = 32  # Passe je nach GPU-Speicher an\n",
    "\n",
    "for chunk_idx in range(0, len(all_files), chunk_size):\n",
    "    chunk_files = all_files[chunk_idx : chunk_idx + chunk_size]\n",
    "    dataset = H5SimulationDataset(chunk_files)\n",
    "    loader = DataLoader(dataset, batch_size=batch_size, shuffle=True, num_workers=0)  # ggf. num_workers anpassen\n",
    "\n",
    "    print(f\"\\n=== Bearbeite Chunk {chunk_idx // chunk_size + 1} mit {len(chunk_files)} Dateien ===\")\n",
    "\n",
    "    x_buffer, theta_buffer = [], []\n",
    "\n",
    "    for batch in loader:\n",
    "        gene_absence_presence = batch[\"gene_absence_presence\"]\n",
    "        alleles_list_pca = batch[\"alleles_list_pca\"]\n",
    "        distance_matrix = batch[\"distance_matrix\"]\n",
    "        fitch_score = batch[\"fitch_score\"]\n",
    "        theta = batch[\"theta\"]\n",
    "\n",
    "        x = flatten_and_concat(\n",
    "            gene_absence_presence,\n",
    "            alleles_list_pca,\n",
    "            distance_matrix,\n",
    "            fitch_score.unsqueeze(1)\n",
    "        )\n",
    "\n",
    "        x_buffer.append(x)\n",
    "        theta_buffer.append(theta)\n",
    "\n",
    "    if len(x_buffer) < chunk_size:\n",
    "        print(\"Nicht genug Datenpunkte zum Trainieren in diesem Chunk!\")\n",
    "        continue\n",
    "\n",
    "    # Stapelweise zusammenführen\n",
    "    x_all = torch.cat(x_buffer, dim=0)\n",
    "    theta_all = torch.cat(theta_buffer, dim=0)\n",
    "\n",
    "    # Simulationen anhängen\n",
    "    if chunk_idx == 0:\n",
    "        inference.append_simulations(theta_all, x_all)\n",
    "    else:\n",
    "        inference.append_simulations(theta_all, x_all, proposal=posterior, exclude_invalid_x=True)\n",
    "\n",
    "    # === TRAINIEREN UND POSTERIOR ERSTELLEN ===\n",
    "    density_estimator = inference.train(\n",
    "        dataloader_kwargs={\"batch_size\": batch_size, \"num_workers\": 4},\n",
    "        #validation_fraction= max(1/x_all.shape[0], 1e-1),\n",
    "        force_first_round_loss=(chunk_idx == 0),\n",
    "        resume_training=(chunk_idx > 0)\n",
    "    )\n",
    "    posterior = inference.build_posterior(density_estimator)\n",
    "\n",
    "    # WICHTIG: x_o setzen, damit der Posterior als Proposal verwendet werden kann\n",
    "    posterior.set_default_x(x_all[0])\n",
    "\n",
    "    # === SPEICHERN ===\n",
    "    #torch.save(posterior.state_dict(), f\"posterior_chunk_{chunk_idx // chunk_size + 1}.pt\")\n",
    "    print(f\"✔ Chunk {chunk_idx // chunk_size + 1} abgeschlossen und Posterior gespeichert.\")\n",
    "\n",
    "print(\"\\n=== Alle Chunks abgeschlossen! ===\")\n"
   ]
  },
  {
   "cell_type": "code",
   "execution_count": 71,
   "id": "d3c68979-6aee-4cff-be8c-c4792145a323",
   "metadata": {},
   "outputs": [
    {
     "data": {
      "text/plain": [
       "100"
      ]
     },
     "execution_count": 71,
     "metadata": {},
     "output_type": "execute_result"
    }
   ],
   "source": [
    "x_all.shape[0]"
   ]
  },
  {
   "cell_type": "code",
   "execution_count": 78,
   "id": "c359aeae-60f8-42a0-81e1-2e5f8ec0adde",
   "metadata": {},
   "outputs": [
    {
     "name": "stdout",
     "output_type": "stream",
     "text": [
      "\n",
      "=== Bearbeite Chunk 1 mit 100 Dateien ===\n"
     ]
    },
    {
     "name": "stderr",
     "output_type": "stream",
     "text": [
      "C:\\Users\\uhewm\\AppData\\Local\\Temp\\ipykernel_3940\\1405035236.py:255: DeprecationWarning: Conversion of an array with ndim > 0 to a scalar is deprecated, and will error in future. Ensure you extract a single element from your array before performing this operation. (Deprecated NumPy 1.25.)\n",
      "  theta = torch.tensor([hgt_rate, rho, gene_number_hgt_events_passed], dtype=torch.float32)\n",
      "C:\\Users\\uhewm\\AppData\\Local\\Temp\\ipykernel_3940\\1405035236.py:258: UserWarning: To copy construct from a tensor, it is recommended to use sourceTensor.clone().detach() or sourceTensor.clone().detach().requires_grad_(True), rather than torch.tensor(sourceTensor).\n",
      "  \"gene_absence_presence\": torch.tensor(gene_absence_presence, dtype=torch.float32),\n",
      "C:\\Users\\uhewm\\AppData\\Local\\Temp\\ipykernel_3940\\1405035236.py:259: UserWarning: To copy construct from a tensor, it is recommended to use sourceTensor.clone().detach() or sourceTensor.clone().detach().requires_grad_(True), rather than torch.tensor(sourceTensor).\n",
      "  \"alleles_list_pca\": torch.tensor(alleles_list_pca, dtype=torch.float32),\n",
      "C:\\Users\\uhewm\\AppData\\Local\\Temp\\ipykernel_3940\\1405035236.py:260: UserWarning: To copy construct from a tensor, it is recommended to use sourceTensor.clone().detach() or sourceTensor.clone().detach().requires_grad_(True), rather than torch.tensor(sourceTensor).\n",
      "  \"distance_matrix\": torch.tensor(distance_matrix, dtype=torch.float32),\n",
      "C:\\Users\\uhewm\\AppData\\Local\\Temp\\ipykernel_3940\\1405035236.py:261: UserWarning: To copy construct from a tensor, it is recommended to use sourceTensor.clone().detach() or sourceTensor.clone().detach().requires_grad_(True), rather than torch.tensor(sourceTensor).\n",
      "  \"fitch_score\": torch.tensor(fitch_score, dtype=torch.float32),\n"
     ]
    },
    {
     "name": "stdout",
     "output_type": "stream",
     "text": [
      " Neural network successfully converged after 95 epochs.✔ Chunk 1 abgeschlossen und Posterior gespeichert.\n",
      "\n",
      "=== Bearbeite Chunk 2 mit 100 Dateien ===\n",
      "Using SNPE-C with atomic loss\n",
      " Neural network successfully converged after 114 epochs.✔ Chunk 2 abgeschlossen und Posterior gespeichert.\n",
      "\n",
      "=== Bearbeite Chunk 3 mit 100 Dateien ===\n",
      "Using SNPE-C with atomic loss\n",
      " Neural network successfully converged after 48 epochs.✔ Chunk 3 abgeschlossen und Posterior gespeichert.\n",
      "\n",
      "=== Bearbeite Chunk 4 mit 100 Dateien ===\n",
      "Using SNPE-C with atomic loss\n",
      " Training neural network. Epochs trained: 29"
     ]
    },
    {
     "ename": "KeyboardInterrupt",
     "evalue": "",
     "output_type": "error",
     "traceback": [
      "\u001b[1;31m---------------------------------------------------------------------------\u001b[0m",
      "\u001b[1;31mKeyboardInterrupt\u001b[0m                         Traceback (most recent call last)",
      "Cell \u001b[1;32mIn[78], line 80\u001b[0m\n\u001b[0;32m     77\u001b[0m     inference\u001b[38;5;241m.\u001b[39mappend_simulations(theta_all, x_all, proposal\u001b[38;5;241m=\u001b[39mposterior, exclude_invalid_x \u001b[38;5;241m=\u001b[39m \u001b[38;5;28;01mTrue\u001b[39;00m)\n\u001b[0;32m     79\u001b[0m \u001b[38;5;66;03m# === TRAINIEREN UND POSTERIOR ERSTELLEN ===\u001b[39;00m\n\u001b[1;32m---> 80\u001b[0m density_estimator \u001b[38;5;241m=\u001b[39m \u001b[43minference\u001b[49m\u001b[38;5;241;43m.\u001b[39;49m\u001b[43mtrain\u001b[49m\u001b[43m(\u001b[49m\u001b[43mforce_first_round_loss\u001b[49m\u001b[38;5;241;43m=\u001b[39;49m\u001b[43m(\u001b[49m\u001b[43mchunk_idx\u001b[49m\u001b[43m \u001b[49m\u001b[38;5;241;43m==\u001b[39;49m\u001b[43m \u001b[49m\u001b[38;5;241;43m0\u001b[39;49m\u001b[43m)\u001b[49m\u001b[43m)\u001b[49m\n\u001b[0;32m     81\u001b[0m posterior \u001b[38;5;241m=\u001b[39m inference\u001b[38;5;241m.\u001b[39mbuild_posterior(density_estimator)\n\u001b[0;32m     83\u001b[0m \u001b[38;5;66;03m# WICHTIG: x_o setzen, damit der Posterior als Proposal verwendet werden kann\u001b[39;00m\n",
      "File \u001b[1;32m~\\anaconda3\\envs\\pangenome-hgt-sim\\Lib\\site-packages\\sbi\\inference\\trainers\\npe\\npe_c.py:189\u001b[0m, in \u001b[0;36mNPE_C.train\u001b[1;34m(self, num_atoms, training_batch_size, learning_rate, validation_fraction, stop_after_epochs, max_num_epochs, clip_max_norm, calibration_kernel, resume_training, force_first_round_loss, discard_prior_samples, use_combined_loss, retrain_from_scratch, show_train_summary, dataloader_kwargs)\u001b[0m\n\u001b[0;32m    185\u001b[0m     \u001b[38;5;28;01mif\u001b[39;00m \u001b[38;5;28mself\u001b[39m\u001b[38;5;241m.\u001b[39muse_non_atomic_loss:\n\u001b[0;32m    186\u001b[0m         \u001b[38;5;66;03m# Take care of z-scoring, pre-compute and store prior terms.\u001b[39;00m\n\u001b[0;32m    187\u001b[0m         \u001b[38;5;28mself\u001b[39m\u001b[38;5;241m.\u001b[39m_set_state_for_mog_proposal()\n\u001b[1;32m--> 189\u001b[0m \u001b[38;5;28;01mreturn\u001b[39;00m \u001b[38;5;28;43msuper\u001b[39;49m\u001b[43m(\u001b[49m\u001b[43m)\u001b[49m\u001b[38;5;241;43m.\u001b[39;49m\u001b[43mtrain\u001b[49m\u001b[43m(\u001b[49m\u001b[38;5;241;43m*\u001b[39;49m\u001b[38;5;241;43m*\u001b[39;49m\u001b[43mkwargs\u001b[49m\u001b[43m)\u001b[49m\n",
      "File \u001b[1;32m~\\anaconda3\\envs\\pangenome-hgt-sim\\Lib\\site-packages\\sbi\\inference\\trainers\\npe\\npe_base.py:362\u001b[0m, in \u001b[0;36mPosteriorEstimator.train\u001b[1;34m(self, training_batch_size, learning_rate, validation_fraction, stop_after_epochs, max_num_epochs, clip_max_norm, calibration_kernel, resume_training, force_first_round_loss, discard_prior_samples, retrain_from_scratch, show_train_summary, dataloader_kwargs)\u001b[0m\n\u001b[0;32m    355\u001b[0m \u001b[38;5;66;03m# Get batches on current device.\u001b[39;00m\n\u001b[0;32m    356\u001b[0m theta_batch, x_batch, masks_batch \u001b[38;5;241m=\u001b[39m (\n\u001b[0;32m    357\u001b[0m     batch[\u001b[38;5;241m0\u001b[39m]\u001b[38;5;241m.\u001b[39mto(\u001b[38;5;28mself\u001b[39m\u001b[38;5;241m.\u001b[39m_device),\n\u001b[0;32m    358\u001b[0m     batch[\u001b[38;5;241m1\u001b[39m]\u001b[38;5;241m.\u001b[39mto(\u001b[38;5;28mself\u001b[39m\u001b[38;5;241m.\u001b[39m_device),\n\u001b[0;32m    359\u001b[0m     batch[\u001b[38;5;241m2\u001b[39m]\u001b[38;5;241m.\u001b[39mto(\u001b[38;5;28mself\u001b[39m\u001b[38;5;241m.\u001b[39m_device),\n\u001b[0;32m    360\u001b[0m )\n\u001b[1;32m--> 362\u001b[0m train_losses \u001b[38;5;241m=\u001b[39m \u001b[38;5;28;43mself\u001b[39;49m\u001b[38;5;241;43m.\u001b[39;49m\u001b[43m_loss\u001b[49m\u001b[43m(\u001b[49m\n\u001b[0;32m    363\u001b[0m \u001b[43m    \u001b[49m\u001b[43mtheta_batch\u001b[49m\u001b[43m,\u001b[49m\n\u001b[0;32m    364\u001b[0m \u001b[43m    \u001b[49m\u001b[43mx_batch\u001b[49m\u001b[43m,\u001b[49m\n\u001b[0;32m    365\u001b[0m \u001b[43m    \u001b[49m\u001b[43mmasks_batch\u001b[49m\u001b[43m,\u001b[49m\n\u001b[0;32m    366\u001b[0m \u001b[43m    \u001b[49m\u001b[43mproposal\u001b[49m\u001b[43m,\u001b[49m\n\u001b[0;32m    367\u001b[0m \u001b[43m    \u001b[49m\u001b[43mcalibration_kernel\u001b[49m\u001b[43m,\u001b[49m\n\u001b[0;32m    368\u001b[0m \u001b[43m    \u001b[49m\u001b[43mforce_first_round_loss\u001b[49m\u001b[38;5;241;43m=\u001b[39;49m\u001b[43mforce_first_round_loss\u001b[49m\u001b[43m,\u001b[49m\n\u001b[0;32m    369\u001b[0m \u001b[43m\u001b[49m\u001b[43m)\u001b[49m\n\u001b[0;32m    370\u001b[0m train_loss \u001b[38;5;241m=\u001b[39m torch\u001b[38;5;241m.\u001b[39mmean(train_losses)\n\u001b[0;32m    371\u001b[0m train_loss_sum \u001b[38;5;241m+\u001b[39m\u001b[38;5;241m=\u001b[39m train_losses\u001b[38;5;241m.\u001b[39msum()\u001b[38;5;241m.\u001b[39mitem()\n",
      "File \u001b[1;32m~\\anaconda3\\envs\\pangenome-hgt-sim\\Lib\\site-packages\\sbi\\inference\\trainers\\npe\\npe_base.py:610\u001b[0m, in \u001b[0;36mPosteriorEstimator._loss\u001b[1;34m(self, theta, x, masks, proposal, calibration_kernel, force_first_round_loss)\u001b[0m\n\u001b[0;32m    606\u001b[0m     loss \u001b[38;5;241m=\u001b[39m \u001b[38;5;28mself\u001b[39m\u001b[38;5;241m.\u001b[39m_neural_net\u001b[38;5;241m.\u001b[39mloss(theta, x)\n\u001b[0;32m    607\u001b[0m \u001b[38;5;28;01melse\u001b[39;00m:\n\u001b[0;32m    608\u001b[0m     \u001b[38;5;66;03m# Currently only works for `DensityEstimator` objects.\u001b[39;00m\n\u001b[0;32m    609\u001b[0m     \u001b[38;5;66;03m# Must be extended ones other Estimators are implemented. See #966,\u001b[39;00m\n\u001b[1;32m--> 610\u001b[0m     loss \u001b[38;5;241m=\u001b[39m \u001b[38;5;241m-\u001b[39m\u001b[38;5;28;43mself\u001b[39;49m\u001b[38;5;241;43m.\u001b[39;49m\u001b[43m_log_prob_proposal_posterior\u001b[49m\u001b[43m(\u001b[49m\u001b[43mtheta\u001b[49m\u001b[43m,\u001b[49m\u001b[43m \u001b[49m\u001b[43mx\u001b[49m\u001b[43m,\u001b[49m\u001b[43m \u001b[49m\u001b[43mmasks\u001b[49m\u001b[43m,\u001b[49m\u001b[43m \u001b[49m\u001b[43mproposal\u001b[49m\u001b[43m)\u001b[49m\n\u001b[0;32m    612\u001b[0m \u001b[38;5;28;01mreturn\u001b[39;00m calibration_kernel(x) \u001b[38;5;241m*\u001b[39m loss\n",
      "File \u001b[1;32m~\\anaconda3\\envs\\pangenome-hgt-sim\\Lib\\site-packages\\sbi\\inference\\trainers\\npe\\npe_c.py:306\u001b[0m, in \u001b[0;36mNPE_C._log_prob_proposal_posterior\u001b[1;34m(self, theta, x, masks, proposal)\u001b[0m\n\u001b[0;32m    300\u001b[0m \u001b[38;5;28;01mif\u001b[39;00m \u001b[38;5;129;01mnot\u001b[39;00m \u001b[38;5;28mhasattr\u001b[39m(\u001b[38;5;28mself\u001b[39m\u001b[38;5;241m.\u001b[39m_neural_net, \u001b[38;5;124m\"\u001b[39m\u001b[38;5;124mlog_prob\u001b[39m\u001b[38;5;124m\"\u001b[39m):\n\u001b[0;32m    301\u001b[0m     \u001b[38;5;28;01mraise\u001b[39;00m \u001b[38;5;167;01mValueError\u001b[39;00m(\n\u001b[0;32m    302\u001b[0m         \u001b[38;5;124m\"\u001b[39m\u001b[38;5;124mThe neural estimator must have a log_prob method, for\u001b[39m\u001b[38;5;130;01m\\\u001b[39;00m\n\u001b[0;32m    303\u001b[0m \u001b[38;5;124m                     atomic loss. It should at best follow the \u001b[39m\u001b[38;5;130;01m\\\u001b[39;00m\n\u001b[0;32m    304\u001b[0m \u001b[38;5;124m                     sbi.neural_nets \u001b[39m\u001b[38;5;124m'\u001b[39m\u001b[38;5;124mDensityEstiamtor\u001b[39m\u001b[38;5;124m'\u001b[39m\u001b[38;5;124m interface.\u001b[39m\u001b[38;5;124m\"\u001b[39m\n\u001b[0;32m    305\u001b[0m     )\n\u001b[1;32m--> 306\u001b[0m \u001b[38;5;28;01mreturn\u001b[39;00m \u001b[38;5;28;43mself\u001b[39;49m\u001b[38;5;241;43m.\u001b[39;49m\u001b[43m_log_prob_proposal_posterior_atomic\u001b[49m\u001b[43m(\u001b[49m\u001b[43mtheta\u001b[49m\u001b[43m,\u001b[49m\u001b[43m \u001b[49m\u001b[43mx\u001b[49m\u001b[43m,\u001b[49m\u001b[43m \u001b[49m\u001b[43mmasks\u001b[49m\u001b[43m)\u001b[49m\n",
      "File \u001b[1;32m~\\anaconda3\\envs\\pangenome-hgt-sim\\Lib\\site-packages\\sbi\\inference\\trainers\\npe\\npe_c.py:366\u001b[0m, in \u001b[0;36mNPE_C._log_prob_proposal_posterior_atomic\u001b[1;34m(self, theta, x, masks)\u001b[0m\n\u001b[0;32m    360\u001b[0m atomic_theta \u001b[38;5;241m=\u001b[39m reshape_to_sample_batch_event(\n\u001b[0;32m    361\u001b[0m     atomic_theta, atomic_theta\u001b[38;5;241m.\u001b[39mshape[\u001b[38;5;241m1\u001b[39m:]\n\u001b[0;32m    362\u001b[0m )\n\u001b[0;32m    363\u001b[0m repeated_x \u001b[38;5;241m=\u001b[39m reshape_to_batch_event(\n\u001b[0;32m    364\u001b[0m     repeated_x, \u001b[38;5;28mself\u001b[39m\u001b[38;5;241m.\u001b[39m_neural_net\u001b[38;5;241m.\u001b[39mcondition_shape\n\u001b[0;32m    365\u001b[0m )\n\u001b[1;32m--> 366\u001b[0m log_prob_posterior \u001b[38;5;241m=\u001b[39m \u001b[38;5;28;43mself\u001b[39;49m\u001b[38;5;241;43m.\u001b[39;49m\u001b[43m_neural_net\u001b[49m\u001b[38;5;241;43m.\u001b[39;49m\u001b[43mlog_prob\u001b[49m\u001b[43m(\u001b[49m\u001b[43matomic_theta\u001b[49m\u001b[43m,\u001b[49m\u001b[43m \u001b[49m\u001b[43mrepeated_x\u001b[49m\u001b[43m)\u001b[49m\n\u001b[0;32m    367\u001b[0m assert_all_finite(log_prob_posterior, \u001b[38;5;124m\"\u001b[39m\u001b[38;5;124mposterior eval\u001b[39m\u001b[38;5;124m\"\u001b[39m)\n\u001b[0;32m    368\u001b[0m log_prob_posterior \u001b[38;5;241m=\u001b[39m log_prob_posterior\u001b[38;5;241m.\u001b[39mreshape(batch_size, num_atoms)\n",
      "File \u001b[1;32m~\\anaconda3\\envs\\pangenome-hgt-sim\\Lib\\site-packages\\sbi\\neural_nets\\estimators\\nflows_flow.py:109\u001b[0m, in \u001b[0;36mNFlowsFlow.log_prob\u001b[1;34m(self, input, condition)\u001b[0m\n\u001b[0;32m    106\u001b[0m ones_for_event_dims \u001b[38;5;241m=\u001b[39m (\u001b[38;5;241m1\u001b[39m,) \u001b[38;5;241m*\u001b[39m condition_event_dims  \u001b[38;5;66;03m# Tuple of 1s, e.g. (1, 1, 1)\u001b[39;00m\n\u001b[0;32m    107\u001b[0m condition \u001b[38;5;241m=\u001b[39m condition\u001b[38;5;241m.\u001b[39mrepeat(input_sample_dim, \u001b[38;5;241m*\u001b[39mones_for_event_dims)\n\u001b[1;32m--> 109\u001b[0m log_probs \u001b[38;5;241m=\u001b[39m \u001b[38;5;28;43mself\u001b[39;49m\u001b[38;5;241;43m.\u001b[39;49m\u001b[43mnet\u001b[49m\u001b[38;5;241;43m.\u001b[39;49m\u001b[43mlog_prob\u001b[49m\u001b[43m(\u001b[49m\u001b[38;5;28;43minput\u001b[39;49m\u001b[43m,\u001b[49m\u001b[43m \u001b[49m\u001b[43mcontext\u001b[49m\u001b[38;5;241;43m=\u001b[39;49m\u001b[43mcondition\u001b[49m\u001b[43m)\u001b[49m\n\u001b[0;32m    110\u001b[0m \u001b[38;5;28;01mreturn\u001b[39;00m log_probs\u001b[38;5;241m.\u001b[39mreshape((input_sample_dim, input_batch_dim))\n",
      "File \u001b[1;32m~\\anaconda3\\envs\\pangenome-hgt-sim\\Lib\\site-packages\\nflows\\distributions\\base.py:40\u001b[0m, in \u001b[0;36mDistribution.log_prob\u001b[1;34m(self, inputs, context)\u001b[0m\n\u001b[0;32m     36\u001b[0m     \u001b[38;5;28;01mif\u001b[39;00m inputs\u001b[38;5;241m.\u001b[39mshape[\u001b[38;5;241m0\u001b[39m] \u001b[38;5;241m!=\u001b[39m context\u001b[38;5;241m.\u001b[39mshape[\u001b[38;5;241m0\u001b[39m]:\n\u001b[0;32m     37\u001b[0m         \u001b[38;5;28;01mraise\u001b[39;00m \u001b[38;5;167;01mValueError\u001b[39;00m(\n\u001b[0;32m     38\u001b[0m             \u001b[38;5;124m\"\u001b[39m\u001b[38;5;124mNumber of input items must be equal to number of context items.\u001b[39m\u001b[38;5;124m\"\u001b[39m\n\u001b[0;32m     39\u001b[0m         )\n\u001b[1;32m---> 40\u001b[0m \u001b[38;5;28;01mreturn\u001b[39;00m \u001b[38;5;28;43mself\u001b[39;49m\u001b[38;5;241;43m.\u001b[39;49m\u001b[43m_log_prob\u001b[49m\u001b[43m(\u001b[49m\u001b[43minputs\u001b[49m\u001b[43m,\u001b[49m\u001b[43m \u001b[49m\u001b[43mcontext\u001b[49m\u001b[43m)\u001b[49m\n",
      "File \u001b[1;32m~\\anaconda3\\envs\\pangenome-hgt-sim\\Lib\\site-packages\\nflows\\flows\\base.py:38\u001b[0m, in \u001b[0;36mFlow._log_prob\u001b[1;34m(self, inputs, context)\u001b[0m\n\u001b[0;32m     37\u001b[0m \u001b[38;5;28;01mdef\u001b[39;00m \u001b[38;5;21m_log_prob\u001b[39m(\u001b[38;5;28mself\u001b[39m, inputs, context):\n\u001b[1;32m---> 38\u001b[0m     embedded_context \u001b[38;5;241m=\u001b[39m \u001b[38;5;28;43mself\u001b[39;49m\u001b[38;5;241;43m.\u001b[39;49m\u001b[43m_embedding_net\u001b[49m\u001b[43m(\u001b[49m\u001b[43mcontext\u001b[49m\u001b[43m)\u001b[49m\n\u001b[0;32m     39\u001b[0m     noise, logabsdet \u001b[38;5;241m=\u001b[39m \u001b[38;5;28mself\u001b[39m\u001b[38;5;241m.\u001b[39m_transform(inputs, context\u001b[38;5;241m=\u001b[39membedded_context)\n\u001b[0;32m     40\u001b[0m     log_prob \u001b[38;5;241m=\u001b[39m \u001b[38;5;28mself\u001b[39m\u001b[38;5;241m.\u001b[39m_distribution\u001b[38;5;241m.\u001b[39mlog_prob(noise, context\u001b[38;5;241m=\u001b[39membedded_context)\n",
      "File \u001b[1;32m~\\anaconda3\\envs\\pangenome-hgt-sim\\Lib\\site-packages\\torch\\nn\\modules\\module.py:1736\u001b[0m, in \u001b[0;36mModule._wrapped_call_impl\u001b[1;34m(self, *args, **kwargs)\u001b[0m\n\u001b[0;32m   1734\u001b[0m     \u001b[38;5;28;01mreturn\u001b[39;00m \u001b[38;5;28mself\u001b[39m\u001b[38;5;241m.\u001b[39m_compiled_call_impl(\u001b[38;5;241m*\u001b[39margs, \u001b[38;5;241m*\u001b[39m\u001b[38;5;241m*\u001b[39mkwargs)  \u001b[38;5;66;03m# type: ignore[misc]\u001b[39;00m\n\u001b[0;32m   1735\u001b[0m \u001b[38;5;28;01melse\u001b[39;00m:\n\u001b[1;32m-> 1736\u001b[0m     \u001b[38;5;28;01mreturn\u001b[39;00m \u001b[38;5;28;43mself\u001b[39;49m\u001b[38;5;241;43m.\u001b[39;49m\u001b[43m_call_impl\u001b[49m\u001b[43m(\u001b[49m\u001b[38;5;241;43m*\u001b[39;49m\u001b[43margs\u001b[49m\u001b[43m,\u001b[49m\u001b[43m \u001b[49m\u001b[38;5;241;43m*\u001b[39;49m\u001b[38;5;241;43m*\u001b[39;49m\u001b[43mkwargs\u001b[49m\u001b[43m)\u001b[49m\n",
      "File \u001b[1;32m~\\anaconda3\\envs\\pangenome-hgt-sim\\Lib\\site-packages\\torch\\nn\\modules\\module.py:1747\u001b[0m, in \u001b[0;36mModule._call_impl\u001b[1;34m(self, *args, **kwargs)\u001b[0m\n\u001b[0;32m   1742\u001b[0m \u001b[38;5;66;03m# If we don't have any hooks, we want to skip the rest of the logic in\u001b[39;00m\n\u001b[0;32m   1743\u001b[0m \u001b[38;5;66;03m# this function, and just call forward.\u001b[39;00m\n\u001b[0;32m   1744\u001b[0m \u001b[38;5;28;01mif\u001b[39;00m \u001b[38;5;129;01mnot\u001b[39;00m (\u001b[38;5;28mself\u001b[39m\u001b[38;5;241m.\u001b[39m_backward_hooks \u001b[38;5;129;01mor\u001b[39;00m \u001b[38;5;28mself\u001b[39m\u001b[38;5;241m.\u001b[39m_backward_pre_hooks \u001b[38;5;129;01mor\u001b[39;00m \u001b[38;5;28mself\u001b[39m\u001b[38;5;241m.\u001b[39m_forward_hooks \u001b[38;5;129;01mor\u001b[39;00m \u001b[38;5;28mself\u001b[39m\u001b[38;5;241m.\u001b[39m_forward_pre_hooks\n\u001b[0;32m   1745\u001b[0m         \u001b[38;5;129;01mor\u001b[39;00m _global_backward_pre_hooks \u001b[38;5;129;01mor\u001b[39;00m _global_backward_hooks\n\u001b[0;32m   1746\u001b[0m         \u001b[38;5;129;01mor\u001b[39;00m _global_forward_hooks \u001b[38;5;129;01mor\u001b[39;00m _global_forward_pre_hooks):\n\u001b[1;32m-> 1747\u001b[0m     \u001b[38;5;28;01mreturn\u001b[39;00m \u001b[43mforward_call\u001b[49m\u001b[43m(\u001b[49m\u001b[38;5;241;43m*\u001b[39;49m\u001b[43margs\u001b[49m\u001b[43m,\u001b[49m\u001b[43m \u001b[49m\u001b[38;5;241;43m*\u001b[39;49m\u001b[38;5;241;43m*\u001b[39;49m\u001b[43mkwargs\u001b[49m\u001b[43m)\u001b[49m\n\u001b[0;32m   1749\u001b[0m result \u001b[38;5;241m=\u001b[39m \u001b[38;5;28;01mNone\u001b[39;00m\n\u001b[0;32m   1750\u001b[0m called_always_called_hooks \u001b[38;5;241m=\u001b[39m \u001b[38;5;28mset\u001b[39m()\n",
      "File \u001b[1;32m~\\anaconda3\\envs\\pangenome-hgt-sim\\Lib\\site-packages\\torch\\nn\\modules\\container.py:250\u001b[0m, in \u001b[0;36mSequential.forward\u001b[1;34m(self, input)\u001b[0m\n\u001b[0;32m    248\u001b[0m \u001b[38;5;28;01mdef\u001b[39;00m \u001b[38;5;21mforward\u001b[39m(\u001b[38;5;28mself\u001b[39m, \u001b[38;5;28minput\u001b[39m):\n\u001b[0;32m    249\u001b[0m     \u001b[38;5;28;01mfor\u001b[39;00m module \u001b[38;5;129;01min\u001b[39;00m \u001b[38;5;28mself\u001b[39m:\n\u001b[1;32m--> 250\u001b[0m         \u001b[38;5;28minput\u001b[39m \u001b[38;5;241m=\u001b[39m \u001b[43mmodule\u001b[49m\u001b[43m(\u001b[49m\u001b[38;5;28;43minput\u001b[39;49m\u001b[43m)\u001b[49m\n\u001b[0;32m    251\u001b[0m     \u001b[38;5;28;01mreturn\u001b[39;00m \u001b[38;5;28minput\u001b[39m\n",
      "File \u001b[1;32m~\\anaconda3\\envs\\pangenome-hgt-sim\\Lib\\site-packages\\torch\\nn\\modules\\module.py:1736\u001b[0m, in \u001b[0;36mModule._wrapped_call_impl\u001b[1;34m(self, *args, **kwargs)\u001b[0m\n\u001b[0;32m   1734\u001b[0m     \u001b[38;5;28;01mreturn\u001b[39;00m \u001b[38;5;28mself\u001b[39m\u001b[38;5;241m.\u001b[39m_compiled_call_impl(\u001b[38;5;241m*\u001b[39margs, \u001b[38;5;241m*\u001b[39m\u001b[38;5;241m*\u001b[39mkwargs)  \u001b[38;5;66;03m# type: ignore[misc]\u001b[39;00m\n\u001b[0;32m   1735\u001b[0m \u001b[38;5;28;01melse\u001b[39;00m:\n\u001b[1;32m-> 1736\u001b[0m     \u001b[38;5;28;01mreturn\u001b[39;00m \u001b[38;5;28;43mself\u001b[39;49m\u001b[38;5;241;43m.\u001b[39;49m\u001b[43m_call_impl\u001b[49m\u001b[43m(\u001b[49m\u001b[38;5;241;43m*\u001b[39;49m\u001b[43margs\u001b[49m\u001b[43m,\u001b[49m\u001b[43m \u001b[49m\u001b[38;5;241;43m*\u001b[39;49m\u001b[38;5;241;43m*\u001b[39;49m\u001b[43mkwargs\u001b[49m\u001b[43m)\u001b[49m\n",
      "File \u001b[1;32m~\\anaconda3\\envs\\pangenome-hgt-sim\\Lib\\site-packages\\torch\\nn\\modules\\module.py:1747\u001b[0m, in \u001b[0;36mModule._call_impl\u001b[1;34m(self, *args, **kwargs)\u001b[0m\n\u001b[0;32m   1742\u001b[0m \u001b[38;5;66;03m# If we don't have any hooks, we want to skip the rest of the logic in\u001b[39;00m\n\u001b[0;32m   1743\u001b[0m \u001b[38;5;66;03m# this function, and just call forward.\u001b[39;00m\n\u001b[0;32m   1744\u001b[0m \u001b[38;5;28;01mif\u001b[39;00m \u001b[38;5;129;01mnot\u001b[39;00m (\u001b[38;5;28mself\u001b[39m\u001b[38;5;241m.\u001b[39m_backward_hooks \u001b[38;5;129;01mor\u001b[39;00m \u001b[38;5;28mself\u001b[39m\u001b[38;5;241m.\u001b[39m_backward_pre_hooks \u001b[38;5;129;01mor\u001b[39;00m \u001b[38;5;28mself\u001b[39m\u001b[38;5;241m.\u001b[39m_forward_hooks \u001b[38;5;129;01mor\u001b[39;00m \u001b[38;5;28mself\u001b[39m\u001b[38;5;241m.\u001b[39m_forward_pre_hooks\n\u001b[0;32m   1745\u001b[0m         \u001b[38;5;129;01mor\u001b[39;00m _global_backward_pre_hooks \u001b[38;5;129;01mor\u001b[39;00m _global_backward_hooks\n\u001b[0;32m   1746\u001b[0m         \u001b[38;5;129;01mor\u001b[39;00m _global_forward_hooks \u001b[38;5;129;01mor\u001b[39;00m _global_forward_pre_hooks):\n\u001b[1;32m-> 1747\u001b[0m     \u001b[38;5;28;01mreturn\u001b[39;00m \u001b[43mforward_call\u001b[49m\u001b[43m(\u001b[49m\u001b[38;5;241;43m*\u001b[39;49m\u001b[43margs\u001b[49m\u001b[43m,\u001b[49m\u001b[43m \u001b[49m\u001b[38;5;241;43m*\u001b[39;49m\u001b[38;5;241;43m*\u001b[39;49m\u001b[43mkwargs\u001b[49m\u001b[43m)\u001b[49m\n\u001b[0;32m   1749\u001b[0m result \u001b[38;5;241m=\u001b[39m \u001b[38;5;28;01mNone\u001b[39;00m\n\u001b[0;32m   1750\u001b[0m called_always_called_hooks \u001b[38;5;241m=\u001b[39m \u001b[38;5;28mset\u001b[39m()\n",
      "Cell \u001b[1;32mIn[53], line 151\u001b[0m, in \u001b[0;36mNeuralNetwork.forward\u001b[1;34m(self, x)\u001b[0m\n\u001b[0;32m    148\u001b[0m distance_processed_list \u001b[38;5;241m=\u001b[39m []\n\u001b[0;32m    150\u001b[0m \u001b[38;5;28;01mfor\u001b[39;00m i \u001b[38;5;129;01min\u001b[39;00m \u001b[38;5;28mrange\u001b[39m(B):\n\u001b[1;32m--> 151\u001b[0m     allele_processed \u001b[38;5;241m=\u001b[39m \u001b[43mreconstruct_distance_matrix\u001b[49m\u001b[43m(\u001b[49m\n\u001b[0;32m    152\u001b[0m \u001b[43m        \u001b[49m\u001b[43mallele_flat\u001b[49m\u001b[43m[\u001b[49m\u001b[43mi\u001b[49m\u001b[43m]\u001b[49m\u001b[43m,\u001b[49m\u001b[43m  \u001b[49m\u001b[38;5;66;43;03m# shape [100, 50]\u001b[39;49;00m\n\u001b[0;32m    153\u001b[0m \u001b[43m        \u001b[49m\u001b[43mgene_absence_presence\u001b[49m\u001b[38;5;241;43m=\u001b[39;49m\u001b[43mgene_flat\u001b[49m\u001b[43m[\u001b[49m\u001b[43mi\u001b[49m\u001b[43m]\u001b[49m\u001b[38;5;241;43m.\u001b[39;49m\u001b[43msqueeze\u001b[49m\u001b[43m(\u001b[49m\u001b[43m)\u001b[49m\u001b[43m  \u001b[49m\u001b[38;5;66;43;03m# ggf. anpassen\u001b[39;49;00m\n\u001b[0;32m    154\u001b[0m \u001b[43m    \u001b[49m\u001b[43m)\u001b[49m\n\u001b[0;32m    155\u001b[0m     distance_processed \u001b[38;5;241m=\u001b[39m reconstruct_distance_matrix(\n\u001b[0;32m    156\u001b[0m         distance_flat[i],  \u001b[38;5;66;03m# shape [100, 50]\u001b[39;00m\n\u001b[0;32m    157\u001b[0m         gene_absence_presence\u001b[38;5;241m=\u001b[39m\u001b[38;5;28;01mNone\u001b[39;00m\n\u001b[0;32m    158\u001b[0m     )\n\u001b[0;32m    160\u001b[0m     allele_processed_list\u001b[38;5;241m.\u001b[39mappend(torch\u001b[38;5;241m.\u001b[39mtensor(allele_processed, dtype\u001b[38;5;241m=\u001b[39mtorch\u001b[38;5;241m.\u001b[39mfloat32))\n",
      "File \u001b[1;32m~\\OneDrive\\PhD\\Project No.2\\pangenome-gene-transfer-simulation\\advanced_simulator_h5.py:701\u001b[0m, in \u001b[0;36mreconstruct_distance_matrix\u001b[1;34m(coords, gene_absence_presence)\u001b[0m\n\u001b[0;32m    699\u001b[0m sample_not_present \u001b[38;5;241m=\u001b[39m (gene_absence_presence \u001b[38;5;241m==\u001b[39m \u001b[38;5;241m0\u001b[39m)\n\u001b[0;32m    700\u001b[0m output[sample_not_present, : ] \u001b[38;5;241m=\u001b[39m \u001b[38;5;241m-\u001b[39m\u001b[38;5;241m1\u001b[39m\n\u001b[1;32m--> 701\u001b[0m \u001b[43moutput\u001b[49m\u001b[43m[\u001b[49m\u001b[43m \u001b[49m\u001b[43m:\u001b[49m\u001b[43m \u001b[49m\u001b[43m,\u001b[49m\u001b[43m \u001b[49m\u001b[43msample_not_present\u001b[49m\u001b[43m]\u001b[49m \u001b[38;5;241m=\u001b[39m \u001b[38;5;241m-\u001b[39m\u001b[38;5;241m1\u001b[39m\n\u001b[0;32m    702\u001b[0m \u001b[38;5;28;01mreturn\u001b[39;00m output\n",
      "File \u001b[1;32m~\\anaconda3\\envs\\pangenome-hgt-sim\\Lib\\site-packages\\torch\\_tensor.py:1145\u001b[0m, in \u001b[0;36mTensor.__array__\u001b[1;34m(self, dtype)\u001b[0m\n\u001b[0;32m   1142\u001b[0m \u001b[38;5;66;03m# Numpy array interface, to support `numpy.asarray(tensor) -> ndarray`\u001b[39;00m\n\u001b[0;32m   1143\u001b[0m __array_priority__ \u001b[38;5;241m=\u001b[39m \u001b[38;5;241m1000\u001b[39m  \u001b[38;5;66;03m# prefer Tensor ops over numpy ones\u001b[39;00m\n\u001b[1;32m-> 1145\u001b[0m \u001b[38;5;28;01mdef\u001b[39;00m \u001b[38;5;21m__array__\u001b[39m(\u001b[38;5;28mself\u001b[39m, dtype\u001b[38;5;241m=\u001b[39m\u001b[38;5;28;01mNone\u001b[39;00m):\n\u001b[0;32m   1146\u001b[0m     \u001b[38;5;28;01mif\u001b[39;00m has_torch_function_unary(\u001b[38;5;28mself\u001b[39m):\n\u001b[0;32m   1147\u001b[0m         \u001b[38;5;28;01mreturn\u001b[39;00m handle_torch_function(Tensor\u001b[38;5;241m.\u001b[39m__array__, (\u001b[38;5;28mself\u001b[39m,), \u001b[38;5;28mself\u001b[39m, dtype\u001b[38;5;241m=\u001b[39mdtype)\n",
      "\u001b[1;31mKeyboardInterrupt\u001b[0m: "
     ]
    }
   ],
   "source": [
    "# === Parameter ===\n",
    "output_dir = r\"C:\\Users\\uhewm\\Desktop\\SBI_Data\\simulation_chunks\"\n",
    "all_files = glob.glob(os.path.join(output_dir, \"*.h5\"))\n",
    "\n",
    "hgt_rate_max = 20 # Maximum hgt rate\n",
    "hgt_rate_min = 0 # Minimum hgt rate\n",
    "\n",
    "rho_max = 3 # Maximum gene loss rate\n",
    "rho_min = 0 # Minimum gene loss rate\n",
    "\n",
    "num_samples = 100\n",
    "multidimensional_scaling_dimensions = 50\n",
    "\n",
    "# CHUNK-GRÖSSE\n",
    "chunk_size = 1000\n",
    "\n",
    "# Dein Prior\n",
    "prior = utils.BoxUniform(\n",
    "    low=torch.tensor([hgt_rate_min, rho_min, 0.0]),\n",
    "    high=torch.tensor([hgt_rate_max, rho_max, 1000.0])  # je nach Parameter\n",
    ")\n",
    "\n",
    "# === DEIN EMBEDDING ===\n",
    "embedding_net = NeuralNetwork(num_samples=num_samples, multidimensional_scaling_dimensions = multidimensional_scaling_dimensions)\n",
    "\n",
    "# === INITIALISIERE SNPE ===\n",
    "neural_posterior = posterior_nn(\n",
    "    model=\"maf\",\n",
    "    embedding_net=embedding_net,\n",
    "    hidden_features=64,\n",
    "    num_transforms=4\n",
    ")\n",
    "inference = SNPE(prior=prior, density_estimator=neural_posterior)\n",
    "\n",
    "# === CHUNKWEISE TRAINING ===\n",
    "posterior = None  # Initialwert für ersten Durchlauf\n",
    "\n",
    "for chunk_idx in range(0, len(all_files), chunk_size):\n",
    "\n",
    "    chunk_files = all_files[chunk_idx : chunk_idx + chunk_size]\n",
    "    dataset = H5SimulationDataset(chunk_files)\n",
    "    loader = DataLoader(dataset, batch_size=1, shuffle=False, num_workers=0)\n",
    "\n",
    "    print(f\"\\n=== Bearbeite Chunk {chunk_idx // chunk_size + 1} mit {len(chunk_files)} Dateien ===\")\n",
    "\n",
    "    x_buffer, theta_buffer = [], []\n",
    "\n",
    "    for batch in loader:\n",
    "        gene_absence_presence = batch[\"gene_absence_presence\"]\n",
    "        alleles_list_pca = batch[\"alleles_list_pca\"]\n",
    "        distance_matrix = batch[\"distance_matrix\"]\n",
    "        fitch_score = batch[\"fitch_score\"]\n",
    "        theta = batch[\"theta\"]\n",
    "\n",
    "        x = flatten_and_concat(\n",
    "            gene_absence_presence,\n",
    "            alleles_list_pca,\n",
    "            distance_matrix,\n",
    "            fitch_score.unsqueeze(1)\n",
    "        )\n",
    "\n",
    "        x_buffer.append(x)\n",
    "        theta_buffer.append(theta)\n",
    "\n",
    "    if len(x_buffer) < 2:\n",
    "        print(\"Nicht genug Datenpunkte zum Trainieren in diesem Chunk!\")\n",
    "        continue\n",
    "\n",
    "    # Stapelweise zusammenführen\n",
    "    x_all = torch.cat(x_buffer, dim=0)\n",
    "    theta_all = torch.cat(theta_buffer, dim=0)\n",
    "\n",
    "    # Simulationen anhängen\n",
    "    if chunk_idx == 0:\n",
    "        inference.append_simulations(theta_all, x_all)\n",
    "    else:\n",
    "        inference.append_simulations(theta_all, x_all, proposal=posterior, exclude_invalid_x = True)\n",
    "\n",
    "    # === TRAINIEREN UND POSTERIOR ERSTELLEN ===\n",
    "    density_estimator = inference.train(force_first_round_loss=(chunk_idx == 0))\n",
    "    posterior = inference.build_posterior(density_estimator)\n",
    "\n",
    "    # WICHTIG: x_o setzen, damit der Posterior als Proposal verwendet werden kann\n",
    "    posterior.set_default_x(x_all[0])\n",
    "\n",
    "    # === SPEICHERN ===\n",
    "    #torch.save(posterior, f\"posterior_chunk_{chunk_idx // chunk_size + 1}.pt\")\n",
    "    print(f\"\\n✔ Chunk {chunk_idx // chunk_size + 1} abgeschlossen und Posterior gespeichert.\")\n",
    "\n",
    "print(\"\\n=== Alle Chunks abgeschlossen! ===\")"
   ]
  },
  {
   "cell_type": "code",
   "execution_count": 79,
   "id": "1240af66-b942-4db6-a5e1-9b857b57734c",
   "metadata": {},
   "outputs": [
    {
     "name": "stderr",
     "output_type": "stream",
     "text": [
      "C:\\Users\\uhewm\\AppData\\Local\\Temp\\ipykernel_3940\\1405035236.py:255: DeprecationWarning: Conversion of an array with ndim > 0 to a scalar is deprecated, and will error in future. Ensure you extract a single element from your array before performing this operation. (Deprecated NumPy 1.25.)\n",
      "  theta = torch.tensor([hgt_rate, rho, gene_number_hgt_events_passed], dtype=torch.float32)\n",
      "C:\\Users\\uhewm\\AppData\\Local\\Temp\\ipykernel_3940\\1405035236.py:258: UserWarning: To copy construct from a tensor, it is recommended to use sourceTensor.clone().detach() or sourceTensor.clone().detach().requires_grad_(True), rather than torch.tensor(sourceTensor).\n",
      "  \"gene_absence_presence\": torch.tensor(gene_absence_presence, dtype=torch.float32),\n",
      "C:\\Users\\uhewm\\AppData\\Local\\Temp\\ipykernel_3940\\1405035236.py:259: UserWarning: To copy construct from a tensor, it is recommended to use sourceTensor.clone().detach() or sourceTensor.clone().detach().requires_grad_(True), rather than torch.tensor(sourceTensor).\n",
      "  \"alleles_list_pca\": torch.tensor(alleles_list_pca, dtype=torch.float32),\n",
      "C:\\Users\\uhewm\\AppData\\Local\\Temp\\ipykernel_3940\\1405035236.py:260: UserWarning: To copy construct from a tensor, it is recommended to use sourceTensor.clone().detach() or sourceTensor.clone().detach().requires_grad_(True), rather than torch.tensor(sourceTensor).\n",
      "  \"distance_matrix\": torch.tensor(distance_matrix, dtype=torch.float32),\n",
      "C:\\Users\\uhewm\\AppData\\Local\\Temp\\ipykernel_3940\\1405035236.py:261: UserWarning: To copy construct from a tensor, it is recommended to use sourceTensor.clone().detach() or sourceTensor.clone().detach().requires_grad_(True), rather than torch.tensor(sourceTensor).\n",
      "  \"fitch_score\": torch.tensor(fitch_score, dtype=torch.float32),\n"
     ]
    },
    {
     "data": {
      "application/vnd.jupyter.widget-view+json": {
       "model_id": "fcdc03fc115f42e58112b35b92c2aceb",
       "version_major": 2,
       "version_minor": 0
      },
      "text/plain": [
       "Drawing 20 posterior samples:   0%|          | 0/20 [00:00<?, ?it/s]"
      ]
     },
     "metadata": {},
     "output_type": "display_data"
    },
    {
     "data": {
      "application/vnd.jupyter.widget-view+json": {
       "model_id": "d5ffef85321c4911af890ea258f61558",
       "version_major": 2,
       "version_minor": 0
      },
      "text/plain": [
       "Drawing 20 posterior samples:   0%|          | 0/20 [00:00<?, ?it/s]"
      ]
     },
     "metadata": {},
     "output_type": "display_data"
    },
    {
     "data": {
      "application/vnd.jupyter.widget-view+json": {
       "model_id": "42cd201db430425eb52cb5ea9608ae76",
       "version_major": 2,
       "version_minor": 0
      },
      "text/plain": [
       "Drawing 20 posterior samples:   0%|          | 0/20 [00:00<?, ?it/s]"
      ]
     },
     "metadata": {},
     "output_type": "display_data"
    },
    {
     "data": {
      "application/vnd.jupyter.widget-view+json": {
       "model_id": "81729fc3624f4218aca5055f3b442c94",
       "version_major": 2,
       "version_minor": 0
      },
      "text/plain": [
       "Drawing 20 posterior samples:   0%|          | 0/20 [00:00<?, ?it/s]"
      ]
     },
     "metadata": {},
     "output_type": "display_data"
    },
    {
     "data": {
      "application/vnd.jupyter.widget-view+json": {
       "model_id": "84882005909140a8857eda892859d1ca",
       "version_major": 2,
       "version_minor": 0
      },
      "text/plain": [
       "Drawing 20 posterior samples:   0%|          | 0/20 [00:00<?, ?it/s]"
      ]
     },
     "metadata": {},
     "output_type": "display_data"
    },
    {
     "data": {
      "application/vnd.jupyter.widget-view+json": {
       "model_id": "21c5393cc5434cfe92a59eb6b1ccab07",
       "version_major": 2,
       "version_minor": 0
      },
      "text/plain": [
       "Drawing 20 posterior samples:   0%|          | 0/20 [00:00<?, ?it/s]"
      ]
     },
     "metadata": {},
     "output_type": "display_data"
    },
    {
     "data": {
      "application/vnd.jupyter.widget-view+json": {
       "model_id": "17e547b680574c838dc24551b1d941e3",
       "version_major": 2,
       "version_minor": 0
      },
      "text/plain": [
       "Drawing 20 posterior samples:   0%|          | 0/20 [00:00<?, ?it/s]"
      ]
     },
     "metadata": {},
     "output_type": "display_data"
    },
    {
     "data": {
      "application/vnd.jupyter.widget-view+json": {
       "model_id": "20226aa8574c4c6c9235f1d46e6fcac8",
       "version_major": 2,
       "version_minor": 0
      },
      "text/plain": [
       "Drawing 20 posterior samples:   0%|          | 0/20 [00:00<?, ?it/s]"
      ]
     },
     "metadata": {},
     "output_type": "display_data"
    },
    {
     "data": {
      "application/vnd.jupyter.widget-view+json": {
       "model_id": "b2ba74f3ce2f479494a86f2b8a48606f",
       "version_major": 2,
       "version_minor": 0
      },
      "text/plain": [
       "Drawing 20 posterior samples:   0%|          | 0/20 [00:00<?, ?it/s]"
      ]
     },
     "metadata": {},
     "output_type": "display_data"
    },
    {
     "data": {
      "application/vnd.jupyter.widget-view+json": {
       "model_id": "d17be5fc71054bafa99d109c2ff5741f",
       "version_major": 2,
       "version_minor": 0
      },
      "text/plain": [
       "Drawing 20 posterior samples:   0%|          | 0/20 [00:00<?, ?it/s]"
      ]
     },
     "metadata": {},
     "output_type": "display_data"
    },
    {
     "data": {
      "application/vnd.jupyter.widget-view+json": {
       "model_id": "2efbe7cd14b34102957a2ffd007eac2b",
       "version_major": 2,
       "version_minor": 0
      },
      "text/plain": [
       "Drawing 20 posterior samples:   0%|          | 0/20 [00:00<?, ?it/s]"
      ]
     },
     "metadata": {},
     "output_type": "display_data"
    },
    {
     "data": {
      "application/vnd.jupyter.widget-view+json": {
       "model_id": "07c4004be72f45f3827d1bbf32783649",
       "version_major": 2,
       "version_minor": 0
      },
      "text/plain": [
       "Drawing 20 posterior samples:   0%|          | 0/20 [00:00<?, ?it/s]"
      ]
     },
     "metadata": {},
     "output_type": "display_data"
    },
    {
     "data": {
      "application/vnd.jupyter.widget-view+json": {
       "model_id": "7bd3c75ed3b7498b8d566d540387c046",
       "version_major": 2,
       "version_minor": 0
      },
      "text/plain": [
       "Drawing 20 posterior samples:   0%|          | 0/20 [00:00<?, ?it/s]"
      ]
     },
     "metadata": {},
     "output_type": "display_data"
    },
    {
     "data": {
      "application/vnd.jupyter.widget-view+json": {
       "model_id": "85161576f9d245e29ac4f993c8a5b5a2",
       "version_major": 2,
       "version_minor": 0
      },
      "text/plain": [
       "Drawing 20 posterior samples:   0%|          | 0/20 [00:00<?, ?it/s]"
      ]
     },
     "metadata": {},
     "output_type": "display_data"
    },
    {
     "data": {
      "application/vnd.jupyter.widget-view+json": {
       "model_id": "2a8df2fa571d41c482c0353dad71b390",
       "version_major": 2,
       "version_minor": 0
      },
      "text/plain": [
       "Drawing 20 posterior samples:   0%|          | 0/20 [00:00<?, ?it/s]"
      ]
     },
     "metadata": {},
     "output_type": "display_data"
    },
    {
     "data": {
      "application/vnd.jupyter.widget-view+json": {
       "model_id": "d6a5b1e795ce44a88d1e3da0eb75cce4",
       "version_major": 2,
       "version_minor": 0
      },
      "text/plain": [
       "Drawing 20 posterior samples:   0%|          | 0/20 [00:00<?, ?it/s]"
      ]
     },
     "metadata": {},
     "output_type": "display_data"
    },
    {
     "data": {
      "application/vnd.jupyter.widget-view+json": {
       "model_id": "c67deaed7bde43c287161c5d5d6a208f",
       "version_major": 2,
       "version_minor": 0
      },
      "text/plain": [
       "Drawing 20 posterior samples:   0%|          | 0/20 [00:00<?, ?it/s]"
      ]
     },
     "metadata": {},
     "output_type": "display_data"
    },
    {
     "data": {
      "application/vnd.jupyter.widget-view+json": {
       "model_id": "81f225683fe2423989bc176121bc53f6",
       "version_major": 2,
       "version_minor": 0
      },
      "text/plain": [
       "Drawing 20 posterior samples:   0%|          | 0/20 [00:00<?, ?it/s]"
      ]
     },
     "metadata": {},
     "output_type": "display_data"
    },
    {
     "data": {
      "application/vnd.jupyter.widget-view+json": {
       "model_id": "7b19d75e490e435c88b3fcdfc38c9431",
       "version_major": 2,
       "version_minor": 0
      },
      "text/plain": [
       "Drawing 20 posterior samples:   0%|          | 0/20 [00:00<?, ?it/s]"
      ]
     },
     "metadata": {},
     "output_type": "display_data"
    },
    {
     "data": {
      "application/vnd.jupyter.widget-view+json": {
       "model_id": "989af2d8ee754fe8b6dc63c7a0fd5376",
       "version_major": 2,
       "version_minor": 0
      },
      "text/plain": [
       "Drawing 20 posterior samples:   0%|          | 0/20 [00:00<?, ?it/s]"
      ]
     },
     "metadata": {},
     "output_type": "display_data"
    },
    {
     "data": {
      "application/vnd.jupyter.widget-view+json": {
       "model_id": "95e74dc2d4584df19ca7a06bc0aec62e",
       "version_major": 2,
       "version_minor": 0
      },
      "text/plain": [
       "Drawing 20 posterior samples:   0%|          | 0/20 [00:00<?, ?it/s]"
      ]
     },
     "metadata": {},
     "output_type": "display_data"
    },
    {
     "data": {
      "application/vnd.jupyter.widget-view+json": {
       "model_id": "49b1ead873cd4588ace07c7689e10132",
       "version_major": 2,
       "version_minor": 0
      },
      "text/plain": [
       "Drawing 20 posterior samples:   0%|          | 0/20 [00:00<?, ?it/s]"
      ]
     },
     "metadata": {},
     "output_type": "display_data"
    },
    {
     "data": {
      "application/vnd.jupyter.widget-view+json": {
       "model_id": "866bf9ec8ec74656997eef1b6990b670",
       "version_major": 2,
       "version_minor": 0
      },
      "text/plain": [
       "Drawing 20 posterior samples:   0%|          | 0/20 [00:00<?, ?it/s]"
      ]
     },
     "metadata": {},
     "output_type": "display_data"
    },
    {
     "data": {
      "application/vnd.jupyter.widget-view+json": {
       "model_id": "156e21cd363944f998de63262dead740",
       "version_major": 2,
       "version_minor": 0
      },
      "text/plain": [
       "Drawing 20 posterior samples:   0%|          | 0/20 [00:00<?, ?it/s]"
      ]
     },
     "metadata": {},
     "output_type": "display_data"
    },
    {
     "data": {
      "application/vnd.jupyter.widget-view+json": {
       "model_id": "dbe2075a2f2246ab8bd4d080b0e4ebb2",
       "version_major": 2,
       "version_minor": 0
      },
      "text/plain": [
       "Drawing 20 posterior samples:   0%|          | 0/20 [00:00<?, ?it/s]"
      ]
     },
     "metadata": {},
     "output_type": "display_data"
    },
    {
     "data": {
      "application/vnd.jupyter.widget-view+json": {
       "model_id": "7ef526e45c654a9baec6c05496e5d495",
       "version_major": 2,
       "version_minor": 0
      },
      "text/plain": [
       "Drawing 20 posterior samples:   0%|          | 0/20 [00:00<?, ?it/s]"
      ]
     },
     "metadata": {},
     "output_type": "display_data"
    },
    {
     "data": {
      "application/vnd.jupyter.widget-view+json": {
       "model_id": "df6cd138f5f74079bfdc165e6592553b",
       "version_major": 2,
       "version_minor": 0
      },
      "text/plain": [
       "Drawing 20 posterior samples:   0%|          | 0/20 [00:00<?, ?it/s]"
      ]
     },
     "metadata": {},
     "output_type": "display_data"
    },
    {
     "data": {
      "application/vnd.jupyter.widget-view+json": {
       "model_id": "75ecc2791ede4c1692ca3da169bc3c1e",
       "version_major": 2,
       "version_minor": 0
      },
      "text/plain": [
       "Drawing 20 posterior samples:   0%|          | 0/20 [00:00<?, ?it/s]"
      ]
     },
     "metadata": {},
     "output_type": "display_data"
    },
    {
     "data": {
      "application/vnd.jupyter.widget-view+json": {
       "model_id": "ea671309e7f9407085e85bdd81a63e97",
       "version_major": 2,
       "version_minor": 0
      },
      "text/plain": [
       "Drawing 20 posterior samples:   0%|          | 0/20 [00:00<?, ?it/s]"
      ]
     },
     "metadata": {},
     "output_type": "display_data"
    },
    {
     "data": {
      "application/vnd.jupyter.widget-view+json": {
       "model_id": "4256fb01c593458ab09939f7a66a5cc3",
       "version_major": 2,
       "version_minor": 0
      },
      "text/plain": [
       "Drawing 20 posterior samples:   0%|          | 0/20 [00:00<?, ?it/s]"
      ]
     },
     "metadata": {},
     "output_type": "display_data"
    },
    {
     "data": {
      "application/vnd.jupyter.widget-view+json": {
       "model_id": "5bc88605ec304080a47833a0f96d1d83",
       "version_major": 2,
       "version_minor": 0
      },
      "text/plain": [
       "Drawing 20 posterior samples:   0%|          | 0/20 [00:00<?, ?it/s]"
      ]
     },
     "metadata": {},
     "output_type": "display_data"
    },
    {
     "data": {
      "application/vnd.jupyter.widget-view+json": {
       "model_id": "93006b26e496488c902128de253fbd2a",
       "version_major": 2,
       "version_minor": 0
      },
      "text/plain": [
       "Drawing 20 posterior samples:   0%|          | 0/20 [00:00<?, ?it/s]"
      ]
     },
     "metadata": {},
     "output_type": "display_data"
    },
    {
     "data": {
      "application/vnd.jupyter.widget-view+json": {
       "model_id": "6a75a89474bb4314a7ead355b806a371",
       "version_major": 2,
       "version_minor": 0
      },
      "text/plain": [
       "Drawing 20 posterior samples:   0%|          | 0/20 [00:00<?, ?it/s]"
      ]
     },
     "metadata": {},
     "output_type": "display_data"
    },
    {
     "data": {
      "application/vnd.jupyter.widget-view+json": {
       "model_id": "95cd6e21967c4482b102388ee30861a9",
       "version_major": 2,
       "version_minor": 0
      },
      "text/plain": [
       "Drawing 20 posterior samples:   0%|          | 0/20 [00:00<?, ?it/s]"
      ]
     },
     "metadata": {},
     "output_type": "display_data"
    },
    {
     "data": {
      "application/vnd.jupyter.widget-view+json": {
       "model_id": "52db4feef14d45698724dbd48716178e",
       "version_major": 2,
       "version_minor": 0
      },
      "text/plain": [
       "Drawing 20 posterior samples:   0%|          | 0/20 [00:00<?, ?it/s]"
      ]
     },
     "metadata": {},
     "output_type": "display_data"
    },
    {
     "data": {
      "application/vnd.jupyter.widget-view+json": {
       "model_id": "48356f928bc54ccc939ef1ed91724416",
       "version_major": 2,
       "version_minor": 0
      },
      "text/plain": [
       "Drawing 20 posterior samples:   0%|          | 0/20 [00:00<?, ?it/s]"
      ]
     },
     "metadata": {},
     "output_type": "display_data"
    },
    {
     "data": {
      "application/vnd.jupyter.widget-view+json": {
       "model_id": "cbd0c63e1c6e43ecb462000c646a9fe6",
       "version_major": 2,
       "version_minor": 0
      },
      "text/plain": [
       "Drawing 20 posterior samples:   0%|          | 0/20 [00:00<?, ?it/s]"
      ]
     },
     "metadata": {},
     "output_type": "display_data"
    },
    {
     "data": {
      "application/vnd.jupyter.widget-view+json": {
       "model_id": "0edef8599ad94acbadd9ec3a223b5340",
       "version_major": 2,
       "version_minor": 0
      },
      "text/plain": [
       "Drawing 20 posterior samples:   0%|          | 0/20 [00:00<?, ?it/s]"
      ]
     },
     "metadata": {},
     "output_type": "display_data"
    },
    {
     "data": {
      "application/vnd.jupyter.widget-view+json": {
       "model_id": "390c802b36d74a7abad1a8b5b34cae47",
       "version_major": 2,
       "version_minor": 0
      },
      "text/plain": [
       "Drawing 20 posterior samples:   0%|          | 0/20 [00:00<?, ?it/s]"
      ]
     },
     "metadata": {},
     "output_type": "display_data"
    },
    {
     "data": {
      "application/vnd.jupyter.widget-view+json": {
       "model_id": "170b07a7d9be447e88f8cdb78c340d06",
       "version_major": 2,
       "version_minor": 0
      },
      "text/plain": [
       "Drawing 20 posterior samples:   0%|          | 0/20 [00:00<?, ?it/s]"
      ]
     },
     "metadata": {},
     "output_type": "display_data"
    },
    {
     "data": {
      "application/vnd.jupyter.widget-view+json": {
       "model_id": "35075af4d12144a2ab2456584daa3697",
       "version_major": 2,
       "version_minor": 0
      },
      "text/plain": [
       "Drawing 20 posterior samples:   0%|          | 0/20 [00:00<?, ?it/s]"
      ]
     },
     "metadata": {},
     "output_type": "display_data"
    },
    {
     "data": {
      "application/vnd.jupyter.widget-view+json": {
       "model_id": "1437e9a155564e179859147051bc5312",
       "version_major": 2,
       "version_minor": 0
      },
      "text/plain": [
       "Drawing 20 posterior samples:   0%|          | 0/20 [00:00<?, ?it/s]"
      ]
     },
     "metadata": {},
     "output_type": "display_data"
    },
    {
     "data": {
      "application/vnd.jupyter.widget-view+json": {
       "model_id": "0a38a58d1bd444fc9fb8cc7f00768186",
       "version_major": 2,
       "version_minor": 0
      },
      "text/plain": [
       "Drawing 20 posterior samples:   0%|          | 0/20 [00:00<?, ?it/s]"
      ]
     },
     "metadata": {},
     "output_type": "display_data"
    },
    {
     "data": {
      "application/vnd.jupyter.widget-view+json": {
       "model_id": "79be41ce879447f8933a382075d2de7f",
       "version_major": 2,
       "version_minor": 0
      },
      "text/plain": [
       "Drawing 20 posterior samples:   0%|          | 0/20 [00:00<?, ?it/s]"
      ]
     },
     "metadata": {},
     "output_type": "display_data"
    },
    {
     "data": {
      "application/vnd.jupyter.widget-view+json": {
       "model_id": "ac57b2fdb81b43e1b54aacf6c2180ab4",
       "version_major": 2,
       "version_minor": 0
      },
      "text/plain": [
       "Drawing 20 posterior samples:   0%|          | 0/20 [00:00<?, ?it/s]"
      ]
     },
     "metadata": {},
     "output_type": "display_data"
    },
    {
     "data": {
      "application/vnd.jupyter.widget-view+json": {
       "model_id": "813d8ab0339140df9a87d861ef5ea778",
       "version_major": 2,
       "version_minor": 0
      },
      "text/plain": [
       "Drawing 20 posterior samples:   0%|          | 0/20 [00:00<?, ?it/s]"
      ]
     },
     "metadata": {},
     "output_type": "display_data"
    },
    {
     "data": {
      "application/vnd.jupyter.widget-view+json": {
       "model_id": "90000b97d8884d7d9a6479c7647e0845",
       "version_major": 2,
       "version_minor": 0
      },
      "text/plain": [
       "Drawing 20 posterior samples:   0%|          | 0/20 [00:00<?, ?it/s]"
      ]
     },
     "metadata": {},
     "output_type": "display_data"
    },
    {
     "data": {
      "application/vnd.jupyter.widget-view+json": {
       "model_id": "f1c92266c26f4c089f0ddc195ba1e6e9",
       "version_major": 2,
       "version_minor": 0
      },
      "text/plain": [
       "Drawing 20 posterior samples:   0%|          | 0/20 [00:00<?, ?it/s]"
      ]
     },
     "metadata": {},
     "output_type": "display_data"
    },
    {
     "data": {
      "application/vnd.jupyter.widget-view+json": {
       "model_id": "dd25fc153b2f4b06b3b10af51f870ab9",
       "version_major": 2,
       "version_minor": 0
      },
      "text/plain": [
       "Drawing 20 posterior samples:   0%|          | 0/20 [00:00<?, ?it/s]"
      ]
     },
     "metadata": {},
     "output_type": "display_data"
    },
    {
     "data": {
      "application/vnd.jupyter.widget-view+json": {
       "model_id": "75158645bb0c4b2bb89255664f8cec9e",
       "version_major": 2,
       "version_minor": 0
      },
      "text/plain": [
       "Drawing 20 posterior samples:   0%|          | 0/20 [00:00<?, ?it/s]"
      ]
     },
     "metadata": {},
     "output_type": "display_data"
    },
    {
     "data": {
      "application/vnd.jupyter.widget-view+json": {
       "model_id": "7c7983634c404262b97d5a978643030e",
       "version_major": 2,
       "version_minor": 0
      },
      "text/plain": [
       "Drawing 20 posterior samples:   0%|          | 0/20 [00:00<?, ?it/s]"
      ]
     },
     "metadata": {},
     "output_type": "display_data"
    },
    {
     "data": {
      "application/vnd.jupyter.widget-view+json": {
       "model_id": "7fa3686cc1c341b2899a93e46c2f23fd",
       "version_major": 2,
       "version_minor": 0
      },
      "text/plain": [
       "Drawing 20 posterior samples:   0%|          | 0/20 [00:00<?, ?it/s]"
      ]
     },
     "metadata": {},
     "output_type": "display_data"
    },
    {
     "data": {
      "application/vnd.jupyter.widget-view+json": {
       "model_id": "22b48bf2d975480a8a8ac350b332613a",
       "version_major": 2,
       "version_minor": 0
      },
      "text/plain": [
       "Drawing 20 posterior samples:   0%|          | 0/20 [00:00<?, ?it/s]"
      ]
     },
     "metadata": {},
     "output_type": "display_data"
    },
    {
     "data": {
      "application/vnd.jupyter.widget-view+json": {
       "model_id": "900c06d19c2b46c9a196aae19d0844b0",
       "version_major": 2,
       "version_minor": 0
      },
      "text/plain": [
       "Drawing 20 posterior samples:   0%|          | 0/20 [00:00<?, ?it/s]"
      ]
     },
     "metadata": {},
     "output_type": "display_data"
    },
    {
     "data": {
      "application/vnd.jupyter.widget-view+json": {
       "model_id": "ca292e4c74bd40bfa997eec0dd9b60c8",
       "version_major": 2,
       "version_minor": 0
      },
      "text/plain": [
       "Drawing 20 posterior samples:   0%|          | 0/20 [00:00<?, ?it/s]"
      ]
     },
     "metadata": {},
     "output_type": "display_data"
    },
    {
     "data": {
      "application/vnd.jupyter.widget-view+json": {
       "model_id": "402912e70e4d49e8a6f4c3259030774c",
       "version_major": 2,
       "version_minor": 0
      },
      "text/plain": [
       "Drawing 20 posterior samples:   0%|          | 0/20 [00:00<?, ?it/s]"
      ]
     },
     "metadata": {},
     "output_type": "display_data"
    },
    {
     "data": {
      "application/vnd.jupyter.widget-view+json": {
       "model_id": "6542eca7878847559506e56b0f01846f",
       "version_major": 2,
       "version_minor": 0
      },
      "text/plain": [
       "Drawing 20 posterior samples:   0%|          | 0/20 [00:00<?, ?it/s]"
      ]
     },
     "metadata": {},
     "output_type": "display_data"
    },
    {
     "data": {
      "application/vnd.jupyter.widget-view+json": {
       "model_id": "a2af5a7053cb4440aaf833bdb33ca5ca",
       "version_major": 2,
       "version_minor": 0
      },
      "text/plain": [
       "Drawing 20 posterior samples:   0%|          | 0/20 [00:00<?, ?it/s]"
      ]
     },
     "metadata": {},
     "output_type": "display_data"
    },
    {
     "data": {
      "application/vnd.jupyter.widget-view+json": {
       "model_id": "75d69d7e764d467a91d2ffbba8ab35a0",
       "version_major": 2,
       "version_minor": 0
      },
      "text/plain": [
       "Drawing 20 posterior samples:   0%|          | 0/20 [00:00<?, ?it/s]"
      ]
     },
     "metadata": {},
     "output_type": "display_data"
    },
    {
     "data": {
      "application/vnd.jupyter.widget-view+json": {
       "model_id": "43ecf6ca28d94c13af84dcb177af1749",
       "version_major": 2,
       "version_minor": 0
      },
      "text/plain": [
       "Drawing 20 posterior samples:   0%|          | 0/20 [00:00<?, ?it/s]"
      ]
     },
     "metadata": {},
     "output_type": "display_data"
    },
    {
     "data": {
      "application/vnd.jupyter.widget-view+json": {
       "model_id": "e9f88042f71f4bfea4d61bfed8d0942f",
       "version_major": 2,
       "version_minor": 0
      },
      "text/plain": [
       "Drawing 20 posterior samples:   0%|          | 0/20 [00:00<?, ?it/s]"
      ]
     },
     "metadata": {},
     "output_type": "display_data"
    },
    {
     "data": {
      "application/vnd.jupyter.widget-view+json": {
       "model_id": "85240eacda0d4951a7fb91ad7c947d99",
       "version_major": 2,
       "version_minor": 0
      },
      "text/plain": [
       "Drawing 20 posterior samples:   0%|          | 0/20 [00:00<?, ?it/s]"
      ]
     },
     "metadata": {},
     "output_type": "display_data"
    },
    {
     "data": {
      "application/vnd.jupyter.widget-view+json": {
       "model_id": "cb83b99369324ebbacebed3837eb82d3",
       "version_major": 2,
       "version_minor": 0
      },
      "text/plain": [
       "Drawing 20 posterior samples:   0%|          | 0/20 [00:00<?, ?it/s]"
      ]
     },
     "metadata": {},
     "output_type": "display_data"
    },
    {
     "data": {
      "application/vnd.jupyter.widget-view+json": {
       "model_id": "552b81eb6e644997b420f7586b3a62ea",
       "version_major": 2,
       "version_minor": 0
      },
      "text/plain": [
       "Drawing 20 posterior samples:   0%|          | 0/20 [00:00<?, ?it/s]"
      ]
     },
     "metadata": {},
     "output_type": "display_data"
    },
    {
     "data": {
      "application/vnd.jupyter.widget-view+json": {
       "model_id": "f4476d203f8a4795a6cc63afed33d840",
       "version_major": 2,
       "version_minor": 0
      },
      "text/plain": [
       "Drawing 20 posterior samples:   0%|          | 0/20 [00:00<?, ?it/s]"
      ]
     },
     "metadata": {},
     "output_type": "display_data"
    },
    {
     "data": {
      "application/vnd.jupyter.widget-view+json": {
       "model_id": "f2391d4bb2a34e528af9fa3c57d945cf",
       "version_major": 2,
       "version_minor": 0
      },
      "text/plain": [
       "Drawing 20 posterior samples:   0%|          | 0/20 [00:00<?, ?it/s]"
      ]
     },
     "metadata": {},
     "output_type": "display_data"
    },
    {
     "data": {
      "application/vnd.jupyter.widget-view+json": {
       "model_id": "10b22896cda74944bb59079f48813156",
       "version_major": 2,
       "version_minor": 0
      },
      "text/plain": [
       "Drawing 20 posterior samples:   0%|          | 0/20 [00:00<?, ?it/s]"
      ]
     },
     "metadata": {},
     "output_type": "display_data"
    },
    {
     "data": {
      "application/vnd.jupyter.widget-view+json": {
       "model_id": "0a1c926dcb544fac84336c537ea4d8d5",
       "version_major": 2,
       "version_minor": 0
      },
      "text/plain": [
       "Drawing 20 posterior samples:   0%|          | 0/20 [00:00<?, ?it/s]"
      ]
     },
     "metadata": {},
     "output_type": "display_data"
    },
    {
     "data": {
      "application/vnd.jupyter.widget-view+json": {
       "model_id": "4788ec2830c64fd88fbc6d18cd7496f5",
       "version_major": 2,
       "version_minor": 0
      },
      "text/plain": [
       "Drawing 20 posterior samples:   0%|          | 0/20 [00:00<?, ?it/s]"
      ]
     },
     "metadata": {},
     "output_type": "display_data"
    },
    {
     "data": {
      "application/vnd.jupyter.widget-view+json": {
       "model_id": "5ac679c405ed4b4d94e34c96d660a215",
       "version_major": 2,
       "version_minor": 0
      },
      "text/plain": [
       "Drawing 20 posterior samples:   0%|          | 0/20 [00:00<?, ?it/s]"
      ]
     },
     "metadata": {},
     "output_type": "display_data"
    },
    {
     "data": {
      "application/vnd.jupyter.widget-view+json": {
       "model_id": "e0745b5573334673a02252fd8001feed",
       "version_major": 2,
       "version_minor": 0
      },
      "text/plain": [
       "Drawing 20 posterior samples:   0%|          | 0/20 [00:00<?, ?it/s]"
      ]
     },
     "metadata": {},
     "output_type": "display_data"
    },
    {
     "data": {
      "application/vnd.jupyter.widget-view+json": {
       "model_id": "87a0b2d0ec68419091a86eaff23752ff",
       "version_major": 2,
       "version_minor": 0
      },
      "text/plain": [
       "Drawing 20 posterior samples:   0%|          | 0/20 [00:00<?, ?it/s]"
      ]
     },
     "metadata": {},
     "output_type": "display_data"
    },
    {
     "data": {
      "application/vnd.jupyter.widget-view+json": {
       "model_id": "ae282db9c9f642bf8856ffca19b9b400",
       "version_major": 2,
       "version_minor": 0
      },
      "text/plain": [
       "Drawing 20 posterior samples:   0%|          | 0/20 [00:00<?, ?it/s]"
      ]
     },
     "metadata": {},
     "output_type": "display_data"
    },
    {
     "data": {
      "application/vnd.jupyter.widget-view+json": {
       "model_id": "3c60d73b95a141479f316fc1f3f07577",
       "version_major": 2,
       "version_minor": 0
      },
      "text/plain": [
       "Drawing 20 posterior samples:   0%|          | 0/20 [00:00<?, ?it/s]"
      ]
     },
     "metadata": {},
     "output_type": "display_data"
    },
    {
     "data": {
      "application/vnd.jupyter.widget-view+json": {
       "model_id": "1ff59e9fb1a74d87be2e3bae7d86b579",
       "version_major": 2,
       "version_minor": 0
      },
      "text/plain": [
       "Drawing 20 posterior samples:   0%|          | 0/20 [00:00<?, ?it/s]"
      ]
     },
     "metadata": {},
     "output_type": "display_data"
    },
    {
     "data": {
      "application/vnd.jupyter.widget-view+json": {
       "model_id": "692febeebf654078bb9a6ebe45059992",
       "version_major": 2,
       "version_minor": 0
      },
      "text/plain": [
       "Drawing 20 posterior samples:   0%|          | 0/20 [00:00<?, ?it/s]"
      ]
     },
     "metadata": {},
     "output_type": "display_data"
    },
    {
     "data": {
      "application/vnd.jupyter.widget-view+json": {
       "model_id": "65f7d0b384ca4054bf9a1a4519cd3c47",
       "version_major": 2,
       "version_minor": 0
      },
      "text/plain": [
       "Drawing 20 posterior samples:   0%|          | 0/20 [00:00<?, ?it/s]"
      ]
     },
     "metadata": {},
     "output_type": "display_data"
    },
    {
     "data": {
      "application/vnd.jupyter.widget-view+json": {
       "model_id": "8459993fc01b49d8ac2fd84fabb65490",
       "version_major": 2,
       "version_minor": 0
      },
      "text/plain": [
       "Drawing 20 posterior samples:   0%|          | 0/20 [00:00<?, ?it/s]"
      ]
     },
     "metadata": {},
     "output_type": "display_data"
    },
    {
     "data": {
      "application/vnd.jupyter.widget-view+json": {
       "model_id": "1c1c1d851c6047588c4ec09c020d4dd7",
       "version_major": 2,
       "version_minor": 0
      },
      "text/plain": [
       "Drawing 20 posterior samples:   0%|          | 0/20 [00:00<?, ?it/s]"
      ]
     },
     "metadata": {},
     "output_type": "display_data"
    },
    {
     "data": {
      "application/vnd.jupyter.widget-view+json": {
       "model_id": "c1c72ac14baf46fe9a1647d5e3caeda1",
       "version_major": 2,
       "version_minor": 0
      },
      "text/plain": [
       "Drawing 20 posterior samples:   0%|          | 0/20 [00:00<?, ?it/s]"
      ]
     },
     "metadata": {},
     "output_type": "display_data"
    },
    {
     "data": {
      "application/vnd.jupyter.widget-view+json": {
       "model_id": "4c66676c6c09426f95014789a8eacfa0",
       "version_major": 2,
       "version_minor": 0
      },
      "text/plain": [
       "Drawing 20 posterior samples:   0%|          | 0/20 [00:00<?, ?it/s]"
      ]
     },
     "metadata": {},
     "output_type": "display_data"
    },
    {
     "data": {
      "application/vnd.jupyter.widget-view+json": {
       "model_id": "2e6a13645b1d42ac8813fe4540e80c62",
       "version_major": 2,
       "version_minor": 0
      },
      "text/plain": [
       "Drawing 20 posterior samples:   0%|          | 0/20 [00:00<?, ?it/s]"
      ]
     },
     "metadata": {},
     "output_type": "display_data"
    },
    {
     "data": {
      "application/vnd.jupyter.widget-view+json": {
       "model_id": "96edad8e21b7440aba400dda4d2272ab",
       "version_major": 2,
       "version_minor": 0
      },
      "text/plain": [
       "Drawing 20 posterior samples:   0%|          | 0/20 [00:00<?, ?it/s]"
      ]
     },
     "metadata": {},
     "output_type": "display_data"
    },
    {
     "data": {
      "application/vnd.jupyter.widget-view+json": {
       "model_id": "f6a0aca578cd4758b5def29abac38254",
       "version_major": 2,
       "version_minor": 0
      },
      "text/plain": [
       "Drawing 20 posterior samples:   0%|          | 0/20 [00:00<?, ?it/s]"
      ]
     },
     "metadata": {},
     "output_type": "display_data"
    },
    {
     "data": {
      "application/vnd.jupyter.widget-view+json": {
       "model_id": "fcab83d0b53b4111ab24faf30a6486b7",
       "version_major": 2,
       "version_minor": 0
      },
      "text/plain": [
       "Drawing 20 posterior samples:   0%|          | 0/20 [00:00<?, ?it/s]"
      ]
     },
     "metadata": {},
     "output_type": "display_data"
    },
    {
     "data": {
      "application/vnd.jupyter.widget-view+json": {
       "model_id": "c34f07dc6adf4fbb8156a6f52d72cceb",
       "version_major": 2,
       "version_minor": 0
      },
      "text/plain": [
       "Drawing 20 posterior samples:   0%|          | 0/20 [00:00<?, ?it/s]"
      ]
     },
     "metadata": {},
     "output_type": "display_data"
    },
    {
     "data": {
      "application/vnd.jupyter.widget-view+json": {
       "model_id": "47ae5d42c95547d190d123b3f25ee992",
       "version_major": 2,
       "version_minor": 0
      },
      "text/plain": [
       "Drawing 20 posterior samples:   0%|          | 0/20 [00:00<?, ?it/s]"
      ]
     },
     "metadata": {},
     "output_type": "display_data"
    },
    {
     "data": {
      "application/vnd.jupyter.widget-view+json": {
       "model_id": "2fdace57a6f14927b8cfa058e252fa60",
       "version_major": 2,
       "version_minor": 0
      },
      "text/plain": [
       "Drawing 20 posterior samples:   0%|          | 0/20 [00:00<?, ?it/s]"
      ]
     },
     "metadata": {},
     "output_type": "display_data"
    },
    {
     "data": {
      "application/vnd.jupyter.widget-view+json": {
       "model_id": "6df2cb6b99df4eef80e468e986b1f366",
       "version_major": 2,
       "version_minor": 0
      },
      "text/plain": [
       "Drawing 20 posterior samples:   0%|          | 0/20 [00:00<?, ?it/s]"
      ]
     },
     "metadata": {},
     "output_type": "display_data"
    },
    {
     "data": {
      "application/vnd.jupyter.widget-view+json": {
       "model_id": "c074b03b5210447391c90f1e19e462ce",
       "version_major": 2,
       "version_minor": 0
      },
      "text/plain": [
       "Drawing 20 posterior samples:   0%|          | 0/20 [00:00<?, ?it/s]"
      ]
     },
     "metadata": {},
     "output_type": "display_data"
    },
    {
     "data": {
      "application/vnd.jupyter.widget-view+json": {
       "model_id": "1f523f2fafdf4f958584b4702da05a6b",
       "version_major": 2,
       "version_minor": 0
      },
      "text/plain": [
       "Drawing 20 posterior samples:   0%|          | 0/20 [00:00<?, ?it/s]"
      ]
     },
     "metadata": {},
     "output_type": "display_data"
    },
    {
     "data": {
      "application/vnd.jupyter.widget-view+json": {
       "model_id": "7177408a19b04cc4b1f6a95d8b2c60b1",
       "version_major": 2,
       "version_minor": 0
      },
      "text/plain": [
       "Drawing 20 posterior samples:   0%|          | 0/20 [00:00<?, ?it/s]"
      ]
     },
     "metadata": {},
     "output_type": "display_data"
    },
    {
     "data": {
      "application/vnd.jupyter.widget-view+json": {
       "model_id": "5edb5209abb84fe5a4f258da3eff7eb3",
       "version_major": 2,
       "version_minor": 0
      },
      "text/plain": [
       "Drawing 20 posterior samples:   0%|          | 0/20 [00:00<?, ?it/s]"
      ]
     },
     "metadata": {},
     "output_type": "display_data"
    },
    {
     "data": {
      "application/vnd.jupyter.widget-view+json": {
       "model_id": "6a85576fa9ff4aa0bdabc2f332b9d61e",
       "version_major": 2,
       "version_minor": 0
      },
      "text/plain": [
       "Drawing 20 posterior samples:   0%|          | 0/20 [00:00<?, ?it/s]"
      ]
     },
     "metadata": {},
     "output_type": "display_data"
    },
    {
     "data": {
      "application/vnd.jupyter.widget-view+json": {
       "model_id": "e32d163363744c1493b1ea6a0006ef45",
       "version_major": 2,
       "version_minor": 0
      },
      "text/plain": [
       "Drawing 20 posterior samples:   0%|          | 0/20 [00:00<?, ?it/s]"
      ]
     },
     "metadata": {},
     "output_type": "display_data"
    },
    {
     "data": {
      "application/vnd.jupyter.widget-view+json": {
       "model_id": "a12ea268f75b4c3ea801f05f9bc8fd99",
       "version_major": 2,
       "version_minor": 0
      },
      "text/plain": [
       "Drawing 20 posterior samples:   0%|          | 0/20 [00:00<?, ?it/s]"
      ]
     },
     "metadata": {},
     "output_type": "display_data"
    },
    {
     "data": {
      "application/vnd.jupyter.widget-view+json": {
       "model_id": "55c5969d969f442cb4c6b50acd7b408d",
       "version_major": 2,
       "version_minor": 0
      },
      "text/plain": [
       "Drawing 20 posterior samples:   0%|          | 0/20 [00:00<?, ?it/s]"
      ]
     },
     "metadata": {},
     "output_type": "display_data"
    },
    {
     "data": {
      "application/vnd.jupyter.widget-view+json": {
       "model_id": "9a2a7907b5f2430086a2fb534dc061f1",
       "version_major": 2,
       "version_minor": 0
      },
      "text/plain": [
       "Drawing 20 posterior samples:   0%|          | 0/20 [00:00<?, ?it/s]"
      ]
     },
     "metadata": {},
     "output_type": "display_data"
    },
    {
     "data": {
      "application/vnd.jupyter.widget-view+json": {
       "model_id": "463abf9c2be54c11a67a17050f71a04a",
       "version_major": 2,
       "version_minor": 0
      },
      "text/plain": [
       "Drawing 20 posterior samples:   0%|          | 0/20 [00:00<?, ?it/s]"
      ]
     },
     "metadata": {},
     "output_type": "display_data"
    },
    {
     "data": {
      "application/vnd.jupyter.widget-view+json": {
       "model_id": "654032ba7762465e940317f57b28717f",
       "version_major": 2,
       "version_minor": 0
      },
      "text/plain": [
       "Drawing 20 posterior samples:   0%|          | 0/20 [00:00<?, ?it/s]"
      ]
     },
     "metadata": {},
     "output_type": "display_data"
    }
   ],
   "source": [
    "import random\n",
    "import torch\n",
    "import matplotlib.pyplot as plt\n",
    "\n",
    "# Ergebnisse sammeln\n",
    "true_hgt = []\n",
    "true_rho = []\n",
    "true_hgt_events = []\n",
    "\n",
    "pred_mean_hgt = []\n",
    "pred_mean_rho = []\n",
    "pred_mean_hgt_events = []\n",
    "\n",
    "abs_diff_hgt = []\n",
    "abs_diff_rho = []\n",
    "abs_diff_hgt_events = []\n",
    "\n",
    "gene_freq_colors = []\n",
    "\n",
    "# wenn du aus dem gelernten Posterior abfragen willst:\n",
    "# typischerweise in einem separaten Notebook/Skript\n",
    "# nach dem Training\n",
    "\n",
    "# 5000 Stichproben indices zufällig auswählen\n",
    "indices = random.sample(range(len(dataset)), k=min(1000, len(dataset)))\n",
    "\n",
    "for idx in indices:\n",
    "    # hole einen einzelnen Eintrag\n",
    "    item = dataset[idx]\n",
    "    \n",
    "    # flatten & concat\n",
    "    x_test = flatten_and_concat(\n",
    "        item[\"gene_absence_presence\"].unsqueeze(0),   # B=1\n",
    "        item[\"alleles_list_pca\"].unsqueeze(0),\n",
    "        item[\"distance_matrix\"].unsqueeze(0).unsqueeze(1),\n",
    "        item[\"fitch_score\"].view(1, 1)\n",
    "    )\n",
    "    \n",
    "    # ground truth\n",
    "    true_hgt.append(item[\"theta\"][0].item())\n",
    "    true_rho.append(item[\"theta\"][1].item())\n",
    "    true_hgt_events.append(item[\"theta\"][2].item())\n",
    "    \n",
    "    # sample aus posterior\n",
    "    samples = posterior.sample((20,), x=x_test)\n",
    "    \n",
    "    # mittelwert pro Parameter\n",
    "    mean_hgt = samples[:, 0].mean().item()\n",
    "    mean_rho = samples[:, 1].mean().item()\n",
    "    mean_hgt_events = samples[:, 2].mean().item()\n",
    "    \n",
    "    pred_mean_hgt.append(mean_hgt)\n",
    "    pred_mean_rho.append(mean_rho)\n",
    "    pred_mean_hgt_events.append(mean_hgt_events)\n",
    "    \n",
    "    abs_diff_hgt.append(abs(mean_hgt - true_hgt[-1]))\n",
    "    abs_diff_rho.append(abs(mean_rho - true_rho[-1]))\n",
    "    abs_diff_hgt_events.append(abs(mean_hgt_events - true_hgt_events[-1]))\n",
    "\n",
    "    gene_freq = item[\"gene_absence_presence\"].sum() / item[\"gene_absence_presence\"].numel()\n",
    "    gene_freq_colors.append(gene_freq.item())\n",
    "\n",
    "# Konvertiere Listen für sauberes Plotting\n",
    "true_hgt = torch.tensor(true_hgt)\n",
    "true_rho = torch.tensor(true_rho)\n",
    "true_hgt_events = torch.tensor(true_hgt_events)\n",
    "\n",
    "pred_mean_hgt = torch.tensor(pred_mean_hgt)\n",
    "pred_mean_rho = torch.tensor(pred_mean_rho)\n",
    "pred_mean_hgt_events = torch.tensor(pred_mean_hgt_events)\n",
    "\n",
    "colors = torch.tensor(gene_freq_colors)"
   ]
  },
  {
   "cell_type": "code",
   "execution_count": 80,
   "id": "201886c8-fbe2-4513-a103-063a7752fc36",
   "metadata": {},
   "outputs": [
    {
     "data": {
      "image/png": "[encoded data removed]",
      "text/plain": [
       "<Figure size 1800x600 with 6 Axes>"
      ]
     },
     "metadata": {},
     "output_type": "display_data"
    }
   ],
   "source": [
    "# === Plotten ===\n",
    "fig, axs = plt.subplots(1, 3, figsize=(18, 6))\n",
    "\n",
    "# 1. hgt_rate\n",
    "sc0 = axs[0].scatter(\n",
    "    true_hgt,\n",
    "    pred_mean_hgt,\n",
    "    c=colors,\n",
    "    cmap=\"RdYlGn\",\n",
    "    alpha=0.7,\n",
    "    s=4\n",
    ")\n",
    "axs[0].plot(\n",
    "    [hgt_rate_min, hgt_rate_max],\n",
    "    [hgt_rate_min, hgt_rate_max],\n",
    "    color=\"red\", linestyle=\"--\"\n",
    ")\n",
    "axs[0].set_xlabel(\"Real hgt_rate\")\n",
    "axs[0].set_ylabel(\"Predicted hgt_rate\")\n",
    "axs[0].set_title(\"Predicted vs Real hgt_rate\")\n",
    "cbar0 = fig.colorbar(sc0, ax=axs[0], orientation='vertical', pad=0.01)\n",
    "cbar0.set_label(\"Gene frequency\", fontsize=9)\n",
    "\n",
    "# 2. rho\n",
    "sc1 = axs[1].scatter(\n",
    "    true_rho,\n",
    "    pred_mean_rho,\n",
    "    c=colors,\n",
    "    cmap=\"RdYlGn\",\n",
    "    alpha=0.7,\n",
    "    s=4\n",
    ")\n",
    "axs[1].plot(\n",
    "    [rho_min, rho_max],\n",
    "    [rho_min, rho_max],\n",
    "    color=\"red\", linestyle=\"--\"\n",
    ")\n",
    "axs[1].set_xlabel(\"Real rho\")\n",
    "axs[1].set_ylabel(\"Predicted rho\")\n",
    "axs[1].set_title(\"Predicted vs Real rho\")\n",
    "cbar1 = fig.colorbar(sc1, ax=axs[1], orientation='vertical', pad=0.01)\n",
    "cbar1.set_label(\"Gene frequency\", fontsize=9)\n",
    "\n",
    "# 3. number_of_hgt_events\n",
    "sc2 = axs[2].scatter(\n",
    "    true_hgt_events,\n",
    "    pred_mean_hgt_events,\n",
    "    c=colors,\n",
    "    cmap=\"RdYlGn\",\n",
    "    alpha=0.7,\n",
    "    s=4\n",
    ")\n",
    "axs[2].plot(\n",
    "    [true_hgt_events.min(), true_hgt_events.max()],\n",
    "    [true_hgt_events.min(), true_hgt_events.max()],\n",
    "    color=\"red\", linestyle=\"--\"\n",
    ")\n",
    "axs[2].set_xlabel(\"Real number_of_hgt_events\")\n",
    "axs[2].set_ylabel(\"Predicted number_of_hgt_events\")\n",
    "axs[2].set_title(\"Predicted vs Real number_of_hgt_events\")\n",
    "cbar2 = fig.colorbar(sc2, ax=axs[2], orientation='vertical', pad=0.01)\n",
    "cbar2.set_label(\"Gene frequency\", fontsize=9)\n",
    "\n",
    "plt.tight_layout()\n",
    "plt.savefig(\"combined_prediction_plots.png\", dpi=300)\n",
    "plt.show()"
   ]
  },
  {
   "cell_type": "code",
   "execution_count": null,
   "id": "2235cb27-f03c-4dec-b868-1f1bf63f68be",
   "metadata": {},
   "outputs": [],
   "source": []
  }
 ],
 "metadata": {
  "kernelspec": {
   "display_name": "pangenome-gene-transfer-simulation",
   "language": "python",
   "name": "pangenome-gene-transfer-simulation"
  },
  "language_info": {
   "codemirror_mode": {
    "name": "ipython",
    "version": 3
   },
   "file_extension": ".py",
   "mimetype": "text/x-python",
   "name": "python",
   "nbconvert_exporter": "python",
   "pygments_lexer": "ipython3",
   "version": "3.12.1"
  }
 },
 "nbformat": 4,
 "nbformat_minor": 5
}
