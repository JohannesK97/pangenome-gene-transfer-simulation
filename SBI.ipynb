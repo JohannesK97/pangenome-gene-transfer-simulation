{
 "cells": [
  {
   "cell_type": "code",
   "execution_count": 3,
   "id": "e5885b4c-88f5-4dd4-aa59-e430878c1971",
   "metadata": {},
   "outputs": [],
   "source": [
    "import torch\n",
    "import sbi\n",
    "\n",
    "from sbi.analysis import pairplot\n",
    "from sbi.inference import NPE\n",
    "from sbi.utils import BoxUniform\n",
    "from sbi.utils.user_input_checks import (\n",
    "    check_sbi_inputs,\n",
    "    process_prior,\n",
    "    process_simulator,\n",
    ")"
   ]
  },
  {
   "cell_type": "code",
   "execution_count": 15,
   "id": "682c086e-b20b-44fb-a142-c095b233650d",
   "metadata": {},
   "outputs": [
    {
     "name": "stdout",
     "output_type": "stream",
     "text": [
      "[0 1 3 5 6]\n",
      "[3 5 6 9]\n",
      "[0 1 2 4 6]\n",
      "[2 3 5 8 9]\n",
      "[0 1 2 3 4 5 6 7 8 9]\n",
      "[2 9]\n",
      "[1 4 6 9]\n",
      "[0 1 2 3 4 6 7 9]\n",
      "[0 3 7 8]\n"
     ]
    },
    {
     "name": "stderr",
     "output_type": "stream",
     "text": [
      "C:\\Users\\uhewm\\OneDrive\\PhD\\Project No.2\\pangenome-gene-transfer-simulation\\gene_model.py:232: RuntimeWarning: 0 double mutation (present -> present) occured. It is recommended to increase the num_sites to 50 or higher. Alternatily use the double_site_relocation or relocate_double_gene_gain option.\n",
      "  warnings.warn(\n"
     ]
    },
    {
     "name": "stdout",
     "output_type": "stream",
     "text": [
      "[0 1 2 3 4 5 6 7 8 9]\n"
     ]
    }
   ],
   "source": [
    "### Simulate n trees:\n",
    "\n",
    "# Packages\n",
    "import gene_model\n",
    "import gfs\n",
    "import color_scheme\n",
    "\n",
    "from matplotlib import pyplot as plt\n",
    "import seaborn as sns\n",
    "\n",
    "import sbi\n",
    "import numpy as np\n",
    "\n",
    "# Simulation Parameters\n",
    "theta = 0.2 # Gene Gain rate\n",
    "rho = 0.04 # Gene Loss rate\n",
    "\n",
    "gene_conv = 0 # Gene Conversion rate\n",
    "recomb = 0 # Recombination rate\n",
    "\n",
    "num_sites = 10 # Number of sites to simulate\n",
    "num_samples = 5 # Number of samples / individuals\n",
    "\n",
    "number_of_simulated_data_points = 10\n",
    "\n",
    "simulated_data_list, parameters_simulation = [], []\n",
    "for i in range(0, number_of_simulated_data_points):\n",
    "\n",
    "    hgt_rate = np.random.uniform(0, 0.1) # HGT rate\n",
    "    \n",
    "    # Simulate tree:\n",
    "    mts = gene_model.gene_model(\n",
    "    theta=theta,\n",
    "    rho=rho,\n",
    "    gene_conversion_rate=gene_conv,\n",
    "    recombination_rate=recomb,\n",
    "    hgt_rate=hgt_rate,\n",
    "    num_samples=num_samples,\n",
    "    num_sites=num_sites,\n",
    "    double_site_relocation=True, # Fix double gene gain events, won't hide the warning.\n",
    "    )\n",
    "\n",
    "    simulated_data_list.append(mts)\n",
    "    parameters_simulation.append(hgt_rate)\n",
    "\n",
    "\n"
   ]
  },
  {
   "cell_type": "code",
   "execution_count": 21,
   "id": "ef2136fb-0f11-4873-a320-620cb4cae80f",
   "metadata": {},
   "outputs": [
    {
     "data": {
      "text/plain": [
       "array([[0., 0., 0., 1., 0., 1., 0., 0., 0., 0., 0., 1., 0., 0., 0., 0.,\n",
       "        0., 0., 0., 0.],\n",
       "       [0., 0., 0., 1., 0., 0., 0., 0., 0., 0., 0., 0., 0., 0., 0., 0.,\n",
       "        0., 0., 0., 0.],\n",
       "       [0., 0., 0., 1., 0., 0., 0., 0., 0., 0., 0., 0., 0., 0., 0., 0.,\n",
       "        0., 0., 0., 0.],\n",
       "       [0., 0., 0., 1., 0., 1., 0., 0., 0., 0., 0., 0., 0., 0., 0., 0.,\n",
       "        0., 0., 0., 0.],\n",
       "       [0., 0., 0., 1., 0., 0., 0., 0., 0., 0., 0., 0., 0., 0., 0., 0.,\n",
       "        0., 0., 0., 0.]])"
      ]
     },
     "execution_count": 21,
     "metadata": {},
     "output_type": "execute_result"
    }
   ],
   "source": [
    "# Read out the simulated data:\n",
    "\n",
    "simulated_gene_absence_presence_list = []\n",
    "\n",
    "for i in range(0, number_of_simulated_data_points):\n",
    "    \n",
    "    mts = simulated_data_list[i]\n",
    "    matrix = np.zeros((num_samples, num_sites*2))\n",
    "\n",
    "    for var in mts.variants():\n",
    "        if 'present' in var.alleles and 'absent' in var.alleles: # Gene present and absent in different samples\n",
    "            matrix[:,int(var.site.position)] = var.genotypes\n",
    "        elif 'present' in var.alleles: # Gene present in all samples\n",
    "            matrix[:,int(var.site.position)] = np.ones(num_samples)\n",
    "\n",
    "    simulated_gene_absence_presence_list.append(matrix)\n",
    "\n",
    "simulated_gene_absence_presence_list[1]"
   ]
  },
  {
   "cell_type": "code",
   "execution_count": 28,
   "id": "24d08f00-9e95-4c8a-b536-7dbd0782f2b8",
   "metadata": {},
   "outputs": [
    {
     "ename": "NameError",
     "evalue": "name 'length' is not defined",
     "output_type": "error",
     "traceback": [
      "\u001b[1;31m---------------------------------------------------------------------------\u001b[0m",
      "\u001b[1;31mNameError\u001b[0m                                 Traceback (most recent call last)",
      "Cell \u001b[1;32mIn[28], line 2\u001b[0m\n\u001b[0;32m      1\u001b[0m \u001b[38;5;28;01mfor\u001b[39;00m var \u001b[38;5;129;01min\u001b[39;00m mts\u001b[38;5;241m.\u001b[39mvariants():\n\u001b[1;32m----> 2\u001b[0m     \u001b[38;5;28mprint\u001b[39m(\u001b[43mlength\u001b[49m(var\u001b[38;5;241m.\u001b[39malleles))\n",
      "\u001b[1;31mNameError\u001b[0m: name 'length' is not defined"
     ]
    }
   ],
   "source": []
  },
  {
   "cell_type": "code",
   "execution_count": null,
   "id": "b8b5b863-2c09-472f-ad3b-6df6fb2e6c56",
   "metadata": {},
   "outputs": [],
   "source": []
  }
 ],
 "metadata": {
  "kernelspec": {
   "display_name": "pangenome-gene-transfer-simulation",
   "language": "python",
   "name": "pangenome-gene-transfer-simulation"
  },
  "language_info": {
   "codemirror_mode": {
    "name": "ipython",
    "version": 3
   },
   "file_extension": ".py",
   "mimetype": "text/x-python",
   "name": "python",
   "nbconvert_exporter": "python",
   "pygments_lexer": "ipython3",
   "version": "3.12.1"
  }
 },
 "nbformat": 4,
 "nbformat_minor": 5
}
