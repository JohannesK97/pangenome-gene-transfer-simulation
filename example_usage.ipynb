{
 "cells": [
  {
   "cell_type": "markdown",
   "metadata": {},
   "source": [
    "### Example Usage of the HGT aware Gene Gain / Loss Model"
   ]
  },
  {
   "cell_type": "code",
   "execution_count": 3,
   "metadata": {},
   "outputs": [],
   "source": [
    "import gene_model\n",
    "import gfs\n",
    "import color_scheme\n",
    "\n",
    "from matplotlib import pyplot as plt\n",
    "import seaborn as sns"
   ]
  },
  {
   "cell_type": "code",
   "execution_count": 8,
   "metadata": {},
   "outputs": [],
   "source": [
    "# Simulation Parameters\n",
    "theta = 200 # Gene Gain rate\n",
    "rho = 0.1 # Gene Loss rate\n",
    "\n",
    "gene_conv = 0 # Gene Conversion rate\n",
    "recomb = 0 # Recombination rate\n",
    "hgt_rate = 0.0001 # HGT rate\n",
    "\n",
    "\n",
    "num_sites = 30000 # Number of sites to simulate\n",
    "num_samples = 5 # Number of samples / individuals"
   ]
  },
  {
   "cell_type": "markdown",
   "metadata": {},
   "source": [
    "### Compute a tskit.TreeSequence with mutations"
   ]
  },
  {
   "cell_type": "code",
   "execution_count": 9,
   "metadata": {},
   "outputs": [
    {
     "ename": "KeyboardInterrupt",
     "evalue": "",
     "output_type": "error",
     "traceback": [
      "\u001b[1;31m---------------------------------------------------------------------------\u001b[0m",
      "\u001b[1;31mKeyboardInterrupt\u001b[0m                         Traceback (most recent call last)",
      "Cell \u001b[1;32mIn[9], line 1\u001b[0m\n\u001b[1;32m----> 1\u001b[0m mts \u001b[38;5;241m=\u001b[39m \u001b[43mgene_model\u001b[49m\u001b[38;5;241;43m.\u001b[39;49m\u001b[43mgene_model\u001b[49m\u001b[43m(\u001b[49m\n\u001b[0;32m      2\u001b[0m \u001b[43m    \u001b[49m\u001b[43mtheta\u001b[49m\u001b[38;5;241;43m=\u001b[39;49m\u001b[43mtheta\u001b[49m\u001b[43m,\u001b[49m\n\u001b[0;32m      3\u001b[0m \u001b[43m    \u001b[49m\u001b[43mrho\u001b[49m\u001b[38;5;241;43m=\u001b[39;49m\u001b[43mrho\u001b[49m\u001b[43m,\u001b[49m\n\u001b[0;32m      4\u001b[0m \u001b[43m    \u001b[49m\u001b[43mgene_conversion_rate\u001b[49m\u001b[38;5;241;43m=\u001b[39;49m\u001b[43mgene_conv\u001b[49m\u001b[43m,\u001b[49m\n\u001b[0;32m      5\u001b[0m \u001b[43m    \u001b[49m\u001b[43mrecombination_rate\u001b[49m\u001b[38;5;241;43m=\u001b[39;49m\u001b[43mrecomb\u001b[49m\u001b[43m,\u001b[49m\n\u001b[0;32m      6\u001b[0m \u001b[43m    \u001b[49m\u001b[43mhgt_rate\u001b[49m\u001b[38;5;241;43m=\u001b[39;49m\u001b[43mhgt_rate\u001b[49m\u001b[43m,\u001b[49m\n\u001b[0;32m      7\u001b[0m \u001b[43m    \u001b[49m\u001b[43mnum_samples\u001b[49m\u001b[38;5;241;43m=\u001b[39;49m\u001b[43mnum_samples\u001b[49m\u001b[43m,\u001b[49m\n\u001b[0;32m      8\u001b[0m \u001b[43m    \u001b[49m\u001b[43mnum_sites\u001b[49m\u001b[38;5;241;43m=\u001b[39;49m\u001b[43mnum_sites\u001b[49m\u001b[43m,\u001b[49m\n\u001b[0;32m      9\u001b[0m \u001b[43m    \u001b[49m\u001b[43mdouble_site_relocation\u001b[49m\u001b[38;5;241;43m=\u001b[39;49m\u001b[38;5;28;43;01mTrue\u001b[39;49;00m\u001b[43m,\u001b[49m\u001b[43m \u001b[49m\u001b[38;5;66;43;03m# Fix double gene gain events, won't hide the warning.\u001b[39;49;00m\n\u001b[0;32m     10\u001b[0m \u001b[43m)\u001b[49m\n\u001b[0;32m     11\u001b[0m mts\n",
      "File \u001b[1;32m~\\OneDrive\\PhD\\Project No.2\\pangenome-gene-transfer-simulation\\gene_model.py:209\u001b[0m, in \u001b[0;36mgene_model\u001b[1;34m(theta, rho, ts, hgt_edges, num_samples, num_sites, gene_conversion_rate, recombination_rate, hgt_rate, ce_from_nwk, ce_from_ts, check_double_gene_gain, double_site_relocation, relocate_double_gene_gain)\u001b[0m\n\u001b[0;32m    202\u001b[0m     mts \u001b[38;5;241m=\u001b[39m msprime\u001b[38;5;241m.\u001b[39msim_mutations(\n\u001b[0;32m    203\u001b[0m         ts,\n\u001b[0;32m    204\u001b[0m         rate\u001b[38;5;241m=\u001b[39mevent_rate,\n\u001b[0;32m    205\u001b[0m         model\u001b[38;5;241m=\u001b[39mgain_loss_model,\n\u001b[0;32m    206\u001b[0m     )\n\u001b[0;32m    207\u001b[0m \u001b[38;5;28;01melse\u001b[39;00m:\n\u001b[0;32m    208\u001b[0m     \u001b[38;5;66;03m# Custom mutation simulation that supports hgt.\u001b[39;00m\n\u001b[1;32m--> 209\u001b[0m     mts \u001b[38;5;241m=\u001b[39m \u001b[43mhgt_mutations\u001b[49m\u001b[38;5;241;43m.\u001b[39;49m\u001b[43msim_mutations\u001b[49m\u001b[43m(\u001b[49m\n\u001b[0;32m    210\u001b[0m \u001b[43m        \u001b[49m\u001b[43mts\u001b[49m\u001b[43m,\u001b[49m\n\u001b[0;32m    211\u001b[0m \u001b[43m        \u001b[49m\u001b[43mhgt_edges\u001b[49m\u001b[38;5;241;43m=\u001b[39;49m\u001b[43mhgt_edges\u001b[49m\u001b[43m,\u001b[49m\n\u001b[0;32m    212\u001b[0m \u001b[43m        \u001b[49m\u001b[43mevent_rate\u001b[49m\u001b[38;5;241;43m=\u001b[39;49m\u001b[43mevent_rate\u001b[49m\u001b[43m,\u001b[49m\n\u001b[0;32m    213\u001b[0m \u001b[43m        \u001b[49m\u001b[43mmodel\u001b[49m\u001b[38;5;241;43m=\u001b[39;49m\u001b[43mgain_loss_model\u001b[49m\u001b[43m,\u001b[49m\n\u001b[0;32m    214\u001b[0m \u001b[43m    \u001b[49m\u001b[43m)\u001b[49m\n\u001b[0;32m    216\u001b[0m \u001b[38;5;66;03m# No further processing needed\u001b[39;00m\n\u001b[0;32m    217\u001b[0m \u001b[38;5;28;01mif\u001b[39;00m \u001b[38;5;129;01mnot\u001b[39;00m check_double_gene_gain \u001b[38;5;129;01mand\u001b[39;00m \u001b[38;5;129;01mnot\u001b[39;00m relocate_double_gene_gain \u001b[38;5;129;01mand\u001b[39;00m \u001b[38;5;129;01mnot\u001b[39;00m double_site_relocation:\n",
      "File \u001b[1;32m~\\OneDrive\\PhD\\Project No.2\\pangenome-gene-transfer-simulation\\hgt_mutations.py:427\u001b[0m, in \u001b[0;36msim_mutations\u001b[1;34m(ts, hgt_edges, event_rate, model)\u001b[0m\n\u001b[0;32m    423\u001b[0m root_nodes \u001b[38;5;241m=\u001b[39m \u001b[38;5;28mlist\u001b[39m({e\u001b[38;5;241m.\u001b[39mparent \u001b[38;5;28;01mfor\u001b[39;00m e \u001b[38;5;129;01min\u001b[39;00m edges \u001b[38;5;28;01mif\u001b[39;00m e\u001b[38;5;241m.\u001b[39mparent \u001b[38;5;129;01mnot\u001b[39;00m \u001b[38;5;129;01min\u001b[39;00m child_ids})\n\u001b[0;32m    425\u001b[0m hgt_generator \u001b[38;5;241m=\u001b[39m HGTMutationGenerator(rate_map\u001b[38;5;241m=\u001b[39mrate_map, model\u001b[38;5;241m=\u001b[39mgain_loss_model)\n\u001b[1;32m--> 427\u001b[0m ts \u001b[38;5;241m=\u001b[39m \u001b[43mhgt_generator\u001b[49m\u001b[38;5;241;43m.\u001b[39;49m\u001b[43mgenerate\u001b[49m\u001b[43m(\u001b[49m\n\u001b[0;32m    428\u001b[0m \u001b[43m    \u001b[49m\u001b[43mtables\u001b[49m\u001b[43m,\u001b[49m\n\u001b[0;32m    429\u001b[0m \u001b[43m    \u001b[49m\u001b[43medges\u001b[49m\u001b[43m,\u001b[49m\n\u001b[0;32m    430\u001b[0m \u001b[43m    \u001b[49m\u001b[43mroot_nodes\u001b[49m\u001b[43m,\u001b[49m\n\u001b[0;32m    431\u001b[0m \u001b[43m    \u001b[49m\u001b[43mrandint\u001b[49m\u001b[43m(\u001b[49m\u001b[38;5;241;43m0\u001b[39;49m\u001b[43m,\u001b[49m\u001b[43m \u001b[49m\u001b[38;5;241;43m4294967295\u001b[39;49m\u001b[43m)\u001b[49m\u001b[43m,\u001b[49m\n\u001b[0;32m    432\u001b[0m \u001b[43m    \u001b[49m\u001b[43mkeep\u001b[49m\u001b[38;5;241;43m=\u001b[39;49m\u001b[38;5;28;43;01mTrue\u001b[39;49;00m\u001b[43m,\u001b[49m\n\u001b[0;32m    433\u001b[0m \u001b[43m    \u001b[49m\u001b[43mdiscrete_genome\u001b[49m\u001b[38;5;241;43m=\u001b[39;49m\u001b[38;5;28;43;01mTrue\u001b[39;49;00m\u001b[43m,\u001b[49m\n\u001b[0;32m    434\u001b[0m \u001b[43m\u001b[49m\u001b[43m)\u001b[49m\n\u001b[0;32m    435\u001b[0m \u001b[38;5;28;01mreturn\u001b[39;00m ts\n",
      "File \u001b[1;32m~\\OneDrive\\PhD\\Project No.2\\pangenome-gene-transfer-simulation\\hgt_mutations.py:388\u001b[0m, in \u001b[0;36mHGTMutationGenerator.generate\u001b[1;34m(self, tables, edges, root_nodes, seed, keep, discrete_genome)\u001b[0m\n\u001b[0;32m    386\u001b[0m tables\u001b[38;5;241m.\u001b[39msites\u001b[38;5;241m.\u001b[39mclear()\n\u001b[0;32m    387\u001b[0m tables\u001b[38;5;241m.\u001b[39mmutations\u001b[38;5;241m.\u001b[39mclear()\n\u001b[1;32m--> 388\u001b[0m \u001b[38;5;28;43mself\u001b[39;49m\u001b[38;5;241;43m.\u001b[39;49m\u001b[43mplace_mutations\u001b[49m\u001b[43m(\u001b[49m\u001b[43mtables\u001b[49m\u001b[43m,\u001b[49m\u001b[43m \u001b[49m\u001b[43medges\u001b[49m\u001b[43m,\u001b[49m\u001b[43m \u001b[49m\u001b[43mdiscrete_genome\u001b[49m\u001b[38;5;241;43m=\u001b[39;49m\u001b[43mdiscrete_genome\u001b[49m\u001b[43m)\u001b[49m\n\u001b[0;32m    389\u001b[0m \u001b[38;5;28mself\u001b[39m\u001b[38;5;241m.\u001b[39mapply_mutations(tables, edges, root_nodes)\n\u001b[0;32m    390\u001b[0m \u001b[38;5;28mself\u001b[39m\u001b[38;5;241m.\u001b[39mpopulate_tables(tables)\n",
      "File \u001b[1;32m~\\OneDrive\\PhD\\Project No.2\\pangenome-gene-transfer-simulation\\hgt_mutations.py:256\u001b[0m, in \u001b[0;36mHGTMutationGenerator.place_mutations\u001b[1;34m(self, tables, edges, discrete_genome)\u001b[0m\n\u001b[0;32m    254\u001b[0m \u001b[38;5;28;01mfor\u001b[39;00m pos, site \u001b[38;5;129;01min\u001b[39;00m \u001b[38;5;28mself\u001b[39m\u001b[38;5;241m.\u001b[39msites\u001b[38;5;241m.\u001b[39mitems():\n\u001b[0;32m    255\u001b[0m     \u001b[38;5;28;01mfor\u001b[39;00m leaf \u001b[38;5;129;01min\u001b[39;00m leaf_node_ids:\n\u001b[1;32m--> 256\u001b[0m         \u001b[43msite\u001b[49m\u001b[38;5;241;43m.\u001b[39;49m\u001b[43madd_mutation\u001b[49m\u001b[43m(\u001b[49m\n\u001b[0;32m    257\u001b[0m \u001b[43m            \u001b[49m\u001b[43mnode\u001b[49m\u001b[38;5;241;43m=\u001b[39;49m\u001b[43mleaf\u001b[49m\u001b[43m,\u001b[49m\n\u001b[0;32m    258\u001b[0m \u001b[43m            \u001b[49m\u001b[43mtime\u001b[49m\u001b[38;5;241;43m=\u001b[39;49m\u001b[38;5;241;43m0.00000000001\u001b[39;49m\u001b[43m,\u001b[49m\n\u001b[0;32m    259\u001b[0m \u001b[43m            \u001b[49m\u001b[43mnew\u001b[49m\u001b[38;5;241;43m=\u001b[39;49m\u001b[38;5;28;43;01mTrue\u001b[39;49;00m\u001b[43m,\u001b[49m\n\u001b[0;32m    260\u001b[0m \u001b[43m            \u001b[49m\u001b[43mmetadata\u001b[49m\u001b[38;5;241;43m=\u001b[39;49m\u001b[38;5;28;43mself\u001b[39;49m\u001b[38;5;241;43m.\u001b[39;49m\u001b[43mbin_sentinel_mask\u001b[49m\u001b[38;5;241;43m.\u001b[39;49m\u001b[43mto_bytes\u001b[49m\u001b[43m(\u001b[49m\u001b[38;5;241;43m1\u001b[39;49m\u001b[43m)\u001b[49m\u001b[43m,\u001b[49m\n\u001b[0;32m    261\u001b[0m \u001b[43m        \u001b[49m\u001b[43m)\u001b[49m\n",
      "File \u001b[1;32m~\\OneDrive\\PhD\\Project No.2\\pangenome-gene-transfer-simulation\\hgt_mutations.py:66\u001b[0m, in \u001b[0;36mSite.add_mutation\u001b[1;34m(self, node, time, new, derived_state, metadata, id)\u001b[0m\n\u001b[0;32m     57\u001b[0m \u001b[38;5;28;01mdef\u001b[39;00m \u001b[38;5;21madd_mutation\u001b[39m(\n\u001b[0;32m     58\u001b[0m     \u001b[38;5;28mself\u001b[39m,\n\u001b[0;32m     59\u001b[0m     node,\n\u001b[1;32m   (...)\u001b[0m\n\u001b[0;32m     64\u001b[0m     \u001b[38;5;28mid\u001b[39m\u001b[38;5;241m=\u001b[39mtskit\u001b[38;5;241m.\u001b[39mNULL,  \u001b[38;5;66;03m# noqa: A002\u001b[39;00m\n\u001b[0;32m     65\u001b[0m ):\n\u001b[1;32m---> 66\u001b[0m     mutation \u001b[38;5;241m=\u001b[39m \u001b[43mMutation\u001b[49m\u001b[43m(\u001b[49m\n\u001b[0;32m     67\u001b[0m \u001b[43m        \u001b[49m\u001b[43mnode\u001b[49m\u001b[38;5;241;43m=\u001b[39;49m\u001b[43mnode\u001b[49m\u001b[43m,\u001b[49m\n\u001b[0;32m     68\u001b[0m \u001b[43m        \u001b[49m\u001b[43mderived_state\u001b[49m\u001b[38;5;241;43m=\u001b[39;49m\u001b[43mderived_state\u001b[49m\u001b[43m,\u001b[49m\n\u001b[0;32m     69\u001b[0m \u001b[43m        \u001b[49m\u001b[43mparent\u001b[49m\u001b[38;5;241;43m=\u001b[39;49m\u001b[38;5;28;43;01mNone\u001b[39;49;00m\u001b[43m,\u001b[49m\n\u001b[0;32m     70\u001b[0m \u001b[43m        \u001b[49m\u001b[43mmetadata\u001b[49m\u001b[38;5;241;43m=\u001b[39;49m\u001b[43mmetadata\u001b[49m\u001b[43m,\u001b[49m\n\u001b[0;32m     71\u001b[0m \u001b[43m        \u001b[49m\u001b[43mtime\u001b[49m\u001b[38;5;241;43m=\u001b[39;49m\u001b[43mtime\u001b[49m\u001b[43m,\u001b[49m\n\u001b[0;32m     72\u001b[0m \u001b[43m        \u001b[49m\u001b[43mnew\u001b[49m\u001b[38;5;241;43m=\u001b[39;49m\u001b[43mnew\u001b[49m\u001b[43m,\u001b[49m\n\u001b[0;32m     73\u001b[0m \u001b[43m        \u001b[49m\u001b[38;5;28;43mid\u001b[39;49m\u001b[38;5;241;43m=\u001b[39;49m\u001b[38;5;28;43mid\u001b[39;49m\u001b[43m,\u001b[49m\n\u001b[0;32m     74\u001b[0m \u001b[43m    \u001b[49m\u001b[43m)\u001b[49m\n\u001b[0;32m     75\u001b[0m     \u001b[38;5;28mself\u001b[39m\u001b[38;5;241m.\u001b[39mmutations\u001b[38;5;241m.\u001b[39mappend(mutation)\n",
      "\u001b[1;31mKeyboardInterrupt\u001b[0m: "
     ]
    }
   ],
   "source": [
    "mts = gene_model.gene_model(\n",
    "    theta=theta,\n",
    "    rho=rho,\n",
    "    gene_conversion_rate=gene_conv,\n",
    "    recombination_rate=recomb,\n",
    "    hgt_rate=hgt_rate,\n",
    "    num_samples=num_samples,\n",
    "    num_sites=num_sites,\n",
    "    double_site_relocation=True, # Fix double gene gain events, won't hide the warning.\n",
    ")\n",
    "mts"
   ]
  },
  {
   "cell_type": "code",
   "execution_count": null,
   "metadata": {},
   "outputs": [],
   "source": [
    "#for tree in mts.trees():\n",
    "    #print(tree.draw_text())\n",
    "\n",
    "for var in mts.variants():\n",
    "    print(var.site.position, var.alleles, var.genotypes, sep=\"\\t\")"
   ]
  },
  {
   "cell_type": "code",
   "execution_count": null,
   "metadata": {},
   "outputs": [],
   "source": [
    "for variant in mts.variants():\n",
    "    print(\"Position:\", variant.site.position)\n",
    "    print(\"Alleles:\", variant.alleles)\n",
    "    print(\"Genotypes:\", variant.genotypes)"
   ]
  },
  {
   "cell_type": "markdown",
   "metadata": {},
   "source": [
    "### Compute multiple GFS to get a distribution for each GF Class for a fixed tree."
   ]
  },
  {
   "cell_type": "code",
   "execution_count": 6,
   "metadata": {},
   "outputs": [],
   "source": [
    "num_simulations = 200\n",
    "processes = 10\n",
    "nwk = \"(((A:0.1, B:0.1):0.15, (C:0.05, D:0.05):0.2):0.2, E:0.35);\"\n",
    "\n",
    "#         /\\\n",
    "#      __/  \\\n",
    "#     /   \\  \\\n",
    "#    /\\    \\  \\\n",
    "#   |  |   /\\  \\\n",
    "#   A  B  C  D  E     \n",
    "\n",
    "gm = gene_model.multi_genotype_matrices(\n",
    "    n=num_simulations,\n",
    "    processes=processes,\n",
    "    theta=theta,\n",
    "    rho=rho,\n",
    "    num_sites=num_sites,\n",
    "    num_samples=num_samples,\n",
    "    gene_conversion_rate=gene_conv,\n",
    "    recombination_rate=recomb,\n",
    "    hgt_rate=hgt_rate,\n",
    "    ce_from_nwk=nwk,\n",
    "    check_double_gene_gain=False,\n",
    "    double_site_relocation=True,\n",
    ")\n",
    "\n",
    "# Compute GFS out of genotyle matrices\n",
    "gfs_list = gfs.padded_gfs_from_gm(gm, num_samples=num_samples)"
   ]
  },
  {
   "cell_type": "code",
   "execution_count": 7,
   "metadata": {},
   "outputs": [
    {
     "data": {
      "image/png": "[encoded data removed]",
      "text/plain": [
       "<Figure size 1000x400 with 1 Axes>"
      ]
     },
     "metadata": {},
     "output_type": "display_data"
    }
   ],
   "source": [
    "plt.figure(figsize=(10, 4))\n",
    "sns.violinplot(data=gfs_list, color=color_scheme.primary)\n",
    "plt.title(\"Distribution per GF-class\")\n",
    "plt.xlabel(\"GF-Class\");"
   ]
  },
  {
   "cell_type": "code",
   "execution_count": null,
   "metadata": {},
   "outputs": [],
   "source": []
  }
 ],
 "metadata": {
  "kernelspec": {
   "display_name": "pangenome-gene-transfer-simulation",
   "language": "python",
   "name": "pangenome-gene-transfer-simulation"
  },
  "language_info": {
   "codemirror_mode": {
    "name": "ipython",
    "version": 3
   },
   "file_extension": ".py",
   "mimetype": "text/x-python",
   "name": "python",
   "nbconvert_exporter": "python",
   "pygments_lexer": "ipython3",
   "version": "3.12.1"
  }
 },
 "nbformat": 4,
 "nbformat_minor": 4
}
