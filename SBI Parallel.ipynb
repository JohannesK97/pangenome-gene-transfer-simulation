{
 "cells": [
  {
   "cell_type": "code",
   "execution_count": 1,
   "id": "022737cc-95ef-4d64-a3bc-cd7c02d54410",
   "metadata": {},
   "outputs": [],
   "source": [
    "# Packages\n",
    "import gene_model\n",
    "import gfs\n",
    "import color_scheme\n",
    "import simulator\n",
    "\n",
    "from matplotlib import pyplot as plt\n",
    "import seaborn as sns\n",
    "\n",
    "import sbi\n",
    "import numpy as np\n",
    "import multiprocessing\n",
    "\n",
    "import torch\n",
    "\n",
    "from sbi.analysis import pairplot\n",
    "from sbi.inference import NPE\n",
    "from sbi.utils import BoxUniform\n",
    "from sbi.utils.user_input_checks import (\n",
    "    check_sbi_inputs,\n",
    "    process_prior,\n",
    "    process_simulator,\n",
    ")\n",
    "\n",
    "from concurrent.futures import ProcessPoolExecutor, as_completed\n",
    "\n",
    "\n",
    "# Simulation Parameters\n",
    "\n",
    "hgt_rate_max = 0.5 # Maximum hgt rate\n",
    "hgt_rate_min = 0 # Minimum hgt rate\n",
    "    \n",
    "\n",
    "prior = BoxUniform(low=hgt_rate_min * torch.ones(1), high=hgt_rate_max * torch.ones(1))"
   ]
  },
  {
   "cell_type": "code",
   "execution_count": 6,
   "id": "8190fb2b-33b6-4e19-9c68-9d4806db1565",
   "metadata": {},
   "outputs": [
    {
     "name": "stdout",
     "output_type": "stream",
     "text": [
      "tensor([[ 0.,  8., 11.,  5.,  0.,  0.,  0.,  0.,  0.,  0.,  0.],\n",
      "        [ 0.,  3.,  5.,  9.,  0.,  1.,  0.,  6.,  0.,  0.,  0.],\n",
      "        [ 0.,  6.,  0.,  1.,  0.,  0.,  0.,  0.,  0.,  0.,  0.],\n",
      "        [ 0., 11.,  2.,  5.,  2.,  2.,  0.,  0.,  0.,  0.,  0.],\n",
      "        [ 0., 25.,  4.,  2.,  1.,  4.,  0.,  0.,  3.,  3.,  0.],\n",
      "        [ 0.,  6.,  6.,  0.,  0.,  2.,  0.,  0.,  2.,  0.,  0.],\n",
      "        [ 0.,  7.,  1.,  1.,  1.,  0.,  2.,  0.,  0.,  1.,  0.],\n",
      "        [ 0., 25.,  1.,  1.,  0.,  1.,  1.,  1.,  0.,  8.,  0.],\n",
      "        [ 0., 16.,  3.,  1.,  3.,  0.,  0.,  0.,  0.,  0.,  0.],\n",
      "        [ 0., 18.,  5., 16.,  3.,  1.,  0., 14.,  0.,  0.,  0.],\n",
      "        [ 0.,  3.,  2., 14.,  0.,  2.,  0.,  6.,  0.,  0.,  0.],\n",
      "        [ 0.,  6.,  5.,  2.,  3.,  0.,  0.,  2.,  2.,  0.,  0.],\n",
      "        [ 0., 14.,  3.,  6.,  8.,  0.,  9.,  0.,  0.,  0.,  0.],\n",
      "        [ 0.,  9.,  1.,  5.,  2.,  1.,  3.,  0.,  0.,  0.,  0.],\n",
      "        [ 0.,  3., 21.,  0.,  2.,  0.,  1.,  0.,  1.,  0.,  0.],\n",
      "        [ 0., 10.,  0.,  1.,  6.,  3.,  1.,  0.,  0.,  0.,  0.],\n",
      "        [ 0., 23.,  0.,  1.,  0.,  0.,  1.,  0.,  2.,  7.,  0.],\n",
      "        [ 0.,  3.,  1., 23.,  8.,  0.,  0.,  5.,  0.,  0.,  0.],\n",
      "        [ 0.,  6.,  0.,  3.,  0.,  0.,  0.,  1.,  0.,  0.,  0.],\n",
      "        [ 0.,  3., 10., 12.,  1.,  9.,  0.,  2.,  0.,  0.,  0.],\n",
      "        [ 0., 10., 13.,  0.,  1.,  0.,  0.,  0., 11.,  2.,  0.],\n",
      "        [ 0.,  9., 12.,  1.,  5.,  0.,  0.,  0.,  8.,  0.,  0.],\n",
      "        [ 0.,  8.,  1.,  2.,  0.,  0.,  1.,  5.,  0.,  0.,  0.],\n",
      "        [ 0.,  3.,  1.,  5.,  0.,  0.,  0.,  2.,  0.,  0.,  0.],\n",
      "        [ 0.,  9.,  6.,  4.,  6.,  0.,  4.,  1.,  0.,  0.,  0.],\n",
      "        [ 0., 10.,  0.,  0.,  0.,  0.,  0.,  0.,  0.,  4.,  0.],\n",
      "        [ 0.,  6.,  0.,  0.,  1.,  3.,  0.,  0.,  0.,  1.,  0.],\n",
      "        [ 0., 21.,  0.,  6.,  1.,  0.,  0.,  0.,  0.,  0.,  0.],\n",
      "        [ 0.,  5.,  2.,  7.,  0.,  0.,  0.,  3.,  0.,  0.,  0.],\n",
      "        [ 0.,  2.,  1.,  0.,  3.,  0.,  5.,  0.,  0.,  0.,  0.],\n",
      "        [ 0., 14.,  6.,  0.,  1.,  0.,  0.,  0.,  0.,  0.,  0.],\n",
      "        [ 0., 14.,  3.,  7.,  0.,  0.,  2.,  8.,  0.,  0.,  0.],\n",
      "        [ 0., 10.,  7.,  5.,  0.,  3.,  0.,  0.,  0.,  0.,  0.],\n",
      "        [ 0.,  2., 13.,  4.,  0.,  2.,  0.,  3.,  1.,  0.,  0.],\n",
      "        [ 0.,  9.,  8.,  0.,  0.,  0.,  0.,  0.,  6.,  1.,  0.],\n",
      "        [ 0.,  9., 15.,  0.,  0.,  0.,  1.,  0.,  6.,  0.,  0.],\n",
      "        [ 0., 24.,  2.,  2.,  1.,  0.,  0.,  0.,  0.,  4.,  0.],\n",
      "        [ 0.,  8.,  1.,  2.,  0.,  1.,  0.,  0.,  0.,  1.,  0.],\n",
      "        [ 0.,  6.,  1.,  5.,  1.,  8.,  0.,  4.,  0.,  0.,  0.],\n",
      "        [ 0.,  9.,  3.,  6.,  0.,  1.,  2.,  0.,  0.,  0.,  0.],\n",
      "        [ 0.,  6., 12.,  3.,  7.,  0.,  0.,  0.,  4.,  0.,  0.],\n",
      "        [ 0.,  8.,  5.,  7.,  2.,  0.,  3.,  7.,  0.,  1.,  0.],\n",
      "        [ 0., 12.,  4.,  1.,  1.,  0.,  0.,  2.,  3.,  0.,  0.],\n",
      "        [ 0.,  4.,  6.,  9.,  1.,  0.,  0.,  2.,  0.,  0.,  0.]])\n",
      "tensor([[0.3263],\n",
      "        [0.2935],\n",
      "        [0.2818],\n",
      "        [0.4879],\n",
      "        [0.3907],\n",
      "        [0.2738],\n",
      "        [0.2741],\n",
      "        [0.1137],\n",
      "        [0.4257],\n",
      "        [0.4571],\n",
      "        [0.3590],\n",
      "        [0.2417],\n",
      "        [0.4890],\n",
      "        [0.2396],\n",
      "        [0.0369],\n",
      "        [0.3129],\n",
      "        [0.4852],\n",
      "        [0.1440],\n",
      "        [0.2278],\n",
      "        [0.3474],\n",
      "        [0.1292],\n",
      "        [0.1411],\n",
      "        [0.2070],\n",
      "        [0.4866],\n",
      "        [0.4710],\n",
      "        [0.4998],\n",
      "        [0.2460],\n",
      "        [0.0723],\n",
      "        [0.4262],\n",
      "        [0.2334],\n",
      "        [0.3803],\n",
      "        [0.2009],\n",
      "        [0.3732],\n",
      "        [0.4863],\n",
      "        [0.2553],\n",
      "        [0.2943],\n",
      "        [0.3499],\n",
      "        [0.1804],\n",
      "        [0.2729],\n",
      "        [0.4415],\n",
      "        [0.3381],\n",
      "        [0.0395],\n",
      "        [0.4589],\n",
      "        [0.1783]])\n"
     ]
    }
   ],
   "source": [
    "inference = NPE(prior=prior)\n",
    "  \n",
    "num_simulations = 1\n",
    "\n",
    "parallel_size = 1\n",
    "# data = None\n",
    "# hgt_rate_data = None\n",
    "\n",
    "for i in range(num_simulations // parallel_size):  \n",
    "\n",
    "    hgt_rate_train = prior.sample((parallel_size,))\n",
    "\n",
    "    x_train = simulator.simulator(hgt_rate_train)  \n",
    "    \n",
    "    x_train_flat = x_train.to(torch.float32)\n",
    "    \n",
    "    if data is None:\n",
    "        data = x_train_flat  # Erster Durchlauf\n",
    "        hgt_rate_data = hgt_rate_train\n",
    "    else:\n",
    "        data = torch.cat((data, x_train_flat), dim=0)\n",
    "        hgt_rate_data = torch.cat((hgt_rate_data, hgt_rate_train), dim=0)\n",
    "\n",
    "print(data)\n",
    "print(hgt_rate_data)"
   ]
  },
  {
   "cell_type": "code",
   "execution_count": 3,
   "id": "fcd8f097-04ce-49e1-ba22-bb354f89920a",
   "metadata": {},
   "outputs": [],
   "source": [
    "# Check prior, return PyTorch prior.\n",
    "prior, num_parameters, prior_returns_numpy = process_prior(prior)\n",
    "\n",
    "# Check simulator, returns PyTorch simulator able to simulate batches.\n",
    "simulator_test = process_simulator(simulator.simulator, prior, prior_returns_numpy)\n",
    "\n",
    "# Consistency check after making ready for sbi.\n",
    "check_sbi_inputs(simulator_test, prior)\n"
   ]
  },
  {
   "cell_type": "code",
   "execution_count": 5,
   "id": "979adb30-13c5-4aa4-9d7b-630089ebde4e",
   "metadata": {},
   "outputs": [
    {
     "name": "stdout",
     "output_type": "stream",
     "text": [
      "tensor([[0.3263],\n",
      "        [0.2935],\n",
      "        [0.2818],\n",
      "        [0.4879]])\n"
     ]
    }
   ],
   "source": [
    "print(hgt_rate_data)"
   ]
  },
  {
   "cell_type": "code",
   "execution_count": 13,
   "id": "a8a118cd-506b-4fd8-86b3-8eea5345dd7f",
   "metadata": {},
   "outputs": [
    {
     "name": "stdout",
     "output_type": "stream",
     "text": [
      "3\n",
      "5\n",
      "[  0  22  34  35  44  48  53  55  57  63  76  79  83  91  92 131 135 160\n",
      " 163 165 168 171 176 179 189 204 209 227 230 244]\n",
      "4\n",
      "5\n",
      "[ 0. 20.  7.  1.  0.  0.  0.  0.  0.  3.  0.]\n",
      "3\n",
      "5\n",
      "[  2  14  22  23  26  44  45  48  50  56  66  73 104 105 115 122 136 137\n",
      " 142 159 167 180 183 190 191 208 210 223 249]\n"
     ]
    },
    {
     "name": "stderr",
     "output_type": "stream",
     "text": [
      "C:\\Users\\uhewm\\OneDrive\\PhD\\Project No.2\\pangenome-gene-transfer-simulation\\gene_model.py:232: RuntimeWarning: 135 double mutation (present -> present) occured. It is recommended to increase the num_sites to 250 or higher. Alternatily use the double_site_relocation or relocate_double_gene_gain option.\n",
      "  warnings.warn(\n"
     ]
    },
    {
     "name": "stdout",
     "output_type": "stream",
     "text": [
      "4\n",
      "5\n",
      "[ 0. 32.  4.  8.  0.  1.  4.  0.  0. 12.  0.]\n",
      "3\n",
      "5\n",
      "[  7  20  22  52  53  55  66  74  83 111 112 121 140 148 161 163 173 177\n",
      " 182 200 205 216 220 224 230 232 235 244 246 249]\n"
     ]
    },
    {
     "name": "stderr",
     "output_type": "stream",
     "text": [
      "C:\\Users\\uhewm\\OneDrive\\PhD\\Project No.2\\pangenome-gene-transfer-simulation\\gene_model.py:232: RuntimeWarning: 112 double mutation (present -> present) occured. It is recommended to increase the num_sites to 250 or higher. Alternatily use the double_site_relocation or relocate_double_gene_gain option.\n",
      "  warnings.warn(\n"
     ]
    },
    {
     "name": "stdout",
     "output_type": "stream",
     "text": [
      "4\n",
      "5\n",
      "[ 0. 40.  3.  2.  0.  0.  0.  0.  0. 16.  0.]\n",
      "3\n",
      "5\n",
      "[ 22  34  42  52  56  57  68  73  75  78  81  94 106 119 145 152 155 159\n",
      " 160 163 171 194 200 232 237 248]\n",
      "4\n",
      "5\n",
      "[ 0. 21.  5.  0.  5.  1.  0.  0.  0. 20.  0.]\n",
      "3\n",
      "5\n",
      "[ 10  13  28  29  39  62  68  91 104 105 106 110 111 126 130 137 139 142\n",
      " 163 164 195 197 228]\n",
      "4\n",
      "5\n",
      "[0. 6. 7. 2. 3. 3. 0. 0. 0. 0. 0.]\n",
      "3\n",
      "5\n",
      "[ 11  71  79  97 100 119 126 130 133 146 148 158 176 194 198 227 241]\n"
     ]
    },
    {
     "name": "stderr",
     "output_type": "stream",
     "text": [
      "C:\\Users\\uhewm\\OneDrive\\PhD\\Project No.2\\pangenome-gene-transfer-simulation\\gene_model.py:232: RuntimeWarning: 74 double mutation (present -> present) occured. It is recommended to increase the num_sites to 250 or higher. Alternatily use the double_site_relocation or relocate_double_gene_gain option.\n",
      "  warnings.warn(\n"
     ]
    },
    {
     "name": "stdout",
     "output_type": "stream",
     "text": [
      "4\n",
      "5\n",
      "[ 0. 10. 11.  3.  0. 10.  0.  1.  0.  0.  0.]\n",
      "3\n",
      "5\n",
      "[  3   5  22  27  37  44  51  52  62  66  77  79  82  87  89  94 102 104\n",
      " 108 119 122 146 159 161 162 164 188 193 195 204 206 227 248]\n"
     ]
    },
    {
     "name": "stderr",
     "output_type": "stream",
     "text": [
      "C:\\Users\\uhewm\\OneDrive\\PhD\\Project No.2\\pangenome-gene-transfer-simulation\\gene_model.py:232: RuntimeWarning: 72 double mutation (present -> present) occured. It is recommended to increase the num_sites to 250 or higher. Alternatily use the double_site_relocation or relocate_double_gene_gain option.\n",
      "  warnings.warn(\n"
     ]
    },
    {
     "name": "stdout",
     "output_type": "stream",
     "text": [
      "4\n",
      "5\n",
      "[ 0.  8.  1.  4. 11.  0. 10.  0.  0.  0.  0.]\n",
      "3\n",
      "5\n",
      "[  5   7  22  23  29  34  36  45  48  64  73  95 102 109 121 129 137 152\n",
      " 162 227 231 234 241 243 244]\n"
     ]
    },
    {
     "name": "stderr",
     "output_type": "stream",
     "text": [
      "C:\\Users\\uhewm\\OneDrive\\PhD\\Project No.2\\pangenome-gene-transfer-simulation\\gene_model.py:232: RuntimeWarning: 43 double mutation (present -> present) occured. It is recommended to increase the num_sites to 250 or higher. Alternatily use the double_site_relocation or relocate_double_gene_gain option.\n",
      "  warnings.warn(\n"
     ]
    },
    {
     "name": "stdout",
     "output_type": "stream",
     "text": [
      "4\n",
      "5\n",
      "[0. 4. 3. 1. 0. 0. 2. 3. 0. 0. 0.]\n",
      "3\n",
      "5\n",
      "[  0   2   3   9  16  21  24  33  43  48  52  53  60  69  77  82  87  89\n",
      "  91 104 106 120 151 155 181 204 210 228 246 248]\n",
      "4\n",
      "5\n",
      "[ 0. 18. 14.  6.  7.  6.  0.  1.  0.  6.  0.]\n",
      "3\n",
      "5\n",
      "[  0  16  22  24  39  63  72  78  86  90  95 105 107 110 114 115 118 132\n",
      " 134 137 144 147 164 172 184 222 223 242 246]\n",
      "4\n",
      "5\n",
      "[ 0.  7.  2.  1.  1. 14.  0.  2.  0.  0.  0.]\n"
     ]
    },
    {
     "name": "stderr",
     "output_type": "stream",
     "text": [
      "C:\\Users\\uhewm\\OneDrive\\PhD\\Project No.2\\pangenome-gene-transfer-simulation\\gene_model.py:232: RuntimeWarning: 58 double mutation (present -> present) occured. It is recommended to increase the num_sites to 250 or higher. Alternatily use the double_site_relocation or relocate_double_gene_gain option.\n",
      "  warnings.warn(\n"
     ]
    }
   ],
   "source": [
    "hgt_rate = prior.sample((10,))\n",
    "\n",
    "results = [simulator.simulation(rate.item()) for rate in hgt_rate.numpy()]\n",
    "\n",
    "\n",
    "#%run simulator.py\n"
   ]
  },
  {
   "cell_type": "code",
   "execution_count": null,
   "id": "fb1d7a71-6034-40d8-b783-26d1fca9f19b",
   "metadata": {},
   "outputs": [],
   "source": [
    "from sbi.neural_nets import posterior_nn\n",
    "from sbi.neural_nets.embedding_nets import CNNEmbedding\n",
    "\n",
    "# Define setup parameters\n",
    "embedding_net = CNNEmbedding(\n",
    "    input_shape=(num_sites * 2, num_samples),\n",
    "    in_channels=1,\n",
    "    out_channels_per_layer=[20],\n",
    "    num_conv_layers=1,\n",
    "    num_linear_layers=1,\n",
    "    output_dim=1,\n",
    "    kernel_size=1,\n",
    "    pool_kernel_size=1\n",
    ")\n",
    "\n",
    "# Reinitialize the density estimator and inference procedure\n",
    "neural_posterior = posterior_nn(model=\"maf\", embedding_net=embedding_net)\n",
    "inferer = NPE(prior=prior, density_estimator=neural_posterior)\n",
    "\n",
    "# Append new simulations and begin from scratch\n",
    "density_estimator = inferer.append_simulations(hgt_rate_train, x_train).train()\n",
    "\n",
    "# Build the posterior\n",
    "posterior = inference.build_posterior(density_estimator)\n"
   ]
  },
  {
   "cell_type": "code",
   "execution_count": null,
   "id": "268ba11c-0120-427f-b6a6-48a28542a6e3",
   "metadata": {},
   "outputs": [],
   "source": [
    "import torch\n",
    "import torch.nn as nn\n",
    "import torch.optim as optim\n",
    "\n",
    "class GeneRatePredictor(nn.Module):\n",
    "    def __init__(self, input_size):\n",
    "        super(GeneRatePredictor, self).__init__()\n",
    "        # Definieren Sie die Architektur\n",
    "        self.model = nn.Sequential(\n",
    "            nn.Linear(input_size, 64),  # Erste verborgene Schicht\n",
    "            nn.ReLU(),\n",
    "            nn.Linear(64, 32),          # Zweite verborgene Schicht\n",
    "            nn.ReLU(),\n",
    "            nn.Linear(32, 1),           # Ausgabeschicht\n",
    "            nn.ReLU()\n",
    "        )\n",
    "\n",
    "    def forward(self, x):\n",
    "        return self.model(x)\n",
    "\n",
    "# Modellinstanziierung\n",
    "model = GeneRatePredictor(num_sites*num_samples*2)\n",
    "\n",
    "# Reinitialize the density estimator and inference procedure\n",
    "neural_posterior = posterior_nn(model=\"maf\", embedding_net=model)\n",
    "inferer = NPE(prior=prior, density_estimator=neural_posterior)\n",
    "\n",
    "# Append new simulations and begin from scratch\n",
    "density_estimator = inferer.append_simulations(hgt_rate_train, x_train_flat).train()\n",
    "\n",
    "# Build the posterior\n",
    "posterior = inference.build_posterior(density_estimator)\n"
   ]
  },
  {
   "cell_type": "code",
   "execution_count": 16,
   "id": "70e7676b-e19e-47c5-9d67-6585eb69f051",
   "metadata": {},
   "outputs": [
    {
     "name": "stderr",
     "output_type": "stream",
     "text": [
      "C:\\Users\\uhewm\\anaconda3\\envs\\pangenome-hgt-sim\\Lib\\site-packages\\sbi\\neural_nets\\net_builders\\flow.py:141: UserWarning: In one-dimensional output space, this flow is limited to Gaussians\n",
      "  x_numel = get_numel(\n"
     ]
    },
    {
     "name": "stdout",
     "output_type": "stream",
     "text": [
      " Neural network successfully converged after 32 epochs."
     ]
    }
   ],
   "source": [
    "inference = NPE(prior=prior)\n",
    "\n",
    "inference = inference.append_simulations(hgt_rate_train.to(torch.float32), x_train_flat.to(torch.float32))\n",
    "\n",
    "density_estimator = inference.train()\n",
    "\n",
    "posterior = inference.build_posterior(density_estimator)\n"
   ]
  },
  {
   "cell_type": "code",
   "execution_count": null,
   "id": "27b5a074-cd25-48aa-9ca5-4f14d3df6bb3",
   "metadata": {},
   "outputs": [],
   "source": [
    "mts = gene_model.gene_model(\n",
    "        theta=theta*20,\n",
    "        rho=rho*10,\n",
    "        gene_conversion_rate=gene_conv,\n",
    "        recombination_rate=recomb,\n",
    "        hgt_rate=0.05,\n",
    "        num_samples=num_samples,\n",
    "        num_sites=num_sites,\n",
    "        double_site_relocation=True, # Fix double gene gain events, won't hide the warning.\n",
    "        )\n",
    "\n",
    "matrix = np.zeros((num_sites*2, num_samples))\n",
    "\n",
    "for var in mts.variants():\n",
    "            if 'present' in var.alleles and 'absent' in var.alleles: # Gene present and absent in different samples\n",
    "                matrix[int(var.site.position),:] = var.genotypes\n",
    "            elif 'present' in var.alleles: # Gene present in all samples\n",
    "                matrix[int(var.site.position),:] = np.ones(num_samples)\n",
    "                \n",
    "gfs = matrix.sum(0)"
   ]
  },
  {
   "cell_type": "code",
   "execution_count": null,
   "id": "4827e0ad-c5e6-429e-96f8-9e9accccd9f3",
   "metadata": {},
   "outputs": [],
   "source": [
    "#print(gfs)\n",
    "mts.allele_frequency_spectrum(span_normalise = False, polarised = True)\n",
    "#print(matrix)"
   ]
  },
  {
   "cell_type": "code",
   "execution_count": null,
   "id": "042eb4e8-8d54-4a33-a232-1e2dbb5c7423",
   "metadata": {},
   "outputs": [],
   "source": [
    "mean = (sum(abs(torch.clamp(model(x_train_flat), min=0) - hgt_rate_train)))/len(hgt_rate_train)\n",
    "\n",
    "print(mean)\n",
    "max(model(x_train_flat))"
   ]
  },
  {
   "cell_type": "code",
   "execution_count": 20,
   "id": "d30d4cc6-2c40-4660-b463-a0c300071708",
   "metadata": {},
   "outputs": [
    {
     "data": {
      "application/vnd.jupyter.widget-view+json": {
       "model_id": "9ef99db753424c3eb902c61540b82ec0",
       "version_major": 2,
       "version_minor": 0
      },
      "text/plain": [
       "Drawing 10000 posterior samples:   0%|          | 0/10000 [00:00<?, ?it/s]"
      ]
     },
     "metadata": {},
     "output_type": "display_data"
    },
    {
     "name": "stderr",
     "output_type": "stream",
     "text": [
      "C:\\Users\\uhewm\\AppData\\Local\\Temp\\ipykernel_16956\\403617829.py:8: DeprecationWarning: you passed deprecated arguments **kwargs: ['points_colors'], use fig_kwargs instead. We continue calling the deprecated pairplot function\n",
      "  pairplot(samples, points=[hgt_rate_test], points_colors=['r'] )\n"
     ]
    },
    {
     "data": {
      "text/plain": [
       "(<Figure size 1000x1000 with 1 Axes>,\n",
       " array([[<Axes: xlabel='dim 1'>]], dtype=object))"
      ]
     },
     "execution_count": 20,
     "metadata": {},
     "output_type": "execute_result"
    },
    {
     "data": {
      "image/png": "[encoded data removed]",
      "text/plain": [
       "<Figure size 1000x1000 with 1 Axes>"
      ]
     },
     "metadata": {},
     "output_type": "display_data"
    }
   ],
   "source": [
    "hgt_rate_test = prior.sample((1,))\n",
    "x_test = simulator.simulator(hgt_rate_test)\n",
    "x_test_flat = x_test.view(x_test.size(0), -1)\n",
    "\n",
    "samples = posterior.sample((10000,), x=x_test_flat)\n",
    "\n",
    "# print(model(x_test_flat).item())\n",
    "pairplot(samples, points=[hgt_rate_test], points_colors=['r'] )"
   ]
  },
  {
   "cell_type": "code",
   "execution_count": null,
   "id": "945e4eb6-4272-4932-b4a4-ade77ad98c34",
   "metadata": {},
   "outputs": [],
   "source": [
    "samples"
   ]
  }
 ],
 "metadata": {
  "kernelspec": {
   "display_name": "pangenome-gene-transfer-simulation",
   "language": "python",
   "name": "pangenome-gene-transfer-simulation"
  },
  "language_info": {
   "codemirror_mode": {
    "name": "ipython",
    "version": 3
   },
   "file_extension": ".py",
   "mimetype": "text/x-python",
   "name": "python",
   "nbconvert_exporter": "python",
   "pygments_lexer": "ipython3",
   "version": "3.12.1"
  }
 },
 "nbformat": 4,
 "nbformat_minor": 5
}
