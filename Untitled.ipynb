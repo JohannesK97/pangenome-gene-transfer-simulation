{
 "cells": [
  {
   "cell_type": "code",
   "execution_count": 5,
   "id": "b5184768-700a-4c0d-bb48-80ab40a38380",
   "metadata": {},
   "outputs": [
    {
     "name": "stdout",
     "output_type": "stream",
     "text": [
      "Position: 6893.0\n",
      "Alleles: ('A', 'G')\n",
      "Genotypes: [0 0 0 0 1 0 1 0 1 1 1 0 0 0 0 0 0 1 0 1]\n",
      "Hallo\n"
     ]
    }
   ],
   "source": [
    "import msprime\n",
    "\n",
    "# Simuliere einen Abstammungsbaum mit n Individuen\n",
    "tree_sequence = msprime.sim_ancestry(samples=10, population_size=1000, sequence_length=1e4, recombination_rate=1e-8)\n",
    "\n",
    "# Führe Mutationen ein\n",
    "mutated_ts = msprime.sim_mutations(tree_sequence, rate=1e-8)\n",
    "\n",
    "# Iteriere über die Individuen und erhalte deren genetische Sequenzen\n",
    "for variant in mutated_ts.variants():\n",
    "    print(\"Position:\", variant.site.position)\n",
    "    print(\"Alleles:\", variant.alleles)\n",
    "    print(\"Genotypes:\", variant.genotypes)\n",
    "\n",
    "print(\"Hallo\")"
   ]
  },
  {
   "cell_type": "code",
   "execution_count": null,
   "id": "3557a6e9-d49e-4bf5-92ec-5b466215104a",
   "metadata": {},
   "outputs": [],
   "source": []
  }
 ],
 "metadata": {
  "kernelspec": {
   "display_name": "pangenome-gene-transfer-simulation",
   "language": "python",
   "name": "pangenome-gene-transfer-simulation"
  },
  "language_info": {
   "codemirror_mode": {
    "name": "ipython",
    "version": 3
   },
   "file_extension": ".py",
   "mimetype": "text/x-python",
   "name": "python",
   "nbconvert_exporter": "python",
   "pygments_lexer": "ipython3",
   "version": "3.12.1"
  }
 },
 "nbformat": 4,
 "nbformat_minor": 5
}
