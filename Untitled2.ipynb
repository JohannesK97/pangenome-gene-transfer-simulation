{
 "cells": [
  {
   "cell_type": "code",
   "execution_count": 1,
   "id": "26031e79-afbc-405c-95fb-19bd91746c34",
   "metadata": {},
   "outputs": [
    {
     "name": "stdout",
     "output_type": "stream",
     "text": [
      "Clonal node: 3272\n",
      "Present_mutation at node:  2275\n",
      "Success: hgt_rate = 10, Total computation time = 2.463995 seconds.\n"
     ]
    }
   ],
   "source": [
    "import simulator_alleles_fitch\n",
    "\n",
    "mts, gene_trees_list, gene_absence_presence_matrix, alleles_list_pca, distance_matrices, fitch_scores, gene_number_hgt_events_passed = simulator_alleles_fitch.simulator(\n",
    "    num_samples = 1000, hgt_rate = 10, num_genes = 1, rho = 0.1)\n",
    "\n"
   ]
  },
  {
   "cell_type": "code",
   "execution_count": 76,
   "id": "b23d3de2-da8a-4322-8ec2-e2b6715cb149",
   "metadata": {},
   "outputs": [
    {
     "name": "stdout",
     "output_type": "stream",
     "text": [
      "Fehler: 0.000000\n",
      "[[0.   0.   0.01 ... 3.36 3.36 3.36]\n",
      " [0.   0.   0.01 ... 3.36 3.36 3.36]\n",
      " [0.01 0.01 0.   ... 3.36 3.36 3.36]\n",
      " ...\n",
      " [3.36 3.36 3.36 ... 0.   0.01 0.01]\n",
      " [3.36 3.36 3.36 ... 0.01 0.   0.  ]\n",
      " [3.36 3.36 3.36 ... 0.01 0.   0.  ]]\n",
      "[[ 1.82  0.03 -0.6  ...  0.    0.    0.  ]\n",
      " [ 1.82  0.03 -0.6  ...  0.    0.    0.  ]\n",
      " [ 1.82  0.03 -0.6  ...  0.    0.    0.  ]\n",
      " ...\n",
      " [-1.26 -1.09 -0.01 ...  0.    0.    0.  ]\n",
      " [-1.26 -1.09 -0.01 ...  0.    0.    0.  ]\n",
      " [-1.26 -1.09 -0.01 ...  0.    0.    0.  ]]\n",
      "[[0.   0.   0.01 ... 3.36 3.36 3.36]\n",
      " [0.   0.   0.01 ... 3.36 3.36 3.36]\n",
      " [0.01 0.01 0.   ... 3.36 3.36 3.36]\n",
      " ...\n",
      " [3.36 3.36 3.36 ... 0.   0.01 0.01]\n",
      " [3.36 3.36 3.36 ... 0.01 0.   0.  ]\n",
      " [3.36 3.36 3.36 ... 0.01 0.   0.  ]]\n"
     ]
    }
   ],
   "source": [
    "import numpy as np\n",
    "from scipy.spatial.distance import pdist, squareform\n",
    "\n",
    "def classical_mds(D, n_components=3):\n",
    "    \"\"\"\n",
    "    Klassisches MDS (cMDS) für eine gegebene Distanzmatrix D.\n",
    "    Gibt niedrigdimensionale Koordinaten zurück.\n",
    "    \"\"\"\n",
    "    # 1. Quadrat der Abstände\n",
    "    D2 = D ** 2\n",
    "\n",
    "    # 2. Zentrierungsmatrix\n",
    "    n = D.shape[0]\n",
    "    J = np.eye(n) - np.ones((n, n)) / n\n",
    "\n",
    "    # 3. Doubly centered inner product matrix\n",
    "    B = -0.5 * J @ D2 @ J\n",
    "\n",
    "    # 4. Eigenzerlegung\n",
    "    eigvals, eigvecs = np.linalg.eigh(B)\n",
    "\n",
    "    # 5. Sortieren (absteigend)\n",
    "    idx = np.argsort(eigvals)[::-1]\n",
    "    eigvals = eigvals[idx]\n",
    "    eigvecs = eigvecs[:, idx]\n",
    "\n",
    "    # 6. Komponenten auswählen\n",
    "    L = np.diag(np.sqrt(np.maximum(eigvals[:n_components], 0)))\n",
    "    V = eigvecs[:, :n_components]\n",
    "\n",
    "    return V @ L  # → [n, n_components]\n",
    "\n",
    "def reconstruct_distance_matrix(coords):\n",
    "    return squareform(pdist(coords, metric=\"euclidean\"))\n",
    "\n",
    "#mts, gene_trees_list, gene_absence_presence_matrix, alleles_list_pca, distance_matrices, fitch_scores, gene_number_hgt_events_passed = simulator_alleles_fitch.simulator(\n",
    "#    num_samples = 1000, hgt_rate = 1, num_genes = 1, rho = 0.1)\n",
    "\n",
    "compressed = classical_mds(distance_matrices, n_components=10000)\n",
    "D_reconstructed = reconstruct_distance_matrix(compressed)\n",
    "\n",
    "print(f\"Fehler: {np.mean(np.abs(distance_matrices - D_reconstructed)):.6f}\")\n",
    "\n",
    "np.set_printoptions(precision=2, suppress=True)\n",
    "\n",
    "print(distance_matrices)\n",
    "print(compressed)\n",
    "print(D_reconstructed)"
   ]
  },
  {
   "cell_type": "code",
   "execution_count": null,
   "id": "cf9359d0-8f46-4770-8f5b-50b797258b79",
   "metadata": {},
   "outputs": [],
   "source": []
  },
  {
   "cell_type": "code",
   "execution_count": 61,
   "id": "b033037b-dc94-485e-bb30-0da59decab0d",
   "metadata": {},
   "outputs": [
    {
     "name": "stdout",
     "output_type": "stream",
     "text": [
      "Clonal node: 3457\n",
      "Present_mutation at node:  2621\n",
      "Success: hgt_rate = 10, Total computation time = 2.504238 seconds.\n"
     ]
    },
    {
     "data": {
      "text/plain": [
       "array([[ 0.8 , -0.24, -0.01, ..., -0.52,  1.32, -0.92],\n",
       "       [ 0.81, -0.27, -0.02, ..., -0.49,  1.33, -0.92],\n",
       "       [ 0.8 , -0.22, -0.01, ..., -0.51,  1.3 , -0.94],\n",
       "       ...,\n",
       "       [-0.24,  0.11, -0.09, ...,  0.13, -0.39,  0.06],\n",
       "       [-0.28,  0.1 , -0.08, ...,  0.17, -0.39,  0.02],\n",
       "       [-0.26,  0.12, -0.1 , ...,  0.12, -0.4 ,  0.03]])"
      ]
     },
     "execution_count": 61,
     "metadata": {},
     "output_type": "execute_result"
    }
   ],
   "source": [
    "from sklearn.manifold import MDS\n",
    "import numpy as np\n",
    "from scipy.spatial.distance import pdist, squareform\n",
    "import simulator_alleles_fitch\n",
    "\n",
    "mts, gene_trees_list, gene_absence_presence_matrix, alleles_list_pca, distance_matrices, fitch_scores, gene_number_hgt_events_passed = simulator_alleles_fitch.simulator(\n",
    "    num_samples = 1000, hgt_rate = 10, num_genes = 1, rho = 0.1)\n",
    "\n",
    "\n",
    "# D: Original-Distanzmatrix, z. B. aus pdist(X) oder gegeben\n",
    "# D muss symmetrisch und 0 auf der Diagonalen sein\n",
    "mds = MDS(n_components=10, dissimilarity='precomputed', random_state=42)\n",
    "compressed_coords = mds.fit_transform(distance_matrices)  # → Shape: [n, 10]\n",
    "\n",
    "# Reconstruction\n",
    "reconstructed_distance_matrices = squareform(pdist(compressed_coords, metric='euclidean'))  # Shape: [n, n]\n",
    "\n",
    "compressed_coords\n"
   ]
  },
  {
   "cell_type": "code",
   "execution_count": 62,
   "id": "9065cb15-dc7c-4868-9c76-99007c2f5049",
   "metadata": {},
   "outputs": [
    {
     "name": "stdout",
     "output_type": "stream",
     "text": [
      "[[0.   0.   0.   ... 2.73 2.73 2.73]\n",
      " [0.   0.   0.   ... 2.73 2.73 2.73]\n",
      " [0.   0.   0.   ... 2.73 2.73 2.73]\n",
      " ...\n",
      " [2.73 2.73 2.73 ... 0.   0.04 0.04]\n",
      " [2.73 2.73 2.73 ... 0.04 0.   0.01]\n",
      " [2.73 2.73 2.73 ... 0.04 0.01 0.  ]]\n",
      "[[0.   0.05 0.07 ... 2.73 2.74 2.73]\n",
      " [0.05 0.   0.09 ... 2.73 2.74 2.73]\n",
      " [0.07 0.09 0.   ... 2.72 2.74 2.73]\n",
      " ...\n",
      " [2.73 2.73 2.72 ... 0.   0.11 0.07]\n",
      " [2.74 2.74 2.74 ... 0.11 0.   0.07]\n",
      " [2.73 2.73 2.73 ... 0.07 0.07 0.  ]]\n"
     ]
    }
   ],
   "source": [
    "print(distance_matrices)\n",
    "print(reconstructed_distance_matrices)"
   ]
  },
  {
   "cell_type": "code",
   "execution_count": 47,
   "id": "f854a897-106c-4eae-ac7d-b8c0a85a8d2d",
   "metadata": {},
   "outputs": [
    {
     "name": "stdout",
     "output_type": "stream",
     "text": [
      "Clonal node: 384\n",
      "Present_mutation at node:  928\n",
      "Success: hgt_rate = 10, Total computation time = 0.744503 seconds.\n",
      "MSE: 0.593460\n",
      "Number of genes:  10\n",
      "Pearson-Korrelation: 0.9381\n",
      "error_sum:  0.6279480838482582\n"
     ]
    }
   ],
   "source": [
    "from sklearn.decomposition import PCA\n",
    "import torch\n",
    "from scipy.stats import pearsonr\n",
    "import simulator_alleles_fitch\n",
    "import torch.nn.functional as F\n",
    "from scipy.spatial.distance import pdist, squareform\n",
    "\n",
    "\n",
    "mts, gene_trees_list, gene_absence_presence_matrix, alleles_list_pca, distance_matrices, fitch_scores, gene_number_hgt_events_passed = simulator_alleles_fitch.simulator(\n",
    "    num_samples = 10, hgt_rate = 10, num_genes = 1, rho = 0.1)\n",
    "\n",
    "# Eine Matrix ∈ ℝ[1000, 1000]\n",
    "matrix = distance_matrices  # falls noch ein Tensor\n",
    "\n",
    "# PCA mit z. B. 50 Komponenten\n",
    "pca = PCA(n_components=2)\n",
    "compressed = pca.fit_transform(matrix)        # → [1000, 50]\n",
    "\n",
    "# Rekonstruktion\n",
    "dist_vector = pdist(compressed, metric='euclidean')  # paarweise Abstände (kompakter Vektor)\n",
    "reconstructed = squareform(dist_vector) # → [1000, 1000]\n",
    "reconstructed_tensor = torch.tensor(reconstructed)\n",
    "\n",
    "original_flat = distance_matrices.flatten()\n",
    "reconstructed_flat = reconstructed_tensor.flatten().numpy()\n",
    "\n",
    "original_tensor = torch.tensor(matrix, dtype=torch.float32)\n",
    "mse = F.mse_loss(reconstructed_tensor, original_tensor)\n",
    "print(f\"MSE: {mse.item():.6f}\")\n",
    "\n",
    "corr, _ = pearsonr(original_flat, reconstructed_flat)\n",
    "print(\"Number of genes: \", gene_absence_presence_matrix.sum())\n",
    "print(f\"Pearson-Korrelation: {corr:.4f}\")\n",
    "\n",
    "error_sum = abs(distance_matrices - reconstructed).sum()/(original_tensor.size()[0]*original_tensor.size()[1])\n",
    "print(\"error_sum: \", error_sum.item())"
   ]
  },
  {
   "cell_type": "code",
   "execution_count": 58,
   "id": "8df027b3-9f4f-4dbe-87f7-86a8f6450779",
   "metadata": {},
   "outputs": [
    {
     "name": "stdout",
     "output_type": "stream",
     "text": [
      "MSE: 0.596760\n",
      "Number of genes:  10\n",
      "Pearson-Korrelation: 0.9611\n",
      "error_sum:  0.6091786544460663\n",
      "[[0.   0.34 0.34 1.04 1.04 1.04 1.04 1.04 1.04 1.04]\n",
      " [0.34 0.   0.21 1.04 1.04 1.04 1.04 1.04 1.04 1.04]\n",
      " [0.34 0.21 0.   1.04 1.04 1.04 1.04 1.04 1.04 1.04]\n",
      " [1.04 1.04 1.04 0.   0.09 0.61 0.61 0.61 0.61 0.61]\n",
      " [1.04 1.04 1.04 0.09 0.   0.61 0.61 0.61 0.61 0.61]\n",
      " [1.04 1.04 1.04 0.61 0.61 0.   0.55 0.55 0.55 0.55]\n",
      " [1.04 1.04 1.04 0.61 0.61 0.55 0.   0.49 0.49 0.49]\n",
      " [1.04 1.04 1.04 0.61 0.61 0.55 0.49 0.   0.48 0.48]\n",
      " [1.04 1.04 1.04 0.61 0.61 0.55 0.49 0.48 0.   0.25]\n",
      " [1.04 1.04 1.04 0.61 0.61 0.55 0.49 0.48 0.25 0.  ]]\n",
      "[[-1.45 -1.51 -1.51  0.64  0.64  0.55  0.61  0.62  0.7   0.7 ]\n",
      " [ 0.    0.    0.   -0.67 -0.67  0.13  0.23  0.24  0.37  0.37]\n",
      " [-0.    0.02  0.02  0.06  0.06 -0.46 -0.16 -0.11  0.28  0.28]]\n",
      "[[0.   0.07 0.07 2.2  2.2  2.06 2.08 2.09 2.19 2.19]\n",
      " [0.07 0.   0.   2.26 2.26 2.12 2.14 2.15 2.25 2.25]\n",
      " [0.07 0.   0.   2.26 2.26 2.12 2.14 2.15 2.25 2.25]\n",
      " [2.2  2.26 2.26 0.   0.   0.96 0.93 0.93 1.07 1.07]\n",
      " [2.2  2.26 2.26 0.   0.   0.96 0.93 0.93 1.07 1.07]\n",
      " [2.06 2.12 2.12 0.96 0.96 0.   0.32 0.38 0.79 0.79]\n",
      " [2.08 2.14 2.14 0.93 0.93 0.32 0.   0.06 0.47 0.47]\n",
      " [2.09 2.15 2.15 0.93 0.93 0.38 0.06 0.   0.41 0.41]\n",
      " [2.19 2.25 2.25 1.07 1.07 0.79 0.47 0.41 0.   0.  ]\n",
      " [2.19 2.25 2.25 1.07 1.07 0.79 0.47 0.41 0.   0.  ]]\n"
     ]
    }
   ],
   "source": [
    "# Eine Matrix ∈ ℝ[1000, 1000]\n",
    "matrix = distance_matrices  # falls noch ein Tensor\n",
    "\n",
    "# PCA mit z. B. 50 Komponenten\n",
    "pca = PCA(n_components=3)\n",
    "compressed = pca.fit_transform(matrix)        # → [1000, 50]\n",
    "\n",
    "# Rekonstruktion\n",
    "dist_vector = pdist(compressed, metric='euclidean')  # paarweise Abstände (kompakter Vektor)\n",
    "reconstructed = squareform(dist_vector) # → [1000, 1000]\n",
    "reconstructed_tensor = torch.tensor(reconstructed)\n",
    "\n",
    "original_flat = distance_matrices.flatten()\n",
    "reconstructed_flat = reconstructed_tensor.flatten().numpy()\n",
    "\n",
    "original_tensor = torch.tensor(matrix, dtype=torch.float32)\n",
    "mse = F.mse_loss(reconstructed_tensor, original_tensor)\n",
    "print(f\"MSE: {mse.item():.6f}\")\n",
    "\n",
    "corr, _ = pearsonr(original_flat, reconstructed_flat)\n",
    "print(\"Number of genes: \", gene_absence_presence_matrix.sum())\n",
    "print(f\"Pearson-Korrelation: {corr:.4f}\")\n",
    "\n",
    "error_sum = abs(distance_matrices - reconstructed).sum()/(original_tensor.size()[0]*original_tensor.size()[1])\n",
    "print(\"error_sum: \", error_sum.item())\n",
    "\n",
    "np.set_printoptions(precision=2, suppress=True)\n",
    "\n",
    "print(distance_matrices)\n",
    "print(compressed.T)\n",
    "print(np.array(reconstructed_tensor))\n"
   ]
  },
  {
   "cell_type": "code",
   "execution_count": 18,
   "id": "ef0b058e-48cc-4ce2-82a9-2642475a977d",
   "metadata": {},
   "outputs": [
    {
     "name": "stdout",
     "output_type": "stream",
     "text": [
      "[[1 1 1 1 0 0 0 0 0 0]\n",
      " [1 1 1 0 1 1 1 1 1 1]]\n",
      "[array([[  0.,   0.,   5.,   8., -inf, -inf, -inf, -inf, -inf, -inf],\n",
      "       [  0.,   0.,   5.,   8., -inf, -inf, -inf, -inf, -inf, -inf],\n",
      "       [  5.,   5.,   0.,   7., -inf, -inf, -inf, -inf, -inf, -inf],\n",
      "       [  8.,   8.,   7.,   0., -inf, -inf, -inf, -inf, -inf, -inf],\n",
      "       [-inf, -inf, -inf, -inf, -inf, -inf, -inf, -inf, -inf, -inf],\n",
      "       [-inf, -inf, -inf, -inf, -inf, -inf, -inf, -inf, -inf, -inf],\n",
      "       [-inf, -inf, -inf, -inf, -inf, -inf, -inf, -inf, -inf, -inf],\n",
      "       [-inf, -inf, -inf, -inf, -inf, -inf, -inf, -inf, -inf, -inf],\n",
      "       [-inf, -inf, -inf, -inf, -inf, -inf, -inf, -inf, -inf, -inf],\n",
      "       [-inf, -inf, -inf, -inf, -inf, -inf, -inf, -inf, -inf, -inf]]), array([[  0.,   2.,   6., -inf,  67.,  68.,  66.,  65.,  66.,  66.],\n",
      "       [  2.,   0.,   6., -inf,  67.,  68.,  66.,  65.,  66.,  66.],\n",
      "       [  6.,   6.,   0., -inf,  67.,  68.,  66.,  65.,  66.,  66.],\n",
      "       [-inf, -inf, -inf, -inf, -inf, -inf, -inf, -inf, -inf, -inf],\n",
      "       [ 67.,  67.,  67., -inf,   0.,   2.,   8.,   7.,   8.,   8.],\n",
      "       [ 68.,  68.,  68., -inf,   2.,   0.,   8.,   7.,   8.,   8.],\n",
      "       [ 66.,  66.,  66., -inf,   8.,   8.,   0.,   5.,   6.,   6.],\n",
      "       [ 65.,  65.,  65., -inf,   7.,   7.,   5.,   0.,   5.,   5.],\n",
      "       [ 66.,  66.,  66., -inf,   8.,   8.,   6.,   5.,   0.,   0.],\n",
      "       [ 66.,  66.,  66., -inf,   8.,   8.,   6.,   5.,   0.,   0.]])]\n"
     ]
    }
   ],
   "source": [
    "print(gene_absence_presence_matrix)\n",
    "\n",
    "print(alleles_list_pca)"
   ]
  },
  {
   "cell_type": "code",
   "execution_count": 2,
   "id": "0dccca99-7b6e-4f01-b7f5-6dbd918305a3",
   "metadata": {},
   "outputs": [
    {
     "name": "stdout",
     "output_type": "stream",
     "text": [
      "[[0.   0.01 0.63 0.63 0.63 3.22 3.22 3.22 3.22 3.22]\n",
      " [0.01 0.   0.63 0.63 0.63 3.22 3.22 3.22 3.22 3.22]\n",
      " [0.63 0.63 0.   0.13 0.13 3.22 3.22 3.22 3.22 3.22]\n",
      " [0.63 0.63 0.13 0.   0.06 3.22 3.22 3.22 3.22 3.22]\n",
      " [0.63 0.63 0.13 0.06 0.   3.22 3.22 3.22 3.22 3.22]\n",
      " [3.22 3.22 3.22 3.22 3.22 0.   0.1  0.78 0.78 0.78]\n",
      " [3.22 3.22 3.22 3.22 3.22 0.1  0.   0.78 0.78 0.78]\n",
      " [3.22 3.22 3.22 3.22 3.22 0.78 0.78 0.   0.25 0.25]\n",
      " [3.22 3.22 3.22 3.22 3.22 0.78 0.78 0.25 0.   0.23]\n",
      " [3.22 3.22 3.22 3.22 3.22 0.78 0.78 0.25 0.23 0.  ]]\n"
     ]
    }
   ],
   "source": [
    "import numpy as np\n",
    "\n",
    "with np.printoptions(precision=2, suppress=True):\n",
    "    print(distance_matrices)"
   ]
  },
  {
   "cell_type": "code",
   "execution_count": 7,
   "id": "21c6b4d4-cead-4c8f-941f-ca46d12b2082",
   "metadata": {},
   "outputs": [
    {
     "data": {
      "image/svg+xml": [
       "<svg baseProfile=\"full\" height=\"200\" version=\"1.1\" width=\"400\" xmlns=\"http://www.w3.org/2000/svg\" xmlns:ev=\"http://www.w3.org/2001/xml-events\" xmlns:xlink=\"http://www.w3.org/1999/xlink\"><defs><style type=\"text/css\"><![CDATA[.background path {fill: #808080; fill-opacity: 0}.background path:nth-child(odd) {fill-opacity: .1}.x-regions rect {fill: yellow; stroke: black; opacity: 0.5}.axes {font-size: 14px}.x-axis .tick .lab {font-weight: bold; dominant-baseline: hanging}.axes, .tree {font-size: 14px; text-anchor: middle}.axes line, .edge {stroke: black; fill: none}.axes .ax-skip {stroke-dasharray: 4}.y-axis .grid {stroke: #FAFAFA}.node > .sym {fill: black; stroke: none}.site > .sym {stroke: black}.mut text {fill: red; font-style: italic}.mut.extra text {fill: hotpink}.mut line {fill: none; stroke: none}.mut .sym {fill: none; stroke: red}.mut.extra .sym {stroke: hotpink}.node .mut .sym {stroke-width: 1.5px}.tree text, .tree-sequence text {dominant-baseline: central}.plotbox .lab.lft {text-anchor: end}.plotbox .lab.rgt {text-anchor: start}.polytomy line {stroke: black; stroke-dasharray: 1px, 1px}.polytomy text {paint-order:stroke;stroke-width:0.3em;stroke:white}]]></style></defs><g class=\"tree-sequence\"><g class=\"background\"><path d=\"M20,0 l180,0 l0,138.2 l0,25 l0,5 l-180,0 l0,-5 l0,-25 l0,-138.2z\" /><path d=\"M200,0 l180,0 l0,138.2 l0,25 l0,5 l-180,0 l0,-5 l0,-25 l0,-138.2z\" /></g><g class=\"axes\"><g class=\"x-axis\"><g class=\"title\" transform=\"translate(200 200)\"><text class=\"lab\" text-anchor=\"middle\" transform=\"translate(0 -11)\">Genome position</text></g><line class=\"ax-line\" x1=\"20\" x2=\"380\" y1=\"163.2\" y2=\"163.2\" /><g class=\"ticks\"><g class=\"tick\" transform=\"translate(20 163.2)\"><line x1=\"0\" x2=\"0\" y1=\"0\" y2=\"5\" /><g transform=\"translate(0 6)\"><text class=\"lab\">0</text></g></g><g class=\"tick\" transform=\"translate(200 163.2)\"><line x1=\"0\" x2=\"0\" y1=\"0\" y2=\"5\" /><g transform=\"translate(0 6)\"><text class=\"lab\">1</text></g></g><g class=\"tick\" transform=\"translate(380 163.2)\"><line x1=\"0\" x2=\"0\" y1=\"0\" y2=\"5\" /><g transform=\"translate(0 6)\"><text class=\"lab\">2</text></g></g></g><g class=\"site s0\" transform=\"translate(20 163.2)\"><line class=\"sym\" x1=\"0\" x2=\"0\" y1=\"0\" y2=\"-10\" /><g class=\"mut m12\"><polyline class=\"sym\" points=\"2.5,-6.5 0,-1.5 -2.5,-6.5\" /></g><g class=\"mut m11\"><polyline class=\"sym\" points=\"2.5,-10.5 0,-5.5 -2.5,-10.5\" /></g><g class=\"mut m10\"><polyline class=\"sym\" points=\"2.5,-14.5 0,-9.5 -2.5,-14.5\" /></g><g class=\"mut m9\"><polyline class=\"sym\" points=\"2.5,-18.5 0,-13.5 -2.5,-18.5\" /></g><g class=\"mut m8\"><polyline class=\"sym\" points=\"2.5,-22.5 0,-17.5 -2.5,-22.5\" /></g><g class=\"mut m7\"><polyline class=\"sym\" points=\"2.5,-26.5 0,-21.5 -2.5,-26.5\" /></g><g class=\"mut m6\"><polyline class=\"sym\" points=\"2.5,-30.5 0,-25.5 -2.5,-30.5\" /></g><g class=\"mut m5\"><polyline class=\"sym\" points=\"2.5,-34.5 0,-29.5 -2.5,-34.5\" /></g><g class=\"mut m4\"><polyline class=\"sym\" points=\"2.5,-38.5 0,-33.5 -2.5,-38.5\" /></g><g class=\"mut m3\"><polyline class=\"sym\" points=\"2.5,-42.5 0,-37.5 -2.5,-42.5\" /></g><g class=\"mut m2\"><polyline class=\"sym\" points=\"2.5,-46.5 0,-41.5 -2.5,-46.5\" /></g><g class=\"mut m1\"><polyline class=\"sym\" points=\"2.5,-50.5 0,-45.5 -2.5,-50.5\" /></g><g class=\"mut m0\"><polyline class=\"sym\" points=\"2.5,-54.5 0,-49.5 -2.5,-54.5\" /></g></g><g class=\"site s1\" transform=\"translate(200 163.2)\"><line class=\"sym\" x1=\"0\" x2=\"0\" y1=\"0\" y2=\"-10\" /><g class=\"mut m17\"><polyline class=\"sym\" points=\"2.5,-6.5 0,-1.5 -2.5,-6.5\" /></g><g class=\"mut m16\"><polyline class=\"sym\" points=\"2.5,-10.5 0,-5.5 -2.5,-10.5\" /></g><g class=\"mut m15\"><polyline class=\"sym\" points=\"2.5,-14.5 0,-9.5 -2.5,-14.5\" /></g><g class=\"mut m14\"><polyline class=\"sym\" points=\"2.5,-18.5 0,-13.5 -2.5,-18.5\" /></g><g class=\"mut m13\"><polyline class=\"sym\" points=\"2.5,-22.5 0,-17.5 -2.5,-22.5\" /></g></g></g></g><g class=\"plotbox trees\"><g class=\"tree t0\" transform=\"translate(20 0)\"><g class=\"plotbox\"><g class=\"c2 node n50 p0 root\" transform=\"translate(145.02 22.3778)\"><g class=\"a50 c1 node n46 p0\" transform=\"translate(10.6053 21.484)\"><g class=\"a46 c1 node n43 p0\" transform=\"translate(0.0 1.82858)\"><g class=\"a43 leaf node n42 p0\" transform=\"translate(0.0 2.51013e-06)\"><path class=\"edge\" d=\"M 0 0 V -2.51013e-06 H 0.0\" /><circle class=\"sym\" cx=\"0\" cy=\"0\" r=\"3\" /><text class=\"lab\" transform=\"translate(0 11)\">42</text></g><path class=\"edge\" d=\"M 0 0 V -1.82858 H 0.0\" /><circle class=\"sym\" cx=\"0\" cy=\"0\" r=\"3\" /><text class=\"lab lft\" transform=\"translate(-3 -7)\">43</text></g><path class=\"edge\" d=\"M 0 0 V -21.484 H -10.6053\" /><circle class=\"sym\" cx=\"0\" cy=\"0\" r=\"3\" /><text class=\"lab rgt\" transform=\"translate(3 -7)\">46</text></g><g class=\"a50 c2 node n49 p0\" transform=\"translate(-10.6053 17.6682)\"><g class=\"a49 c2 node n45 p0\" transform=\"translate(-12.4606 4.04114)\"><g class=\"a45 c1 node n41 p0\" transform=\"translate(16.1713 1.60328)\"><g class=\"a41 c1 node n38 p0\" transform=\"translate(0.0 1.05688)\"><g class=\"a38 leaf node n37 p0\" transform=\"translate(0.0 2.51013e-06)\"><path class=\"edge\" d=\"M 0 0 V -2.51013e-06 H 0.0\" /><circle class=\"sym\" cx=\"0\" cy=\"0\" r=\"3\" /><text class=\"lab\" transform=\"translate(0 11)\">37</text></g><path class=\"edge\" d=\"M 0 0 V -1.05688 H 0.0\" /><circle class=\"sym\" cx=\"0\" cy=\"0\" r=\"3\" /><text class=\"lab lft\" transform=\"translate(-3 -7)\">38</text></g><path class=\"edge\" d=\"M 0 0 V -1.60328 H -16.1713\" /><circle class=\"sym\" cx=\"0\" cy=\"0\" r=\"3\" /><text class=\"lab rgt\" transform=\"translate(3 -7)\">41</text></g><g class=\"a45 c2 node n44 p0\" transform=\"translate(-16.1713 0.0495239)\"><g class=\"a44 c1 node n35 p0\" transform=\"translate(23.5925 10.7198)\"><g class=\"a35 leaf node n34 p0\" transform=\"translate(0.0 2.51013e-06)\"><path class=\"edge\" d=\"M 0 0 V -2.51013e-06 H 0.0\" /><circle class=\"sym\" cx=\"0\" cy=\"0\" r=\"3\" /><text class=\"lab\" transform=\"translate(0 11)\">34</text></g><path class=\"edge\" d=\"M 0 0 V -10.7198 H -23.5925\" /><circle class=\"sym\" cx=\"0\" cy=\"0\" r=\"3\" /><text class=\"lab rgt\" transform=\"translate(3 -7)\">35</text></g><g class=\"a44 c2 node n40 p0\" transform=\"translate(-23.5925 1.64433)\"><g class=\"a40 c1 m2 node n32 p0 s0\" transform=\"translate(38.4351 19.8431)\"><g class=\"a32 leaf node n31 p0\" transform=\"translate(0.0 2.51013e-06)\"><path class=\"edge\" d=\"M 0 0 V -2.51013e-06 H 0.0\" /><circle class=\"sym\" cx=\"0\" cy=\"0\" r=\"3\" /><text class=\"lab\" transform=\"translate(0 11)\">31</text></g><path class=\"edge\" d=\"M 0 0 V -19.8431 H -38.4351\" /><g class=\"mut m2 s0\" transform=\"translate(0 -7.01676)\"><line x1=\"0\" x2=\"0\" y1=\"0\" y2=\"7.01676\" /><path class=\"sym\" d=\"M -3,-3 l 6,6 M -3,3 l 6,-6\" /><text class=\"lab rgt\" transform=\"translate(5 0)\">2</text></g><circle class=\"sym\" cx=\"0\" cy=\"0\" r=\"3\" /><text class=\"lab rgt\" transform=\"translate(3 -7)\">32</text></g><g class=\"a40 c2 m1 node n39 p0 s0\" transform=\"translate(-38.4351 0.355572)\"><g class=\"a39 c1 node n30 p0\" transform=\"translate(19.3799 19.4875)\"><g class=\"a30 c2 node n29 p0\" transform=\"translate(0.0 19.0378)\"><g class=\"a29 c1 node n19 p0\" transform=\"translate(-25.6348 28.4912)\"><g class=\"a19 c2 node n10 p0\" transform=\"translate(0.0 8.20258)\"><g class=\"a10 leaf m4 node n1 p0 s0 sample\" transform=\"translate(-4.375 0.0443292)\"><path class=\"edge\" d=\"M 0 0 V -0.0443292 H 4.375\" /><g class=\"mut m4 s0\" transform=\"translate(0 -2.51006e-10)\"><line x1=\"0\" x2=\"0\" y1=\"0\" y2=\"2.51006e-10\" /><path class=\"sym\" d=\"M -3,-3 l 6,6 M -3,3 l 6,-6\" /><text class=\"lab lft\" transform=\"translate(-5 0)\">4</text></g><rect class=\"sym\" height=\"6\" width=\"6\" x=\"-3\" y=\"-3\" /><text class=\"lab\" transform=\"translate(0 11)\">1</text></g><g class=\"a10 leaf m5 node n2 p0 s0 sample\" transform=\"translate(4.375 0.0443292)\"><path class=\"edge\" d=\"M 0 0 V -0.0443292 H -4.375\" /><g class=\"mut m5 s0\" transform=\"translate(0 -2.51006e-10)\"><line x1=\"0\" x2=\"0\" y1=\"0\" y2=\"2.51006e-10\" /><path class=\"sym\" d=\"M -3,-3 l 6,6 M -3,3 l 6,-6\" /><text class=\"lab rgt\" transform=\"translate(5 0)\">5</text></g><rect class=\"sym\" height=\"6\" width=\"6\" x=\"-3\" y=\"-3\" /><text class=\"lab\" transform=\"translate(0 11)\">2</text></g><path class=\"edge\" d=\"M 0 0 V -8.20258 H 0.0\" /><circle class=\"sym\" cx=\"0\" cy=\"0\" r=\"3\" /><text class=\"lab lft\" transform=\"translate(-3 -7)\">10</text></g><path class=\"edge\" d=\"M 0 0 V -28.4912 H 25.6348\" /><circle class=\"sym\" cx=\"0\" cy=\"0\" r=\"3\" /><text class=\"lab lft\" transform=\"translate(-3 -7)\">19</text></g><g class=\"a29 c2 node n27 p0\" transform=\"translate(25.6348 4.23659)\"><g class=\"a27 c1 node n21 p0\" transform=\"translate(23.1055 24.2547)\"><g class=\"a21 leaf node n20 p0\" transform=\"translate(0.0 2.51013e-06)\"><path class=\"edge\" d=\"M 0 0 V -2.51013e-06 H 0.0\" /><circle class=\"sym\" cx=\"0\" cy=\"0\" r=\"3\" /><text class=\"lab\" transform=\"translate(0 11)\">20</text></g><path class=\"edge\" d=\"M 0 0 V -24.2547 H -23.1055\" /><circle class=\"sym\" cx=\"0\" cy=\"0\" r=\"3\" /><text class=\"lab rgt\" transform=\"translate(3 -7)\">21</text></g><g class=\"a27 c2 node n23 p0\" transform=\"translate(-23.1055 19.9036)\"><g class=\"a23 c2 node n16 p0\" transform=\"translate(-10.6641 10.29)\"><g class=\"a16 leaf m6 node n3 p0 s0 sample\" transform=\"translate(-4.375 2.30796)\"><path class=\"edge\" d=\"M 0 0 V -2.30796 H 4.375\" /><g class=\"mut m6 s0\" transform=\"translate(0 -2.51006e-10)\"><line x1=\"0\" x2=\"0\" y1=\"0\" y2=\"2.51006e-10\" /><path class=\"sym\" d=\"M -3,-3 l 6,6 M -3,3 l 6,-6\" /><text class=\"lab lft\" transform=\"translate(-5 0)\">6</text></g><rect class=\"sym\" height=\"6\" width=\"6\" x=\"-3\" y=\"-3\" /><text class=\"lab\" transform=\"translate(0 11)\">3</text></g><g class=\"a16 leaf m7 node n4 p0 s0 sample\" transform=\"translate(4.375 2.30796)\"><path class=\"edge\" d=\"M 0 0 V -2.30796 H -4.375\" /><g class=\"mut m7 s0\" transform=\"translate(0 -2.51006e-10)\"><line x1=\"0\" x2=\"0\" y1=\"0\" y2=\"2.51006e-10\" /><path class=\"sym\" d=\"M -3,-3 l 6,6 M -3,3 l 6,-6\" /><text class=\"lab rgt\" transform=\"translate(5 0)\">7</text></g><rect class=\"sym\" height=\"6\" width=\"6\" x=\"-3\" y=\"-3\" /><text class=\"lab\" transform=\"translate(0 11)\">4</text></g><path class=\"edge\" d=\"M 0 0 V -10.29 H 10.6641\" /><circle class=\"sym\" cx=\"0\" cy=\"0\" r=\"3\" /><text class=\"lab lft\" transform=\"translate(-3 -7)\">16</text></g><g class=\"a23 c2 node n22 p0\" transform=\"translate(10.6641 2.03885)\"><g class=\"a22 leaf m8 node n5 p0 s0 sample\" transform=\"translate(-8.20312 10.5591)\"><path class=\"edge\" d=\"M 0 0 V -10.5591 H 8.20312\" /><g class=\"mut m8 s0\" transform=\"translate(0 -2.51006e-10)\"><line x1=\"0\" x2=\"0\" y1=\"0\" y2=\"2.51006e-10\" /><path class=\"sym\" d=\"M -3,-3 l 6,6 M -3,3 l 6,-6\" /><text class=\"lab lft\" transform=\"translate(-5 0)\">8</text></g><rect class=\"sym\" height=\"6\" width=\"6\" x=\"-3\" y=\"-3\" /><text class=\"lab\" transform=\"translate(0 11)\">5</text></g><g class=\"a22 c2 node n17 p0\" transform=\"translate(8.20312 4.29842)\"><g class=\"a17 leaf m9 node n6 p0 s0 sample\" transform=\"translate(-7.65625 6.26072)\"><path class=\"edge\" d=\"M 0 0 V -6.26072 H 7.65625\" /><g class=\"mut m9 s0\" transform=\"translate(0 -2.51006e-10)\"><line x1=\"0\" x2=\"0\" y1=\"0\" y2=\"2.51006e-10\" /><path class=\"sym\" d=\"M -3,-3 l 6,6 M -3,3 l 6,-6\" /><text class=\"lab lft\" transform=\"translate(-5 0)\">9</text></g><rect class=\"sym\" height=\"6\" width=\"6\" x=\"-3\" y=\"-3\" /><text class=\"lab\" transform=\"translate(0 11)\">6</text></g><g class=\"a17 c2 node n15 p0\" transform=\"translate(7.65625 4.08434)\"><g class=\"a15 c2 node n11 p0\" transform=\"translate(6.5625 1.07689)\"><g class=\"a11 leaf m10 node n8 p0 s0 sample\" transform=\"translate(-4.375 1.09949)\"><path class=\"edge\" d=\"M 0 0 V -1.09949 H 4.375\" /><g class=\"mut m10 s0\" transform=\"translate(0 -2.51006e-10)\"><line x1=\"0\" x2=\"0\" y1=\"0\" y2=\"2.51006e-10\" /><path class=\"sym\" d=\"M -3,-3 l 6,6 M -3,3 l 6,-6\" /><text class=\"lab lft\" transform=\"translate(-5 0)\">10</text></g><rect class=\"sym\" height=\"6\" width=\"6\" x=\"-3\" y=\"-3\" /><text class=\"lab\" transform=\"translate(0 11)\">8</text></g><g class=\"a11 leaf m11 node n9 p0 s0 sample\" transform=\"translate(4.375 1.09949)\"><path class=\"edge\" d=\"M 0 0 V -1.09949 H -4.375\" /><g class=\"mut m11 s0\" transform=\"translate(0 -2.51006e-10)\"><line x1=\"0\" x2=\"0\" y1=\"0\" y2=\"2.51006e-10\" /><path class=\"sym\" d=\"M -3,-3 l 6,6 M -3,3 l 6,-6\" /><text class=\"lab rgt\" transform=\"translate(5 0)\">11</text></g><rect class=\"sym\" height=\"6\" width=\"6\" x=\"-3\" y=\"-3\" /><text class=\"lab\" transform=\"translate(0 11)\">9</text></g><path class=\"edge\" d=\"M 0 0 V -1.07689 H -6.5625\" /><circle class=\"sym\" cx=\"0\" cy=\"0\" r=\"3\" /><text class=\"lab rgt\" transform=\"translate(3 -7)\">11</text></g><g class=\"a15 c1 node n12 p0\" transform=\"translate(-6.5625 0.59412)\"><g class=\"a12 leaf m12 node n7 p0 s0 sample\" transform=\"translate(0.0 1.58226)\"><path class=\"edge\" d=\"M 0 0 V -1.58226 H 0.0\" /><g class=\"mut m12 s0\" transform=\"translate(0 -2.51006e-10)\"><line x1=\"0\" x2=\"0\" y1=\"0\" y2=\"2.51006e-10\" /><path class=\"sym\" d=\"M -3,-3 l 6,6 M -3,3 l 6,-6\" /><text class=\"lab lft\" transform=\"translate(-5 0)\">12</text></g><rect class=\"sym\" height=\"6\" width=\"6\" x=\"-3\" y=\"-3\" /><text class=\"lab\" transform=\"translate(0 11)\">7</text></g><path class=\"edge\" d=\"M 0 0 V -0.59412 H 6.5625\" /><circle class=\"sym\" cx=\"0\" cy=\"0\" r=\"3\" /><text class=\"lab lft\" transform=\"translate(-3 -7)\">12</text></g><path class=\"edge\" d=\"M 0 0 V -4.08434 H -7.65625\" /><circle class=\"sym\" cx=\"0\" cy=\"0\" r=\"3\" /><text class=\"lab rgt\" transform=\"translate(3 -7)\">15</text></g><path class=\"edge\" d=\"M 0 0 V -4.29842 H -8.20312\" /><circle class=\"sym\" cx=\"0\" cy=\"0\" r=\"3\" /><text class=\"lab rgt\" transform=\"translate(3 -7)\">17</text></g><path class=\"edge\" d=\"M 0 0 V -2.03885 H -10.6641\" /><circle class=\"sym\" cx=\"0\" cy=\"0\" r=\"3\" /><text class=\"lab rgt\" transform=\"translate(3 -7)\">22</text></g><path class=\"edge\" d=\"M 0 0 V -19.9036 H 23.1055\" /><circle class=\"sym\" cx=\"0\" cy=\"0\" r=\"3\" /><text class=\"lab lft\" transform=\"translate(-3 -7)\">23</text></g><path class=\"edge\" d=\"M 0 0 V -4.23659 H -25.6348\" /><circle class=\"sym\" cx=\"0\" cy=\"0\" r=\"3\" /><text class=\"lab rgt\" transform=\"translate(3 -7)\">27</text></g><path class=\"edge\" d=\"M 0 0 V -19.0378 H 0.0\" /><circle class=\"sym\" cx=\"0\" cy=\"0\" r=\"3\" /><text class=\"lab lft\" transform=\"translate(-3 -7)\">29</text></g><path class=\"edge\" d=\"M 0 0 V -19.4875 H -19.3799\" /><circle class=\"sym\" cx=\"0\" cy=\"0\" r=\"3\" /><text class=\"lab rgt\" transform=\"translate(3 -7)\">30</text></g><g class=\"a39 c1 node n36 p0\" transform=\"translate(-19.3799 0.610745)\"><g class=\"a36 c1 node n33 p0\" transform=\"translate(0.0 8.10913)\"><g class=\"a33 c1 m3 node n24 p0 s0\" transform=\"translate(0.0 53.0027)\"><g class=\"a24 leaf node n0 p0 sample\" transform=\"translate(0.0 13.541)\"><path class=\"edge\" d=\"M 0 0 V -13.541 H 0.0\" /><rect class=\"sym\" height=\"6\" width=\"6\" x=\"-3\" y=\"-3\" /><text class=\"lab\" transform=\"translate(0 11)\">0</text></g><path class=\"edge\" d=\"M 0 0 V -53.0027 H 0.0\" /><g class=\"mut m3 s0\" transform=\"translate(0 -17.5556)\"><line x1=\"0\" x2=\"0\" y1=\"0\" y2=\"17.5556\" /><path class=\"sym\" d=\"M -3,-3 l 6,6 M -3,3 l 6,-6\" /><text class=\"lab lft\" transform=\"translate(-5 0)\">3</text></g><circle class=\"sym\" cx=\"0\" cy=\"0\" r=\"3\" /><text class=\"lab lft\" transform=\"translate(-3 -7)\">24</text></g><path class=\"edge\" d=\"M 0 0 V -8.10913 H 0.0\" /><circle class=\"sym\" cx=\"0\" cy=\"0\" r=\"3\" /><text class=\"lab lft\" transform=\"translate(-3 -7)\">33</text></g><path class=\"edge\" d=\"M 0 0 V -0.610745 H 19.3799\" /><circle class=\"sym\" cx=\"0\" cy=\"0\" r=\"3\" /><text class=\"lab lft\" transform=\"translate(-3 -7)\">36</text></g><path class=\"edge\" d=\"M 0 0 V -0.355572 H 38.4351\" /><g class=\"mut m1 s0\" transform=\"translate(0 0.0)\"><line x1=\"0\" x2=\"0\" y1=\"0\" y2=\"-0.0\" /><path class=\"sym\" d=\"M -3,-3 l 6,6 M -3,3 l 6,-6\" /><text class=\"lab lft\" transform=\"translate(-5 0)\">1</text></g><circle class=\"sym\" cx=\"0\" cy=\"0\" r=\"3\" /><text class=\"lab lft\" transform=\"translate(-3 -7)\">39</text></g><path class=\"edge\" d=\"M 0 0 V -1.64433 H 23.5925\" /><circle class=\"sym\" cx=\"0\" cy=\"0\" r=\"3\" /><text class=\"lab lft\" transform=\"translate(-3 -7)\">40</text></g><path class=\"edge\" d=\"M 0 0 V -0.0495239 H 16.1713\" /><circle class=\"sym\" cx=\"0\" cy=\"0\" r=\"3\" /><text class=\"lab lft\" transform=\"translate(-3 -7)\">44</text></g><path class=\"edge\" d=\"M 0 0 V -4.04114 H 12.4606\" /><circle class=\"sym\" cx=\"0\" cy=\"0\" r=\"3\" /><text class=\"lab lft\" transform=\"translate(-3 -7)\">45</text></g><g class=\"a49 c1 m0 node n48 p0 s0\" transform=\"translate(12.4606 3.81584)\"><g class=\"a48 leaf node n47 p0\" transform=\"translate(0.0 2.51013e-06)\"><path class=\"edge\" d=\"M 0 0 V -2.51013e-06 H 0.0\" /><circle class=\"sym\" cx=\"0\" cy=\"0\" r=\"3\" /><text class=\"lab\" transform=\"translate(0 11)\">47</text></g><path class=\"edge\" d=\"M 0 0 V -3.81584 H -12.4606\" /><g class=\"mut m0 s0\" transform=\"translate(0 -0.263665)\"><line x1=\"0\" x2=\"0\" y1=\"0\" y2=\"0.263665\" /><path class=\"sym\" d=\"M -3,-3 l 6,6 M -3,3 l 6,-6\" /><text class=\"lab rgt\" transform=\"translate(5 0)\">0</text></g><circle class=\"sym\" cx=\"0\" cy=\"0\" r=\"3\" /><text class=\"lab rgt\" transform=\"translate(3 -7)\">48</text></g><path class=\"edge\" d=\"M 0 0 V -17.6682 H 10.6053\" /><circle class=\"sym\" cx=\"0\" cy=\"0\" r=\"3\" /><text class=\"lab lft\" transform=\"translate(-3 -7)\">49</text></g><path class=\"edge\" d=\"M 0 0 V -12.3778 H 0\" /><circle class=\"sym\" cx=\"0\" cy=\"0\" r=\"3\" /><text class=\"lab rgt\" transform=\"translate(3 -7)\">50</text></g></g></g><g class=\"tree t1\" transform=\"translate(200 0)\"><g class=\"plotbox\"><g class=\"c2 m13 node n39 p0 root s1\" transform=\"translate(54.4076 46.1365)\"><g class=\"a39 c1 node n30 p0\" transform=\"translate(28.5742 19.4875)\"><g class=\"a30 c2 node n29 p0\" transform=\"translate(0.0 19.0378)\"><g class=\"a29 c1 node n19 p0\" transform=\"translate(-39.6484 28.4912)\"><g class=\"a19 c2 node n10 p0\" transform=\"translate(0.0 8.20258)\"><g class=\"a10 leaf node n1 p0 sample\" transform=\"translate(-5.83333 0.0443292)\"><path class=\"edge\" d=\"M 0 0 V -0.0443292 H 5.83333\" /><rect class=\"sym\" height=\"6\" width=\"6\" x=\"-3\" y=\"-3\" /><text class=\"lab\" transform=\"translate(0 11)\">1</text></g><g class=\"a10 leaf node n2 p0 sample\" transform=\"translate(5.83333 0.0443292)\"><path class=\"edge\" d=\"M 0 0 V -0.0443292 H -5.83333\" /><rect class=\"sym\" height=\"6\" width=\"6\" x=\"-3\" y=\"-3\" /><text class=\"lab\" transform=\"translate(0 11)\">2</text></g><path class=\"edge\" d=\"M 0 0 V -8.20258 H 0.0\" /><circle class=\"sym\" cx=\"0\" cy=\"0\" r=\"3\" /><text class=\"lab lft\" transform=\"translate(-3 -7)\">10</text></g><path class=\"edge\" d=\"M 0 0 V -28.4912 H 39.6484\" /><circle class=\"sym\" cx=\"0\" cy=\"0\" r=\"3\" /><text class=\"lab lft\" transform=\"translate(-3 -7)\">19</text></g><g class=\"a29 c2 node n28 p0\" transform=\"translate(39.6484 3.38333)\"><g class=\"a28 c2 node n23 p0\" transform=\"translate(-31.5365 20.7568)\"><g class=\"a23 c2 node n22 p0\" transform=\"translate(15.6771 2.03885)\"><g class=\"a22 leaf node n5 p0 sample\" transform=\"translate(-10.9375 10.5591)\"><path class=\"edge\" d=\"M 0 0 V -10.5591 H 10.9375\" /><rect class=\"sym\" height=\"6\" width=\"6\" x=\"-3\" y=\"-3\" /><text class=\"lab\" transform=\"translate(0 11)\">5</text></g><g class=\"a22 c2 node n17 p0\" transform=\"translate(10.9375 4.29842)\"><g class=\"a17 leaf node n6 p0 sample\" transform=\"translate(-10.2083 6.26072)\"><path class=\"edge\" d=\"M 0 0 V -6.26072 H 10.2083\" /><rect class=\"sym\" height=\"6\" width=\"6\" x=\"-3\" y=\"-3\" /><text class=\"lab\" transform=\"translate(0 11)\">6</text></g><g class=\"a17 c2 node n15 p0\" transform=\"translate(10.2083 4.08434)\"><g class=\"a15 c2 node n11 p0\" transform=\"translate(8.75 1.07689)\"><g class=\"a11 leaf node n8 p0 sample\" transform=\"translate(-5.83333 1.09949)\"><path class=\"edge\" d=\"M 0 0 V -1.09949 H 5.83333\" /><rect class=\"sym\" height=\"6\" width=\"6\" x=\"-3\" y=\"-3\" /><text class=\"lab\" transform=\"translate(0 11)\">8</text></g><g class=\"a11 leaf node n9 p0 sample\" transform=\"translate(5.83333 1.09949)\"><path class=\"edge\" d=\"M 0 0 V -1.09949 H -5.83333\" /><rect class=\"sym\" height=\"6\" width=\"6\" x=\"-3\" y=\"-3\" /><text class=\"lab\" transform=\"translate(0 11)\">9</text></g><path class=\"edge\" d=\"M 0 0 V -1.07689 H -8.75\" /><circle class=\"sym\" cx=\"0\" cy=\"0\" r=\"3\" /><text class=\"lab rgt\" transform=\"translate(3 -7)\">11</text></g><g class=\"a15 c1 node n12 p0\" transform=\"translate(-8.75 0.59412)\"><g class=\"a12 leaf m15 node n7 p0 s1 sample\" transform=\"translate(0.0 1.58226)\"><path class=\"edge\" d=\"M 0 0 V -1.58226 H 0.0\" /><g class=\"mut m15 s1\" transform=\"translate(0 -2.51006e-10)\"><line x1=\"0\" x2=\"0\" y1=\"0\" y2=\"2.51006e-10\" /><path class=\"sym\" d=\"M -3,-3 l 6,6 M -3,3 l 6,-6\" /><text class=\"lab lft\" transform=\"translate(-5 0)\">15</text></g><rect class=\"sym\" height=\"6\" width=\"6\" x=\"-3\" y=\"-3\" /><text class=\"lab\" transform=\"translate(0 11)\">7</text></g><path class=\"edge\" d=\"M 0 0 V -0.59412 H 8.75\" /><circle class=\"sym\" cx=\"0\" cy=\"0\" r=\"3\" /><text class=\"lab lft\" transform=\"translate(-3 -7)\">12</text></g><path class=\"edge\" d=\"M 0 0 V -4.08434 H -10.2083\" /><circle class=\"sym\" cx=\"0\" cy=\"0\" r=\"3\" /><text class=\"lab rgt\" transform=\"translate(3 -7)\">15</text></g><path class=\"edge\" d=\"M 0 0 V -4.29842 H -10.9375\" /><circle class=\"sym\" cx=\"0\" cy=\"0\" r=\"3\" /><text class=\"lab rgt\" transform=\"translate(3 -7)\">17</text></g><path class=\"edge\" d=\"M 0 0 V -2.03885 H -15.6771\" /><circle class=\"sym\" cx=\"0\" cy=\"0\" r=\"3\" /><text class=\"lab rgt\" transform=\"translate(3 -7)\">22</text></g><g class=\"a23 c2 m14 node n18 p0 s1\" transform=\"translate(-15.6771 6.17898)\"><g class=\"a18 c1 node n14 p0\" transform=\"translate(8.75 4.83674)\"><g class=\"a14 leaf node n13 p0\" transform=\"translate(0.0 2.51013e-06)\"><path class=\"edge\" d=\"M 0 0 V -2.51013e-06 H 0.0\" /><circle class=\"sym\" cx=\"0\" cy=\"0\" r=\"3\" /><text class=\"lab\" transform=\"translate(0 11)\">13</text></g><path class=\"edge\" d=\"M 0 0 V -4.83674 H -8.75\" /><circle class=\"sym\" cx=\"0\" cy=\"0\" r=\"3\" /><text class=\"lab rgt\" transform=\"translate(3 -7)\">14</text></g><g class=\"a18 c2 node n16 p0\" transform=\"translate(-8.75 4.11104)\"><g class=\"a16 leaf m16 node n3 p0 s1 sample\" transform=\"translate(-5.83333 2.30796)\"><path class=\"edge\" d=\"M 0 0 V -2.30796 H 5.83333\" /><g class=\"mut m16 s1\" transform=\"translate(0 -2.51006e-10)\"><line x1=\"0\" x2=\"0\" y1=\"0\" y2=\"2.51006e-10\" /><path class=\"sym\" d=\"M -3,-3 l 6,6 M -3,3 l 6,-6\" /><text class=\"lab lft\" transform=\"translate(-5 0)\">16</text></g><rect class=\"sym\" height=\"6\" width=\"6\" x=\"-3\" y=\"-3\" /><text class=\"lab\" transform=\"translate(0 11)\">3</text></g><g class=\"a16 leaf m17 node n4 p0 s1 sample\" transform=\"translate(5.83333 2.30796)\"><path class=\"edge\" d=\"M 0 0 V -2.30796 H -5.83333\" /><g class=\"mut m17 s1\" transform=\"translate(0 -2.51006e-10)\"><line x1=\"0\" x2=\"0\" y1=\"0\" y2=\"2.51006e-10\" /><path class=\"sym\" d=\"M -3,-3 l 6,6 M -3,3 l 6,-6\" /><text class=\"lab rgt\" transform=\"translate(5 0)\">17</text></g><rect class=\"sym\" height=\"6\" width=\"6\" x=\"-3\" y=\"-3\" /><text class=\"lab\" transform=\"translate(0 11)\">4</text></g><path class=\"edge\" d=\"M 0 0 V -4.11104 H 8.75\" /><circle class=\"sym\" cx=\"0\" cy=\"0\" r=\"3\" /><text class=\"lab lft\" transform=\"translate(-3 -7)\">16</text></g><path class=\"edge\" d=\"M 0 0 V -6.17898 H 15.6771\" /><g class=\"mut m14 s1\" transform=\"translate(0 -5.14602)\"><line x1=\"0\" x2=\"0\" y1=\"0\" y2=\"5.14602\" /><path class=\"sym\" d=\"M -3,-3 l 6,6 M -3,3 l 6,-6\" /><text class=\"lab lft\" transform=\"translate(-5 0)\">14</text></g><circle class=\"sym\" cx=\"0\" cy=\"0\" r=\"3\" /><text class=\"lab lft\" transform=\"translate(-3 -7)\">18</text></g><path class=\"edge\" d=\"M 0 0 V -20.7568 H 31.5365\" /><circle class=\"sym\" cx=\"0\" cy=\"0\" r=\"3\" /><text class=\"lab lft\" transform=\"translate(-3 -7)\">23</text></g><g class=\"a28 c1 node n26 p0\" transform=\"translate(31.5365 19.8139)\"><g class=\"a26 leaf node n25 p0\" transform=\"translate(0.0 2.51013e-06)\"><path class=\"edge\" d=\"M 0 0 V -2.51013e-06 H 0.0\" /><circle class=\"sym\" cx=\"0\" cy=\"0\" r=\"3\" /><text class=\"lab\" transform=\"translate(0 11)\">25</text></g><path class=\"edge\" d=\"M 0 0 V -19.8139 H -31.5365\" /><circle class=\"sym\" cx=\"0\" cy=\"0\" r=\"3\" /><text class=\"lab rgt\" transform=\"translate(3 -7)\">26</text></g><path class=\"edge\" d=\"M 0 0 V -3.38333 H -39.6484\" /><circle class=\"sym\" cx=\"0\" cy=\"0\" r=\"3\" /><text class=\"lab rgt\" transform=\"translate(3 -7)\">28</text></g><path class=\"edge\" d=\"M 0 0 V -19.0378 H 0.0\" /><circle class=\"sym\" cx=\"0\" cy=\"0\" r=\"3\" /><text class=\"lab lft\" transform=\"translate(-3 -7)\">29</text></g><path class=\"edge\" d=\"M 0 0 V -19.4875 H -28.5742\" /><circle class=\"sym\" cx=\"0\" cy=\"0\" r=\"3\" /><text class=\"lab rgt\" transform=\"translate(3 -7)\">30</text></g><g class=\"a39 c1 node n36 p0\" transform=\"translate(-28.5742 0.610745)\"><g class=\"a36 c1 node n33 p0\" transform=\"translate(0.0 8.10913)\"><g class=\"a33 c1 node n24 p0\" transform=\"translate(0.0 53.0027)\"><g class=\"a24 leaf node n0 p0 sample\" transform=\"translate(0.0 13.541)\"><path class=\"edge\" d=\"M 0 0 V -13.541 H 0.0\" /><rect class=\"sym\" height=\"6\" width=\"6\" x=\"-3\" y=\"-3\" /><text class=\"lab\" transform=\"translate(0 11)\">0</text></g><path class=\"edge\" d=\"M 0 0 V -53.0027 H 0.0\" /><circle class=\"sym\" cx=\"0\" cy=\"0\" r=\"3\" /><text class=\"lab lft\" transform=\"translate(-3 -7)\">24</text></g><path class=\"edge\" d=\"M 0 0 V -8.10913 H 0.0\" /><circle class=\"sym\" cx=\"0\" cy=\"0\" r=\"3\" /><text class=\"lab lft\" transform=\"translate(-3 -7)\">33</text></g><path class=\"edge\" d=\"M 0 0 V -0.610745 H 28.5742\" /><circle class=\"sym\" cx=\"0\" cy=\"0\" r=\"3\" /><text class=\"lab lft\" transform=\"translate(-3 -7)\">36</text></g><path class=\"edge\" d=\"M 0 0 V -12.3778 H 0\" /><g class=\"mut m13 s1\" transform=\"translate(0 0.0)\"><line x1=\"0\" x2=\"0\" y1=\"0\" y2=\"-0.0\" /><path class=\"sym\" d=\"M -3,-3 l 6,6 M -3,3 l 6,-6\" /><text class=\"lab rgt\" transform=\"translate(5 0)\">13</text></g><circle class=\"sym\" cx=\"0\" cy=\"0\" r=\"3\" /><text class=\"lab rgt\" transform=\"translate(3 -7)\">39</text></g></g></g></g></g></svg>"
      ],
      "text/plain": [
       "'<svg baseProfile=\"full\" height=\"200\" version=\"1.1\" width=\"400\" xmlns=\"http://www.w3.org/2000/svg\" xmlns:ev=\"http://www.w3.org/2001/xml-events\" xmlns:xlink=\"http://www.w3.org/1999/xlink\"><defs><style type=\"text/css\"><![CDATA[.background path {fill: #808080; fill-opacity: 0}.background path:nth-child(odd) {fill-opacity: .1}.x-regions rect {fill: yellow; stroke: black; opacity: 0.5}.axes {font-size: 14px}.x-axis .tick .lab {font-weight: bold; dominant-baseline: hanging}.axes, .tree {font-size: 14px; text-anchor: middle}.axes line, .edge {stroke: black; fill: none}.axes .ax-skip {stroke-dasharray: 4}.y-axis .grid {stroke: #FAFAFA}.node > .sym {fill: black; stroke: none}.site > .sym {stroke: black}.mut text {fill: red; font-style: italic}.mut.extra text {fill: hotpink}.mut line {fill: none; stroke: none}.mut .sym {fill: none; stroke: red}.mut.extra .sym {stroke: hotpink}.node .mut .sym {stroke-width: 1.5px}.tree text, .tree-sequence text {dominant-baseline: central}.plotbox .lab.lft {text-anchor: end}.plotbox .lab.rgt {text-anchor: start}.polytomy line {stroke: black; stroke-dasharray: 1px, 1px}.polytomy text {paint-order:stroke;stroke-width:0.3em;stroke:white}]]></style></defs><g class=\"tree-sequence\"><g class=\"background\"><path d=\"M20,0 l180,0 l0,138.2 l0,25 l0,5 l-180,0 l0,-5 l0,-25 l0,-138.2z\" /><path d=\"M200,0 l180,0 l0,138.2 l0,25 l0,5 l-180,0 l0,-5 l0,-25 l0,-138.2z\" /></g><g class=\"axes\"><g class=\"x-axis\"><g class=\"title\" transform=\"translate(200 200)\"><text class=\"lab\" text-anchor=\"middle\" transform=\"translate(0 -11)\">Genome position</text></g><line class=\"ax-line\" x1=\"20\" x2=\"380\" y1=\"163.2\" y2=\"163.2\" /><g class=\"ticks\"><g class=\"tick\" transform=\"translate(20 163.2)\"><line x1=\"0\" x2=\"0\" y1=\"0\" y2=\"5\" /><g transform=\"translate(0 6)\"><text class=\"lab\">0</text></g></g><g class=\"tick\" transform=\"translate(200 163.2)\"><line x1=\"0\" x2=\"0\" y1=\"0\" y2=\"5\" /><g transform=\"translate(0 6)\"><text class=\"lab\">1</text></g></g><g class=\"tick\" transform=\"translate(380 163.2)\"><line x1=\"0\" x2=\"0\" y1=\"0\" y2=\"5\" /><g transform=\"translate(0 6)\"><text class=\"lab\">2</text></g></g></g><g class=\"site s0\" transform=\"translate(20 163.2)\"><line class=\"sym\" x1=\"0\" x2=\"0\" y1=\"0\" y2=\"-10\" /><g class=\"mut m12\"><polyline class=\"sym\" points=\"2.5,-6.5 0,-1.5 -2.5,-6.5\" /></g><g class=\"mut m11\"><polyline class=\"sym\" points=\"2.5,-10.5 0,-5.5 -2.5,-10.5\" /></g><g class=\"mut m10\"><polyline class=\"sym\" points=\"2.5,-14.5 0,-9.5 -2.5,-14.5\" /></g><g class=\"mut m9\"><polyline class=\"sym\" points=\"2.5,-18.5 0,-13.5 -2.5,-18.5\" /></g><g class=\"mut m8\"><polyline class=\"sym\" points=\"2.5,-22.5 0,-17.5 -2.5,-22.5\" /></g><g class=\"mut m7\"><polyline class=\"sym\" points=\"2.5,-26.5 0,-21.5 -2.5,-26.5\" /></g><g class=\"mut m6\"><polyline class=\"sym\" points=\"2.5,-30.5 0,-25.5 -2.5,-30.5\" /></g><g class=\"mut m5\"><polyline class=\"sym\" points=\"2.5,-34.5 0,-29.5 -2.5,-34.5\" /></g><g class=\"mut m4\"><polyline class=\"sym\" points=\"2.5,-38.5 0,-33.5 -2.5,-38.5\" /></g><g class=\"mut m3\"><polyline class=\"sym\" points=\"2.5,-42.5 0,-37.5 -2.5,-42.5\" /></g><g class=\"mut m2\"><polyline class=\"sym\" points=\"2.5,-46.5 0,-41.5 -2.5,-46.5\" /></g><g class=\"mut m1\"><polyline class=\"sym\" points=\"2.5,-50.5 0,-45.5 -2.5,-50.5\" /></g><g class=\"mut m0\"><polyline class=\"sym\" points=\"2.5,-54.5 0,-49.5 -2.5,-54.5\" /></g></g><g class=\"site s1\" transform=\"translate(200 163.2)\"><line class=\"sym\" x1=\"0\" x2=\"0\" y1=\"0\" y2=\"-10\" /><g class=\"mut m17\"><polyline class=\"sym\" points=\"2.5,-6.5 0,-1.5 -2.5,-6.5\" /></g><g class=\"mut m16\"><polyline class=\"sym\" points=\"2.5,-10.5 0,-5.5 -2.5,-10.5\" /></g><g class=\"mut m15\"><polyline class=\"sym\" points=\"2.5,-14.5 0,-9.5 -2.5,-14.5\" /></g><g class=\"mut m14\"><polyline class=\"sym\" points=\"2.5,-18.5 0,-13.5 -2.5,-18.5\" /></g><g class=\"mut m13\"><polyline class=\"sym\" points=\"2.5,-22.5 0,-17.5 -2.5,-22.5\" /></g></g></g></g><g class=\"plotbox trees\"><g class=\"tree t0\" transform=\"translate(20 0)\"><g class=\"plotbox\"><g class=\"c2 node n50 p0 root\" transform=\"translate(145.02 22.3778)\"><g class=\"a50 c1 node n46 p0\" transform=\"translate(10.6053 21.484)\"><g class=\"a46 c1 node n43 p0\" transform=\"translate(0.0 1.82858)\"><g class=\"a43 leaf node n42 p0\" transform=\"translate(0.0 2.51013e-06)\"><path class=\"edge\" d=\"M 0 0 V -2.51013e-06 H 0.0\" /><circle class=\"sym\" cx=\"0\" cy=\"0\" r=\"3\" /><text class=\"lab\" transform=\"translate(0 11)\">42</text></g><path class=\"edge\" d=\"M 0 0 V -1.82858 H 0.0\" /><circle class=\"sym\" cx=\"0\" cy=\"0\" r=\"3\" /><text class=\"lab lft\" transform=\"translate(-3 -7)\">43</text></g><path class=\"edge\" d=\"M 0 0 V -21.484 H -10.6053\" /><circle class=\"sym\" cx=\"0\" cy=\"0\" r=\"3\" /><text class=\"lab rgt\" transform=\"translate(3 -7)\">46</text></g><g class=\"a50 c2 node n49 p0\" transform=\"translate(-10.6053 17.6682)\"><g class=\"a49 c2 node n45 p0\" transform=\"translate(-12.4606 4.04114)\"><g class=\"a45 c1 node n41 p0\" transform=\"translate(16.1713 1.60328)\"><g class=\"a41 c1 node n38 p0\" transform=\"translate(0.0 1.05688)\"><g class=\"a38 leaf node n37 p0\" transform=\"translate(0.0 2.51013e-06)\"><path class=\"edge\" d=\"M 0 0 V -2.51013e-06 H 0.0\" /><circle class=\"sym\" cx=\"0\" cy=\"0\" r=\"3\" /><text class=\"lab\" transform=\"translate(0 11)\">37</text></g><path class=\"edge\" d=\"M 0 0 V -1.05688 H 0.0\" /><circle class=\"sym\" cx=\"0\" cy=\"0\" r=\"3\" /><text class=\"lab lft\" transform=\"translate(-3 -7)\">38</text></g><path class=\"edge\" d=\"M 0 0 V -1.60328 H -16.1713\" /><circle class=\"sym\" cx=\"0\" cy=\"0\" r=\"3\" /><text class=\"lab rgt\" transform=\"translate(3 -7)\">41</text></g><g class=\"a45 c2 node n44 p0\" transform=\"translate(-16.1713 0.0495239)\"><g class=\"a44 c1 node n35 p0\" transform=\"translate(23.5925 10.7198)\"><g class=\"a35 leaf node n34 p0\" transform=\"translate(0.0 2.51013e-06)\"><path class=\"edge\" d=\"M 0 0 V -2.51013e-06 H 0.0\" /><circle class=\"sym\" cx=\"0\" cy=\"0\" r=\"3\" /><text class=\"lab\" transform=\"translate(0 11)\">34</text></g><path class=\"edge\" d=\"M 0 0 V -10.7198 H -23.5925\" /><circle class=\"sym\" cx=\"0\" cy=\"0\" r=\"3\" /><text class=\"lab rgt\" transform=\"translate(3 -7)\">35</text></g><g class=\"a44 c2 node n40 p0\" transform=\"translate(-23.5925 1.64433)\"><g class=\"a40 c1 m2 node n32 p0 s0\" transform=\"translate(38.4351 19.8431)\"><g class=\"a32 leaf node n31 p0\" transform=\"translate(0.0 2.51013e-06)\"><path class=\"edge\" d=\"M 0 0 V -2.51013e-06 H 0.0\" /><circle class=\"sym\" cx=\"0\" cy=\"0\" r=\"3\" /><text class=\"lab\" transform=\"translate(0 11)\">31</text></g><path class=\"edge\" d=\"M 0 0 V -19.8431 H -38.4351\" /><g class=\"mut m2 s0\" transform=\"translate(0 -7.01676)\"><line x1=\"0\" x2=\"0\" y1=\"0\" y2=\"7.01676\" /><path class=\"sym\" d=\"M -3,-3 l 6,6 M -3,3 l 6,-6\" /><text class=\"lab rgt\" transform=\"translate(5 0)\">2</text></g><circle class=\"sym\" cx=\"0\" cy=\"0\" r=\"3\" /><text class=\"lab rgt\" transform=\"translate(3 -7)\">32</text></g><g class=\"a40 c2 m1 node n39 p0 s0\" transform=\"translate(-38.4351 0.355572)\"><g class=\"a39 c1 node n30 p0\" transform=\"translate(19.3799 19.4875)\"><g class=\"a30 c2 node n29 p0\" transform=\"translate(0.0 19.0378)\"><g class=\"a29 c1 node n19 p0\" transform=\"translate(-25.6348 28.4912)\"><g class=\"a19 c2 node n10 p0\" transform=\"translate(0.0 8.20258)\"><g class=\"a10 leaf m4 node n1 p0 s0 sample\" transform=\"translate(-4.375 0.0443292)\"><path class=\"edge\" d=\"M 0 0 V -0.0443292 H 4.375\" /><g class=\"mut m4 s0\" transform=\"translate(0 -2.51006e-10)\"><line x1=\"0\" x2=\"0\" y1=\"0\" y2=\"2.51006e-10\" /><path class=\"sym\" d=\"M -3,-3 l 6,6 M -3,3 l 6,-6\" /><text class=\"lab lft\" transform=\"translate(-5 0)\">4</text></g><rect class=\"sym\" height=\"6\" width=\"6\" x=\"-3\" y=\"-3\" /><text class=\"lab\" transform=\"translate(0 11)\">1</text></g><g class=\"a10 leaf m5 node n2 p0 s0 sample\" transform=\"translate(4.375 0.0443292)\"><path class=\"edge\" d=\"M 0 0 V -0.0443292 H -4.375\" /><g class=\"mut m5 s0\" transform=\"translate(0 -2.51006e-10)\"><line x1=\"0\" x2=\"0\" y1=\"0\" y2=\"2.51006e-10\" /><path class=\"sym\" d=\"M -3,-3 l 6,6 M -3,3 l 6,-6\" /><text class=\"lab rgt\" transform=\"translate(5 0)\">5</text></g><rect class=\"sym\" height=\"6\" width=\"6\" x=\"-3\" y=\"-3\" /><text class=\"lab\" transform=\"translate(0 11)\">2</text></g><path class=\"edge\" d=\"M 0 0 V -8.20258 H 0.0\" /><circle class=\"sym\" cx=\"0\" cy=\"0\" r=\"3\" /><text class=\"lab lft\" transform=\"translate(-3 -7)\">10</text></g><path class=\"edge\" d=\"M 0 0 V -28.4912 H 25.6348\" /><circle class=\"sym\" cx=\"0\" cy=\"0\" r=\"3\" /><text class=\"lab lft\" transform=\"translate(-3 -7)\">19</text></g><g class=\"a29 c2 node n27 p0\" transform=\"translate(25.6348 4.23659)\"><g class=\"a27 c1 node n21 p0\" transform=\"translate(23.1055 24.2547)\"><g class=\"a21 leaf node n20 p0\" transform=\"translate(0.0 2.51013e-06)\"><path class=\"edge\" d=\"M 0 0 V -2.51013e-06 H 0.0\" /><circle class=\"sym\" cx=\"0\" cy=\"0\" r=\"3\" /><text class=\"lab\" transform=\"translate(0 11)\">20</text></g><path class=\"edge\" d=\"M 0 0 V -24.2547 H -23.1055\" /><circle class=\"sym\" cx=\"0\" cy=\"0\" r=\"3\" /><text class=\"lab rgt\" transform=\"translate(3 -7)\">21</text></g><g class=\"a27 c2 node n23 p0\" transform=\"translate(-23.1055 19.9036)\"><g class=\"a23 c2 node n16 p0\" transform=\"translate(-10.6641 10.29)\"><g class=\"a16 leaf m6 node n3 p0 s0 sample\" transform=\"translate(-4.375 2.30796)\"><path class=\"edge\" d=\"M 0 0 V -2.30796 H 4.375\" /><g class=\"mut m6 s0\" transform=\"translate(0 -2.51006e-10)\"><line x1=\"0\" x2=\"0\" y1=\"0\" y2=\"2.51006e-10\" /><path class=\"sym\" d=\"M -3,-3 l 6,6 M -3,3 l 6,-6\" /><text class=\"lab lft\" transform=\"translate(-5 0)\">6</text></g><rect class=\"sym\" height=\"6\" width=\"6\" x=\"-3\" y=\"-3\" /><text class=\"lab\" transform=\"translate(0 11)\">3</text></g><g class=\"a16 leaf m7 node n4 p0 s0 sample\" transform=\"translate(4.375 2.30796)\"><path class=\"edge\" d=\"M 0 0 V -2.30796 H -4.375\" /><g class=\"mut m7 s0\" transform=\"translate(0 -2.51006e-10)\"><line x1=\"0\" x2=\"0\" y1=\"0\" y2=\"2.51006e-10\" /><path class=\"sym\" d=\"M -3,-3 l 6,6 M -3,3 l 6,-6\" /><text class=\"lab rgt\" transform=\"translate(5 0)\">7</text></g><rect class=\"sym\" height=\"6\" width=\"6\" x=\"-3\" y=\"-3\" /><text class=\"lab\" transform=\"translate(0 11)\">4</text></g><path class=\"edge\" d=\"M 0 0 V -10.29 H 10.6641\" /><circle class=\"sym\" cx=\"0\" cy=\"0\" r=\"3\" /><text class=\"lab lft\" transform=\"translate(-3 -7)\">16</text></g><g class=\"a23 c2 node n22 p0\" transform=\"translate(10.6641 2.03885)\"><g class=\"a22 leaf m8 node n5 p0 s0 sample\" transform=\"translate(-8.20312 10.5591)\"><path class=\"edge\" d=\"M 0 0 V -10.5591 H 8.20312\" /><g class=\"mut m8 s0\" transform=\"translate(0 -2.51006e-10)\"><line x1=\"0\" x2=\"0\" y1=\"0\" y2=\"2.51006e-10\" /><path class=\"sym\" d=\"M -3,-3 l 6,6 M -3,3 l 6,-6\" /><text class=\"lab lft\" transform=\"translate(-5 0)\">8</text></g><rect class=\"sym\" height=\"6\" width=\"6\" x=\"-3\" y=\"-3\" /><text class=\"lab\" transform=\"translate(0 11)\">5</text></g><g class=\"a22 c2 node n17 p0\" transform=\"translate(8.20312 4.29842)\"><g class=\"a17 leaf m9 node n6 p0 s0 sample\" transform=\"translate(-7.65625 6.26072)\"><path class=\"edge\" d=\"M 0 0 V -6.26072 H 7.65625\" /><g class=\"mut m9 s0\" transform=\"translate(0 -2.51006e-10)\"><line x1=\"0\" x2=\"0\" y1=\"0\" y2=\"2.51006e-10\" /><path class=\"sym\" d=\"M -3,-3 l 6,6 M -3,3 l 6,-6\" /><text class=\"lab lft\" transform=\"translate(-5 0)\">9</text></g><rect class=\"sym\" height=\"6\" width=\"6\" x=\"-3\" y=\"-3\" /><text class=\"lab\" transform=\"translate(0 11)\">6</text></g><g class=\"a17 c2 node n15 p0\" transform=\"translate(7.65625 4.08434)\"><g class=\"a15 c2 node n11 p0\" transform=\"translate(6.5625 1.07689)\"><g class=\"a11 leaf m10 node n8 p0 s0 sample\" transform=\"translate(-4.375 1.09949)\"><path class=\"edge\" d=\"M 0 0 V -1.09949 H 4.375\" /><g class=\"mut m10 s0\" transform=\"translate(0 -2.51006e-10)\"><line x1=\"0\" x2=\"0\" y1=\"0\" y2=\"2.51006e-10\" /><path class=\"sym\" d=\"M -3,-3 l 6,6 M -3,3 l 6,-6\" /><text class=\"lab lft\" transform=\"translate(-5 0)\">10</text></g><rect class=\"sym\" height=\"6\" width=\"6\" x=\"-3\" y=\"-3\" /><text class=\"lab\" transform=\"translate(0 11)\">8</text></g><g class=\"a11 leaf m11 node n9 p0 s0 sample\" transform=\"translate(4.375 1.09949)\"><path class=\"edge\" d=\"M 0 0 V -1.09949 H -4.375\" /><g class=\"mut m11 s0\" transform=\"translate(0 -2.51006e-10)\"><line x1=\"0\" x2=\"0\" y1=\"0\" y2=\"2.51006e-10\" /><path class=\"sym\" d=\"M -3,-3 l 6,6 M -3,3 l 6,-6\" /><text class=\"lab rgt\" transform=\"translate(5 0)\">11</text></g><rect class=\"sym\" height=\"6\" width=\"6\" x=\"-3\" y=\"-3\" /><text class=\"lab\" transform=\"translate(0 11)\">9</text></g><path class=\"edge\" d=\"M 0 0 V -1.07689 H -6.5625\" /><circle class=\"sym\" cx=\"0\" cy=\"0\" r=\"3\" /><text class=\"lab rgt\" transform=\"translate(3 -7)\">11</text></g><g class=\"a15 c1 node n12 p0\" transform=\"translate(-6.5625 0.59412)\"><g class=\"a12 leaf m12 node n7 p0 s0 sample\" transform=\"translate(0.0 1.58226)\"><path class=\"edge\" d=\"M 0 0 V -1.58226 H 0.0\" /><g class=\"mut m12 s0\" transform=\"translate(0 -2.51006e-10)\"><line x1=\"0\" x2=\"0\" y1=\"0\" y2=\"2.51006e-10\" /><path class=\"sym\" d=\"M -3,-3 l 6,6 M -3,3 l 6,-6\" /><text class=\"lab lft\" transform=\"translate(-5 0)\">12</text></g><rect class=\"sym\" height=\"6\" width=\"6\" x=\"-3\" y=\"-3\" /><text class=\"lab\" transform=\"translate(0 11)\">7</text></g><path class=\"edge\" d=\"M 0 0 V -0.59412 H 6.5625\" /><circle class=\"sym\" cx=\"0\" cy=\"0\" r=\"3\" /><text class=\"lab lft\" transform=\"translate(-3 -7)\">12</text></g><path class=\"edge\" d=\"M 0 0 V -4.08434 H -7.65625\" /><circle class=\"sym\" cx=\"0\" cy=\"0\" r=\"3\" /><text class=\"lab rgt\" transform=\"translate(3 -7)\">15</text></g><path class=\"edge\" d=\"M 0 0 V -4.29842 H -8.20312\" /><circle class=\"sym\" cx=\"0\" cy=\"0\" r=\"3\" /><text class=\"lab rgt\" transform=\"translate(3 -7)\">17</text></g><path class=\"edge\" d=\"M 0 0 V -2.03885 H -10.6641\" /><circle class=\"sym\" cx=\"0\" cy=\"0\" r=\"3\" /><text class=\"lab rgt\" transform=\"translate(3 -7)\">22</text></g><path class=\"edge\" d=\"M 0 0 V -19.9036 H 23.1055\" /><circle class=\"sym\" cx=\"0\" cy=\"0\" r=\"3\" /><text class=\"lab lft\" transform=\"translate(-3 -7)\">23</text></g><path class=\"edge\" d=\"M 0 0 V -4.23659 H -25.6348\" /><circle class=\"sym\" cx=\"0\" cy=\"0\" r=\"3\" /><text class=\"lab rgt\" transform=\"translate(3 -7)\">27</text></g><path class=\"edge\" d=\"M 0 0 V -19.0378 H 0.0\" /><circle class=\"sym\" cx=\"0\" cy=\"0\" r=\"3\" /><text class=\"lab lft\" transform=\"translate(-3 -7)\">29</text></g><path class=\"edge\" d=\"M 0 0 V -19.4875 H -19.3799\" /><circle class=\"sym\" cx=\"0\" cy=\"0\" r=\"3\" /><text class=\"lab rgt\" transform=\"translate(3 -7)\">30</text></g><g class=\"a39 c1 node n36 p0\" transform=\"translate(-19.3799 0.610745)\"><g class=\"a36 c1 node n33 p0\" transform=\"translate(0.0 8.10913)\"><g class=\"a33 c1 m3 node n24 p0 s0\" transform=\"translate(0.0 53.0027)\"><g class=\"a24 leaf node n0 p0 sample\" transform=\"translate(0.0 13.541)\"><path class=\"edge\" d=\"M 0 0 V -13.541 H 0.0\" /><rect class=\"sym\" height=\"6\" width=\"6\" x=\"-3\" y=\"-3\" /><text class=\"lab\" transform=\"translate(0 11)\">0</text></g><path class=\"edge\" d=\"M 0 0 V -53.0027 H 0.0\" /><g class=\"mut m3 s0\" transform=\"translate(0 -17.5556)\"><line x1=\"0\" x2=\"0\" y1=\"0\" y2=\"17.5556\" /><path class=\"sym\" d=\"M -3,-3 l 6,6 M -3,3 l 6,-6\" /><text class=\"lab lft\" transform=\"translate(-5 0)\">3</text></g><circle class=\"sym\" cx=\"0\" cy=\"0\" r=\"3\" /><text class=\"lab lft\" transform=\"translate(-3 -7)\">24</text></g><path class=\"edge\" d=\"M 0 0 V -8.10913 H 0.0\" /><circle class=\"sym\" cx=\"0\" cy=\"0\" r=\"3\" /><text class=\"lab lft\" transform=\"translate(-3 -7)\">33</text></g><path class=\"edge\" d=\"M 0 0 V -0.610745 H 19.3799\" /><circle class=\"sym\" cx=\"0\" cy=\"0\" r=\"3\" /><text class=\"lab lft\" transform=\"translate(-3 -7)\">36</text></g><path class=\"edge\" d=\"M 0 0 V -0.355572 H 38.4351\" /><g class=\"mut m1 s0\" transform=\"translate(0 0.0)\"><line x1=\"0\" x2=\"0\" y1=\"0\" y2=\"-0.0\" /><path class=\"sym\" d=\"M -3,-3 l 6,6 M -3,3 l 6,-6\" /><text class=\"lab lft\" transform=\"translate(-5 0)\">1</text></g><circle class=\"sym\" cx=\"0\" cy=\"0\" r=\"3\" /><text class=\"lab lft\" transform=\"translate(-3 -7)\">39</text></g><path class=\"edge\" d=\"M 0 0 V -1.64433 H 23.5925\" /><circle class=\"sym\" cx=\"0\" cy=\"0\" r=\"3\" /><text class=\"lab lft\" transform=\"translate(-3 -7)\">40</text></g><path class=\"edge\" d=\"M 0 0 V -0.0495239 H 16.1713\" /><circle class=\"sym\" cx=\"0\" cy=\"0\" r=\"3\" /><text class=\"lab lft\" transform=\"translate(-3 -7)\">44</text></g><path class=\"edge\" d=\"M 0 0 V -4.04114 H 12.4606\" /><circle class=\"sym\" cx=\"0\" cy=\"0\" r=\"3\" /><text class=\"lab lft\" transform=\"translate(-3 -7)\">45</text></g><g class=\"a49 c1 m0 node n48 p0 s0\" transform=\"translate(12.4606 3.81584)\"><g class=\"a48 leaf node n47 p0\" transform=\"translate(0.0 2.51013e-06)\"><path class=\"edge\" d=\"M 0 0 V -2.51013e-06 H 0.0\" /><circle class=\"sym\" cx=\"0\" cy=\"0\" r=\"3\" /><text class=\"lab\" transform=\"translate(0 11)\">47</text></g><path class=\"edge\" d=\"M 0 0 V -3.81584 H -12.4606\" /><g class=\"mut m0 s0\" transform=\"translate(0 -0.263665)\"><line x1=\"0\" x2=\"0\" y1=\"0\" y2=\"0.263665\" /><path class=\"sym\" d=\"M -3,-3 l 6,6 M -3,3 l 6,-6\" /><text class=\"lab rgt\" transform=\"translate(5 0)\">0</text></g><circle class=\"sym\" cx=\"0\" cy=\"0\" r=\"3\" /><text class=\"lab rgt\" transform=\"translate(3 -7)\">48</text></g><path class=\"edge\" d=\"M 0 0 V -17.6682 H 10.6053\" /><circle class=\"sym\" cx=\"0\" cy=\"0\" r=\"3\" /><text class=\"lab lft\" transform=\"translate(-3 -7)\">49</text></g><path class=\"edge\" d=\"M 0 0 V -12.3778 H 0\" /><circle class=\"sym\" cx=\"0\" cy=\"0\" r=\"3\" /><text class=\"lab rgt\" transform=\"translate(3 -7)\">50</text></g></g></g><g class=\"tree t1\" transform=\"translate(200 0)\"><g class=\"plotbox\"><g class=\"c2 m13 node n39 p0 root s1\" transform=\"translate(54.4076 46.1365)\"><g class=\"a39 c1 node n30 p0\" transform=\"translate(28.5742 19.4875)\"><g class=\"a30 c2 node n29 p0\" transform=\"translate(0.0 19.0378)\"><g class=\"a29 c1 node n19 p0\" transform=\"translate(-39.6484 28.4912)\"><g class=\"a19 c2 node n10 p0\" transform=\"translate(0.0 8.20258)\"><g class=\"a10 leaf node n1 p0 sample\" transform=\"translate(-5.83333 0.0443292)\"><path class=\"edge\" d=\"M 0 0 V -0.0443292 H 5.83333\" /><rect class=\"sym\" height=\"6\" width=\"6\" x=\"-3\" y=\"-3\" /><text class=\"lab\" transform=\"translate(0 11)\">1</text></g><g class=\"a10 leaf node n2 p0 sample\" transform=\"translate(5.83333 0.0443292)\"><path class=\"edge\" d=\"M 0 0 V -0.0443292 H -5.83333\" /><rect class=\"sym\" height=\"6\" width=\"6\" x=\"-3\" y=\"-3\" /><text class=\"lab\" transform=\"translate(0 11)\">2</text></g><path class=\"edge\" d=\"M 0 0 V -8.20258 H 0.0\" /><circle class=\"sym\" cx=\"0\" cy=\"0\" r=\"3\" /><text class=\"lab lft\" transform=\"translate(-3 -7)\">10</text></g><path class=\"edge\" d=\"M 0 0 V -28.4912 H 39.6484\" /><circle class=\"sym\" cx=\"0\" cy=\"0\" r=\"3\" /><text class=\"lab lft\" transform=\"translate(-3 -7)\">19</text></g><g class=\"a29 c2 node n28 p0\" transform=\"translate(39.6484 3.38333)\"><g class=\"a28 c2 node n23 p0\" transform=\"translate(-31.5365 20.7568)\"><g class=\"a23 c2 node n22 p0\" transform=\"translate(15.6771 2.03885)\"><g class=\"a22 leaf node n5 p0 sample\" transform=\"translate(-10.9375 10.5591)\"><path class=\"edge\" d=\"M 0 0 V -10.5591 H 10.9375\" /><rect class=\"sym\" height=\"6\" width=\"6\" x=\"-3\" y=\"-3\" /><text class=\"lab\" transform=\"translate(0 11)\">5</text></g><g class=\"a22 c2 node n17 p0\" transform=\"translate(10.9375 4.29842)\"><g class=\"a17 leaf node n6 p0 sample\" transform=\"translate(-10.2083 6.26072)\"><path class=\"edge\" d=\"M 0 0 V -6.26072 H 10.2083\" /><rect class=\"sym\" height=\"6\" width=\"6\" x=\"-3\" y=\"-3\" /><text class=\"lab\" transform=\"translate(0 11)\">6</text></g><g class=\"a17 c2 node n15 p0\" transform=\"translate(10.2083 4.08434)\"><g class=\"a15 c2 node n11 p0\" transform=\"translate(8.75 1.07689)\"><g class=\"a11 leaf node n8 p0 sample\" transform=\"translate(-5.83333 1.09949)\"><path class=\"edge\" d=\"M 0 0 V -1.09949 H 5.83333\" /><rect class=\"sym\" height=\"6\" width=\"6\" x=\"-3\" y=\"-3\" /><text class=\"lab\" transform=\"translate(0 11)\">8</text></g><g class=\"a11 leaf node n9 p0 sample\" transform=\"translate(5.83333 1.09949)\"><path class=\"edge\" d=\"M 0 0 V -1.09949 H -5.83333\" /><rect class=\"sym\" height=\"6\" width=\"6\" x=\"-3\" y=\"-3\" /><text class=\"lab\" transform=\"translate(0 11)\">9</text></g><path class=\"edge\" d=\"M 0 0 V -1.07689 H -8.75\" /><circle class=\"sym\" cx=\"0\" cy=\"0\" r=\"3\" /><text class=\"lab rgt\" transform=\"translate(3 -7)\">11</text></g><g class=\"a15 c1 node n12 p0\" transform=\"translate(-8.75 0.59412)\"><g class=\"a12 leaf m15 node n7 p0 s1 sample\" transform=\"translate(0.0 1.58226)\"><path class=\"edge\" d=\"M 0 0 V -1.58226 H 0.0\" /><g class=\"mut m15 s1\" transform=\"translate(0 -2.51006e-10)\"><line x1=\"0\" x2=\"0\" y1=\"0\" y2=\"2.51006e-10\" /><path class=\"sym\" d=\"M -3,-3 l 6,6 M -3,3 l 6,-6\" /><text class=\"lab lft\" transform=\"translate(-5 0)\">15</text></g><rect class=\"sym\" height=\"6\" width=\"6\" x=\"-3\" y=\"-3\" /><text class=\"lab\" transform=\"translate(0 11)\">7</text></g><path class=\"edge\" d=\"M 0 0 V -0.59412 H 8.75\" /><circle class=\"sym\" cx=\"0\" cy=\"0\" r=\"3\" /><text class=\"lab lft\" transform=\"translate(-3 -7)\">12</text></g><path class=\"edge\" d=\"M 0 0 V -4.08434 H -10.2083\" /><circle class=\"sym\" cx=\"0\" cy=\"0\" r=\"3\" /><text class=\"lab rgt\" transform=\"translate(3 -7)\">15</text></g><path class=\"edge\" d=\"M 0 0 V -4.29842 H -10.9375\" /><circle class=\"sym\" cx=\"0\" cy=\"0\" r=\"3\" /><text class=\"lab rgt\" transform=\"translate(3 -7)\">17</text></g><path class=\"edge\" d=\"M 0 0 V -2.03885 H -15.6771\" /><circle class=\"sym\" cx=\"0\" cy=\"0\" r=\"3\" /><text class=\"lab rgt\" transform=\"translate(3 -7)\">22</text></g><g class=\"a23 c2 m14 node n18 p0 s1\" transform=\"translate(-15.6771 6.17898)\"><g class=\"a18 c1 node n14 p0\" transform=\"translate(8.75 4.83674)\"><g class=\"a14 leaf node n13 p0\" transform=\"translate(0.0 2.51013e-06)\"><path class=\"edge\" d=\"M 0 0 V -2.51013e-06 H 0.0\" /><circle class=\"sym\" cx=\"0\" cy=\"0\" r=\"3\" /><text class=\"lab\" transform=\"translate(0 11)\">13</text></g><path class=\"edge\" d=\"M 0 0 V -4.83674 H -8.75\" /><circle class=\"sym\" cx=\"0\" cy=\"0\" r=\"3\" /><text class=\"lab rgt\" transform=\"translate(3 -7)\">14</text></g><g class=\"a18 c2 node n16 p0\" transform=\"translate(-8.75 4.11104)\"><g class=\"a16 leaf m16 node n3 p0 s1 sample\" transform=\"translate(-5.83333 2.30796)\"><path class=\"edge\" d=\"M 0 0 V -2.30796 H 5.83333\" /><g class=\"mut m16 s1\" transform=\"translate(0 -2.51006e-10)\"><line x1=\"0\" x2=\"0\" y1=\"0\" y2=\"2.51006e-10\" /><path class=\"sym\" d=\"M -3,-3 l 6,6 M -3,3 l 6,-6\" /><text class=\"lab lft\" transform=\"translate(-5 0)\">16</text></g><rect class=\"sym\" height=\"6\" width=\"6\" x=\"-3\" y=\"-3\" /><text class=\"lab\" transform=\"translate(0 11)\">3</text></g><g class=\"a16 leaf m17 node n4 p0 s1 sample\" transform=\"translate(5.83333 2.30796)\"><path class=\"edge\" d=\"M 0 0 V -2.30796 H -5.83333\" /><g class=\"mut m17 s1\" transform=\"translate(0 -2.51006e-10)\"><line x1=\"0\" x2=\"0\" y1=\"0\" y2=\"2.51006e-10\" /><path class=\"sym\" d=\"M -3,-3 l 6,6 M -3,3 l 6,-6\" /><text class=\"lab rgt\" transform=\"translate(5 0)\">17</text></g><rect class=\"sym\" height=\"6\" width=\"6\" x=\"-3\" y=\"-3\" /><text class=\"lab\" transform=\"translate(0 11)\">4</text></g><path class=\"edge\" d=\"M 0 0 V -4.11104 H 8.75\" /><circle class=\"sym\" cx=\"0\" cy=\"0\" r=\"3\" /><text class=\"lab lft\" transform=\"translate(-3 -7)\">16</text></g><path class=\"edge\" d=\"M 0 0 V -6.17898 H 15.6771\" /><g class=\"mut m14 s1\" transform=\"translate(0 -5.14602)\"><line x1=\"0\" x2=\"0\" y1=\"0\" y2=\"5.14602\" /><path class=\"sym\" d=\"M -3,-3 l 6,6 M -3,3 l 6,-6\" /><text class=\"lab lft\" transform=\"translate(-5 0)\">14</text></g><circle class=\"sym\" cx=\"0\" cy=\"0\" r=\"3\" /><text class=\"lab lft\" transform=\"translate(-3 -7)\">18</text></g><path class=\"edge\" d=\"M 0 0 V -20.7568 H 31.5365\" /><circle class=\"sym\" cx=\"0\" cy=\"0\" r=\"3\" /><text class=\"lab lft\" transform=\"translate(-3 -7)\">23</text></g><g class=\"a28 c1 node n26 p0\" transform=\"translate(31.5365 19.8139)\"><g class=\"a26 leaf node n25 p0\" transform=\"translate(0.0 2.51013e-06)\"><path class=\"edge\" d=\"M 0 0 V -2.51013e-06 H 0.0\" /><circle class=\"sym\" cx=\"0\" cy=\"0\" r=\"3\" /><text class=\"lab\" transform=\"translate(0 11)\">25</text></g><path class=\"edge\" d=\"M 0 0 V -19.8139 H -31.5365\" /><circle class=\"sym\" cx=\"0\" cy=\"0\" r=\"3\" /><text class=\"lab rgt\" transform=\"translate(3 -7)\">26</text></g><path class=\"edge\" d=\"M 0 0 V -3.38333 H -39.6484\" /><circle class=\"sym\" cx=\"0\" cy=\"0\" r=\"3\" /><text class=\"lab rgt\" transform=\"translate(3 -7)\">28</text></g><path class=\"edge\" d=\"M 0 0 V -19.0378 H 0.0\" /><circle class=\"sym\" cx=\"0\" cy=\"0\" r=\"3\" /><text class=\"lab lft\" transform=\"translate(-3 -7)\">29</text></g><path class=\"edge\" d=\"M 0 0 V -19.4875 H -28.5742\" /><circle class=\"sym\" cx=\"0\" cy=\"0\" r=\"3\" /><text class=\"lab rgt\" transform=\"translate(3 -7)\">30</text></g><g class=\"a39 c1 node n36 p0\" transform=\"translate(-28.5742 0.610745)\"><g class=\"a36 c1 node n33 p0\" transform=\"translate(0.0 8.10913)\"><g class=\"a33 c1 node n24 p0\" transform=\"translate(0.0 53.0027)\"><g class=\"a24 leaf node n0 p0 sample\" transform=\"translate(0.0 13.541)\"><path class=\"edge\" d=\"M 0 0 V -13.541 H 0.0\" /><rect class=\"sym\" height=\"6\" width=\"6\" x=\"-3\" y=\"-3\" /><text class=\"lab\" transform=\"translate(0 11)\">0</text></g><path class=\"edge\" d=\"M 0 0 V -53.0027 H 0.0\" /><circle class=\"sym\" cx=\"0\" cy=\"0\" r=\"3\" /><text class=\"lab lft\" transform=\"translate(-3 -7)\">24</text></g><path class=\"edge\" d=\"M 0 0 V -8.10913 H 0.0\" /><circle class=\"sym\" cx=\"0\" cy=\"0\" r=\"3\" /><text class=\"lab lft\" transform=\"translate(-3 -7)\">33</text></g><path class=\"edge\" d=\"M 0 0 V -0.610745 H 28.5742\" /><circle class=\"sym\" cx=\"0\" cy=\"0\" r=\"3\" /><text class=\"lab lft\" transform=\"translate(-3 -7)\">36</text></g><path class=\"edge\" d=\"M 0 0 V -12.3778 H 0\" /><g class=\"mut m13 s1\" transform=\"translate(0 0.0)\"><line x1=\"0\" x2=\"0\" y1=\"0\" y2=\"-0.0\" /><path class=\"sym\" d=\"M -3,-3 l 6,6 M -3,3 l 6,-6\" /><text class=\"lab rgt\" transform=\"translate(5 0)\">13</text></g><circle class=\"sym\" cx=\"0\" cy=\"0\" r=\"3\" /><text class=\"lab rgt\" transform=\"translate(3 -7)\">39</text></g></g></g></g></g></svg>'"
      ]
     },
     "execution_count": 7,
     "metadata": {},
     "output_type": "execute_result"
    }
   ],
   "source": [
    "mts.draw_svg()"
   ]
  },
  {
   "cell_type": "code",
   "execution_count": 16,
   "id": "b5b6773e-710d-438a-bcf7-1d5336bf6d96",
   "metadata": {},
   "outputs": [
    {
     "name": "stdout",
     "output_type": "stream",
     "text": [
      "1.46359555130634\n",
      "0.50188589993956\n"
     ]
    }
   ],
   "source": [
    "tree = mts.first()\n",
    "\n",
    "print(tree.get_time(29))\n",
    "print(tree.get_time(23))"
   ]
  },
  {
   "cell_type": "code",
   "execution_count": 9,
   "id": "8faeb31c-da81-484f-b4e1-2e6e95c83f40",
   "metadata": {},
   "outputs": [
    {
     "name": "stdout",
     "output_type": "stream",
     "text": [
      "[0, 3, 9, 4, 6, 1, 8, 5, 2, 7]\n"
     ]
    },
    {
     "data": {
      "image/svg+xml": [
       "<svg baseProfile=\"full\" height=\"200\" version=\"1.1\" width=\"200\" xmlns=\"http://www.w3.org/2000/svg\" xmlns:ev=\"http://www.w3.org/2001/xml-events\" xmlns:xlink=\"http://www.w3.org/1999/xlink\"><defs><style type=\"text/css\"><![CDATA[.background path {fill: #808080; fill-opacity: 0}.background path:nth-child(odd) {fill-opacity: .1}.x-regions rect {fill: yellow; stroke: black; opacity: 0.5}.axes {font-size: 14px}.x-axis .tick .lab {font-weight: bold; dominant-baseline: hanging}.axes, .tree {font-size: 14px; text-anchor: middle}.axes line, .edge {stroke: black; fill: none}.axes .ax-skip {stroke-dasharray: 4}.y-axis .grid {stroke: #FAFAFA}.node > .sym {fill: black; stroke: none}.site > .sym {stroke: black}.mut text {fill: red; font-style: italic}.mut.extra text {fill: hotpink}.mut line {fill: none; stroke: none}.mut .sym {fill: none; stroke: red}.mut.extra .sym {stroke: hotpink}.node .mut .sym {stroke-width: 1.5px}.tree text, .tree-sequence text {dominant-baseline: central}.plotbox .lab.lft {text-anchor: end}.plotbox .lab.rgt {text-anchor: start}.polytomy line {stroke: black; stroke-dasharray: 1px, 1px}.polytomy text {paint-order:stroke;stroke-width:0.3em;stroke:white}]]></style></defs><g class=\"tree-sequence\"><g class=\"background\"><path d=\"M20,0 l160,0 l0,138.2 l0,25 l0,5 l-160,0 l0,-5 l0,-25 l0,-138.2z\" /></g><g class=\"axes\"><g class=\"x-axis\"><g class=\"title\" transform=\"translate(100 200)\"><text class=\"lab\" text-anchor=\"middle\" transform=\"translate(0 -11)\">Genome position</text></g><line class=\"ax-line\" x1=\"20\" x2=\"180\" y1=\"163.2\" y2=\"163.2\" /><g class=\"ticks\"><g class=\"tick\" transform=\"translate(20 163.2)\"><line x1=\"0\" x2=\"0\" y1=\"0\" y2=\"5\" /><g transform=\"translate(0 6)\"><text class=\"lab\">0</text></g></g><g class=\"tick\" transform=\"translate(180 163.2)\"><line x1=\"0\" x2=\"0\" y1=\"0\" y2=\"5\" /><g transform=\"translate(0 6)\"><text class=\"lab\">1</text></g></g></g></g></g><g class=\"plotbox trees\"><g class=\"tree t0\" transform=\"translate(20 0)\"><g class=\"plotbox\"><g class=\"c2 node n18 p0 root\" transform=\"translate(71.75 26.8)\"><g class=\"a18 c2 node n13 p0\" transform=\"translate(-33 89.5418)\"><g class=\"a13 i0 leaf node n0 p0 sample\" transform=\"translate(-12.75 5.05821)\"><path class=\"edge\" d=\"M 0 0 V -5.05821 H 12.75\" /><rect class=\"sym\" height=\"6\" width=\"6\" x=\"-3\" y=\"-3\" /><text class=\"lab\" transform=\"translate(0 11)\">0</text></g><g class=\"a13 c2 node n12 p0\" transform=\"translate(12.75 1.88451)\"><g class=\"a12 i3 leaf node n3 p0 sample\" transform=\"translate(-13.5 3.1737)\"><path class=\"edge\" d=\"M 0 0 V -3.1737 H 13.5\" /><rect class=\"sym\" height=\"6\" width=\"6\" x=\"-3\" y=\"-3\" /><text class=\"lab\" transform=\"translate(0 11)\">3</text></g><g class=\"a12 c2 node n11 p0\" transform=\"translate(13.5 0.205999)\"><g class=\"a11 i9 leaf node n9 p0 sample\" transform=\"translate(9 2.9677)\"><path class=\"edge\" d=\"M 0 0 V -2.9677 H -9\" /><rect class=\"sym\" height=\"6\" width=\"6\" x=\"-3\" y=\"-3\" /><text class=\"lab\" transform=\"translate(0 11)\">9</text></g><g class=\"a11 c2 node n10 p0\" transform=\"translate(-9 2.73012)\"><g class=\"a10 i4 leaf node n4 p0 sample\" transform=\"translate(-6 0.237578)\"><path class=\"edge\" d=\"M 0 0 V -0.237578 H 6\" /><rect class=\"sym\" height=\"6\" width=\"6\" x=\"-3\" y=\"-3\" /><text class=\"lab\" transform=\"translate(0 11)\">4</text></g><g class=\"a10 i6 leaf node n6 p0 sample\" transform=\"translate(6 0.237578)\"><path class=\"edge\" d=\"M 0 0 V -0.237578 H -6\" /><rect class=\"sym\" height=\"6\" width=\"6\" x=\"-3\" y=\"-3\" /><text class=\"lab\" transform=\"translate(0 11)\">6</text></g><path class=\"edge\" d=\"M 0 0 V -2.73012 H 9\" /><circle class=\"sym\" cx=\"0\" cy=\"0\" r=\"3\" /><text class=\"lab lft\" transform=\"translate(-3 -7)\">10</text></g><path class=\"edge\" d=\"M 0 0 V -0.205999 H -13.5\" /><circle class=\"sym\" cx=\"0\" cy=\"0\" r=\"3\" /><text class=\"lab rgt\" transform=\"translate(3 -7)\">11</text></g><path class=\"edge\" d=\"M 0 0 V -1.88451 H -12.75\" /><circle class=\"sym\" cx=\"0\" cy=\"0\" r=\"3\" /><text class=\"lab rgt\" transform=\"translate(3 -7)\">12</text></g><path class=\"edge\" d=\"M 0 0 V -89.5418 H 33\" /><circle class=\"sym\" cx=\"0\" cy=\"0\" r=\"3\" /><text class=\"lab lft\" transform=\"translate(-3 -7)\">13</text></g><g class=\"a18 c2 node n17 p0\" transform=\"translate(33 28.5602)\"><g class=\"a17 i1 leaf node n1 p0 sample\" transform=\"translate(-18.75 66.0398)\"><path class=\"edge\" d=\"M 0 0 V -66.0398 H 18.75\" /><rect class=\"sym\" height=\"6\" width=\"6\" x=\"-3\" y=\"-3\" /><text class=\"lab\" transform=\"translate(0 11)\">1</text></g><g class=\"a17 c2 node n16 p0\" transform=\"translate(18.75 52.8073)\"><g class=\"a16 i8 leaf node n8 p0 sample\" transform=\"translate(10.5 13.2325)\"><path class=\"edge\" d=\"M 0 0 V -13.2325 H -10.5\" /><rect class=\"sym\" height=\"6\" width=\"6\" x=\"-3\" y=\"-3\" /><text class=\"lab\" transform=\"translate(0 11)\">8</text></g><g class=\"a16 c2 node n15 p0\" transform=\"translate(-10.5 7.39106)\"><g class=\"a15 i5 leaf node n5 p0 sample\" transform=\"translate(9 5.84143)\"><path class=\"edge\" d=\"M 0 0 V -5.84143 H -9\" /><rect class=\"sym\" height=\"6\" width=\"6\" x=\"-3\" y=\"-3\" /><text class=\"lab\" transform=\"translate(0 11)\">5</text></g><g class=\"a15 c2 node n14 p0\" transform=\"translate(-9 0.0975426)\"><g class=\"a14 i2 leaf node n2 p0 sample\" transform=\"translate(-6 5.74389)\"><path class=\"edge\" d=\"M 0 0 V -5.74389 H 6\" /><rect class=\"sym\" height=\"6\" width=\"6\" x=\"-3\" y=\"-3\" /><text class=\"lab\" transform=\"translate(0 11)\">2</text></g><g class=\"a14 i7 leaf node n7 p0 sample\" transform=\"translate(6 5.74389)\"><path class=\"edge\" d=\"M 0 0 V -5.74389 H -6\" /><rect class=\"sym\" height=\"6\" width=\"6\" x=\"-3\" y=\"-3\" /><text class=\"lab\" transform=\"translate(0 11)\">7</text></g><path class=\"edge\" d=\"M 0 0 V -0.0975426 H 9\" /><circle class=\"sym\" cx=\"0\" cy=\"0\" r=\"3\" /><text class=\"lab lft\" transform=\"translate(-3 -7)\">14</text></g><path class=\"edge\" d=\"M 0 0 V -7.39106 H 10.5\" /><circle class=\"sym\" cx=\"0\" cy=\"0\" r=\"3\" /><text class=\"lab lft\" transform=\"translate(-3 -7)\">15</text></g><path class=\"edge\" d=\"M 0 0 V -52.8073 H -18.75\" /><circle class=\"sym\" cx=\"0\" cy=\"0\" r=\"3\" /><text class=\"lab rgt\" transform=\"translate(3 -7)\">16</text></g><path class=\"edge\" d=\"M 0 0 V -28.5602 H -33\" /><circle class=\"sym\" cx=\"0\" cy=\"0\" r=\"3\" /><text class=\"lab rgt\" transform=\"translate(3 -7)\">17</text></g><circle class=\"sym\" cx=\"0\" cy=\"0\" r=\"3\" /><text class=\"lab\" transform=\"translate(0 -11)\">18</text></g></g></g></g></g></svg>"
      ],
      "text/plain": [
       "'<svg baseProfile=\"full\" height=\"200\" version=\"1.1\" width=\"200\" xmlns=\"http://www.w3.org/2000/svg\" xmlns:ev=\"http://www.w3.org/2001/xml-events\" xmlns:xlink=\"http://www.w3.org/1999/xlink\"><defs><style type=\"text/css\"><![CDATA[.background path {fill: #808080; fill-opacity: 0}.background path:nth-child(odd) {fill-opacity: .1}.x-regions rect {fill: yellow; stroke: black; opacity: 0.5}.axes {font-size: 14px}.x-axis .tick .lab {font-weight: bold; dominant-baseline: hanging}.axes, .tree {font-size: 14px; text-anchor: middle}.axes line, .edge {stroke: black; fill: none}.axes .ax-skip {stroke-dasharray: 4}.y-axis .grid {stroke: #FAFAFA}.node > .sym {fill: black; stroke: none}.site > .sym {stroke: black}.mut text {fill: red; font-style: italic}.mut.extra text {fill: hotpink}.mut line {fill: none; stroke: none}.mut .sym {fill: none; stroke: red}.mut.extra .sym {stroke: hotpink}.node .mut .sym {stroke-width: 1.5px}.tree text, .tree-sequence text {dominant-baseline: central}.plotbox .lab.lft {text-anchor: end}.plotbox .lab.rgt {text-anchor: start}.polytomy line {stroke: black; stroke-dasharray: 1px, 1px}.polytomy text {paint-order:stroke;stroke-width:0.3em;stroke:white}]]></style></defs><g class=\"tree-sequence\"><g class=\"background\"><path d=\"M20,0 l160,0 l0,138.2 l0,25 l0,5 l-160,0 l0,-5 l0,-25 l0,-138.2z\" /></g><g class=\"axes\"><g class=\"x-axis\"><g class=\"title\" transform=\"translate(100 200)\"><text class=\"lab\" text-anchor=\"middle\" transform=\"translate(0 -11)\">Genome position</text></g><line class=\"ax-line\" x1=\"20\" x2=\"180\" y1=\"163.2\" y2=\"163.2\" /><g class=\"ticks\"><g class=\"tick\" transform=\"translate(20 163.2)\"><line x1=\"0\" x2=\"0\" y1=\"0\" y2=\"5\" /><g transform=\"translate(0 6)\"><text class=\"lab\">0</text></g></g><g class=\"tick\" transform=\"translate(180 163.2)\"><line x1=\"0\" x2=\"0\" y1=\"0\" y2=\"5\" /><g transform=\"translate(0 6)\"><text class=\"lab\">1</text></g></g></g></g></g><g class=\"plotbox trees\"><g class=\"tree t0\" transform=\"translate(20 0)\"><g class=\"plotbox\"><g class=\"c2 node n18 p0 root\" transform=\"translate(71.75 26.8)\"><g class=\"a18 c2 node n13 p0\" transform=\"translate(-33 89.5418)\"><g class=\"a13 i0 leaf node n0 p0 sample\" transform=\"translate(-12.75 5.05821)\"><path class=\"edge\" d=\"M 0 0 V -5.05821 H 12.75\" /><rect class=\"sym\" height=\"6\" width=\"6\" x=\"-3\" y=\"-3\" /><text class=\"lab\" transform=\"translate(0 11)\">0</text></g><g class=\"a13 c2 node n12 p0\" transform=\"translate(12.75 1.88451)\"><g class=\"a12 i3 leaf node n3 p0 sample\" transform=\"translate(-13.5 3.1737)\"><path class=\"edge\" d=\"M 0 0 V -3.1737 H 13.5\" /><rect class=\"sym\" height=\"6\" width=\"6\" x=\"-3\" y=\"-3\" /><text class=\"lab\" transform=\"translate(0 11)\">3</text></g><g class=\"a12 c2 node n11 p0\" transform=\"translate(13.5 0.205999)\"><g class=\"a11 i9 leaf node n9 p0 sample\" transform=\"translate(9 2.9677)\"><path class=\"edge\" d=\"M 0 0 V -2.9677 H -9\" /><rect class=\"sym\" height=\"6\" width=\"6\" x=\"-3\" y=\"-3\" /><text class=\"lab\" transform=\"translate(0 11)\">9</text></g><g class=\"a11 c2 node n10 p0\" transform=\"translate(-9 2.73012)\"><g class=\"a10 i4 leaf node n4 p0 sample\" transform=\"translate(-6 0.237578)\"><path class=\"edge\" d=\"M 0 0 V -0.237578 H 6\" /><rect class=\"sym\" height=\"6\" width=\"6\" x=\"-3\" y=\"-3\" /><text class=\"lab\" transform=\"translate(0 11)\">4</text></g><g class=\"a10 i6 leaf node n6 p0 sample\" transform=\"translate(6 0.237578)\"><path class=\"edge\" d=\"M 0 0 V -0.237578 H -6\" /><rect class=\"sym\" height=\"6\" width=\"6\" x=\"-3\" y=\"-3\" /><text class=\"lab\" transform=\"translate(0 11)\">6</text></g><path class=\"edge\" d=\"M 0 0 V -2.73012 H 9\" /><circle class=\"sym\" cx=\"0\" cy=\"0\" r=\"3\" /><text class=\"lab lft\" transform=\"translate(-3 -7)\">10</text></g><path class=\"edge\" d=\"M 0 0 V -0.205999 H -13.5\" /><circle class=\"sym\" cx=\"0\" cy=\"0\" r=\"3\" /><text class=\"lab rgt\" transform=\"translate(3 -7)\">11</text></g><path class=\"edge\" d=\"M 0 0 V -1.88451 H -12.75\" /><circle class=\"sym\" cx=\"0\" cy=\"0\" r=\"3\" /><text class=\"lab rgt\" transform=\"translate(3 -7)\">12</text></g><path class=\"edge\" d=\"M 0 0 V -89.5418 H 33\" /><circle class=\"sym\" cx=\"0\" cy=\"0\" r=\"3\" /><text class=\"lab lft\" transform=\"translate(-3 -7)\">13</text></g><g class=\"a18 c2 node n17 p0\" transform=\"translate(33 28.5602)\"><g class=\"a17 i1 leaf node n1 p0 sample\" transform=\"translate(-18.75 66.0398)\"><path class=\"edge\" d=\"M 0 0 V -66.0398 H 18.75\" /><rect class=\"sym\" height=\"6\" width=\"6\" x=\"-3\" y=\"-3\" /><text class=\"lab\" transform=\"translate(0 11)\">1</text></g><g class=\"a17 c2 node n16 p0\" transform=\"translate(18.75 52.8073)\"><g class=\"a16 i8 leaf node n8 p0 sample\" transform=\"translate(10.5 13.2325)\"><path class=\"edge\" d=\"M 0 0 V -13.2325 H -10.5\" /><rect class=\"sym\" height=\"6\" width=\"6\" x=\"-3\" y=\"-3\" /><text class=\"lab\" transform=\"translate(0 11)\">8</text></g><g class=\"a16 c2 node n15 p0\" transform=\"translate(-10.5 7.39106)\"><g class=\"a15 i5 leaf node n5 p0 sample\" transform=\"translate(9 5.84143)\"><path class=\"edge\" d=\"M 0 0 V -5.84143 H -9\" /><rect class=\"sym\" height=\"6\" width=\"6\" x=\"-3\" y=\"-3\" /><text class=\"lab\" transform=\"translate(0 11)\">5</text></g><g class=\"a15 c2 node n14 p0\" transform=\"translate(-9 0.0975426)\"><g class=\"a14 i2 leaf node n2 p0 sample\" transform=\"translate(-6 5.74389)\"><path class=\"edge\" d=\"M 0 0 V -5.74389 H 6\" /><rect class=\"sym\" height=\"6\" width=\"6\" x=\"-3\" y=\"-3\" /><text class=\"lab\" transform=\"translate(0 11)\">2</text></g><g class=\"a14 i7 leaf node n7 p0 sample\" transform=\"translate(6 5.74389)\"><path class=\"edge\" d=\"M 0 0 V -5.74389 H -6\" /><rect class=\"sym\" height=\"6\" width=\"6\" x=\"-3\" y=\"-3\" /><text class=\"lab\" transform=\"translate(0 11)\">7</text></g><path class=\"edge\" d=\"M 0 0 V -0.0975426 H 9\" /><circle class=\"sym\" cx=\"0\" cy=\"0\" r=\"3\" /><text class=\"lab lft\" transform=\"translate(-3 -7)\">14</text></g><path class=\"edge\" d=\"M 0 0 V -7.39106 H 10.5\" /><circle class=\"sym\" cx=\"0\" cy=\"0\" r=\"3\" /><text class=\"lab lft\" transform=\"translate(-3 -7)\">15</text></g><path class=\"edge\" d=\"M 0 0 V -52.8073 H -18.75\" /><circle class=\"sym\" cx=\"0\" cy=\"0\" r=\"3\" /><text class=\"lab rgt\" transform=\"translate(3 -7)\">16</text></g><path class=\"edge\" d=\"M 0 0 V -28.5602 H -33\" /><circle class=\"sym\" cx=\"0\" cy=\"0\" r=\"3\" /><text class=\"lab rgt\" transform=\"translate(3 -7)\">17</text></g><circle class=\"sym\" cx=\"0\" cy=\"0\" r=\"3\" /><text class=\"lab\" transform=\"translate(0 -11)\">18</text></g></g></g></g></g></svg>'"
      ]
     },
     "execution_count": 9,
     "metadata": {},
     "output_type": "execute_result"
    }
   ],
   "source": [
    "import msprime\n",
    "core_tree = msprime.sim_ancestry(\n",
    "        samples=10,\n",
    "        sequence_length=1,\n",
    "        ploidy=1,\n",
    "        recombination_rate=0,\n",
    "        gene_conversion_rate=0,\n",
    "        gene_conversion_tract_length=1,  # One gene\n",
    "    )\n",
    "\n",
    "tree = core_tree.first()\n",
    "\n",
    "\n",
    "print(list(tree.leaves()))\n",
    "\n",
    "core_tree.draw_svg()"
   ]
  }
 ],
 "metadata": {
  "kernelspec": {
   "display_name": "pangenome-gene-transfer-simulation",
   "language": "python",
   "name": "pangenome-gene-transfer-simulation"
  },
  "language_info": {
   "codemirror_mode": {
    "name": "ipython",
    "version": 3
   },
   "file_extension": ".py",
   "mimetype": "text/x-python",
   "name": "python",
   "nbconvert_exporter": "python",
   "pygments_lexer": "ipython3",
   "version": "3.12.1"
  }
 },
 "nbformat": 4,
 "nbformat_minor": 5
}
