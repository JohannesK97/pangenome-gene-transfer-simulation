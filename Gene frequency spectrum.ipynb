{
 "cells": [
  {
   "cell_type": "code",
   "execution_count": 5,
   "id": "926343e2-0c33-46fe-888e-f57bff61918e",
   "metadata": {},
   "outputs": [],
   "source": [
    "import simulator\n",
    "import torch\n",
    "import re\n",
    "import numpy as np\n",
    "from scipy.spatial.distance import pdist, squareform\n",
    "from scipy.cluster.hierarchy import linkage, leaves_list\n",
    "from sklearn.cluster import AgglomerativeClustering\n",
    "\n",
    "# Read the data:\n",
    "\n",
    "file = 'simulation_results(3).txt'\n",
    "\n",
    "hgt_rates, gene_presence_absence_matrices_unfiltered = simulator.read_simulation_results(file)\n",
    "\n",
    "# Filter out completely lost genes:\n",
    "\n",
    "gene_presence_absence_matrices = []\n",
    "for i in range(0,len(gene_presence_absence_matrices_unfiltered)):\n",
    "    #gene_presence_absence_matrices.append(np.array([row for row in gene_presence_absence_matrices_unfiltered[i] if not (np.all(row == 0))]))\n",
    "    gene_presence_absence_matrices.append(np.array([row for row in gene_presence_absence_matrices_unfiltered[i]]))\n",
    "\n"
   ]
  },
  {
   "cell_type": "code",
   "execution_count": 30,
   "id": "8f3df981-3342-4346-97a6-1436bdc665eb",
   "metadata": {},
   "outputs": [
    {
     "data": {
      "text/plain": [
       "tensor([1.8228e-02, 3.7744e-02, 3.2756e-03, 1.8902e-02, 3.4873e-02, 7.0774e-02,\n",
       "        1.7290e-02, 5.6157e-02, 6.5382e-03, 6.6087e-02, 4.9755e-02, 5.6187e-02,\n",
       "        9.0296e-02, 8.5570e-02, 7.8629e-02, 4.0366e-02, 5.9596e-02, 4.2430e-02,\n",
       "        2.2383e-02, 8.7581e-02, 6.8768e-02, 1.7637e-02, 5.5690e-02, 6.7119e-02,\n",
       "        4.1888e-02, 6.6231e-02, 5.4653e-02, 8.3384e-02, 6.0281e-02, 1.2983e-02,\n",
       "        8.7411e-02, 5.7781e-02, 6.5548e-02, 2.2870e-03, 6.4574e-02, 9.0856e-02,\n",
       "        4.1463e-02, 5.1663e-02, 6.3454e-02, 9.1550e-02, 6.0761e-02, 3.3845e-02,\n",
       "        3.9020e-03, 9.0009e-02, 1.6096e-02, 8.6779e-02, 8.0401e-02, 4.6339e-02,\n",
       "        8.4916e-03, 8.2270e-02, 4.8817e-03, 1.0773e-02, 8.0891e-02, 7.0705e-02,\n",
       "        8.6614e-02, 3.7110e-03, 4.9748e-02, 1.0269e-04, 2.0721e-02, 2.4433e-02,\n",
       "        6.9448e-02, 1.1034e-02, 4.9626e-02, 6.8072e-02, 7.2661e-02, 3.4819e-02,\n",
       "        2.9032e-02, 8.3447e-03, 8.6305e-02, 6.2206e-02, 7.0327e-03, 1.6754e-02,\n",
       "        8.4898e-02, 6.7803e-02, 8.5352e-02, 3.6888e-02, 1.4155e-02, 2.2261e-02,\n",
       "        2.6753e-02, 2.0498e-02, 4.6412e-02, 6.0659e-02, 3.6244e-02, 9.5352e-02,\n",
       "        1.4020e-02, 7.0775e-02, 9.0312e-03, 8.0794e-03, 1.6957e-02, 4.0585e-02,\n",
       "        6.1658e-02, 6.3545e-03, 7.7261e-02, 2.0099e-02, 6.0171e-02, 6.5563e-02,\n",
       "        6.2809e-02, 5.2438e-02, 1.8476e-02, 8.6350e-02, 6.8560e-02, 5.0043e-02,\n",
       "        3.1142e-02, 4.3226e-02, 6.0880e-02, 2.2265e-02, 2.7396e-02, 2.1133e-02,\n",
       "        8.7693e-03, 2.9207e-02, 4.3333e-02, 8.4738e-02, 4.6396e-02, 4.9339e-02,\n",
       "        5.8657e-02, 9.0580e-02, 4.1063e-03, 7.6412e-02, 6.0425e-02, 5.4029e-02,\n",
       "        3.9614e-03, 8.7045e-02, 8.7385e-02, 3.9174e-02, 4.3097e-02, 3.7909e-02,\n",
       "        1.9638e-02, 8.0237e-02, 8.5306e-04, 1.7107e-02, 2.2706e-02, 5.8173e-02,\n",
       "        6.2159e-02, 7.2992e-02, 7.4795e-04, 4.2696e-02, 2.2232e-03, 4.8860e-02,\n",
       "        7.7140e-02, 8.8543e-03, 4.7141e-02, 1.2635e-02, 7.7079e-03, 4.4718e-02,\n",
       "        6.6171e-02, 9.2128e-02, 6.8263e-03, 6.7563e-02, 5.9781e-02, 6.7002e-03,\n",
       "        8.1860e-02, 8.0915e-02, 8.6971e-02, 8.0506e-02, 9.6667e-02, 6.7378e-02,\n",
       "        7.2141e-02, 1.5848e-02, 3.1456e-02, 6.2611e-02, 1.0820e-03, 6.7305e-02,\n",
       "        5.6206e-02, 9.1649e-02, 6.1755e-02, 9.8424e-02, 8.2267e-02, 3.6362e-02,\n",
       "        8.8810e-02, 2.0142e-02, 7.5993e-02, 4.0679e-02, 1.9750e-02, 6.3813e-02,\n",
       "        4.9315e-02, 4.0823e-02, 4.7408e-02, 1.2106e-03, 6.2057e-03, 4.2626e-02,\n",
       "        4.5738e-02, 3.5991e-02, 8.9259e-02, 5.9742e-02, 2.1732e-02, 9.8197e-02,\n",
       "        4.6356e-03, 3.8266e-02, 7.3922e-02, 4.5639e-02, 4.1614e-02, 1.5272e-02,\n",
       "        3.5244e-02, 4.9920e-02, 3.5039e-02, 4.6943e-02, 1.6981e-02, 9.4823e-02,\n",
       "        5.0636e-02, 3.6233e-02, 5.2750e-02, 3.5941e-02, 5.3477e-02, 1.9900e-02,\n",
       "        9.1811e-02, 9.2355e-02, 1.6922e-02, 3.9114e-02, 5.7114e-02, 8.4480e-02,\n",
       "        1.4929e-02, 2.7975e-03, 2.4425e-02, 5.2506e-02, 3.0069e-02, 8.7009e-02,\n",
       "        1.8275e-04, 3.8543e-02, 6.3454e-02, 2.9322e-02, 2.5031e-02, 1.4287e-02,\n",
       "        5.1432e-02, 3.4414e-02, 8.3154e-02, 5.8308e-02, 3.1490e-03, 4.0311e-03,\n",
       "        6.4416e-02, 9.6420e-02, 5.3638e-02, 4.0435e-02, 7.7369e-02, 1.4216e-02,\n",
       "        2.5942e-02, 3.2787e-02, 1.4911e-02, 7.2506e-02, 8.6824e-02, 6.8590e-02,\n",
       "        8.9205e-02, 3.7583e-03, 7.7222e-02, 4.3823e-02, 9.4879e-03, 4.5311e-02,\n",
       "        5.0753e-02, 8.3642e-02, 5.2258e-02, 6.6219e-02, 2.3211e-02, 6.8992e-02,\n",
       "        9.4798e-02, 7.8588e-02, 9.0125e-02, 5.7993e-02, 6.3523e-02, 8.0965e-02,\n",
       "        4.9878e-02, 7.2899e-02, 1.2187e-02, 5.7413e-02, 8.2966e-02, 4.7156e-02,\n",
       "        1.7586e-02, 1.9422e-02, 3.8219e-02, 5.1598e-02, 8.8033e-02, 5.4731e-02,\n",
       "        3.4427e-02, 8.8891e-02, 2.3153e-02, 9.0627e-02, 2.1014e-02, 4.8429e-02,\n",
       "        6.8335e-02, 7.1821e-02, 5.7830e-02, 4.7404e-03, 4.8394e-02, 2.6867e-03,\n",
       "        5.5493e-02, 7.4885e-02, 5.7550e-02, 7.0053e-03, 6.7103e-03, 8.3339e-02,\n",
       "        8.0998e-02, 5.4665e-02, 5.3128e-02, 5.8255e-02, 3.6552e-02, 2.1782e-02,\n",
       "        3.2624e-02, 7.6064e-02, 4.8531e-02, 3.8746e-02, 6.8820e-02, 7.7769e-02,\n",
       "        3.9048e-02, 5.0876e-02, 1.3276e-02, 9.6977e-05, 6.5978e-02, 7.4394e-02,\n",
       "        5.8775e-02, 3.5794e-02, 8.8268e-02, 4.7195e-02, 9.3516e-02, 9.0812e-02,\n",
       "        3.8166e-02, 7.5415e-02, 9.1954e-02, 1.4590e-02, 1.4779e-02, 3.1547e-02,\n",
       "        7.8009e-02, 3.3631e-03, 2.9404e-02, 2.1877e-02, 5.2063e-02, 7.9598e-03,\n",
       "        3.3449e-02, 8.4977e-02, 5.2764e-02, 3.7872e-02, 5.0226e-02, 2.7597e-02,\n",
       "        3.4303e-02, 6.5138e-02, 3.4287e-02, 4.2502e-02, 5.7242e-03, 4.5366e-02,\n",
       "        6.5295e-02, 8.4567e-02, 9.4853e-02, 2.7919e-02, 4.8967e-02, 4.8853e-03,\n",
       "        8.4389e-02, 6.7189e-04, 4.9114e-02, 8.0752e-02, 3.8505e-02, 9.9679e-02,\n",
       "        7.1899e-02, 4.2365e-03, 4.6952e-02, 8.2111e-02, 9.6652e-02, 8.7420e-02,\n",
       "        5.0971e-02, 3.1803e-02, 3.1307e-02, 9.6519e-02, 1.3603e-02, 9.8972e-02,\n",
       "        9.2307e-02, 5.9587e-02, 7.1542e-02, 8.9603e-02, 8.6074e-02, 1.4325e-02,\n",
       "        8.5076e-02, 2.7072e-02, 2.5762e-02, 3.7708e-02, 5.9013e-02, 1.5018e-02,\n",
       "        9.3714e-02, 6.2444e-02, 2.2048e-02, 1.1820e-02, 4.5967e-03, 2.4276e-02,\n",
       "        1.6689e-02, 3.5595e-02, 3.5448e-02, 8.9210e-02, 9.4267e-02, 1.4140e-02,\n",
       "        7.6331e-02, 8.0839e-02, 6.8116e-02, 5.0929e-02, 8.3424e-02, 8.5874e-02,\n",
       "        1.6742e-02, 8.0484e-02, 1.8614e-02, 7.1160e-02, 5.6021e-02, 1.6988e-02,\n",
       "        7.4565e-02, 1.4281e-02, 3.0399e-03, 2.6970e-02, 3.9219e-02, 2.9141e-02,\n",
       "        4.1916e-02, 5.2955e-02, 5.6109e-04, 5.6984e-02, 5.2550e-02, 3.3880e-03,\n",
       "        2.7334e-02, 4.1430e-02, 5.1735e-02, 2.9362e-02, 6.0419e-03, 5.7549e-02,\n",
       "        6.7687e-02, 2.7493e-02, 7.7155e-02, 4.6396e-02, 5.4571e-02, 2.1960e-03,\n",
       "        4.7858e-02, 6.5558e-02, 6.5128e-02, 8.6537e-02, 5.4016e-02, 9.8510e-02,\n",
       "        6.6290e-02, 9.4916e-02, 8.4917e-02, 4.0186e-02, 4.2538e-03, 6.1912e-02,\n",
       "        9.6527e-02, 2.1310e-02, 3.0558e-02, 8.3984e-02, 1.5801e-02, 9.5957e-02,\n",
       "        6.1446e-02, 7.2996e-02, 3.5558e-02, 7.1298e-02, 2.6382e-02, 9.6938e-02,\n",
       "        3.7400e-02, 1.9198e-03, 5.0679e-02, 1.8563e-02, 5.5548e-02, 3.9163e-02,\n",
       "        1.6682e-03, 5.6484e-02, 3.2431e-02, 7.4577e-02, 4.3958e-02, 8.3374e-02,\n",
       "        4.5234e-02, 8.0204e-02, 2.6373e-02, 6.9056e-02, 1.1129e-02, 8.1646e-02,\n",
       "        8.5711e-02, 9.9003e-02, 8.0487e-02, 1.2700e-02, 4.8128e-02, 5.9756e-02,\n",
       "        3.8591e-02, 9.3085e-02, 7.5914e-02, 3.7640e-02, 3.0719e-02, 1.3088e-02,\n",
       "        2.6925e-02, 6.2788e-02, 1.6472e-02, 7.8000e-02, 4.0635e-02, 4.1645e-02,\n",
       "        2.5313e-03, 5.3975e-02, 3.6092e-02, 7.1168e-02, 3.5200e-03, 5.9640e-02,\n",
       "        2.0650e-02, 6.1730e-03, 7.2879e-02, 5.1192e-02, 1.1566e-02, 1.2453e-02,\n",
       "        7.1167e-02, 7.6930e-02, 8.7125e-02, 9.7515e-02, 8.6862e-02, 8.9886e-02,\n",
       "        8.6957e-02])"
      ]
     },
     "execution_count": 30,
     "metadata": {},
     "output_type": "execute_result"
    }
   ],
   "source": [
    "from collections import Counter\n",
    "\n",
    "def calculate_gene_frequency_spectrum(list_of_matrices):\n",
    "    output = []\n",
    "    \n",
    "    for matrix in list_of_matrices:\n",
    "        \n",
    "        allele_frequencies = np.sum(matrix, axis=1)\n",
    "\n",
    "        frequency_vector = np.zeros(matrix.shape[1] + 1, dtype=int)\n",
    "\n",
    "        unique, counts = np.unique(allele_frequencies, return_counts=True)\n",
    "        frequency_vector[unique.astype(int)] = counts\n",
    "        \n",
    "        output.append(frequency_vector)\n",
    "        \n",
    "    return output\n",
    "\n",
    "gfs = calculate_gene_frequency_spectrum(gene_presence_absence_matrices)\n",
    "\n",
    "hgt_rates_simulations = torch.tensor(hgt_rates)\n",
    "hgt_rates_simulations = hgt_rates_simulations.view(-1, 1)\n",
    "\n",
    "gfs_simulations = torch.tensor(gfs, dtype=torch.float32)\n",
    "\n"
   ]
  },
  {
   "cell_type": "code",
   "execution_count": 41,
   "id": "a8bc72f7-663b-4aee-a2c4-73de009c5b0e",
   "metadata": {},
   "outputs": [
    {
     "name": "stdout",
     "output_type": "stream",
     "text": [
      " Neural network successfully converged after 75 epochs."
     ]
    }
   ],
   "source": [
    "import torch\n",
    "from sbi import utils as utils\n",
    "from sbi import analysis as analysis\n",
    "#from sbi.inference.base import infer\n",
    "from sbi.inference import SNPE, simulate_for_sbi\n",
    "from sbi.utils.get_nn_models import posterior_nn\n",
    "\n",
    "prior = utils.BoxUniform(low=0 * torch.ones(1), high=0.1 * torch.ones(1))\n",
    "\n",
    "inference = SNPE(prior = prior)\n",
    "\n",
    "inference = inference.append_simulations(hgt_rates_simulations, gfs_simulations)\n",
    "\n",
    "density_estimator = inference.train()\n",
    "\n",
    "posterior = inference.build_posterior(density_estimator)\n"
   ]
  },
  {
   "cell_type": "code",
   "execution_count": 54,
   "id": "fd810649-9889-4fab-b1d5-eef35c8ffd6e",
   "metadata": {},
   "outputs": [
    {
     "data": {
      "application/vnd.jupyter.widget-view+json": {
       "model_id": "82c9ff7ebb904ddd86896d480ed8e1d9",
       "version_major": 2,
       "version_minor": 0
      },
      "text/plain": [
       "Drawing 10000 posterior samples:   0%|          | 0/10000 [00:00<?, ?it/s]"
      ]
     },
     "metadata": {},
     "output_type": "display_data"
    },
    {
     "name": "stdout",
     "output_type": "stream",
     "text": [
      "tensor([0.0967])\n"
     ]
    },
    {
     "name": "stderr",
     "output_type": "stream",
     "text": [
      "C:\\Users\\uhewm\\AppData\\Local\\Temp\\ipykernel_10380\\2952378037.py:11: DeprecationWarning: you passed deprecated arguments **kwargs: ['points_colors'], use fig_kwargs instead. We continue calling the deprecated pairplot function\n",
      "  pairplot(samples, points=[hgt_rate_test], points_colors=['r'] )\n"
     ]
    },
    {
     "data": {
      "text/plain": [
       "(<Figure size 1000x1000 with 1 Axes>,\n",
       " array([[<Axes: xlabel='dim 1'>]], dtype=object))"
      ]
     },
     "execution_count": 54,
     "metadata": {},
     "output_type": "execute_result"
    },
    {
     "data": {
      "image/png": "[encoded data removed]",
      "text/plain": [
       "<Figure size 1000x1000 with 1 Axes>"
      ]
     },
     "metadata": {},
     "output_type": "display_data"
    }
   ],
   "source": [
    "import random\n",
    "from sbi.analysis import pairplot\n",
    "\n",
    "z = random.randint(0, 499)\n",
    "hgt_rate_test = hgt_rates_simulations[z]\n",
    "x_test = gfs_simulations[z]\n",
    "\n",
    "samples = posterior.sample((10000,), x=x_test)\n",
    "\n",
    "print(hgt_rate_test)\n",
    "pairplot(samples, points=[hgt_rate_test], points_colors=['r'] )"
   ]
  },
  {
   "cell_type": "code",
   "execution_count": null,
   "id": "b9f76497-1c21-4227-b79b-759695faf799",
   "metadata": {},
   "outputs": [],
   "source": [
    "%run simulator.py"
   ]
  },
  {
   "cell_type": "code",
   "execution_count": null,
   "id": "16c23fc5-d8ac-4aeb-880e-536737838cd5",
   "metadata": {},
   "outputs": [],
   "source": [
    "%run clustering.py"
   ]
  },
  {
   "cell_type": "code",
   "execution_count": 12,
   "id": "313e8ef2-71a5-4752-b8e6-c74948dbe5b5",
   "metadata": {},
   "outputs": [
    {
     "data": {
      "text/plain": [
       "11371.800977459756"
      ]
     },
     "execution_count": 12,
     "metadata": {},
     "output_type": "execute_result"
    }
   ],
   "source": [
    "import math\n",
    "\n",
    "theta = 1000\n",
    "rho = 0.3\n",
    "hgt_rate = 1.5\n",
    "\n",
    "expected_number_of_genes_in_core_root = 1\n",
    "for k in range(1, 100):\n",
    "    term = (hgt_rate ** k) / math.prod(1 + rho + i for i in range(k))\n",
    "    expected_number_of_genes_in_core_root += term\n",
    "expected_number_of_genes_in_core_root = expected_number_of_genes_in_core_root * theta / rho\n",
    "\n",
    "expected_number_of_genes_in_core_root"
   ]
  }
 ],
 "metadata": {
  "kernelspec": {
   "display_name": "pangenome-gene-transfer-simulation",
   "language": "python",
   "name": "pangenome-gene-transfer-simulation"
  },
  "language_info": {
   "codemirror_mode": {
    "name": "ipython",
    "version": 3
   },
   "file_extension": ".py",
   "mimetype": "text/x-python",
   "name": "python",
   "nbconvert_exporter": "python",
   "pygments_lexer": "ipython3",
   "version": "3.12.1"
  }
 },
 "nbformat": 4,
 "nbformat_minor": 5
}
