{
 "cells": [
  {
   "cell_type": "code",
   "execution_count": 1,
   "id": "d78ae104-222c-4ab1-adf4-d7c06ae0e8e1",
   "metadata": {},
   "outputs": [],
   "source": [
    "%run simulator.py"
   ]
  },
  {
   "cell_type": "code",
   "execution_count": 2,
   "id": "d0a4bc32-8715-41ed-bea9-a92da36275fa",
   "metadata": {},
   "outputs": [],
   "source": [
    "import simulator\n",
    "\n",
    "# Read the data:\n",
    "\n",
    "file = 'simulation_results.txt'\n",
    "\n",
    "hgt_rates, gene_presence_absence_matrices_unfiltered = simulator.read_simulation_results(file)\n",
    "\n",
    "# Filter out completely lost genes:\n",
    "\n",
    "gene_presence_absence_matrices = []\n",
    "for i in range(0,len(gene_presence_absence_matrices_unfiltered)):\n",
    "    gene_presence_absence_matrices.append(np.array([row for row in gene_presence_absence_matrices_unfiltered[i] if not (np.all(row == 0))]))\n",
    "    #gene_presence_absence_matrices.append(np.array([row for row in gene_presence_absence_matrices_unfiltered[i] if not (np.all(row == 0) or np.all(row == 1))]))\n",
    "\n",
    "# \n"
   ]
  },
  {
   "cell_type": "code",
   "execution_count": 1,
   "id": "1e1af67a-e3b2-4312-9e56-c91334aac4ad",
   "metadata": {},
   "outputs": [],
   "source": [
    "# Packages\n",
    "import gene_model\n",
    "import gfs\n",
    "import color_scheme\n",
    "import simulator\n",
    "\n",
    "from matplotlib import pyplot as plt\n",
    "import seaborn as sns\n",
    "\n",
    "import sbi\n",
    "import numpy as np\n",
    "import multiprocessing\n",
    "\n",
    "import torch\n",
    "\n",
    "from sbi.analysis import pairplot\n",
    "from sbi.inference import NPE\n",
    "from sbi.utils import BoxUniform\n",
    "from sbi.utils.user_input_checks import (\n",
    "    check_sbi_inputs,\n",
    "    process_prior,\n",
    "    process_simulator,\n",
    ")\n",
    "\n",
    "from concurrent.futures import ProcessPoolExecutor, as_completed\n",
    "from multiprocessing import Pool\n",
    "\n",
    "\n",
    "### Simulation Parameters\n",
    "\n",
    "hgt_rate_max = 1 # Maximum hgt rate\n",
    "hgt_rate_min = 0 # Minimum hgt rate\n",
    "\n",
    "theta = 1\n",
    "rho = 0.1\n",
    "num_samples = 5\n",
    "\n",
    "### Define simulator function:\n",
    "\n",
    "#def simulator_SBI(hgt_rate):\n",
    "#    return simulator.simulator(theta=theta, rho=rho, num_samples=num_samples, hgt_rate=hgt_rate)\n",
    "\n",
    "prior = BoxUniform(low=hgt_rate_min * torch.ones(1), high=hgt_rate_max * torch.ones(1))\n",
    "\n",
    "### Consistency checks:\n",
    "\n",
    "# Check prior, return PyTorch prior.\n",
    "prior, num_parameters, prior_returns_numpy = process_prior(prior)\n",
    "\n",
    "# Check simulator, returns PyTorch simulator able to simulate batches.\n",
    "simulator_test = process_simulator(simulator.simulator_SBI, prior, prior_returns_numpy)\n",
    "\n",
    "# Consistency check after making ready for sbi.\n",
    "# check_sbi_inputs(simulator_test, prior)\n",
    "\n",
    "\n",
    "### Simulate data:\n",
    "\n",
    "hgt_rate = prior.sample((10,))\n"
   ]
  },
  {
   "cell_type": "code",
   "execution_count": null,
   "id": "cdc7c0ff-817e-49bb-a8c7-84daeb02cd91",
   "metadata": {},
   "outputs": [],
   "source": []
  }
 ],
 "metadata": {
  "kernelspec": {
   "display_name": "pangenome-gene-transfer-simulation",
   "language": "python",
   "name": "pangenome-gene-transfer-simulation"
  },
  "language_info": {
   "codemirror_mode": {
    "name": "ipython",
    "version": 3
   },
   "file_extension": ".py",
   "mimetype": "text/x-python",
   "name": "python",
   "nbconvert_exporter": "python",
   "pygments_lexer": "ipython3",
   "version": "3.12.1"
  }
 },
 "nbformat": 4,
 "nbformat_minor": 5
}
