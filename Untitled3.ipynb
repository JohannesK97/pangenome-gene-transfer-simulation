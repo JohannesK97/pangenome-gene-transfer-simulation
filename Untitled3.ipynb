{
 "cells": [
  {
   "cell_type": "code",
   "execution_count": 1,
   "id": "6be6dcf8-976a-42d5-88fd-cb89f94af179",
   "metadata": {},
   "outputs": [],
   "source": [
    "import torch.nn as nn\n",
    "from sbi.inference import SNPE\n",
    "from torch.utils.data import DataLoader, Dataset\n",
    "import torch\n",
    "import h5py\n",
    "import glob\n",
    "import numpy as np\n",
    "from advanced_simulator_h5 import reconstruct_distance_matrix\n",
    "import torch.nn.functional as F\n",
    "from sbi import utils\n",
    "from sbi.neural_nets import posterior_nn\n",
    "import os\n",
    "\n",
    "# Funktion: Flatten und concat Beobachtungen zu 2D Tensor [B, FeatureDim]\n",
    "def flatten_and_concat(gene_tensor, allele_tensor, distances_tensor, fitch_tensor):\n",
    "    B = gene_tensor.shape[0]\n",
    "    gene_flat = gene_tensor.view(B, -1)                    # [B, 1000]\n",
    "    allele_flat = allele_tensor.view(B, -1)                # [B, 1000,1000 = 1,000,000]\n",
    "    distances_flat = distances_tensor.view(B, -1)          # [B, 1,000,000]\n",
    "    fitch_flat = fitch_tensor.view(B, -1)                  # [B, 1]\n",
    "    combined = torch.cat([gene_flat, allele_flat, distances_flat, fitch_flat], dim=1)  # [B, 2,001,001]\n",
    "    return combined\n",
    "\n",
    "\n",
    "def unflatten_and_split(x: torch.Tensor, num_samples: int, multidimensional_scaling_dimensions: int) -> tuple:\n",
    "    \"\"\"\n",
    "    Zerlegt einen flach kombinierten Tensor wieder in seine Einzelbestandteile:\n",
    "    - gene presence/absence matrix\n",
    "    - allele PCA matrix\n",
    "    - distance matrix\n",
    "    - fitch score\n",
    "\n",
    "    Args:\n",
    "        x: Tensor der Form (B, N), der alle Komponenten enthält.\n",
    "        alleles_shape: Tuple (A0, A1) — Form der Allele und Distance-Matrix.\n",
    "\n",
    "    Returns:\n",
    "        Tuple aus:\n",
    "        - gene_tensor: (B, 1, A1)\n",
    "        - allele_tensor: (B, 1, A0, A1)\n",
    "        - distance_tensor: (B, 1, A0, A1)\n",
    "        - fitch_tensor: (B, 1)\n",
    "    \"\"\"\n",
    "    B = x.shape[0]\n",
    "    G = num_samples\n",
    "    A0, A1 = num_samples, multidimensional_scaling_dimensions\n",
    "    D0, D1 = num_samples, multidimensional_scaling_dimensions\n",
    "\n",
    "    gene_len = G\n",
    "    allele_len = A0 * A1\n",
    "    distance_len = D0 * D1\n",
    "\n",
    "    gene_flat = x[:, :gene_len].view(B, 1, G)\n",
    "\n",
    "    allele_start = gene_len\n",
    "    allele_end = allele_start + allele_len\n",
    "    allele_flat = x[:, allele_start:allele_end].view(B, 1, A0, A1)\n",
    "\n",
    "    distance_start = allele_end\n",
    "    distance_end = distance_start + distance_len\n",
    "    distance_flat = x[:, distance_start:distance_end].view(B, 1, D0, D1)\n",
    "\n",
    "    fitch_flat = x[:, distance_end:].view(B, 1)\n",
    "\n",
    "    return gene_flat, allele_flat, distance_flat, fitch_flat\n",
    "    \n",
    "class NeuralNetwork(nn.Module):\n",
    "    def __init__(self, num_samples, multidimensional_scaling_dimensions):\n",
    "        super().__init__()\n",
    "        \n",
    "        self.num_samples = num_samples\n",
    "        self.multidimensional_scaling_dimensions = multidimensional_scaling_dimensions\n",
    "\n",
    "        self.Softplus = nn.Softplus()\n",
    "\n",
    "        self.conv1d = nn.Conv1d(in_channels=1, out_channels=16, kernel_size=3, padding=0)\n",
    "        \n",
    "        dummy_input = torch.zeros(1, 1, num_samples)  # B=1, C=1, L=num_samples\n",
    "        conv1d_out_dim = self.conv1d(dummy_input).view(1, -1).shape[1]\n",
    "\n",
    "        self.pointwise_combine_allele_distance = nn.Conv2d(in_channels=2*3, out_channels=8, kernel_size=1)\n",
    "        \n",
    "        dummy_input = torch.zeros(1, 1, num_samples, num_samples)\n",
    "        out = self.min_max_avg_conv2d(dummy_input)\n",
    "        out_combined = torch.cat([out, out], dim=1)\n",
    "        conv2d_out_dim = self.pointwise_combine_allele_distance(out_combined).view(1, -1).shape[1]\n",
    "\n",
    "        total_input_dim = conv1d_out_dim + conv2d_out_dim + 1 \n",
    "\n",
    "        self.fc = nn.Sequential(\n",
    "            nn.Linear(total_input_dim, 128),\n",
    "            nn.ReLU(),\n",
    "            nn.Linear(128, 128),\n",
    "            nn.ReLU(),\n",
    "            nn.Linear(128, 3),\n",
    "            nn.Softplus()\n",
    "        )\n",
    "        \n",
    "    def min_max_avg_conv2d(self, x, kernel_size=5, stride=3, padding=0):\n",
    "        \"\"\"\n",
    "        x: Tensor mit Shape [B, C, H, W]\n",
    "        Kernel: z.B. 3x3\n",
    "        Output: Tensor mit Shape [B, C*3, H_out, W_out], wobei für jeden Kanal\n",
    "                Minimum, Maximum, Average über das jeweilige Fenster berechnet werden.\n",
    "        \"\"\"\n",
    "    \n",
    "        B, C, H, W = x.shape\n",
    "    \n",
    "        # 1. Unfold: extrahiere alle Fenster als Spalten\n",
    "        # Ergebnis: [B, C * kernel_size*kernel_size, L], L = Anzahl Fenster = H_out * W_out\n",
    "        x_unfold = F.unfold(x, kernel_size=kernel_size, stride=stride, padding=padding)\n",
    "        # Shape: [B, C * k*k, L]\n",
    "    \n",
    "        k = kernel_size * kernel_size\n",
    "        L = x_unfold.shape[-1]\n",
    "    \n",
    "        # 2. reshape zu [B, C, k*k, L]\n",
    "        x_unfold = x_unfold.view(B, C, k, L)\n",
    "    \n",
    "        # 3. min, max, avg entlang Dimension k (Fenstergröße)\n",
    "        min_vals = x_unfold.min(dim=2)[0]   # [B, C, L]\n",
    "        max_vals = x_unfold.max(dim=2)[0]   # [B, C, L]\n",
    "        avg_vals = x_unfold.mean(dim=2)     # [B, C, L]\n",
    "    \n",
    "        # 4. Concatenate diese 3 Werte pro Kanal\n",
    "        out = torch.cat([min_vals, max_vals, avg_vals], dim=1)  # [B, C*3, L]\n",
    "    \n",
    "        # 5. Fold zurück zu Bild: Größe (H_out, W_out)\n",
    "        H_out = (H + 2*padding - kernel_size)//stride + 1\n",
    "        W_out = (W + 2*padding - kernel_size)//stride + 1\n",
    "    \n",
    "        out = out.view(B, C*3, H_out, W_out)\n",
    "        return self.Softplus(out)\n",
    "        \n",
    "    def forward(self, x):\n",
    "        \"\"\"\n",
    "        x: shape [B, total_features]\n",
    "        \"\"\"\n",
    "        B = x.shape[0]\n",
    "        \n",
    "        gene_flat, allele_flat, distance_flat, fitch_flat = unflatten_and_split(x, self.num_samples, self.multidimensional_scaling_dimensions)\n",
    "\n",
    "        allele_flat = allele_flat.squeeze(1)     # [B, 100, 50]\n",
    "        distance_flat = distance_flat.squeeze(1) # [B, 100, 50]\n",
    "    \n",
    "        allele_processed_list = []\n",
    "        distance_processed_list = []\n",
    "    \n",
    "        for i in range(B):\n",
    "            allele_processed = reconstruct_distance_matrix(\n",
    "                allele_flat[i],  # shape [100, 50]\n",
    "                gene_absence_presence=gene_flat[i].squeeze()  # ggf. anpassen\n",
    "            )\n",
    "            distance_processed = reconstruct_distance_matrix(\n",
    "                distance_flat[i],  # shape [100, 50]\n",
    "                gene_absence_presence=None\n",
    "            )\n",
    "    \n",
    "            allele_processed_list.append(torch.tensor(allele_processed, dtype=torch.float32))\n",
    "            distance_processed_list.append(torch.tensor(distance_processed, dtype=torch.float32))\n",
    "    \n",
    "        # Stapeln zu Tensor zurück\n",
    "        allele_flat_processed = torch.stack(allele_processed_list)    # [B, H, W]\n",
    "        distance_flat_processed = torch.stack(distance_processed_list) # [B, H, W]\n",
    "\n",
    "        allele_flat_processed = allele_flat_processed.unsqueeze(1)    \n",
    "        distance_flat_processed = distance_flat_processed.unsqueeze(1)\n",
    "    \n",
    "        # Jetzt kannst du Conv2d Layer darauf anwenden\n",
    "        allele_flat_conv_out = self.min_max_avg_conv2d(allele_flat_processed)\n",
    "        distance_flat_conv_out = self.min_max_avg_conv2d(distance_flat_processed)\n",
    "    \n",
    "        gene_flat_conv_out = self.conv1d(gene_flat)\n",
    "\n",
    "        allele_distance_combined = torch.cat([allele_flat_conv_out, distance_flat_conv_out], dim=1)\n",
    "        \n",
    "        allele_distance_combined_conv_out = self.pointwise_combine_allele_distance(allele_distance_combined)\n",
    "        \n",
    "        # --- Kombination\n",
    "\n",
    "        parts = [gene_flat_conv_out, allele_distance_combined_conv_out, fitch_flat]\n",
    "\n",
    "        parts = [p.view(p.size(0), -1) for p in parts]\n",
    "        \n",
    "        x = torch.cat(parts, dim=-1)\n",
    "        \n",
    "        return self.fc(x)\n",
    "\n",
    "class H5SimulationDataset(Dataset):\n",
    "    def __init__(self, files_or_dir):\n",
    "        if isinstance(files_or_dir, str):  # ein Pfad\n",
    "            self.files = sorted(glob.glob(f\"{files_or_dir}/*.h5\"))\n",
    "        elif isinstance(files_or_dir, list):  # eine Liste von Dateipfaden\n",
    "            self.files = sorted(files_or_dir)\n",
    "        else:\n",
    "            raise ValueError(\"Expected str (directory) or list (files) for files_or_dir.\")\n",
    "\n",
    "    def __len__(self):\n",
    "        return len(self.files)\n",
    "\n",
    "    def __getitem__(self, idx):\n",
    "        file = self.files[idx]\n",
    "        with h5py.File(file, \"r\") as f:\n",
    "            grp = f[\"results\"]\n",
    "            hgt_rate = grp.attrs[\"hgt_rate\"]\n",
    "            rho = grp.attrs[\"rho\"]\n",
    "            gene_number_hgt_events_passed = grp.attrs[\"gene_number_hgt_events_passed\"]\n",
    "            fitch_score = grp.attrs[\"fitch_score\"]\n",
    "            \n",
    "            gene_absence_presence = grp[\"matrix\"][:]\n",
    "            distance_matrix = grp[\"distance_matrix\"][:]\n",
    "            #reconstructed_distance_matrix = reconstruct_distance_matrix(distance_matrix, gene_absence_presence=None)\n",
    "            reconstructed_distance_matrix = distance_matrix\n",
    "            \n",
    "            # PCA-Matrizen\n",
    "            alleles_list_pca = []\n",
    "            pca_keys = [key for key in grp.keys() if key.startswith(\"alleles_list_pca_\")]\n",
    "            pca_keys.sort()\n",
    "            for key in pca_keys:\n",
    "                alleles_pca_raw = grp[key][:]\n",
    "                idx = int(key.split(\"_\")[-1])\n",
    "                \"\"\"\n",
    "                alleles_pca_reconstructed = reconstruct_distance_matrix(\n",
    "                        alleles_pca_raw,\n",
    "                        gene_absence_presence = gene_absence_presence[idx]\n",
    "                    )\n",
    "                \"\"\"\n",
    "                alleles_pca_reconstructed = alleles_pca_raw\n",
    "                alleles_list_pca.append(alleles_pca_reconstructed)\n",
    "\n",
    "        # Als Torch-Tensoren\n",
    "        gene_absence_presence = torch.tensor(gene_absence_presence, dtype=torch.float32)\n",
    "        distance_matrix = torch.tensor(reconstructed_distance_matrix, dtype=torch.float32)\n",
    "        alleles_list_pca = torch.tensor(np.stack(alleles_list_pca), dtype=torch.float32)\n",
    "        fitch_score = torch.tensor(fitch_score, dtype=torch.float32)\n",
    "\n",
    "        theta = torch.tensor([hgt_rate, rho, gene_number_hgt_events_passed], dtype=torch.float32)\n",
    "\n",
    "        return {\n",
    "            \"gene_absence_presence\": torch.tensor(gene_absence_presence, dtype=torch.float32),\n",
    "            \"alleles_list_pca\": torch.tensor(alleles_list_pca, dtype=torch.float32),\n",
    "            \"distance_matrix\": torch.tensor(distance_matrix, dtype=torch.float32),\n",
    "            \"fitch_score\": torch.tensor(fitch_score, dtype=torch.float32),\n",
    "            \"theta\": theta\n",
    "        }"
   ]
  },
  {
   "cell_type": "code",
   "execution_count": 13,
   "id": "6c96bde7-2ca4-4e01-9e4e-99fe8e0e0a7d",
   "metadata": {},
   "outputs": [
    {
     "name": "stdout",
     "output_type": "stream",
     "text": [
      "\n",
      "=== Bearbeite Chunk 1 mit 1000 Dateien ===\n"
     ]
    },
    {
     "name": "stderr",
     "output_type": "stream",
     "text": [
      "C:\\Users\\uhewm\\AppData\\Local\\Temp\\ipykernel_19628\\628130046.py:237: DeprecationWarning: Conversion of an array with ndim > 0 to a scalar is deprecated, and will error in future. Ensure you extract a single element from your array before performing this operation. (Deprecated NumPy 1.25.)\n",
      "  theta = torch.tensor([hgt_rate, rho, gene_number_hgt_events_passed], dtype=torch.float32)\n",
      "C:\\Users\\uhewm\\AppData\\Local\\Temp\\ipykernel_19628\\628130046.py:240: UserWarning: To copy construct from a tensor, it is recommended to use sourceTensor.clone().detach() or sourceTensor.clone().detach().requires_grad_(True), rather than torch.tensor(sourceTensor).\n",
      "  \"gene_absence_presence\": torch.tensor(gene_absence_presence, dtype=torch.float32),\n",
      "C:\\Users\\uhewm\\AppData\\Local\\Temp\\ipykernel_19628\\628130046.py:241: UserWarning: To copy construct from a tensor, it is recommended to use sourceTensor.clone().detach() or sourceTensor.clone().detach().requires_grad_(True), rather than torch.tensor(sourceTensor).\n",
      "  \"alleles_list_pca\": torch.tensor(alleles_list_pca, dtype=torch.float32),\n",
      "C:\\Users\\uhewm\\AppData\\Local\\Temp\\ipykernel_19628\\628130046.py:242: UserWarning: To copy construct from a tensor, it is recommended to use sourceTensor.clone().detach() or sourceTensor.clone().detach().requires_grad_(True), rather than torch.tensor(sourceTensor).\n",
      "  \"distance_matrix\": torch.tensor(distance_matrix, dtype=torch.float32),\n",
      "C:\\Users\\uhewm\\AppData\\Local\\Temp\\ipykernel_19628\\628130046.py:243: UserWarning: To copy construct from a tensor, it is recommended to use sourceTensor.clone().detach() or sourceTensor.clone().detach().requires_grad_(True), rather than torch.tensor(sourceTensor).\n",
      "  \"fitch_score\": torch.tensor(fitch_score, dtype=torch.float32),\n"
     ]
    },
    {
     "name": "stdout",
     "output_type": "stream",
     "text": [
      " Neural network successfully converged after 118 epochs.\n",
      "✔ Chunk 1 abgeschlossen und Posterior gespeichert.\n",
      "\n",
      "=== Bearbeite Chunk 2 mit 1000 Dateien ===\n",
      "Anzahl weggelassener Samples, da außerhalb der posterior:  0\n",
      "Using SNPE-C with atomic loss\n",
      " Training neural network. Epochs trained: 65"
     ]
    },
    {
     "ename": "KeyboardInterrupt",
     "evalue": "",
     "output_type": "error",
     "traceback": [
      "\u001b[1;31m---------------------------------------------------------------------------\u001b[0m",
      "\u001b[1;31mKeyboardInterrupt\u001b[0m                         Traceback (most recent call last)",
      "Cell \u001b[1;32mIn[13], line 84\u001b[0m\n\u001b[0;32m     81\u001b[0m     inference\u001b[38;5;241m.\u001b[39mappend_simulations(theta_all, x_all, proposal\u001b[38;5;241m=\u001b[39mposterior) \u001b[38;5;66;03m#, exclude_invalid_x = True)\u001b[39;00m\n\u001b[0;32m     83\u001b[0m \u001b[38;5;66;03m# === TRAINIEREN UND POSTERIOR ERSTELLEN ===\u001b[39;00m\n\u001b[1;32m---> 84\u001b[0m density_estimator \u001b[38;5;241m=\u001b[39m \u001b[43minference\u001b[49m\u001b[38;5;241;43m.\u001b[39;49m\u001b[43mtrain\u001b[49m\u001b[43m(\u001b[49m\u001b[43mforce_first_round_loss\u001b[49m\u001b[38;5;241;43m=\u001b[39;49m\u001b[43m(\u001b[49m\u001b[43mchunk_idx\u001b[49m\u001b[43m \u001b[49m\u001b[38;5;241;43m==\u001b[39;49m\u001b[43m \u001b[49m\u001b[38;5;241;43m0\u001b[39;49m\u001b[43m)\u001b[49m\u001b[43m)\u001b[49m\n\u001b[0;32m     85\u001b[0m posterior \u001b[38;5;241m=\u001b[39m inference\u001b[38;5;241m.\u001b[39mbuild_posterior(density_estimator)\n\u001b[0;32m     87\u001b[0m \u001b[38;5;66;03m# WICHTIG: x_o setzen, damit der Posterior als Proposal verwendet werden kann\u001b[39;00m\n",
      "File \u001b[1;32m~\\anaconda3\\envs\\pangenome-hgt-sim\\Lib\\site-packages\\sbi\\inference\\trainers\\npe\\npe_c.py:189\u001b[0m, in \u001b[0;36mNPE_C.train\u001b[1;34m(self, num_atoms, training_batch_size, learning_rate, validation_fraction, stop_after_epochs, max_num_epochs, clip_max_norm, calibration_kernel, resume_training, force_first_round_loss, discard_prior_samples, use_combined_loss, retrain_from_scratch, show_train_summary, dataloader_kwargs)\u001b[0m\n\u001b[0;32m    185\u001b[0m     \u001b[38;5;28;01mif\u001b[39;00m \u001b[38;5;28mself\u001b[39m\u001b[38;5;241m.\u001b[39muse_non_atomic_loss:\n\u001b[0;32m    186\u001b[0m         \u001b[38;5;66;03m# Take care of z-scoring, pre-compute and store prior terms.\u001b[39;00m\n\u001b[0;32m    187\u001b[0m         \u001b[38;5;28mself\u001b[39m\u001b[38;5;241m.\u001b[39m_set_state_for_mog_proposal()\n\u001b[1;32m--> 189\u001b[0m \u001b[38;5;28;01mreturn\u001b[39;00m \u001b[38;5;28;43msuper\u001b[39;49m\u001b[43m(\u001b[49m\u001b[43m)\u001b[49m\u001b[38;5;241;43m.\u001b[39;49m\u001b[43mtrain\u001b[49m\u001b[43m(\u001b[49m\u001b[38;5;241;43m*\u001b[39;49m\u001b[38;5;241;43m*\u001b[39;49m\u001b[43mkwargs\u001b[49m\u001b[43m)\u001b[49m\n",
      "File \u001b[1;32m~\\anaconda3\\envs\\pangenome-hgt-sim\\Lib\\site-packages\\sbi\\inference\\trainers\\npe\\npe_base.py:362\u001b[0m, in \u001b[0;36mPosteriorEstimator.train\u001b[1;34m(self, training_batch_size, learning_rate, validation_fraction, stop_after_epochs, max_num_epochs, clip_max_norm, calibration_kernel, resume_training, force_first_round_loss, discard_prior_samples, retrain_from_scratch, show_train_summary, dataloader_kwargs)\u001b[0m\n\u001b[0;32m    355\u001b[0m \u001b[38;5;66;03m# Get batches on current device.\u001b[39;00m\n\u001b[0;32m    356\u001b[0m theta_batch, x_batch, masks_batch \u001b[38;5;241m=\u001b[39m (\n\u001b[0;32m    357\u001b[0m     batch[\u001b[38;5;241m0\u001b[39m]\u001b[38;5;241m.\u001b[39mto(\u001b[38;5;28mself\u001b[39m\u001b[38;5;241m.\u001b[39m_device),\n\u001b[0;32m    358\u001b[0m     batch[\u001b[38;5;241m1\u001b[39m]\u001b[38;5;241m.\u001b[39mto(\u001b[38;5;28mself\u001b[39m\u001b[38;5;241m.\u001b[39m_device),\n\u001b[0;32m    359\u001b[0m     batch[\u001b[38;5;241m2\u001b[39m]\u001b[38;5;241m.\u001b[39mto(\u001b[38;5;28mself\u001b[39m\u001b[38;5;241m.\u001b[39m_device),\n\u001b[0;32m    360\u001b[0m )\n\u001b[1;32m--> 362\u001b[0m train_losses \u001b[38;5;241m=\u001b[39m \u001b[38;5;28;43mself\u001b[39;49m\u001b[38;5;241;43m.\u001b[39;49m\u001b[43m_loss\u001b[49m\u001b[43m(\u001b[49m\n\u001b[0;32m    363\u001b[0m \u001b[43m    \u001b[49m\u001b[43mtheta_batch\u001b[49m\u001b[43m,\u001b[49m\n\u001b[0;32m    364\u001b[0m \u001b[43m    \u001b[49m\u001b[43mx_batch\u001b[49m\u001b[43m,\u001b[49m\n\u001b[0;32m    365\u001b[0m \u001b[43m    \u001b[49m\u001b[43mmasks_batch\u001b[49m\u001b[43m,\u001b[49m\n\u001b[0;32m    366\u001b[0m \u001b[43m    \u001b[49m\u001b[43mproposal\u001b[49m\u001b[43m,\u001b[49m\n\u001b[0;32m    367\u001b[0m \u001b[43m    \u001b[49m\u001b[43mcalibration_kernel\u001b[49m\u001b[43m,\u001b[49m\n\u001b[0;32m    368\u001b[0m \u001b[43m    \u001b[49m\u001b[43mforce_first_round_loss\u001b[49m\u001b[38;5;241;43m=\u001b[39;49m\u001b[43mforce_first_round_loss\u001b[49m\u001b[43m,\u001b[49m\n\u001b[0;32m    369\u001b[0m \u001b[43m\u001b[49m\u001b[43m)\u001b[49m\n\u001b[0;32m    370\u001b[0m train_loss \u001b[38;5;241m=\u001b[39m torch\u001b[38;5;241m.\u001b[39mmean(train_losses)\n\u001b[0;32m    371\u001b[0m train_loss_sum \u001b[38;5;241m+\u001b[39m\u001b[38;5;241m=\u001b[39m train_losses\u001b[38;5;241m.\u001b[39msum()\u001b[38;5;241m.\u001b[39mitem()\n",
      "File \u001b[1;32m~\\anaconda3\\envs\\pangenome-hgt-sim\\Lib\\site-packages\\sbi\\inference\\trainers\\npe\\npe_base.py:610\u001b[0m, in \u001b[0;36mPosteriorEstimator._loss\u001b[1;34m(self, theta, x, masks, proposal, calibration_kernel, force_first_round_loss)\u001b[0m\n\u001b[0;32m    606\u001b[0m     loss \u001b[38;5;241m=\u001b[39m \u001b[38;5;28mself\u001b[39m\u001b[38;5;241m.\u001b[39m_neural_net\u001b[38;5;241m.\u001b[39mloss(theta, x)\n\u001b[0;32m    607\u001b[0m \u001b[38;5;28;01melse\u001b[39;00m:\n\u001b[0;32m    608\u001b[0m     \u001b[38;5;66;03m# Currently only works for `DensityEstimator` objects.\u001b[39;00m\n\u001b[0;32m    609\u001b[0m     \u001b[38;5;66;03m# Must be extended ones other Estimators are implemented. See #966,\u001b[39;00m\n\u001b[1;32m--> 610\u001b[0m     loss \u001b[38;5;241m=\u001b[39m \u001b[38;5;241m-\u001b[39m\u001b[38;5;28;43mself\u001b[39;49m\u001b[38;5;241;43m.\u001b[39;49m\u001b[43m_log_prob_proposal_posterior\u001b[49m\u001b[43m(\u001b[49m\u001b[43mtheta\u001b[49m\u001b[43m,\u001b[49m\u001b[43m \u001b[49m\u001b[43mx\u001b[49m\u001b[43m,\u001b[49m\u001b[43m \u001b[49m\u001b[43mmasks\u001b[49m\u001b[43m,\u001b[49m\u001b[43m \u001b[49m\u001b[43mproposal\u001b[49m\u001b[43m)\u001b[49m\n\u001b[0;32m    612\u001b[0m \u001b[38;5;28;01mreturn\u001b[39;00m calibration_kernel(x) \u001b[38;5;241m*\u001b[39m loss\n",
      "File \u001b[1;32m~\\anaconda3\\envs\\pangenome-hgt-sim\\Lib\\site-packages\\sbi\\inference\\trainers\\npe\\npe_c.py:306\u001b[0m, in \u001b[0;36mNPE_C._log_prob_proposal_posterior\u001b[1;34m(self, theta, x, masks, proposal)\u001b[0m\n\u001b[0;32m    300\u001b[0m \u001b[38;5;28;01mif\u001b[39;00m \u001b[38;5;129;01mnot\u001b[39;00m \u001b[38;5;28mhasattr\u001b[39m(\u001b[38;5;28mself\u001b[39m\u001b[38;5;241m.\u001b[39m_neural_net, \u001b[38;5;124m\"\u001b[39m\u001b[38;5;124mlog_prob\u001b[39m\u001b[38;5;124m\"\u001b[39m):\n\u001b[0;32m    301\u001b[0m     \u001b[38;5;28;01mraise\u001b[39;00m \u001b[38;5;167;01mValueError\u001b[39;00m(\n\u001b[0;32m    302\u001b[0m         \u001b[38;5;124m\"\u001b[39m\u001b[38;5;124mThe neural estimator must have a log_prob method, for\u001b[39m\u001b[38;5;130;01m\\\u001b[39;00m\n\u001b[0;32m    303\u001b[0m \u001b[38;5;124m                     atomic loss. It should at best follow the \u001b[39m\u001b[38;5;130;01m\\\u001b[39;00m\n\u001b[0;32m    304\u001b[0m \u001b[38;5;124m                     sbi.neural_nets \u001b[39m\u001b[38;5;124m'\u001b[39m\u001b[38;5;124mDensityEstiamtor\u001b[39m\u001b[38;5;124m'\u001b[39m\u001b[38;5;124m interface.\u001b[39m\u001b[38;5;124m\"\u001b[39m\n\u001b[0;32m    305\u001b[0m     )\n\u001b[1;32m--> 306\u001b[0m \u001b[38;5;28;01mreturn\u001b[39;00m \u001b[38;5;28;43mself\u001b[39;49m\u001b[38;5;241;43m.\u001b[39;49m\u001b[43m_log_prob_proposal_posterior_atomic\u001b[49m\u001b[43m(\u001b[49m\u001b[43mtheta\u001b[49m\u001b[43m,\u001b[49m\u001b[43m \u001b[49m\u001b[43mx\u001b[49m\u001b[43m,\u001b[49m\u001b[43m \u001b[49m\u001b[43mmasks\u001b[49m\u001b[43m)\u001b[49m\n",
      "File \u001b[1;32m~\\anaconda3\\envs\\pangenome-hgt-sim\\Lib\\site-packages\\sbi\\inference\\trainers\\npe\\npe_c.py:366\u001b[0m, in \u001b[0;36mNPE_C._log_prob_proposal_posterior_atomic\u001b[1;34m(self, theta, x, masks)\u001b[0m\n\u001b[0;32m    360\u001b[0m atomic_theta \u001b[38;5;241m=\u001b[39m reshape_to_sample_batch_event(\n\u001b[0;32m    361\u001b[0m     atomic_theta, atomic_theta\u001b[38;5;241m.\u001b[39mshape[\u001b[38;5;241m1\u001b[39m:]\n\u001b[0;32m    362\u001b[0m )\n\u001b[0;32m    363\u001b[0m repeated_x \u001b[38;5;241m=\u001b[39m reshape_to_batch_event(\n\u001b[0;32m    364\u001b[0m     repeated_x, \u001b[38;5;28mself\u001b[39m\u001b[38;5;241m.\u001b[39m_neural_net\u001b[38;5;241m.\u001b[39mcondition_shape\n\u001b[0;32m    365\u001b[0m )\n\u001b[1;32m--> 366\u001b[0m log_prob_posterior \u001b[38;5;241m=\u001b[39m \u001b[38;5;28;43mself\u001b[39;49m\u001b[38;5;241;43m.\u001b[39;49m\u001b[43m_neural_net\u001b[49m\u001b[38;5;241;43m.\u001b[39;49m\u001b[43mlog_prob\u001b[49m\u001b[43m(\u001b[49m\u001b[43matomic_theta\u001b[49m\u001b[43m,\u001b[49m\u001b[43m \u001b[49m\u001b[43mrepeated_x\u001b[49m\u001b[43m)\u001b[49m\n\u001b[0;32m    367\u001b[0m assert_all_finite(log_prob_posterior, \u001b[38;5;124m\"\u001b[39m\u001b[38;5;124mposterior eval\u001b[39m\u001b[38;5;124m\"\u001b[39m)\n\u001b[0;32m    368\u001b[0m log_prob_posterior \u001b[38;5;241m=\u001b[39m log_prob_posterior\u001b[38;5;241m.\u001b[39mreshape(batch_size, num_atoms)\n",
      "File \u001b[1;32m~\\anaconda3\\envs\\pangenome-hgt-sim\\Lib\\site-packages\\sbi\\neural_nets\\estimators\\nflows_flow.py:109\u001b[0m, in \u001b[0;36mNFlowsFlow.log_prob\u001b[1;34m(self, input, condition)\u001b[0m\n\u001b[0;32m    106\u001b[0m ones_for_event_dims \u001b[38;5;241m=\u001b[39m (\u001b[38;5;241m1\u001b[39m,) \u001b[38;5;241m*\u001b[39m condition_event_dims  \u001b[38;5;66;03m# Tuple of 1s, e.g. (1, 1, 1)\u001b[39;00m\n\u001b[0;32m    107\u001b[0m condition \u001b[38;5;241m=\u001b[39m condition\u001b[38;5;241m.\u001b[39mrepeat(input_sample_dim, \u001b[38;5;241m*\u001b[39mones_for_event_dims)\n\u001b[1;32m--> 109\u001b[0m log_probs \u001b[38;5;241m=\u001b[39m \u001b[38;5;28;43mself\u001b[39;49m\u001b[38;5;241;43m.\u001b[39;49m\u001b[43mnet\u001b[49m\u001b[38;5;241;43m.\u001b[39;49m\u001b[43mlog_prob\u001b[49m\u001b[43m(\u001b[49m\u001b[38;5;28;43minput\u001b[39;49m\u001b[43m,\u001b[49m\u001b[43m \u001b[49m\u001b[43mcontext\u001b[49m\u001b[38;5;241;43m=\u001b[39;49m\u001b[43mcondition\u001b[49m\u001b[43m)\u001b[49m\n\u001b[0;32m    110\u001b[0m \u001b[38;5;28;01mreturn\u001b[39;00m log_probs\u001b[38;5;241m.\u001b[39mreshape((input_sample_dim, input_batch_dim))\n",
      "File \u001b[1;32m~\\anaconda3\\envs\\pangenome-hgt-sim\\Lib\\site-packages\\nflows\\distributions\\base.py:40\u001b[0m, in \u001b[0;36mDistribution.log_prob\u001b[1;34m(self, inputs, context)\u001b[0m\n\u001b[0;32m     36\u001b[0m     \u001b[38;5;28;01mif\u001b[39;00m inputs\u001b[38;5;241m.\u001b[39mshape[\u001b[38;5;241m0\u001b[39m] \u001b[38;5;241m!=\u001b[39m context\u001b[38;5;241m.\u001b[39mshape[\u001b[38;5;241m0\u001b[39m]:\n\u001b[0;32m     37\u001b[0m         \u001b[38;5;28;01mraise\u001b[39;00m \u001b[38;5;167;01mValueError\u001b[39;00m(\n\u001b[0;32m     38\u001b[0m             \u001b[38;5;124m\"\u001b[39m\u001b[38;5;124mNumber of input items must be equal to number of context items.\u001b[39m\u001b[38;5;124m\"\u001b[39m\n\u001b[0;32m     39\u001b[0m         )\n\u001b[1;32m---> 40\u001b[0m \u001b[38;5;28;01mreturn\u001b[39;00m \u001b[38;5;28;43mself\u001b[39;49m\u001b[38;5;241;43m.\u001b[39;49m\u001b[43m_log_prob\u001b[49m\u001b[43m(\u001b[49m\u001b[43minputs\u001b[49m\u001b[43m,\u001b[49m\u001b[43m \u001b[49m\u001b[43mcontext\u001b[49m\u001b[43m)\u001b[49m\n",
      "File \u001b[1;32m~\\anaconda3\\envs\\pangenome-hgt-sim\\Lib\\site-packages\\nflows\\flows\\base.py:38\u001b[0m, in \u001b[0;36mFlow._log_prob\u001b[1;34m(self, inputs, context)\u001b[0m\n\u001b[0;32m     37\u001b[0m \u001b[38;5;28;01mdef\u001b[39;00m \u001b[38;5;21m_log_prob\u001b[39m(\u001b[38;5;28mself\u001b[39m, inputs, context):\n\u001b[1;32m---> 38\u001b[0m     embedded_context \u001b[38;5;241m=\u001b[39m \u001b[38;5;28;43mself\u001b[39;49m\u001b[38;5;241;43m.\u001b[39;49m\u001b[43m_embedding_net\u001b[49m\u001b[43m(\u001b[49m\u001b[43mcontext\u001b[49m\u001b[43m)\u001b[49m\n\u001b[0;32m     39\u001b[0m     noise, logabsdet \u001b[38;5;241m=\u001b[39m \u001b[38;5;28mself\u001b[39m\u001b[38;5;241m.\u001b[39m_transform(inputs, context\u001b[38;5;241m=\u001b[39membedded_context)\n\u001b[0;32m     40\u001b[0m     log_prob \u001b[38;5;241m=\u001b[39m \u001b[38;5;28mself\u001b[39m\u001b[38;5;241m.\u001b[39m_distribution\u001b[38;5;241m.\u001b[39mlog_prob(noise, context\u001b[38;5;241m=\u001b[39membedded_context)\n",
      "File \u001b[1;32m~\\anaconda3\\envs\\pangenome-hgt-sim\\Lib\\site-packages\\torch\\nn\\modules\\module.py:1736\u001b[0m, in \u001b[0;36mModule._wrapped_call_impl\u001b[1;34m(self, *args, **kwargs)\u001b[0m\n\u001b[0;32m   1734\u001b[0m     \u001b[38;5;28;01mreturn\u001b[39;00m \u001b[38;5;28mself\u001b[39m\u001b[38;5;241m.\u001b[39m_compiled_call_impl(\u001b[38;5;241m*\u001b[39margs, \u001b[38;5;241m*\u001b[39m\u001b[38;5;241m*\u001b[39mkwargs)  \u001b[38;5;66;03m# type: ignore[misc]\u001b[39;00m\n\u001b[0;32m   1735\u001b[0m \u001b[38;5;28;01melse\u001b[39;00m:\n\u001b[1;32m-> 1736\u001b[0m     \u001b[38;5;28;01mreturn\u001b[39;00m \u001b[38;5;28;43mself\u001b[39;49m\u001b[38;5;241;43m.\u001b[39;49m\u001b[43m_call_impl\u001b[49m\u001b[43m(\u001b[49m\u001b[38;5;241;43m*\u001b[39;49m\u001b[43margs\u001b[49m\u001b[43m,\u001b[49m\u001b[43m \u001b[49m\u001b[38;5;241;43m*\u001b[39;49m\u001b[38;5;241;43m*\u001b[39;49m\u001b[43mkwargs\u001b[49m\u001b[43m)\u001b[49m\n",
      "File \u001b[1;32m~\\anaconda3\\envs\\pangenome-hgt-sim\\Lib\\site-packages\\torch\\nn\\modules\\module.py:1747\u001b[0m, in \u001b[0;36mModule._call_impl\u001b[1;34m(self, *args, **kwargs)\u001b[0m\n\u001b[0;32m   1742\u001b[0m \u001b[38;5;66;03m# If we don't have any hooks, we want to skip the rest of the logic in\u001b[39;00m\n\u001b[0;32m   1743\u001b[0m \u001b[38;5;66;03m# this function, and just call forward.\u001b[39;00m\n\u001b[0;32m   1744\u001b[0m \u001b[38;5;28;01mif\u001b[39;00m \u001b[38;5;129;01mnot\u001b[39;00m (\u001b[38;5;28mself\u001b[39m\u001b[38;5;241m.\u001b[39m_backward_hooks \u001b[38;5;129;01mor\u001b[39;00m \u001b[38;5;28mself\u001b[39m\u001b[38;5;241m.\u001b[39m_backward_pre_hooks \u001b[38;5;129;01mor\u001b[39;00m \u001b[38;5;28mself\u001b[39m\u001b[38;5;241m.\u001b[39m_forward_hooks \u001b[38;5;129;01mor\u001b[39;00m \u001b[38;5;28mself\u001b[39m\u001b[38;5;241m.\u001b[39m_forward_pre_hooks\n\u001b[0;32m   1745\u001b[0m         \u001b[38;5;129;01mor\u001b[39;00m _global_backward_pre_hooks \u001b[38;5;129;01mor\u001b[39;00m _global_backward_hooks\n\u001b[0;32m   1746\u001b[0m         \u001b[38;5;129;01mor\u001b[39;00m _global_forward_hooks \u001b[38;5;129;01mor\u001b[39;00m _global_forward_pre_hooks):\n\u001b[1;32m-> 1747\u001b[0m     \u001b[38;5;28;01mreturn\u001b[39;00m \u001b[43mforward_call\u001b[49m\u001b[43m(\u001b[49m\u001b[38;5;241;43m*\u001b[39;49m\u001b[43margs\u001b[49m\u001b[43m,\u001b[49m\u001b[43m \u001b[49m\u001b[38;5;241;43m*\u001b[39;49m\u001b[38;5;241;43m*\u001b[39;49m\u001b[43mkwargs\u001b[49m\u001b[43m)\u001b[49m\n\u001b[0;32m   1749\u001b[0m result \u001b[38;5;241m=\u001b[39m \u001b[38;5;28;01mNone\u001b[39;00m\n\u001b[0;32m   1750\u001b[0m called_always_called_hooks \u001b[38;5;241m=\u001b[39m \u001b[38;5;28mset\u001b[39m()\n",
      "File \u001b[1;32m~\\anaconda3\\envs\\pangenome-hgt-sim\\Lib\\site-packages\\torch\\nn\\modules\\container.py:250\u001b[0m, in \u001b[0;36mSequential.forward\u001b[1;34m(self, input)\u001b[0m\n\u001b[0;32m    248\u001b[0m \u001b[38;5;28;01mdef\u001b[39;00m \u001b[38;5;21mforward\u001b[39m(\u001b[38;5;28mself\u001b[39m, \u001b[38;5;28minput\u001b[39m):\n\u001b[0;32m    249\u001b[0m     \u001b[38;5;28;01mfor\u001b[39;00m module \u001b[38;5;129;01min\u001b[39;00m \u001b[38;5;28mself\u001b[39m:\n\u001b[1;32m--> 250\u001b[0m         \u001b[38;5;28minput\u001b[39m \u001b[38;5;241m=\u001b[39m \u001b[43mmodule\u001b[49m\u001b[43m(\u001b[49m\u001b[38;5;28;43minput\u001b[39;49m\u001b[43m)\u001b[49m\n\u001b[0;32m    251\u001b[0m     \u001b[38;5;28;01mreturn\u001b[39;00m \u001b[38;5;28minput\u001b[39m\n",
      "File \u001b[1;32m~\\anaconda3\\envs\\pangenome-hgt-sim\\Lib\\site-packages\\torch\\nn\\modules\\module.py:1736\u001b[0m, in \u001b[0;36mModule._wrapped_call_impl\u001b[1;34m(self, *args, **kwargs)\u001b[0m\n\u001b[0;32m   1734\u001b[0m     \u001b[38;5;28;01mreturn\u001b[39;00m \u001b[38;5;28mself\u001b[39m\u001b[38;5;241m.\u001b[39m_compiled_call_impl(\u001b[38;5;241m*\u001b[39margs, \u001b[38;5;241m*\u001b[39m\u001b[38;5;241m*\u001b[39mkwargs)  \u001b[38;5;66;03m# type: ignore[misc]\u001b[39;00m\n\u001b[0;32m   1735\u001b[0m \u001b[38;5;28;01melse\u001b[39;00m:\n\u001b[1;32m-> 1736\u001b[0m     \u001b[38;5;28;01mreturn\u001b[39;00m \u001b[38;5;28;43mself\u001b[39;49m\u001b[38;5;241;43m.\u001b[39;49m\u001b[43m_call_impl\u001b[49m\u001b[43m(\u001b[49m\u001b[38;5;241;43m*\u001b[39;49m\u001b[43margs\u001b[49m\u001b[43m,\u001b[49m\u001b[43m \u001b[49m\u001b[38;5;241;43m*\u001b[39;49m\u001b[38;5;241;43m*\u001b[39;49m\u001b[43mkwargs\u001b[49m\u001b[43m)\u001b[49m\n",
      "File \u001b[1;32m~\\anaconda3\\envs\\pangenome-hgt-sim\\Lib\\site-packages\\torch\\nn\\modules\\module.py:1747\u001b[0m, in \u001b[0;36mModule._call_impl\u001b[1;34m(self, *args, **kwargs)\u001b[0m\n\u001b[0;32m   1742\u001b[0m \u001b[38;5;66;03m# If we don't have any hooks, we want to skip the rest of the logic in\u001b[39;00m\n\u001b[0;32m   1743\u001b[0m \u001b[38;5;66;03m# this function, and just call forward.\u001b[39;00m\n\u001b[0;32m   1744\u001b[0m \u001b[38;5;28;01mif\u001b[39;00m \u001b[38;5;129;01mnot\u001b[39;00m (\u001b[38;5;28mself\u001b[39m\u001b[38;5;241m.\u001b[39m_backward_hooks \u001b[38;5;129;01mor\u001b[39;00m \u001b[38;5;28mself\u001b[39m\u001b[38;5;241m.\u001b[39m_backward_pre_hooks \u001b[38;5;129;01mor\u001b[39;00m \u001b[38;5;28mself\u001b[39m\u001b[38;5;241m.\u001b[39m_forward_hooks \u001b[38;5;129;01mor\u001b[39;00m \u001b[38;5;28mself\u001b[39m\u001b[38;5;241m.\u001b[39m_forward_pre_hooks\n\u001b[0;32m   1745\u001b[0m         \u001b[38;5;129;01mor\u001b[39;00m _global_backward_pre_hooks \u001b[38;5;129;01mor\u001b[39;00m _global_backward_hooks\n\u001b[0;32m   1746\u001b[0m         \u001b[38;5;129;01mor\u001b[39;00m _global_forward_hooks \u001b[38;5;129;01mor\u001b[39;00m _global_forward_pre_hooks):\n\u001b[1;32m-> 1747\u001b[0m     \u001b[38;5;28;01mreturn\u001b[39;00m \u001b[43mforward_call\u001b[49m\u001b[43m(\u001b[49m\u001b[38;5;241;43m*\u001b[39;49m\u001b[43margs\u001b[49m\u001b[43m,\u001b[49m\u001b[43m \u001b[49m\u001b[38;5;241;43m*\u001b[39;49m\u001b[38;5;241;43m*\u001b[39;49m\u001b[43mkwargs\u001b[49m\u001b[43m)\u001b[49m\n\u001b[0;32m   1749\u001b[0m result \u001b[38;5;241m=\u001b[39m \u001b[38;5;28;01mNone\u001b[39;00m\n\u001b[0;32m   1750\u001b[0m called_always_called_hooks \u001b[38;5;241m=\u001b[39m \u001b[38;5;28mset\u001b[39m()\n",
      "Cell \u001b[1;32mIn[1], line 170\u001b[0m, in \u001b[0;36mNeuralNetwork.forward\u001b[1;34m(self, x)\u001b[0m\n\u001b[0;32m    167\u001b[0m distance_flat_processed \u001b[38;5;241m=\u001b[39m distance_flat_processed\u001b[38;5;241m.\u001b[39munsqueeze(\u001b[38;5;241m1\u001b[39m)\n\u001b[0;32m    169\u001b[0m \u001b[38;5;66;03m# Jetzt kannst du Conv2d Layer darauf anwenden\u001b[39;00m\n\u001b[1;32m--> 170\u001b[0m allele_flat_conv_out \u001b[38;5;241m=\u001b[39m \u001b[38;5;28;43mself\u001b[39;49m\u001b[38;5;241;43m.\u001b[39;49m\u001b[43mmin_max_avg_conv2d\u001b[49m\u001b[43m(\u001b[49m\u001b[43mallele_flat_processed\u001b[49m\u001b[43m)\u001b[49m\n\u001b[0;32m    171\u001b[0m distance_flat_conv_out \u001b[38;5;241m=\u001b[39m \u001b[38;5;28mself\u001b[39m\u001b[38;5;241m.\u001b[39mmin_max_avg_conv2d(distance_flat_processed)\n\u001b[0;32m    173\u001b[0m gene_flat_conv_out \u001b[38;5;241m=\u001b[39m \u001b[38;5;28mself\u001b[39m\u001b[38;5;241m.\u001b[39mconv1d(gene_flat)\n",
      "Cell \u001b[1;32mIn[1], line 122\u001b[0m, in \u001b[0;36mNeuralNetwork.min_max_avg_conv2d\u001b[1;34m(self, x, kernel_size, stride, padding)\u001b[0m\n\u001b[0;32m    120\u001b[0m \u001b[38;5;66;03m# 3. min, max, avg entlang Dimension k (Fenstergröße)\u001b[39;00m\n\u001b[0;32m    121\u001b[0m min_vals \u001b[38;5;241m=\u001b[39m x_unfold\u001b[38;5;241m.\u001b[39mmin(dim\u001b[38;5;241m=\u001b[39m\u001b[38;5;241m2\u001b[39m)[\u001b[38;5;241m0\u001b[39m]   \u001b[38;5;66;03m# [B, C, L]\u001b[39;00m\n\u001b[1;32m--> 122\u001b[0m max_vals \u001b[38;5;241m=\u001b[39m \u001b[43mx_unfold\u001b[49m\u001b[38;5;241;43m.\u001b[39;49m\u001b[43mmax\u001b[49m\u001b[43m(\u001b[49m\u001b[43mdim\u001b[49m\u001b[38;5;241;43m=\u001b[39;49m\u001b[38;5;241;43m2\u001b[39;49m\u001b[43m)\u001b[49m[\u001b[38;5;241m0\u001b[39m]   \u001b[38;5;66;03m# [B, C, L]\u001b[39;00m\n\u001b[0;32m    123\u001b[0m avg_vals \u001b[38;5;241m=\u001b[39m x_unfold\u001b[38;5;241m.\u001b[39mmean(dim\u001b[38;5;241m=\u001b[39m\u001b[38;5;241m2\u001b[39m)     \u001b[38;5;66;03m# [B, C, L]\u001b[39;00m\n\u001b[0;32m    125\u001b[0m \u001b[38;5;66;03m# 4. Concatenate diese 3 Werte pro Kanal\u001b[39;00m\n",
      "\u001b[1;31mKeyboardInterrupt\u001b[0m: "
     ]
    }
   ],
   "source": [
    "# === Parameter ===\n",
    "output_dir = r\"C:\\Users\\uhewm\\Desktop\\SBI_Data\\simulation_chunks\"\n",
    "all_files = glob.glob(os.path.join(output_dir, \"*.h5\"))\n",
    "\n",
    "hgt_rate_max = 20 # Maximum hgt rate\n",
    "hgt_rate_min = 0 # Minimum hgt rate\n",
    "\n",
    "rho_max = 3 # Maximum gene loss rate\n",
    "rho_min = 0 # Minimum gene loss rate\n",
    "\n",
    "num_samples = 100\n",
    "multidimensional_scaling_dimensions = 50\n",
    "\n",
    "# CHUNK-GRÖSSE\n",
    "chunk_size = 1000\n",
    "\n",
    "# Dein Prior\n",
    "prior = utils.BoxUniform(\n",
    "    low=torch.tensor([hgt_rate_min, rho_min, 0.0]),\n",
    "    high=torch.tensor([hgt_rate_max, rho_max, 10000.0])  # je nach Parameter\n",
    ")\n",
    "\n",
    "# === DEIN EMBEDDING ===\n",
    "embedding_net = NeuralNetwork(num_samples=num_samples, multidimensional_scaling_dimensions = multidimensional_scaling_dimensions)\n",
    "\n",
    "# === INITIALISIERE SNPE ===\n",
    "neural_posterior = posterior_nn(\n",
    "    model=\"maf\",\n",
    "    embedding_net=embedding_net,\n",
    "    hidden_features=64,\n",
    "    num_transforms=4\n",
    ")\n",
    "inference = SNPE(prior=prior, density_estimator=neural_posterior)\n",
    "\n",
    "# === CHUNKWEISE TRAINING ===\n",
    "posterior = None  # Initialwert für ersten Durchlauf\n",
    "\n",
    "for chunk_idx in range(0, len(all_files), chunk_size):\n",
    "\n",
    "    chunk_files = all_files[chunk_idx : chunk_idx + chunk_size]\n",
    "    dataset = H5SimulationDataset(chunk_files)\n",
    "    loader = DataLoader(dataset, batch_size=1, shuffle=False, num_workers=0)\n",
    "\n",
    "    print(f\"\\n=== Bearbeite Chunk {chunk_idx // chunk_size + 1} mit {len(chunk_files)} Dateien ===\")\n",
    "\n",
    "    x_buffer, theta_buffer = [], []\n",
    "\n",
    "    for batch in loader:\n",
    "        gene_absence_presence = batch[\"gene_absence_presence\"]\n",
    "        alleles_list_pca = batch[\"alleles_list_pca\"]\n",
    "        distance_matrix = batch[\"distance_matrix\"]\n",
    "        fitch_score = batch[\"fitch_score\"]\n",
    "        theta = batch[\"theta\"]\n",
    "\n",
    "        x = flatten_and_concat(\n",
    "            gene_absence_presence,\n",
    "            alleles_list_pca,\n",
    "            distance_matrix,\n",
    "            fitch_score.unsqueeze(1)\n",
    "        )\n",
    "\n",
    "        x_buffer.append(x)\n",
    "        theta_buffer.append(theta)\n",
    "\n",
    "    if len(x_buffer) < 2:\n",
    "        print(\"Nicht genug Datenpunkte zum Trainieren in diesem Chunk!\")\n",
    "        continue\n",
    "\n",
    "    # Stapelweise zusammenführen\n",
    "    x_all = torch.cat(x_buffer, dim=0)\n",
    "    theta_all = torch.cat(theta_buffer, dim=0)\n",
    "\n",
    "    # Simulationen anhängen\n",
    "    if chunk_idx == 0:\n",
    "        inference.append_simulations(theta_all, x_all)\n",
    "    else:\n",
    "        mask = torch.isfinite(posterior.log_prob(theta_all))\n",
    "        theta_all = theta_all[mask]\n",
    "        x_all     = x_all[mask]\n",
    "        print(\"Anzahl weggelassener Samples, da außerhalb der posterior: \", sum(~mask).item())\n",
    "        inference.append_simulations(theta_all, x_all, proposal=posterior) #, exclude_invalid_x = True)\n",
    "\n",
    "    # === TRAINIEREN UND POSTERIOR ERSTELLEN ===\n",
    "    density_estimator = inference.train(force_first_round_loss=(chunk_idx == 0))\n",
    "    posterior = inference.build_posterior(density_estimator)\n",
    "\n",
    "    # WICHTIG: x_o setzen, damit der Posterior als Proposal verwendet werden kann\n",
    "    posterior.set_default_x(x_all[0])\n",
    "\n",
    "    # === SPEICHERN ===\n",
    "    #torch.save(posterior, f\"posterior_chunk_{chunk_idx // chunk_size + 1}.pt\")\n",
    "    print(f\"\\n✔ Chunk {chunk_idx // chunk_size + 1} abgeschlossen und Posterior gespeichert.\")\n",
    "\n",
    "print(\"\\n=== Alle Chunks abgeschlossen! ===\")"
   ]
  },
  {
   "cell_type": "code",
   "execution_count": 10,
   "id": "3b771338-6b4a-417c-8693-17853c85a057",
   "metadata": {},
   "outputs": [
    {
     "data": {
      "text/plain": [
       "3"
      ]
     },
     "execution_count": 10,
     "metadata": {},
     "output_type": "execute_result"
    }
   ],
   "source": [
    "mask = torch.isfinite(prior.log_prob(theta_all))\n",
    "\n",
    "sum(~mask).item()"
   ]
  },
  {
   "cell_type": "code",
   "execution_count": 14,
   "id": "72b20c62-874a-4903-a94e-f2a0bb9673a6",
   "metadata": {},
   "outputs": [
    {
     "name": "stderr",
     "output_type": "stream",
     "text": [
      "C:\\Users\\uhewm\\AppData\\Local\\Temp\\ipykernel_19628\\628130046.py:237: DeprecationWarning: Conversion of an array with ndim > 0 to a scalar is deprecated, and will error in future. Ensure you extract a single element from your array before performing this operation. (Deprecated NumPy 1.25.)\n",
      "  theta = torch.tensor([hgt_rate, rho, gene_number_hgt_events_passed], dtype=torch.float32)\n",
      "C:\\Users\\uhewm\\AppData\\Local\\Temp\\ipykernel_19628\\628130046.py:240: UserWarning: To copy construct from a tensor, it is recommended to use sourceTensor.clone().detach() or sourceTensor.clone().detach().requires_grad_(True), rather than torch.tensor(sourceTensor).\n",
      "  \"gene_absence_presence\": torch.tensor(gene_absence_presence, dtype=torch.float32),\n",
      "C:\\Users\\uhewm\\AppData\\Local\\Temp\\ipykernel_19628\\628130046.py:241: UserWarning: To copy construct from a tensor, it is recommended to use sourceTensor.clone().detach() or sourceTensor.clone().detach().requires_grad_(True), rather than torch.tensor(sourceTensor).\n",
      "  \"alleles_list_pca\": torch.tensor(alleles_list_pca, dtype=torch.float32),\n",
      "C:\\Users\\uhewm\\AppData\\Local\\Temp\\ipykernel_19628\\628130046.py:242: UserWarning: To copy construct from a tensor, it is recommended to use sourceTensor.clone().detach() or sourceTensor.clone().detach().requires_grad_(True), rather than torch.tensor(sourceTensor).\n",
      "  \"distance_matrix\": torch.tensor(distance_matrix, dtype=torch.float32),\n",
      "C:\\Users\\uhewm\\AppData\\Local\\Temp\\ipykernel_19628\\628130046.py:243: UserWarning: To copy construct from a tensor, it is recommended to use sourceTensor.clone().detach() or sourceTensor.clone().detach().requires_grad_(True), rather than torch.tensor(sourceTensor).\n",
      "  \"fitch_score\": torch.tensor(fitch_score, dtype=torch.float32),\n"
     ]
    },
    {
     "data": {
      "application/vnd.jupyter.widget-view+json": {
       "model_id": "73b38ad2f23447db9ecb80b8ca38cfed",
       "version_major": 2,
       "version_minor": 0
      },
      "text/plain": [
       "Drawing 20 posterior samples:   0%|          | 0/20 [00:00<?, ?it/s]"
      ]
     },
     "metadata": {},
     "output_type": "display_data"
    },
    {
     "data": {
      "application/vnd.jupyter.widget-view+json": {
       "model_id": "d6b0a5d961ff48d8a24d22d2a7be4a84",
       "version_major": 2,
       "version_minor": 0
      },
      "text/plain": [
       "Drawing 20 posterior samples:   0%|          | 0/20 [00:00<?, ?it/s]"
      ]
     },
     "metadata": {},
     "output_type": "display_data"
    },
    {
     "data": {
      "application/vnd.jupyter.widget-view+json": {
       "model_id": "cbe8d27503a5424e9747bf1f12434462",
       "version_major": 2,
       "version_minor": 0
      },
      "text/plain": [
       "Drawing 20 posterior samples:   0%|          | 0/20 [00:00<?, ?it/s]"
      ]
     },
     "metadata": {},
     "output_type": "display_data"
    },
    {
     "data": {
      "application/vnd.jupyter.widget-view+json": {
       "model_id": "e3bfa40dc050498fa350f38cccf9fd06",
       "version_major": 2,
       "version_minor": 0
      },
      "text/plain": [
       "Drawing 20 posterior samples:   0%|          | 0/20 [00:00<?, ?it/s]"
      ]
     },
     "metadata": {},
     "output_type": "display_data"
    },
    {
     "data": {
      "application/vnd.jupyter.widget-view+json": {
       "model_id": "3f0b7d9dfeeb4f6f9623b459edef6480",
       "version_major": 2,
       "version_minor": 0
      },
      "text/plain": [
       "Drawing 20 posterior samples:   0%|          | 0/20 [00:00<?, ?it/s]"
      ]
     },
     "metadata": {},
     "output_type": "display_data"
    },
    {
     "data": {
      "application/vnd.jupyter.widget-view+json": {
       "model_id": "c0e5503b80d84801a0a09cc01b21f3b7",
       "version_major": 2,
       "version_minor": 0
      },
      "text/plain": [
       "Drawing 20 posterior samples:   0%|          | 0/20 [00:00<?, ?it/s]"
      ]
     },
     "metadata": {},
     "output_type": "display_data"
    },
    {
     "data": {
      "application/vnd.jupyter.widget-view+json": {
       "model_id": "3c1f176913c44b06bf5b0d91a772aecf",
       "version_major": 2,
       "version_minor": 0
      },
      "text/plain": [
       "Drawing 20 posterior samples:   0%|          | 0/20 [00:00<?, ?it/s]"
      ]
     },
     "metadata": {},
     "output_type": "display_data"
    },
    {
     "data": {
      "application/vnd.jupyter.widget-view+json": {
       "model_id": "c9e16432c51d4e569c8721266b5c1b91",
       "version_major": 2,
       "version_minor": 0
      },
      "text/plain": [
       "Drawing 20 posterior samples:   0%|          | 0/20 [00:00<?, ?it/s]"
      ]
     },
     "metadata": {},
     "output_type": "display_data"
    },
    {
     "data": {
      "application/vnd.jupyter.widget-view+json": {
       "model_id": "31ab7d06a5a1488fa99a7f47290a6d69",
       "version_major": 2,
       "version_minor": 0
      },
      "text/plain": [
       "Drawing 20 posterior samples:   0%|          | 0/20 [00:00<?, ?it/s]"
      ]
     },
     "metadata": {},
     "output_type": "display_data"
    },
    {
     "data": {
      "application/vnd.jupyter.widget-view+json": {
       "model_id": "a21da867607d4a3185277553bf33b47e",
       "version_major": 2,
       "version_minor": 0
      },
      "text/plain": [
       "Drawing 20 posterior samples:   0%|          | 0/20 [00:00<?, ?it/s]"
      ]
     },
     "metadata": {},
     "output_type": "display_data"
    },
    {
     "data": {
      "application/vnd.jupyter.widget-view+json": {
       "model_id": "f89e1e8b843b4ae7949b488cc75995f2",
       "version_major": 2,
       "version_minor": 0
      },
      "text/plain": [
       "Drawing 20 posterior samples:   0%|          | 0/20 [00:00<?, ?it/s]"
      ]
     },
     "metadata": {},
     "output_type": "display_data"
    },
    {
     "data": {
      "application/vnd.jupyter.widget-view+json": {
       "model_id": "74d573be5a9f4a2ea913b1447b0d0c5c",
       "version_major": 2,
       "version_minor": 0
      },
      "text/plain": [
       "Drawing 20 posterior samples:   0%|          | 0/20 [00:00<?, ?it/s]"
      ]
     },
     "metadata": {},
     "output_type": "display_data"
    },
    {
     "data": {
      "application/vnd.jupyter.widget-view+json": {
       "model_id": "aae2879cf00a4298917e2f007535ff5f",
       "version_major": 2,
       "version_minor": 0
      },
      "text/plain": [
       "Drawing 20 posterior samples:   0%|          | 0/20 [00:00<?, ?it/s]"
      ]
     },
     "metadata": {},
     "output_type": "display_data"
    },
    {
     "data": {
      "application/vnd.jupyter.widget-view+json": {
       "model_id": "2b7f1f755fce4a5b87a10ac860b3e3aa",
       "version_major": 2,
       "version_minor": 0
      },
      "text/plain": [
       "Drawing 20 posterior samples:   0%|          | 0/20 [00:00<?, ?it/s]"
      ]
     },
     "metadata": {},
     "output_type": "display_data"
    },
    {
     "data": {
      "application/vnd.jupyter.widget-view+json": {
       "model_id": "b26912afc57249ef8e2e760df91e7020",
       "version_major": 2,
       "version_minor": 0
      },
      "text/plain": [
       "Drawing 20 posterior samples:   0%|          | 0/20 [00:00<?, ?it/s]"
      ]
     },
     "metadata": {},
     "output_type": "display_data"
    },
    {
     "data": {
      "application/vnd.jupyter.widget-view+json": {
       "model_id": "a1e88af890024c51adce9581af7d131d",
       "version_major": 2,
       "version_minor": 0
      },
      "text/plain": [
       "Drawing 20 posterior samples:   0%|          | 0/20 [00:00<?, ?it/s]"
      ]
     },
     "metadata": {},
     "output_type": "display_data"
    },
    {
     "data": {
      "application/vnd.jupyter.widget-view+json": {
       "model_id": "acb8a4a5c81b4101a5a2b47acd4b16bf",
       "version_major": 2,
       "version_minor": 0
      },
      "text/plain": [
       "Drawing 20 posterior samples:   0%|          | 0/20 [00:00<?, ?it/s]"
      ]
     },
     "metadata": {},
     "output_type": "display_data"
    },
    {
     "data": {
      "application/vnd.jupyter.widget-view+json": {
       "model_id": "132bde072e8447c98c6f53b7ef6f6d98",
       "version_major": 2,
       "version_minor": 0
      },
      "text/plain": [
       "Drawing 20 posterior samples:   0%|          | 0/20 [00:00<?, ?it/s]"
      ]
     },
     "metadata": {},
     "output_type": "display_data"
    },
    {
     "data": {
      "application/vnd.jupyter.widget-view+json": {
       "model_id": "cf17af5bc4734970b732034fbf5d8955",
       "version_major": 2,
       "version_minor": 0
      },
      "text/plain": [
       "Drawing 20 posterior samples:   0%|          | 0/20 [00:00<?, ?it/s]"
      ]
     },
     "metadata": {},
     "output_type": "display_data"
    },
    {
     "data": {
      "application/vnd.jupyter.widget-view+json": {
       "model_id": "62be8b259402402d8d6f4284ec072351",
       "version_major": 2,
       "version_minor": 0
      },
      "text/plain": [
       "Drawing 20 posterior samples:   0%|          | 0/20 [00:00<?, ?it/s]"
      ]
     },
     "metadata": {},
     "output_type": "display_data"
    },
    {
     "data": {
      "application/vnd.jupyter.widget-view+json": {
       "model_id": "ad7e37428176496abc69ba451d30125e",
       "version_major": 2,
       "version_minor": 0
      },
      "text/plain": [
       "Drawing 20 posterior samples:   0%|          | 0/20 [00:00<?, ?it/s]"
      ]
     },
     "metadata": {},
     "output_type": "display_data"
    },
    {
     "data": {
      "application/vnd.jupyter.widget-view+json": {
       "model_id": "54f8933382574f0691265d4c7fb25ab1",
       "version_major": 2,
       "version_minor": 0
      },
      "text/plain": [
       "Drawing 20 posterior samples:   0%|          | 0/20 [00:00<?, ?it/s]"
      ]
     },
     "metadata": {},
     "output_type": "display_data"
    },
    {
     "data": {
      "application/vnd.jupyter.widget-view+json": {
       "model_id": "3bad680182aa4dc98c2869f658dfccda",
       "version_major": 2,
       "version_minor": 0
      },
      "text/plain": [
       "Drawing 20 posterior samples:   0%|          | 0/20 [00:00<?, ?it/s]"
      ]
     },
     "metadata": {},
     "output_type": "display_data"
    },
    {
     "data": {
      "application/vnd.jupyter.widget-view+json": {
       "model_id": "fe1b167f2a6f412fb38280d67030ddd1",
       "version_major": 2,
       "version_minor": 0
      },
      "text/plain": [
       "Drawing 20 posterior samples:   0%|          | 0/20 [00:00<?, ?it/s]"
      ]
     },
     "metadata": {},
     "output_type": "display_data"
    },
    {
     "data": {
      "application/vnd.jupyter.widget-view+json": {
       "model_id": "bff3e89d42034d46831d678e840eee2b",
       "version_major": 2,
       "version_minor": 0
      },
      "text/plain": [
       "Drawing 20 posterior samples:   0%|          | 0/20 [00:00<?, ?it/s]"
      ]
     },
     "metadata": {},
     "output_type": "display_data"
    },
    {
     "data": {
      "application/vnd.jupyter.widget-view+json": {
       "model_id": "89defc9d7e6f4127826caf0f6626d1f2",
       "version_major": 2,
       "version_minor": 0
      },
      "text/plain": [
       "Drawing 20 posterior samples:   0%|          | 0/20 [00:00<?, ?it/s]"
      ]
     },
     "metadata": {},
     "output_type": "display_data"
    },
    {
     "data": {
      "application/vnd.jupyter.widget-view+json": {
       "model_id": "9ab335c8ee0b4027a4f54e8593b7f98b",
       "version_major": 2,
       "version_minor": 0
      },
      "text/plain": [
       "Drawing 20 posterior samples:   0%|          | 0/20 [00:00<?, ?it/s]"
      ]
     },
     "metadata": {},
     "output_type": "display_data"
    },
    {
     "data": {
      "application/vnd.jupyter.widget-view+json": {
       "model_id": "545b540234c2494893fda0ec721579cc",
       "version_major": 2,
       "version_minor": 0
      },
      "text/plain": [
       "Drawing 20 posterior samples:   0%|          | 0/20 [00:00<?, ?it/s]"
      ]
     },
     "metadata": {},
     "output_type": "display_data"
    },
    {
     "data": {
      "application/vnd.jupyter.widget-view+json": {
       "model_id": "93cd7d11b6e3487ab92d742e20f58c75",
       "version_major": 2,
       "version_minor": 0
      },
      "text/plain": [
       "Drawing 20 posterior samples:   0%|          | 0/20 [00:00<?, ?it/s]"
      ]
     },
     "metadata": {},
     "output_type": "display_data"
    },
    {
     "data": {
      "application/vnd.jupyter.widget-view+json": {
       "model_id": "f428ce401d594f598c0873420b0622e9",
       "version_major": 2,
       "version_minor": 0
      },
      "text/plain": [
       "Drawing 20 posterior samples:   0%|          | 0/20 [00:00<?, ?it/s]"
      ]
     },
     "metadata": {},
     "output_type": "display_data"
    },
    {
     "data": {
      "application/vnd.jupyter.widget-view+json": {
       "model_id": "1e5d13abdbbf4dd7829f375b9da7659a",
       "version_major": 2,
       "version_minor": 0
      },
      "text/plain": [
       "Drawing 20 posterior samples:   0%|          | 0/20 [00:00<?, ?it/s]"
      ]
     },
     "metadata": {},
     "output_type": "display_data"
    },
    {
     "data": {
      "application/vnd.jupyter.widget-view+json": {
       "model_id": "64a3687d667e49cb812283b4eea1ae4f",
       "version_major": 2,
       "version_minor": 0
      },
      "text/plain": [
       "Drawing 20 posterior samples:   0%|          | 0/20 [00:00<?, ?it/s]"
      ]
     },
     "metadata": {},
     "output_type": "display_data"
    },
    {
     "data": {
      "application/vnd.jupyter.widget-view+json": {
       "model_id": "84fc0cdf13de4f3199ed5f9251b70929",
       "version_major": 2,
       "version_minor": 0
      },
      "text/plain": [
       "Drawing 20 posterior samples:   0%|          | 0/20 [00:00<?, ?it/s]"
      ]
     },
     "metadata": {},
     "output_type": "display_data"
    },
    {
     "data": {
      "application/vnd.jupyter.widget-view+json": {
       "model_id": "c5e203575e60432faca527d5fccc9858",
       "version_major": 2,
       "version_minor": 0
      },
      "text/plain": [
       "Drawing 20 posterior samples:   0%|          | 0/20 [00:00<?, ?it/s]"
      ]
     },
     "metadata": {},
     "output_type": "display_data"
    },
    {
     "data": {
      "application/vnd.jupyter.widget-view+json": {
       "model_id": "7b4bcc4ea4af40c7bbf9bdc2c44d8185",
       "version_major": 2,
       "version_minor": 0
      },
      "text/plain": [
       "Drawing 20 posterior samples:   0%|          | 0/20 [00:00<?, ?it/s]"
      ]
     },
     "metadata": {},
     "output_type": "display_data"
    },
    {
     "data": {
      "application/vnd.jupyter.widget-view+json": {
       "model_id": "5e5fa4e03e3b40168eb1172a8223618e",
       "version_major": 2,
       "version_minor": 0
      },
      "text/plain": [
       "Drawing 20 posterior samples:   0%|          | 0/20 [00:00<?, ?it/s]"
      ]
     },
     "metadata": {},
     "output_type": "display_data"
    },
    {
     "data": {
      "application/vnd.jupyter.widget-view+json": {
       "model_id": "9a1741033a9840808064b1fb0a62648d",
       "version_major": 2,
       "version_minor": 0
      },
      "text/plain": [
       "Drawing 20 posterior samples:   0%|          | 0/20 [00:00<?, ?it/s]"
      ]
     },
     "metadata": {},
     "output_type": "display_data"
    },
    {
     "data": {
      "application/vnd.jupyter.widget-view+json": {
       "model_id": "2a294dd5019140c79fd03faa99024a7a",
       "version_major": 2,
       "version_minor": 0
      },
      "text/plain": [
       "Drawing 20 posterior samples:   0%|          | 0/20 [00:00<?, ?it/s]"
      ]
     },
     "metadata": {},
     "output_type": "display_data"
    },
    {
     "data": {
      "application/vnd.jupyter.widget-view+json": {
       "model_id": "aa4a834b199e45548e3f7d2709f4e3d0",
       "version_major": 2,
       "version_minor": 0
      },
      "text/plain": [
       "Drawing 20 posterior samples:   0%|          | 0/20 [00:00<?, ?it/s]"
      ]
     },
     "metadata": {},
     "output_type": "display_data"
    },
    {
     "data": {
      "application/vnd.jupyter.widget-view+json": {
       "model_id": "936820d7afe74129ba24998a7d7a3702",
       "version_major": 2,
       "version_minor": 0
      },
      "text/plain": [
       "Drawing 20 posterior samples:   0%|          | 0/20 [00:00<?, ?it/s]"
      ]
     },
     "metadata": {},
     "output_type": "display_data"
    },
    {
     "data": {
      "application/vnd.jupyter.widget-view+json": {
       "model_id": "119518afc762488598910d6be1b61ae2",
       "version_major": 2,
       "version_minor": 0
      },
      "text/plain": [
       "Drawing 20 posterior samples:   0%|          | 0/20 [00:00<?, ?it/s]"
      ]
     },
     "metadata": {},
     "output_type": "display_data"
    },
    {
     "data": {
      "application/vnd.jupyter.widget-view+json": {
       "model_id": "07398b52c89a4df39edc2e37ed018ee7",
       "version_major": 2,
       "version_minor": 0
      },
      "text/plain": [
       "Drawing 20 posterior samples:   0%|          | 0/20 [00:00<?, ?it/s]"
      ]
     },
     "metadata": {},
     "output_type": "display_data"
    },
    {
     "data": {
      "application/vnd.jupyter.widget-view+json": {
       "model_id": "d73916fc6c6e404c847ac33ffbda82d1",
       "version_major": 2,
       "version_minor": 0
      },
      "text/plain": [
       "Drawing 20 posterior samples:   0%|          | 0/20 [00:00<?, ?it/s]"
      ]
     },
     "metadata": {},
     "output_type": "display_data"
    },
    {
     "data": {
      "application/vnd.jupyter.widget-view+json": {
       "model_id": "d2f1b6aa587a48b4a8bf8b46647f326a",
       "version_major": 2,
       "version_minor": 0
      },
      "text/plain": [
       "Drawing 20 posterior samples:   0%|          | 0/20 [00:00<?, ?it/s]"
      ]
     },
     "metadata": {},
     "output_type": "display_data"
    },
    {
     "data": {
      "application/vnd.jupyter.widget-view+json": {
       "model_id": "2be60a25e160453298c96e83bdb3c2a3",
       "version_major": 2,
       "version_minor": 0
      },
      "text/plain": [
       "Drawing 20 posterior samples:   0%|          | 0/20 [00:00<?, ?it/s]"
      ]
     },
     "metadata": {},
     "output_type": "display_data"
    },
    {
     "data": {
      "application/vnd.jupyter.widget-view+json": {
       "model_id": "a01f75b9881f48aabd7a3c2a0aa193b8",
       "version_major": 2,
       "version_minor": 0
      },
      "text/plain": [
       "Drawing 20 posterior samples:   0%|          | 0/20 [00:00<?, ?it/s]"
      ]
     },
     "metadata": {},
     "output_type": "display_data"
    },
    {
     "data": {
      "application/vnd.jupyter.widget-view+json": {
       "model_id": "d079ffeadc4a453e9bdbd4a617eb7d1b",
       "version_major": 2,
       "version_minor": 0
      },
      "text/plain": [
       "Drawing 20 posterior samples:   0%|          | 0/20 [00:00<?, ?it/s]"
      ]
     },
     "metadata": {},
     "output_type": "display_data"
    },
    {
     "data": {
      "application/vnd.jupyter.widget-view+json": {
       "model_id": "c6bc961a633f424e80c40bc85119228f",
       "version_major": 2,
       "version_minor": 0
      },
      "text/plain": [
       "Drawing 20 posterior samples:   0%|          | 0/20 [00:00<?, ?it/s]"
      ]
     },
     "metadata": {},
     "output_type": "display_data"
    },
    {
     "data": {
      "application/vnd.jupyter.widget-view+json": {
       "model_id": "6507da2394aa41a9b87ade3c1a9a7d8a",
       "version_major": 2,
       "version_minor": 0
      },
      "text/plain": [
       "Drawing 20 posterior samples:   0%|          | 0/20 [00:00<?, ?it/s]"
      ]
     },
     "metadata": {},
     "output_type": "display_data"
    },
    {
     "data": {
      "application/vnd.jupyter.widget-view+json": {
       "model_id": "38303e76964b4b08a3e20ecaeb8d633d",
       "version_major": 2,
       "version_minor": 0
      },
      "text/plain": [
       "Drawing 20 posterior samples:   0%|          | 0/20 [00:00<?, ?it/s]"
      ]
     },
     "metadata": {},
     "output_type": "display_data"
    },
    {
     "data": {
      "application/vnd.jupyter.widget-view+json": {
       "model_id": "7954ff7d1ce248af9c5500021e06f91f",
       "version_major": 2,
       "version_minor": 0
      },
      "text/plain": [
       "Drawing 20 posterior samples:   0%|          | 0/20 [00:00<?, ?it/s]"
      ]
     },
     "metadata": {},
     "output_type": "display_data"
    },
    {
     "data": {
      "application/vnd.jupyter.widget-view+json": {
       "model_id": "56d1a3d9fa29451080960700623de78a",
       "version_major": 2,
       "version_minor": 0
      },
      "text/plain": [
       "Drawing 20 posterior samples:   0%|          | 0/20 [00:00<?, ?it/s]"
      ]
     },
     "metadata": {},
     "output_type": "display_data"
    },
    {
     "data": {
      "application/vnd.jupyter.widget-view+json": {
       "model_id": "51dcc6a3c2a74d01ac36f8f3b22bca6f",
       "version_major": 2,
       "version_minor": 0
      },
      "text/plain": [
       "Drawing 20 posterior samples:   0%|          | 0/20 [00:00<?, ?it/s]"
      ]
     },
     "metadata": {},
     "output_type": "display_data"
    },
    {
     "data": {
      "application/vnd.jupyter.widget-view+json": {
       "model_id": "abe07c419c9c42d2b980c01ea761e88b",
       "version_major": 2,
       "version_minor": 0
      },
      "text/plain": [
       "Drawing 20 posterior samples:   0%|          | 0/20 [00:00<?, ?it/s]"
      ]
     },
     "metadata": {},
     "output_type": "display_data"
    },
    {
     "data": {
      "application/vnd.jupyter.widget-view+json": {
       "model_id": "6e545d2f290a4f0badcc37297b0e59a8",
       "version_major": 2,
       "version_minor": 0
      },
      "text/plain": [
       "Drawing 20 posterior samples:   0%|          | 0/20 [00:00<?, ?it/s]"
      ]
     },
     "metadata": {},
     "output_type": "display_data"
    },
    {
     "data": {
      "application/vnd.jupyter.widget-view+json": {
       "model_id": "ec1400f1b3ab421b8f980d2bd20b06e5",
       "version_major": 2,
       "version_minor": 0
      },
      "text/plain": [
       "Drawing 20 posterior samples:   0%|          | 0/20 [00:00<?, ?it/s]"
      ]
     },
     "metadata": {},
     "output_type": "display_data"
    },
    {
     "data": {
      "application/vnd.jupyter.widget-view+json": {
       "model_id": "61006a0e1ca94f51a3b9727f17a5032a",
       "version_major": 2,
       "version_minor": 0
      },
      "text/plain": [
       "Drawing 20 posterior samples:   0%|          | 0/20 [00:00<?, ?it/s]"
      ]
     },
     "metadata": {},
     "output_type": "display_data"
    },
    {
     "data": {
      "application/vnd.jupyter.widget-view+json": {
       "model_id": "2aca7860e38e4429832dc21cebb51c36",
       "version_major": 2,
       "version_minor": 0
      },
      "text/plain": [
       "Drawing 20 posterior samples:   0%|          | 0/20 [00:00<?, ?it/s]"
      ]
     },
     "metadata": {},
     "output_type": "display_data"
    },
    {
     "data": {
      "application/vnd.jupyter.widget-view+json": {
       "model_id": "7689395c2c8349759d99741179855a40",
       "version_major": 2,
       "version_minor": 0
      },
      "text/plain": [
       "Drawing 20 posterior samples:   0%|          | 0/20 [00:00<?, ?it/s]"
      ]
     },
     "metadata": {},
     "output_type": "display_data"
    },
    {
     "data": {
      "application/vnd.jupyter.widget-view+json": {
       "model_id": "2cf157fedaaf456bae523667b3feff41",
       "version_major": 2,
       "version_minor": 0
      },
      "text/plain": [
       "Drawing 20 posterior samples:   0%|          | 0/20 [00:00<?, ?it/s]"
      ]
     },
     "metadata": {},
     "output_type": "display_data"
    },
    {
     "data": {
      "application/vnd.jupyter.widget-view+json": {
       "model_id": "9729697328ed4d94a358449718ba8659",
       "version_major": 2,
       "version_minor": 0
      },
      "text/plain": [
       "Drawing 20 posterior samples:   0%|          | 0/20 [00:00<?, ?it/s]"
      ]
     },
     "metadata": {},
     "output_type": "display_data"
    },
    {
     "data": {
      "application/vnd.jupyter.widget-view+json": {
       "model_id": "cbbf147beec344db8140e97662c27ea7",
       "version_major": 2,
       "version_minor": 0
      },
      "text/plain": [
       "Drawing 20 posterior samples:   0%|          | 0/20 [00:00<?, ?it/s]"
      ]
     },
     "metadata": {},
     "output_type": "display_data"
    },
    {
     "data": {
      "application/vnd.jupyter.widget-view+json": {
       "model_id": "842b86c515f64e53b163d4123903648d",
       "version_major": 2,
       "version_minor": 0
      },
      "text/plain": [
       "Drawing 20 posterior samples:   0%|          | 0/20 [00:00<?, ?it/s]"
      ]
     },
     "metadata": {},
     "output_type": "display_data"
    },
    {
     "data": {
      "application/vnd.jupyter.widget-view+json": {
       "model_id": "d3782380e9c341398492e067874ac08b",
       "version_major": 2,
       "version_minor": 0
      },
      "text/plain": [
       "Drawing 20 posterior samples:   0%|          | 0/20 [00:00<?, ?it/s]"
      ]
     },
     "metadata": {},
     "output_type": "display_data"
    },
    {
     "data": {
      "application/vnd.jupyter.widget-view+json": {
       "model_id": "7a49c2ea6bd8443cab988288de47aa4b",
       "version_major": 2,
       "version_minor": 0
      },
      "text/plain": [
       "Drawing 20 posterior samples:   0%|          | 0/20 [00:00<?, ?it/s]"
      ]
     },
     "metadata": {},
     "output_type": "display_data"
    },
    {
     "data": {
      "application/vnd.jupyter.widget-view+json": {
       "model_id": "b6c8b88d84e04a6bb3a1d263611f8d10",
       "version_major": 2,
       "version_minor": 0
      },
      "text/plain": [
       "Drawing 20 posterior samples:   0%|          | 0/20 [00:00<?, ?it/s]"
      ]
     },
     "metadata": {},
     "output_type": "display_data"
    },
    {
     "data": {
      "application/vnd.jupyter.widget-view+json": {
       "model_id": "067d40f3ff5e48338799b700ed23f355",
       "version_major": 2,
       "version_minor": 0
      },
      "text/plain": [
       "Drawing 20 posterior samples:   0%|          | 0/20 [00:00<?, ?it/s]"
      ]
     },
     "metadata": {},
     "output_type": "display_data"
    },
    {
     "data": {
      "application/vnd.jupyter.widget-view+json": {
       "model_id": "c1edefa4f2de4626b24718a03d109ab1",
       "version_major": 2,
       "version_minor": 0
      },
      "text/plain": [
       "Drawing 20 posterior samples:   0%|          | 0/20 [00:00<?, ?it/s]"
      ]
     },
     "metadata": {},
     "output_type": "display_data"
    },
    {
     "data": {
      "application/vnd.jupyter.widget-view+json": {
       "model_id": "78043138765147a39bcc495702c763a7",
       "version_major": 2,
       "version_minor": 0
      },
      "text/plain": [
       "Drawing 20 posterior samples:   0%|          | 0/20 [00:00<?, ?it/s]"
      ]
     },
     "metadata": {},
     "output_type": "display_data"
    },
    {
     "data": {
      "application/vnd.jupyter.widget-view+json": {
       "model_id": "d17dd915c88041af8f8491aec2b1cae1",
       "version_major": 2,
       "version_minor": 0
      },
      "text/plain": [
       "Drawing 20 posterior samples:   0%|          | 0/20 [00:00<?, ?it/s]"
      ]
     },
     "metadata": {},
     "output_type": "display_data"
    },
    {
     "data": {
      "application/vnd.jupyter.widget-view+json": {
       "model_id": "05032a1c57af4cd7b5c4289d9fecbee1",
       "version_major": 2,
       "version_minor": 0
      },
      "text/plain": [
       "Drawing 20 posterior samples:   0%|          | 0/20 [00:00<?, ?it/s]"
      ]
     },
     "metadata": {},
     "output_type": "display_data"
    },
    {
     "data": {
      "application/vnd.jupyter.widget-view+json": {
       "model_id": "4b3dd6c9bbce4db88a432ab3095fa54d",
       "version_major": 2,
       "version_minor": 0
      },
      "text/plain": [
       "Drawing 20 posterior samples:   0%|          | 0/20 [00:00<?, ?it/s]"
      ]
     },
     "metadata": {},
     "output_type": "display_data"
    },
    {
     "data": {
      "application/vnd.jupyter.widget-view+json": {
       "model_id": "1579572371624cc2a7da6ef0bfd024a3",
       "version_major": 2,
       "version_minor": 0
      },
      "text/plain": [
       "Drawing 20 posterior samples:   0%|          | 0/20 [00:00<?, ?it/s]"
      ]
     },
     "metadata": {},
     "output_type": "display_data"
    },
    {
     "data": {
      "application/vnd.jupyter.widget-view+json": {
       "model_id": "7c2bc17a06eb4b9e9c11bfc439abf8ad",
       "version_major": 2,
       "version_minor": 0
      },
      "text/plain": [
       "Drawing 20 posterior samples:   0%|          | 0/20 [00:00<?, ?it/s]"
      ]
     },
     "metadata": {},
     "output_type": "display_data"
    },
    {
     "data": {
      "application/vnd.jupyter.widget-view+json": {
       "model_id": "5c6e03d105b84862b3a2e616ab77e3ce",
       "version_major": 2,
       "version_minor": 0
      },
      "text/plain": [
       "Drawing 20 posterior samples:   0%|          | 0/20 [00:00<?, ?it/s]"
      ]
     },
     "metadata": {},
     "output_type": "display_data"
    },
    {
     "data": {
      "application/vnd.jupyter.widget-view+json": {
       "model_id": "4d49b5e2a8f54ac2a6b297e2000fe8b9",
       "version_major": 2,
       "version_minor": 0
      },
      "text/plain": [
       "Drawing 20 posterior samples:   0%|          | 0/20 [00:00<?, ?it/s]"
      ]
     },
     "metadata": {},
     "output_type": "display_data"
    },
    {
     "data": {
      "application/vnd.jupyter.widget-view+json": {
       "model_id": "154624684c8a41c7933b6c9f1696ec0f",
       "version_major": 2,
       "version_minor": 0
      },
      "text/plain": [
       "Drawing 20 posterior samples:   0%|          | 0/20 [00:00<?, ?it/s]"
      ]
     },
     "metadata": {},
     "output_type": "display_data"
    },
    {
     "data": {
      "application/vnd.jupyter.widget-view+json": {
       "model_id": "fabc87855c174788b9f60bcbe1ba110c",
       "version_major": 2,
       "version_minor": 0
      },
      "text/plain": [
       "Drawing 20 posterior samples:   0%|          | 0/20 [00:00<?, ?it/s]"
      ]
     },
     "metadata": {},
     "output_type": "display_data"
    },
    {
     "data": {
      "application/vnd.jupyter.widget-view+json": {
       "model_id": "b6c848f6ff8b4326a44961a7c90a266d",
       "version_major": 2,
       "version_minor": 0
      },
      "text/plain": [
       "Drawing 20 posterior samples:   0%|          | 0/20 [00:00<?, ?it/s]"
      ]
     },
     "metadata": {},
     "output_type": "display_data"
    },
    {
     "data": {
      "application/vnd.jupyter.widget-view+json": {
       "model_id": "804cc7f08d8b4f40bf3c48f7cc61aca8",
       "version_major": 2,
       "version_minor": 0
      },
      "text/plain": [
       "Drawing 20 posterior samples:   0%|          | 0/20 [00:00<?, ?it/s]"
      ]
     },
     "metadata": {},
     "output_type": "display_data"
    },
    {
     "data": {
      "application/vnd.jupyter.widget-view+json": {
       "model_id": "be3a9dbe946c401eb1b45de01554d719",
       "version_major": 2,
       "version_minor": 0
      },
      "text/plain": [
       "Drawing 20 posterior samples:   0%|          | 0/20 [00:00<?, ?it/s]"
      ]
     },
     "metadata": {},
     "output_type": "display_data"
    },
    {
     "data": {
      "application/vnd.jupyter.widget-view+json": {
       "model_id": "b9c0d7773f14475babfb43b7c4534f29",
       "version_major": 2,
       "version_minor": 0
      },
      "text/plain": [
       "Drawing 20 posterior samples:   0%|          | 0/20 [00:00<?, ?it/s]"
      ]
     },
     "metadata": {},
     "output_type": "display_data"
    },
    {
     "data": {
      "application/vnd.jupyter.widget-view+json": {
       "model_id": "499589ca65c84c08b4e92b36fdc20033",
       "version_major": 2,
       "version_minor": 0
      },
      "text/plain": [
       "Drawing 20 posterior samples:   0%|          | 0/20 [00:00<?, ?it/s]"
      ]
     },
     "metadata": {},
     "output_type": "display_data"
    },
    {
     "data": {
      "application/vnd.jupyter.widget-view+json": {
       "model_id": "605deaa5a2e64ce3a365e77f320d4ccc",
       "version_major": 2,
       "version_minor": 0
      },
      "text/plain": [
       "Drawing 20 posterior samples:   0%|          | 0/20 [00:00<?, ?it/s]"
      ]
     },
     "metadata": {},
     "output_type": "display_data"
    },
    {
     "data": {
      "application/vnd.jupyter.widget-view+json": {
       "model_id": "14000b1a4bbe40d494220553df1cfde7",
       "version_major": 2,
       "version_minor": 0
      },
      "text/plain": [
       "Drawing 20 posterior samples:   0%|          | 0/20 [00:00<?, ?it/s]"
      ]
     },
     "metadata": {},
     "output_type": "display_data"
    },
    {
     "data": {
      "application/vnd.jupyter.widget-view+json": {
       "model_id": "03dd6742d37846e39cf03101fa9f1c76",
       "version_major": 2,
       "version_minor": 0
      },
      "text/plain": [
       "Drawing 20 posterior samples:   0%|          | 0/20 [00:00<?, ?it/s]"
      ]
     },
     "metadata": {},
     "output_type": "display_data"
    },
    {
     "data": {
      "application/vnd.jupyter.widget-view+json": {
       "model_id": "fed617746d6446fba6b095499fd626bd",
       "version_major": 2,
       "version_minor": 0
      },
      "text/plain": [
       "Drawing 20 posterior samples:   0%|          | 0/20 [00:00<?, ?it/s]"
      ]
     },
     "metadata": {},
     "output_type": "display_data"
    },
    {
     "data": {
      "application/vnd.jupyter.widget-view+json": {
       "model_id": "3e80479f5f2a44a4beca110fbed05dd8",
       "version_major": 2,
       "version_minor": 0
      },
      "text/plain": [
       "Drawing 20 posterior samples:   0%|          | 0/20 [00:00<?, ?it/s]"
      ]
     },
     "metadata": {},
     "output_type": "display_data"
    },
    {
     "data": {
      "application/vnd.jupyter.widget-view+json": {
       "model_id": "df479d71bb0f43c29c2f828aa1faa63c",
       "version_major": 2,
       "version_minor": 0
      },
      "text/plain": [
       "Drawing 20 posterior samples:   0%|          | 0/20 [00:00<?, ?it/s]"
      ]
     },
     "metadata": {},
     "output_type": "display_data"
    },
    {
     "data": {
      "application/vnd.jupyter.widget-view+json": {
       "model_id": "6999f7106cf044228f1d2aa6ea90a7ab",
       "version_major": 2,
       "version_minor": 0
      },
      "text/plain": [
       "Drawing 20 posterior samples:   0%|          | 0/20 [00:00<?, ?it/s]"
      ]
     },
     "metadata": {},
     "output_type": "display_data"
    },
    {
     "data": {
      "application/vnd.jupyter.widget-view+json": {
       "model_id": "f9f350e915a147a583c4ae4d647fcd88",
       "version_major": 2,
       "version_minor": 0
      },
      "text/plain": [
       "Drawing 20 posterior samples:   0%|          | 0/20 [00:00<?, ?it/s]"
      ]
     },
     "metadata": {},
     "output_type": "display_data"
    },
    {
     "data": {
      "application/vnd.jupyter.widget-view+json": {
       "model_id": "75381c87517e45b39cef5b850d609bdb",
       "version_major": 2,
       "version_minor": 0
      },
      "text/plain": [
       "Drawing 20 posterior samples:   0%|          | 0/20 [00:00<?, ?it/s]"
      ]
     },
     "metadata": {},
     "output_type": "display_data"
    },
    {
     "data": {
      "application/vnd.jupyter.widget-view+json": {
       "model_id": "372bf7c6f03f47bc82ba762869fe4f11",
       "version_major": 2,
       "version_minor": 0
      },
      "text/plain": [
       "Drawing 20 posterior samples:   0%|          | 0/20 [00:00<?, ?it/s]"
      ]
     },
     "metadata": {},
     "output_type": "display_data"
    },
    {
     "data": {
      "application/vnd.jupyter.widget-view+json": {
       "model_id": "d635655afa8e401d97da755502293ebe",
       "version_major": 2,
       "version_minor": 0
      },
      "text/plain": [
       "Drawing 20 posterior samples:   0%|          | 0/20 [00:00<?, ?it/s]"
      ]
     },
     "metadata": {},
     "output_type": "display_data"
    },
    {
     "data": {
      "application/vnd.jupyter.widget-view+json": {
       "model_id": "b97aeb638aa74679af67d512cc82ded9",
       "version_major": 2,
       "version_minor": 0
      },
      "text/plain": [
       "Drawing 20 posterior samples:   0%|          | 0/20 [00:00<?, ?it/s]"
      ]
     },
     "metadata": {},
     "output_type": "display_data"
    },
    {
     "data": {
      "application/vnd.jupyter.widget-view+json": {
       "model_id": "f354352da6c245cbbb6146e234ca8aa3",
       "version_major": 2,
       "version_minor": 0
      },
      "text/plain": [
       "Drawing 20 posterior samples:   0%|          | 0/20 [00:00<?, ?it/s]"
      ]
     },
     "metadata": {},
     "output_type": "display_data"
    },
    {
     "data": {
      "application/vnd.jupyter.widget-view+json": {
       "model_id": "ea87a65c99a248f09e1ad173cd6ab257",
       "version_major": 2,
       "version_minor": 0
      },
      "text/plain": [
       "Drawing 20 posterior samples:   0%|          | 0/20 [00:00<?, ?it/s]"
      ]
     },
     "metadata": {},
     "output_type": "display_data"
    },
    {
     "data": {
      "application/vnd.jupyter.widget-view+json": {
       "model_id": "2f4022952d2d4742aeee060383bdd5b5",
       "version_major": 2,
       "version_minor": 0
      },
      "text/plain": [
       "Drawing 20 posterior samples:   0%|          | 0/20 [00:00<?, ?it/s]"
      ]
     },
     "metadata": {},
     "output_type": "display_data"
    },
    {
     "data": {
      "application/vnd.jupyter.widget-view+json": {
       "model_id": "b7e8e5a87f58405087a19376c3ff85cb",
       "version_major": 2,
       "version_minor": 0
      },
      "text/plain": [
       "Drawing 20 posterior samples:   0%|          | 0/20 [00:00<?, ?it/s]"
      ]
     },
     "metadata": {},
     "output_type": "display_data"
    },
    {
     "data": {
      "application/vnd.jupyter.widget-view+json": {
       "model_id": "9121a115071b48a0ab701fe23396a06b",
       "version_major": 2,
       "version_minor": 0
      },
      "text/plain": [
       "Drawing 20 posterior samples:   0%|          | 0/20 [00:00<?, ?it/s]"
      ]
     },
     "metadata": {},
     "output_type": "display_data"
    },
    {
     "data": {
      "application/vnd.jupyter.widget-view+json": {
       "model_id": "a951382ce4114f0a927feab5d3f629e4",
       "version_major": 2,
       "version_minor": 0
      },
      "text/plain": [
       "Drawing 20 posterior samples:   0%|          | 0/20 [00:00<?, ?it/s]"
      ]
     },
     "metadata": {},
     "output_type": "display_data"
    },
    {
     "data": {
      "application/vnd.jupyter.widget-view+json": {
       "model_id": "c3f17276d1704248bb7ff00c6c8557c8",
       "version_major": 2,
       "version_minor": 0
      },
      "text/plain": [
       "Drawing 20 posterior samples:   0%|          | 0/20 [00:00<?, ?it/s]"
      ]
     },
     "metadata": {},
     "output_type": "display_data"
    },
    {
     "data": {
      "application/vnd.jupyter.widget-view+json": {
       "model_id": "7fa9a65b6cb040999087ddc3d877bc6c",
       "version_major": 2,
       "version_minor": 0
      },
      "text/plain": [
       "Drawing 20 posterior samples:   0%|          | 0/20 [00:00<?, ?it/s]"
      ]
     },
     "metadata": {},
     "output_type": "display_data"
    },
    {
     "data": {
      "application/vnd.jupyter.widget-view+json": {
       "model_id": "c2132f14d16d490abc0c15231ceebf81",
       "version_major": 2,
       "version_minor": 0
      },
      "text/plain": [
       "Drawing 20 posterior samples:   0%|          | 0/20 [00:00<?, ?it/s]"
      ]
     },
     "metadata": {},
     "output_type": "display_data"
    },
    {
     "data": {
      "application/vnd.jupyter.widget-view+json": {
       "model_id": "7eb9f4564afc455c93cecdaae79fcd88",
       "version_major": 2,
       "version_minor": 0
      },
      "text/plain": [
       "Drawing 20 posterior samples:   0%|          | 0/20 [00:00<?, ?it/s]"
      ]
     },
     "metadata": {},
     "output_type": "display_data"
    },
    {
     "data": {
      "application/vnd.jupyter.widget-view+json": {
       "model_id": "0afc097dd90b4e4cb93c9fcc30348e7a",
       "version_major": 2,
       "version_minor": 0
      },
      "text/plain": [
       "Drawing 20 posterior samples:   0%|          | 0/20 [00:00<?, ?it/s]"
      ]
     },
     "metadata": {},
     "output_type": "display_data"
    },
    {
     "data": {
      "application/vnd.jupyter.widget-view+json": {
       "model_id": "b01c4b7e3fbd443cb96c43cf72797049",
       "version_major": 2,
       "version_minor": 0
      },
      "text/plain": [
       "Drawing 20 posterior samples:   0%|          | 0/20 [00:00<?, ?it/s]"
      ]
     },
     "metadata": {},
     "output_type": "display_data"
    },
    {
     "data": {
      "application/vnd.jupyter.widget-view+json": {
       "model_id": "08c3ca6f065f4ee9ac7c832d8947bbd9",
       "version_major": 2,
       "version_minor": 0
      },
      "text/plain": [
       "Drawing 20 posterior samples:   0%|          | 0/20 [00:00<?, ?it/s]"
      ]
     },
     "metadata": {},
     "output_type": "display_data"
    },
    {
     "data": {
      "application/vnd.jupyter.widget-view+json": {
       "model_id": "5d73d2daec9f4c988dadde9e6961193c",
       "version_major": 2,
       "version_minor": 0
      },
      "text/plain": [
       "Drawing 20 posterior samples:   0%|          | 0/20 [00:00<?, ?it/s]"
      ]
     },
     "metadata": {},
     "output_type": "display_data"
    },
    {
     "data": {
      "application/vnd.jupyter.widget-view+json": {
       "model_id": "9ca484461fb34b11b8916043e365f36f",
       "version_major": 2,
       "version_minor": 0
      },
      "text/plain": [
       "Drawing 20 posterior samples:   0%|          | 0/20 [00:00<?, ?it/s]"
      ]
     },
     "metadata": {},
     "output_type": "display_data"
    },
    {
     "data": {
      "application/vnd.jupyter.widget-view+json": {
       "model_id": "aa2e44f0ca774163aada6ee59961442f",
       "version_major": 2,
       "version_minor": 0
      },
      "text/plain": [
       "Drawing 20 posterior samples:   0%|          | 0/20 [00:00<?, ?it/s]"
      ]
     },
     "metadata": {},
     "output_type": "display_data"
    },
    {
     "data": {
      "application/vnd.jupyter.widget-view+json": {
       "model_id": "9244d6e31d964edbaa7fb76e3c5a93b4",
       "version_major": 2,
       "version_minor": 0
      },
      "text/plain": [
       "Drawing 20 posterior samples:   0%|          | 0/20 [00:00<?, ?it/s]"
      ]
     },
     "metadata": {},
     "output_type": "display_data"
    },
    {
     "data": {
      "application/vnd.jupyter.widget-view+json": {
       "model_id": "b8973df59af4481e8c11ee6c9f3880e8",
       "version_major": 2,
       "version_minor": 0
      },
      "text/plain": [
       "Drawing 20 posterior samples:   0%|          | 0/20 [00:00<?, ?it/s]"
      ]
     },
     "metadata": {},
     "output_type": "display_data"
    },
    {
     "data": {
      "application/vnd.jupyter.widget-view+json": {
       "model_id": "24d3e9dd72184a3394c8c3feab63abc4",
       "version_major": 2,
       "version_minor": 0
      },
      "text/plain": [
       "Drawing 20 posterior samples:   0%|          | 0/20 [00:00<?, ?it/s]"
      ]
     },
     "metadata": {},
     "output_type": "display_data"
    },
    {
     "data": {
      "application/vnd.jupyter.widget-view+json": {
       "model_id": "c9e319c427dc45bd9ace790ab0ae95e9",
       "version_major": 2,
       "version_minor": 0
      },
      "text/plain": [
       "Drawing 20 posterior samples:   0%|          | 0/20 [00:00<?, ?it/s]"
      ]
     },
     "metadata": {},
     "output_type": "display_data"
    },
    {
     "data": {
      "application/vnd.jupyter.widget-view+json": {
       "model_id": "07bde8bcbd25425992520400f6b01f78",
       "version_major": 2,
       "version_minor": 0
      },
      "text/plain": [
       "Drawing 20 posterior samples:   0%|          | 0/20 [00:00<?, ?it/s]"
      ]
     },
     "metadata": {},
     "output_type": "display_data"
    },
    {
     "data": {
      "application/vnd.jupyter.widget-view+json": {
       "model_id": "01ab5d11e3734391a0a83ed6f5478295",
       "version_major": 2,
       "version_minor": 0
      },
      "text/plain": [
       "Drawing 20 posterior samples:   0%|          | 0/20 [00:00<?, ?it/s]"
      ]
     },
     "metadata": {},
     "output_type": "display_data"
    },
    {
     "data": {
      "application/vnd.jupyter.widget-view+json": {
       "model_id": "1e321f045dde4fb0be96e92d6a33e772",
       "version_major": 2,
       "version_minor": 0
      },
      "text/plain": [
       "Drawing 20 posterior samples:   0%|          | 0/20 [00:00<?, ?it/s]"
      ]
     },
     "metadata": {},
     "output_type": "display_data"
    },
    {
     "data": {
      "application/vnd.jupyter.widget-view+json": {
       "model_id": "8c1960861ed04b8dbb6694575eac213b",
       "version_major": 2,
       "version_minor": 0
      },
      "text/plain": [
       "Drawing 20 posterior samples:   0%|          | 0/20 [00:00<?, ?it/s]"
      ]
     },
     "metadata": {},
     "output_type": "display_data"
    },
    {
     "data": {
      "application/vnd.jupyter.widget-view+json": {
       "model_id": "088c060f79d4404898b39b132b625c83",
       "version_major": 2,
       "version_minor": 0
      },
      "text/plain": [
       "Drawing 20 posterior samples:   0%|          | 0/20 [00:00<?, ?it/s]"
      ]
     },
     "metadata": {},
     "output_type": "display_data"
    },
    {
     "data": {
      "application/vnd.jupyter.widget-view+json": {
       "model_id": "4a6cf64661ae49cebe17227b6045db22",
       "version_major": 2,
       "version_minor": 0
      },
      "text/plain": [
       "Drawing 20 posterior samples:   0%|          | 0/20 [00:00<?, ?it/s]"
      ]
     },
     "metadata": {},
     "output_type": "display_data"
    },
    {
     "data": {
      "application/vnd.jupyter.widget-view+json": {
       "model_id": "50f106008604474382d57b6f9bb62fa2",
       "version_major": 2,
       "version_minor": 0
      },
      "text/plain": [
       "Drawing 20 posterior samples:   0%|          | 0/20 [00:00<?, ?it/s]"
      ]
     },
     "metadata": {},
     "output_type": "display_data"
    },
    {
     "data": {
      "application/vnd.jupyter.widget-view+json": {
       "model_id": "6dcf8e9bc666429f8187ec6008dc1b8a",
       "version_major": 2,
       "version_minor": 0
      },
      "text/plain": [
       "Drawing 20 posterior samples:   0%|          | 0/20 [00:00<?, ?it/s]"
      ]
     },
     "metadata": {},
     "output_type": "display_data"
    },
    {
     "data": {
      "application/vnd.jupyter.widget-view+json": {
       "model_id": "6737df23a56541d6a21f9c578b088e6f",
       "version_major": 2,
       "version_minor": 0
      },
      "text/plain": [
       "Drawing 20 posterior samples:   0%|          | 0/20 [00:00<?, ?it/s]"
      ]
     },
     "metadata": {},
     "output_type": "display_data"
    },
    {
     "data": {
      "application/vnd.jupyter.widget-view+json": {
       "model_id": "8d32e9190082473dbf14899629aab801",
       "version_major": 2,
       "version_minor": 0
      },
      "text/plain": [
       "Drawing 20 posterior samples:   0%|          | 0/20 [00:00<?, ?it/s]"
      ]
     },
     "metadata": {},
     "output_type": "display_data"
    },
    {
     "data": {
      "application/vnd.jupyter.widget-view+json": {
       "model_id": "511d3a0479b64bb7bb7bc07e7cabe72d",
       "version_major": 2,
       "version_minor": 0
      },
      "text/plain": [
       "Drawing 20 posterior samples:   0%|          | 0/20 [00:00<?, ?it/s]"
      ]
     },
     "metadata": {},
     "output_type": "display_data"
    },
    {
     "data": {
      "application/vnd.jupyter.widget-view+json": {
       "model_id": "d4b14e14424f43668b42b005e3c2e722",
       "version_major": 2,
       "version_minor": 0
      },
      "text/plain": [
       "Drawing 20 posterior samples:   0%|          | 0/20 [00:00<?, ?it/s]"
      ]
     },
     "metadata": {},
     "output_type": "display_data"
    },
    {
     "data": {
      "application/vnd.jupyter.widget-view+json": {
       "model_id": "c9cd3e997ae345d4b6d35a4ef616f54b",
       "version_major": 2,
       "version_minor": 0
      },
      "text/plain": [
       "Drawing 20 posterior samples:   0%|          | 0/20 [00:00<?, ?it/s]"
      ]
     },
     "metadata": {},
     "output_type": "display_data"
    },
    {
     "data": {
      "application/vnd.jupyter.widget-view+json": {
       "model_id": "f7f31f6666134222938f322588a02aab",
       "version_major": 2,
       "version_minor": 0
      },
      "text/plain": [
       "Drawing 20 posterior samples:   0%|          | 0/20 [00:00<?, ?it/s]"
      ]
     },
     "metadata": {},
     "output_type": "display_data"
    },
    {
     "data": {
      "application/vnd.jupyter.widget-view+json": {
       "model_id": "2d155a5f7cab43fd8be822fc5a32f36d",
       "version_major": 2,
       "version_minor": 0
      },
      "text/plain": [
       "Drawing 20 posterior samples:   0%|          | 0/20 [00:00<?, ?it/s]"
      ]
     },
     "metadata": {},
     "output_type": "display_data"
    },
    {
     "data": {
      "application/vnd.jupyter.widget-view+json": {
       "model_id": "e4829f4aa3f84d59b2630f4847559ce0",
       "version_major": 2,
       "version_minor": 0
      },
      "text/plain": [
       "Drawing 20 posterior samples:   0%|          | 0/20 [00:00<?, ?it/s]"
      ]
     },
     "metadata": {},
     "output_type": "display_data"
    },
    {
     "data": {
      "application/vnd.jupyter.widget-view+json": {
       "model_id": "8941113ad52f4e6487d34eea6c88aa53",
       "version_major": 2,
       "version_minor": 0
      },
      "text/plain": [
       "Drawing 20 posterior samples:   0%|          | 0/20 [00:00<?, ?it/s]"
      ]
     },
     "metadata": {},
     "output_type": "display_data"
    },
    {
     "data": {
      "application/vnd.jupyter.widget-view+json": {
       "model_id": "17fbf2a2865044cf837abc21273996a7",
       "version_major": 2,
       "version_minor": 0
      },
      "text/plain": [
       "Drawing 20 posterior samples:   0%|          | 0/20 [00:00<?, ?it/s]"
      ]
     },
     "metadata": {},
     "output_type": "display_data"
    },
    {
     "data": {
      "application/vnd.jupyter.widget-view+json": {
       "model_id": "21f0cc4b4b924c4ba38e07966b6637ae",
       "version_major": 2,
       "version_minor": 0
      },
      "text/plain": [
       "Drawing 20 posterior samples:   0%|          | 0/20 [00:00<?, ?it/s]"
      ]
     },
     "metadata": {},
     "output_type": "display_data"
    },
    {
     "data": {
      "application/vnd.jupyter.widget-view+json": {
       "model_id": "a9f89fd95d9f460e81657022b02eec98",
       "version_major": 2,
       "version_minor": 0
      },
      "text/plain": [
       "Drawing 20 posterior samples:   0%|          | 0/20 [00:00<?, ?it/s]"
      ]
     },
     "metadata": {},
     "output_type": "display_data"
    },
    {
     "data": {
      "application/vnd.jupyter.widget-view+json": {
       "model_id": "44f43ee0f4ac40d892117039c0e77b2c",
       "version_major": 2,
       "version_minor": 0
      },
      "text/plain": [
       "Drawing 20 posterior samples:   0%|          | 0/20 [00:00<?, ?it/s]"
      ]
     },
     "metadata": {},
     "output_type": "display_data"
    },
    {
     "data": {
      "application/vnd.jupyter.widget-view+json": {
       "model_id": "b038487d0bd14f95ad80d6fcad8fde9c",
       "version_major": 2,
       "version_minor": 0
      },
      "text/plain": [
       "Drawing 20 posterior samples:   0%|          | 0/20 [00:00<?, ?it/s]"
      ]
     },
     "metadata": {},
     "output_type": "display_data"
    },
    {
     "data": {
      "application/vnd.jupyter.widget-view+json": {
       "model_id": "ddef3e3abc3941979844476db3da3387",
       "version_major": 2,
       "version_minor": 0
      },
      "text/plain": [
       "Drawing 20 posterior samples:   0%|          | 0/20 [00:00<?, ?it/s]"
      ]
     },
     "metadata": {},
     "output_type": "display_data"
    },
    {
     "data": {
      "application/vnd.jupyter.widget-view+json": {
       "model_id": "d8791f47638d427fa9b7cdadd5ab9900",
       "version_major": 2,
       "version_minor": 0
      },
      "text/plain": [
       "Drawing 20 posterior samples:   0%|          | 0/20 [00:00<?, ?it/s]"
      ]
     },
     "metadata": {},
     "output_type": "display_data"
    },
    {
     "data": {
      "application/vnd.jupyter.widget-view+json": {
       "model_id": "1baf248a035b420ea231ba7d7e3619fa",
       "version_major": 2,
       "version_minor": 0
      },
      "text/plain": [
       "Drawing 20 posterior samples:   0%|          | 0/20 [00:00<?, ?it/s]"
      ]
     },
     "metadata": {},
     "output_type": "display_data"
    },
    {
     "data": {
      "application/vnd.jupyter.widget-view+json": {
       "model_id": "fb7565a87621476999d54c6b39f2d9cc",
       "version_major": 2,
       "version_minor": 0
      },
      "text/plain": [
       "Drawing 20 posterior samples:   0%|          | 0/20 [00:00<?, ?it/s]"
      ]
     },
     "metadata": {},
     "output_type": "display_data"
    },
    {
     "data": {
      "application/vnd.jupyter.widget-view+json": {
       "model_id": "11c0c79613a049cfb57af031dc715203",
       "version_major": 2,
       "version_minor": 0
      },
      "text/plain": [
       "Drawing 20 posterior samples:   0%|          | 0/20 [00:00<?, ?it/s]"
      ]
     },
     "metadata": {},
     "output_type": "display_data"
    },
    {
     "data": {
      "application/vnd.jupyter.widget-view+json": {
       "model_id": "8b5b43a4279b4051848ab71628cde8cc",
       "version_major": 2,
       "version_minor": 0
      },
      "text/plain": [
       "Drawing 20 posterior samples:   0%|          | 0/20 [00:00<?, ?it/s]"
      ]
     },
     "metadata": {},
     "output_type": "display_data"
    },
    {
     "data": {
      "application/vnd.jupyter.widget-view+json": {
       "model_id": "7257b3d8a8524faf9e79e9bcba18be3e",
       "version_major": 2,
       "version_minor": 0
      },
      "text/plain": [
       "Drawing 20 posterior samples:   0%|          | 0/20 [00:00<?, ?it/s]"
      ]
     },
     "metadata": {},
     "output_type": "display_data"
    },
    {
     "data": {
      "application/vnd.jupyter.widget-view+json": {
       "model_id": "de806f47d84f40419ab493c05c0c6679",
       "version_major": 2,
       "version_minor": 0
      },
      "text/plain": [
       "Drawing 20 posterior samples:   0%|          | 0/20 [00:00<?, ?it/s]"
      ]
     },
     "metadata": {},
     "output_type": "display_data"
    },
    {
     "data": {
      "application/vnd.jupyter.widget-view+json": {
       "model_id": "5c937446ec67486aaeaed273e4a08275",
       "version_major": 2,
       "version_minor": 0
      },
      "text/plain": [
       "Drawing 20 posterior samples:   0%|          | 0/20 [00:00<?, ?it/s]"
      ]
     },
     "metadata": {},
     "output_type": "display_data"
    },
    {
     "data": {
      "application/vnd.jupyter.widget-view+json": {
       "model_id": "cb2ec4c14db44576905fb6cb0d771229",
       "version_major": 2,
       "version_minor": 0
      },
      "text/plain": [
       "Drawing 20 posterior samples:   0%|          | 0/20 [00:00<?, ?it/s]"
      ]
     },
     "metadata": {},
     "output_type": "display_data"
    },
    {
     "data": {
      "application/vnd.jupyter.widget-view+json": {
       "model_id": "29f4904b3cfc49eb88c49617d3a63abc",
       "version_major": 2,
       "version_minor": 0
      },
      "text/plain": [
       "Drawing 20 posterior samples:   0%|          | 0/20 [00:00<?, ?it/s]"
      ]
     },
     "metadata": {},
     "output_type": "display_data"
    },
    {
     "data": {
      "application/vnd.jupyter.widget-view+json": {
       "model_id": "cc47908d6fc74f5c971a94bb1dab3460",
       "version_major": 2,
       "version_minor": 0
      },
      "text/plain": [
       "Drawing 20 posterior samples:   0%|          | 0/20 [00:00<?, ?it/s]"
      ]
     },
     "metadata": {},
     "output_type": "display_data"
    },
    {
     "data": {
      "application/vnd.jupyter.widget-view+json": {
       "model_id": "0f5d08aeb070481eaed045ad020a6e61",
       "version_major": 2,
       "version_minor": 0
      },
      "text/plain": [
       "Drawing 20 posterior samples:   0%|          | 0/20 [00:00<?, ?it/s]"
      ]
     },
     "metadata": {},
     "output_type": "display_data"
    },
    {
     "data": {
      "application/vnd.jupyter.widget-view+json": {
       "model_id": "931bc06705884bcfba6894fee4b70d71",
       "version_major": 2,
       "version_minor": 0
      },
      "text/plain": [
       "Drawing 20 posterior samples:   0%|          | 0/20 [00:00<?, ?it/s]"
      ]
     },
     "metadata": {},
     "output_type": "display_data"
    },
    {
     "data": {
      "application/vnd.jupyter.widget-view+json": {
       "model_id": "60bbe7f44ec94fb5b90a715e957f4d8f",
       "version_major": 2,
       "version_minor": 0
      },
      "text/plain": [
       "Drawing 20 posterior samples:   0%|          | 0/20 [00:00<?, ?it/s]"
      ]
     },
     "metadata": {},
     "output_type": "display_data"
    },
    {
     "data": {
      "application/vnd.jupyter.widget-view+json": {
       "model_id": "64419ebb8ca546c9b4218d1157926395",
       "version_major": 2,
       "version_minor": 0
      },
      "text/plain": [
       "Drawing 20 posterior samples:   0%|          | 0/20 [00:00<?, ?it/s]"
      ]
     },
     "metadata": {},
     "output_type": "display_data"
    },
    {
     "data": {
      "application/vnd.jupyter.widget-view+json": {
       "model_id": "2875f84b40ee4553abe42658fcdea714",
       "version_major": 2,
       "version_minor": 0
      },
      "text/plain": [
       "Drawing 20 posterior samples:   0%|          | 0/20 [00:00<?, ?it/s]"
      ]
     },
     "metadata": {},
     "output_type": "display_data"
    },
    {
     "data": {
      "application/vnd.jupyter.widget-view+json": {
       "model_id": "e7e26fdeba084a3a980d475b987f0d2e",
       "version_major": 2,
       "version_minor": 0
      },
      "text/plain": [
       "Drawing 20 posterior samples:   0%|          | 0/20 [00:00<?, ?it/s]"
      ]
     },
     "metadata": {},
     "output_type": "display_data"
    },
    {
     "data": {
      "application/vnd.jupyter.widget-view+json": {
       "model_id": "5acf65a98acd4aa7af6252c3bdc980cf",
       "version_major": 2,
       "version_minor": 0
      },
      "text/plain": [
       "Drawing 20 posterior samples:   0%|          | 0/20 [00:00<?, ?it/s]"
      ]
     },
     "metadata": {},
     "output_type": "display_data"
    },
    {
     "data": {
      "application/vnd.jupyter.widget-view+json": {
       "model_id": "293bb8bc28b843bdbfdbcf9559030a91",
       "version_major": 2,
       "version_minor": 0
      },
      "text/plain": [
       "Drawing 20 posterior samples:   0%|          | 0/20 [00:00<?, ?it/s]"
      ]
     },
     "metadata": {},
     "output_type": "display_data"
    },
    {
     "data": {
      "application/vnd.jupyter.widget-view+json": {
       "model_id": "6172753002894e24b29737921756cfc2",
       "version_major": 2,
       "version_minor": 0
      },
      "text/plain": [
       "Drawing 20 posterior samples:   0%|          | 0/20 [00:00<?, ?it/s]"
      ]
     },
     "metadata": {},
     "output_type": "display_data"
    },
    {
     "data": {
      "application/vnd.jupyter.widget-view+json": {
       "model_id": "e17fdc0004124ea48b7dd487dfbeb715",
       "version_major": 2,
       "version_minor": 0
      },
      "text/plain": [
       "Drawing 20 posterior samples:   0%|          | 0/20 [00:00<?, ?it/s]"
      ]
     },
     "metadata": {},
     "output_type": "display_data"
    },
    {
     "data": {
      "application/vnd.jupyter.widget-view+json": {
       "model_id": "cb8e29482625497dbeba8449f07e6631",
       "version_major": 2,
       "version_minor": 0
      },
      "text/plain": [
       "Drawing 20 posterior samples:   0%|          | 0/20 [00:00<?, ?it/s]"
      ]
     },
     "metadata": {},
     "output_type": "display_data"
    },
    {
     "data": {
      "application/vnd.jupyter.widget-view+json": {
       "model_id": "0d978e1d6361442da139fe35d6054687",
       "version_major": 2,
       "version_minor": 0
      },
      "text/plain": [
       "Drawing 20 posterior samples:   0%|          | 0/20 [00:00<?, ?it/s]"
      ]
     },
     "metadata": {},
     "output_type": "display_data"
    },
    {
     "data": {
      "application/vnd.jupyter.widget-view+json": {
       "model_id": "48fb1c71a4b94c578aa846dfacfc6822",
       "version_major": 2,
       "version_minor": 0
      },
      "text/plain": [
       "Drawing 20 posterior samples:   0%|          | 0/20 [00:00<?, ?it/s]"
      ]
     },
     "metadata": {},
     "output_type": "display_data"
    },
    {
     "data": {
      "application/vnd.jupyter.widget-view+json": {
       "model_id": "7f65c262afe445e5a88b3d6942c67364",
       "version_major": 2,
       "version_minor": 0
      },
      "text/plain": [
       "Drawing 20 posterior samples:   0%|          | 0/20 [00:00<?, ?it/s]"
      ]
     },
     "metadata": {},
     "output_type": "display_data"
    },
    {
     "data": {
      "application/vnd.jupyter.widget-view+json": {
       "model_id": "bf3a86554de240b08aa7cc825c4d4407",
       "version_major": 2,
       "version_minor": 0
      },
      "text/plain": [
       "Drawing 20 posterior samples:   0%|          | 0/20 [00:00<?, ?it/s]"
      ]
     },
     "metadata": {},
     "output_type": "display_data"
    },
    {
     "data": {
      "application/vnd.jupyter.widget-view+json": {
       "model_id": "b1e2ccca591c4e879647a329e7e5084c",
       "version_major": 2,
       "version_minor": 0
      },
      "text/plain": [
       "Drawing 20 posterior samples:   0%|          | 0/20 [00:00<?, ?it/s]"
      ]
     },
     "metadata": {},
     "output_type": "display_data"
    },
    {
     "data": {
      "application/vnd.jupyter.widget-view+json": {
       "model_id": "62a38b43dfa344ceb71590acad7c68cf",
       "version_major": 2,
       "version_minor": 0
      },
      "text/plain": [
       "Drawing 20 posterior samples:   0%|          | 0/20 [00:00<?, ?it/s]"
      ]
     },
     "metadata": {},
     "output_type": "display_data"
    },
    {
     "data": {
      "application/vnd.jupyter.widget-view+json": {
       "model_id": "ef7363e7246a48c39eaa1a074c581a6b",
       "version_major": 2,
       "version_minor": 0
      },
      "text/plain": [
       "Drawing 20 posterior samples:   0%|          | 0/20 [00:00<?, ?it/s]"
      ]
     },
     "metadata": {},
     "output_type": "display_data"
    },
    {
     "data": {
      "application/vnd.jupyter.widget-view+json": {
       "model_id": "bc136b2513a24c67bed119e03364b796",
       "version_major": 2,
       "version_minor": 0
      },
      "text/plain": [
       "Drawing 20 posterior samples:   0%|          | 0/20 [00:00<?, ?it/s]"
      ]
     },
     "metadata": {},
     "output_type": "display_data"
    },
    {
     "data": {
      "application/vnd.jupyter.widget-view+json": {
       "model_id": "a9198d6b5fee42db99778e7ccc444441",
       "version_major": 2,
       "version_minor": 0
      },
      "text/plain": [
       "Drawing 20 posterior samples:   0%|          | 0/20 [00:00<?, ?it/s]"
      ]
     },
     "metadata": {},
     "output_type": "display_data"
    },
    {
     "data": {
      "application/vnd.jupyter.widget-view+json": {
       "model_id": "612b78ec29a8495fa29d3c0fea76cb8f",
       "version_major": 2,
       "version_minor": 0
      },
      "text/plain": [
       "Drawing 20 posterior samples:   0%|          | 0/20 [00:00<?, ?it/s]"
      ]
     },
     "metadata": {},
     "output_type": "display_data"
    },
    {
     "data": {
      "application/vnd.jupyter.widget-view+json": {
       "model_id": "0bd8a94e90484499ba1d30d14b849062",
       "version_major": 2,
       "version_minor": 0
      },
      "text/plain": [
       "Drawing 20 posterior samples:   0%|          | 0/20 [00:00<?, ?it/s]"
      ]
     },
     "metadata": {},
     "output_type": "display_data"
    },
    {
     "data": {
      "application/vnd.jupyter.widget-view+json": {
       "model_id": "8ac4eb197dd34ed298f44c903daeeb07",
       "version_major": 2,
       "version_minor": 0
      },
      "text/plain": [
       "Drawing 20 posterior samples:   0%|          | 0/20 [00:00<?, ?it/s]"
      ]
     },
     "metadata": {},
     "output_type": "display_data"
    },
    {
     "data": {
      "application/vnd.jupyter.widget-view+json": {
       "model_id": "5f5751d0c96744a6b59cdca5b9f8f8a4",
       "version_major": 2,
       "version_minor": 0
      },
      "text/plain": [
       "Drawing 20 posterior samples:   0%|          | 0/20 [00:00<?, ?it/s]"
      ]
     },
     "metadata": {},
     "output_type": "display_data"
    },
    {
     "data": {
      "application/vnd.jupyter.widget-view+json": {
       "model_id": "ae10c57b03e5464b8c200595d3a21e14",
       "version_major": 2,
       "version_minor": 0
      },
      "text/plain": [
       "Drawing 20 posterior samples:   0%|          | 0/20 [00:00<?, ?it/s]"
      ]
     },
     "metadata": {},
     "output_type": "display_data"
    },
    {
     "data": {
      "application/vnd.jupyter.widget-view+json": {
       "model_id": "91e8fedcd6d6407bbd7a33d3113fe504",
       "version_major": 2,
       "version_minor": 0
      },
      "text/plain": [
       "Drawing 20 posterior samples:   0%|          | 0/20 [00:00<?, ?it/s]"
      ]
     },
     "metadata": {},
     "output_type": "display_data"
    },
    {
     "data": {
      "application/vnd.jupyter.widget-view+json": {
       "model_id": "d87f8a17f8084fb489b0dce7401a94dd",
       "version_major": 2,
       "version_minor": 0
      },
      "text/plain": [
       "Drawing 20 posterior samples:   0%|          | 0/20 [00:00<?, ?it/s]"
      ]
     },
     "metadata": {},
     "output_type": "display_data"
    },
    {
     "data": {
      "application/vnd.jupyter.widget-view+json": {
       "model_id": "13d6cfb189364b2ebdf473bb5590866e",
       "version_major": 2,
       "version_minor": 0
      },
      "text/plain": [
       "Drawing 20 posterior samples:   0%|          | 0/20 [00:00<?, ?it/s]"
      ]
     },
     "metadata": {},
     "output_type": "display_data"
    },
    {
     "data": {
      "application/vnd.jupyter.widget-view+json": {
       "model_id": "2629bdc785cc4ba7bf608f6a16638e73",
       "version_major": 2,
       "version_minor": 0
      },
      "text/plain": [
       "Drawing 20 posterior samples:   0%|          | 0/20 [00:00<?, ?it/s]"
      ]
     },
     "metadata": {},
     "output_type": "display_data"
    },
    {
     "data": {
      "application/vnd.jupyter.widget-view+json": {
       "model_id": "6b89e292f6714ce8bcd8219c9ac5df06",
       "version_major": 2,
       "version_minor": 0
      },
      "text/plain": [
       "Drawing 20 posterior samples:   0%|          | 0/20 [00:00<?, ?it/s]"
      ]
     },
     "metadata": {},
     "output_type": "display_data"
    },
    {
     "data": {
      "application/vnd.jupyter.widget-view+json": {
       "model_id": "8c6866c0298144e5ba7c05897b881bf9",
       "version_major": 2,
       "version_minor": 0
      },
      "text/plain": [
       "Drawing 20 posterior samples:   0%|          | 0/20 [00:00<?, ?it/s]"
      ]
     },
     "metadata": {},
     "output_type": "display_data"
    },
    {
     "data": {
      "application/vnd.jupyter.widget-view+json": {
       "model_id": "8c85ba1d1f4d46ab803a6b7c0acbc05f",
       "version_major": 2,
       "version_minor": 0
      },
      "text/plain": [
       "Drawing 20 posterior samples:   0%|          | 0/20 [00:00<?, ?it/s]"
      ]
     },
     "metadata": {},
     "output_type": "display_data"
    },
    {
     "data": {
      "application/vnd.jupyter.widget-view+json": {
       "model_id": "3fa09eb3b1534924a6eb6ab3c7607dc6",
       "version_major": 2,
       "version_minor": 0
      },
      "text/plain": [
       "Drawing 20 posterior samples:   0%|          | 0/20 [00:00<?, ?it/s]"
      ]
     },
     "metadata": {},
     "output_type": "display_data"
    },
    {
     "data": {
      "application/vnd.jupyter.widget-view+json": {
       "model_id": "3d6776a1906047a69478bd631eb284f3",
       "version_major": 2,
       "version_minor": 0
      },
      "text/plain": [
       "Drawing 20 posterior samples:   0%|          | 0/20 [00:00<?, ?it/s]"
      ]
     },
     "metadata": {},
     "output_type": "display_data"
    },
    {
     "data": {
      "application/vnd.jupyter.widget-view+json": {
       "model_id": "deac84bb79c6469dbf63ee7a7d8f96ad",
       "version_major": 2,
       "version_minor": 0
      },
      "text/plain": [
       "Drawing 20 posterior samples:   0%|          | 0/20 [00:00<?, ?it/s]"
      ]
     },
     "metadata": {},
     "output_type": "display_data"
    },
    {
     "data": {
      "application/vnd.jupyter.widget-view+json": {
       "model_id": "f48fbab1bbc74d019ec4b3331b10479d",
       "version_major": 2,
       "version_minor": 0
      },
      "text/plain": [
       "Drawing 20 posterior samples:   0%|          | 0/20 [00:00<?, ?it/s]"
      ]
     },
     "metadata": {},
     "output_type": "display_data"
    },
    {
     "data": {
      "application/vnd.jupyter.widget-view+json": {
       "model_id": "da0871bbca3e44d3b69d35c0a8b49cf3",
       "version_major": 2,
       "version_minor": 0
      },
      "text/plain": [
       "Drawing 20 posterior samples:   0%|          | 0/20 [00:00<?, ?it/s]"
      ]
     },
     "metadata": {},
     "output_type": "display_data"
    },
    {
     "data": {
      "application/vnd.jupyter.widget-view+json": {
       "model_id": "bd5e54004161472db48de9e46ac34a27",
       "version_major": 2,
       "version_minor": 0
      },
      "text/plain": [
       "Drawing 20 posterior samples:   0%|          | 0/20 [00:00<?, ?it/s]"
      ]
     },
     "metadata": {},
     "output_type": "display_data"
    },
    {
     "data": {
      "application/vnd.jupyter.widget-view+json": {
       "model_id": "779917c26cae4abbb4c7a2d7ac8b35e5",
       "version_major": 2,
       "version_minor": 0
      },
      "text/plain": [
       "Drawing 20 posterior samples:   0%|          | 0/20 [00:00<?, ?it/s]"
      ]
     },
     "metadata": {},
     "output_type": "display_data"
    },
    {
     "data": {
      "application/vnd.jupyter.widget-view+json": {
       "model_id": "92fa32acaa184602b3af07fe18e8b4d1",
       "version_major": 2,
       "version_minor": 0
      },
      "text/plain": [
       "Drawing 20 posterior samples:   0%|          | 0/20 [00:00<?, ?it/s]"
      ]
     },
     "metadata": {},
     "output_type": "display_data"
    },
    {
     "data": {
      "application/vnd.jupyter.widget-view+json": {
       "model_id": "d4c7512f2e9648e281e7e74061d4f43c",
       "version_major": 2,
       "version_minor": 0
      },
      "text/plain": [
       "Drawing 20 posterior samples:   0%|          | 0/20 [00:00<?, ?it/s]"
      ]
     },
     "metadata": {},
     "output_type": "display_data"
    },
    {
     "data": {
      "application/vnd.jupyter.widget-view+json": {
       "model_id": "1a048184deed4326974b6f0c314ea63d",
       "version_major": 2,
       "version_minor": 0
      },
      "text/plain": [
       "Drawing 20 posterior samples:   0%|          | 0/20 [00:00<?, ?it/s]"
      ]
     },
     "metadata": {},
     "output_type": "display_data"
    },
    {
     "data": {
      "application/vnd.jupyter.widget-view+json": {
       "model_id": "08853ed1a0c64d58a3f859c6c90637a6",
       "version_major": 2,
       "version_minor": 0
      },
      "text/plain": [
       "Drawing 20 posterior samples:   0%|          | 0/20 [00:00<?, ?it/s]"
      ]
     },
     "metadata": {},
     "output_type": "display_data"
    },
    {
     "data": {
      "application/vnd.jupyter.widget-view+json": {
       "model_id": "51315503a0aa43a3ac4b7f712adcd28c",
       "version_major": 2,
       "version_minor": 0
      },
      "text/plain": [
       "Drawing 20 posterior samples:   0%|          | 0/20 [00:00<?, ?it/s]"
      ]
     },
     "metadata": {},
     "output_type": "display_data"
    },
    {
     "data": {
      "application/vnd.jupyter.widget-view+json": {
       "model_id": "db8900ec79d74932b48db67fef1c034c",
       "version_major": 2,
       "version_minor": 0
      },
      "text/plain": [
       "Drawing 20 posterior samples:   0%|          | 0/20 [00:00<?, ?it/s]"
      ]
     },
     "metadata": {},
     "output_type": "display_data"
    },
    {
     "data": {
      "application/vnd.jupyter.widget-view+json": {
       "model_id": "4b7659349a12408ba9b2d52d7b9b1306",
       "version_major": 2,
       "version_minor": 0
      },
      "text/plain": [
       "Drawing 20 posterior samples:   0%|          | 0/20 [00:00<?, ?it/s]"
      ]
     },
     "metadata": {},
     "output_type": "display_data"
    },
    {
     "data": {
      "application/vnd.jupyter.widget-view+json": {
       "model_id": "37ab5cff245640468f4469667173631b",
       "version_major": 2,
       "version_minor": 0
      },
      "text/plain": [
       "Drawing 20 posterior samples:   0%|          | 0/20 [00:00<?, ?it/s]"
      ]
     },
     "metadata": {},
     "output_type": "display_data"
    },
    {
     "data": {
      "application/vnd.jupyter.widget-view+json": {
       "model_id": "e8bc77b56443453eab7ef2a20eb94c8b",
       "version_major": 2,
       "version_minor": 0
      },
      "text/plain": [
       "Drawing 20 posterior samples:   0%|          | 0/20 [00:00<?, ?it/s]"
      ]
     },
     "metadata": {},
     "output_type": "display_data"
    },
    {
     "data": {
      "application/vnd.jupyter.widget-view+json": {
       "model_id": "cad5f22d241843dc963e7367953b804d",
       "version_major": 2,
       "version_minor": 0
      },
      "text/plain": [
       "Drawing 20 posterior samples:   0%|          | 0/20 [00:00<?, ?it/s]"
      ]
     },
     "metadata": {},
     "output_type": "display_data"
    },
    {
     "data": {
      "application/vnd.jupyter.widget-view+json": {
       "model_id": "d9404b423d4d47088a070cbc4d23655a",
       "version_major": 2,
       "version_minor": 0
      },
      "text/plain": [
       "Drawing 20 posterior samples:   0%|          | 0/20 [00:00<?, ?it/s]"
      ]
     },
     "metadata": {},
     "output_type": "display_data"
    },
    {
     "data": {
      "application/vnd.jupyter.widget-view+json": {
       "model_id": "6b6e3136594141ae8a7149ca2c7a36cc",
       "version_major": 2,
       "version_minor": 0
      },
      "text/plain": [
       "Drawing 20 posterior samples:   0%|          | 0/20 [00:00<?, ?it/s]"
      ]
     },
     "metadata": {},
     "output_type": "display_data"
    },
    {
     "data": {
      "application/vnd.jupyter.widget-view+json": {
       "model_id": "24aa2b64e9de40c993c5de134912695e",
       "version_major": 2,
       "version_minor": 0
      },
      "text/plain": [
       "Drawing 20 posterior samples:   0%|          | 0/20 [00:00<?, ?it/s]"
      ]
     },
     "metadata": {},
     "output_type": "display_data"
    },
    {
     "data": {
      "application/vnd.jupyter.widget-view+json": {
       "model_id": "1a057ee00f9d4b488c3a110e79e20f3c",
       "version_major": 2,
       "version_minor": 0
      },
      "text/plain": [
       "Drawing 20 posterior samples:   0%|          | 0/20 [00:00<?, ?it/s]"
      ]
     },
     "metadata": {},
     "output_type": "display_data"
    },
    {
     "data": {
      "application/vnd.jupyter.widget-view+json": {
       "model_id": "b5c0329df5d3422387aff8313337b353",
       "version_major": 2,
       "version_minor": 0
      },
      "text/plain": [
       "Drawing 20 posterior samples:   0%|          | 0/20 [00:00<?, ?it/s]"
      ]
     },
     "metadata": {},
     "output_type": "display_data"
    },
    {
     "data": {
      "application/vnd.jupyter.widget-view+json": {
       "model_id": "de932991fbd042658e236463847064d8",
       "version_major": 2,
       "version_minor": 0
      },
      "text/plain": [
       "Drawing 20 posterior samples:   0%|          | 0/20 [00:00<?, ?it/s]"
      ]
     },
     "metadata": {},
     "output_type": "display_data"
    },
    {
     "data": {
      "application/vnd.jupyter.widget-view+json": {
       "model_id": "3256b6ee984b47059b4848650f56c6d4",
       "version_major": 2,
       "version_minor": 0
      },
      "text/plain": [
       "Drawing 20 posterior samples:   0%|          | 0/20 [00:00<?, ?it/s]"
      ]
     },
     "metadata": {},
     "output_type": "display_data"
    },
    {
     "data": {
      "application/vnd.jupyter.widget-view+json": {
       "model_id": "04d14a1b93bd49a89cc081388a1dabe6",
       "version_major": 2,
       "version_minor": 0
      },
      "text/plain": [
       "Drawing 20 posterior samples:   0%|          | 0/20 [00:00<?, ?it/s]"
      ]
     },
     "metadata": {},
     "output_type": "display_data"
    },
    {
     "data": {
      "application/vnd.jupyter.widget-view+json": {
       "model_id": "192080985c504f7296ccb4afbe406de0",
       "version_major": 2,
       "version_minor": 0
      },
      "text/plain": [
       "Drawing 20 posterior samples:   0%|          | 0/20 [00:00<?, ?it/s]"
      ]
     },
     "metadata": {},
     "output_type": "display_data"
    },
    {
     "data": {
      "application/vnd.jupyter.widget-view+json": {
       "model_id": "42ea80358ab6488ba46fda4ab0492c3c",
       "version_major": 2,
       "version_minor": 0
      },
      "text/plain": [
       "Drawing 20 posterior samples:   0%|          | 0/20 [00:00<?, ?it/s]"
      ]
     },
     "metadata": {},
     "output_type": "display_data"
    },
    {
     "data": {
      "application/vnd.jupyter.widget-view+json": {
       "model_id": "326b615dcf0943d687551b7985d77f63",
       "version_major": 2,
       "version_minor": 0
      },
      "text/plain": [
       "Drawing 20 posterior samples:   0%|          | 0/20 [00:00<?, ?it/s]"
      ]
     },
     "metadata": {},
     "output_type": "display_data"
    },
    {
     "data": {
      "application/vnd.jupyter.widget-view+json": {
       "model_id": "15442856a4fe4917a9571a94bcf18e79",
       "version_major": 2,
       "version_minor": 0
      },
      "text/plain": [
       "Drawing 20 posterior samples:   0%|          | 0/20 [00:00<?, ?it/s]"
      ]
     },
     "metadata": {},
     "output_type": "display_data"
    },
    {
     "data": {
      "application/vnd.jupyter.widget-view+json": {
       "model_id": "851e581270774717ad9088f97baec6ec",
       "version_major": 2,
       "version_minor": 0
      },
      "text/plain": [
       "Drawing 20 posterior samples:   0%|          | 0/20 [00:00<?, ?it/s]"
      ]
     },
     "metadata": {},
     "output_type": "display_data"
    },
    {
     "data": {
      "application/vnd.jupyter.widget-view+json": {
       "model_id": "e84f009a533f456bb992dc33267cc3db",
       "version_major": 2,
       "version_minor": 0
      },
      "text/plain": [
       "Drawing 20 posterior samples:   0%|          | 0/20 [00:00<?, ?it/s]"
      ]
     },
     "metadata": {},
     "output_type": "display_data"
    },
    {
     "data": {
      "application/vnd.jupyter.widget-view+json": {
       "model_id": "103d78c37ad84dc68487b1bf58452fa1",
       "version_major": 2,
       "version_minor": 0
      },
      "text/plain": [
       "Drawing 20 posterior samples:   0%|          | 0/20 [00:00<?, ?it/s]"
      ]
     },
     "metadata": {},
     "output_type": "display_data"
    },
    {
     "data": {
      "application/vnd.jupyter.widget-view+json": {
       "model_id": "0ba5b6c2ed80443e9fd38772290f470a",
       "version_major": 2,
       "version_minor": 0
      },
      "text/plain": [
       "Drawing 20 posterior samples:   0%|          | 0/20 [00:00<?, ?it/s]"
      ]
     },
     "metadata": {},
     "output_type": "display_data"
    },
    {
     "data": {
      "application/vnd.jupyter.widget-view+json": {
       "model_id": "23764a263f44452e8924b5a8306d6dd9",
       "version_major": 2,
       "version_minor": 0
      },
      "text/plain": [
       "Drawing 20 posterior samples:   0%|          | 0/20 [00:00<?, ?it/s]"
      ]
     },
     "metadata": {},
     "output_type": "display_data"
    },
    {
     "data": {
      "application/vnd.jupyter.widget-view+json": {
       "model_id": "e7b031350c434cc4963feba2e13e6251",
       "version_major": 2,
       "version_minor": 0
      },
      "text/plain": [
       "Drawing 20 posterior samples:   0%|          | 0/20 [00:00<?, ?it/s]"
      ]
     },
     "metadata": {},
     "output_type": "display_data"
    },
    {
     "data": {
      "application/vnd.jupyter.widget-view+json": {
       "model_id": "1e387a5010054fa1849048a70d36724c",
       "version_major": 2,
       "version_minor": 0
      },
      "text/plain": [
       "Drawing 20 posterior samples:   0%|          | 0/20 [00:00<?, ?it/s]"
      ]
     },
     "metadata": {},
     "output_type": "display_data"
    },
    {
     "data": {
      "application/vnd.jupyter.widget-view+json": {
       "model_id": "b724d184cb2e401d8517c1a8e8563f93",
       "version_major": 2,
       "version_minor": 0
      },
      "text/plain": [
       "Drawing 20 posterior samples:   0%|          | 0/20 [00:00<?, ?it/s]"
      ]
     },
     "metadata": {},
     "output_type": "display_data"
    },
    {
     "data": {
      "application/vnd.jupyter.widget-view+json": {
       "model_id": "e43d5e529b4145c5b6a081fe7b08aca1",
       "version_major": 2,
       "version_minor": 0
      },
      "text/plain": [
       "Drawing 20 posterior samples:   0%|          | 0/20 [00:00<?, ?it/s]"
      ]
     },
     "metadata": {},
     "output_type": "display_data"
    },
    {
     "data": {
      "application/vnd.jupyter.widget-view+json": {
       "model_id": "c4061424abf94f8eb03ac259b91608f4",
       "version_major": 2,
       "version_minor": 0
      },
      "text/plain": [
       "Drawing 20 posterior samples:   0%|          | 0/20 [00:00<?, ?it/s]"
      ]
     },
     "metadata": {},
     "output_type": "display_data"
    },
    {
     "data": {
      "application/vnd.jupyter.widget-view+json": {
       "model_id": "f85e15c8d0d346b9b2481a8b4b7cc1e6",
       "version_major": 2,
       "version_minor": 0
      },
      "text/plain": [
       "Drawing 20 posterior samples:   0%|          | 0/20 [00:00<?, ?it/s]"
      ]
     },
     "metadata": {},
     "output_type": "display_data"
    },
    {
     "data": {
      "application/vnd.jupyter.widget-view+json": {
       "model_id": "175dcba023b34db2bc3930ddf88c298e",
       "version_major": 2,
       "version_minor": 0
      },
      "text/plain": [
       "Drawing 20 posterior samples:   0%|          | 0/20 [00:00<?, ?it/s]"
      ]
     },
     "metadata": {},
     "output_type": "display_data"
    },
    {
     "data": {
      "application/vnd.jupyter.widget-view+json": {
       "model_id": "8e88618760694642a74f868ebe75c286",
       "version_major": 2,
       "version_minor": 0
      },
      "text/plain": [
       "Drawing 20 posterior samples:   0%|          | 0/20 [00:00<?, ?it/s]"
      ]
     },
     "metadata": {},
     "output_type": "display_data"
    },
    {
     "data": {
      "application/vnd.jupyter.widget-view+json": {
       "model_id": "9d3ea0cdd8d54357b041e777c08dfa70",
       "version_major": 2,
       "version_minor": 0
      },
      "text/plain": [
       "Drawing 20 posterior samples:   0%|          | 0/20 [00:00<?, ?it/s]"
      ]
     },
     "metadata": {},
     "output_type": "display_data"
    },
    {
     "data": {
      "application/vnd.jupyter.widget-view+json": {
       "model_id": "56c833328bdb459fabe83afcbcd76b82",
       "version_major": 2,
       "version_minor": 0
      },
      "text/plain": [
       "Drawing 20 posterior samples:   0%|          | 0/20 [00:00<?, ?it/s]"
      ]
     },
     "metadata": {},
     "output_type": "display_data"
    },
    {
     "data": {
      "application/vnd.jupyter.widget-view+json": {
       "model_id": "bf676cbb99034a06b1a577bad6bd2749",
       "version_major": 2,
       "version_minor": 0
      },
      "text/plain": [
       "Drawing 20 posterior samples:   0%|          | 0/20 [00:00<?, ?it/s]"
      ]
     },
     "metadata": {},
     "output_type": "display_data"
    },
    {
     "data": {
      "application/vnd.jupyter.widget-view+json": {
       "model_id": "8ab460ec66e941ecb597c5cd6d2ac2fb",
       "version_major": 2,
       "version_minor": 0
      },
      "text/plain": [
       "Drawing 20 posterior samples:   0%|          | 0/20 [00:00<?, ?it/s]"
      ]
     },
     "metadata": {},
     "output_type": "display_data"
    },
    {
     "data": {
      "application/vnd.jupyter.widget-view+json": {
       "model_id": "730c367a0dfe48dab19ec9829fce6067",
       "version_major": 2,
       "version_minor": 0
      },
      "text/plain": [
       "Drawing 20 posterior samples:   0%|          | 0/20 [00:00<?, ?it/s]"
      ]
     },
     "metadata": {},
     "output_type": "display_data"
    },
    {
     "data": {
      "application/vnd.jupyter.widget-view+json": {
       "model_id": "fe41a89d452d44798d1456a128a1539d",
       "version_major": 2,
       "version_minor": 0
      },
      "text/plain": [
       "Drawing 20 posterior samples:   0%|          | 0/20 [00:00<?, ?it/s]"
      ]
     },
     "metadata": {},
     "output_type": "display_data"
    },
    {
     "data": {
      "application/vnd.jupyter.widget-view+json": {
       "model_id": "69b151668e244cae8363a39fed0bea7e",
       "version_major": 2,
       "version_minor": 0
      },
      "text/plain": [
       "Drawing 20 posterior samples:   0%|          | 0/20 [00:00<?, ?it/s]"
      ]
     },
     "metadata": {},
     "output_type": "display_data"
    },
    {
     "data": {
      "application/vnd.jupyter.widget-view+json": {
       "model_id": "927061082c144646a70037ce5d7e4e98",
       "version_major": 2,
       "version_minor": 0
      },
      "text/plain": [
       "Drawing 20 posterior samples:   0%|          | 0/20 [00:00<?, ?it/s]"
      ]
     },
     "metadata": {},
     "output_type": "display_data"
    },
    {
     "data": {
      "application/vnd.jupyter.widget-view+json": {
       "model_id": "ffb0af2adfb4465b910f46a5c24c7a8f",
       "version_major": 2,
       "version_minor": 0
      },
      "text/plain": [
       "Drawing 20 posterior samples:   0%|          | 0/20 [00:00<?, ?it/s]"
      ]
     },
     "metadata": {},
     "output_type": "display_data"
    },
    {
     "data": {
      "application/vnd.jupyter.widget-view+json": {
       "model_id": "dca4e7bf17fc4a5fbaf991ca19183d8e",
       "version_major": 2,
       "version_minor": 0
      },
      "text/plain": [
       "Drawing 20 posterior samples:   0%|          | 0/20 [00:00<?, ?it/s]"
      ]
     },
     "metadata": {},
     "output_type": "display_data"
    },
    {
     "data": {
      "application/vnd.jupyter.widget-view+json": {
       "model_id": "149f27f187c140a2a1af2ffde8b206ca",
       "version_major": 2,
       "version_minor": 0
      },
      "text/plain": [
       "Drawing 20 posterior samples:   0%|          | 0/20 [00:00<?, ?it/s]"
      ]
     },
     "metadata": {},
     "output_type": "display_data"
    },
    {
     "data": {
      "application/vnd.jupyter.widget-view+json": {
       "model_id": "180a904376a64830b5c6c7fd225aba41",
       "version_major": 2,
       "version_minor": 0
      },
      "text/plain": [
       "Drawing 20 posterior samples:   0%|          | 0/20 [00:00<?, ?it/s]"
      ]
     },
     "metadata": {},
     "output_type": "display_data"
    },
    {
     "data": {
      "application/vnd.jupyter.widget-view+json": {
       "model_id": "adf8ac0346ae4481ad2c095210c58eb7",
       "version_major": 2,
       "version_minor": 0
      },
      "text/plain": [
       "Drawing 20 posterior samples:   0%|          | 0/20 [00:00<?, ?it/s]"
      ]
     },
     "metadata": {},
     "output_type": "display_data"
    },
    {
     "data": {
      "application/vnd.jupyter.widget-view+json": {
       "model_id": "f2c9bad42e6e4bd8a5198a5af85141b6",
       "version_major": 2,
       "version_minor": 0
      },
      "text/plain": [
       "Drawing 20 posterior samples:   0%|          | 0/20 [00:00<?, ?it/s]"
      ]
     },
     "metadata": {},
     "output_type": "display_data"
    },
    {
     "data": {
      "application/vnd.jupyter.widget-view+json": {
       "model_id": "b56cc655a39e4028a344c100d699776a",
       "version_major": 2,
       "version_minor": 0
      },
      "text/plain": [
       "Drawing 20 posterior samples:   0%|          | 0/20 [00:00<?, ?it/s]"
      ]
     },
     "metadata": {},
     "output_type": "display_data"
    },
    {
     "data": {
      "application/vnd.jupyter.widget-view+json": {
       "model_id": "f7892b03c6364f25af8f0f49b60f8d63",
       "version_major": 2,
       "version_minor": 0
      },
      "text/plain": [
       "Drawing 20 posterior samples:   0%|          | 0/20 [00:00<?, ?it/s]"
      ]
     },
     "metadata": {},
     "output_type": "display_data"
    },
    {
     "data": {
      "application/vnd.jupyter.widget-view+json": {
       "model_id": "a84f47919a254f6f9e71a566b1ed2572",
       "version_major": 2,
       "version_minor": 0
      },
      "text/plain": [
       "Drawing 20 posterior samples:   0%|          | 0/20 [00:00<?, ?it/s]"
      ]
     },
     "metadata": {},
     "output_type": "display_data"
    },
    {
     "data": {
      "application/vnd.jupyter.widget-view+json": {
       "model_id": "e4c2e2c23c3b47c087a81a4ad9c86f6a",
       "version_major": 2,
       "version_minor": 0
      },
      "text/plain": [
       "Drawing 20 posterior samples:   0%|          | 0/20 [00:00<?, ?it/s]"
      ]
     },
     "metadata": {},
     "output_type": "display_data"
    },
    {
     "data": {
      "application/vnd.jupyter.widget-view+json": {
       "model_id": "4a0bf26fa55c44dbb5e6a0026791abd6",
       "version_major": 2,
       "version_minor": 0
      },
      "text/plain": [
       "Drawing 20 posterior samples:   0%|          | 0/20 [00:00<?, ?it/s]"
      ]
     },
     "metadata": {},
     "output_type": "display_data"
    },
    {
     "data": {
      "application/vnd.jupyter.widget-view+json": {
       "model_id": "ca4abc4968be4f43933070474f178674",
       "version_major": 2,
       "version_minor": 0
      },
      "text/plain": [
       "Drawing 20 posterior samples:   0%|          | 0/20 [00:00<?, ?it/s]"
      ]
     },
     "metadata": {},
     "output_type": "display_data"
    },
    {
     "data": {
      "application/vnd.jupyter.widget-view+json": {
       "model_id": "13c033bd673f40fda5c58d6067443a3c",
       "version_major": 2,
       "version_minor": 0
      },
      "text/plain": [
       "Drawing 20 posterior samples:   0%|          | 0/20 [00:00<?, ?it/s]"
      ]
     },
     "metadata": {},
     "output_type": "display_data"
    },
    {
     "data": {
      "application/vnd.jupyter.widget-view+json": {
       "model_id": "ebeb99a3256a410abd8de4d9eff41e23",
       "version_major": 2,
       "version_minor": 0
      },
      "text/plain": [
       "Drawing 20 posterior samples:   0%|          | 0/20 [00:00<?, ?it/s]"
      ]
     },
     "metadata": {},
     "output_type": "display_data"
    },
    {
     "data": {
      "application/vnd.jupyter.widget-view+json": {
       "model_id": "a687c91baae643ef90902bcdae407e56",
       "version_major": 2,
       "version_minor": 0
      },
      "text/plain": [
       "Drawing 20 posterior samples:   0%|          | 0/20 [00:00<?, ?it/s]"
      ]
     },
     "metadata": {},
     "output_type": "display_data"
    },
    {
     "data": {
      "application/vnd.jupyter.widget-view+json": {
       "model_id": "0cdbf3744a584f109c211e8f0ec8cc92",
       "version_major": 2,
       "version_minor": 0
      },
      "text/plain": [
       "Drawing 20 posterior samples:   0%|          | 0/20 [00:00<?, ?it/s]"
      ]
     },
     "metadata": {},
     "output_type": "display_data"
    },
    {
     "data": {
      "application/vnd.jupyter.widget-view+json": {
       "model_id": "40f77596ab844d1cb53ee26a226a2cf7",
       "version_major": 2,
       "version_minor": 0
      },
      "text/plain": [
       "Drawing 20 posterior samples:   0%|          | 0/20 [00:00<?, ?it/s]"
      ]
     },
     "metadata": {},
     "output_type": "display_data"
    },
    {
     "data": {
      "application/vnd.jupyter.widget-view+json": {
       "model_id": "fdd78e01b6d74f5bb4831b03a75ad369",
       "version_major": 2,
       "version_minor": 0
      },
      "text/plain": [
       "Drawing 20 posterior samples:   0%|          | 0/20 [00:00<?, ?it/s]"
      ]
     },
     "metadata": {},
     "output_type": "display_data"
    },
    {
     "data": {
      "application/vnd.jupyter.widget-view+json": {
       "model_id": "fdd39e94c8ab416eaafdd5e55147fc17",
       "version_major": 2,
       "version_minor": 0
      },
      "text/plain": [
       "Drawing 20 posterior samples:   0%|          | 0/20 [00:00<?, ?it/s]"
      ]
     },
     "metadata": {},
     "output_type": "display_data"
    },
    {
     "data": {
      "application/vnd.jupyter.widget-view+json": {
       "model_id": "56316063f1f843c9a7c7eaa698e0f4df",
       "version_major": 2,
       "version_minor": 0
      },
      "text/plain": [
       "Drawing 20 posterior samples:   0%|          | 0/20 [00:00<?, ?it/s]"
      ]
     },
     "metadata": {},
     "output_type": "display_data"
    },
    {
     "data": {
      "application/vnd.jupyter.widget-view+json": {
       "model_id": "e2981ed7bfa946649549b553dbbdf5b1",
       "version_major": 2,
       "version_minor": 0
      },
      "text/plain": [
       "Drawing 20 posterior samples:   0%|          | 0/20 [00:00<?, ?it/s]"
      ]
     },
     "metadata": {},
     "output_type": "display_data"
    },
    {
     "data": {
      "application/vnd.jupyter.widget-view+json": {
       "model_id": "6f53f7e198c44aef8b493ec1a0ad7571",
       "version_major": 2,
       "version_minor": 0
      },
      "text/plain": [
       "Drawing 20 posterior samples:   0%|          | 0/20 [00:00<?, ?it/s]"
      ]
     },
     "metadata": {},
     "output_type": "display_data"
    },
    {
     "data": {
      "application/vnd.jupyter.widget-view+json": {
       "model_id": "2f72b1b3b0234f7aa0a7ac5809ea089a",
       "version_major": 2,
       "version_minor": 0
      },
      "text/plain": [
       "Drawing 20 posterior samples:   0%|          | 0/20 [00:00<?, ?it/s]"
      ]
     },
     "metadata": {},
     "output_type": "display_data"
    },
    {
     "data": {
      "application/vnd.jupyter.widget-view+json": {
       "model_id": "0a72077785c7487097928acc5ab7e211",
       "version_major": 2,
       "version_minor": 0
      },
      "text/plain": [
       "Drawing 20 posterior samples:   0%|          | 0/20 [00:00<?, ?it/s]"
      ]
     },
     "metadata": {},
     "output_type": "display_data"
    },
    {
     "data": {
      "application/vnd.jupyter.widget-view+json": {
       "model_id": "a77413b396e3409f881857a8f5f512da",
       "version_major": 2,
       "version_minor": 0
      },
      "text/plain": [
       "Drawing 20 posterior samples:   0%|          | 0/20 [00:00<?, ?it/s]"
      ]
     },
     "metadata": {},
     "output_type": "display_data"
    },
    {
     "data": {
      "application/vnd.jupyter.widget-view+json": {
       "model_id": "11147084dc7f4c9f8af20905f87435cb",
       "version_major": 2,
       "version_minor": 0
      },
      "text/plain": [
       "Drawing 20 posterior samples:   0%|          | 0/20 [00:00<?, ?it/s]"
      ]
     },
     "metadata": {},
     "output_type": "display_data"
    },
    {
     "data": {
      "application/vnd.jupyter.widget-view+json": {
       "model_id": "581536b9ac94400dba8af4f7e4d576f2",
       "version_major": 2,
       "version_minor": 0
      },
      "text/plain": [
       "Drawing 20 posterior samples:   0%|          | 0/20 [00:00<?, ?it/s]"
      ]
     },
     "metadata": {},
     "output_type": "display_data"
    },
    {
     "data": {
      "application/vnd.jupyter.widget-view+json": {
       "model_id": "3cdb6dde480c4dd7a1fa4d5e9682e49d",
       "version_major": 2,
       "version_minor": 0
      },
      "text/plain": [
       "Drawing 20 posterior samples:   0%|          | 0/20 [00:00<?, ?it/s]"
      ]
     },
     "metadata": {},
     "output_type": "display_data"
    },
    {
     "data": {
      "application/vnd.jupyter.widget-view+json": {
       "model_id": "b3c3c64ef10a4c828063482df6f0f7c0",
       "version_major": 2,
       "version_minor": 0
      },
      "text/plain": [
       "Drawing 20 posterior samples:   0%|          | 0/20 [00:00<?, ?it/s]"
      ]
     },
     "metadata": {},
     "output_type": "display_data"
    },
    {
     "data": {
      "application/vnd.jupyter.widget-view+json": {
       "model_id": "ccb848f880ec40fab820508d6aa0a202",
       "version_major": 2,
       "version_minor": 0
      },
      "text/plain": [
       "Drawing 20 posterior samples:   0%|          | 0/20 [00:00<?, ?it/s]"
      ]
     },
     "metadata": {},
     "output_type": "display_data"
    },
    {
     "data": {
      "application/vnd.jupyter.widget-view+json": {
       "model_id": "be224eee8e0e49ba979138d26ab0e78d",
       "version_major": 2,
       "version_minor": 0
      },
      "text/plain": [
       "Drawing 20 posterior samples:   0%|          | 0/20 [00:00<?, ?it/s]"
      ]
     },
     "metadata": {},
     "output_type": "display_data"
    },
    {
     "data": {
      "application/vnd.jupyter.widget-view+json": {
       "model_id": "5ef78cfa965e4ab9940712d659cc30b7",
       "version_major": 2,
       "version_minor": 0
      },
      "text/plain": [
       "Drawing 20 posterior samples:   0%|          | 0/20 [00:00<?, ?it/s]"
      ]
     },
     "metadata": {},
     "output_type": "display_data"
    },
    {
     "data": {
      "application/vnd.jupyter.widget-view+json": {
       "model_id": "6f1def4affee40bf865a13b06eb88a5b",
       "version_major": 2,
       "version_minor": 0
      },
      "text/plain": [
       "Drawing 20 posterior samples:   0%|          | 0/20 [00:00<?, ?it/s]"
      ]
     },
     "metadata": {},
     "output_type": "display_data"
    },
    {
     "data": {
      "application/vnd.jupyter.widget-view+json": {
       "model_id": "7401c15aad924237b80c6c56fc08fda8",
       "version_major": 2,
       "version_minor": 0
      },
      "text/plain": [
       "Drawing 20 posterior samples:   0%|          | 0/20 [00:00<?, ?it/s]"
      ]
     },
     "metadata": {},
     "output_type": "display_data"
    },
    {
     "data": {
      "application/vnd.jupyter.widget-view+json": {
       "model_id": "2dce8f5c67a748c1ad73e9679c7e4da8",
       "version_major": 2,
       "version_minor": 0
      },
      "text/plain": [
       "Drawing 20 posterior samples:   0%|          | 0/20 [00:00<?, ?it/s]"
      ]
     },
     "metadata": {},
     "output_type": "display_data"
    },
    {
     "data": {
      "application/vnd.jupyter.widget-view+json": {
       "model_id": "ce68d8270bac4ab790945883dccba8d5",
       "version_major": 2,
       "version_minor": 0
      },
      "text/plain": [
       "Drawing 20 posterior samples:   0%|          | 0/20 [00:00<?, ?it/s]"
      ]
     },
     "metadata": {},
     "output_type": "display_data"
    },
    {
     "data": {
      "application/vnd.jupyter.widget-view+json": {
       "model_id": "4133d4d1d828483faf9d27a1af86e33a",
       "version_major": 2,
       "version_minor": 0
      },
      "text/plain": [
       "Drawing 20 posterior samples:   0%|          | 0/20 [00:00<?, ?it/s]"
      ]
     },
     "metadata": {},
     "output_type": "display_data"
    },
    {
     "data": {
      "application/vnd.jupyter.widget-view+json": {
       "model_id": "82aa5c3c27354ea180630102fc0c7fe4",
       "version_major": 2,
       "version_minor": 0
      },
      "text/plain": [
       "Drawing 20 posterior samples:   0%|          | 0/20 [00:00<?, ?it/s]"
      ]
     },
     "metadata": {},
     "output_type": "display_data"
    },
    {
     "data": {
      "application/vnd.jupyter.widget-view+json": {
       "model_id": "375c6f8a4cff473793056da0738f495f",
       "version_major": 2,
       "version_minor": 0
      },
      "text/plain": [
       "Drawing 20 posterior samples:   0%|          | 0/20 [00:00<?, ?it/s]"
      ]
     },
     "metadata": {},
     "output_type": "display_data"
    },
    {
     "data": {
      "application/vnd.jupyter.widget-view+json": {
       "model_id": "27eea39a04b745bf8d736fafbad0cd91",
       "version_major": 2,
       "version_minor": 0
      },
      "text/plain": [
       "Drawing 20 posterior samples:   0%|          | 0/20 [00:00<?, ?it/s]"
      ]
     },
     "metadata": {},
     "output_type": "display_data"
    },
    {
     "data": {
      "application/vnd.jupyter.widget-view+json": {
       "model_id": "0e1b06f9fa924fe2811e624a99a4c840",
       "version_major": 2,
       "version_minor": 0
      },
      "text/plain": [
       "Drawing 20 posterior samples:   0%|          | 0/20 [00:00<?, ?it/s]"
      ]
     },
     "metadata": {},
     "output_type": "display_data"
    },
    {
     "data": {
      "application/vnd.jupyter.widget-view+json": {
       "model_id": "d4a5d456183643d59dd67c6914bbc110",
       "version_major": 2,
       "version_minor": 0
      },
      "text/plain": [
       "Drawing 20 posterior samples:   0%|          | 0/20 [00:00<?, ?it/s]"
      ]
     },
     "metadata": {},
     "output_type": "display_data"
    },
    {
     "data": {
      "application/vnd.jupyter.widget-view+json": {
       "model_id": "caaedd4137da4aea983b5d2d4b2bfed4",
       "version_major": 2,
       "version_minor": 0
      },
      "text/plain": [
       "Drawing 20 posterior samples:   0%|          | 0/20 [00:00<?, ?it/s]"
      ]
     },
     "metadata": {},
     "output_type": "display_data"
    },
    {
     "data": {
      "application/vnd.jupyter.widget-view+json": {
       "model_id": "ac0a951749aa4879865a0d36632503c2",
       "version_major": 2,
       "version_minor": 0
      },
      "text/plain": [
       "Drawing 20 posterior samples:   0%|          | 0/20 [00:00<?, ?it/s]"
      ]
     },
     "metadata": {},
     "output_type": "display_data"
    },
    {
     "data": {
      "application/vnd.jupyter.widget-view+json": {
       "model_id": "b4eef44dad4f4c80b99ec608bbe9277f",
       "version_major": 2,
       "version_minor": 0
      },
      "text/plain": [
       "Drawing 20 posterior samples:   0%|          | 0/20 [00:00<?, ?it/s]"
      ]
     },
     "metadata": {},
     "output_type": "display_data"
    },
    {
     "data": {
      "application/vnd.jupyter.widget-view+json": {
       "model_id": "56f68152f6ee4762af0fc949d56376bf",
       "version_major": 2,
       "version_minor": 0
      },
      "text/plain": [
       "Drawing 20 posterior samples:   0%|          | 0/20 [00:00<?, ?it/s]"
      ]
     },
     "metadata": {},
     "output_type": "display_data"
    },
    {
     "data": {
      "application/vnd.jupyter.widget-view+json": {
       "model_id": "0c1b967c3c8a48f4a64db946cbe4e357",
       "version_major": 2,
       "version_minor": 0
      },
      "text/plain": [
       "Drawing 20 posterior samples:   0%|          | 0/20 [00:00<?, ?it/s]"
      ]
     },
     "metadata": {},
     "output_type": "display_data"
    },
    {
     "data": {
      "application/vnd.jupyter.widget-view+json": {
       "model_id": "7d3678b0abcc4b1eb0c496a0559ac127",
       "version_major": 2,
       "version_minor": 0
      },
      "text/plain": [
       "Drawing 20 posterior samples:   0%|          | 0/20 [00:00<?, ?it/s]"
      ]
     },
     "metadata": {},
     "output_type": "display_data"
    },
    {
     "data": {
      "application/vnd.jupyter.widget-view+json": {
       "model_id": "55a62bab209b4043beccc0269f44965f",
       "version_major": 2,
       "version_minor": 0
      },
      "text/plain": [
       "Drawing 20 posterior samples:   0%|          | 0/20 [00:00<?, ?it/s]"
      ]
     },
     "metadata": {},
     "output_type": "display_data"
    },
    {
     "data": {
      "application/vnd.jupyter.widget-view+json": {
       "model_id": "dae4b388212f48b7a985b7f44e4ab0f1",
       "version_major": 2,
       "version_minor": 0
      },
      "text/plain": [
       "Drawing 20 posterior samples:   0%|          | 0/20 [00:00<?, ?it/s]"
      ]
     },
     "metadata": {},
     "output_type": "display_data"
    },
    {
     "data": {
      "application/vnd.jupyter.widget-view+json": {
       "model_id": "8d600cb42c0149d0adc19ec1850c7459",
       "version_major": 2,
       "version_minor": 0
      },
      "text/plain": [
       "Drawing 20 posterior samples:   0%|          | 0/20 [00:00<?, ?it/s]"
      ]
     },
     "metadata": {},
     "output_type": "display_data"
    },
    {
     "data": {
      "application/vnd.jupyter.widget-view+json": {
       "model_id": "e16402c2fe5d4b518c48a1c78224c32d",
       "version_major": 2,
       "version_minor": 0
      },
      "text/plain": [
       "Drawing 20 posterior samples:   0%|          | 0/20 [00:00<?, ?it/s]"
      ]
     },
     "metadata": {},
     "output_type": "display_data"
    },
    {
     "data": {
      "application/vnd.jupyter.widget-view+json": {
       "model_id": "ae8bb2c0162c4fdfac9f52347049e11b",
       "version_major": 2,
       "version_minor": 0
      },
      "text/plain": [
       "Drawing 20 posterior samples:   0%|          | 0/20 [00:00<?, ?it/s]"
      ]
     },
     "metadata": {},
     "output_type": "display_data"
    },
    {
     "data": {
      "application/vnd.jupyter.widget-view+json": {
       "model_id": "3de3bc07701a4371938f7adb74137284",
       "version_major": 2,
       "version_minor": 0
      },
      "text/plain": [
       "Drawing 20 posterior samples:   0%|          | 0/20 [00:00<?, ?it/s]"
      ]
     },
     "metadata": {},
     "output_type": "display_data"
    },
    {
     "data": {
      "application/vnd.jupyter.widget-view+json": {
       "model_id": "1c671a52915246e2944cca3051e5f718",
       "version_major": 2,
       "version_minor": 0
      },
      "text/plain": [
       "Drawing 20 posterior samples:   0%|          | 0/20 [00:00<?, ?it/s]"
      ]
     },
     "metadata": {},
     "output_type": "display_data"
    },
    {
     "data": {
      "application/vnd.jupyter.widget-view+json": {
       "model_id": "87a6da2d4ff84e3c82b1f441ae579e0a",
       "version_major": 2,
       "version_minor": 0
      },
      "text/plain": [
       "Drawing 20 posterior samples:   0%|          | 0/20 [00:00<?, ?it/s]"
      ]
     },
     "metadata": {},
     "output_type": "display_data"
    },
    {
     "data": {
      "application/vnd.jupyter.widget-view+json": {
       "model_id": "9eb977fe1e5e47f096df6c6e35810bee",
       "version_major": 2,
       "version_minor": 0
      },
      "text/plain": [
       "Drawing 20 posterior samples:   0%|          | 0/20 [00:00<?, ?it/s]"
      ]
     },
     "metadata": {},
     "output_type": "display_data"
    },
    {
     "data": {
      "application/vnd.jupyter.widget-view+json": {
       "model_id": "48220578555a4c65b76f1687627fd4bd",
       "version_major": 2,
       "version_minor": 0
      },
      "text/plain": [
       "Drawing 20 posterior samples:   0%|          | 0/20 [00:00<?, ?it/s]"
      ]
     },
     "metadata": {},
     "output_type": "display_data"
    },
    {
     "data": {
      "application/vnd.jupyter.widget-view+json": {
       "model_id": "9aef56658fde4d8d95b1459cd0eab9e3",
       "version_major": 2,
       "version_minor": 0
      },
      "text/plain": [
       "Drawing 20 posterior samples:   0%|          | 0/20 [00:00<?, ?it/s]"
      ]
     },
     "metadata": {},
     "output_type": "display_data"
    },
    {
     "data": {
      "application/vnd.jupyter.widget-view+json": {
       "model_id": "dbd6110ac37c47d2aa3935d46f1234ef",
       "version_major": 2,
       "version_minor": 0
      },
      "text/plain": [
       "Drawing 20 posterior samples:   0%|          | 0/20 [00:00<?, ?it/s]"
      ]
     },
     "metadata": {},
     "output_type": "display_data"
    },
    {
     "data": {
      "application/vnd.jupyter.widget-view+json": {
       "model_id": "97cbc50998754392a4fe612cab0c6e4b",
       "version_major": 2,
       "version_minor": 0
      },
      "text/plain": [
       "Drawing 20 posterior samples:   0%|          | 0/20 [00:00<?, ?it/s]"
      ]
     },
     "metadata": {},
     "output_type": "display_data"
    },
    {
     "data": {
      "application/vnd.jupyter.widget-view+json": {
       "model_id": "a7ca134b0f5a46e1893851d1da4d93d1",
       "version_major": 2,
       "version_minor": 0
      },
      "text/plain": [
       "Drawing 20 posterior samples:   0%|          | 0/20 [00:00<?, ?it/s]"
      ]
     },
     "metadata": {},
     "output_type": "display_data"
    },
    {
     "data": {
      "application/vnd.jupyter.widget-view+json": {
       "model_id": "ad6e9de6cbb64b0c8807d0a7330a1cc4",
       "version_major": 2,
       "version_minor": 0
      },
      "text/plain": [
       "Drawing 20 posterior samples:   0%|          | 0/20 [00:00<?, ?it/s]"
      ]
     },
     "metadata": {},
     "output_type": "display_data"
    },
    {
     "data": {
      "application/vnd.jupyter.widget-view+json": {
       "model_id": "572479777f46491e98b10e7e4810bb74",
       "version_major": 2,
       "version_minor": 0
      },
      "text/plain": [
       "Drawing 20 posterior samples:   0%|          | 0/20 [00:00<?, ?it/s]"
      ]
     },
     "metadata": {},
     "output_type": "display_data"
    },
    {
     "data": {
      "application/vnd.jupyter.widget-view+json": {
       "model_id": "79a7445f1e284da3b989c9477f7d30fd",
       "version_major": 2,
       "version_minor": 0
      },
      "text/plain": [
       "Drawing 20 posterior samples:   0%|          | 0/20 [00:00<?, ?it/s]"
      ]
     },
     "metadata": {},
     "output_type": "display_data"
    },
    {
     "data": {
      "application/vnd.jupyter.widget-view+json": {
       "model_id": "e9451e12ad004ee7a69858588ccc846e",
       "version_major": 2,
       "version_minor": 0
      },
      "text/plain": [
       "Drawing 20 posterior samples:   0%|          | 0/20 [00:00<?, ?it/s]"
      ]
     },
     "metadata": {},
     "output_type": "display_data"
    },
    {
     "data": {
      "application/vnd.jupyter.widget-view+json": {
       "model_id": "2de2cc9c61b04b35913a0add0f539c86",
       "version_major": 2,
       "version_minor": 0
      },
      "text/plain": [
       "Drawing 20 posterior samples:   0%|          | 0/20 [00:00<?, ?it/s]"
      ]
     },
     "metadata": {},
     "output_type": "display_data"
    },
    {
     "data": {
      "application/vnd.jupyter.widget-view+json": {
       "model_id": "3c958481591f43dc864ef48fb82c697d",
       "version_major": 2,
       "version_minor": 0
      },
      "text/plain": [
       "Drawing 20 posterior samples:   0%|          | 0/20 [00:00<?, ?it/s]"
      ]
     },
     "metadata": {},
     "output_type": "display_data"
    },
    {
     "data": {
      "application/vnd.jupyter.widget-view+json": {
       "model_id": "1fa8acb5f93b45b9a7928842a085b5d3",
       "version_major": 2,
       "version_minor": 0
      },
      "text/plain": [
       "Drawing 20 posterior samples:   0%|          | 0/20 [00:00<?, ?it/s]"
      ]
     },
     "metadata": {},
     "output_type": "display_data"
    },
    {
     "data": {
      "application/vnd.jupyter.widget-view+json": {
       "model_id": "872a7ab8d32148409e0092cd5e9c956b",
       "version_major": 2,
       "version_minor": 0
      },
      "text/plain": [
       "Drawing 20 posterior samples:   0%|          | 0/20 [00:00<?, ?it/s]"
      ]
     },
     "metadata": {},
     "output_type": "display_data"
    },
    {
     "data": {
      "application/vnd.jupyter.widget-view+json": {
       "model_id": "cdcfef3f278540ca9d91a2c40181f855",
       "version_major": 2,
       "version_minor": 0
      },
      "text/plain": [
       "Drawing 20 posterior samples:   0%|          | 0/20 [00:00<?, ?it/s]"
      ]
     },
     "metadata": {},
     "output_type": "display_data"
    },
    {
     "data": {
      "application/vnd.jupyter.widget-view+json": {
       "model_id": "8e44d065134442d590acf2dbfaa5d1cf",
       "version_major": 2,
       "version_minor": 0
      },
      "text/plain": [
       "Drawing 20 posterior samples:   0%|          | 0/20 [00:00<?, ?it/s]"
      ]
     },
     "metadata": {},
     "output_type": "display_data"
    },
    {
     "data": {
      "application/vnd.jupyter.widget-view+json": {
       "model_id": "c69ffb7816e7483987aa06363498dec9",
       "version_major": 2,
       "version_minor": 0
      },
      "text/plain": [
       "Drawing 20 posterior samples:   0%|          | 0/20 [00:00<?, ?it/s]"
      ]
     },
     "metadata": {},
     "output_type": "display_data"
    },
    {
     "data": {
      "application/vnd.jupyter.widget-view+json": {
       "model_id": "40978c8c891c48bda65e4b2dd7b5eb14",
       "version_major": 2,
       "version_minor": 0
      },
      "text/plain": [
       "Drawing 20 posterior samples:   0%|          | 0/20 [00:00<?, ?it/s]"
      ]
     },
     "metadata": {},
     "output_type": "display_data"
    },
    {
     "data": {
      "application/vnd.jupyter.widget-view+json": {
       "model_id": "ad796bb238474194aa189738c6aff593",
       "version_major": 2,
       "version_minor": 0
      },
      "text/plain": [
       "Drawing 20 posterior samples:   0%|          | 0/20 [00:00<?, ?it/s]"
      ]
     },
     "metadata": {},
     "output_type": "display_data"
    },
    {
     "data": {
      "application/vnd.jupyter.widget-view+json": {
       "model_id": "aed29b148c6d48fa91e9934216644d4a",
       "version_major": 2,
       "version_minor": 0
      },
      "text/plain": [
       "Drawing 20 posterior samples:   0%|          | 0/20 [00:00<?, ?it/s]"
      ]
     },
     "metadata": {},
     "output_type": "display_data"
    },
    {
     "data": {
      "application/vnd.jupyter.widget-view+json": {
       "model_id": "c428ac8c3bf24702b86af481fd28bce8",
       "version_major": 2,
       "version_minor": 0
      },
      "text/plain": [
       "Drawing 20 posterior samples:   0%|          | 0/20 [00:00<?, ?it/s]"
      ]
     },
     "metadata": {},
     "output_type": "display_data"
    },
    {
     "data": {
      "application/vnd.jupyter.widget-view+json": {
       "model_id": "be5a48acb0fe45d49146cf9f0d801f93",
       "version_major": 2,
       "version_minor": 0
      },
      "text/plain": [
       "Drawing 20 posterior samples:   0%|          | 0/20 [00:00<?, ?it/s]"
      ]
     },
     "metadata": {},
     "output_type": "display_data"
    },
    {
     "data": {
      "application/vnd.jupyter.widget-view+json": {
       "model_id": "56b0bd818b7a4a119b8eb6041c6ddf5a",
       "version_major": 2,
       "version_minor": 0
      },
      "text/plain": [
       "Drawing 20 posterior samples:   0%|          | 0/20 [00:00<?, ?it/s]"
      ]
     },
     "metadata": {},
     "output_type": "display_data"
    },
    {
     "data": {
      "application/vnd.jupyter.widget-view+json": {
       "model_id": "a1c727ac26cd44cfba744a0eab9103dc",
       "version_major": 2,
       "version_minor": 0
      },
      "text/plain": [
       "Drawing 20 posterior samples:   0%|          | 0/20 [00:00<?, ?it/s]"
      ]
     },
     "metadata": {},
     "output_type": "display_data"
    },
    {
     "data": {
      "application/vnd.jupyter.widget-view+json": {
       "model_id": "9fab2f0235b74be98ca2c9b1e1461012",
       "version_major": 2,
       "version_minor": 0
      },
      "text/plain": [
       "Drawing 20 posterior samples:   0%|          | 0/20 [00:00<?, ?it/s]"
      ]
     },
     "metadata": {},
     "output_type": "display_data"
    },
    {
     "data": {
      "application/vnd.jupyter.widget-view+json": {
       "model_id": "d7b66c71cf0c42cf978649a647d9d5ed",
       "version_major": 2,
       "version_minor": 0
      },
      "text/plain": [
       "Drawing 20 posterior samples:   0%|          | 0/20 [00:00<?, ?it/s]"
      ]
     },
     "metadata": {},
     "output_type": "display_data"
    },
    {
     "data": {
      "application/vnd.jupyter.widget-view+json": {
       "model_id": "ee4b2e4c20a54503aae038d16eee4a35",
       "version_major": 2,
       "version_minor": 0
      },
      "text/plain": [
       "Drawing 20 posterior samples:   0%|          | 0/20 [00:00<?, ?it/s]"
      ]
     },
     "metadata": {},
     "output_type": "display_data"
    },
    {
     "data": {
      "application/vnd.jupyter.widget-view+json": {
       "model_id": "22cf6489e10e4a71927c46061cd1f38f",
       "version_major": 2,
       "version_minor": 0
      },
      "text/plain": [
       "Drawing 20 posterior samples:   0%|          | 0/20 [00:00<?, ?it/s]"
      ]
     },
     "metadata": {},
     "output_type": "display_data"
    },
    {
     "data": {
      "application/vnd.jupyter.widget-view+json": {
       "model_id": "4c5400937cff40f7a69b99e43b9bcbc1",
       "version_major": 2,
       "version_minor": 0
      },
      "text/plain": [
       "Drawing 20 posterior samples:   0%|          | 0/20 [00:00<?, ?it/s]"
      ]
     },
     "metadata": {},
     "output_type": "display_data"
    },
    {
     "data": {
      "application/vnd.jupyter.widget-view+json": {
       "model_id": "3ecb0058bbea4909a1f3b0e9dace04ad",
       "version_major": 2,
       "version_minor": 0
      },
      "text/plain": [
       "Drawing 20 posterior samples:   0%|          | 0/20 [00:00<?, ?it/s]"
      ]
     },
     "metadata": {},
     "output_type": "display_data"
    },
    {
     "data": {
      "application/vnd.jupyter.widget-view+json": {
       "model_id": "25149944007241d6894e5b275df0cdc6",
       "version_major": 2,
       "version_minor": 0
      },
      "text/plain": [
       "Drawing 20 posterior samples:   0%|          | 0/20 [00:00<?, ?it/s]"
      ]
     },
     "metadata": {},
     "output_type": "display_data"
    },
    {
     "data": {
      "application/vnd.jupyter.widget-view+json": {
       "model_id": "752b809f0e0547cdb9dfe001f4db78ab",
       "version_major": 2,
       "version_minor": 0
      },
      "text/plain": [
       "Drawing 20 posterior samples:   0%|          | 0/20 [00:00<?, ?it/s]"
      ]
     },
     "metadata": {},
     "output_type": "display_data"
    },
    {
     "data": {
      "application/vnd.jupyter.widget-view+json": {
       "model_id": "d9fc4d3e6dc2489d970172045e7d4451",
       "version_major": 2,
       "version_minor": 0
      },
      "text/plain": [
       "Drawing 20 posterior samples:   0%|          | 0/20 [00:00<?, ?it/s]"
      ]
     },
     "metadata": {},
     "output_type": "display_data"
    },
    {
     "data": {
      "application/vnd.jupyter.widget-view+json": {
       "model_id": "773945e8b432477a9f61f4e7a8b566a9",
       "version_major": 2,
       "version_minor": 0
      },
      "text/plain": [
       "Drawing 20 posterior samples:   0%|          | 0/20 [00:00<?, ?it/s]"
      ]
     },
     "metadata": {},
     "output_type": "display_data"
    },
    {
     "data": {
      "application/vnd.jupyter.widget-view+json": {
       "model_id": "1bb0f179bab44f90b990bf0187ae31fe",
       "version_major": 2,
       "version_minor": 0
      },
      "text/plain": [
       "Drawing 20 posterior samples:   0%|          | 0/20 [00:00<?, ?it/s]"
      ]
     },
     "metadata": {},
     "output_type": "display_data"
    },
    {
     "data": {
      "application/vnd.jupyter.widget-view+json": {
       "model_id": "43b7ae55b73749bebb809df16c068759",
       "version_major": 2,
       "version_minor": 0
      },
      "text/plain": [
       "Drawing 20 posterior samples:   0%|          | 0/20 [00:00<?, ?it/s]"
      ]
     },
     "metadata": {},
     "output_type": "display_data"
    },
    {
     "data": {
      "application/vnd.jupyter.widget-view+json": {
       "model_id": "e0113c2431b14f51803689627bd7d785",
       "version_major": 2,
       "version_minor": 0
      },
      "text/plain": [
       "Drawing 20 posterior samples:   0%|          | 0/20 [00:00<?, ?it/s]"
      ]
     },
     "metadata": {},
     "output_type": "display_data"
    },
    {
     "data": {
      "application/vnd.jupyter.widget-view+json": {
       "model_id": "e743865fe3fe4c3cadad941e8a008fcf",
       "version_major": 2,
       "version_minor": 0
      },
      "text/plain": [
       "Drawing 20 posterior samples:   0%|          | 0/20 [00:00<?, ?it/s]"
      ]
     },
     "metadata": {},
     "output_type": "display_data"
    },
    {
     "data": {
      "application/vnd.jupyter.widget-view+json": {
       "model_id": "0c46638e762f447c8f78ad9424fc2c99",
       "version_major": 2,
       "version_minor": 0
      },
      "text/plain": [
       "Drawing 20 posterior samples:   0%|          | 0/20 [00:00<?, ?it/s]"
      ]
     },
     "metadata": {},
     "output_type": "display_data"
    },
    {
     "data": {
      "application/vnd.jupyter.widget-view+json": {
       "model_id": "6bfdb4dfb52d497895dfd75d90386250",
       "version_major": 2,
       "version_minor": 0
      },
      "text/plain": [
       "Drawing 20 posterior samples:   0%|          | 0/20 [00:00<?, ?it/s]"
      ]
     },
     "metadata": {},
     "output_type": "display_data"
    },
    {
     "data": {
      "application/vnd.jupyter.widget-view+json": {
       "model_id": "bcfef24dfe0941b59687348f72d71497",
       "version_major": 2,
       "version_minor": 0
      },
      "text/plain": [
       "Drawing 20 posterior samples:   0%|          | 0/20 [00:00<?, ?it/s]"
      ]
     },
     "metadata": {},
     "output_type": "display_data"
    },
    {
     "data": {
      "application/vnd.jupyter.widget-view+json": {
       "model_id": "a1ddf4899b404944b68d7d4f0d42f1d9",
       "version_major": 2,
       "version_minor": 0
      },
      "text/plain": [
       "Drawing 20 posterior samples:   0%|          | 0/20 [00:00<?, ?it/s]"
      ]
     },
     "metadata": {},
     "output_type": "display_data"
    },
    {
     "data": {
      "application/vnd.jupyter.widget-view+json": {
       "model_id": "4145021e5f8f4f2f9dc9c13067a84c12",
       "version_major": 2,
       "version_minor": 0
      },
      "text/plain": [
       "Drawing 20 posterior samples:   0%|          | 0/20 [00:00<?, ?it/s]"
      ]
     },
     "metadata": {},
     "output_type": "display_data"
    },
    {
     "data": {
      "application/vnd.jupyter.widget-view+json": {
       "model_id": "e80a6995000e40b0aea07f0dacfb787a",
       "version_major": 2,
       "version_minor": 0
      },
      "text/plain": [
       "Drawing 20 posterior samples:   0%|          | 0/20 [00:00<?, ?it/s]"
      ]
     },
     "metadata": {},
     "output_type": "display_data"
    },
    {
     "data": {
      "application/vnd.jupyter.widget-view+json": {
       "model_id": "0a21ffde066f45c583c7e931049724d9",
       "version_major": 2,
       "version_minor": 0
      },
      "text/plain": [
       "Drawing 20 posterior samples:   0%|          | 0/20 [00:00<?, ?it/s]"
      ]
     },
     "metadata": {},
     "output_type": "display_data"
    },
    {
     "data": {
      "application/vnd.jupyter.widget-view+json": {
       "model_id": "80f20f3e2876491896ca905df8bd7770",
       "version_major": 2,
       "version_minor": 0
      },
      "text/plain": [
       "Drawing 20 posterior samples:   0%|          | 0/20 [00:00<?, ?it/s]"
      ]
     },
     "metadata": {},
     "output_type": "display_data"
    },
    {
     "data": {
      "application/vnd.jupyter.widget-view+json": {
       "model_id": "45e5d157df224ab38cf5fbc9679f5507",
       "version_major": 2,
       "version_minor": 0
      },
      "text/plain": [
       "Drawing 20 posterior samples:   0%|          | 0/20 [00:00<?, ?it/s]"
      ]
     },
     "metadata": {},
     "output_type": "display_data"
    },
    {
     "data": {
      "application/vnd.jupyter.widget-view+json": {
       "model_id": "aef0695fe2d84064a77f6be8431cf7ce",
       "version_major": 2,
       "version_minor": 0
      },
      "text/plain": [
       "Drawing 20 posterior samples:   0%|          | 0/20 [00:00<?, ?it/s]"
      ]
     },
     "metadata": {},
     "output_type": "display_data"
    },
    {
     "data": {
      "application/vnd.jupyter.widget-view+json": {
       "model_id": "aeb5a9ae225840dc9e505ba16b4a7260",
       "version_major": 2,
       "version_minor": 0
      },
      "text/plain": [
       "Drawing 20 posterior samples:   0%|          | 0/20 [00:00<?, ?it/s]"
      ]
     },
     "metadata": {},
     "output_type": "display_data"
    },
    {
     "data": {
      "application/vnd.jupyter.widget-view+json": {
       "model_id": "577a2af44a874fccbbccc28dc026f682",
       "version_major": 2,
       "version_minor": 0
      },
      "text/plain": [
       "Drawing 20 posterior samples:   0%|          | 0/20 [00:00<?, ?it/s]"
      ]
     },
     "metadata": {},
     "output_type": "display_data"
    },
    {
     "data": {
      "application/vnd.jupyter.widget-view+json": {
       "model_id": "a9390769234c4414b6ed21a993fa5075",
       "version_major": 2,
       "version_minor": 0
      },
      "text/plain": [
       "Drawing 20 posterior samples:   0%|          | 0/20 [00:00<?, ?it/s]"
      ]
     },
     "metadata": {},
     "output_type": "display_data"
    },
    {
     "data": {
      "application/vnd.jupyter.widget-view+json": {
       "model_id": "5787896057ac40978b8656cc54ab709d",
       "version_major": 2,
       "version_minor": 0
      },
      "text/plain": [
       "Drawing 20 posterior samples:   0%|          | 0/20 [00:00<?, ?it/s]"
      ]
     },
     "metadata": {},
     "output_type": "display_data"
    },
    {
     "data": {
      "application/vnd.jupyter.widget-view+json": {
       "model_id": "4571f72b51ea41a79afd3e33095748ba",
       "version_major": 2,
       "version_minor": 0
      },
      "text/plain": [
       "Drawing 20 posterior samples:   0%|          | 0/20 [00:00<?, ?it/s]"
      ]
     },
     "metadata": {},
     "output_type": "display_data"
    },
    {
     "data": {
      "application/vnd.jupyter.widget-view+json": {
       "model_id": "eeb5298bd02c4b10a5a61f7f3b3909e9",
       "version_major": 2,
       "version_minor": 0
      },
      "text/plain": [
       "Drawing 20 posterior samples:   0%|          | 0/20 [00:00<?, ?it/s]"
      ]
     },
     "metadata": {},
     "output_type": "display_data"
    },
    {
     "data": {
      "application/vnd.jupyter.widget-view+json": {
       "model_id": "f63ce777939042989c96abef30180ad2",
       "version_major": 2,
       "version_minor": 0
      },
      "text/plain": [
       "Drawing 20 posterior samples:   0%|          | 0/20 [00:00<?, ?it/s]"
      ]
     },
     "metadata": {},
     "output_type": "display_data"
    },
    {
     "data": {
      "application/vnd.jupyter.widget-view+json": {
       "model_id": "cf646dc4f23148f29637270ad48d996f",
       "version_major": 2,
       "version_minor": 0
      },
      "text/plain": [
       "Drawing 20 posterior samples:   0%|          | 0/20 [00:00<?, ?it/s]"
      ]
     },
     "metadata": {},
     "output_type": "display_data"
    },
    {
     "data": {
      "application/vnd.jupyter.widget-view+json": {
       "model_id": "26b51d63ed244a5097426430ea7ae875",
       "version_major": 2,
       "version_minor": 0
      },
      "text/plain": [
       "Drawing 20 posterior samples:   0%|          | 0/20 [00:00<?, ?it/s]"
      ]
     },
     "metadata": {},
     "output_type": "display_data"
    },
    {
     "data": {
      "application/vnd.jupyter.widget-view+json": {
       "model_id": "a66bd828812042a6a6573c3ff16403ed",
       "version_major": 2,
       "version_minor": 0
      },
      "text/plain": [
       "Drawing 20 posterior samples:   0%|          | 0/20 [00:00<?, ?it/s]"
      ]
     },
     "metadata": {},
     "output_type": "display_data"
    },
    {
     "data": {
      "application/vnd.jupyter.widget-view+json": {
       "model_id": "4b1a8986c9d14d9487e294121c5fe450",
       "version_major": 2,
       "version_minor": 0
      },
      "text/plain": [
       "Drawing 20 posterior samples:   0%|          | 0/20 [00:00<?, ?it/s]"
      ]
     },
     "metadata": {},
     "output_type": "display_data"
    },
    {
     "data": {
      "application/vnd.jupyter.widget-view+json": {
       "model_id": "465b087a004f40d898397825af9b487a",
       "version_major": 2,
       "version_minor": 0
      },
      "text/plain": [
       "Drawing 20 posterior samples:   0%|          | 0/20 [00:00<?, ?it/s]"
      ]
     },
     "metadata": {},
     "output_type": "display_data"
    },
    {
     "data": {
      "application/vnd.jupyter.widget-view+json": {
       "model_id": "d066f57e611a4cd9ad5f2c2ea8080dc4",
       "version_major": 2,
       "version_minor": 0
      },
      "text/plain": [
       "Drawing 20 posterior samples:   0%|          | 0/20 [00:00<?, ?it/s]"
      ]
     },
     "metadata": {},
     "output_type": "display_data"
    },
    {
     "data": {
      "application/vnd.jupyter.widget-view+json": {
       "model_id": "4d7b7ea53eab4c359ff91f202812bf93",
       "version_major": 2,
       "version_minor": 0
      },
      "text/plain": [
       "Drawing 20 posterior samples:   0%|          | 0/20 [00:00<?, ?it/s]"
      ]
     },
     "metadata": {},
     "output_type": "display_data"
    },
    {
     "data": {
      "application/vnd.jupyter.widget-view+json": {
       "model_id": "34786abfc04544c98309fd7eb8728527",
       "version_major": 2,
       "version_minor": 0
      },
      "text/plain": [
       "Drawing 20 posterior samples:   0%|          | 0/20 [00:00<?, ?it/s]"
      ]
     },
     "metadata": {},
     "output_type": "display_data"
    },
    {
     "data": {
      "application/vnd.jupyter.widget-view+json": {
       "model_id": "c6756cfff28f44d38d96946c465254d9",
       "version_major": 2,
       "version_minor": 0
      },
      "text/plain": [
       "Drawing 20 posterior samples:   0%|          | 0/20 [00:00<?, ?it/s]"
      ]
     },
     "metadata": {},
     "output_type": "display_data"
    },
    {
     "data": {
      "application/vnd.jupyter.widget-view+json": {
       "model_id": "abd249035c6d43f28c5120242fc7bec4",
       "version_major": 2,
       "version_minor": 0
      },
      "text/plain": [
       "Drawing 20 posterior samples:   0%|          | 0/20 [00:00<?, ?it/s]"
      ]
     },
     "metadata": {},
     "output_type": "display_data"
    },
    {
     "data": {
      "application/vnd.jupyter.widget-view+json": {
       "model_id": "e722bf7fabc74b91bcf3e3624ac373f4",
       "version_major": 2,
       "version_minor": 0
      },
      "text/plain": [
       "Drawing 20 posterior samples:   0%|          | 0/20 [00:00<?, ?it/s]"
      ]
     },
     "metadata": {},
     "output_type": "display_data"
    },
    {
     "data": {
      "application/vnd.jupyter.widget-view+json": {
       "model_id": "060e367d813c41acbf6c1445597625e3",
       "version_major": 2,
       "version_minor": 0
      },
      "text/plain": [
       "Drawing 20 posterior samples:   0%|          | 0/20 [00:00<?, ?it/s]"
      ]
     },
     "metadata": {},
     "output_type": "display_data"
    },
    {
     "data": {
      "application/vnd.jupyter.widget-view+json": {
       "model_id": "ab5f3808228d41fca8baf7e120df6589",
       "version_major": 2,
       "version_minor": 0
      },
      "text/plain": [
       "Drawing 20 posterior samples:   0%|          | 0/20 [00:00<?, ?it/s]"
      ]
     },
     "metadata": {},
     "output_type": "display_data"
    },
    {
     "data": {
      "application/vnd.jupyter.widget-view+json": {
       "model_id": "f1e58e696e3048bd9f55389b4ed670e8",
       "version_major": 2,
       "version_minor": 0
      },
      "text/plain": [
       "Drawing 20 posterior samples:   0%|          | 0/20 [00:00<?, ?it/s]"
      ]
     },
     "metadata": {},
     "output_type": "display_data"
    },
    {
     "data": {
      "application/vnd.jupyter.widget-view+json": {
       "model_id": "0951cb08bf1c4a9fbf8c8c77d8b1af69",
       "version_major": 2,
       "version_minor": 0
      },
      "text/plain": [
       "Drawing 20 posterior samples:   0%|          | 0/20 [00:00<?, ?it/s]"
      ]
     },
     "metadata": {},
     "output_type": "display_data"
    },
    {
     "data": {
      "application/vnd.jupyter.widget-view+json": {
       "model_id": "5f5ef9cefe34456a8b1d60a1c0a677b3",
       "version_major": 2,
       "version_minor": 0
      },
      "text/plain": [
       "Drawing 20 posterior samples:   0%|          | 0/20 [00:00<?, ?it/s]"
      ]
     },
     "metadata": {},
     "output_type": "display_data"
    },
    {
     "data": {
      "application/vnd.jupyter.widget-view+json": {
       "model_id": "70236bf43aa1430ba73355cd2104b36b",
       "version_major": 2,
       "version_minor": 0
      },
      "text/plain": [
       "Drawing 20 posterior samples:   0%|          | 0/20 [00:00<?, ?it/s]"
      ]
     },
     "metadata": {},
     "output_type": "display_data"
    },
    {
     "data": {
      "application/vnd.jupyter.widget-view+json": {
       "model_id": "d70bc89d37af41cc8d5f41edd2dbaaf4",
       "version_major": 2,
       "version_minor": 0
      },
      "text/plain": [
       "Drawing 20 posterior samples:   0%|          | 0/20 [00:00<?, ?it/s]"
      ]
     },
     "metadata": {},
     "output_type": "display_data"
    },
    {
     "data": {
      "application/vnd.jupyter.widget-view+json": {
       "model_id": "48052bebb7d44a38a1d0ac5fc936de86",
       "version_major": 2,
       "version_minor": 0
      },
      "text/plain": [
       "Drawing 20 posterior samples:   0%|          | 0/20 [00:00<?, ?it/s]"
      ]
     },
     "metadata": {},
     "output_type": "display_data"
    },
    {
     "data": {
      "application/vnd.jupyter.widget-view+json": {
       "model_id": "ab113319fabb4f409d4aa5a9bd62c698",
       "version_major": 2,
       "version_minor": 0
      },
      "text/plain": [
       "Drawing 20 posterior samples:   0%|          | 0/20 [00:00<?, ?it/s]"
      ]
     },
     "metadata": {},
     "output_type": "display_data"
    },
    {
     "data": {
      "application/vnd.jupyter.widget-view+json": {
       "model_id": "c687ae919faa40a5907028c8b9cf6f9f",
       "version_major": 2,
       "version_minor": 0
      },
      "text/plain": [
       "Drawing 20 posterior samples:   0%|          | 0/20 [00:00<?, ?it/s]"
      ]
     },
     "metadata": {},
     "output_type": "display_data"
    },
    {
     "data": {
      "application/vnd.jupyter.widget-view+json": {
       "model_id": "08f2ed0839ff428bb83ab6a6bb93e7d2",
       "version_major": 2,
       "version_minor": 0
      },
      "text/plain": [
       "Drawing 20 posterior samples:   0%|          | 0/20 [00:00<?, ?it/s]"
      ]
     },
     "metadata": {},
     "output_type": "display_data"
    },
    {
     "data": {
      "application/vnd.jupyter.widget-view+json": {
       "model_id": "75ab4a852d2b4ae0be9a765f8d773a5b",
       "version_major": 2,
       "version_minor": 0
      },
      "text/plain": [
       "Drawing 20 posterior samples:   0%|          | 0/20 [00:00<?, ?it/s]"
      ]
     },
     "metadata": {},
     "output_type": "display_data"
    },
    {
     "data": {
      "application/vnd.jupyter.widget-view+json": {
       "model_id": "80a2a987ec6c4826a75efcf4ec912f2b",
       "version_major": 2,
       "version_minor": 0
      },
      "text/plain": [
       "Drawing 20 posterior samples:   0%|          | 0/20 [00:00<?, ?it/s]"
      ]
     },
     "metadata": {},
     "output_type": "display_data"
    },
    {
     "data": {
      "application/vnd.jupyter.widget-view+json": {
       "model_id": "ace968a1e58842b9bef76fdcb9987473",
       "version_major": 2,
       "version_minor": 0
      },
      "text/plain": [
       "Drawing 20 posterior samples:   0%|          | 0/20 [00:00<?, ?it/s]"
      ]
     },
     "metadata": {},
     "output_type": "display_data"
    },
    {
     "data": {
      "application/vnd.jupyter.widget-view+json": {
       "model_id": "d411f95771b74f4687a987e178a34d2a",
       "version_major": 2,
       "version_minor": 0
      },
      "text/plain": [
       "Drawing 20 posterior samples:   0%|          | 0/20 [00:00<?, ?it/s]"
      ]
     },
     "metadata": {},
     "output_type": "display_data"
    },
    {
     "data": {
      "application/vnd.jupyter.widget-view+json": {
       "model_id": "af17f61dc4d34d52bad94102ac03ee9b",
       "version_major": 2,
       "version_minor": 0
      },
      "text/plain": [
       "Drawing 20 posterior samples:   0%|          | 0/20 [00:00<?, ?it/s]"
      ]
     },
     "metadata": {},
     "output_type": "display_data"
    },
    {
     "data": {
      "application/vnd.jupyter.widget-view+json": {
       "model_id": "a1e887877a19435a8593a3f27f82a431",
       "version_major": 2,
       "version_minor": 0
      },
      "text/plain": [
       "Drawing 20 posterior samples:   0%|          | 0/20 [00:00<?, ?it/s]"
      ]
     },
     "metadata": {},
     "output_type": "display_data"
    },
    {
     "data": {
      "application/vnd.jupyter.widget-view+json": {
       "model_id": "65dc053c46f342889ffb1c3d988b4b9e",
       "version_major": 2,
       "version_minor": 0
      },
      "text/plain": [
       "Drawing 20 posterior samples:   0%|          | 0/20 [00:00<?, ?it/s]"
      ]
     },
     "metadata": {},
     "output_type": "display_data"
    },
    {
     "data": {
      "application/vnd.jupyter.widget-view+json": {
       "model_id": "081c79e991854a409d7742e320d1d804",
       "version_major": 2,
       "version_minor": 0
      },
      "text/plain": [
       "Drawing 20 posterior samples:   0%|          | 0/20 [00:00<?, ?it/s]"
      ]
     },
     "metadata": {},
     "output_type": "display_data"
    },
    {
     "data": {
      "application/vnd.jupyter.widget-view+json": {
       "model_id": "d3e21fbb2d764b3d8b447bb3d24310f5",
       "version_major": 2,
       "version_minor": 0
      },
      "text/plain": [
       "Drawing 20 posterior samples:   0%|          | 0/20 [00:00<?, ?it/s]"
      ]
     },
     "metadata": {},
     "output_type": "display_data"
    },
    {
     "data": {
      "application/vnd.jupyter.widget-view+json": {
       "model_id": "05f14ad313a94d679f7570594a2201fe",
       "version_major": 2,
       "version_minor": 0
      },
      "text/plain": [
       "Drawing 20 posterior samples:   0%|          | 0/20 [00:00<?, ?it/s]"
      ]
     },
     "metadata": {},
     "output_type": "display_data"
    },
    {
     "data": {
      "application/vnd.jupyter.widget-view+json": {
       "model_id": "9d5051047cfc49bf977ec2e44af904bd",
       "version_major": 2,
       "version_minor": 0
      },
      "text/plain": [
       "Drawing 20 posterior samples:   0%|          | 0/20 [00:00<?, ?it/s]"
      ]
     },
     "metadata": {},
     "output_type": "display_data"
    },
    {
     "data": {
      "application/vnd.jupyter.widget-view+json": {
       "model_id": "ac473bf0f6a54ab5942901012e4d85b7",
       "version_major": 2,
       "version_minor": 0
      },
      "text/plain": [
       "Drawing 20 posterior samples:   0%|          | 0/20 [00:00<?, ?it/s]"
      ]
     },
     "metadata": {},
     "output_type": "display_data"
    },
    {
     "data": {
      "application/vnd.jupyter.widget-view+json": {
       "model_id": "042d4e3875594e1d8df482d18b34633e",
       "version_major": 2,
       "version_minor": 0
      },
      "text/plain": [
       "Drawing 20 posterior samples:   0%|          | 0/20 [00:00<?, ?it/s]"
      ]
     },
     "metadata": {},
     "output_type": "display_data"
    },
    {
     "data": {
      "application/vnd.jupyter.widget-view+json": {
       "model_id": "132c95078c744c61880140c046a1581c",
       "version_major": 2,
       "version_minor": 0
      },
      "text/plain": [
       "Drawing 20 posterior samples:   0%|          | 0/20 [00:00<?, ?it/s]"
      ]
     },
     "metadata": {},
     "output_type": "display_data"
    },
    {
     "data": {
      "application/vnd.jupyter.widget-view+json": {
       "model_id": "da96e8cb844f430b89f03ffa4676f799",
       "version_major": 2,
       "version_minor": 0
      },
      "text/plain": [
       "Drawing 20 posterior samples:   0%|          | 0/20 [00:00<?, ?it/s]"
      ]
     },
     "metadata": {},
     "output_type": "display_data"
    },
    {
     "data": {
      "application/vnd.jupyter.widget-view+json": {
       "model_id": "fe5057085cae45a3b526a5abf84c5269",
       "version_major": 2,
       "version_minor": 0
      },
      "text/plain": [
       "Drawing 20 posterior samples:   0%|          | 0/20 [00:00<?, ?it/s]"
      ]
     },
     "metadata": {},
     "output_type": "display_data"
    },
    {
     "data": {
      "application/vnd.jupyter.widget-view+json": {
       "model_id": "d4218db691b342db82cee867cb1dd94f",
       "version_major": 2,
       "version_minor": 0
      },
      "text/plain": [
       "Drawing 20 posterior samples:   0%|          | 0/20 [00:00<?, ?it/s]"
      ]
     },
     "metadata": {},
     "output_type": "display_data"
    },
    {
     "data": {
      "application/vnd.jupyter.widget-view+json": {
       "model_id": "6d852416f0344c19b7295eabbcb1efac",
       "version_major": 2,
       "version_minor": 0
      },
      "text/plain": [
       "Drawing 20 posterior samples:   0%|          | 0/20 [00:00<?, ?it/s]"
      ]
     },
     "metadata": {},
     "output_type": "display_data"
    },
    {
     "data": {
      "application/vnd.jupyter.widget-view+json": {
       "model_id": "c2f9b66cb62f45f692e60c6a58c62bc0",
       "version_major": 2,
       "version_minor": 0
      },
      "text/plain": [
       "Drawing 20 posterior samples:   0%|          | 0/20 [00:00<?, ?it/s]"
      ]
     },
     "metadata": {},
     "output_type": "display_data"
    },
    {
     "data": {
      "application/vnd.jupyter.widget-view+json": {
       "model_id": "15a39a5ba871420bbef15062d62ab30b",
       "version_major": 2,
       "version_minor": 0
      },
      "text/plain": [
       "Drawing 20 posterior samples:   0%|          | 0/20 [00:00<?, ?it/s]"
      ]
     },
     "metadata": {},
     "output_type": "display_data"
    },
    {
     "data": {
      "application/vnd.jupyter.widget-view+json": {
       "model_id": "6b3f928e2ea3489ca52b4af724d40c09",
       "version_major": 2,
       "version_minor": 0
      },
      "text/plain": [
       "Drawing 20 posterior samples:   0%|          | 0/20 [00:00<?, ?it/s]"
      ]
     },
     "metadata": {},
     "output_type": "display_data"
    },
    {
     "data": {
      "application/vnd.jupyter.widget-view+json": {
       "model_id": "2c37b9554d834a2fb3597b786da41801",
       "version_major": 2,
       "version_minor": 0
      },
      "text/plain": [
       "Drawing 20 posterior samples:   0%|          | 0/20 [00:00<?, ?it/s]"
      ]
     },
     "metadata": {},
     "output_type": "display_data"
    },
    {
     "data": {
      "application/vnd.jupyter.widget-view+json": {
       "model_id": "a3e2b111d21c4c9984514b98ca055f63",
       "version_major": 2,
       "version_minor": 0
      },
      "text/plain": [
       "Drawing 20 posterior samples:   0%|          | 0/20 [00:00<?, ?it/s]"
      ]
     },
     "metadata": {},
     "output_type": "display_data"
    },
    {
     "data": {
      "application/vnd.jupyter.widget-view+json": {
       "model_id": "0c6e740fde32465ca84dee51a8412a3d",
       "version_major": 2,
       "version_minor": 0
      },
      "text/plain": [
       "Drawing 20 posterior samples:   0%|          | 0/20 [00:00<?, ?it/s]"
      ]
     },
     "metadata": {},
     "output_type": "display_data"
    },
    {
     "data": {
      "application/vnd.jupyter.widget-view+json": {
       "model_id": "5f81c743bb294c04a206ffa38467f1fa",
       "version_major": 2,
       "version_minor": 0
      },
      "text/plain": [
       "Drawing 20 posterior samples:   0%|          | 0/20 [00:00<?, ?it/s]"
      ]
     },
     "metadata": {},
     "output_type": "display_data"
    },
    {
     "data": {
      "application/vnd.jupyter.widget-view+json": {
       "model_id": "dcdc1724db2847648c5dcec7ed00ed66",
       "version_major": 2,
       "version_minor": 0
      },
      "text/plain": [
       "Drawing 20 posterior samples:   0%|          | 0/20 [00:00<?, ?it/s]"
      ]
     },
     "metadata": {},
     "output_type": "display_data"
    },
    {
     "data": {
      "application/vnd.jupyter.widget-view+json": {
       "model_id": "e1b5dbbfa93d46629f3d2aaabe59baf1",
       "version_major": 2,
       "version_minor": 0
      },
      "text/plain": [
       "Drawing 20 posterior samples:   0%|          | 0/20 [00:00<?, ?it/s]"
      ]
     },
     "metadata": {},
     "output_type": "display_data"
    },
    {
     "data": {
      "application/vnd.jupyter.widget-view+json": {
       "model_id": "aac512b430934641b9d6df8084bd0785",
       "version_major": 2,
       "version_minor": 0
      },
      "text/plain": [
       "Drawing 20 posterior samples:   0%|          | 0/20 [00:00<?, ?it/s]"
      ]
     },
     "metadata": {},
     "output_type": "display_data"
    },
    {
     "data": {
      "application/vnd.jupyter.widget-view+json": {
       "model_id": "666b9378b4fa48108a3fcafd3df80ff4",
       "version_major": 2,
       "version_minor": 0
      },
      "text/plain": [
       "Drawing 20 posterior samples:   0%|          | 0/20 [00:00<?, ?it/s]"
      ]
     },
     "metadata": {},
     "output_type": "display_data"
    },
    {
     "data": {
      "application/vnd.jupyter.widget-view+json": {
       "model_id": "b83e12a19f1f4273a5c98c20e021e537",
       "version_major": 2,
       "version_minor": 0
      },
      "text/plain": [
       "Drawing 20 posterior samples:   0%|          | 0/20 [00:00<?, ?it/s]"
      ]
     },
     "metadata": {},
     "output_type": "display_data"
    },
    {
     "data": {
      "application/vnd.jupyter.widget-view+json": {
       "model_id": "d4813280147545d1914f420936926eba",
       "version_major": 2,
       "version_minor": 0
      },
      "text/plain": [
       "Drawing 20 posterior samples:   0%|          | 0/20 [00:00<?, ?it/s]"
      ]
     },
     "metadata": {},
     "output_type": "display_data"
    },
    {
     "data": {
      "application/vnd.jupyter.widget-view+json": {
       "model_id": "914a8e3332954963becbc5b6fa475c19",
       "version_major": 2,
       "version_minor": 0
      },
      "text/plain": [
       "Drawing 20 posterior samples:   0%|          | 0/20 [00:00<?, ?it/s]"
      ]
     },
     "metadata": {},
     "output_type": "display_data"
    },
    {
     "data": {
      "application/vnd.jupyter.widget-view+json": {
       "model_id": "29b991d0b03542aa820804d5528fd9d6",
       "version_major": 2,
       "version_minor": 0
      },
      "text/plain": [
       "Drawing 20 posterior samples:   0%|          | 0/20 [00:00<?, ?it/s]"
      ]
     },
     "metadata": {},
     "output_type": "display_data"
    },
    {
     "data": {
      "application/vnd.jupyter.widget-view+json": {
       "model_id": "69ebc83b105a40dd9a357370809660c9",
       "version_major": 2,
       "version_minor": 0
      },
      "text/plain": [
       "Drawing 20 posterior samples:   0%|          | 0/20 [00:00<?, ?it/s]"
      ]
     },
     "metadata": {},
     "output_type": "display_data"
    },
    {
     "data": {
      "application/vnd.jupyter.widget-view+json": {
       "model_id": "dbea8ac648324c6a91eaec64e367f950",
       "version_major": 2,
       "version_minor": 0
      },
      "text/plain": [
       "Drawing 20 posterior samples:   0%|          | 0/20 [00:00<?, ?it/s]"
      ]
     },
     "metadata": {},
     "output_type": "display_data"
    },
    {
     "data": {
      "application/vnd.jupyter.widget-view+json": {
       "model_id": "711925e8b38945fa81d254d5404c86fc",
       "version_major": 2,
       "version_minor": 0
      },
      "text/plain": [
       "Drawing 20 posterior samples:   0%|          | 0/20 [00:00<?, ?it/s]"
      ]
     },
     "metadata": {},
     "output_type": "display_data"
    },
    {
     "data": {
      "application/vnd.jupyter.widget-view+json": {
       "model_id": "42ca83cc082840498db6aec46701de71",
       "version_major": 2,
       "version_minor": 0
      },
      "text/plain": [
       "Drawing 20 posterior samples:   0%|          | 0/20 [00:00<?, ?it/s]"
      ]
     },
     "metadata": {},
     "output_type": "display_data"
    },
    {
     "data": {
      "application/vnd.jupyter.widget-view+json": {
       "model_id": "8216250b58564d7eaf94c143fa60a36a",
       "version_major": 2,
       "version_minor": 0
      },
      "text/plain": [
       "Drawing 20 posterior samples:   0%|          | 0/20 [00:00<?, ?it/s]"
      ]
     },
     "metadata": {},
     "output_type": "display_data"
    },
    {
     "data": {
      "application/vnd.jupyter.widget-view+json": {
       "model_id": "60955e1e2a954d04b70bd1242e08ce39",
       "version_major": 2,
       "version_minor": 0
      },
      "text/plain": [
       "Drawing 20 posterior samples:   0%|          | 0/20 [00:00<?, ?it/s]"
      ]
     },
     "metadata": {},
     "output_type": "display_data"
    },
    {
     "data": {
      "application/vnd.jupyter.widget-view+json": {
       "model_id": "927bdb19932f40a08877e199898a257e",
       "version_major": 2,
       "version_minor": 0
      },
      "text/plain": [
       "Drawing 20 posterior samples:   0%|          | 0/20 [00:00<?, ?it/s]"
      ]
     },
     "metadata": {},
     "output_type": "display_data"
    },
    {
     "data": {
      "application/vnd.jupyter.widget-view+json": {
       "model_id": "8ab141a9b98b4224a56e5e9cfbc17d6d",
       "version_major": 2,
       "version_minor": 0
      },
      "text/plain": [
       "Drawing 20 posterior samples:   0%|          | 0/20 [00:00<?, ?it/s]"
      ]
     },
     "metadata": {},
     "output_type": "display_data"
    },
    {
     "data": {
      "application/vnd.jupyter.widget-view+json": {
       "model_id": "85c7679791684bbea589bc953e206409",
       "version_major": 2,
       "version_minor": 0
      },
      "text/plain": [
       "Drawing 20 posterior samples:   0%|          | 0/20 [00:00<?, ?it/s]"
      ]
     },
     "metadata": {},
     "output_type": "display_data"
    },
    {
     "data": {
      "application/vnd.jupyter.widget-view+json": {
       "model_id": "5c80bf630a6845acae4ca1e74e87d81f",
       "version_major": 2,
       "version_minor": 0
      },
      "text/plain": [
       "Drawing 20 posterior samples:   0%|          | 0/20 [00:00<?, ?it/s]"
      ]
     },
     "metadata": {},
     "output_type": "display_data"
    },
    {
     "data": {
      "application/vnd.jupyter.widget-view+json": {
       "model_id": "239b7069f0644313ab1b3abde8437a69",
       "version_major": 2,
       "version_minor": 0
      },
      "text/plain": [
       "Drawing 20 posterior samples:   0%|          | 0/20 [00:00<?, ?it/s]"
      ]
     },
     "metadata": {},
     "output_type": "display_data"
    },
    {
     "data": {
      "application/vnd.jupyter.widget-view+json": {
       "model_id": "6b2e5c5a24c54da88c00bdaec7453385",
       "version_major": 2,
       "version_minor": 0
      },
      "text/plain": [
       "Drawing 20 posterior samples:   0%|          | 0/20 [00:00<?, ?it/s]"
      ]
     },
     "metadata": {},
     "output_type": "display_data"
    },
    {
     "data": {
      "application/vnd.jupyter.widget-view+json": {
       "model_id": "0c6900f12bcb4435a6a1c19481bf009c",
       "version_major": 2,
       "version_minor": 0
      },
      "text/plain": [
       "Drawing 20 posterior samples:   0%|          | 0/20 [00:00<?, ?it/s]"
      ]
     },
     "metadata": {},
     "output_type": "display_data"
    },
    {
     "data": {
      "application/vnd.jupyter.widget-view+json": {
       "model_id": "6e494bf105c24725825aeb6fccd55398",
       "version_major": 2,
       "version_minor": 0
      },
      "text/plain": [
       "Drawing 20 posterior samples:   0%|          | 0/20 [00:00<?, ?it/s]"
      ]
     },
     "metadata": {},
     "output_type": "display_data"
    },
    {
     "data": {
      "application/vnd.jupyter.widget-view+json": {
       "model_id": "7d54ea7d4b944090ac3a099d11f67943",
       "version_major": 2,
       "version_minor": 0
      },
      "text/plain": [
       "Drawing 20 posterior samples:   0%|          | 0/20 [00:00<?, ?it/s]"
      ]
     },
     "metadata": {},
     "output_type": "display_data"
    },
    {
     "data": {
      "application/vnd.jupyter.widget-view+json": {
       "model_id": "86f8099fe32c423d9d11c50ac495dc50",
       "version_major": 2,
       "version_minor": 0
      },
      "text/plain": [
       "Drawing 20 posterior samples:   0%|          | 0/20 [00:00<?, ?it/s]"
      ]
     },
     "metadata": {},
     "output_type": "display_data"
    },
    {
     "data": {
      "application/vnd.jupyter.widget-view+json": {
       "model_id": "9bf5f0dbef2c412395d881cc4ce154c8",
       "version_major": 2,
       "version_minor": 0
      },
      "text/plain": [
       "Drawing 20 posterior samples:   0%|          | 0/20 [00:00<?, ?it/s]"
      ]
     },
     "metadata": {},
     "output_type": "display_data"
    },
    {
     "data": {
      "application/vnd.jupyter.widget-view+json": {
       "model_id": "3b8f65046afe4790bb1dd22667dfd714",
       "version_major": 2,
       "version_minor": 0
      },
      "text/plain": [
       "Drawing 20 posterior samples:   0%|          | 0/20 [00:00<?, ?it/s]"
      ]
     },
     "metadata": {},
     "output_type": "display_data"
    },
    {
     "data": {
      "application/vnd.jupyter.widget-view+json": {
       "model_id": "04f90648db7d465492bb6b42f6be7a21",
       "version_major": 2,
       "version_minor": 0
      },
      "text/plain": [
       "Drawing 20 posterior samples:   0%|          | 0/20 [00:00<?, ?it/s]"
      ]
     },
     "metadata": {},
     "output_type": "display_data"
    },
    {
     "data": {
      "application/vnd.jupyter.widget-view+json": {
       "model_id": "62cc229ad1534976980d493cd75f2957",
       "version_major": 2,
       "version_minor": 0
      },
      "text/plain": [
       "Drawing 20 posterior samples:   0%|          | 0/20 [00:00<?, ?it/s]"
      ]
     },
     "metadata": {},
     "output_type": "display_data"
    },
    {
     "data": {
      "application/vnd.jupyter.widget-view+json": {
       "model_id": "e0516532f20c4e32a1bd59cab0e02770",
       "version_major": 2,
       "version_minor": 0
      },
      "text/plain": [
       "Drawing 20 posterior samples:   0%|          | 0/20 [00:00<?, ?it/s]"
      ]
     },
     "metadata": {},
     "output_type": "display_data"
    },
    {
     "data": {
      "application/vnd.jupyter.widget-view+json": {
       "model_id": "f948e993329e4fd29e4896ded730e612",
       "version_major": 2,
       "version_minor": 0
      },
      "text/plain": [
       "Drawing 20 posterior samples:   0%|          | 0/20 [00:00<?, ?it/s]"
      ]
     },
     "metadata": {},
     "output_type": "display_data"
    },
    {
     "data": {
      "application/vnd.jupyter.widget-view+json": {
       "model_id": "b1d3853d4f394219aaa158c37e104b7b",
       "version_major": 2,
       "version_minor": 0
      },
      "text/plain": [
       "Drawing 20 posterior samples:   0%|          | 0/20 [00:00<?, ?it/s]"
      ]
     },
     "metadata": {},
     "output_type": "display_data"
    },
    {
     "data": {
      "application/vnd.jupyter.widget-view+json": {
       "model_id": "710a7f23e4ef452a8a8887ddf8a74812",
       "version_major": 2,
       "version_minor": 0
      },
      "text/plain": [
       "Drawing 20 posterior samples:   0%|          | 0/20 [00:00<?, ?it/s]"
      ]
     },
     "metadata": {},
     "output_type": "display_data"
    },
    {
     "data": {
      "application/vnd.jupyter.widget-view+json": {
       "model_id": "f449205229a543a6971fce0bdbccce8a",
       "version_major": 2,
       "version_minor": 0
      },
      "text/plain": [
       "Drawing 20 posterior samples:   0%|          | 0/20 [00:00<?, ?it/s]"
      ]
     },
     "metadata": {},
     "output_type": "display_data"
    },
    {
     "data": {
      "application/vnd.jupyter.widget-view+json": {
       "model_id": "849bcfddbb5446c6bc1e45bee4ad7ece",
       "version_major": 2,
       "version_minor": 0
      },
      "text/plain": [
       "Drawing 20 posterior samples:   0%|          | 0/20 [00:00<?, ?it/s]"
      ]
     },
     "metadata": {},
     "output_type": "display_data"
    },
    {
     "data": {
      "application/vnd.jupyter.widget-view+json": {
       "model_id": "370e5cc130894f3eaf07a1267c853226",
       "version_major": 2,
       "version_minor": 0
      },
      "text/plain": [
       "Drawing 20 posterior samples:   0%|          | 0/20 [00:00<?, ?it/s]"
      ]
     },
     "metadata": {},
     "output_type": "display_data"
    },
    {
     "data": {
      "application/vnd.jupyter.widget-view+json": {
       "model_id": "510d676a7c89410ba2cf27b657851291",
       "version_major": 2,
       "version_minor": 0
      },
      "text/plain": [
       "Drawing 20 posterior samples:   0%|          | 0/20 [00:00<?, ?it/s]"
      ]
     },
     "metadata": {},
     "output_type": "display_data"
    },
    {
     "data": {
      "application/vnd.jupyter.widget-view+json": {
       "model_id": "0605f320c0424799a7400773422a98e6",
       "version_major": 2,
       "version_minor": 0
      },
      "text/plain": [
       "Drawing 20 posterior samples:   0%|          | 0/20 [00:00<?, ?it/s]"
      ]
     },
     "metadata": {},
     "output_type": "display_data"
    },
    {
     "data": {
      "application/vnd.jupyter.widget-view+json": {
       "model_id": "758fd405a09344babf245c286d96f5bd",
       "version_major": 2,
       "version_minor": 0
      },
      "text/plain": [
       "Drawing 20 posterior samples:   0%|          | 0/20 [00:00<?, ?it/s]"
      ]
     },
     "metadata": {},
     "output_type": "display_data"
    },
    {
     "data": {
      "application/vnd.jupyter.widget-view+json": {
       "model_id": "05f11911d264461c8c269c1aa8a72646",
       "version_major": 2,
       "version_minor": 0
      },
      "text/plain": [
       "Drawing 20 posterior samples:   0%|          | 0/20 [00:00<?, ?it/s]"
      ]
     },
     "metadata": {},
     "output_type": "display_data"
    },
    {
     "data": {
      "application/vnd.jupyter.widget-view+json": {
       "model_id": "f044f12bd48d44a9978bf0a5f23e609c",
       "version_major": 2,
       "version_minor": 0
      },
      "text/plain": [
       "Drawing 20 posterior samples:   0%|          | 0/20 [00:00<?, ?it/s]"
      ]
     },
     "metadata": {},
     "output_type": "display_data"
    },
    {
     "data": {
      "application/vnd.jupyter.widget-view+json": {
       "model_id": "44fb8381171642a4acc34609a129d895",
       "version_major": 2,
       "version_minor": 0
      },
      "text/plain": [
       "Drawing 20 posterior samples:   0%|          | 0/20 [00:00<?, ?it/s]"
      ]
     },
     "metadata": {},
     "output_type": "display_data"
    },
    {
     "data": {
      "application/vnd.jupyter.widget-view+json": {
       "model_id": "b949964434874f21bb95d46b6f008b8f",
       "version_major": 2,
       "version_minor": 0
      },
      "text/plain": [
       "Drawing 20 posterior samples:   0%|          | 0/20 [00:00<?, ?it/s]"
      ]
     },
     "metadata": {},
     "output_type": "display_data"
    },
    {
     "data": {
      "application/vnd.jupyter.widget-view+json": {
       "model_id": "9e61d431108b43fba462d6933f316d91",
       "version_major": 2,
       "version_minor": 0
      },
      "text/plain": [
       "Drawing 20 posterior samples:   0%|          | 0/20 [00:00<?, ?it/s]"
      ]
     },
     "metadata": {},
     "output_type": "display_data"
    },
    {
     "data": {
      "application/vnd.jupyter.widget-view+json": {
       "model_id": "f1d4a7561bd348ea935945844b92b979",
       "version_major": 2,
       "version_minor": 0
      },
      "text/plain": [
       "Drawing 20 posterior samples:   0%|          | 0/20 [00:00<?, ?it/s]"
      ]
     },
     "metadata": {},
     "output_type": "display_data"
    },
    {
     "data": {
      "application/vnd.jupyter.widget-view+json": {
       "model_id": "3a77994d10ff4034a3c101c87fc242ee",
       "version_major": 2,
       "version_minor": 0
      },
      "text/plain": [
       "Drawing 20 posterior samples:   0%|          | 0/20 [00:00<?, ?it/s]"
      ]
     },
     "metadata": {},
     "output_type": "display_data"
    },
    {
     "data": {
      "application/vnd.jupyter.widget-view+json": {
       "model_id": "ae1ec6144fd04ccf832b954dc1e9cac8",
       "version_major": 2,
       "version_minor": 0
      },
      "text/plain": [
       "Drawing 20 posterior samples:   0%|          | 0/20 [00:00<?, ?it/s]"
      ]
     },
     "metadata": {},
     "output_type": "display_data"
    },
    {
     "data": {
      "application/vnd.jupyter.widget-view+json": {
       "model_id": "84eecf5c2b604d308dd5186cf26fdd66",
       "version_major": 2,
       "version_minor": 0
      },
      "text/plain": [
       "Drawing 20 posterior samples:   0%|          | 0/20 [00:00<?, ?it/s]"
      ]
     },
     "metadata": {},
     "output_type": "display_data"
    },
    {
     "data": {
      "application/vnd.jupyter.widget-view+json": {
       "model_id": "e8cce20f22414686b725949c7ca8660b",
       "version_major": 2,
       "version_minor": 0
      },
      "text/plain": [
       "Drawing 20 posterior samples:   0%|          | 0/20 [00:00<?, ?it/s]"
      ]
     },
     "metadata": {},
     "output_type": "display_data"
    },
    {
     "data": {
      "application/vnd.jupyter.widget-view+json": {
       "model_id": "262a339fd3d948b9b60bc279cf690940",
       "version_major": 2,
       "version_minor": 0
      },
      "text/plain": [
       "Drawing 20 posterior samples:   0%|          | 0/20 [00:00<?, ?it/s]"
      ]
     },
     "metadata": {},
     "output_type": "display_data"
    },
    {
     "data": {
      "application/vnd.jupyter.widget-view+json": {
       "model_id": "d5f25d105c984f5eb8acdba47aa94aaa",
       "version_major": 2,
       "version_minor": 0
      },
      "text/plain": [
       "Drawing 20 posterior samples:   0%|          | 0/20 [00:00<?, ?it/s]"
      ]
     },
     "metadata": {},
     "output_type": "display_data"
    },
    {
     "data": {
      "application/vnd.jupyter.widget-view+json": {
       "model_id": "976c0b98a5384f41b462869bf7bc01a7",
       "version_major": 2,
       "version_minor": 0
      },
      "text/plain": [
       "Drawing 20 posterior samples:   0%|          | 0/20 [00:00<?, ?it/s]"
      ]
     },
     "metadata": {},
     "output_type": "display_data"
    },
    {
     "data": {
      "application/vnd.jupyter.widget-view+json": {
       "model_id": "0f71c1eeb4264126b4ad7abb381e3d97",
       "version_major": 2,
       "version_minor": 0
      },
      "text/plain": [
       "Drawing 20 posterior samples:   0%|          | 0/20 [00:00<?, ?it/s]"
      ]
     },
     "metadata": {},
     "output_type": "display_data"
    },
    {
     "data": {
      "application/vnd.jupyter.widget-view+json": {
       "model_id": "51581b92dfb14e929f07b9b30dbe1193",
       "version_major": 2,
       "version_minor": 0
      },
      "text/plain": [
       "Drawing 20 posterior samples:   0%|          | 0/20 [00:00<?, ?it/s]"
      ]
     },
     "metadata": {},
     "output_type": "display_data"
    },
    {
     "data": {
      "application/vnd.jupyter.widget-view+json": {
       "model_id": "53fc116de30e4390b299408f13b11d94",
       "version_major": 2,
       "version_minor": 0
      },
      "text/plain": [
       "Drawing 20 posterior samples:   0%|          | 0/20 [00:00<?, ?it/s]"
      ]
     },
     "metadata": {},
     "output_type": "display_data"
    },
    {
     "data": {
      "application/vnd.jupyter.widget-view+json": {
       "model_id": "e0ad32fb15b84602ac7330960f511b54",
       "version_major": 2,
       "version_minor": 0
      },
      "text/plain": [
       "Drawing 20 posterior samples:   0%|          | 0/20 [00:00<?, ?it/s]"
      ]
     },
     "metadata": {},
     "output_type": "display_data"
    },
    {
     "data": {
      "application/vnd.jupyter.widget-view+json": {
       "model_id": "352babaf68c642f1b79408a813d2142b",
       "version_major": 2,
       "version_minor": 0
      },
      "text/plain": [
       "Drawing 20 posterior samples:   0%|          | 0/20 [00:00<?, ?it/s]"
      ]
     },
     "metadata": {},
     "output_type": "display_data"
    },
    {
     "data": {
      "application/vnd.jupyter.widget-view+json": {
       "model_id": "d127678ec0804e95bb4d62e02471a225",
       "version_major": 2,
       "version_minor": 0
      },
      "text/plain": [
       "Drawing 20 posterior samples:   0%|          | 0/20 [00:00<?, ?it/s]"
      ]
     },
     "metadata": {},
     "output_type": "display_data"
    },
    {
     "data": {
      "application/vnd.jupyter.widget-view+json": {
       "model_id": "e606614a21194061a97dba031ac29694",
       "version_major": 2,
       "version_minor": 0
      },
      "text/plain": [
       "Drawing 20 posterior samples:   0%|          | 0/20 [00:00<?, ?it/s]"
      ]
     },
     "metadata": {},
     "output_type": "display_data"
    },
    {
     "data": {
      "application/vnd.jupyter.widget-view+json": {
       "model_id": "119abe39937649b5979d159dbce1ac3c",
       "version_major": 2,
       "version_minor": 0
      },
      "text/plain": [
       "Drawing 20 posterior samples:   0%|          | 0/20 [00:00<?, ?it/s]"
      ]
     },
     "metadata": {},
     "output_type": "display_data"
    },
    {
     "data": {
      "application/vnd.jupyter.widget-view+json": {
       "model_id": "a71b4f4cbda246e78007ba7e614c5e06",
       "version_major": 2,
       "version_minor": 0
      },
      "text/plain": [
       "Drawing 20 posterior samples:   0%|          | 0/20 [00:00<?, ?it/s]"
      ]
     },
     "metadata": {},
     "output_type": "display_data"
    },
    {
     "data": {
      "application/vnd.jupyter.widget-view+json": {
       "model_id": "de84b0e1d4b44136b0997cb5e77bfea9",
       "version_major": 2,
       "version_minor": 0
      },
      "text/plain": [
       "Drawing 20 posterior samples:   0%|          | 0/20 [00:00<?, ?it/s]"
      ]
     },
     "metadata": {},
     "output_type": "display_data"
    },
    {
     "data": {
      "application/vnd.jupyter.widget-view+json": {
       "model_id": "22f5900c364b4b8eb249614a211b4567",
       "version_major": 2,
       "version_minor": 0
      },
      "text/plain": [
       "Drawing 20 posterior samples:   0%|          | 0/20 [00:00<?, ?it/s]"
      ]
     },
     "metadata": {},
     "output_type": "display_data"
    },
    {
     "data": {
      "application/vnd.jupyter.widget-view+json": {
       "model_id": "fbc715fdc9c94fa3919823cb25b4b8cc",
       "version_major": 2,
       "version_minor": 0
      },
      "text/plain": [
       "Drawing 20 posterior samples:   0%|          | 0/20 [00:00<?, ?it/s]"
      ]
     },
     "metadata": {},
     "output_type": "display_data"
    },
    {
     "data": {
      "application/vnd.jupyter.widget-view+json": {
       "model_id": "ac25470450264511a9cf442eb3c682a1",
       "version_major": 2,
       "version_minor": 0
      },
      "text/plain": [
       "Drawing 20 posterior samples:   0%|          | 0/20 [00:00<?, ?it/s]"
      ]
     },
     "metadata": {},
     "output_type": "display_data"
    },
    {
     "data": {
      "application/vnd.jupyter.widget-view+json": {
       "model_id": "1274759daa50493395b3b628c0857dfc",
       "version_major": 2,
       "version_minor": 0
      },
      "text/plain": [
       "Drawing 20 posterior samples:   0%|          | 0/20 [00:00<?, ?it/s]"
      ]
     },
     "metadata": {},
     "output_type": "display_data"
    },
    {
     "data": {
      "application/vnd.jupyter.widget-view+json": {
       "model_id": "d67898ef9ef74a1da0dacb74c858fb98",
       "version_major": 2,
       "version_minor": 0
      },
      "text/plain": [
       "Drawing 20 posterior samples:   0%|          | 0/20 [00:00<?, ?it/s]"
      ]
     },
     "metadata": {},
     "output_type": "display_data"
    },
    {
     "data": {
      "application/vnd.jupyter.widget-view+json": {
       "model_id": "e62ab5021d8342c180e4fd285f5803d8",
       "version_major": 2,
       "version_minor": 0
      },
      "text/plain": [
       "Drawing 20 posterior samples:   0%|          | 0/20 [00:00<?, ?it/s]"
      ]
     },
     "metadata": {},
     "output_type": "display_data"
    },
    {
     "data": {
      "application/vnd.jupyter.widget-view+json": {
       "model_id": "e77e526f9906408296e2a9b8f397e4e6",
       "version_major": 2,
       "version_minor": 0
      },
      "text/plain": [
       "Drawing 20 posterior samples:   0%|          | 0/20 [00:00<?, ?it/s]"
      ]
     },
     "metadata": {},
     "output_type": "display_data"
    },
    {
     "data": {
      "application/vnd.jupyter.widget-view+json": {
       "model_id": "7ee85a58fa7c4ce585489f403ce0e8ed",
       "version_major": 2,
       "version_minor": 0
      },
      "text/plain": [
       "Drawing 20 posterior samples:   0%|          | 0/20 [00:00<?, ?it/s]"
      ]
     },
     "metadata": {},
     "output_type": "display_data"
    },
    {
     "data": {
      "application/vnd.jupyter.widget-view+json": {
       "model_id": "ae9cb7b6a27f4b3995a952b55227dfda",
       "version_major": 2,
       "version_minor": 0
      },
      "text/plain": [
       "Drawing 20 posterior samples:   0%|          | 0/20 [00:00<?, ?it/s]"
      ]
     },
     "metadata": {},
     "output_type": "display_data"
    },
    {
     "data": {
      "application/vnd.jupyter.widget-view+json": {
       "model_id": "f1d96ecf78044faba628eca9e6d983fd",
       "version_major": 2,
       "version_minor": 0
      },
      "text/plain": [
       "Drawing 20 posterior samples:   0%|          | 0/20 [00:00<?, ?it/s]"
      ]
     },
     "metadata": {},
     "output_type": "display_data"
    },
    {
     "data": {
      "application/vnd.jupyter.widget-view+json": {
       "model_id": "e0b50e2aa7174e6a9146a86b74275f01",
       "version_major": 2,
       "version_minor": 0
      },
      "text/plain": [
       "Drawing 20 posterior samples:   0%|          | 0/20 [00:00<?, ?it/s]"
      ]
     },
     "metadata": {},
     "output_type": "display_data"
    },
    {
     "data": {
      "application/vnd.jupyter.widget-view+json": {
       "model_id": "cdb0b30413644a62a075ac2a2a929245",
       "version_major": 2,
       "version_minor": 0
      },
      "text/plain": [
       "Drawing 20 posterior samples:   0%|          | 0/20 [00:00<?, ?it/s]"
      ]
     },
     "metadata": {},
     "output_type": "display_data"
    },
    {
     "data": {
      "application/vnd.jupyter.widget-view+json": {
       "model_id": "f45eadd211864505b5be3f03a2947dee",
       "version_major": 2,
       "version_minor": 0
      },
      "text/plain": [
       "Drawing 20 posterior samples:   0%|          | 0/20 [00:00<?, ?it/s]"
      ]
     },
     "metadata": {},
     "output_type": "display_data"
    },
    {
     "data": {
      "application/vnd.jupyter.widget-view+json": {
       "model_id": "711f1a611e8b44edbc75e323e185f3eb",
       "version_major": 2,
       "version_minor": 0
      },
      "text/plain": [
       "Drawing 20 posterior samples:   0%|          | 0/20 [00:00<?, ?it/s]"
      ]
     },
     "metadata": {},
     "output_type": "display_data"
    },
    {
     "data": {
      "application/vnd.jupyter.widget-view+json": {
       "model_id": "560842117a5b49d6903bd9faa07d0d79",
       "version_major": 2,
       "version_minor": 0
      },
      "text/plain": [
       "Drawing 20 posterior samples:   0%|          | 0/20 [00:00<?, ?it/s]"
      ]
     },
     "metadata": {},
     "output_type": "display_data"
    },
    {
     "data": {
      "application/vnd.jupyter.widget-view+json": {
       "model_id": "ed3858c3b7a141bab5ee76083fc02a10",
       "version_major": 2,
       "version_minor": 0
      },
      "text/plain": [
       "Drawing 20 posterior samples:   0%|          | 0/20 [00:00<?, ?it/s]"
      ]
     },
     "metadata": {},
     "output_type": "display_data"
    },
    {
     "data": {
      "application/vnd.jupyter.widget-view+json": {
       "model_id": "47e94cfb0b4047f9a7944c21d44fc30a",
       "version_major": 2,
       "version_minor": 0
      },
      "text/plain": [
       "Drawing 20 posterior samples:   0%|          | 0/20 [00:00<?, ?it/s]"
      ]
     },
     "metadata": {},
     "output_type": "display_data"
    },
    {
     "data": {
      "application/vnd.jupyter.widget-view+json": {
       "model_id": "b35eb13c68f54a5ca8edbc2837af8714",
       "version_major": 2,
       "version_minor": 0
      },
      "text/plain": [
       "Drawing 20 posterior samples:   0%|          | 0/20 [00:00<?, ?it/s]"
      ]
     },
     "metadata": {},
     "output_type": "display_data"
    },
    {
     "data": {
      "application/vnd.jupyter.widget-view+json": {
       "model_id": "736eeaf7b3a641c0ad28914d760933ec",
       "version_major": 2,
       "version_minor": 0
      },
      "text/plain": [
       "Drawing 20 posterior samples:   0%|          | 0/20 [00:00<?, ?it/s]"
      ]
     },
     "metadata": {},
     "output_type": "display_data"
    },
    {
     "data": {
      "application/vnd.jupyter.widget-view+json": {
       "model_id": "74fbc3231414435591cf8cfbb993fdf8",
       "version_major": 2,
       "version_minor": 0
      },
      "text/plain": [
       "Drawing 20 posterior samples:   0%|          | 0/20 [00:00<?, ?it/s]"
      ]
     },
     "metadata": {},
     "output_type": "display_data"
    },
    {
     "data": {
      "application/vnd.jupyter.widget-view+json": {
       "model_id": "3ca63bfab2f34d9f82d9e7a5185fb2f0",
       "version_major": 2,
       "version_minor": 0
      },
      "text/plain": [
       "Drawing 20 posterior samples:   0%|          | 0/20 [00:00<?, ?it/s]"
      ]
     },
     "metadata": {},
     "output_type": "display_data"
    },
    {
     "data": {
      "application/vnd.jupyter.widget-view+json": {
       "model_id": "dafb325a510c4b63891edd4368e52d5c",
       "version_major": 2,
       "version_minor": 0
      },
      "text/plain": [
       "Drawing 20 posterior samples:   0%|          | 0/20 [00:00<?, ?it/s]"
      ]
     },
     "metadata": {},
     "output_type": "display_data"
    },
    {
     "data": {
      "application/vnd.jupyter.widget-view+json": {
       "model_id": "3d91ffa049e046aabcd6851c17720778",
       "version_major": 2,
       "version_minor": 0
      },
      "text/plain": [
       "Drawing 20 posterior samples:   0%|          | 0/20 [00:00<?, ?it/s]"
      ]
     },
     "metadata": {},
     "output_type": "display_data"
    },
    {
     "data": {
      "application/vnd.jupyter.widget-view+json": {
       "model_id": "cfe9581f047f40a493a0a69c7e8d45c5",
       "version_major": 2,
       "version_minor": 0
      },
      "text/plain": [
       "Drawing 20 posterior samples:   0%|          | 0/20 [00:00<?, ?it/s]"
      ]
     },
     "metadata": {},
     "output_type": "display_data"
    },
    {
     "data": {
      "application/vnd.jupyter.widget-view+json": {
       "model_id": "2206a3c6bb4e4c0bbbeda605cd2dfdcd",
       "version_major": 2,
       "version_minor": 0
      },
      "text/plain": [
       "Drawing 20 posterior samples:   0%|          | 0/20 [00:00<?, ?it/s]"
      ]
     },
     "metadata": {},
     "output_type": "display_data"
    },
    {
     "data": {
      "application/vnd.jupyter.widget-view+json": {
       "model_id": "1a07820d8dbb441480f6909536cb37a2",
       "version_major": 2,
       "version_minor": 0
      },
      "text/plain": [
       "Drawing 20 posterior samples:   0%|          | 0/20 [00:00<?, ?it/s]"
      ]
     },
     "metadata": {},
     "output_type": "display_data"
    },
    {
     "data": {
      "application/vnd.jupyter.widget-view+json": {
       "model_id": "b1f57204d209408f8accdcdc9dec8acc",
       "version_major": 2,
       "version_minor": 0
      },
      "text/plain": [
       "Drawing 20 posterior samples:   0%|          | 0/20 [00:00<?, ?it/s]"
      ]
     },
     "metadata": {},
     "output_type": "display_data"
    },
    {
     "data": {
      "application/vnd.jupyter.widget-view+json": {
       "model_id": "cb030d57804c4b579eefc058273973a6",
       "version_major": 2,
       "version_minor": 0
      },
      "text/plain": [
       "Drawing 20 posterior samples:   0%|          | 0/20 [00:00<?, ?it/s]"
      ]
     },
     "metadata": {},
     "output_type": "display_data"
    },
    {
     "data": {
      "application/vnd.jupyter.widget-view+json": {
       "model_id": "a5b08e64afdf4c7bbc76af5f7bbed601",
       "version_major": 2,
       "version_minor": 0
      },
      "text/plain": [
       "Drawing 20 posterior samples:   0%|          | 0/20 [00:00<?, ?it/s]"
      ]
     },
     "metadata": {},
     "output_type": "display_data"
    },
    {
     "data": {
      "application/vnd.jupyter.widget-view+json": {
       "model_id": "7920f72bda3c424baf90422463fb2ac5",
       "version_major": 2,
       "version_minor": 0
      },
      "text/plain": [
       "Drawing 20 posterior samples:   0%|          | 0/20 [00:00<?, ?it/s]"
      ]
     },
     "metadata": {},
     "output_type": "display_data"
    },
    {
     "data": {
      "application/vnd.jupyter.widget-view+json": {
       "model_id": "44635560951c4f67bac454ecf4302ddf",
       "version_major": 2,
       "version_minor": 0
      },
      "text/plain": [
       "Drawing 20 posterior samples:   0%|          | 0/20 [00:00<?, ?it/s]"
      ]
     },
     "metadata": {},
     "output_type": "display_data"
    },
    {
     "data": {
      "application/vnd.jupyter.widget-view+json": {
       "model_id": "122af4d06b54452e8f8df14786cdb3ad",
       "version_major": 2,
       "version_minor": 0
      },
      "text/plain": [
       "Drawing 20 posterior samples:   0%|          | 0/20 [00:00<?, ?it/s]"
      ]
     },
     "metadata": {},
     "output_type": "display_data"
    },
    {
     "data": {
      "application/vnd.jupyter.widget-view+json": {
       "model_id": "f72b8c38d99440c99f685e32660f7915",
       "version_major": 2,
       "version_minor": 0
      },
      "text/plain": [
       "Drawing 20 posterior samples:   0%|          | 0/20 [00:00<?, ?it/s]"
      ]
     },
     "metadata": {},
     "output_type": "display_data"
    },
    {
     "data": {
      "application/vnd.jupyter.widget-view+json": {
       "model_id": "6f94f55c1bca435a8ef8b503b79b4689",
       "version_major": 2,
       "version_minor": 0
      },
      "text/plain": [
       "Drawing 20 posterior samples:   0%|          | 0/20 [00:00<?, ?it/s]"
      ]
     },
     "metadata": {},
     "output_type": "display_data"
    },
    {
     "data": {
      "application/vnd.jupyter.widget-view+json": {
       "model_id": "904150a99fc14c8c8d189d1087dfab03",
       "version_major": 2,
       "version_minor": 0
      },
      "text/plain": [
       "Drawing 20 posterior samples:   0%|          | 0/20 [00:00<?, ?it/s]"
      ]
     },
     "metadata": {},
     "output_type": "display_data"
    },
    {
     "data": {
      "application/vnd.jupyter.widget-view+json": {
       "model_id": "21c83b393d004ad6acc3c5d052307b67",
       "version_major": 2,
       "version_minor": 0
      },
      "text/plain": [
       "Drawing 20 posterior samples:   0%|          | 0/20 [00:00<?, ?it/s]"
      ]
     },
     "metadata": {},
     "output_type": "display_data"
    },
    {
     "data": {
      "application/vnd.jupyter.widget-view+json": {
       "model_id": "9b945adcfd5141b6b309cac31cee93f7",
       "version_major": 2,
       "version_minor": 0
      },
      "text/plain": [
       "Drawing 20 posterior samples:   0%|          | 0/20 [00:00<?, ?it/s]"
      ]
     },
     "metadata": {},
     "output_type": "display_data"
    },
    {
     "data": {
      "application/vnd.jupyter.widget-view+json": {
       "model_id": "0b1c51bcf77843adb4aea462d825ddaf",
       "version_major": 2,
       "version_minor": 0
      },
      "text/plain": [
       "Drawing 20 posterior samples:   0%|          | 0/20 [00:00<?, ?it/s]"
      ]
     },
     "metadata": {},
     "output_type": "display_data"
    },
    {
     "data": {
      "application/vnd.jupyter.widget-view+json": {
       "model_id": "c3a4fa25f61d48bfa389599c420b1023",
       "version_major": 2,
       "version_minor": 0
      },
      "text/plain": [
       "Drawing 20 posterior samples:   0%|          | 0/20 [00:00<?, ?it/s]"
      ]
     },
     "metadata": {},
     "output_type": "display_data"
    },
    {
     "data": {
      "application/vnd.jupyter.widget-view+json": {
       "model_id": "ab7448aa96504292a4da3363310e070c",
       "version_major": 2,
       "version_minor": 0
      },
      "text/plain": [
       "Drawing 20 posterior samples:   0%|          | 0/20 [00:00<?, ?it/s]"
      ]
     },
     "metadata": {},
     "output_type": "display_data"
    },
    {
     "data": {
      "application/vnd.jupyter.widget-view+json": {
       "model_id": "315e054dfe9841a5a5882e0662c74549",
       "version_major": 2,
       "version_minor": 0
      },
      "text/plain": [
       "Drawing 20 posterior samples:   0%|          | 0/20 [00:00<?, ?it/s]"
      ]
     },
     "metadata": {},
     "output_type": "display_data"
    },
    {
     "data": {
      "application/vnd.jupyter.widget-view+json": {
       "model_id": "7a90eccf2db145ebb58b4c0639bc057f",
       "version_major": 2,
       "version_minor": 0
      },
      "text/plain": [
       "Drawing 20 posterior samples:   0%|          | 0/20 [00:00<?, ?it/s]"
      ]
     },
     "metadata": {},
     "output_type": "display_data"
    },
    {
     "data": {
      "application/vnd.jupyter.widget-view+json": {
       "model_id": "a9763b1fe1564ea6a2b5d409dc7e4834",
       "version_major": 2,
       "version_minor": 0
      },
      "text/plain": [
       "Drawing 20 posterior samples:   0%|          | 0/20 [00:00<?, ?it/s]"
      ]
     },
     "metadata": {},
     "output_type": "display_data"
    },
    {
     "data": {
      "application/vnd.jupyter.widget-view+json": {
       "model_id": "9932661ec61046968e9d9e9542fdcaad",
       "version_major": 2,
       "version_minor": 0
      },
      "text/plain": [
       "Drawing 20 posterior samples:   0%|          | 0/20 [00:00<?, ?it/s]"
      ]
     },
     "metadata": {},
     "output_type": "display_data"
    },
    {
     "data": {
      "application/vnd.jupyter.widget-view+json": {
       "model_id": "930950c288444920ab0a4fcbb3d6200d",
       "version_major": 2,
       "version_minor": 0
      },
      "text/plain": [
       "Drawing 20 posterior samples:   0%|          | 0/20 [00:00<?, ?it/s]"
      ]
     },
     "metadata": {},
     "output_type": "display_data"
    },
    {
     "data": {
      "application/vnd.jupyter.widget-view+json": {
       "model_id": "87322141025f47ec95fda8df68f2b719",
       "version_major": 2,
       "version_minor": 0
      },
      "text/plain": [
       "Drawing 20 posterior samples:   0%|          | 0/20 [00:00<?, ?it/s]"
      ]
     },
     "metadata": {},
     "output_type": "display_data"
    },
    {
     "data": {
      "application/vnd.jupyter.widget-view+json": {
       "model_id": "98f740c037724d178aa35d76fae8548a",
       "version_major": 2,
       "version_minor": 0
      },
      "text/plain": [
       "Drawing 20 posterior samples:   0%|          | 0/20 [00:00<?, ?it/s]"
      ]
     },
     "metadata": {},
     "output_type": "display_data"
    },
    {
     "data": {
      "application/vnd.jupyter.widget-view+json": {
       "model_id": "c46b3833716e4425bfd7c3eef68ad82b",
       "version_major": 2,
       "version_minor": 0
      },
      "text/plain": [
       "Drawing 20 posterior samples:   0%|          | 0/20 [00:00<?, ?it/s]"
      ]
     },
     "metadata": {},
     "output_type": "display_data"
    },
    {
     "data": {
      "application/vnd.jupyter.widget-view+json": {
       "model_id": "5b8c31fdb81a4f658f89fd1096735bfe",
       "version_major": 2,
       "version_minor": 0
      },
      "text/plain": [
       "Drawing 20 posterior samples:   0%|          | 0/20 [00:00<?, ?it/s]"
      ]
     },
     "metadata": {},
     "output_type": "display_data"
    },
    {
     "data": {
      "application/vnd.jupyter.widget-view+json": {
       "model_id": "588f9abab9ca4a7390ef0334bb74aab5",
       "version_major": 2,
       "version_minor": 0
      },
      "text/plain": [
       "Drawing 20 posterior samples:   0%|          | 0/20 [00:00<?, ?it/s]"
      ]
     },
     "metadata": {},
     "output_type": "display_data"
    },
    {
     "data": {
      "application/vnd.jupyter.widget-view+json": {
       "model_id": "565297cecf4046efb2cd1ec2e724f0e6",
       "version_major": 2,
       "version_minor": 0
      },
      "text/plain": [
       "Drawing 20 posterior samples:   0%|          | 0/20 [00:00<?, ?it/s]"
      ]
     },
     "metadata": {},
     "output_type": "display_data"
    },
    {
     "data": {
      "application/vnd.jupyter.widget-view+json": {
       "model_id": "12be65b6c8bd481c9bef5b3b11b3fdb5",
       "version_major": 2,
       "version_minor": 0
      },
      "text/plain": [
       "Drawing 20 posterior samples:   0%|          | 0/20 [00:00<?, ?it/s]"
      ]
     },
     "metadata": {},
     "output_type": "display_data"
    },
    {
     "data": {
      "application/vnd.jupyter.widget-view+json": {
       "model_id": "91ece0ee41a641288f6df267999f10ec",
       "version_major": 2,
       "version_minor": 0
      },
      "text/plain": [
       "Drawing 20 posterior samples:   0%|          | 0/20 [00:00<?, ?it/s]"
      ]
     },
     "metadata": {},
     "output_type": "display_data"
    },
    {
     "data": {
      "application/vnd.jupyter.widget-view+json": {
       "model_id": "a9ec3a3bd76947f5a8d7660d16c2d2e2",
       "version_major": 2,
       "version_minor": 0
      },
      "text/plain": [
       "Drawing 20 posterior samples:   0%|          | 0/20 [00:00<?, ?it/s]"
      ]
     },
     "metadata": {},
     "output_type": "display_data"
    },
    {
     "data": {
      "application/vnd.jupyter.widget-view+json": {
       "model_id": "d2f41172facf4c9a8fca29791b6a0c8a",
       "version_major": 2,
       "version_minor": 0
      },
      "text/plain": [
       "Drawing 20 posterior samples:   0%|          | 0/20 [00:00<?, ?it/s]"
      ]
     },
     "metadata": {},
     "output_type": "display_data"
    },
    {
     "data": {
      "application/vnd.jupyter.widget-view+json": {
       "model_id": "53cb640df8064c9eb8a3990d61901558",
       "version_major": 2,
       "version_minor": 0
      },
      "text/plain": [
       "Drawing 20 posterior samples:   0%|          | 0/20 [00:00<?, ?it/s]"
      ]
     },
     "metadata": {},
     "output_type": "display_data"
    },
    {
     "data": {
      "application/vnd.jupyter.widget-view+json": {
       "model_id": "d2f1d6339aeb423281ba16feed2386d7",
       "version_major": 2,
       "version_minor": 0
      },
      "text/plain": [
       "Drawing 20 posterior samples:   0%|          | 0/20 [00:00<?, ?it/s]"
      ]
     },
     "metadata": {},
     "output_type": "display_data"
    },
    {
     "data": {
      "application/vnd.jupyter.widget-view+json": {
       "model_id": "6fb977cdcdd04864b1ecdfd5adb9423b",
       "version_major": 2,
       "version_minor": 0
      },
      "text/plain": [
       "Drawing 20 posterior samples:   0%|          | 0/20 [00:00<?, ?it/s]"
      ]
     },
     "metadata": {},
     "output_type": "display_data"
    },
    {
     "data": {
      "application/vnd.jupyter.widget-view+json": {
       "model_id": "9306b1b6df064453a4e9ec3713c9d950",
       "version_major": 2,
       "version_minor": 0
      },
      "text/plain": [
       "Drawing 20 posterior samples:   0%|          | 0/20 [00:00<?, ?it/s]"
      ]
     },
     "metadata": {},
     "output_type": "display_data"
    },
    {
     "data": {
      "application/vnd.jupyter.widget-view+json": {
       "model_id": "4d56d2a190e9468a9259690ec2e36942",
       "version_major": 2,
       "version_minor": 0
      },
      "text/plain": [
       "Drawing 20 posterior samples:   0%|          | 0/20 [00:00<?, ?it/s]"
      ]
     },
     "metadata": {},
     "output_type": "display_data"
    },
    {
     "data": {
      "application/vnd.jupyter.widget-view+json": {
       "model_id": "4851b198888e4c1fa4477bddcef4e797",
       "version_major": 2,
       "version_minor": 0
      },
      "text/plain": [
       "Drawing 20 posterior samples:   0%|          | 0/20 [00:00<?, ?it/s]"
      ]
     },
     "metadata": {},
     "output_type": "display_data"
    },
    {
     "data": {
      "application/vnd.jupyter.widget-view+json": {
       "model_id": "5b7447d5773a4227800a9fe046bf1929",
       "version_major": 2,
       "version_minor": 0
      },
      "text/plain": [
       "Drawing 20 posterior samples:   0%|          | 0/20 [00:00<?, ?it/s]"
      ]
     },
     "metadata": {},
     "output_type": "display_data"
    },
    {
     "data": {
      "application/vnd.jupyter.widget-view+json": {
       "model_id": "d6d305bf7cb24ebab0debd26fac2b5d1",
       "version_major": 2,
       "version_minor": 0
      },
      "text/plain": [
       "Drawing 20 posterior samples:   0%|          | 0/20 [00:00<?, ?it/s]"
      ]
     },
     "metadata": {},
     "output_type": "display_data"
    },
    {
     "data": {
      "application/vnd.jupyter.widget-view+json": {
       "model_id": "eb6bff1dcda64d959f9870dd42568aa5",
       "version_major": 2,
       "version_minor": 0
      },
      "text/plain": [
       "Drawing 20 posterior samples:   0%|          | 0/20 [00:00<?, ?it/s]"
      ]
     },
     "metadata": {},
     "output_type": "display_data"
    },
    {
     "data": {
      "application/vnd.jupyter.widget-view+json": {
       "model_id": "433715b33a3540199430fed1b87f9fcf",
       "version_major": 2,
       "version_minor": 0
      },
      "text/plain": [
       "Drawing 20 posterior samples:   0%|          | 0/20 [00:00<?, ?it/s]"
      ]
     },
     "metadata": {},
     "output_type": "display_data"
    },
    {
     "data": {
      "application/vnd.jupyter.widget-view+json": {
       "model_id": "31917fa7132c4f95a995a808631634a1",
       "version_major": 2,
       "version_minor": 0
      },
      "text/plain": [
       "Drawing 20 posterior samples:   0%|          | 0/20 [00:00<?, ?it/s]"
      ]
     },
     "metadata": {},
     "output_type": "display_data"
    },
    {
     "data": {
      "application/vnd.jupyter.widget-view+json": {
       "model_id": "2350e00b3d344336824fc59b35637787",
       "version_major": 2,
       "version_minor": 0
      },
      "text/plain": [
       "Drawing 20 posterior samples:   0%|          | 0/20 [00:00<?, ?it/s]"
      ]
     },
     "metadata": {},
     "output_type": "display_data"
    },
    {
     "data": {
      "application/vnd.jupyter.widget-view+json": {
       "model_id": "69220ff9a38d4aad847e0006da591bb1",
       "version_major": 2,
       "version_minor": 0
      },
      "text/plain": [
       "Drawing 20 posterior samples:   0%|          | 0/20 [00:00<?, ?it/s]"
      ]
     },
     "metadata": {},
     "output_type": "display_data"
    },
    {
     "data": {
      "application/vnd.jupyter.widget-view+json": {
       "model_id": "3126f8632b58421399f2861e3278cac8",
       "version_major": 2,
       "version_minor": 0
      },
      "text/plain": [
       "Drawing 20 posterior samples:   0%|          | 0/20 [00:00<?, ?it/s]"
      ]
     },
     "metadata": {},
     "output_type": "display_data"
    },
    {
     "data": {
      "application/vnd.jupyter.widget-view+json": {
       "model_id": "be478f377d5044d8b16c83e68a8c06bf",
       "version_major": 2,
       "version_minor": 0
      },
      "text/plain": [
       "Drawing 20 posterior samples:   0%|          | 0/20 [00:00<?, ?it/s]"
      ]
     },
     "metadata": {},
     "output_type": "display_data"
    },
    {
     "data": {
      "application/vnd.jupyter.widget-view+json": {
       "model_id": "8da3a3de801a40a088873c2c3b069605",
       "version_major": 2,
       "version_minor": 0
      },
      "text/plain": [
       "Drawing 20 posterior samples:   0%|          | 0/20 [00:00<?, ?it/s]"
      ]
     },
     "metadata": {},
     "output_type": "display_data"
    },
    {
     "data": {
      "application/vnd.jupyter.widget-view+json": {
       "model_id": "0ff7633149014fc48834ec49eed50545",
       "version_major": 2,
       "version_minor": 0
      },
      "text/plain": [
       "Drawing 20 posterior samples:   0%|          | 0/20 [00:00<?, ?it/s]"
      ]
     },
     "metadata": {},
     "output_type": "display_data"
    },
    {
     "data": {
      "application/vnd.jupyter.widget-view+json": {
       "model_id": "89560ac3ead64a498b24591ae5528666",
       "version_major": 2,
       "version_minor": 0
      },
      "text/plain": [
       "Drawing 20 posterior samples:   0%|          | 0/20 [00:00<?, ?it/s]"
      ]
     },
     "metadata": {},
     "output_type": "display_data"
    },
    {
     "data": {
      "application/vnd.jupyter.widget-view+json": {
       "model_id": "a829d73d864e44c195da028f3cbb0911",
       "version_major": 2,
       "version_minor": 0
      },
      "text/plain": [
       "Drawing 20 posterior samples:   0%|          | 0/20 [00:00<?, ?it/s]"
      ]
     },
     "metadata": {},
     "output_type": "display_data"
    },
    {
     "data": {
      "application/vnd.jupyter.widget-view+json": {
       "model_id": "33f8aae1a5ef409cb9bfaf826fd312ea",
       "version_major": 2,
       "version_minor": 0
      },
      "text/plain": [
       "Drawing 20 posterior samples:   0%|          | 0/20 [00:00<?, ?it/s]"
      ]
     },
     "metadata": {},
     "output_type": "display_data"
    },
    {
     "data": {
      "application/vnd.jupyter.widget-view+json": {
       "model_id": "e89f1c57a310420a88ada45baca0624a",
       "version_major": 2,
       "version_minor": 0
      },
      "text/plain": [
       "Drawing 20 posterior samples:   0%|          | 0/20 [00:00<?, ?it/s]"
      ]
     },
     "metadata": {},
     "output_type": "display_data"
    },
    {
     "data": {
      "application/vnd.jupyter.widget-view+json": {
       "model_id": "95acf253b4ef4fcfa7e775282d31d46c",
       "version_major": 2,
       "version_minor": 0
      },
      "text/plain": [
       "Drawing 20 posterior samples:   0%|          | 0/20 [00:00<?, ?it/s]"
      ]
     },
     "metadata": {},
     "output_type": "display_data"
    },
    {
     "data": {
      "application/vnd.jupyter.widget-view+json": {
       "model_id": "89954ee3dcd84cc3acd2578027f1353e",
       "version_major": 2,
       "version_minor": 0
      },
      "text/plain": [
       "Drawing 20 posterior samples:   0%|          | 0/20 [00:00<?, ?it/s]"
      ]
     },
     "metadata": {},
     "output_type": "display_data"
    },
    {
     "data": {
      "application/vnd.jupyter.widget-view+json": {
       "model_id": "7c701ee08f594ece9b18479ece5d9898",
       "version_major": 2,
       "version_minor": 0
      },
      "text/plain": [
       "Drawing 20 posterior samples:   0%|          | 0/20 [00:00<?, ?it/s]"
      ]
     },
     "metadata": {},
     "output_type": "display_data"
    },
    {
     "data": {
      "application/vnd.jupyter.widget-view+json": {
       "model_id": "f22d5a5bb43c4fd3a7d970b1c8a27ea1",
       "version_major": 2,
       "version_minor": 0
      },
      "text/plain": [
       "Drawing 20 posterior samples:   0%|          | 0/20 [00:00<?, ?it/s]"
      ]
     },
     "metadata": {},
     "output_type": "display_data"
    },
    {
     "data": {
      "application/vnd.jupyter.widget-view+json": {
       "model_id": "1920da8f4a0d488795a9f96e38120256",
       "version_major": 2,
       "version_minor": 0
      },
      "text/plain": [
       "Drawing 20 posterior samples:   0%|          | 0/20 [00:00<?, ?it/s]"
      ]
     },
     "metadata": {},
     "output_type": "display_data"
    },
    {
     "data": {
      "application/vnd.jupyter.widget-view+json": {
       "model_id": "60a1788822894c51b13895808bab8ff0",
       "version_major": 2,
       "version_minor": 0
      },
      "text/plain": [
       "Drawing 20 posterior samples:   0%|          | 0/20 [00:00<?, ?it/s]"
      ]
     },
     "metadata": {},
     "output_type": "display_data"
    },
    {
     "data": {
      "application/vnd.jupyter.widget-view+json": {
       "model_id": "fb1e801a4afa4b0fac1f9b5d71c7aa52",
       "version_major": 2,
       "version_minor": 0
      },
      "text/plain": [
       "Drawing 20 posterior samples:   0%|          | 0/20 [00:00<?, ?it/s]"
      ]
     },
     "metadata": {},
     "output_type": "display_data"
    },
    {
     "data": {
      "application/vnd.jupyter.widget-view+json": {
       "model_id": "3963997f6f7747bc8dffd82fb2f875c9",
       "version_major": 2,
       "version_minor": 0
      },
      "text/plain": [
       "Drawing 20 posterior samples:   0%|          | 0/20 [00:00<?, ?it/s]"
      ]
     },
     "metadata": {},
     "output_type": "display_data"
    },
    {
     "data": {
      "application/vnd.jupyter.widget-view+json": {
       "model_id": "fbe41959823d49c4bdce40382261a734",
       "version_major": 2,
       "version_minor": 0
      },
      "text/plain": [
       "Drawing 20 posterior samples:   0%|          | 0/20 [00:00<?, ?it/s]"
      ]
     },
     "metadata": {},
     "output_type": "display_data"
    },
    {
     "data": {
      "application/vnd.jupyter.widget-view+json": {
       "model_id": "d937f77db7f641748b20f35105fb3ba0",
       "version_major": 2,
       "version_minor": 0
      },
      "text/plain": [
       "Drawing 20 posterior samples:   0%|          | 0/20 [00:00<?, ?it/s]"
      ]
     },
     "metadata": {},
     "output_type": "display_data"
    },
    {
     "data": {
      "application/vnd.jupyter.widget-view+json": {
       "model_id": "2c1a4f0186c2420f9e8f4b7c51141ae6",
       "version_major": 2,
       "version_minor": 0
      },
      "text/plain": [
       "Drawing 20 posterior samples:   0%|          | 0/20 [00:00<?, ?it/s]"
      ]
     },
     "metadata": {},
     "output_type": "display_data"
    },
    {
     "data": {
      "application/vnd.jupyter.widget-view+json": {
       "model_id": "4e12b388de7c4973b9d9865112ee4044",
       "version_major": 2,
       "version_minor": 0
      },
      "text/plain": [
       "Drawing 20 posterior samples:   0%|          | 0/20 [00:00<?, ?it/s]"
      ]
     },
     "metadata": {},
     "output_type": "display_data"
    },
    {
     "data": {
      "application/vnd.jupyter.widget-view+json": {
       "model_id": "c3c72400e0494612a8b78336a12ce62d",
       "version_major": 2,
       "version_minor": 0
      },
      "text/plain": [
       "Drawing 20 posterior samples:   0%|          | 0/20 [00:00<?, ?it/s]"
      ]
     },
     "metadata": {},
     "output_type": "display_data"
    },
    {
     "data": {
      "application/vnd.jupyter.widget-view+json": {
       "model_id": "9e49d2d6f26f46e680536ea8b62af183",
       "version_major": 2,
       "version_minor": 0
      },
      "text/plain": [
       "Drawing 20 posterior samples:   0%|          | 0/20 [00:00<?, ?it/s]"
      ]
     },
     "metadata": {},
     "output_type": "display_data"
    },
    {
     "data": {
      "application/vnd.jupyter.widget-view+json": {
       "model_id": "a05752ec264548608cad7e15a96f6323",
       "version_major": 2,
       "version_minor": 0
      },
      "text/plain": [
       "Drawing 20 posterior samples:   0%|          | 0/20 [00:00<?, ?it/s]"
      ]
     },
     "metadata": {},
     "output_type": "display_data"
    },
    {
     "data": {
      "application/vnd.jupyter.widget-view+json": {
       "model_id": "ff26c57282d8451ca59e3c1e512e5d55",
       "version_major": 2,
       "version_minor": 0
      },
      "text/plain": [
       "Drawing 20 posterior samples:   0%|          | 0/20 [00:00<?, ?it/s]"
      ]
     },
     "metadata": {},
     "output_type": "display_data"
    },
    {
     "data": {
      "application/vnd.jupyter.widget-view+json": {
       "model_id": "e6bd50f556114e6789fbe740474855f7",
       "version_major": 2,
       "version_minor": 0
      },
      "text/plain": [
       "Drawing 20 posterior samples:   0%|          | 0/20 [00:00<?, ?it/s]"
      ]
     },
     "metadata": {},
     "output_type": "display_data"
    },
    {
     "data": {
      "application/vnd.jupyter.widget-view+json": {
       "model_id": "d206c97b972d4537a089f877a50fe901",
       "version_major": 2,
       "version_minor": 0
      },
      "text/plain": [
       "Drawing 20 posterior samples:   0%|          | 0/20 [00:00<?, ?it/s]"
      ]
     },
     "metadata": {},
     "output_type": "display_data"
    },
    {
     "data": {
      "application/vnd.jupyter.widget-view+json": {
       "model_id": "b01ee4b0a06247c5b8b383abcd377027",
       "version_major": 2,
       "version_minor": 0
      },
      "text/plain": [
       "Drawing 20 posterior samples:   0%|          | 0/20 [00:00<?, ?it/s]"
      ]
     },
     "metadata": {},
     "output_type": "display_data"
    },
    {
     "data": {
      "application/vnd.jupyter.widget-view+json": {
       "model_id": "3769431b495544a090b0d9f6f6efa689",
       "version_major": 2,
       "version_minor": 0
      },
      "text/plain": [
       "Drawing 20 posterior samples:   0%|          | 0/20 [00:00<?, ?it/s]"
      ]
     },
     "metadata": {},
     "output_type": "display_data"
    },
    {
     "data": {
      "application/vnd.jupyter.widget-view+json": {
       "model_id": "016adbf94ed349fe9f136c5ffc99c2b4",
       "version_major": 2,
       "version_minor": 0
      },
      "text/plain": [
       "Drawing 20 posterior samples:   0%|          | 0/20 [00:00<?, ?it/s]"
      ]
     },
     "metadata": {},
     "output_type": "display_data"
    },
    {
     "data": {
      "application/vnd.jupyter.widget-view+json": {
       "model_id": "c8eb01242d4348279008fd927623fd82",
       "version_major": 2,
       "version_minor": 0
      },
      "text/plain": [
       "Drawing 20 posterior samples:   0%|          | 0/20 [00:00<?, ?it/s]"
      ]
     },
     "metadata": {},
     "output_type": "display_data"
    },
    {
     "data": {
      "application/vnd.jupyter.widget-view+json": {
       "model_id": "928f81da99a945eebd2e29f24d6e2401",
       "version_major": 2,
       "version_minor": 0
      },
      "text/plain": [
       "Drawing 20 posterior samples:   0%|          | 0/20 [00:00<?, ?it/s]"
      ]
     },
     "metadata": {},
     "output_type": "display_data"
    },
    {
     "data": {
      "application/vnd.jupyter.widget-view+json": {
       "model_id": "98c361b1c18d4a16a46381d462893d1c",
       "version_major": 2,
       "version_minor": 0
      },
      "text/plain": [
       "Drawing 20 posterior samples:   0%|          | 0/20 [00:00<?, ?it/s]"
      ]
     },
     "metadata": {},
     "output_type": "display_data"
    },
    {
     "data": {
      "application/vnd.jupyter.widget-view+json": {
       "model_id": "abdf8fc1683845668133b908821c0647",
       "version_major": 2,
       "version_minor": 0
      },
      "text/plain": [
       "Drawing 20 posterior samples:   0%|          | 0/20 [00:00<?, ?it/s]"
      ]
     },
     "metadata": {},
     "output_type": "display_data"
    },
    {
     "data": {
      "application/vnd.jupyter.widget-view+json": {
       "model_id": "33caac9afd234e7385e8921f6a87943e",
       "version_major": 2,
       "version_minor": 0
      },
      "text/plain": [
       "Drawing 20 posterior samples:   0%|          | 0/20 [00:00<?, ?it/s]"
      ]
     },
     "metadata": {},
     "output_type": "display_data"
    },
    {
     "data": {
      "application/vnd.jupyter.widget-view+json": {
       "model_id": "f6cfb4d9b0e34062b906794cf65560ff",
       "version_major": 2,
       "version_minor": 0
      },
      "text/plain": [
       "Drawing 20 posterior samples:   0%|          | 0/20 [00:00<?, ?it/s]"
      ]
     },
     "metadata": {},
     "output_type": "display_data"
    },
    {
     "data": {
      "application/vnd.jupyter.widget-view+json": {
       "model_id": "de109c2a152f4656ae406c44e909a5df",
       "version_major": 2,
       "version_minor": 0
      },
      "text/plain": [
       "Drawing 20 posterior samples:   0%|          | 0/20 [00:00<?, ?it/s]"
      ]
     },
     "metadata": {},
     "output_type": "display_data"
    },
    {
     "data": {
      "application/vnd.jupyter.widget-view+json": {
       "model_id": "a570dfed9cc0460faadad9d1e084aab0",
       "version_major": 2,
       "version_minor": 0
      },
      "text/plain": [
       "Drawing 20 posterior samples:   0%|          | 0/20 [00:00<?, ?it/s]"
      ]
     },
     "metadata": {},
     "output_type": "display_data"
    },
    {
     "data": {
      "application/vnd.jupyter.widget-view+json": {
       "model_id": "0d9f578449bf42e98b5d64fef70d94ad",
       "version_major": 2,
       "version_minor": 0
      },
      "text/plain": [
       "Drawing 20 posterior samples:   0%|          | 0/20 [00:00<?, ?it/s]"
      ]
     },
     "metadata": {},
     "output_type": "display_data"
    },
    {
     "data": {
      "application/vnd.jupyter.widget-view+json": {
       "model_id": "db06a74584be4672a287b52296780ce1",
       "version_major": 2,
       "version_minor": 0
      },
      "text/plain": [
       "Drawing 20 posterior samples:   0%|          | 0/20 [00:00<?, ?it/s]"
      ]
     },
     "metadata": {},
     "output_type": "display_data"
    },
    {
     "data": {
      "application/vnd.jupyter.widget-view+json": {
       "model_id": "78a6d788913a4098bde4a17f722e60a6",
       "version_major": 2,
       "version_minor": 0
      },
      "text/plain": [
       "Drawing 20 posterior samples:   0%|          | 0/20 [00:00<?, ?it/s]"
      ]
     },
     "metadata": {},
     "output_type": "display_data"
    },
    {
     "data": {
      "application/vnd.jupyter.widget-view+json": {
       "model_id": "917d04c37f154ed286863f0763f6e67f",
       "version_major": 2,
       "version_minor": 0
      },
      "text/plain": [
       "Drawing 20 posterior samples:   0%|          | 0/20 [00:00<?, ?it/s]"
      ]
     },
     "metadata": {},
     "output_type": "display_data"
    },
    {
     "data": {
      "application/vnd.jupyter.widget-view+json": {
       "model_id": "8bdaff3eff964009871371601423c6e7",
       "version_major": 2,
       "version_minor": 0
      },
      "text/plain": [
       "Drawing 20 posterior samples:   0%|          | 0/20 [00:00<?, ?it/s]"
      ]
     },
     "metadata": {},
     "output_type": "display_data"
    },
    {
     "data": {
      "application/vnd.jupyter.widget-view+json": {
       "model_id": "7c7060cdc19747cea61f9d415c5777d7",
       "version_major": 2,
       "version_minor": 0
      },
      "text/plain": [
       "Drawing 20 posterior samples:   0%|          | 0/20 [00:00<?, ?it/s]"
      ]
     },
     "metadata": {},
     "output_type": "display_data"
    },
    {
     "data": {
      "application/vnd.jupyter.widget-view+json": {
       "model_id": "0ecdca6d72034a82ba138c583b0aa38b",
       "version_major": 2,
       "version_minor": 0
      },
      "text/plain": [
       "Drawing 20 posterior samples:   0%|          | 0/20 [00:00<?, ?it/s]"
      ]
     },
     "metadata": {},
     "output_type": "display_data"
    },
    {
     "data": {
      "application/vnd.jupyter.widget-view+json": {
       "model_id": "0d7134423c664848b496d7bb3c806e4f",
       "version_major": 2,
       "version_minor": 0
      },
      "text/plain": [
       "Drawing 20 posterior samples:   0%|          | 0/20 [00:00<?, ?it/s]"
      ]
     },
     "metadata": {},
     "output_type": "display_data"
    },
    {
     "data": {
      "application/vnd.jupyter.widget-view+json": {
       "model_id": "002b538fb15b4e019ee438609dba3dae",
       "version_major": 2,
       "version_minor": 0
      },
      "text/plain": [
       "Drawing 20 posterior samples:   0%|          | 0/20 [00:00<?, ?it/s]"
      ]
     },
     "metadata": {},
     "output_type": "display_data"
    },
    {
     "data": {
      "application/vnd.jupyter.widget-view+json": {
       "model_id": "a8df0c2e2eb144509d5e18537802f1bf",
       "version_major": 2,
       "version_minor": 0
      },
      "text/plain": [
       "Drawing 20 posterior samples:   0%|          | 0/20 [00:00<?, ?it/s]"
      ]
     },
     "metadata": {},
     "output_type": "display_data"
    },
    {
     "data": {
      "application/vnd.jupyter.widget-view+json": {
       "model_id": "857b5c06d27a4fe6ab629083128148fa",
       "version_major": 2,
       "version_minor": 0
      },
      "text/plain": [
       "Drawing 20 posterior samples:   0%|          | 0/20 [00:00<?, ?it/s]"
      ]
     },
     "metadata": {},
     "output_type": "display_data"
    },
    {
     "data": {
      "application/vnd.jupyter.widget-view+json": {
       "model_id": "e70f368bff01417ebdf09005ed51ca08",
       "version_major": 2,
       "version_minor": 0
      },
      "text/plain": [
       "Drawing 20 posterior samples:   0%|          | 0/20 [00:00<?, ?it/s]"
      ]
     },
     "metadata": {},
     "output_type": "display_data"
    },
    {
     "data": {
      "application/vnd.jupyter.widget-view+json": {
       "model_id": "51841e604ba54b3f883be69012ac4f39",
       "version_major": 2,
       "version_minor": 0
      },
      "text/plain": [
       "Drawing 20 posterior samples:   0%|          | 0/20 [00:00<?, ?it/s]"
      ]
     },
     "metadata": {},
     "output_type": "display_data"
    },
    {
     "data": {
      "application/vnd.jupyter.widget-view+json": {
       "model_id": "cad8ff31d2bf4e6bb64eae0a2ec364d9",
       "version_major": 2,
       "version_minor": 0
      },
      "text/plain": [
       "Drawing 20 posterior samples:   0%|          | 0/20 [00:00<?, ?it/s]"
      ]
     },
     "metadata": {},
     "output_type": "display_data"
    },
    {
     "data": {
      "application/vnd.jupyter.widget-view+json": {
       "model_id": "eb5eb4f513cf4ac7b0deaa312ec8fa2c",
       "version_major": 2,
       "version_minor": 0
      },
      "text/plain": [
       "Drawing 20 posterior samples:   0%|          | 0/20 [00:00<?, ?it/s]"
      ]
     },
     "metadata": {},
     "output_type": "display_data"
    },
    {
     "data": {
      "application/vnd.jupyter.widget-view+json": {
       "model_id": "e4eea85db3a5447198a9e39a1f6b7e74",
       "version_major": 2,
       "version_minor": 0
      },
      "text/plain": [
       "Drawing 20 posterior samples:   0%|          | 0/20 [00:00<?, ?it/s]"
      ]
     },
     "metadata": {},
     "output_type": "display_data"
    },
    {
     "data": {
      "application/vnd.jupyter.widget-view+json": {
       "model_id": "9d36a456ce914e6eb369d9ca5019cbf4",
       "version_major": 2,
       "version_minor": 0
      },
      "text/plain": [
       "Drawing 20 posterior samples:   0%|          | 0/20 [00:00<?, ?it/s]"
      ]
     },
     "metadata": {},
     "output_type": "display_data"
    },
    {
     "data": {
      "application/vnd.jupyter.widget-view+json": {
       "model_id": "4abb957941a049619e512a8e6217f8bf",
       "version_major": 2,
       "version_minor": 0
      },
      "text/plain": [
       "Drawing 20 posterior samples:   0%|          | 0/20 [00:00<?, ?it/s]"
      ]
     },
     "metadata": {},
     "output_type": "display_data"
    },
    {
     "data": {
      "application/vnd.jupyter.widget-view+json": {
       "model_id": "51d8e3f3d088423ca0f4adf2053a0a54",
       "version_major": 2,
       "version_minor": 0
      },
      "text/plain": [
       "Drawing 20 posterior samples:   0%|          | 0/20 [00:00<?, ?it/s]"
      ]
     },
     "metadata": {},
     "output_type": "display_data"
    },
    {
     "data": {
      "application/vnd.jupyter.widget-view+json": {
       "model_id": "eb5880dcadf14e6880f660b429077c2c",
       "version_major": 2,
       "version_minor": 0
      },
      "text/plain": [
       "Drawing 20 posterior samples:   0%|          | 0/20 [00:00<?, ?it/s]"
      ]
     },
     "metadata": {},
     "output_type": "display_data"
    },
    {
     "data": {
      "application/vnd.jupyter.widget-view+json": {
       "model_id": "c175cf9de924478a805322b8afdb69ce",
       "version_major": 2,
       "version_minor": 0
      },
      "text/plain": [
       "Drawing 20 posterior samples:   0%|          | 0/20 [00:00<?, ?it/s]"
      ]
     },
     "metadata": {},
     "output_type": "display_data"
    },
    {
     "data": {
      "application/vnd.jupyter.widget-view+json": {
       "model_id": "9222280442cf409cb7c3a547de0f761c",
       "version_major": 2,
       "version_minor": 0
      },
      "text/plain": [
       "Drawing 20 posterior samples:   0%|          | 0/20 [00:00<?, ?it/s]"
      ]
     },
     "metadata": {},
     "output_type": "display_data"
    },
    {
     "data": {
      "application/vnd.jupyter.widget-view+json": {
       "model_id": "a7fe64df9fef4432b4ab824f754b4ea9",
       "version_major": 2,
       "version_minor": 0
      },
      "text/plain": [
       "Drawing 20 posterior samples:   0%|          | 0/20 [00:00<?, ?it/s]"
      ]
     },
     "metadata": {},
     "output_type": "display_data"
    },
    {
     "data": {
      "application/vnd.jupyter.widget-view+json": {
       "model_id": "3262eaccf0a443f0ae99127163fb4f07",
       "version_major": 2,
       "version_minor": 0
      },
      "text/plain": [
       "Drawing 20 posterior samples:   0%|          | 0/20 [00:00<?, ?it/s]"
      ]
     },
     "metadata": {},
     "output_type": "display_data"
    },
    {
     "data": {
      "application/vnd.jupyter.widget-view+json": {
       "model_id": "7208b403dd4b4a2e873c0ea89a9c7418",
       "version_major": 2,
       "version_minor": 0
      },
      "text/plain": [
       "Drawing 20 posterior samples:   0%|          | 0/20 [00:00<?, ?it/s]"
      ]
     },
     "metadata": {},
     "output_type": "display_data"
    },
    {
     "data": {
      "application/vnd.jupyter.widget-view+json": {
       "model_id": "f0c214e55aa34c67a960e2d16eb9c4af",
       "version_major": 2,
       "version_minor": 0
      },
      "text/plain": [
       "Drawing 20 posterior samples:   0%|          | 0/20 [00:00<?, ?it/s]"
      ]
     },
     "metadata": {},
     "output_type": "display_data"
    },
    {
     "data": {
      "application/vnd.jupyter.widget-view+json": {
       "model_id": "2e26a8369abf4a1fb531c524ecc239da",
       "version_major": 2,
       "version_minor": 0
      },
      "text/plain": [
       "Drawing 20 posterior samples:   0%|          | 0/20 [00:00<?, ?it/s]"
      ]
     },
     "metadata": {},
     "output_type": "display_data"
    },
    {
     "data": {
      "application/vnd.jupyter.widget-view+json": {
       "model_id": "9114c8c2888c46dd9178c4ac1495510f",
       "version_major": 2,
       "version_minor": 0
      },
      "text/plain": [
       "Drawing 20 posterior samples:   0%|          | 0/20 [00:00<?, ?it/s]"
      ]
     },
     "metadata": {},
     "output_type": "display_data"
    },
    {
     "data": {
      "application/vnd.jupyter.widget-view+json": {
       "model_id": "81ba952969e4453cad7db6d235612e7c",
       "version_major": 2,
       "version_minor": 0
      },
      "text/plain": [
       "Drawing 20 posterior samples:   0%|          | 0/20 [00:00<?, ?it/s]"
      ]
     },
     "metadata": {},
     "output_type": "display_data"
    },
    {
     "data": {
      "application/vnd.jupyter.widget-view+json": {
       "model_id": "f722bfe2e35b41208022f37a3022dee4",
       "version_major": 2,
       "version_minor": 0
      },
      "text/plain": [
       "Drawing 20 posterior samples:   0%|          | 0/20 [00:00<?, ?it/s]"
      ]
     },
     "metadata": {},
     "output_type": "display_data"
    },
    {
     "data": {
      "application/vnd.jupyter.widget-view+json": {
       "model_id": "b3174247453c48e68a79bd6f2d7e2c98",
       "version_major": 2,
       "version_minor": 0
      },
      "text/plain": [
       "Drawing 20 posterior samples:   0%|          | 0/20 [00:00<?, ?it/s]"
      ]
     },
     "metadata": {},
     "output_type": "display_data"
    },
    {
     "data": {
      "application/vnd.jupyter.widget-view+json": {
       "model_id": "374cde627a6a4d989a417c70e0d6a879",
       "version_major": 2,
       "version_minor": 0
      },
      "text/plain": [
       "Drawing 20 posterior samples:   0%|          | 0/20 [00:00<?, ?it/s]"
      ]
     },
     "metadata": {},
     "output_type": "display_data"
    },
    {
     "data": {
      "application/vnd.jupyter.widget-view+json": {
       "model_id": "393eb78d766040e6b1770077b6b85306",
       "version_major": 2,
       "version_minor": 0
      },
      "text/plain": [
       "Drawing 20 posterior samples:   0%|          | 0/20 [00:00<?, ?it/s]"
      ]
     },
     "metadata": {},
     "output_type": "display_data"
    },
    {
     "data": {
      "application/vnd.jupyter.widget-view+json": {
       "model_id": "264f1ba37f8345bd841199eed0438af6",
       "version_major": 2,
       "version_minor": 0
      },
      "text/plain": [
       "Drawing 20 posterior samples:   0%|          | 0/20 [00:00<?, ?it/s]"
      ]
     },
     "metadata": {},
     "output_type": "display_data"
    },
    {
     "data": {
      "application/vnd.jupyter.widget-view+json": {
       "model_id": "847c4d1210634f15b1f82c59981202d4",
       "version_major": 2,
       "version_minor": 0
      },
      "text/plain": [
       "Drawing 20 posterior samples:   0%|          | 0/20 [00:00<?, ?it/s]"
      ]
     },
     "metadata": {},
     "output_type": "display_data"
    },
    {
     "data": {
      "application/vnd.jupyter.widget-view+json": {
       "model_id": "6bf9c275e4e94c96889146bccb29ae33",
       "version_major": 2,
       "version_minor": 0
      },
      "text/plain": [
       "Drawing 20 posterior samples:   0%|          | 0/20 [00:00<?, ?it/s]"
      ]
     },
     "metadata": {},
     "output_type": "display_data"
    },
    {
     "data": {
      "application/vnd.jupyter.widget-view+json": {
       "model_id": "eb45bcf33fda4e10a8598afc313da96b",
       "version_major": 2,
       "version_minor": 0
      },
      "text/plain": [
       "Drawing 20 posterior samples:   0%|          | 0/20 [00:00<?, ?it/s]"
      ]
     },
     "metadata": {},
     "output_type": "display_data"
    },
    {
     "data": {
      "application/vnd.jupyter.widget-view+json": {
       "model_id": "d26f12769e6b4f7ab16805f09eb7b259",
       "version_major": 2,
       "version_minor": 0
      },
      "text/plain": [
       "Drawing 20 posterior samples:   0%|          | 0/20 [00:00<?, ?it/s]"
      ]
     },
     "metadata": {},
     "output_type": "display_data"
    },
    {
     "data": {
      "application/vnd.jupyter.widget-view+json": {
       "model_id": "0297a5552118493bab11abde4b4c2e5e",
       "version_major": 2,
       "version_minor": 0
      },
      "text/plain": [
       "Drawing 20 posterior samples:   0%|          | 0/20 [00:00<?, ?it/s]"
      ]
     },
     "metadata": {},
     "output_type": "display_data"
    },
    {
     "data": {
      "application/vnd.jupyter.widget-view+json": {
       "model_id": "ce6903a188c64b7a885331c0e1adec4f",
       "version_major": 2,
       "version_minor": 0
      },
      "text/plain": [
       "Drawing 20 posterior samples:   0%|          | 0/20 [00:00<?, ?it/s]"
      ]
     },
     "metadata": {},
     "output_type": "display_data"
    },
    {
     "data": {
      "application/vnd.jupyter.widget-view+json": {
       "model_id": "5025d9b4115c4dcf8530bd658c7b6d51",
       "version_major": 2,
       "version_minor": 0
      },
      "text/plain": [
       "Drawing 20 posterior samples:   0%|          | 0/20 [00:00<?, ?it/s]"
      ]
     },
     "metadata": {},
     "output_type": "display_data"
    },
    {
     "data": {
      "application/vnd.jupyter.widget-view+json": {
       "model_id": "a368aa3befc34ea8b63feb35ce125e47",
       "version_major": 2,
       "version_minor": 0
      },
      "text/plain": [
       "Drawing 20 posterior samples:   0%|          | 0/20 [00:00<?, ?it/s]"
      ]
     },
     "metadata": {},
     "output_type": "display_data"
    },
    {
     "data": {
      "application/vnd.jupyter.widget-view+json": {
       "model_id": "c3e741dbf1214237a56c4a422a40ec92",
       "version_major": 2,
       "version_minor": 0
      },
      "text/plain": [
       "Drawing 20 posterior samples:   0%|          | 0/20 [00:00<?, ?it/s]"
      ]
     },
     "metadata": {},
     "output_type": "display_data"
    },
    {
     "data": {
      "application/vnd.jupyter.widget-view+json": {
       "model_id": "425281d348af4010989b46b04695352f",
       "version_major": 2,
       "version_minor": 0
      },
      "text/plain": [
       "Drawing 20 posterior samples:   0%|          | 0/20 [00:00<?, ?it/s]"
      ]
     },
     "metadata": {},
     "output_type": "display_data"
    },
    {
     "data": {
      "application/vnd.jupyter.widget-view+json": {
       "model_id": "0e10a80bac7442599dc0ae08e056bb39",
       "version_major": 2,
       "version_minor": 0
      },
      "text/plain": [
       "Drawing 20 posterior samples:   0%|          | 0/20 [00:00<?, ?it/s]"
      ]
     },
     "metadata": {},
     "output_type": "display_data"
    },
    {
     "data": {
      "application/vnd.jupyter.widget-view+json": {
       "model_id": "a8fb7d643f8d483cb433fb05bcc2c1fb",
       "version_major": 2,
       "version_minor": 0
      },
      "text/plain": [
       "Drawing 20 posterior samples:   0%|          | 0/20 [00:00<?, ?it/s]"
      ]
     },
     "metadata": {},
     "output_type": "display_data"
    },
    {
     "data": {
      "application/vnd.jupyter.widget-view+json": {
       "model_id": "503996dd286541899d8f45a27582e18b",
       "version_major": 2,
       "version_minor": 0
      },
      "text/plain": [
       "Drawing 20 posterior samples:   0%|          | 0/20 [00:00<?, ?it/s]"
      ]
     },
     "metadata": {},
     "output_type": "display_data"
    },
    {
     "data": {
      "application/vnd.jupyter.widget-view+json": {
       "model_id": "faa0d61ea0ed4d4ba02d50a4045af6eb",
       "version_major": 2,
       "version_minor": 0
      },
      "text/plain": [
       "Drawing 20 posterior samples:   0%|          | 0/20 [00:00<?, ?it/s]"
      ]
     },
     "metadata": {},
     "output_type": "display_data"
    },
    {
     "data": {
      "application/vnd.jupyter.widget-view+json": {
       "model_id": "52442df139ed45e0b0f5a1c890fd63aa",
       "version_major": 2,
       "version_minor": 0
      },
      "text/plain": [
       "Drawing 20 posterior samples:   0%|          | 0/20 [00:00<?, ?it/s]"
      ]
     },
     "metadata": {},
     "output_type": "display_data"
    },
    {
     "data": {
      "application/vnd.jupyter.widget-view+json": {
       "model_id": "5ade11ce46614b0e9ad2a112f8bef862",
       "version_major": 2,
       "version_minor": 0
      },
      "text/plain": [
       "Drawing 20 posterior samples:   0%|          | 0/20 [00:00<?, ?it/s]"
      ]
     },
     "metadata": {},
     "output_type": "display_data"
    },
    {
     "data": {
      "application/vnd.jupyter.widget-view+json": {
       "model_id": "baf3ef56fcd64af2bd538d266660d225",
       "version_major": 2,
       "version_minor": 0
      },
      "text/plain": [
       "Drawing 20 posterior samples:   0%|          | 0/20 [00:00<?, ?it/s]"
      ]
     },
     "metadata": {},
     "output_type": "display_data"
    },
    {
     "data": {
      "application/vnd.jupyter.widget-view+json": {
       "model_id": "883363a43022440681bef24491f2795e",
       "version_major": 2,
       "version_minor": 0
      },
      "text/plain": [
       "Drawing 20 posterior samples:   0%|          | 0/20 [00:00<?, ?it/s]"
      ]
     },
     "metadata": {},
     "output_type": "display_data"
    },
    {
     "data": {
      "application/vnd.jupyter.widget-view+json": {
       "model_id": "4a0c4752bc1a4084b22ccd7e6902ee4d",
       "version_major": 2,
       "version_minor": 0
      },
      "text/plain": [
       "Drawing 20 posterior samples:   0%|          | 0/20 [00:00<?, ?it/s]"
      ]
     },
     "metadata": {},
     "output_type": "display_data"
    },
    {
     "data": {
      "application/vnd.jupyter.widget-view+json": {
       "model_id": "495073e3c9144cc8962bee1c716caa94",
       "version_major": 2,
       "version_minor": 0
      },
      "text/plain": [
       "Drawing 20 posterior samples:   0%|          | 0/20 [00:00<?, ?it/s]"
      ]
     },
     "metadata": {},
     "output_type": "display_data"
    },
    {
     "data": {
      "application/vnd.jupyter.widget-view+json": {
       "model_id": "690c50df555d443ab3abbe0ee31f4795",
       "version_major": 2,
       "version_minor": 0
      },
      "text/plain": [
       "Drawing 20 posterior samples:   0%|          | 0/20 [00:00<?, ?it/s]"
      ]
     },
     "metadata": {},
     "output_type": "display_data"
    },
    {
     "data": {
      "application/vnd.jupyter.widget-view+json": {
       "model_id": "e21d6bf2182d494e80e1948b0245a3ef",
       "version_major": 2,
       "version_minor": 0
      },
      "text/plain": [
       "Drawing 20 posterior samples:   0%|          | 0/20 [00:00<?, ?it/s]"
      ]
     },
     "metadata": {},
     "output_type": "display_data"
    },
    {
     "data": {
      "application/vnd.jupyter.widget-view+json": {
       "model_id": "d376f341dbff463eaf2241f473565974",
       "version_major": 2,
       "version_minor": 0
      },
      "text/plain": [
       "Drawing 20 posterior samples:   0%|          | 0/20 [00:00<?, ?it/s]"
      ]
     },
     "metadata": {},
     "output_type": "display_data"
    },
    {
     "data": {
      "application/vnd.jupyter.widget-view+json": {
       "model_id": "a620d19446d54c44b4fedb9c6d932e04",
       "version_major": 2,
       "version_minor": 0
      },
      "text/plain": [
       "Drawing 20 posterior samples:   0%|          | 0/20 [00:00<?, ?it/s]"
      ]
     },
     "metadata": {},
     "output_type": "display_data"
    },
    {
     "data": {
      "application/vnd.jupyter.widget-view+json": {
       "model_id": "122e65a385c74b5bac621bb8c2afce3e",
       "version_major": 2,
       "version_minor": 0
      },
      "text/plain": [
       "Drawing 20 posterior samples:   0%|          | 0/20 [00:00<?, ?it/s]"
      ]
     },
     "metadata": {},
     "output_type": "display_data"
    },
    {
     "data": {
      "application/vnd.jupyter.widget-view+json": {
       "model_id": "0b66d44b95734537901c3c89ca962d2e",
       "version_major": 2,
       "version_minor": 0
      },
      "text/plain": [
       "Drawing 20 posterior samples:   0%|          | 0/20 [00:00<?, ?it/s]"
      ]
     },
     "metadata": {},
     "output_type": "display_data"
    },
    {
     "data": {
      "application/vnd.jupyter.widget-view+json": {
       "model_id": "e369838555214dde897efea41ba67b26",
       "version_major": 2,
       "version_minor": 0
      },
      "text/plain": [
       "Drawing 20 posterior samples:   0%|          | 0/20 [00:00<?, ?it/s]"
      ]
     },
     "metadata": {},
     "output_type": "display_data"
    },
    {
     "data": {
      "application/vnd.jupyter.widget-view+json": {
       "model_id": "a63303e57edd43688978d008cb141f1b",
       "version_major": 2,
       "version_minor": 0
      },
      "text/plain": [
       "Drawing 20 posterior samples:   0%|          | 0/20 [00:00<?, ?it/s]"
      ]
     },
     "metadata": {},
     "output_type": "display_data"
    },
    {
     "data": {
      "application/vnd.jupyter.widget-view+json": {
       "model_id": "0d28074e79fb43daacb7126f552b5841",
       "version_major": 2,
       "version_minor": 0
      },
      "text/plain": [
       "Drawing 20 posterior samples:   0%|          | 0/20 [00:00<?, ?it/s]"
      ]
     },
     "metadata": {},
     "output_type": "display_data"
    },
    {
     "data": {
      "application/vnd.jupyter.widget-view+json": {
       "model_id": "bbac8f59e2ba4ed4873b7d3332c22926",
       "version_major": 2,
       "version_minor": 0
      },
      "text/plain": [
       "Drawing 20 posterior samples:   0%|          | 0/20 [00:00<?, ?it/s]"
      ]
     },
     "metadata": {},
     "output_type": "display_data"
    },
    {
     "data": {
      "application/vnd.jupyter.widget-view+json": {
       "model_id": "7b9ae629ef5945f5a39322d28d1a6450",
       "version_major": 2,
       "version_minor": 0
      },
      "text/plain": [
       "Drawing 20 posterior samples:   0%|          | 0/20 [00:00<?, ?it/s]"
      ]
     },
     "metadata": {},
     "output_type": "display_data"
    },
    {
     "data": {
      "application/vnd.jupyter.widget-view+json": {
       "model_id": "2b213ed00b50412196256fef7a66a485",
       "version_major": 2,
       "version_minor": 0
      },
      "text/plain": [
       "Drawing 20 posterior samples:   0%|          | 0/20 [00:00<?, ?it/s]"
      ]
     },
     "metadata": {},
     "output_type": "display_data"
    },
    {
     "data": {
      "application/vnd.jupyter.widget-view+json": {
       "model_id": "b839cfbb138b46f8bf3487b0feae3753",
       "version_major": 2,
       "version_minor": 0
      },
      "text/plain": [
       "Drawing 20 posterior samples:   0%|          | 0/20 [00:00<?, ?it/s]"
      ]
     },
     "metadata": {},
     "output_type": "display_data"
    },
    {
     "data": {
      "application/vnd.jupyter.widget-view+json": {
       "model_id": "b9337469095c4d369b55313b8689a367",
       "version_major": 2,
       "version_minor": 0
      },
      "text/plain": [
       "Drawing 20 posterior samples:   0%|          | 0/20 [00:00<?, ?it/s]"
      ]
     },
     "metadata": {},
     "output_type": "display_data"
    },
    {
     "data": {
      "application/vnd.jupyter.widget-view+json": {
       "model_id": "34bfac5293f8463190ffd4edec437084",
       "version_major": 2,
       "version_minor": 0
      },
      "text/plain": [
       "Drawing 20 posterior samples:   0%|          | 0/20 [00:00<?, ?it/s]"
      ]
     },
     "metadata": {},
     "output_type": "display_data"
    },
    {
     "data": {
      "application/vnd.jupyter.widget-view+json": {
       "model_id": "331cb675456040d5921b8b52befdbf9b",
       "version_major": 2,
       "version_minor": 0
      },
      "text/plain": [
       "Drawing 20 posterior samples:   0%|          | 0/20 [00:00<?, ?it/s]"
      ]
     },
     "metadata": {},
     "output_type": "display_data"
    },
    {
     "data": {
      "application/vnd.jupyter.widget-view+json": {
       "model_id": "3a66275867e54c2e8e53c69b957d8f0e",
       "version_major": 2,
       "version_minor": 0
      },
      "text/plain": [
       "Drawing 20 posterior samples:   0%|          | 0/20 [00:00<?, ?it/s]"
      ]
     },
     "metadata": {},
     "output_type": "display_data"
    },
    {
     "data": {
      "application/vnd.jupyter.widget-view+json": {
       "model_id": "da040a4c359a4ee49c758cdb13d3426b",
       "version_major": 2,
       "version_minor": 0
      },
      "text/plain": [
       "Drawing 20 posterior samples:   0%|          | 0/20 [00:00<?, ?it/s]"
      ]
     },
     "metadata": {},
     "output_type": "display_data"
    },
    {
     "data": {
      "application/vnd.jupyter.widget-view+json": {
       "model_id": "82b8d727c0cc4acd8e0d7ec55e5386eb",
       "version_major": 2,
       "version_minor": 0
      },
      "text/plain": [
       "Drawing 20 posterior samples:   0%|          | 0/20 [00:00<?, ?it/s]"
      ]
     },
     "metadata": {},
     "output_type": "display_data"
    },
    {
     "data": {
      "application/vnd.jupyter.widget-view+json": {
       "model_id": "865a9e7b944042f8b39f6391e6700d31",
       "version_major": 2,
       "version_minor": 0
      },
      "text/plain": [
       "Drawing 20 posterior samples:   0%|          | 0/20 [00:00<?, ?it/s]"
      ]
     },
     "metadata": {},
     "output_type": "display_data"
    },
    {
     "data": {
      "application/vnd.jupyter.widget-view+json": {
       "model_id": "9bf6f1a6c994471d9745b46438d6a61f",
       "version_major": 2,
       "version_minor": 0
      },
      "text/plain": [
       "Drawing 20 posterior samples:   0%|          | 0/20 [00:00<?, ?it/s]"
      ]
     },
     "metadata": {},
     "output_type": "display_data"
    },
    {
     "data": {
      "application/vnd.jupyter.widget-view+json": {
       "model_id": "75143f66d30e4b16bec99bec7b433d75",
       "version_major": 2,
       "version_minor": 0
      },
      "text/plain": [
       "Drawing 20 posterior samples:   0%|          | 0/20 [00:00<?, ?it/s]"
      ]
     },
     "metadata": {},
     "output_type": "display_data"
    },
    {
     "data": {
      "application/vnd.jupyter.widget-view+json": {
       "model_id": "49b98a89ed8449ccb6d3c72395338992",
       "version_major": 2,
       "version_minor": 0
      },
      "text/plain": [
       "Drawing 20 posterior samples:   0%|          | 0/20 [00:00<?, ?it/s]"
      ]
     },
     "metadata": {},
     "output_type": "display_data"
    },
    {
     "data": {
      "application/vnd.jupyter.widget-view+json": {
       "model_id": "68fec39b162a4bfabbff95d30520a188",
       "version_major": 2,
       "version_minor": 0
      },
      "text/plain": [
       "Drawing 20 posterior samples:   0%|          | 0/20 [00:00<?, ?it/s]"
      ]
     },
     "metadata": {},
     "output_type": "display_data"
    },
    {
     "data": {
      "application/vnd.jupyter.widget-view+json": {
       "model_id": "0db1b457a8ec47c4a91ecf433b68368d",
       "version_major": 2,
       "version_minor": 0
      },
      "text/plain": [
       "Drawing 20 posterior samples:   0%|          | 0/20 [00:00<?, ?it/s]"
      ]
     },
     "metadata": {},
     "output_type": "display_data"
    },
    {
     "data": {
      "application/vnd.jupyter.widget-view+json": {
       "model_id": "02e8cc4bfdee40c6856cf3cacd737db2",
       "version_major": 2,
       "version_minor": 0
      },
      "text/plain": [
       "Drawing 20 posterior samples:   0%|          | 0/20 [00:00<?, ?it/s]"
      ]
     },
     "metadata": {},
     "output_type": "display_data"
    },
    {
     "data": {
      "application/vnd.jupyter.widget-view+json": {
       "model_id": "30e5edfc60444a23aa2e674c9fb96101",
       "version_major": 2,
       "version_minor": 0
      },
      "text/plain": [
       "Drawing 20 posterior samples:   0%|          | 0/20 [00:00<?, ?it/s]"
      ]
     },
     "metadata": {},
     "output_type": "display_data"
    },
    {
     "data": {
      "application/vnd.jupyter.widget-view+json": {
       "model_id": "81dff563f8bb46ff9f455dedc65c320d",
       "version_major": 2,
       "version_minor": 0
      },
      "text/plain": [
       "Drawing 20 posterior samples:   0%|          | 0/20 [00:00<?, ?it/s]"
      ]
     },
     "metadata": {},
     "output_type": "display_data"
    },
    {
     "data": {
      "application/vnd.jupyter.widget-view+json": {
       "model_id": "16769d92607f43cd80a66020a1e7acc3",
       "version_major": 2,
       "version_minor": 0
      },
      "text/plain": [
       "Drawing 20 posterior samples:   0%|          | 0/20 [00:00<?, ?it/s]"
      ]
     },
     "metadata": {},
     "output_type": "display_data"
    },
    {
     "data": {
      "application/vnd.jupyter.widget-view+json": {
       "model_id": "d06fa58ee1674729a1cd6f5d2824fb14",
       "version_major": 2,
       "version_minor": 0
      },
      "text/plain": [
       "Drawing 20 posterior samples:   0%|          | 0/20 [00:00<?, ?it/s]"
      ]
     },
     "metadata": {},
     "output_type": "display_data"
    },
    {
     "data": {
      "application/vnd.jupyter.widget-view+json": {
       "model_id": "62e25d79a88d4bbeaa33e8e7b8f85816",
       "version_major": 2,
       "version_minor": 0
      },
      "text/plain": [
       "Drawing 20 posterior samples:   0%|          | 0/20 [00:00<?, ?it/s]"
      ]
     },
     "metadata": {},
     "output_type": "display_data"
    },
    {
     "data": {
      "application/vnd.jupyter.widget-view+json": {
       "model_id": "ab07aa47c8504433bfea3c2c26a0ff94",
       "version_major": 2,
       "version_minor": 0
      },
      "text/plain": [
       "Drawing 20 posterior samples:   0%|          | 0/20 [00:00<?, ?it/s]"
      ]
     },
     "metadata": {},
     "output_type": "display_data"
    },
    {
     "data": {
      "application/vnd.jupyter.widget-view+json": {
       "model_id": "72858b25ddd24686a46aad72bbd256bb",
       "version_major": 2,
       "version_minor": 0
      },
      "text/plain": [
       "Drawing 20 posterior samples:   0%|          | 0/20 [00:00<?, ?it/s]"
      ]
     },
     "metadata": {},
     "output_type": "display_data"
    },
    {
     "data": {
      "application/vnd.jupyter.widget-view+json": {
       "model_id": "79f71ff74fcf48a186d5d276c380e975",
       "version_major": 2,
       "version_minor": 0
      },
      "text/plain": [
       "Drawing 20 posterior samples:   0%|          | 0/20 [00:00<?, ?it/s]"
      ]
     },
     "metadata": {},
     "output_type": "display_data"
    },
    {
     "data": {
      "application/vnd.jupyter.widget-view+json": {
       "model_id": "fc3cc26fc173482e883fcc7d970df16f",
       "version_major": 2,
       "version_minor": 0
      },
      "text/plain": [
       "Drawing 20 posterior samples:   0%|          | 0/20 [00:00<?, ?it/s]"
      ]
     },
     "metadata": {},
     "output_type": "display_data"
    },
    {
     "data": {
      "application/vnd.jupyter.widget-view+json": {
       "model_id": "bc8e8a7468c242e7843c0f99b4ca1bdf",
       "version_major": 2,
       "version_minor": 0
      },
      "text/plain": [
       "Drawing 20 posterior samples:   0%|          | 0/20 [00:00<?, ?it/s]"
      ]
     },
     "metadata": {},
     "output_type": "display_data"
    },
    {
     "data": {
      "application/vnd.jupyter.widget-view+json": {
       "model_id": "cdebbafaab3b487db9a181047a7769b7",
       "version_major": 2,
       "version_minor": 0
      },
      "text/plain": [
       "Drawing 20 posterior samples:   0%|          | 0/20 [00:00<?, ?it/s]"
      ]
     },
     "metadata": {},
     "output_type": "display_data"
    },
    {
     "data": {
      "application/vnd.jupyter.widget-view+json": {
       "model_id": "a62b0361ce8e4e6493c9577eb8f08f42",
       "version_major": 2,
       "version_minor": 0
      },
      "text/plain": [
       "Drawing 20 posterior samples:   0%|          | 0/20 [00:00<?, ?it/s]"
      ]
     },
     "metadata": {},
     "output_type": "display_data"
    },
    {
     "data": {
      "application/vnd.jupyter.widget-view+json": {
       "model_id": "0a2a04e6b1184b449c231981f3a1fcd3",
       "version_major": 2,
       "version_minor": 0
      },
      "text/plain": [
       "Drawing 20 posterior samples:   0%|          | 0/20 [00:00<?, ?it/s]"
      ]
     },
     "metadata": {},
     "output_type": "display_data"
    },
    {
     "data": {
      "application/vnd.jupyter.widget-view+json": {
       "model_id": "ae1cdc15e10449b882a9fb70fad047c3",
       "version_major": 2,
       "version_minor": 0
      },
      "text/plain": [
       "Drawing 20 posterior samples:   0%|          | 0/20 [00:00<?, ?it/s]"
      ]
     },
     "metadata": {},
     "output_type": "display_data"
    },
    {
     "data": {
      "application/vnd.jupyter.widget-view+json": {
       "model_id": "6ec7f8c589704e60bd2351d1ab4e00fa",
       "version_major": 2,
       "version_minor": 0
      },
      "text/plain": [
       "Drawing 20 posterior samples:   0%|          | 0/20 [00:00<?, ?it/s]"
      ]
     },
     "metadata": {},
     "output_type": "display_data"
    },
    {
     "data": {
      "application/vnd.jupyter.widget-view+json": {
       "model_id": "25979aa649a6433ba92aa47dc1e64bc7",
       "version_major": 2,
       "version_minor": 0
      },
      "text/plain": [
       "Drawing 20 posterior samples:   0%|          | 0/20 [00:00<?, ?it/s]"
      ]
     },
     "metadata": {},
     "output_type": "display_data"
    },
    {
     "data": {
      "application/vnd.jupyter.widget-view+json": {
       "model_id": "e1ae8723e7aa4d7693e05d84af3b13f8",
       "version_major": 2,
       "version_minor": 0
      },
      "text/plain": [
       "Drawing 20 posterior samples:   0%|          | 0/20 [00:00<?, ?it/s]"
      ]
     },
     "metadata": {},
     "output_type": "display_data"
    },
    {
     "data": {
      "application/vnd.jupyter.widget-view+json": {
       "model_id": "4c510a6a5267431da97ddafbcd7b2e3c",
       "version_major": 2,
       "version_minor": 0
      },
      "text/plain": [
       "Drawing 20 posterior samples:   0%|          | 0/20 [00:00<?, ?it/s]"
      ]
     },
     "metadata": {},
     "output_type": "display_data"
    },
    {
     "data": {
      "application/vnd.jupyter.widget-view+json": {
       "model_id": "f6076e383ea3414e849e90e01e26172c",
       "version_major": 2,
       "version_minor": 0
      },
      "text/plain": [
       "Drawing 20 posterior samples:   0%|          | 0/20 [00:00<?, ?it/s]"
      ]
     },
     "metadata": {},
     "output_type": "display_data"
    },
    {
     "data": {
      "application/vnd.jupyter.widget-view+json": {
       "model_id": "0cb332148b9d4be89654d558f9e11aaa",
       "version_major": 2,
       "version_minor": 0
      },
      "text/plain": [
       "Drawing 20 posterior samples:   0%|          | 0/20 [00:00<?, ?it/s]"
      ]
     },
     "metadata": {},
     "output_type": "display_data"
    },
    {
     "data": {
      "application/vnd.jupyter.widget-view+json": {
       "model_id": "bc4dc71cdb894a46ae90d6b314bd8125",
       "version_major": 2,
       "version_minor": 0
      },
      "text/plain": [
       "Drawing 20 posterior samples:   0%|          | 0/20 [00:00<?, ?it/s]"
      ]
     },
     "metadata": {},
     "output_type": "display_data"
    },
    {
     "data": {
      "application/vnd.jupyter.widget-view+json": {
       "model_id": "7828cb423ea84316a557f5970e9aff95",
       "version_major": 2,
       "version_minor": 0
      },
      "text/plain": [
       "Drawing 20 posterior samples:   0%|          | 0/20 [00:00<?, ?it/s]"
      ]
     },
     "metadata": {},
     "output_type": "display_data"
    },
    {
     "data": {
      "application/vnd.jupyter.widget-view+json": {
       "model_id": "784b7fb79d4c450f9cfe2d0c7f734484",
       "version_major": 2,
       "version_minor": 0
      },
      "text/plain": [
       "Drawing 20 posterior samples:   0%|          | 0/20 [00:00<?, ?it/s]"
      ]
     },
     "metadata": {},
     "output_type": "display_data"
    },
    {
     "data": {
      "application/vnd.jupyter.widget-view+json": {
       "model_id": "d1088405e61f45808fd0f4d172671757",
       "version_major": 2,
       "version_minor": 0
      },
      "text/plain": [
       "Drawing 20 posterior samples:   0%|          | 0/20 [00:00<?, ?it/s]"
      ]
     },
     "metadata": {},
     "output_type": "display_data"
    },
    {
     "data": {
      "application/vnd.jupyter.widget-view+json": {
       "model_id": "da7aa93c315c4d82a9556b95eb029565",
       "version_major": 2,
       "version_minor": 0
      },
      "text/plain": [
       "Drawing 20 posterior samples:   0%|          | 0/20 [00:00<?, ?it/s]"
      ]
     },
     "metadata": {},
     "output_type": "display_data"
    },
    {
     "data": {
      "application/vnd.jupyter.widget-view+json": {
       "model_id": "364a720292b54396a946d48bd444a786",
       "version_major": 2,
       "version_minor": 0
      },
      "text/plain": [
       "Drawing 20 posterior samples:   0%|          | 0/20 [00:00<?, ?it/s]"
      ]
     },
     "metadata": {},
     "output_type": "display_data"
    },
    {
     "data": {
      "application/vnd.jupyter.widget-view+json": {
       "model_id": "0ea66cde02df440e85bf2795b4603073",
       "version_major": 2,
       "version_minor": 0
      },
      "text/plain": [
       "Drawing 20 posterior samples:   0%|          | 0/20 [00:00<?, ?it/s]"
      ]
     },
     "metadata": {},
     "output_type": "display_data"
    },
    {
     "data": {
      "application/vnd.jupyter.widget-view+json": {
       "model_id": "6c64e90db8b74e449920ad5b3a09f990",
       "version_major": 2,
       "version_minor": 0
      },
      "text/plain": [
       "Drawing 20 posterior samples:   0%|          | 0/20 [00:00<?, ?it/s]"
      ]
     },
     "metadata": {},
     "output_type": "display_data"
    },
    {
     "data": {
      "application/vnd.jupyter.widget-view+json": {
       "model_id": "c3dfb76731d94d909254333bb573345c",
       "version_major": 2,
       "version_minor": 0
      },
      "text/plain": [
       "Drawing 20 posterior samples:   0%|          | 0/20 [00:00<?, ?it/s]"
      ]
     },
     "metadata": {},
     "output_type": "display_data"
    },
    {
     "data": {
      "application/vnd.jupyter.widget-view+json": {
       "model_id": "fd8beda252ff4f8b80f64bbb411b2b2d",
       "version_major": 2,
       "version_minor": 0
      },
      "text/plain": [
       "Drawing 20 posterior samples:   0%|          | 0/20 [00:00<?, ?it/s]"
      ]
     },
     "metadata": {},
     "output_type": "display_data"
    },
    {
     "data": {
      "application/vnd.jupyter.widget-view+json": {
       "model_id": "dab5d746b2a34c2dbb3da07d591d3541",
       "version_major": 2,
       "version_minor": 0
      },
      "text/plain": [
       "Drawing 20 posterior samples:   0%|          | 0/20 [00:00<?, ?it/s]"
      ]
     },
     "metadata": {},
     "output_type": "display_data"
    },
    {
     "data": {
      "application/vnd.jupyter.widget-view+json": {
       "model_id": "0bee40f3b1d5401993c3847c9a994d3c",
       "version_major": 2,
       "version_minor": 0
      },
      "text/plain": [
       "Drawing 20 posterior samples:   0%|          | 0/20 [00:00<?, ?it/s]"
      ]
     },
     "metadata": {},
     "output_type": "display_data"
    },
    {
     "data": {
      "application/vnd.jupyter.widget-view+json": {
       "model_id": "99919118996f4917bbefbda52eba553a",
       "version_major": 2,
       "version_minor": 0
      },
      "text/plain": [
       "Drawing 20 posterior samples:   0%|          | 0/20 [00:00<?, ?it/s]"
      ]
     },
     "metadata": {},
     "output_type": "display_data"
    },
    {
     "data": {
      "application/vnd.jupyter.widget-view+json": {
       "model_id": "84214ce4a83b431084dd3cc5561ebf3f",
       "version_major": 2,
       "version_minor": 0
      },
      "text/plain": [
       "Drawing 20 posterior samples:   0%|          | 0/20 [00:00<?, ?it/s]"
      ]
     },
     "metadata": {},
     "output_type": "display_data"
    },
    {
     "data": {
      "application/vnd.jupyter.widget-view+json": {
       "model_id": "c1318fdd92f24a16a46890a188e2a531",
       "version_major": 2,
       "version_minor": 0
      },
      "text/plain": [
       "Drawing 20 posterior samples:   0%|          | 0/20 [00:00<?, ?it/s]"
      ]
     },
     "metadata": {},
     "output_type": "display_data"
    },
    {
     "data": {
      "application/vnd.jupyter.widget-view+json": {
       "model_id": "0dbf5b79f39b4131adb954524375c49c",
       "version_major": 2,
       "version_minor": 0
      },
      "text/plain": [
       "Drawing 20 posterior samples:   0%|          | 0/20 [00:00<?, ?it/s]"
      ]
     },
     "metadata": {},
     "output_type": "display_data"
    },
    {
     "data": {
      "application/vnd.jupyter.widget-view+json": {
       "model_id": "6ea06bdbeef14258b288d8e4857b2f13",
       "version_major": 2,
       "version_minor": 0
      },
      "text/plain": [
       "Drawing 20 posterior samples:   0%|          | 0/20 [00:00<?, ?it/s]"
      ]
     },
     "metadata": {},
     "output_type": "display_data"
    },
    {
     "data": {
      "application/vnd.jupyter.widget-view+json": {
       "model_id": "29e912c9e74a49b1bcfe29c1a34394ee",
       "version_major": 2,
       "version_minor": 0
      },
      "text/plain": [
       "Drawing 20 posterior samples:   0%|          | 0/20 [00:00<?, ?it/s]"
      ]
     },
     "metadata": {},
     "output_type": "display_data"
    },
    {
     "data": {
      "application/vnd.jupyter.widget-view+json": {
       "model_id": "096678c9a1dc46678228c654602fff37",
       "version_major": 2,
       "version_minor": 0
      },
      "text/plain": [
       "Drawing 20 posterior samples:   0%|          | 0/20 [00:00<?, ?it/s]"
      ]
     },
     "metadata": {},
     "output_type": "display_data"
    },
    {
     "data": {
      "application/vnd.jupyter.widget-view+json": {
       "model_id": "72e28c8a485a4cf6917b8b75ab95a5d7",
       "version_major": 2,
       "version_minor": 0
      },
      "text/plain": [
       "Drawing 20 posterior samples:   0%|          | 0/20 [00:00<?, ?it/s]"
      ]
     },
     "metadata": {},
     "output_type": "display_data"
    },
    {
     "data": {
      "application/vnd.jupyter.widget-view+json": {
       "model_id": "abd40a3365664f04b276fb71c2abafac",
       "version_major": 2,
       "version_minor": 0
      },
      "text/plain": [
       "Drawing 20 posterior samples:   0%|          | 0/20 [00:00<?, ?it/s]"
      ]
     },
     "metadata": {},
     "output_type": "display_data"
    },
    {
     "data": {
      "application/vnd.jupyter.widget-view+json": {
       "model_id": "d4c995f810a2415aa0e23d406c26159e",
       "version_major": 2,
       "version_minor": 0
      },
      "text/plain": [
       "Drawing 20 posterior samples:   0%|          | 0/20 [00:00<?, ?it/s]"
      ]
     },
     "metadata": {},
     "output_type": "display_data"
    },
    {
     "data": {
      "application/vnd.jupyter.widget-view+json": {
       "model_id": "9427acb13d9a443788261fb478228470",
       "version_major": 2,
       "version_minor": 0
      },
      "text/plain": [
       "Drawing 20 posterior samples:   0%|          | 0/20 [00:00<?, ?it/s]"
      ]
     },
     "metadata": {},
     "output_type": "display_data"
    },
    {
     "data": {
      "application/vnd.jupyter.widget-view+json": {
       "model_id": "2ed41db2c9e648c2bf2afc4db90f3310",
       "version_major": 2,
       "version_minor": 0
      },
      "text/plain": [
       "Drawing 20 posterior samples:   0%|          | 0/20 [00:00<?, ?it/s]"
      ]
     },
     "metadata": {},
     "output_type": "display_data"
    },
    {
     "data": {
      "application/vnd.jupyter.widget-view+json": {
       "model_id": "1a1f974d807e4526b9c751306bf83ee0",
       "version_major": 2,
       "version_minor": 0
      },
      "text/plain": [
       "Drawing 20 posterior samples:   0%|          | 0/20 [00:00<?, ?it/s]"
      ]
     },
     "metadata": {},
     "output_type": "display_data"
    },
    {
     "data": {
      "application/vnd.jupyter.widget-view+json": {
       "model_id": "4142d952686e4c4a8432df7c4f2a44e1",
       "version_major": 2,
       "version_minor": 0
      },
      "text/plain": [
       "Drawing 20 posterior samples:   0%|          | 0/20 [00:00<?, ?it/s]"
      ]
     },
     "metadata": {},
     "output_type": "display_data"
    },
    {
     "data": {
      "application/vnd.jupyter.widget-view+json": {
       "model_id": "33b7da38ee1b45afaeeb751ce5c0afd4",
       "version_major": 2,
       "version_minor": 0
      },
      "text/plain": [
       "Drawing 20 posterior samples:   0%|          | 0/20 [00:00<?, ?it/s]"
      ]
     },
     "metadata": {},
     "output_type": "display_data"
    },
    {
     "data": {
      "application/vnd.jupyter.widget-view+json": {
       "model_id": "d8a2bcb7e07541d188ce434cda7735c6",
       "version_major": 2,
       "version_minor": 0
      },
      "text/plain": [
       "Drawing 20 posterior samples:   0%|          | 0/20 [00:00<?, ?it/s]"
      ]
     },
     "metadata": {},
     "output_type": "display_data"
    },
    {
     "data": {
      "application/vnd.jupyter.widget-view+json": {
       "model_id": "85bbd3552ff8497d958442c2b766e0bc",
       "version_major": 2,
       "version_minor": 0
      },
      "text/plain": [
       "Drawing 20 posterior samples:   0%|          | 0/20 [00:00<?, ?it/s]"
      ]
     },
     "metadata": {},
     "output_type": "display_data"
    },
    {
     "data": {
      "application/vnd.jupyter.widget-view+json": {
       "model_id": "768b27a2adad405bbcdbf0b40b6988c1",
       "version_major": 2,
       "version_minor": 0
      },
      "text/plain": [
       "Drawing 20 posterior samples:   0%|          | 0/20 [00:00<?, ?it/s]"
      ]
     },
     "metadata": {},
     "output_type": "display_data"
    },
    {
     "data": {
      "application/vnd.jupyter.widget-view+json": {
       "model_id": "bd3fd866011647b79cdca489133afc9f",
       "version_major": 2,
       "version_minor": 0
      },
      "text/plain": [
       "Drawing 20 posterior samples:   0%|          | 0/20 [00:00<?, ?it/s]"
      ]
     },
     "metadata": {},
     "output_type": "display_data"
    },
    {
     "data": {
      "application/vnd.jupyter.widget-view+json": {
       "model_id": "02ec010872a24d0d9eecf4e333afb59e",
       "version_major": 2,
       "version_minor": 0
      },
      "text/plain": [
       "Drawing 20 posterior samples:   0%|          | 0/20 [00:00<?, ?it/s]"
      ]
     },
     "metadata": {},
     "output_type": "display_data"
    },
    {
     "data": {
      "application/vnd.jupyter.widget-view+json": {
       "model_id": "c53b84a93fca4f55ba3394c383df649b",
       "version_major": 2,
       "version_minor": 0
      },
      "text/plain": [
       "Drawing 20 posterior samples:   0%|          | 0/20 [00:00<?, ?it/s]"
      ]
     },
     "metadata": {},
     "output_type": "display_data"
    },
    {
     "data": {
      "application/vnd.jupyter.widget-view+json": {
       "model_id": "c77c5ad7b906478ea4cbb7584e2e5fdd",
       "version_major": 2,
       "version_minor": 0
      },
      "text/plain": [
       "Drawing 20 posterior samples:   0%|          | 0/20 [00:00<?, ?it/s]"
      ]
     },
     "metadata": {},
     "output_type": "display_data"
    },
    {
     "data": {
      "application/vnd.jupyter.widget-view+json": {
       "model_id": "4383053ac10e470880f83f89c78ed7a8",
       "version_major": 2,
       "version_minor": 0
      },
      "text/plain": [
       "Drawing 20 posterior samples:   0%|          | 0/20 [00:00<?, ?it/s]"
      ]
     },
     "metadata": {},
     "output_type": "display_data"
    },
    {
     "data": {
      "application/vnd.jupyter.widget-view+json": {
       "model_id": "f52482d3bbb548cdafdde81f78c263c9",
       "version_major": 2,
       "version_minor": 0
      },
      "text/plain": [
       "Drawing 20 posterior samples:   0%|          | 0/20 [00:00<?, ?it/s]"
      ]
     },
     "metadata": {},
     "output_type": "display_data"
    },
    {
     "data": {
      "application/vnd.jupyter.widget-view+json": {
       "model_id": "cdc2540f2136450fbbf2d4d037b547f1",
       "version_major": 2,
       "version_minor": 0
      },
      "text/plain": [
       "Drawing 20 posterior samples:   0%|          | 0/20 [00:00<?, ?it/s]"
      ]
     },
     "metadata": {},
     "output_type": "display_data"
    },
    {
     "data": {
      "application/vnd.jupyter.widget-view+json": {
       "model_id": "6a97764ebf264ff39e8b4eb7103707fd",
       "version_major": 2,
       "version_minor": 0
      },
      "text/plain": [
       "Drawing 20 posterior samples:   0%|          | 0/20 [00:00<?, ?it/s]"
      ]
     },
     "metadata": {},
     "output_type": "display_data"
    },
    {
     "data": {
      "application/vnd.jupyter.widget-view+json": {
       "model_id": "3732445d84564056a888a3715a85a01b",
       "version_major": 2,
       "version_minor": 0
      },
      "text/plain": [
       "Drawing 20 posterior samples:   0%|          | 0/20 [00:00<?, ?it/s]"
      ]
     },
     "metadata": {},
     "output_type": "display_data"
    },
    {
     "data": {
      "application/vnd.jupyter.widget-view+json": {
       "model_id": "ee45b351ecb44f538e29b0a6233fd0e2",
       "version_major": 2,
       "version_minor": 0
      },
      "text/plain": [
       "Drawing 20 posterior samples:   0%|          | 0/20 [00:00<?, ?it/s]"
      ]
     },
     "metadata": {},
     "output_type": "display_data"
    },
    {
     "data": {
      "application/vnd.jupyter.widget-view+json": {
       "model_id": "21d870215c31434c858174b9b4f0569b",
       "version_major": 2,
       "version_minor": 0
      },
      "text/plain": [
       "Drawing 20 posterior samples:   0%|          | 0/20 [00:00<?, ?it/s]"
      ]
     },
     "metadata": {},
     "output_type": "display_data"
    },
    {
     "data": {
      "application/vnd.jupyter.widget-view+json": {
       "model_id": "612d1ce939454c15b5bcaacf016bbad5",
       "version_major": 2,
       "version_minor": 0
      },
      "text/plain": [
       "Drawing 20 posterior samples:   0%|          | 0/20 [00:00<?, ?it/s]"
      ]
     },
     "metadata": {},
     "output_type": "display_data"
    },
    {
     "data": {
      "application/vnd.jupyter.widget-view+json": {
       "model_id": "0425686350a944a3b43fbbda369812c4",
       "version_major": 2,
       "version_minor": 0
      },
      "text/plain": [
       "Drawing 20 posterior samples:   0%|          | 0/20 [00:00<?, ?it/s]"
      ]
     },
     "metadata": {},
     "output_type": "display_data"
    },
    {
     "data": {
      "application/vnd.jupyter.widget-view+json": {
       "model_id": "d6e1ecf7bb504e7a8da7ed7404ceecd9",
       "version_major": 2,
       "version_minor": 0
      },
      "text/plain": [
       "Drawing 20 posterior samples:   0%|          | 0/20 [00:00<?, ?it/s]"
      ]
     },
     "metadata": {},
     "output_type": "display_data"
    },
    {
     "data": {
      "application/vnd.jupyter.widget-view+json": {
       "model_id": "f829f7661e474c629613777cb37ce3eb",
       "version_major": 2,
       "version_minor": 0
      },
      "text/plain": [
       "Drawing 20 posterior samples:   0%|          | 0/20 [00:00<?, ?it/s]"
      ]
     },
     "metadata": {},
     "output_type": "display_data"
    },
    {
     "data": {
      "application/vnd.jupyter.widget-view+json": {
       "model_id": "85e70bc3ac1740d7916de611039dc204",
       "version_major": 2,
       "version_minor": 0
      },
      "text/plain": [
       "Drawing 20 posterior samples:   0%|          | 0/20 [00:00<?, ?it/s]"
      ]
     },
     "metadata": {},
     "output_type": "display_data"
    },
    {
     "data": {
      "application/vnd.jupyter.widget-view+json": {
       "model_id": "906c155d196e4c83859a02d1153a7ad6",
       "version_major": 2,
       "version_minor": 0
      },
      "text/plain": [
       "Drawing 20 posterior samples:   0%|          | 0/20 [00:00<?, ?it/s]"
      ]
     },
     "metadata": {},
     "output_type": "display_data"
    },
    {
     "data": {
      "application/vnd.jupyter.widget-view+json": {
       "model_id": "00ca4d2e69bc4e73ab79d1e6c53fa7b5",
       "version_major": 2,
       "version_minor": 0
      },
      "text/plain": [
       "Drawing 20 posterior samples:   0%|          | 0/20 [00:00<?, ?it/s]"
      ]
     },
     "metadata": {},
     "output_type": "display_data"
    },
    {
     "data": {
      "application/vnd.jupyter.widget-view+json": {
       "model_id": "d7d1d7374185477085dd661470ce4f20",
       "version_major": 2,
       "version_minor": 0
      },
      "text/plain": [
       "Drawing 20 posterior samples:   0%|          | 0/20 [00:00<?, ?it/s]"
      ]
     },
     "metadata": {},
     "output_type": "display_data"
    },
    {
     "data": {
      "application/vnd.jupyter.widget-view+json": {
       "model_id": "703fd66947e3433c803e689472c4bbd1",
       "version_major": 2,
       "version_minor": 0
      },
      "text/plain": [
       "Drawing 20 posterior samples:   0%|          | 0/20 [00:00<?, ?it/s]"
      ]
     },
     "metadata": {},
     "output_type": "display_data"
    },
    {
     "data": {
      "application/vnd.jupyter.widget-view+json": {
       "model_id": "aac3790db70745b985842e1fb2c291c4",
       "version_major": 2,
       "version_minor": 0
      },
      "text/plain": [
       "Drawing 20 posterior samples:   0%|          | 0/20 [00:00<?, ?it/s]"
      ]
     },
     "metadata": {},
     "output_type": "display_data"
    },
    {
     "data": {
      "application/vnd.jupyter.widget-view+json": {
       "model_id": "07f2b1fff6604261ac70f1d8e1bb87d8",
       "version_major": 2,
       "version_minor": 0
      },
      "text/plain": [
       "Drawing 20 posterior samples:   0%|          | 0/20 [00:00<?, ?it/s]"
      ]
     },
     "metadata": {},
     "output_type": "display_data"
    },
    {
     "data": {
      "application/vnd.jupyter.widget-view+json": {
       "model_id": "0536719d48754a998c21fc948a9b1cba",
       "version_major": 2,
       "version_minor": 0
      },
      "text/plain": [
       "Drawing 20 posterior samples:   0%|          | 0/20 [00:00<?, ?it/s]"
      ]
     },
     "metadata": {},
     "output_type": "display_data"
    },
    {
     "data": {
      "application/vnd.jupyter.widget-view+json": {
       "model_id": "3f0738a157924d4ea6b65dbfea32edf3",
       "version_major": 2,
       "version_minor": 0
      },
      "text/plain": [
       "Drawing 20 posterior samples:   0%|          | 0/20 [00:00<?, ?it/s]"
      ]
     },
     "metadata": {},
     "output_type": "display_data"
    },
    {
     "data": {
      "application/vnd.jupyter.widget-view+json": {
       "model_id": "a94e1ac5e493478f8354568b3ca0485f",
       "version_major": 2,
       "version_minor": 0
      },
      "text/plain": [
       "Drawing 20 posterior samples:   0%|          | 0/20 [00:00<?, ?it/s]"
      ]
     },
     "metadata": {},
     "output_type": "display_data"
    },
    {
     "data": {
      "application/vnd.jupyter.widget-view+json": {
       "model_id": "d611f92fa8994f428ae25f0810982401",
       "version_major": 2,
       "version_minor": 0
      },
      "text/plain": [
       "Drawing 20 posterior samples:   0%|          | 0/20 [00:00<?, ?it/s]"
      ]
     },
     "metadata": {},
     "output_type": "display_data"
    },
    {
     "data": {
      "application/vnd.jupyter.widget-view+json": {
       "model_id": "1f9b8ca325b04a91ab5b654915db5793",
       "version_major": 2,
       "version_minor": 0
      },
      "text/plain": [
       "Drawing 20 posterior samples:   0%|          | 0/20 [00:00<?, ?it/s]"
      ]
     },
     "metadata": {},
     "output_type": "display_data"
    },
    {
     "data": {
      "application/vnd.jupyter.widget-view+json": {
       "model_id": "f5d4d235538543cbad2bf68168513c1c",
       "version_major": 2,
       "version_minor": 0
      },
      "text/plain": [
       "Drawing 20 posterior samples:   0%|          | 0/20 [00:00<?, ?it/s]"
      ]
     },
     "metadata": {},
     "output_type": "display_data"
    },
    {
     "data": {
      "application/vnd.jupyter.widget-view+json": {
       "model_id": "026ededae1224beba438bb3a56aa131b",
       "version_major": 2,
       "version_minor": 0
      },
      "text/plain": [
       "Drawing 20 posterior samples:   0%|          | 0/20 [00:00<?, ?it/s]"
      ]
     },
     "metadata": {},
     "output_type": "display_data"
    },
    {
     "data": {
      "application/vnd.jupyter.widget-view+json": {
       "model_id": "c56b8d8ab9a6440d856dbc5befcf8d3c",
       "version_major": 2,
       "version_minor": 0
      },
      "text/plain": [
       "Drawing 20 posterior samples:   0%|          | 0/20 [00:00<?, ?it/s]"
      ]
     },
     "metadata": {},
     "output_type": "display_data"
    },
    {
     "data": {
      "application/vnd.jupyter.widget-view+json": {
       "model_id": "7bb739434cdd4c65a36cad3b0f193197",
       "version_major": 2,
       "version_minor": 0
      },
      "text/plain": [
       "Drawing 20 posterior samples:   0%|          | 0/20 [00:00<?, ?it/s]"
      ]
     },
     "metadata": {},
     "output_type": "display_data"
    },
    {
     "data": {
      "application/vnd.jupyter.widget-view+json": {
       "model_id": "33cc1f4789d84ec5a74ef2444ec3907a",
       "version_major": 2,
       "version_minor": 0
      },
      "text/plain": [
       "Drawing 20 posterior samples:   0%|          | 0/20 [00:00<?, ?it/s]"
      ]
     },
     "metadata": {},
     "output_type": "display_data"
    },
    {
     "data": {
      "application/vnd.jupyter.widget-view+json": {
       "model_id": "c02380fda6124c96a1423a619cf92c30",
       "version_major": 2,
       "version_minor": 0
      },
      "text/plain": [
       "Drawing 20 posterior samples:   0%|          | 0/20 [00:00<?, ?it/s]"
      ]
     },
     "metadata": {},
     "output_type": "display_data"
    },
    {
     "data": {
      "application/vnd.jupyter.widget-view+json": {
       "model_id": "4326fa4cefdb4e3c818a1fd8fb633f2f",
       "version_major": 2,
       "version_minor": 0
      },
      "text/plain": [
       "Drawing 20 posterior samples:   0%|          | 0/20 [00:00<?, ?it/s]"
      ]
     },
     "metadata": {},
     "output_type": "display_data"
    },
    {
     "data": {
      "application/vnd.jupyter.widget-view+json": {
       "model_id": "ab6a86760c944386a420f71f1d88a52a",
       "version_major": 2,
       "version_minor": 0
      },
      "text/plain": [
       "Drawing 20 posterior samples:   0%|          | 0/20 [00:00<?, ?it/s]"
      ]
     },
     "metadata": {},
     "output_type": "display_data"
    },
    {
     "data": {
      "application/vnd.jupyter.widget-view+json": {
       "model_id": "567140235f8543178232574d410c7bfd",
       "version_major": 2,
       "version_minor": 0
      },
      "text/plain": [
       "Drawing 20 posterior samples:   0%|          | 0/20 [00:00<?, ?it/s]"
      ]
     },
     "metadata": {},
     "output_type": "display_data"
    },
    {
     "data": {
      "application/vnd.jupyter.widget-view+json": {
       "model_id": "1bd2fc188e9a48dca3aba08d7d451ceb",
       "version_major": 2,
       "version_minor": 0
      },
      "text/plain": [
       "Drawing 20 posterior samples:   0%|          | 0/20 [00:00<?, ?it/s]"
      ]
     },
     "metadata": {},
     "output_type": "display_data"
    },
    {
     "data": {
      "application/vnd.jupyter.widget-view+json": {
       "model_id": "b511b6f55e85450cbdd967cbb8533a17",
       "version_major": 2,
       "version_minor": 0
      },
      "text/plain": [
       "Drawing 20 posterior samples:   0%|          | 0/20 [00:00<?, ?it/s]"
      ]
     },
     "metadata": {},
     "output_type": "display_data"
    },
    {
     "data": {
      "application/vnd.jupyter.widget-view+json": {
       "model_id": "050fc91ba80141f6a261d65cd08d63b0",
       "version_major": 2,
       "version_minor": 0
      },
      "text/plain": [
       "Drawing 20 posterior samples:   0%|          | 0/20 [00:00<?, ?it/s]"
      ]
     },
     "metadata": {},
     "output_type": "display_data"
    },
    {
     "data": {
      "application/vnd.jupyter.widget-view+json": {
       "model_id": "ac9dce47618548359f5840f6fe016cc1",
       "version_major": 2,
       "version_minor": 0
      },
      "text/plain": [
       "Drawing 20 posterior samples:   0%|          | 0/20 [00:00<?, ?it/s]"
      ]
     },
     "metadata": {},
     "output_type": "display_data"
    },
    {
     "data": {
      "application/vnd.jupyter.widget-view+json": {
       "model_id": "f3be0f479f8e40ffba1d202196caad01",
       "version_major": 2,
       "version_minor": 0
      },
      "text/plain": [
       "Drawing 20 posterior samples:   0%|          | 0/20 [00:00<?, ?it/s]"
      ]
     },
     "metadata": {},
     "output_type": "display_data"
    },
    {
     "data": {
      "application/vnd.jupyter.widget-view+json": {
       "model_id": "f94fcaabd2334b38b860e1c2b54b6f3f",
       "version_major": 2,
       "version_minor": 0
      },
      "text/plain": [
       "Drawing 20 posterior samples:   0%|          | 0/20 [00:00<?, ?it/s]"
      ]
     },
     "metadata": {},
     "output_type": "display_data"
    },
    {
     "data": {
      "application/vnd.jupyter.widget-view+json": {
       "model_id": "a34e468680ca4e39b915490ad40752b4",
       "version_major": 2,
       "version_minor": 0
      },
      "text/plain": [
       "Drawing 20 posterior samples:   0%|          | 0/20 [00:00<?, ?it/s]"
      ]
     },
     "metadata": {},
     "output_type": "display_data"
    },
    {
     "data": {
      "application/vnd.jupyter.widget-view+json": {
       "model_id": "a6b6ef8672024336be8c3f7cf1d08da3",
       "version_major": 2,
       "version_minor": 0
      },
      "text/plain": [
       "Drawing 20 posterior samples:   0%|          | 0/20 [00:00<?, ?it/s]"
      ]
     },
     "metadata": {},
     "output_type": "display_data"
    },
    {
     "data": {
      "application/vnd.jupyter.widget-view+json": {
       "model_id": "70866d7a40914e08808c59a77ad50da7",
       "version_major": 2,
       "version_minor": 0
      },
      "text/plain": [
       "Drawing 20 posterior samples:   0%|          | 0/20 [00:00<?, ?it/s]"
      ]
     },
     "metadata": {},
     "output_type": "display_data"
    },
    {
     "data": {
      "application/vnd.jupyter.widget-view+json": {
       "model_id": "eb106555105c45ffaab627a441030546",
       "version_major": 2,
       "version_minor": 0
      },
      "text/plain": [
       "Drawing 20 posterior samples:   0%|          | 0/20 [00:00<?, ?it/s]"
      ]
     },
     "metadata": {},
     "output_type": "display_data"
    },
    {
     "data": {
      "application/vnd.jupyter.widget-view+json": {
       "model_id": "0a12f77b170e460c9b4abbbf8ca8edc6",
       "version_major": 2,
       "version_minor": 0
      },
      "text/plain": [
       "Drawing 20 posterior samples:   0%|          | 0/20 [00:00<?, ?it/s]"
      ]
     },
     "metadata": {},
     "output_type": "display_data"
    },
    {
     "data": {
      "application/vnd.jupyter.widget-view+json": {
       "model_id": "272a6c5b75da464696c3e365c29ccbae",
       "version_major": 2,
       "version_minor": 0
      },
      "text/plain": [
       "Drawing 20 posterior samples:   0%|          | 0/20 [00:00<?, ?it/s]"
      ]
     },
     "metadata": {},
     "output_type": "display_data"
    },
    {
     "data": {
      "application/vnd.jupyter.widget-view+json": {
       "model_id": "956ff3de242d4da098f98839c64dd5bc",
       "version_major": 2,
       "version_minor": 0
      },
      "text/plain": [
       "Drawing 20 posterior samples:   0%|          | 0/20 [00:00<?, ?it/s]"
      ]
     },
     "metadata": {},
     "output_type": "display_data"
    },
    {
     "data": {
      "application/vnd.jupyter.widget-view+json": {
       "model_id": "1503ffc4c73045ab97458447b0d93d8c",
       "version_major": 2,
       "version_minor": 0
      },
      "text/plain": [
       "Drawing 20 posterior samples:   0%|          | 0/20 [00:00<?, ?it/s]"
      ]
     },
     "metadata": {},
     "output_type": "display_data"
    },
    {
     "data": {
      "application/vnd.jupyter.widget-view+json": {
       "model_id": "0191fc052ec4400293cd03d7067b84a1",
       "version_major": 2,
       "version_minor": 0
      },
      "text/plain": [
       "Drawing 20 posterior samples:   0%|          | 0/20 [00:00<?, ?it/s]"
      ]
     },
     "metadata": {},
     "output_type": "display_data"
    },
    {
     "data": {
      "application/vnd.jupyter.widget-view+json": {
       "model_id": "0dca9a8dbcb54d34b81d52d110873ec4",
       "version_major": 2,
       "version_minor": 0
      },
      "text/plain": [
       "Drawing 20 posterior samples:   0%|          | 0/20 [00:00<?, ?it/s]"
      ]
     },
     "metadata": {},
     "output_type": "display_data"
    },
    {
     "data": {
      "application/vnd.jupyter.widget-view+json": {
       "model_id": "ac248d24312e44eb84f9873e80ae1016",
       "version_major": 2,
       "version_minor": 0
      },
      "text/plain": [
       "Drawing 20 posterior samples:   0%|          | 0/20 [00:00<?, ?it/s]"
      ]
     },
     "metadata": {},
     "output_type": "display_data"
    },
    {
     "data": {
      "application/vnd.jupyter.widget-view+json": {
       "model_id": "0a791e9e72414bd0a5936b794db99d67",
       "version_major": 2,
       "version_minor": 0
      },
      "text/plain": [
       "Drawing 20 posterior samples:   0%|          | 0/20 [00:00<?, ?it/s]"
      ]
     },
     "metadata": {},
     "output_type": "display_data"
    },
    {
     "data": {
      "application/vnd.jupyter.widget-view+json": {
       "model_id": "75f5a2fc7e37494299acd3629b11ce92",
       "version_major": 2,
       "version_minor": 0
      },
      "text/plain": [
       "Drawing 20 posterior samples:   0%|          | 0/20 [00:00<?, ?it/s]"
      ]
     },
     "metadata": {},
     "output_type": "display_data"
    },
    {
     "data": {
      "application/vnd.jupyter.widget-view+json": {
       "model_id": "eeaaf268ca2a4df2a715b0d4d9116abe",
       "version_major": 2,
       "version_minor": 0
      },
      "text/plain": [
       "Drawing 20 posterior samples:   0%|          | 0/20 [00:00<?, ?it/s]"
      ]
     },
     "metadata": {},
     "output_type": "display_data"
    },
    {
     "data": {
      "application/vnd.jupyter.widget-view+json": {
       "model_id": "bbc670bbae77486f9dee72fa34884944",
       "version_major": 2,
       "version_minor": 0
      },
      "text/plain": [
       "Drawing 20 posterior samples:   0%|          | 0/20 [00:00<?, ?it/s]"
      ]
     },
     "metadata": {},
     "output_type": "display_data"
    },
    {
     "data": {
      "application/vnd.jupyter.widget-view+json": {
       "model_id": "817843a03ef04e15982ad341c412fc30",
       "version_major": 2,
       "version_minor": 0
      },
      "text/plain": [
       "Drawing 20 posterior samples:   0%|          | 0/20 [00:00<?, ?it/s]"
      ]
     },
     "metadata": {},
     "output_type": "display_data"
    },
    {
     "data": {
      "application/vnd.jupyter.widget-view+json": {
       "model_id": "12a39683c70544e1b203955358004f70",
       "version_major": 2,
       "version_minor": 0
      },
      "text/plain": [
       "Drawing 20 posterior samples:   0%|          | 0/20 [00:00<?, ?it/s]"
      ]
     },
     "metadata": {},
     "output_type": "display_data"
    },
    {
     "data": {
      "application/vnd.jupyter.widget-view+json": {
       "model_id": "2543ab98496344d6894ba64c739b15bb",
       "version_major": 2,
       "version_minor": 0
      },
      "text/plain": [
       "Drawing 20 posterior samples:   0%|          | 0/20 [00:00<?, ?it/s]"
      ]
     },
     "metadata": {},
     "output_type": "display_data"
    },
    {
     "data": {
      "application/vnd.jupyter.widget-view+json": {
       "model_id": "ea33c6e6628f44c0abe68ac782fb4c60",
       "version_major": 2,
       "version_minor": 0
      },
      "text/plain": [
       "Drawing 20 posterior samples:   0%|          | 0/20 [00:00<?, ?it/s]"
      ]
     },
     "metadata": {},
     "output_type": "display_data"
    },
    {
     "data": {
      "application/vnd.jupyter.widget-view+json": {
       "model_id": "ae14d1feb65e449cb2346b63eed1fd50",
       "version_major": 2,
       "version_minor": 0
      },
      "text/plain": [
       "Drawing 20 posterior samples:   0%|          | 0/20 [00:00<?, ?it/s]"
      ]
     },
     "metadata": {},
     "output_type": "display_data"
    },
    {
     "data": {
      "application/vnd.jupyter.widget-view+json": {
       "model_id": "5e2519c78a964e65948d11b939c2d402",
       "version_major": 2,
       "version_minor": 0
      },
      "text/plain": [
       "Drawing 20 posterior samples:   0%|          | 0/20 [00:00<?, ?it/s]"
      ]
     },
     "metadata": {},
     "output_type": "display_data"
    },
    {
     "data": {
      "application/vnd.jupyter.widget-view+json": {
       "model_id": "163d31b65ea849d2a87cab9c649e01ed",
       "version_major": 2,
       "version_minor": 0
      },
      "text/plain": [
       "Drawing 20 posterior samples:   0%|          | 0/20 [00:00<?, ?it/s]"
      ]
     },
     "metadata": {},
     "output_type": "display_data"
    },
    {
     "data": {
      "application/vnd.jupyter.widget-view+json": {
       "model_id": "9e8b060d363b4080b91cb8c08aff4f0a",
       "version_major": 2,
       "version_minor": 0
      },
      "text/plain": [
       "Drawing 20 posterior samples:   0%|          | 0/20 [00:00<?, ?it/s]"
      ]
     },
     "metadata": {},
     "output_type": "display_data"
    },
    {
     "data": {
      "application/vnd.jupyter.widget-view+json": {
       "model_id": "99b9663b10ae400ea90a14cd95570f52",
       "version_major": 2,
       "version_minor": 0
      },
      "text/plain": [
       "Drawing 20 posterior samples:   0%|          | 0/20 [00:00<?, ?it/s]"
      ]
     },
     "metadata": {},
     "output_type": "display_data"
    },
    {
     "data": {
      "application/vnd.jupyter.widget-view+json": {
       "model_id": "9bf814695d1b4b46879531e6a929bf7d",
       "version_major": 2,
       "version_minor": 0
      },
      "text/plain": [
       "Drawing 20 posterior samples:   0%|          | 0/20 [00:00<?, ?it/s]"
      ]
     },
     "metadata": {},
     "output_type": "display_data"
    },
    {
     "data": {
      "application/vnd.jupyter.widget-view+json": {
       "model_id": "3cf942b6208442dbb05cfcf380e14546",
       "version_major": 2,
       "version_minor": 0
      },
      "text/plain": [
       "Drawing 20 posterior samples:   0%|          | 0/20 [00:00<?, ?it/s]"
      ]
     },
     "metadata": {},
     "output_type": "display_data"
    },
    {
     "data": {
      "application/vnd.jupyter.widget-view+json": {
       "model_id": "5048bba7fa174011b957e25abda81bff",
       "version_major": 2,
       "version_minor": 0
      },
      "text/plain": [
       "Drawing 20 posterior samples:   0%|          | 0/20 [00:00<?, ?it/s]"
      ]
     },
     "metadata": {},
     "output_type": "display_data"
    },
    {
     "data": {
      "application/vnd.jupyter.widget-view+json": {
       "model_id": "701e1a8854004387b719b2dd058faa39",
       "version_major": 2,
       "version_minor": 0
      },
      "text/plain": [
       "Drawing 20 posterior samples:   0%|          | 0/20 [00:00<?, ?it/s]"
      ]
     },
     "metadata": {},
     "output_type": "display_data"
    },
    {
     "data": {
      "application/vnd.jupyter.widget-view+json": {
       "model_id": "c207d7b1ef0b488a9d025e875ece5d62",
       "version_major": 2,
       "version_minor": 0
      },
      "text/plain": [
       "Drawing 20 posterior samples:   0%|          | 0/20 [00:00<?, ?it/s]"
      ]
     },
     "metadata": {},
     "output_type": "display_data"
    },
    {
     "data": {
      "application/vnd.jupyter.widget-view+json": {
       "model_id": "aed27a31fbab4f47a14cc1b1d4977665",
       "version_major": 2,
       "version_minor": 0
      },
      "text/plain": [
       "Drawing 20 posterior samples:   0%|          | 0/20 [00:00<?, ?it/s]"
      ]
     },
     "metadata": {},
     "output_type": "display_data"
    },
    {
     "data": {
      "application/vnd.jupyter.widget-view+json": {
       "model_id": "2414667de9ba4744a919745bb42fcc70",
       "version_major": 2,
       "version_minor": 0
      },
      "text/plain": [
       "Drawing 20 posterior samples:   0%|          | 0/20 [00:00<?, ?it/s]"
      ]
     },
     "metadata": {},
     "output_type": "display_data"
    },
    {
     "data": {
      "application/vnd.jupyter.widget-view+json": {
       "model_id": "65cfd8fbd5a84d24bb6f6d899f94e048",
       "version_major": 2,
       "version_minor": 0
      },
      "text/plain": [
       "Drawing 20 posterior samples:   0%|          | 0/20 [00:00<?, ?it/s]"
      ]
     },
     "metadata": {},
     "output_type": "display_data"
    },
    {
     "data": {
      "application/vnd.jupyter.widget-view+json": {
       "model_id": "8d822ac8c3f3435fb39a3b537b4818e9",
       "version_major": 2,
       "version_minor": 0
      },
      "text/plain": [
       "Drawing 20 posterior samples:   0%|          | 0/20 [00:00<?, ?it/s]"
      ]
     },
     "metadata": {},
     "output_type": "display_data"
    },
    {
     "data": {
      "application/vnd.jupyter.widget-view+json": {
       "model_id": "70d304065a3f4fe792e06b0de4285f43",
       "version_major": 2,
       "version_minor": 0
      },
      "text/plain": [
       "Drawing 20 posterior samples:   0%|          | 0/20 [00:00<?, ?it/s]"
      ]
     },
     "metadata": {},
     "output_type": "display_data"
    },
    {
     "data": {
      "application/vnd.jupyter.widget-view+json": {
       "model_id": "97a836fa42a84f7ab86fc0b44eb1ef82",
       "version_major": 2,
       "version_minor": 0
      },
      "text/plain": [
       "Drawing 20 posterior samples:   0%|          | 0/20 [00:00<?, ?it/s]"
      ]
     },
     "metadata": {},
     "output_type": "display_data"
    },
    {
     "data": {
      "application/vnd.jupyter.widget-view+json": {
       "model_id": "8b07d5a84e8b46d1bc2d1f9e42fee1db",
       "version_major": 2,
       "version_minor": 0
      },
      "text/plain": [
       "Drawing 20 posterior samples:   0%|          | 0/20 [00:00<?, ?it/s]"
      ]
     },
     "metadata": {},
     "output_type": "display_data"
    },
    {
     "data": {
      "application/vnd.jupyter.widget-view+json": {
       "model_id": "cbc058b501c74c0699b1e609a693fac9",
       "version_major": 2,
       "version_minor": 0
      },
      "text/plain": [
       "Drawing 20 posterior samples:   0%|          | 0/20 [00:00<?, ?it/s]"
      ]
     },
     "metadata": {},
     "output_type": "display_data"
    },
    {
     "data": {
      "application/vnd.jupyter.widget-view+json": {
       "model_id": "10a0011f4c9c4bc0ac210182c3043a8e",
       "version_major": 2,
       "version_minor": 0
      },
      "text/plain": [
       "Drawing 20 posterior samples:   0%|          | 0/20 [00:00<?, ?it/s]"
      ]
     },
     "metadata": {},
     "output_type": "display_data"
    },
    {
     "data": {
      "application/vnd.jupyter.widget-view+json": {
       "model_id": "6a5f41933d634834b5c0d08253fa1863",
       "version_major": 2,
       "version_minor": 0
      },
      "text/plain": [
       "Drawing 20 posterior samples:   0%|          | 0/20 [00:00<?, ?it/s]"
      ]
     },
     "metadata": {},
     "output_type": "display_data"
    },
    {
     "data": {
      "application/vnd.jupyter.widget-view+json": {
       "model_id": "ce0eb1701a34440092b6ceb1910a0411",
       "version_major": 2,
       "version_minor": 0
      },
      "text/plain": [
       "Drawing 20 posterior samples:   0%|          | 0/20 [00:00<?, ?it/s]"
      ]
     },
     "metadata": {},
     "output_type": "display_data"
    },
    {
     "data": {
      "application/vnd.jupyter.widget-view+json": {
       "model_id": "6d096ddc608a4d848b86fc672c23259c",
       "version_major": 2,
       "version_minor": 0
      },
      "text/plain": [
       "Drawing 20 posterior samples:   0%|          | 0/20 [00:00<?, ?it/s]"
      ]
     },
     "metadata": {},
     "output_type": "display_data"
    },
    {
     "data": {
      "application/vnd.jupyter.widget-view+json": {
       "model_id": "fea2b53eb1274d5ebb761ed6a9aaed11",
       "version_major": 2,
       "version_minor": 0
      },
      "text/plain": [
       "Drawing 20 posterior samples:   0%|          | 0/20 [00:00<?, ?it/s]"
      ]
     },
     "metadata": {},
     "output_type": "display_data"
    },
    {
     "data": {
      "application/vnd.jupyter.widget-view+json": {
       "model_id": "8aeca33195bc4548824fd540715fbdce",
       "version_major": 2,
       "version_minor": 0
      },
      "text/plain": [
       "Drawing 20 posterior samples:   0%|          | 0/20 [00:00<?, ?it/s]"
      ]
     },
     "metadata": {},
     "output_type": "display_data"
    },
    {
     "data": {
      "application/vnd.jupyter.widget-view+json": {
       "model_id": "8284488659b34bd0be90f8baffb7137b",
       "version_major": 2,
       "version_minor": 0
      },
      "text/plain": [
       "Drawing 20 posterior samples:   0%|          | 0/20 [00:00<?, ?it/s]"
      ]
     },
     "metadata": {},
     "output_type": "display_data"
    },
    {
     "data": {
      "application/vnd.jupyter.widget-view+json": {
       "model_id": "2ddb04945aa344ebbe6a87426570a031",
       "version_major": 2,
       "version_minor": 0
      },
      "text/plain": [
       "Drawing 20 posterior samples:   0%|          | 0/20 [00:00<?, ?it/s]"
      ]
     },
     "metadata": {},
     "output_type": "display_data"
    },
    {
     "data": {
      "application/vnd.jupyter.widget-view+json": {
       "model_id": "f85786d7adde4f6c8fe578f25802078c",
       "version_major": 2,
       "version_minor": 0
      },
      "text/plain": [
       "Drawing 20 posterior samples:   0%|          | 0/20 [00:00<?, ?it/s]"
      ]
     },
     "metadata": {},
     "output_type": "display_data"
    },
    {
     "data": {
      "application/vnd.jupyter.widget-view+json": {
       "model_id": "d5e1f128cfcb4be58fe177c198668394",
       "version_major": 2,
       "version_minor": 0
      },
      "text/plain": [
       "Drawing 20 posterior samples:   0%|          | 0/20 [00:00<?, ?it/s]"
      ]
     },
     "metadata": {},
     "output_type": "display_data"
    },
    {
     "data": {
      "application/vnd.jupyter.widget-view+json": {
       "model_id": "bfeec2937e2b4db898ea2a1122bd268c",
       "version_major": 2,
       "version_minor": 0
      },
      "text/plain": [
       "Drawing 20 posterior samples:   0%|          | 0/20 [00:00<?, ?it/s]"
      ]
     },
     "metadata": {},
     "output_type": "display_data"
    },
    {
     "data": {
      "application/vnd.jupyter.widget-view+json": {
       "model_id": "bed2313ee0de400b983084ce04e3299a",
       "version_major": 2,
       "version_minor": 0
      },
      "text/plain": [
       "Drawing 20 posterior samples:   0%|          | 0/20 [00:00<?, ?it/s]"
      ]
     },
     "metadata": {},
     "output_type": "display_data"
    },
    {
     "data": {
      "application/vnd.jupyter.widget-view+json": {
       "model_id": "b3e10caf76f24d16ad27a76aa32e47ea",
       "version_major": 2,
       "version_minor": 0
      },
      "text/plain": [
       "Drawing 20 posterior samples:   0%|          | 0/20 [00:00<?, ?it/s]"
      ]
     },
     "metadata": {},
     "output_type": "display_data"
    },
    {
     "data": {
      "application/vnd.jupyter.widget-view+json": {
       "model_id": "9879d23e6fca44148695cab8dc3e7f18",
       "version_major": 2,
       "version_minor": 0
      },
      "text/plain": [
       "Drawing 20 posterior samples:   0%|          | 0/20 [00:00<?, ?it/s]"
      ]
     },
     "metadata": {},
     "output_type": "display_data"
    },
    {
     "data": {
      "application/vnd.jupyter.widget-view+json": {
       "model_id": "d85071d666b4448d93250f7b6e0b713c",
       "version_major": 2,
       "version_minor": 0
      },
      "text/plain": [
       "Drawing 20 posterior samples:   0%|          | 0/20 [00:00<?, ?it/s]"
      ]
     },
     "metadata": {},
     "output_type": "display_data"
    },
    {
     "data": {
      "application/vnd.jupyter.widget-view+json": {
       "model_id": "3858f71979f543389a9bc779fe488b12",
       "version_major": 2,
       "version_minor": 0
      },
      "text/plain": [
       "Drawing 20 posterior samples:   0%|          | 0/20 [00:00<?, ?it/s]"
      ]
     },
     "metadata": {},
     "output_type": "display_data"
    },
    {
     "data": {
      "application/vnd.jupyter.widget-view+json": {
       "model_id": "d5ae4cd8fbf6418a83a0851b567da4de",
       "version_major": 2,
       "version_minor": 0
      },
      "text/plain": [
       "Drawing 20 posterior samples:   0%|          | 0/20 [00:00<?, ?it/s]"
      ]
     },
     "metadata": {},
     "output_type": "display_data"
    },
    {
     "data": {
      "application/vnd.jupyter.widget-view+json": {
       "model_id": "6bba6524f431421a997e1b81b939bf5b",
       "version_major": 2,
       "version_minor": 0
      },
      "text/plain": [
       "Drawing 20 posterior samples:   0%|          | 0/20 [00:00<?, ?it/s]"
      ]
     },
     "metadata": {},
     "output_type": "display_data"
    },
    {
     "data": {
      "application/vnd.jupyter.widget-view+json": {
       "model_id": "5b2d25859d3541c089d422568d2ff5d5",
       "version_major": 2,
       "version_minor": 0
      },
      "text/plain": [
       "Drawing 20 posterior samples:   0%|          | 0/20 [00:00<?, ?it/s]"
      ]
     },
     "metadata": {},
     "output_type": "display_data"
    },
    {
     "data": {
      "application/vnd.jupyter.widget-view+json": {
       "model_id": "6d4154df481f432ab5df32a77c1972ce",
       "version_major": 2,
       "version_minor": 0
      },
      "text/plain": [
       "Drawing 20 posterior samples:   0%|          | 0/20 [00:00<?, ?it/s]"
      ]
     },
     "metadata": {},
     "output_type": "display_data"
    },
    {
     "data": {
      "application/vnd.jupyter.widget-view+json": {
       "model_id": "4219b9568095463fba6ff942fdbc006a",
       "version_major": 2,
       "version_minor": 0
      },
      "text/plain": [
       "Drawing 20 posterior samples:   0%|          | 0/20 [00:00<?, ?it/s]"
      ]
     },
     "metadata": {},
     "output_type": "display_data"
    },
    {
     "data": {
      "application/vnd.jupyter.widget-view+json": {
       "model_id": "32f3d3c55b6c44cfb6dd91be336f5a06",
       "version_major": 2,
       "version_minor": 0
      },
      "text/plain": [
       "Drawing 20 posterior samples:   0%|          | 0/20 [00:00<?, ?it/s]"
      ]
     },
     "metadata": {},
     "output_type": "display_data"
    },
    {
     "data": {
      "application/vnd.jupyter.widget-view+json": {
       "model_id": "f40a0b3caca5431b986271efeff89013",
       "version_major": 2,
       "version_minor": 0
      },
      "text/plain": [
       "Drawing 20 posterior samples:   0%|          | 0/20 [00:00<?, ?it/s]"
      ]
     },
     "metadata": {},
     "output_type": "display_data"
    },
    {
     "data": {
      "application/vnd.jupyter.widget-view+json": {
       "model_id": "66944aea9fec46c2aa9cd7edf7828f2a",
       "version_major": 2,
       "version_minor": 0
      },
      "text/plain": [
       "Drawing 20 posterior samples:   0%|          | 0/20 [00:00<?, ?it/s]"
      ]
     },
     "metadata": {},
     "output_type": "display_data"
    },
    {
     "data": {
      "application/vnd.jupyter.widget-view+json": {
       "model_id": "9c1b2917a9e9403b86738f20418f5887",
       "version_major": 2,
       "version_minor": 0
      },
      "text/plain": [
       "Drawing 20 posterior samples:   0%|          | 0/20 [00:00<?, ?it/s]"
      ]
     },
     "metadata": {},
     "output_type": "display_data"
    },
    {
     "data": {
      "application/vnd.jupyter.widget-view+json": {
       "model_id": "d51dd09ceffd4408a78efc9c6e2c3a38",
       "version_major": 2,
       "version_minor": 0
      },
      "text/plain": [
       "Drawing 20 posterior samples:   0%|          | 0/20 [00:00<?, ?it/s]"
      ]
     },
     "metadata": {},
     "output_type": "display_data"
    },
    {
     "data": {
      "application/vnd.jupyter.widget-view+json": {
       "model_id": "3afe7400526241cf908d14e8c384ac48",
       "version_major": 2,
       "version_minor": 0
      },
      "text/plain": [
       "Drawing 20 posterior samples:   0%|          | 0/20 [00:00<?, ?it/s]"
      ]
     },
     "metadata": {},
     "output_type": "display_data"
    },
    {
     "data": {
      "application/vnd.jupyter.widget-view+json": {
       "model_id": "96f5c8b27aac4d6f9e8dbfb38b76c845",
       "version_major": 2,
       "version_minor": 0
      },
      "text/plain": [
       "Drawing 20 posterior samples:   0%|          | 0/20 [00:00<?, ?it/s]"
      ]
     },
     "metadata": {},
     "output_type": "display_data"
    },
    {
     "data": {
      "application/vnd.jupyter.widget-view+json": {
       "model_id": "1cbc816d12bb49ed81d1446a3187906b",
       "version_major": 2,
       "version_minor": 0
      },
      "text/plain": [
       "Drawing 20 posterior samples:   0%|          | 0/20 [00:00<?, ?it/s]"
      ]
     },
     "metadata": {},
     "output_type": "display_data"
    },
    {
     "data": {
      "application/vnd.jupyter.widget-view+json": {
       "model_id": "65d7989183d14b8c866cd4aadc041370",
       "version_major": 2,
       "version_minor": 0
      },
      "text/plain": [
       "Drawing 20 posterior samples:   0%|          | 0/20 [00:00<?, ?it/s]"
      ]
     },
     "metadata": {},
     "output_type": "display_data"
    },
    {
     "data": {
      "application/vnd.jupyter.widget-view+json": {
       "model_id": "fb281d4c44474d299b64eb4c44c61e80",
       "version_major": 2,
       "version_minor": 0
      },
      "text/plain": [
       "Drawing 20 posterior samples:   0%|          | 0/20 [00:00<?, ?it/s]"
      ]
     },
     "metadata": {},
     "output_type": "display_data"
    },
    {
     "data": {
      "application/vnd.jupyter.widget-view+json": {
       "model_id": "a3f780d2ef2d4fa78fa91aca33ca7d88",
       "version_major": 2,
       "version_minor": 0
      },
      "text/plain": [
       "Drawing 20 posterior samples:   0%|          | 0/20 [00:00<?, ?it/s]"
      ]
     },
     "metadata": {},
     "output_type": "display_data"
    },
    {
     "data": {
      "application/vnd.jupyter.widget-view+json": {
       "model_id": "2428044dd49248ffbaecba9c42aa39f5",
       "version_major": 2,
       "version_minor": 0
      },
      "text/plain": [
       "Drawing 20 posterior samples:   0%|          | 0/20 [00:00<?, ?it/s]"
      ]
     },
     "metadata": {},
     "output_type": "display_data"
    },
    {
     "data": {
      "application/vnd.jupyter.widget-view+json": {
       "model_id": "fbf56b1e99064beeaf4421cca5831d10",
       "version_major": 2,
       "version_minor": 0
      },
      "text/plain": [
       "Drawing 20 posterior samples:   0%|          | 0/20 [00:00<?, ?it/s]"
      ]
     },
     "metadata": {},
     "output_type": "display_data"
    },
    {
     "data": {
      "application/vnd.jupyter.widget-view+json": {
       "model_id": "12146e7a50714b72ba53b69f4f2dbed1",
       "version_major": 2,
       "version_minor": 0
      },
      "text/plain": [
       "Drawing 20 posterior samples:   0%|          | 0/20 [00:00<?, ?it/s]"
      ]
     },
     "metadata": {},
     "output_type": "display_data"
    },
    {
     "data": {
      "application/vnd.jupyter.widget-view+json": {
       "model_id": "6587a30064514ae3bd85cdb5ee2fe456",
       "version_major": 2,
       "version_minor": 0
      },
      "text/plain": [
       "Drawing 20 posterior samples:   0%|          | 0/20 [00:00<?, ?it/s]"
      ]
     },
     "metadata": {},
     "output_type": "display_data"
    },
    {
     "data": {
      "application/vnd.jupyter.widget-view+json": {
       "model_id": "6c0670dc03c542b796e849026b4dec63",
       "version_major": 2,
       "version_minor": 0
      },
      "text/plain": [
       "Drawing 20 posterior samples:   0%|          | 0/20 [00:00<?, ?it/s]"
      ]
     },
     "metadata": {},
     "output_type": "display_data"
    },
    {
     "data": {
      "application/vnd.jupyter.widget-view+json": {
       "model_id": "161dd88ce54b4657906712291721b8ac",
       "version_major": 2,
       "version_minor": 0
      },
      "text/plain": [
       "Drawing 20 posterior samples:   0%|          | 0/20 [00:00<?, ?it/s]"
      ]
     },
     "metadata": {},
     "output_type": "display_data"
    },
    {
     "data": {
      "application/vnd.jupyter.widget-view+json": {
       "model_id": "0a2a821bb1954987977ff76b843e6348",
       "version_major": 2,
       "version_minor": 0
      },
      "text/plain": [
       "Drawing 20 posterior samples:   0%|          | 0/20 [00:00<?, ?it/s]"
      ]
     },
     "metadata": {},
     "output_type": "display_data"
    },
    {
     "data": {
      "application/vnd.jupyter.widget-view+json": {
       "model_id": "b36ab88606ae4998838061460e57f725",
       "version_major": 2,
       "version_minor": 0
      },
      "text/plain": [
       "Drawing 20 posterior samples:   0%|          | 0/20 [00:00<?, ?it/s]"
      ]
     },
     "metadata": {},
     "output_type": "display_data"
    },
    {
     "data": {
      "application/vnd.jupyter.widget-view+json": {
       "model_id": "61132796c03642779b74ac0a202f24d8",
       "version_major": 2,
       "version_minor": 0
      },
      "text/plain": [
       "Drawing 20 posterior samples:   0%|          | 0/20 [00:00<?, ?it/s]"
      ]
     },
     "metadata": {},
     "output_type": "display_data"
    },
    {
     "data": {
      "application/vnd.jupyter.widget-view+json": {
       "model_id": "bd454f80a3c2493f9379079fe69b5795",
       "version_major": 2,
       "version_minor": 0
      },
      "text/plain": [
       "Drawing 20 posterior samples:   0%|          | 0/20 [00:00<?, ?it/s]"
      ]
     },
     "metadata": {},
     "output_type": "display_data"
    },
    {
     "data": {
      "application/vnd.jupyter.widget-view+json": {
       "model_id": "62fa89356f314acd9756954a2e0e7265",
       "version_major": 2,
       "version_minor": 0
      },
      "text/plain": [
       "Drawing 20 posterior samples:   0%|          | 0/20 [00:00<?, ?it/s]"
      ]
     },
     "metadata": {},
     "output_type": "display_data"
    },
    {
     "data": {
      "application/vnd.jupyter.widget-view+json": {
       "model_id": "ad3afe17ec75482785b918f4eff197bb",
       "version_major": 2,
       "version_minor": 0
      },
      "text/plain": [
       "Drawing 20 posterior samples:   0%|          | 0/20 [00:00<?, ?it/s]"
      ]
     },
     "metadata": {},
     "output_type": "display_data"
    },
    {
     "data": {
      "application/vnd.jupyter.widget-view+json": {
       "model_id": "1f32dee04d7442ca98f140ed93d35802",
       "version_major": 2,
       "version_minor": 0
      },
      "text/plain": [
       "Drawing 20 posterior samples:   0%|          | 0/20 [00:00<?, ?it/s]"
      ]
     },
     "metadata": {},
     "output_type": "display_data"
    },
    {
     "data": {
      "application/vnd.jupyter.widget-view+json": {
       "model_id": "50ad9c26f1ee47058bc3751816c07ff3",
       "version_major": 2,
       "version_minor": 0
      },
      "text/plain": [
       "Drawing 20 posterior samples:   0%|          | 0/20 [00:00<?, ?it/s]"
      ]
     },
     "metadata": {},
     "output_type": "display_data"
    },
    {
     "data": {
      "application/vnd.jupyter.widget-view+json": {
       "model_id": "049742d6a69149dc896dbdf5ccbaa714",
       "version_major": 2,
       "version_minor": 0
      },
      "text/plain": [
       "Drawing 20 posterior samples:   0%|          | 0/20 [00:00<?, ?it/s]"
      ]
     },
     "metadata": {},
     "output_type": "display_data"
    },
    {
     "data": {
      "application/vnd.jupyter.widget-view+json": {
       "model_id": "05fbd1438b2444bd970dfe0c79915956",
       "version_major": 2,
       "version_minor": 0
      },
      "text/plain": [
       "Drawing 20 posterior samples:   0%|          | 0/20 [00:00<?, ?it/s]"
      ]
     },
     "metadata": {},
     "output_type": "display_data"
    },
    {
     "data": {
      "application/vnd.jupyter.widget-view+json": {
       "model_id": "c3dc3defe5d147249e616da16f071e19",
       "version_major": 2,
       "version_minor": 0
      },
      "text/plain": [
       "Drawing 20 posterior samples:   0%|          | 0/20 [00:00<?, ?it/s]"
      ]
     },
     "metadata": {},
     "output_type": "display_data"
    },
    {
     "data": {
      "application/vnd.jupyter.widget-view+json": {
       "model_id": "7d82c8906f7c42d0910ac37cd87e2d68",
       "version_major": 2,
       "version_minor": 0
      },
      "text/plain": [
       "Drawing 20 posterior samples:   0%|          | 0/20 [00:00<?, ?it/s]"
      ]
     },
     "metadata": {},
     "output_type": "display_data"
    },
    {
     "data": {
      "application/vnd.jupyter.widget-view+json": {
       "model_id": "d001d97813e44f5aa298ce8b92ff7628",
       "version_major": 2,
       "version_minor": 0
      },
      "text/plain": [
       "Drawing 20 posterior samples:   0%|          | 0/20 [00:00<?, ?it/s]"
      ]
     },
     "metadata": {},
     "output_type": "display_data"
    },
    {
     "data": {
      "application/vnd.jupyter.widget-view+json": {
       "model_id": "071a31d2cc9e4d8980d885d0e1f50294",
       "version_major": 2,
       "version_minor": 0
      },
      "text/plain": [
       "Drawing 20 posterior samples:   0%|          | 0/20 [00:00<?, ?it/s]"
      ]
     },
     "metadata": {},
     "output_type": "display_data"
    },
    {
     "data": {
      "application/vnd.jupyter.widget-view+json": {
       "model_id": "1ee90fe7e88c4266bfba41bef59fc653",
       "version_major": 2,
       "version_minor": 0
      },
      "text/plain": [
       "Drawing 20 posterior samples:   0%|          | 0/20 [00:00<?, ?it/s]"
      ]
     },
     "metadata": {},
     "output_type": "display_data"
    },
    {
     "data": {
      "application/vnd.jupyter.widget-view+json": {
       "model_id": "11bc3cb2a6124158b0b7083782d3d77e",
       "version_major": 2,
       "version_minor": 0
      },
      "text/plain": [
       "Drawing 20 posterior samples:   0%|          | 0/20 [00:00<?, ?it/s]"
      ]
     },
     "metadata": {},
     "output_type": "display_data"
    },
    {
     "data": {
      "application/vnd.jupyter.widget-view+json": {
       "model_id": "6898676844ae43f8bb083477106d3234",
       "version_major": 2,
       "version_minor": 0
      },
      "text/plain": [
       "Drawing 20 posterior samples:   0%|          | 0/20 [00:00<?, ?it/s]"
      ]
     },
     "metadata": {},
     "output_type": "display_data"
    },
    {
     "data": {
      "application/vnd.jupyter.widget-view+json": {
       "model_id": "4a9b87e36cfa4f7591e65bfb4ee40c71",
       "version_major": 2,
       "version_minor": 0
      },
      "text/plain": [
       "Drawing 20 posterior samples:   0%|          | 0/20 [00:00<?, ?it/s]"
      ]
     },
     "metadata": {},
     "output_type": "display_data"
    },
    {
     "data": {
      "application/vnd.jupyter.widget-view+json": {
       "model_id": "a8cafc0e400442af86fe92f780585d53",
       "version_major": 2,
       "version_minor": 0
      },
      "text/plain": [
       "Drawing 20 posterior samples:   0%|          | 0/20 [00:00<?, ?it/s]"
      ]
     },
     "metadata": {},
     "output_type": "display_data"
    },
    {
     "data": {
      "application/vnd.jupyter.widget-view+json": {
       "model_id": "e057da059bea488fb56d4d4deb6dfd0d",
       "version_major": 2,
       "version_minor": 0
      },
      "text/plain": [
       "Drawing 20 posterior samples:   0%|          | 0/20 [00:00<?, ?it/s]"
      ]
     },
     "metadata": {},
     "output_type": "display_data"
    },
    {
     "data": {
      "application/vnd.jupyter.widget-view+json": {
       "model_id": "49494460f1384cf997742d3d6f2b8b09",
       "version_major": 2,
       "version_minor": 0
      },
      "text/plain": [
       "Drawing 20 posterior samples:   0%|          | 0/20 [00:00<?, ?it/s]"
      ]
     },
     "metadata": {},
     "output_type": "display_data"
    },
    {
     "data": {
      "application/vnd.jupyter.widget-view+json": {
       "model_id": "c9ba925061d4419192942f406810bf7f",
       "version_major": 2,
       "version_minor": 0
      },
      "text/plain": [
       "Drawing 20 posterior samples:   0%|          | 0/20 [00:00<?, ?it/s]"
      ]
     },
     "metadata": {},
     "output_type": "display_data"
    },
    {
     "data": {
      "application/vnd.jupyter.widget-view+json": {
       "model_id": "69e4f986d0914fd7ad3725fb33b9405d",
       "version_major": 2,
       "version_minor": 0
      },
      "text/plain": [
       "Drawing 20 posterior samples:   0%|          | 0/20 [00:00<?, ?it/s]"
      ]
     },
     "metadata": {},
     "output_type": "display_data"
    },
    {
     "data": {
      "application/vnd.jupyter.widget-view+json": {
       "model_id": "7a47c0be0002422bb3154d5cb35ec9a9",
       "version_major": 2,
       "version_minor": 0
      },
      "text/plain": [
       "Drawing 20 posterior samples:   0%|          | 0/20 [00:00<?, ?it/s]"
      ]
     },
     "metadata": {},
     "output_type": "display_data"
    },
    {
     "data": {
      "application/vnd.jupyter.widget-view+json": {
       "model_id": "e451acb9b03044de8aee20ab8a292a15",
       "version_major": 2,
       "version_minor": 0
      },
      "text/plain": [
       "Drawing 20 posterior samples:   0%|          | 0/20 [00:00<?, ?it/s]"
      ]
     },
     "metadata": {},
     "output_type": "display_data"
    },
    {
     "data": {
      "application/vnd.jupyter.widget-view+json": {
       "model_id": "2e917bca1d9b4faeb36d95e74714ae79",
       "version_major": 2,
       "version_minor": 0
      },
      "text/plain": [
       "Drawing 20 posterior samples:   0%|          | 0/20 [00:00<?, ?it/s]"
      ]
     },
     "metadata": {},
     "output_type": "display_data"
    },
    {
     "data": {
      "application/vnd.jupyter.widget-view+json": {
       "model_id": "08ea0ee28a004cf998605cba3c9b8ad0",
       "version_major": 2,
       "version_minor": 0
      },
      "text/plain": [
       "Drawing 20 posterior samples:   0%|          | 0/20 [00:00<?, ?it/s]"
      ]
     },
     "metadata": {},
     "output_type": "display_data"
    },
    {
     "data": {
      "application/vnd.jupyter.widget-view+json": {
       "model_id": "f60e525b68a3464e80686b9b8fabef54",
       "version_major": 2,
       "version_minor": 0
      },
      "text/plain": [
       "Drawing 20 posterior samples:   0%|          | 0/20 [00:00<?, ?it/s]"
      ]
     },
     "metadata": {},
     "output_type": "display_data"
    },
    {
     "data": {
      "application/vnd.jupyter.widget-view+json": {
       "model_id": "fe17669e9bb14449beae416c0b093656",
       "version_major": 2,
       "version_minor": 0
      },
      "text/plain": [
       "Drawing 20 posterior samples:   0%|          | 0/20 [00:00<?, ?it/s]"
      ]
     },
     "metadata": {},
     "output_type": "display_data"
    },
    {
     "data": {
      "application/vnd.jupyter.widget-view+json": {
       "model_id": "e76a5985a24f4a9aac8aee49d8d9dc1f",
       "version_major": 2,
       "version_minor": 0
      },
      "text/plain": [
       "Drawing 20 posterior samples:   0%|          | 0/20 [00:00<?, ?it/s]"
      ]
     },
     "metadata": {},
     "output_type": "display_data"
    },
    {
     "data": {
      "application/vnd.jupyter.widget-view+json": {
       "model_id": "59a44c3155b94dcc86c4ce41faf97ccf",
       "version_major": 2,
       "version_minor": 0
      },
      "text/plain": [
       "Drawing 20 posterior samples:   0%|          | 0/20 [00:00<?, ?it/s]"
      ]
     },
     "metadata": {},
     "output_type": "display_data"
    },
    {
     "data": {
      "application/vnd.jupyter.widget-view+json": {
       "model_id": "21c7416cbb1e4bdc873bd69ea9da9ff0",
       "version_major": 2,
       "version_minor": 0
      },
      "text/plain": [
       "Drawing 20 posterior samples:   0%|          | 0/20 [00:00<?, ?it/s]"
      ]
     },
     "metadata": {},
     "output_type": "display_data"
    },
    {
     "data": {
      "application/vnd.jupyter.widget-view+json": {
       "model_id": "c5df8dfd03b0464ba5cc040a20659b93",
       "version_major": 2,
       "version_minor": 0
      },
      "text/plain": [
       "Drawing 20 posterior samples:   0%|          | 0/20 [00:00<?, ?it/s]"
      ]
     },
     "metadata": {},
     "output_type": "display_data"
    },
    {
     "data": {
      "application/vnd.jupyter.widget-view+json": {
       "model_id": "a11a053f6a6d4f91ac78cb7ad3a6105b",
       "version_major": 2,
       "version_minor": 0
      },
      "text/plain": [
       "Drawing 20 posterior samples:   0%|          | 0/20 [00:00<?, ?it/s]"
      ]
     },
     "metadata": {},
     "output_type": "display_data"
    },
    {
     "data": {
      "application/vnd.jupyter.widget-view+json": {
       "model_id": "39df0a2159f24fb592a7df152e9909a8",
       "version_major": 2,
       "version_minor": 0
      },
      "text/plain": [
       "Drawing 20 posterior samples:   0%|          | 0/20 [00:00<?, ?it/s]"
      ]
     },
     "metadata": {},
     "output_type": "display_data"
    },
    {
     "data": {
      "application/vnd.jupyter.widget-view+json": {
       "model_id": "3570e0ef85e04f999dded2a3507a2aed",
       "version_major": 2,
       "version_minor": 0
      },
      "text/plain": [
       "Drawing 20 posterior samples:   0%|          | 0/20 [00:00<?, ?it/s]"
      ]
     },
     "metadata": {},
     "output_type": "display_data"
    },
    {
     "data": {
      "application/vnd.jupyter.widget-view+json": {
       "model_id": "f19a262b5d11444885c8cc3bd6757e62",
       "version_major": 2,
       "version_minor": 0
      },
      "text/plain": [
       "Drawing 20 posterior samples:   0%|          | 0/20 [00:00<?, ?it/s]"
      ]
     },
     "metadata": {},
     "output_type": "display_data"
    },
    {
     "data": {
      "application/vnd.jupyter.widget-view+json": {
       "model_id": "f2d864afacc746df9ff2841b760eb73e",
       "version_major": 2,
       "version_minor": 0
      },
      "text/plain": [
       "Drawing 20 posterior samples:   0%|          | 0/20 [00:00<?, ?it/s]"
      ]
     },
     "metadata": {},
     "output_type": "display_data"
    },
    {
     "data": {
      "application/vnd.jupyter.widget-view+json": {
       "model_id": "81e7c4755cb440e88d96375626680433",
       "version_major": 2,
       "version_minor": 0
      },
      "text/plain": [
       "Drawing 20 posterior samples:   0%|          | 0/20 [00:00<?, ?it/s]"
      ]
     },
     "metadata": {},
     "output_type": "display_data"
    },
    {
     "data": {
      "application/vnd.jupyter.widget-view+json": {
       "model_id": "0908c613eaf540af833b0851abe7b6c4",
       "version_major": 2,
       "version_minor": 0
      },
      "text/plain": [
       "Drawing 20 posterior samples:   0%|          | 0/20 [00:00<?, ?it/s]"
      ]
     },
     "metadata": {},
     "output_type": "display_data"
    },
    {
     "data": {
      "application/vnd.jupyter.widget-view+json": {
       "model_id": "f6f8ef649453453cb90b8a88c04582be",
       "version_major": 2,
       "version_minor": 0
      },
      "text/plain": [
       "Drawing 20 posterior samples:   0%|          | 0/20 [00:00<?, ?it/s]"
      ]
     },
     "metadata": {},
     "output_type": "display_data"
    },
    {
     "data": {
      "application/vnd.jupyter.widget-view+json": {
       "model_id": "d0a1953c3cac43e5ba4158b748f45f94",
       "version_major": 2,
       "version_minor": 0
      },
      "text/plain": [
       "Drawing 20 posterior samples:   0%|          | 0/20 [00:00<?, ?it/s]"
      ]
     },
     "metadata": {},
     "output_type": "display_data"
    },
    {
     "data": {
      "application/vnd.jupyter.widget-view+json": {
       "model_id": "a61656368ba94828a4224a4de77ca459",
       "version_major": 2,
       "version_minor": 0
      },
      "text/plain": [
       "Drawing 20 posterior samples:   0%|          | 0/20 [00:00<?, ?it/s]"
      ]
     },
     "metadata": {},
     "output_type": "display_data"
    },
    {
     "data": {
      "application/vnd.jupyter.widget-view+json": {
       "model_id": "9ffca76b60364a12a031dcae19f24ed3",
       "version_major": 2,
       "version_minor": 0
      },
      "text/plain": [
       "Drawing 20 posterior samples:   0%|          | 0/20 [00:00<?, ?it/s]"
      ]
     },
     "metadata": {},
     "output_type": "display_data"
    },
    {
     "data": {
      "application/vnd.jupyter.widget-view+json": {
       "model_id": "ac4588f36baf4b8396e1f165f92293ff",
       "version_major": 2,
       "version_minor": 0
      },
      "text/plain": [
       "Drawing 20 posterior samples:   0%|          | 0/20 [00:00<?, ?it/s]"
      ]
     },
     "metadata": {},
     "output_type": "display_data"
    },
    {
     "data": {
      "application/vnd.jupyter.widget-view+json": {
       "model_id": "68129f6b083641628ae712015e9234db",
       "version_major": 2,
       "version_minor": 0
      },
      "text/plain": [
       "Drawing 20 posterior samples:   0%|          | 0/20 [00:00<?, ?it/s]"
      ]
     },
     "metadata": {},
     "output_type": "display_data"
    },
    {
     "data": {
      "application/vnd.jupyter.widget-view+json": {
       "model_id": "0bb129a8adee4dd895ec27f261345f91",
       "version_major": 2,
       "version_minor": 0
      },
      "text/plain": [
       "Drawing 20 posterior samples:   0%|          | 0/20 [00:00<?, ?it/s]"
      ]
     },
     "metadata": {},
     "output_type": "display_data"
    },
    {
     "data": {
      "application/vnd.jupyter.widget-view+json": {
       "model_id": "930c9281d6dc41478f933e69396e4088",
       "version_major": 2,
       "version_minor": 0
      },
      "text/plain": [
       "Drawing 20 posterior samples:   0%|          | 0/20 [00:00<?, ?it/s]"
      ]
     },
     "metadata": {},
     "output_type": "display_data"
    },
    {
     "data": {
      "application/vnd.jupyter.widget-view+json": {
       "model_id": "72a67c5adfc544a3a60ec3b071fe8b81",
       "version_major": 2,
       "version_minor": 0
      },
      "text/plain": [
       "Drawing 20 posterior samples:   0%|          | 0/20 [00:00<?, ?it/s]"
      ]
     },
     "metadata": {},
     "output_type": "display_data"
    },
    {
     "data": {
      "application/vnd.jupyter.widget-view+json": {
       "model_id": "2060a1e901d64fd39cb7b178393d1ace",
       "version_major": 2,
       "version_minor": 0
      },
      "text/plain": [
       "Drawing 20 posterior samples:   0%|          | 0/20 [00:00<?, ?it/s]"
      ]
     },
     "metadata": {},
     "output_type": "display_data"
    },
    {
     "data": {
      "application/vnd.jupyter.widget-view+json": {
       "model_id": "58d1aefe52e046fba13e173dbb9f4ba8",
       "version_major": 2,
       "version_minor": 0
      },
      "text/plain": [
       "Drawing 20 posterior samples:   0%|          | 0/20 [00:00<?, ?it/s]"
      ]
     },
     "metadata": {},
     "output_type": "display_data"
    },
    {
     "data": {
      "application/vnd.jupyter.widget-view+json": {
       "model_id": "3f03ede54ea844fe829713c089c6ed2f",
       "version_major": 2,
       "version_minor": 0
      },
      "text/plain": [
       "Drawing 20 posterior samples:   0%|          | 0/20 [00:00<?, ?it/s]"
      ]
     },
     "metadata": {},
     "output_type": "display_data"
    },
    {
     "data": {
      "application/vnd.jupyter.widget-view+json": {
       "model_id": "910af85217ef4f85b439f4dfe9c9fa01",
       "version_major": 2,
       "version_minor": 0
      },
      "text/plain": [
       "Drawing 20 posterior samples:   0%|          | 0/20 [00:00<?, ?it/s]"
      ]
     },
     "metadata": {},
     "output_type": "display_data"
    },
    {
     "data": {
      "application/vnd.jupyter.widget-view+json": {
       "model_id": "87e91f7f8d274a7193469c4dc435076d",
       "version_major": 2,
       "version_minor": 0
      },
      "text/plain": [
       "Drawing 20 posterior samples:   0%|          | 0/20 [00:00<?, ?it/s]"
      ]
     },
     "metadata": {},
     "output_type": "display_data"
    },
    {
     "data": {
      "application/vnd.jupyter.widget-view+json": {
       "model_id": "017abf536279451698759f53ef13522c",
       "version_major": 2,
       "version_minor": 0
      },
      "text/plain": [
       "Drawing 20 posterior samples:   0%|          | 0/20 [00:00<?, ?it/s]"
      ]
     },
     "metadata": {},
     "output_type": "display_data"
    },
    {
     "data": {
      "application/vnd.jupyter.widget-view+json": {
       "model_id": "e482e24897f646dbb9c410bb5a2785f9",
       "version_major": 2,
       "version_minor": 0
      },
      "text/plain": [
       "Drawing 20 posterior samples:   0%|          | 0/20 [00:00<?, ?it/s]"
      ]
     },
     "metadata": {},
     "output_type": "display_data"
    },
    {
     "data": {
      "application/vnd.jupyter.widget-view+json": {
       "model_id": "3d6b4bd6c129447d9b79dd53f540dadb",
       "version_major": 2,
       "version_minor": 0
      },
      "text/plain": [
       "Drawing 20 posterior samples:   0%|          | 0/20 [00:00<?, ?it/s]"
      ]
     },
     "metadata": {},
     "output_type": "display_data"
    },
    {
     "data": {
      "application/vnd.jupyter.widget-view+json": {
       "model_id": "8e1302fff33e4c9387a3407e212009b1",
       "version_major": 2,
       "version_minor": 0
      },
      "text/plain": [
       "Drawing 20 posterior samples:   0%|          | 0/20 [00:00<?, ?it/s]"
      ]
     },
     "metadata": {},
     "output_type": "display_data"
    },
    {
     "data": {
      "application/vnd.jupyter.widget-view+json": {
       "model_id": "6d51ec15b1904d5a93b64ffee62774cf",
       "version_major": 2,
       "version_minor": 0
      },
      "text/plain": [
       "Drawing 20 posterior samples:   0%|          | 0/20 [00:00<?, ?it/s]"
      ]
     },
     "metadata": {},
     "output_type": "display_data"
    },
    {
     "data": {
      "application/vnd.jupyter.widget-view+json": {
       "model_id": "5b8424d14ae84eaeb55e374ba467d119",
       "version_major": 2,
       "version_minor": 0
      },
      "text/plain": [
       "Drawing 20 posterior samples:   0%|          | 0/20 [00:00<?, ?it/s]"
      ]
     },
     "metadata": {},
     "output_type": "display_data"
    },
    {
     "data": {
      "application/vnd.jupyter.widget-view+json": {
       "model_id": "ffe8f3d0257d41588f1081dcac58c1ca",
       "version_major": 2,
       "version_minor": 0
      },
      "text/plain": [
       "Drawing 20 posterior samples:   0%|          | 0/20 [00:00<?, ?it/s]"
      ]
     },
     "metadata": {},
     "output_type": "display_data"
    },
    {
     "data": {
      "application/vnd.jupyter.widget-view+json": {
       "model_id": "6df012421c044ed9b626a9209d03943f",
       "version_major": 2,
       "version_minor": 0
      },
      "text/plain": [
       "Drawing 20 posterior samples:   0%|          | 0/20 [00:00<?, ?it/s]"
      ]
     },
     "metadata": {},
     "output_type": "display_data"
    },
    {
     "data": {
      "application/vnd.jupyter.widget-view+json": {
       "model_id": "7b6fe63ac05e4a1f8681fa174b1b9022",
       "version_major": 2,
       "version_minor": 0
      },
      "text/plain": [
       "Drawing 20 posterior samples:   0%|          | 0/20 [00:00<?, ?it/s]"
      ]
     },
     "metadata": {},
     "output_type": "display_data"
    },
    {
     "data": {
      "application/vnd.jupyter.widget-view+json": {
       "model_id": "f50155511a8443c7a73e23ba9cdcd366",
       "version_major": 2,
       "version_minor": 0
      },
      "text/plain": [
       "Drawing 20 posterior samples:   0%|          | 0/20 [00:00<?, ?it/s]"
      ]
     },
     "metadata": {},
     "output_type": "display_data"
    },
    {
     "data": {
      "application/vnd.jupyter.widget-view+json": {
       "model_id": "5fd50252b94b46dfa1ebd654ca7b8a63",
       "version_major": 2,
       "version_minor": 0
      },
      "text/plain": [
       "Drawing 20 posterior samples:   0%|          | 0/20 [00:00<?, ?it/s]"
      ]
     },
     "metadata": {},
     "output_type": "display_data"
    },
    {
     "data": {
      "application/vnd.jupyter.widget-view+json": {
       "model_id": "fdc47388ffc749419649570373413fa1",
       "version_major": 2,
       "version_minor": 0
      },
      "text/plain": [
       "Drawing 20 posterior samples:   0%|          | 0/20 [00:00<?, ?it/s]"
      ]
     },
     "metadata": {},
     "output_type": "display_data"
    },
    {
     "data": {
      "application/vnd.jupyter.widget-view+json": {
       "model_id": "be53c8c1fe5249b6a5c53d4d607c4f40",
       "version_major": 2,
       "version_minor": 0
      },
      "text/plain": [
       "Drawing 20 posterior samples:   0%|          | 0/20 [00:00<?, ?it/s]"
      ]
     },
     "metadata": {},
     "output_type": "display_data"
    },
    {
     "data": {
      "application/vnd.jupyter.widget-view+json": {
       "model_id": "3ce1248cdeb2434ca13d3536ab2a0caf",
       "version_major": 2,
       "version_minor": 0
      },
      "text/plain": [
       "Drawing 20 posterior samples:   0%|          | 0/20 [00:00<?, ?it/s]"
      ]
     },
     "metadata": {},
     "output_type": "display_data"
    },
    {
     "data": {
      "application/vnd.jupyter.widget-view+json": {
       "model_id": "d2a29c0005bf4eefbd366ff1f3be98e0",
       "version_major": 2,
       "version_minor": 0
      },
      "text/plain": [
       "Drawing 20 posterior samples:   0%|          | 0/20 [00:00<?, ?it/s]"
      ]
     },
     "metadata": {},
     "output_type": "display_data"
    },
    {
     "data": {
      "application/vnd.jupyter.widget-view+json": {
       "model_id": "17b9c9547c8246edb0b0621449f589ba",
       "version_major": 2,
       "version_minor": 0
      },
      "text/plain": [
       "Drawing 20 posterior samples:   0%|          | 0/20 [00:00<?, ?it/s]"
      ]
     },
     "metadata": {},
     "output_type": "display_data"
    },
    {
     "data": {
      "application/vnd.jupyter.widget-view+json": {
       "model_id": "f2e5a7e4810d4a5b8438ce45b02b3e2b",
       "version_major": 2,
       "version_minor": 0
      },
      "text/plain": [
       "Drawing 20 posterior samples:   0%|          | 0/20 [00:00<?, ?it/s]"
      ]
     },
     "metadata": {},
     "output_type": "display_data"
    },
    {
     "data": {
      "application/vnd.jupyter.widget-view+json": {
       "model_id": "d7cd184062ca48ffa6c77c4c698fc970",
       "version_major": 2,
       "version_minor": 0
      },
      "text/plain": [
       "Drawing 20 posterior samples:   0%|          | 0/20 [00:00<?, ?it/s]"
      ]
     },
     "metadata": {},
     "output_type": "display_data"
    },
    {
     "data": {
      "application/vnd.jupyter.widget-view+json": {
       "model_id": "4a175c2a9b55432d8aecb65c6fecfe84",
       "version_major": 2,
       "version_minor": 0
      },
      "text/plain": [
       "Drawing 20 posterior samples:   0%|          | 0/20 [00:00<?, ?it/s]"
      ]
     },
     "metadata": {},
     "output_type": "display_data"
    },
    {
     "data": {
      "application/vnd.jupyter.widget-view+json": {
       "model_id": "ee9b80f375d24a3498455c65b5f0fa32",
       "version_major": 2,
       "version_minor": 0
      },
      "text/plain": [
       "Drawing 20 posterior samples:   0%|          | 0/20 [00:00<?, ?it/s]"
      ]
     },
     "metadata": {},
     "output_type": "display_data"
    },
    {
     "data": {
      "application/vnd.jupyter.widget-view+json": {
       "model_id": "966a1eed77b34544a9770c968e91406e",
       "version_major": 2,
       "version_minor": 0
      },
      "text/plain": [
       "Drawing 20 posterior samples:   0%|          | 0/20 [00:00<?, ?it/s]"
      ]
     },
     "metadata": {},
     "output_type": "display_data"
    },
    {
     "data": {
      "application/vnd.jupyter.widget-view+json": {
       "model_id": "4a6e8eb643614540b6d2853f57bcc09f",
       "version_major": 2,
       "version_minor": 0
      },
      "text/plain": [
       "Drawing 20 posterior samples:   0%|          | 0/20 [00:00<?, ?it/s]"
      ]
     },
     "metadata": {},
     "output_type": "display_data"
    },
    {
     "data": {
      "application/vnd.jupyter.widget-view+json": {
       "model_id": "b3dc2412fd984b1eb1dc219d86b25437",
       "version_major": 2,
       "version_minor": 0
      },
      "text/plain": [
       "Drawing 20 posterior samples:   0%|          | 0/20 [00:00<?, ?it/s]"
      ]
     },
     "metadata": {},
     "output_type": "display_data"
    },
    {
     "data": {
      "application/vnd.jupyter.widget-view+json": {
       "model_id": "7a20539e77e0407ea150d7044c4aeedb",
       "version_major": 2,
       "version_minor": 0
      },
      "text/plain": [
       "Drawing 20 posterior samples:   0%|          | 0/20 [00:00<?, ?it/s]"
      ]
     },
     "metadata": {},
     "output_type": "display_data"
    },
    {
     "data": {
      "application/vnd.jupyter.widget-view+json": {
       "model_id": "ecaf9318e2454f149046a4830ffafb7a",
       "version_major": 2,
       "version_minor": 0
      },
      "text/plain": [
       "Drawing 20 posterior samples:   0%|          | 0/20 [00:00<?, ?it/s]"
      ]
     },
     "metadata": {},
     "output_type": "display_data"
    },
    {
     "data": {
      "application/vnd.jupyter.widget-view+json": {
       "model_id": "e01dc0c9ab82489d9c03c0bc544d1531",
       "version_major": 2,
       "version_minor": 0
      },
      "text/plain": [
       "Drawing 20 posterior samples:   0%|          | 0/20 [00:00<?, ?it/s]"
      ]
     },
     "metadata": {},
     "output_type": "display_data"
    },
    {
     "data": {
      "application/vnd.jupyter.widget-view+json": {
       "model_id": "5e8285646b164f81b48bceeaca5ae9ed",
       "version_major": 2,
       "version_minor": 0
      },
      "text/plain": [
       "Drawing 20 posterior samples:   0%|          | 0/20 [00:00<?, ?it/s]"
      ]
     },
     "metadata": {},
     "output_type": "display_data"
    },
    {
     "data": {
      "application/vnd.jupyter.widget-view+json": {
       "model_id": "59bc03ff7814419887b5313b7eef405a",
       "version_major": 2,
       "version_minor": 0
      },
      "text/plain": [
       "Drawing 20 posterior samples:   0%|          | 0/20 [00:00<?, ?it/s]"
      ]
     },
     "metadata": {},
     "output_type": "display_data"
    },
    {
     "data": {
      "application/vnd.jupyter.widget-view+json": {
       "model_id": "a8bfe5690bb144379f9c1aad43d64893",
       "version_major": 2,
       "version_minor": 0
      },
      "text/plain": [
       "Drawing 20 posterior samples:   0%|          | 0/20 [00:00<?, ?it/s]"
      ]
     },
     "metadata": {},
     "output_type": "display_data"
    },
    {
     "data": {
      "application/vnd.jupyter.widget-view+json": {
       "model_id": "7edbf30db77b429592130686913a4b97",
       "version_major": 2,
       "version_minor": 0
      },
      "text/plain": [
       "Drawing 20 posterior samples:   0%|          | 0/20 [00:00<?, ?it/s]"
      ]
     },
     "metadata": {},
     "output_type": "display_data"
    },
    {
     "data": {
      "application/vnd.jupyter.widget-view+json": {
       "model_id": "efa33480f4d84334bee3ca5ab1e6f3c1",
       "version_major": 2,
       "version_minor": 0
      },
      "text/plain": [
       "Drawing 20 posterior samples:   0%|          | 0/20 [00:00<?, ?it/s]"
      ]
     },
     "metadata": {},
     "output_type": "display_data"
    },
    {
     "data": {
      "application/vnd.jupyter.widget-view+json": {
       "model_id": "1c22be8acbe3454386f89a937bff4df6",
       "version_major": 2,
       "version_minor": 0
      },
      "text/plain": [
       "Drawing 20 posterior samples:   0%|          | 0/20 [00:00<?, ?it/s]"
      ]
     },
     "metadata": {},
     "output_type": "display_data"
    },
    {
     "data": {
      "application/vnd.jupyter.widget-view+json": {
       "model_id": "d77ed0b0f4b24f898db7cc05a2398ec1",
       "version_major": 2,
       "version_minor": 0
      },
      "text/plain": [
       "Drawing 20 posterior samples:   0%|          | 0/20 [00:00<?, ?it/s]"
      ]
     },
     "metadata": {},
     "output_type": "display_data"
    },
    {
     "data": {
      "application/vnd.jupyter.widget-view+json": {
       "model_id": "b2042156a3514eafbe525ea087bad47c",
       "version_major": 2,
       "version_minor": 0
      },
      "text/plain": [
       "Drawing 20 posterior samples:   0%|          | 0/20 [00:00<?, ?it/s]"
      ]
     },
     "metadata": {},
     "output_type": "display_data"
    },
    {
     "data": {
      "application/vnd.jupyter.widget-view+json": {
       "model_id": "b611ffa1388c4326b107b03a4b2e035a",
       "version_major": 2,
       "version_minor": 0
      },
      "text/plain": [
       "Drawing 20 posterior samples:   0%|          | 0/20 [00:00<?, ?it/s]"
      ]
     },
     "metadata": {},
     "output_type": "display_data"
    },
    {
     "data": {
      "application/vnd.jupyter.widget-view+json": {
       "model_id": "23a129848de14601ac5e43f1d4afd9b6",
       "version_major": 2,
       "version_minor": 0
      },
      "text/plain": [
       "Drawing 20 posterior samples:   0%|          | 0/20 [00:00<?, ?it/s]"
      ]
     },
     "metadata": {},
     "output_type": "display_data"
    },
    {
     "data": {
      "application/vnd.jupyter.widget-view+json": {
       "model_id": "167935e521254795806c520d15dbca60",
       "version_major": 2,
       "version_minor": 0
      },
      "text/plain": [
       "Drawing 20 posterior samples:   0%|          | 0/20 [00:00<?, ?it/s]"
      ]
     },
     "metadata": {},
     "output_type": "display_data"
    },
    {
     "data": {
      "application/vnd.jupyter.widget-view+json": {
       "model_id": "e534bc61a04744d6ac4dcaad90969552",
       "version_major": 2,
       "version_minor": 0
      },
      "text/plain": [
       "Drawing 20 posterior samples:   0%|          | 0/20 [00:00<?, ?it/s]"
      ]
     },
     "metadata": {},
     "output_type": "display_data"
    },
    {
     "data": {
      "application/vnd.jupyter.widget-view+json": {
       "model_id": "cef7b6cd3ec1426eafce12787004ec93",
       "version_major": 2,
       "version_minor": 0
      },
      "text/plain": [
       "Drawing 20 posterior samples:   0%|          | 0/20 [00:00<?, ?it/s]"
      ]
     },
     "metadata": {},
     "output_type": "display_data"
    },
    {
     "data": {
      "application/vnd.jupyter.widget-view+json": {
       "model_id": "f2670ef7d2754981a10b1e1dec321e55",
       "version_major": 2,
       "version_minor": 0
      },
      "text/plain": [
       "Drawing 20 posterior samples:   0%|          | 0/20 [00:00<?, ?it/s]"
      ]
     },
     "metadata": {},
     "output_type": "display_data"
    },
    {
     "data": {
      "application/vnd.jupyter.widget-view+json": {
       "model_id": "b6edf5f66f904e8ead06ee4a70ccd9ff",
       "version_major": 2,
       "version_minor": 0
      },
      "text/plain": [
       "Drawing 20 posterior samples:   0%|          | 0/20 [00:00<?, ?it/s]"
      ]
     },
     "metadata": {},
     "output_type": "display_data"
    },
    {
     "data": {
      "application/vnd.jupyter.widget-view+json": {
       "model_id": "59b0402648444b6a9a95433d2e4891b7",
       "version_major": 2,
       "version_minor": 0
      },
      "text/plain": [
       "Drawing 20 posterior samples:   0%|          | 0/20 [00:00<?, ?it/s]"
      ]
     },
     "metadata": {},
     "output_type": "display_data"
    },
    {
     "data": {
      "application/vnd.jupyter.widget-view+json": {
       "model_id": "9ea31b7ea9ed4c91b873f2fd7c2005fd",
       "version_major": 2,
       "version_minor": 0
      },
      "text/plain": [
       "Drawing 20 posterior samples:   0%|          | 0/20 [00:00<?, ?it/s]"
      ]
     },
     "metadata": {},
     "output_type": "display_data"
    },
    {
     "data": {
      "application/vnd.jupyter.widget-view+json": {
       "model_id": "826dfc25ae454ca382ee543965172450",
       "version_major": 2,
       "version_minor": 0
      },
      "text/plain": [
       "Drawing 20 posterior samples:   0%|          | 0/20 [00:00<?, ?it/s]"
      ]
     },
     "metadata": {},
     "output_type": "display_data"
    },
    {
     "data": {
      "application/vnd.jupyter.widget-view+json": {
       "model_id": "8c21a75bca0a4cc5a69d2df67eace711",
       "version_major": 2,
       "version_minor": 0
      },
      "text/plain": [
       "Drawing 20 posterior samples:   0%|          | 0/20 [00:00<?, ?it/s]"
      ]
     },
     "metadata": {},
     "output_type": "display_data"
    },
    {
     "data": {
      "application/vnd.jupyter.widget-view+json": {
       "model_id": "d9952bbebe7c41cda933c47d311d4e4d",
       "version_major": 2,
       "version_minor": 0
      },
      "text/plain": [
       "Drawing 20 posterior samples:   0%|          | 0/20 [00:00<?, ?it/s]"
      ]
     },
     "metadata": {},
     "output_type": "display_data"
    },
    {
     "data": {
      "application/vnd.jupyter.widget-view+json": {
       "model_id": "14d719a422e846ef815a7d906110f37b",
       "version_major": 2,
       "version_minor": 0
      },
      "text/plain": [
       "Drawing 20 posterior samples:   0%|          | 0/20 [00:00<?, ?it/s]"
      ]
     },
     "metadata": {},
     "output_type": "display_data"
    },
    {
     "data": {
      "application/vnd.jupyter.widget-view+json": {
       "model_id": "04742dda1a974cc78a74032258deb1ff",
       "version_major": 2,
       "version_minor": 0
      },
      "text/plain": [
       "Drawing 20 posterior samples:   0%|          | 0/20 [00:00<?, ?it/s]"
      ]
     },
     "metadata": {},
     "output_type": "display_data"
    },
    {
     "data": {
      "application/vnd.jupyter.widget-view+json": {
       "model_id": "0562515ffcad4eb39049372d967ef3c4",
       "version_major": 2,
       "version_minor": 0
      },
      "text/plain": [
       "Drawing 20 posterior samples:   0%|          | 0/20 [00:00<?, ?it/s]"
      ]
     },
     "metadata": {},
     "output_type": "display_data"
    },
    {
     "data": {
      "application/vnd.jupyter.widget-view+json": {
       "model_id": "2e82b2f01f0b40be938e6e0dfaf2fae5",
       "version_major": 2,
       "version_minor": 0
      },
      "text/plain": [
       "Drawing 20 posterior samples:   0%|          | 0/20 [00:00<?, ?it/s]"
      ]
     },
     "metadata": {},
     "output_type": "display_data"
    },
    {
     "data": {
      "application/vnd.jupyter.widget-view+json": {
       "model_id": "38843a1b6fef4108920344f5d7073f03",
       "version_major": 2,
       "version_minor": 0
      },
      "text/plain": [
       "Drawing 20 posterior samples:   0%|          | 0/20 [00:00<?, ?it/s]"
      ]
     },
     "metadata": {},
     "output_type": "display_data"
    },
    {
     "data": {
      "application/vnd.jupyter.widget-view+json": {
       "model_id": "d23ac7d5431c481aa3e749c40131796d",
       "version_major": 2,
       "version_minor": 0
      },
      "text/plain": [
       "Drawing 20 posterior samples:   0%|          | 0/20 [00:00<?, ?it/s]"
      ]
     },
     "metadata": {},
     "output_type": "display_data"
    },
    {
     "data": {
      "application/vnd.jupyter.widget-view+json": {
       "model_id": "6b0615bdfe57407da936ce0ffb3c71f2",
       "version_major": 2,
       "version_minor": 0
      },
      "text/plain": [
       "Drawing 20 posterior samples:   0%|          | 0/20 [00:00<?, ?it/s]"
      ]
     },
     "metadata": {},
     "output_type": "display_data"
    },
    {
     "data": {
      "application/vnd.jupyter.widget-view+json": {
       "model_id": "de12399696cf4fadb4a8eb67564d357c",
       "version_major": 2,
       "version_minor": 0
      },
      "text/plain": [
       "Drawing 20 posterior samples:   0%|          | 0/20 [00:00<?, ?it/s]"
      ]
     },
     "metadata": {},
     "output_type": "display_data"
    },
    {
     "data": {
      "application/vnd.jupyter.widget-view+json": {
       "model_id": "254babfebf8b4cd3a1c40f438ff94608",
       "version_major": 2,
       "version_minor": 0
      },
      "text/plain": [
       "Drawing 20 posterior samples:   0%|          | 0/20 [00:00<?, ?it/s]"
      ]
     },
     "metadata": {},
     "output_type": "display_data"
    },
    {
     "data": {
      "application/vnd.jupyter.widget-view+json": {
       "model_id": "7eebdef5e49443fda6892ee81adc1f66",
       "version_major": 2,
       "version_minor": 0
      },
      "text/plain": [
       "Drawing 20 posterior samples:   0%|          | 0/20 [00:00<?, ?it/s]"
      ]
     },
     "metadata": {},
     "output_type": "display_data"
    },
    {
     "data": {
      "application/vnd.jupyter.widget-view+json": {
       "model_id": "56569563652b4291ae9d5b9e366878e5",
       "version_major": 2,
       "version_minor": 0
      },
      "text/plain": [
       "Drawing 20 posterior samples:   0%|          | 0/20 [00:00<?, ?it/s]"
      ]
     },
     "metadata": {},
     "output_type": "display_data"
    },
    {
     "data": {
      "application/vnd.jupyter.widget-view+json": {
       "model_id": "14218808c2124e98b8de87d3757b7823",
       "version_major": 2,
       "version_minor": 0
      },
      "text/plain": [
       "Drawing 20 posterior samples:   0%|          | 0/20 [00:00<?, ?it/s]"
      ]
     },
     "metadata": {},
     "output_type": "display_data"
    },
    {
     "data": {
      "application/vnd.jupyter.widget-view+json": {
       "model_id": "27da24960ab544759a027ef8c7202089",
       "version_major": 2,
       "version_minor": 0
      },
      "text/plain": [
       "Drawing 20 posterior samples:   0%|          | 0/20 [00:00<?, ?it/s]"
      ]
     },
     "metadata": {},
     "output_type": "display_data"
    },
    {
     "data": {
      "application/vnd.jupyter.widget-view+json": {
       "model_id": "b3c0372477a14bc78bb315589a024c43",
       "version_major": 2,
       "version_minor": 0
      },
      "text/plain": [
       "Drawing 20 posterior samples:   0%|          | 0/20 [00:00<?, ?it/s]"
      ]
     },
     "metadata": {},
     "output_type": "display_data"
    },
    {
     "data": {
      "application/vnd.jupyter.widget-view+json": {
       "model_id": "84b2f626d4a543e59ab933f669644ebe",
       "version_major": 2,
       "version_minor": 0
      },
      "text/plain": [
       "Drawing 20 posterior samples:   0%|          | 0/20 [00:00<?, ?it/s]"
      ]
     },
     "metadata": {},
     "output_type": "display_data"
    },
    {
     "data": {
      "application/vnd.jupyter.widget-view+json": {
       "model_id": "c5ed78943898488589f9d437b02e31de",
       "version_major": 2,
       "version_minor": 0
      },
      "text/plain": [
       "Drawing 20 posterior samples:   0%|          | 0/20 [00:00<?, ?it/s]"
      ]
     },
     "metadata": {},
     "output_type": "display_data"
    },
    {
     "data": {
      "application/vnd.jupyter.widget-view+json": {
       "model_id": "b7538a03d911439ea42f5d930aa40e64",
       "version_major": 2,
       "version_minor": 0
      },
      "text/plain": [
       "Drawing 20 posterior samples:   0%|          | 0/20 [00:00<?, ?it/s]"
      ]
     },
     "metadata": {},
     "output_type": "display_data"
    },
    {
     "data": {
      "application/vnd.jupyter.widget-view+json": {
       "model_id": "a1146e7eeeea4eb799d1a0624b173f3f",
       "version_major": 2,
       "version_minor": 0
      },
      "text/plain": [
       "Drawing 20 posterior samples:   0%|          | 0/20 [00:00<?, ?it/s]"
      ]
     },
     "metadata": {},
     "output_type": "display_data"
    },
    {
     "data": {
      "application/vnd.jupyter.widget-view+json": {
       "model_id": "b0dd24f1b96a40d995661e9baf8b752c",
       "version_major": 2,
       "version_minor": 0
      },
      "text/plain": [
       "Drawing 20 posterior samples:   0%|          | 0/20 [00:00<?, ?it/s]"
      ]
     },
     "metadata": {},
     "output_type": "display_data"
    },
    {
     "data": {
      "application/vnd.jupyter.widget-view+json": {
       "model_id": "84b89cc1f0624ae7b0d78dfdf6b9b73c",
       "version_major": 2,
       "version_minor": 0
      },
      "text/plain": [
       "Drawing 20 posterior samples:   0%|          | 0/20 [00:00<?, ?it/s]"
      ]
     },
     "metadata": {},
     "output_type": "display_data"
    },
    {
     "data": {
      "application/vnd.jupyter.widget-view+json": {
       "model_id": "619cd5f81d5f420c861c58b13e3af619",
       "version_major": 2,
       "version_minor": 0
      },
      "text/plain": [
       "Drawing 20 posterior samples:   0%|          | 0/20 [00:00<?, ?it/s]"
      ]
     },
     "metadata": {},
     "output_type": "display_data"
    },
    {
     "data": {
      "application/vnd.jupyter.widget-view+json": {
       "model_id": "983e7631eea149ab8eab4306e1eadf51",
       "version_major": 2,
       "version_minor": 0
      },
      "text/plain": [
       "Drawing 20 posterior samples:   0%|          | 0/20 [00:00<?, ?it/s]"
      ]
     },
     "metadata": {},
     "output_type": "display_data"
    },
    {
     "data": {
      "application/vnd.jupyter.widget-view+json": {
       "model_id": "7097798f6fac4868b6c9a6693a60e101",
       "version_major": 2,
       "version_minor": 0
      },
      "text/plain": [
       "Drawing 20 posterior samples:   0%|          | 0/20 [00:00<?, ?it/s]"
      ]
     },
     "metadata": {},
     "output_type": "display_data"
    },
    {
     "data": {
      "application/vnd.jupyter.widget-view+json": {
       "model_id": "f057b6f96b9b4b60b653f2641c424141",
       "version_major": 2,
       "version_minor": 0
      },
      "text/plain": [
       "Drawing 20 posterior samples:   0%|          | 0/20 [00:00<?, ?it/s]"
      ]
     },
     "metadata": {},
     "output_type": "display_data"
    },
    {
     "data": {
      "application/vnd.jupyter.widget-view+json": {
       "model_id": "a49306c4fd9d44a4920a4dc23ac1dcae",
       "version_major": 2,
       "version_minor": 0
      },
      "text/plain": [
       "Drawing 20 posterior samples:   0%|          | 0/20 [00:00<?, ?it/s]"
      ]
     },
     "metadata": {},
     "output_type": "display_data"
    },
    {
     "data": {
      "application/vnd.jupyter.widget-view+json": {
       "model_id": "36f8be6f4f784ef4b9a16f5a2601da47",
       "version_major": 2,
       "version_minor": 0
      },
      "text/plain": [
       "Drawing 20 posterior samples:   0%|          | 0/20 [00:00<?, ?it/s]"
      ]
     },
     "metadata": {},
     "output_type": "display_data"
    },
    {
     "data": {
      "application/vnd.jupyter.widget-view+json": {
       "model_id": "de7bea5ee86d4c12a9762797ef31526e",
       "version_major": 2,
       "version_minor": 0
      },
      "text/plain": [
       "Drawing 20 posterior samples:   0%|          | 0/20 [00:00<?, ?it/s]"
      ]
     },
     "metadata": {},
     "output_type": "display_data"
    },
    {
     "data": {
      "application/vnd.jupyter.widget-view+json": {
       "model_id": "5c6089d7545342d7b41bd9b337775a59",
       "version_major": 2,
       "version_minor": 0
      },
      "text/plain": [
       "Drawing 20 posterior samples:   0%|          | 0/20 [00:00<?, ?it/s]"
      ]
     },
     "metadata": {},
     "output_type": "display_data"
    },
    {
     "data": {
      "application/vnd.jupyter.widget-view+json": {
       "model_id": "fb43eb689ba246f2b87c23e00b11221a",
       "version_major": 2,
       "version_minor": 0
      },
      "text/plain": [
       "Drawing 20 posterior samples:   0%|          | 0/20 [00:00<?, ?it/s]"
      ]
     },
     "metadata": {},
     "output_type": "display_data"
    },
    {
     "data": {
      "application/vnd.jupyter.widget-view+json": {
       "model_id": "25749899e4b44842b901c19fce55d457",
       "version_major": 2,
       "version_minor": 0
      },
      "text/plain": [
       "Drawing 20 posterior samples:   0%|          | 0/20 [00:00<?, ?it/s]"
      ]
     },
     "metadata": {},
     "output_type": "display_data"
    },
    {
     "data": {
      "application/vnd.jupyter.widget-view+json": {
       "model_id": "ee4f87df996d496fad2932f3857c1d25",
       "version_major": 2,
       "version_minor": 0
      },
      "text/plain": [
       "Drawing 20 posterior samples:   0%|          | 0/20 [00:00<?, ?it/s]"
      ]
     },
     "metadata": {},
     "output_type": "display_data"
    },
    {
     "data": {
      "application/vnd.jupyter.widget-view+json": {
       "model_id": "21e573ef2d914c20a58145b5a78832c8",
       "version_major": 2,
       "version_minor": 0
      },
      "text/plain": [
       "Drawing 20 posterior samples:   0%|          | 0/20 [00:00<?, ?it/s]"
      ]
     },
     "metadata": {},
     "output_type": "display_data"
    },
    {
     "data": {
      "application/vnd.jupyter.widget-view+json": {
       "model_id": "243d3242fc5a45199ec8c5a0af38951e",
       "version_major": 2,
       "version_minor": 0
      },
      "text/plain": [
       "Drawing 20 posterior samples:   0%|          | 0/20 [00:00<?, ?it/s]"
      ]
     },
     "metadata": {},
     "output_type": "display_data"
    },
    {
     "data": {
      "application/vnd.jupyter.widget-view+json": {
       "model_id": "acf26a9fd7744dc18e28fb7d052fc9ad",
       "version_major": 2,
       "version_minor": 0
      },
      "text/plain": [
       "Drawing 20 posterior samples:   0%|          | 0/20 [00:00<?, ?it/s]"
      ]
     },
     "metadata": {},
     "output_type": "display_data"
    },
    {
     "data": {
      "application/vnd.jupyter.widget-view+json": {
       "model_id": "44ae33a0a2df43a191de5faa33323c89",
       "version_major": 2,
       "version_minor": 0
      },
      "text/plain": [
       "Drawing 20 posterior samples:   0%|          | 0/20 [00:00<?, ?it/s]"
      ]
     },
     "metadata": {},
     "output_type": "display_data"
    },
    {
     "data": {
      "application/vnd.jupyter.widget-view+json": {
       "model_id": "a16b566da16649fc83ccf5d17e29a149",
       "version_major": 2,
       "version_minor": 0
      },
      "text/plain": [
       "Drawing 20 posterior samples:   0%|          | 0/20 [00:00<?, ?it/s]"
      ]
     },
     "metadata": {},
     "output_type": "display_data"
    },
    {
     "data": {
      "application/vnd.jupyter.widget-view+json": {
       "model_id": "dd6c9c76790d4693bd672bd8e4dcd2be",
       "version_major": 2,
       "version_minor": 0
      },
      "text/plain": [
       "Drawing 20 posterior samples:   0%|          | 0/20 [00:00<?, ?it/s]"
      ]
     },
     "metadata": {},
     "output_type": "display_data"
    },
    {
     "data": {
      "application/vnd.jupyter.widget-view+json": {
       "model_id": "29545877dad74fe1ae1d3860eed18742",
       "version_major": 2,
       "version_minor": 0
      },
      "text/plain": [
       "Drawing 20 posterior samples:   0%|          | 0/20 [00:00<?, ?it/s]"
      ]
     },
     "metadata": {},
     "output_type": "display_data"
    },
    {
     "data": {
      "application/vnd.jupyter.widget-view+json": {
       "model_id": "be77c0fdfc454cfaaf45c0c2eebd0d1b",
       "version_major": 2,
       "version_minor": 0
      },
      "text/plain": [
       "Drawing 20 posterior samples:   0%|          | 0/20 [00:00<?, ?it/s]"
      ]
     },
     "metadata": {},
     "output_type": "display_data"
    },
    {
     "data": {
      "application/vnd.jupyter.widget-view+json": {
       "model_id": "c1c1956386204954966d03c41dde95b1",
       "version_major": 2,
       "version_minor": 0
      },
      "text/plain": [
       "Drawing 20 posterior samples:   0%|          | 0/20 [00:00<?, ?it/s]"
      ]
     },
     "metadata": {},
     "output_type": "display_data"
    },
    {
     "data": {
      "application/vnd.jupyter.widget-view+json": {
       "model_id": "595121ce023c43a2bac080895a9ad4f8",
       "version_major": 2,
       "version_minor": 0
      },
      "text/plain": [
       "Drawing 20 posterior samples:   0%|          | 0/20 [00:00<?, ?it/s]"
      ]
     },
     "metadata": {},
     "output_type": "display_data"
    },
    {
     "data": {
      "application/vnd.jupyter.widget-view+json": {
       "model_id": "5b7bf39bc69e4baabf8e211b7466e569",
       "version_major": 2,
       "version_minor": 0
      },
      "text/plain": [
       "Drawing 20 posterior samples:   0%|          | 0/20 [00:00<?, ?it/s]"
      ]
     },
     "metadata": {},
     "output_type": "display_data"
    },
    {
     "data": {
      "application/vnd.jupyter.widget-view+json": {
       "model_id": "e02ce32395c9433bb6150e3e1714081a",
       "version_major": 2,
       "version_minor": 0
      },
      "text/plain": [
       "Drawing 20 posterior samples:   0%|          | 0/20 [00:00<?, ?it/s]"
      ]
     },
     "metadata": {},
     "output_type": "display_data"
    },
    {
     "data": {
      "application/vnd.jupyter.widget-view+json": {
       "model_id": "92a56cb74c354d5a8d0b4cf60949dc0b",
       "version_major": 2,
       "version_minor": 0
      },
      "text/plain": [
       "Drawing 20 posterior samples:   0%|          | 0/20 [00:00<?, ?it/s]"
      ]
     },
     "metadata": {},
     "output_type": "display_data"
    },
    {
     "data": {
      "application/vnd.jupyter.widget-view+json": {
       "model_id": "82d1d9ec3ca047adadd8777a1664c927",
       "version_major": 2,
       "version_minor": 0
      },
      "text/plain": [
       "Drawing 20 posterior samples:   0%|          | 0/20 [00:00<?, ?it/s]"
      ]
     },
     "metadata": {},
     "output_type": "display_data"
    },
    {
     "data": {
      "application/vnd.jupyter.widget-view+json": {
       "model_id": "bd49f8eed3294e88b2d3fac2026c0ea9",
       "version_major": 2,
       "version_minor": 0
      },
      "text/plain": [
       "Drawing 20 posterior samples:   0%|          | 0/20 [00:00<?, ?it/s]"
      ]
     },
     "metadata": {},
     "output_type": "display_data"
    },
    {
     "data": {
      "application/vnd.jupyter.widget-view+json": {
       "model_id": "71296f95983341919540474cfa48e002",
       "version_major": 2,
       "version_minor": 0
      },
      "text/plain": [
       "Drawing 20 posterior samples:   0%|          | 0/20 [00:00<?, ?it/s]"
      ]
     },
     "metadata": {},
     "output_type": "display_data"
    },
    {
     "data": {
      "application/vnd.jupyter.widget-view+json": {
       "model_id": "31f82a4291a14c5d85cb14b19e63ca9a",
       "version_major": 2,
       "version_minor": 0
      },
      "text/plain": [
       "Drawing 20 posterior samples:   0%|          | 0/20 [00:00<?, ?it/s]"
      ]
     },
     "metadata": {},
     "output_type": "display_data"
    },
    {
     "data": {
      "application/vnd.jupyter.widget-view+json": {
       "model_id": "3e33334104a440d293cf4f2cd675ed76",
       "version_major": 2,
       "version_minor": 0
      },
      "text/plain": [
       "Drawing 20 posterior samples:   0%|          | 0/20 [00:00<?, ?it/s]"
      ]
     },
     "metadata": {},
     "output_type": "display_data"
    },
    {
     "data": {
      "application/vnd.jupyter.widget-view+json": {
       "model_id": "75f02c67e5c9412b9222d160338f4ae8",
       "version_major": 2,
       "version_minor": 0
      },
      "text/plain": [
       "Drawing 20 posterior samples:   0%|          | 0/20 [00:00<?, ?it/s]"
      ]
     },
     "metadata": {},
     "output_type": "display_data"
    },
    {
     "data": {
      "application/vnd.jupyter.widget-view+json": {
       "model_id": "09e1ef59cb254642b977667c1de4b9bc",
       "version_major": 2,
       "version_minor": 0
      },
      "text/plain": [
       "Drawing 20 posterior samples:   0%|          | 0/20 [00:00<?, ?it/s]"
      ]
     },
     "metadata": {},
     "output_type": "display_data"
    },
    {
     "data": {
      "application/vnd.jupyter.widget-view+json": {
       "model_id": "56ea0001de154dbd9ae5b4fe121c2046",
       "version_major": 2,
       "version_minor": 0
      },
      "text/plain": [
       "Drawing 20 posterior samples:   0%|          | 0/20 [00:00<?, ?it/s]"
      ]
     },
     "metadata": {},
     "output_type": "display_data"
    },
    {
     "data": {
      "application/vnd.jupyter.widget-view+json": {
       "model_id": "ea2fbb135d40486f94c7f0d80eec876e",
       "version_major": 2,
       "version_minor": 0
      },
      "text/plain": [
       "Drawing 20 posterior samples:   0%|          | 0/20 [00:00<?, ?it/s]"
      ]
     },
     "metadata": {},
     "output_type": "display_data"
    },
    {
     "data": {
      "application/vnd.jupyter.widget-view+json": {
       "model_id": "b6228894007c459ab13ee1e8ec171767",
       "version_major": 2,
       "version_minor": 0
      },
      "text/plain": [
       "Drawing 20 posterior samples:   0%|          | 0/20 [00:00<?, ?it/s]"
      ]
     },
     "metadata": {},
     "output_type": "display_data"
    },
    {
     "data": {
      "application/vnd.jupyter.widget-view+json": {
       "model_id": "fb702fc0674c4213a61bfb743122a608",
       "version_major": 2,
       "version_minor": 0
      },
      "text/plain": [
       "Drawing 20 posterior samples:   0%|          | 0/20 [00:00<?, ?it/s]"
      ]
     },
     "metadata": {},
     "output_type": "display_data"
    },
    {
     "data": {
      "application/vnd.jupyter.widget-view+json": {
       "model_id": "8dfef39ccc1047398af9c33135982e31",
       "version_major": 2,
       "version_minor": 0
      },
      "text/plain": [
       "Drawing 20 posterior samples:   0%|          | 0/20 [00:00<?, ?it/s]"
      ]
     },
     "metadata": {},
     "output_type": "display_data"
    },
    {
     "data": {
      "application/vnd.jupyter.widget-view+json": {
       "model_id": "311f76d88c174d6f9acc9d808bedcd06",
       "version_major": 2,
       "version_minor": 0
      },
      "text/plain": [
       "Drawing 20 posterior samples:   0%|          | 0/20 [00:00<?, ?it/s]"
      ]
     },
     "metadata": {},
     "output_type": "display_data"
    },
    {
     "data": {
      "application/vnd.jupyter.widget-view+json": {
       "model_id": "56bc15f5722e425d86edcfcb5bc98270",
       "version_major": 2,
       "version_minor": 0
      },
      "text/plain": [
       "Drawing 20 posterior samples:   0%|          | 0/20 [00:00<?, ?it/s]"
      ]
     },
     "metadata": {},
     "output_type": "display_data"
    },
    {
     "data": {
      "application/vnd.jupyter.widget-view+json": {
       "model_id": "31b1edd91bf1449aa113a0bccd144dc6",
       "version_major": 2,
       "version_minor": 0
      },
      "text/plain": [
       "Drawing 20 posterior samples:   0%|          | 0/20 [00:00<?, ?it/s]"
      ]
     },
     "metadata": {},
     "output_type": "display_data"
    },
    {
     "data": {
      "application/vnd.jupyter.widget-view+json": {
       "model_id": "b0aa44a6160a4ae080abd15282db7ee8",
       "version_major": 2,
       "version_minor": 0
      },
      "text/plain": [
       "Drawing 20 posterior samples:   0%|          | 0/20 [00:00<?, ?it/s]"
      ]
     },
     "metadata": {},
     "output_type": "display_data"
    },
    {
     "data": {
      "application/vnd.jupyter.widget-view+json": {
       "model_id": "ce7bb6c764094818a7c4b89df50d62a7",
       "version_major": 2,
       "version_minor": 0
      },
      "text/plain": [
       "Drawing 20 posterior samples:   0%|          | 0/20 [00:00<?, ?it/s]"
      ]
     },
     "metadata": {},
     "output_type": "display_data"
    },
    {
     "data": {
      "application/vnd.jupyter.widget-view+json": {
       "model_id": "e5d9d3bdb0774d4d9bef6f3c7c44390e",
       "version_major": 2,
       "version_minor": 0
      },
      "text/plain": [
       "Drawing 20 posterior samples:   0%|          | 0/20 [00:00<?, ?it/s]"
      ]
     },
     "metadata": {},
     "output_type": "display_data"
    },
    {
     "data": {
      "application/vnd.jupyter.widget-view+json": {
       "model_id": "21a0b228fc4c40b6adb5e73f1b8261dd",
       "version_major": 2,
       "version_minor": 0
      },
      "text/plain": [
       "Drawing 20 posterior samples:   0%|          | 0/20 [00:00<?, ?it/s]"
      ]
     },
     "metadata": {},
     "output_type": "display_data"
    },
    {
     "data": {
      "application/vnd.jupyter.widget-view+json": {
       "model_id": "7403090ae24a4a3abcbde9b1066b03e5",
       "version_major": 2,
       "version_minor": 0
      },
      "text/plain": [
       "Drawing 20 posterior samples:   0%|          | 0/20 [00:00<?, ?it/s]"
      ]
     },
     "metadata": {},
     "output_type": "display_data"
    },
    {
     "data": {
      "application/vnd.jupyter.widget-view+json": {
       "model_id": "2dd92aa09af04223af3f705af27af368",
       "version_major": 2,
       "version_minor": 0
      },
      "text/plain": [
       "Drawing 20 posterior samples:   0%|          | 0/20 [00:00<?, ?it/s]"
      ]
     },
     "metadata": {},
     "output_type": "display_data"
    },
    {
     "data": {
      "application/vnd.jupyter.widget-view+json": {
       "model_id": "b9e6ae3968194337b2d65831a44d52e9",
       "version_major": 2,
       "version_minor": 0
      },
      "text/plain": [
       "Drawing 20 posterior samples:   0%|          | 0/20 [00:00<?, ?it/s]"
      ]
     },
     "metadata": {},
     "output_type": "display_data"
    },
    {
     "data": {
      "application/vnd.jupyter.widget-view+json": {
       "model_id": "50b6bea531424e41aa71bfa869bbdb06",
       "version_major": 2,
       "version_minor": 0
      },
      "text/plain": [
       "Drawing 20 posterior samples:   0%|          | 0/20 [00:00<?, ?it/s]"
      ]
     },
     "metadata": {},
     "output_type": "display_data"
    },
    {
     "data": {
      "application/vnd.jupyter.widget-view+json": {
       "model_id": "6788e623cb0c4a989703d1a0894ff30e",
       "version_major": 2,
       "version_minor": 0
      },
      "text/plain": [
       "Drawing 20 posterior samples:   0%|          | 0/20 [00:00<?, ?it/s]"
      ]
     },
     "metadata": {},
     "output_type": "display_data"
    },
    {
     "data": {
      "application/vnd.jupyter.widget-view+json": {
       "model_id": "3b69c8571b3e4b529fd62c8dedde34d8",
       "version_major": 2,
       "version_minor": 0
      },
      "text/plain": [
       "Drawing 20 posterior samples:   0%|          | 0/20 [00:00<?, ?it/s]"
      ]
     },
     "metadata": {},
     "output_type": "display_data"
    },
    {
     "data": {
      "application/vnd.jupyter.widget-view+json": {
       "model_id": "4dc94660cc154736acc805f45e2f7995",
       "version_major": 2,
       "version_minor": 0
      },
      "text/plain": [
       "Drawing 20 posterior samples:   0%|          | 0/20 [00:00<?, ?it/s]"
      ]
     },
     "metadata": {},
     "output_type": "display_data"
    },
    {
     "data": {
      "application/vnd.jupyter.widget-view+json": {
       "model_id": "e5954a4537b642df91d7a08bd9c9cb74",
       "version_major": 2,
       "version_minor": 0
      },
      "text/plain": [
       "Drawing 20 posterior samples:   0%|          | 0/20 [00:00<?, ?it/s]"
      ]
     },
     "metadata": {},
     "output_type": "display_data"
    },
    {
     "data": {
      "application/vnd.jupyter.widget-view+json": {
       "model_id": "dec3386c4c3e41859ad11fac1b53830e",
       "version_major": 2,
       "version_minor": 0
      },
      "text/plain": [
       "Drawing 20 posterior samples:   0%|          | 0/20 [00:00<?, ?it/s]"
      ]
     },
     "metadata": {},
     "output_type": "display_data"
    },
    {
     "data": {
      "application/vnd.jupyter.widget-view+json": {
       "model_id": "c8dff6f89ee34b89aac52d0691c8c5b9",
       "version_major": 2,
       "version_minor": 0
      },
      "text/plain": [
       "Drawing 20 posterior samples:   0%|          | 0/20 [00:00<?, ?it/s]"
      ]
     },
     "metadata": {},
     "output_type": "display_data"
    },
    {
     "data": {
      "application/vnd.jupyter.widget-view+json": {
       "model_id": "2e8d3ee0c69f41079f690814f68d6974",
       "version_major": 2,
       "version_minor": 0
      },
      "text/plain": [
       "Drawing 20 posterior samples:   0%|          | 0/20 [00:00<?, ?it/s]"
      ]
     },
     "metadata": {},
     "output_type": "display_data"
    },
    {
     "data": {
      "application/vnd.jupyter.widget-view+json": {
       "model_id": "ad5ba54514fe4d6db843912d9ec87e5c",
       "version_major": 2,
       "version_minor": 0
      },
      "text/plain": [
       "Drawing 20 posterior samples:   0%|          | 0/20 [00:00<?, ?it/s]"
      ]
     },
     "metadata": {},
     "output_type": "display_data"
    },
    {
     "data": {
      "application/vnd.jupyter.widget-view+json": {
       "model_id": "0d8ba8d3104a4d308e41aac6cc5a18fc",
       "version_major": 2,
       "version_minor": 0
      },
      "text/plain": [
       "Drawing 20 posterior samples:   0%|          | 0/20 [00:00<?, ?it/s]"
      ]
     },
     "metadata": {},
     "output_type": "display_data"
    },
    {
     "data": {
      "application/vnd.jupyter.widget-view+json": {
       "model_id": "3f2ac2fa71724deea5db44c01b1718f9",
       "version_major": 2,
       "version_minor": 0
      },
      "text/plain": [
       "Drawing 20 posterior samples:   0%|          | 0/20 [00:00<?, ?it/s]"
      ]
     },
     "metadata": {},
     "output_type": "display_data"
    },
    {
     "data": {
      "application/vnd.jupyter.widget-view+json": {
       "model_id": "08f265b2deb04ef18ebbbdbc6f564805",
       "version_major": 2,
       "version_minor": 0
      },
      "text/plain": [
       "Drawing 20 posterior samples:   0%|          | 0/20 [00:00<?, ?it/s]"
      ]
     },
     "metadata": {},
     "output_type": "display_data"
    },
    {
     "data": {
      "application/vnd.jupyter.widget-view+json": {
       "model_id": "94070d6eb46e4b0d96c2f227f462c1da",
       "version_major": 2,
       "version_minor": 0
      },
      "text/plain": [
       "Drawing 20 posterior samples:   0%|          | 0/20 [00:00<?, ?it/s]"
      ]
     },
     "metadata": {},
     "output_type": "display_data"
    },
    {
     "data": {
      "application/vnd.jupyter.widget-view+json": {
       "model_id": "b297da74074a41a79d8efe93b6a3f5aa",
       "version_major": 2,
       "version_minor": 0
      },
      "text/plain": [
       "Drawing 20 posterior samples:   0%|          | 0/20 [00:00<?, ?it/s]"
      ]
     },
     "metadata": {},
     "output_type": "display_data"
    },
    {
     "data": {
      "application/vnd.jupyter.widget-view+json": {
       "model_id": "249a2e45bd1b43a8a494cd3966d00591",
       "version_major": 2,
       "version_minor": 0
      },
      "text/plain": [
       "Drawing 20 posterior samples:   0%|          | 0/20 [00:00<?, ?it/s]"
      ]
     },
     "metadata": {},
     "output_type": "display_data"
    },
    {
     "data": {
      "application/vnd.jupyter.widget-view+json": {
       "model_id": "1dfe743f17994ede8841604dba83a916",
       "version_major": 2,
       "version_minor": 0
      },
      "text/plain": [
       "Drawing 20 posterior samples:   0%|          | 0/20 [00:00<?, ?it/s]"
      ]
     },
     "metadata": {},
     "output_type": "display_data"
    },
    {
     "data": {
      "application/vnd.jupyter.widget-view+json": {
       "model_id": "8a98dc4579b040b784799c002c34374c",
       "version_major": 2,
       "version_minor": 0
      },
      "text/plain": [
       "Drawing 20 posterior samples:   0%|          | 0/20 [00:00<?, ?it/s]"
      ]
     },
     "metadata": {},
     "output_type": "display_data"
    },
    {
     "data": {
      "application/vnd.jupyter.widget-view+json": {
       "model_id": "8e0d69defdcc47e4b0dc34946f190cad",
       "version_major": 2,
       "version_minor": 0
      },
      "text/plain": [
       "Drawing 20 posterior samples:   0%|          | 0/20 [00:00<?, ?it/s]"
      ]
     },
     "metadata": {},
     "output_type": "display_data"
    },
    {
     "data": {
      "application/vnd.jupyter.widget-view+json": {
       "model_id": "29405dfcabe748cb8064cd7f1c206b54",
       "version_major": 2,
       "version_minor": 0
      },
      "text/plain": [
       "Drawing 20 posterior samples:   0%|          | 0/20 [00:00<?, ?it/s]"
      ]
     },
     "metadata": {},
     "output_type": "display_data"
    },
    {
     "data": {
      "application/vnd.jupyter.widget-view+json": {
       "model_id": "f3d5be1950214465ad50973ac8c8350b",
       "version_major": 2,
       "version_minor": 0
      },
      "text/plain": [
       "Drawing 20 posterior samples:   0%|          | 0/20 [00:00<?, ?it/s]"
      ]
     },
     "metadata": {},
     "output_type": "display_data"
    },
    {
     "data": {
      "application/vnd.jupyter.widget-view+json": {
       "model_id": "5f6354378a3143718de052cfa882eb33",
       "version_major": 2,
       "version_minor": 0
      },
      "text/plain": [
       "Drawing 20 posterior samples:   0%|          | 0/20 [00:00<?, ?it/s]"
      ]
     },
     "metadata": {},
     "output_type": "display_data"
    },
    {
     "data": {
      "application/vnd.jupyter.widget-view+json": {
       "model_id": "025fa9dd1bca491d9a914fcf2be9d280",
       "version_major": 2,
       "version_minor": 0
      },
      "text/plain": [
       "Drawing 20 posterior samples:   0%|          | 0/20 [00:00<?, ?it/s]"
      ]
     },
     "metadata": {},
     "output_type": "display_data"
    },
    {
     "data": {
      "application/vnd.jupyter.widget-view+json": {
       "model_id": "28e6ccbd16c94bd49b0821b17e50e18a",
       "version_major": 2,
       "version_minor": 0
      },
      "text/plain": [
       "Drawing 20 posterior samples:   0%|          | 0/20 [00:00<?, ?it/s]"
      ]
     },
     "metadata": {},
     "output_type": "display_data"
    },
    {
     "data": {
      "application/vnd.jupyter.widget-view+json": {
       "model_id": "7b9d0eabc7414ed181a2d010eb929bbd",
       "version_major": 2,
       "version_minor": 0
      },
      "text/plain": [
       "Drawing 20 posterior samples:   0%|          | 0/20 [00:00<?, ?it/s]"
      ]
     },
     "metadata": {},
     "output_type": "display_data"
    },
    {
     "data": {
      "application/vnd.jupyter.widget-view+json": {
       "model_id": "5777546826cd4110b1feabd66d464e50",
       "version_major": 2,
       "version_minor": 0
      },
      "text/plain": [
       "Drawing 20 posterior samples:   0%|          | 0/20 [00:00<?, ?it/s]"
      ]
     },
     "metadata": {},
     "output_type": "display_data"
    },
    {
     "data": {
      "application/vnd.jupyter.widget-view+json": {
       "model_id": "5925f4853c3e431bb0648170c0bf8183",
       "version_major": 2,
       "version_minor": 0
      },
      "text/plain": [
       "Drawing 20 posterior samples:   0%|          | 0/20 [00:00<?, ?it/s]"
      ]
     },
     "metadata": {},
     "output_type": "display_data"
    },
    {
     "data": {
      "application/vnd.jupyter.widget-view+json": {
       "model_id": "8924fc9da1d145cd92e997288584c056",
       "version_major": 2,
       "version_minor": 0
      },
      "text/plain": [
       "Drawing 20 posterior samples:   0%|          | 0/20 [00:00<?, ?it/s]"
      ]
     },
     "metadata": {},
     "output_type": "display_data"
    },
    {
     "data": {
      "application/vnd.jupyter.widget-view+json": {
       "model_id": "4a1804cb1bc54d3cbe09b2eb02e08b52",
       "version_major": 2,
       "version_minor": 0
      },
      "text/plain": [
       "Drawing 20 posterior samples:   0%|          | 0/20 [00:00<?, ?it/s]"
      ]
     },
     "metadata": {},
     "output_type": "display_data"
    },
    {
     "data": {
      "application/vnd.jupyter.widget-view+json": {
       "model_id": "5d84ccd586fe4494aca7d32dbd18e1a0",
       "version_major": 2,
       "version_minor": 0
      },
      "text/plain": [
       "Drawing 20 posterior samples:   0%|          | 0/20 [00:00<?, ?it/s]"
      ]
     },
     "metadata": {},
     "output_type": "display_data"
    },
    {
     "data": {
      "application/vnd.jupyter.widget-view+json": {
       "model_id": "f1b89c8cff274cf89e01b82e112dfb8b",
       "version_major": 2,
       "version_minor": 0
      },
      "text/plain": [
       "Drawing 20 posterior samples:   0%|          | 0/20 [00:00<?, ?it/s]"
      ]
     },
     "metadata": {},
     "output_type": "display_data"
    },
    {
     "data": {
      "application/vnd.jupyter.widget-view+json": {
       "model_id": "56b45d67cb5d4163bc5ded4a1bc0f9d5",
       "version_major": 2,
       "version_minor": 0
      },
      "text/plain": [
       "Drawing 20 posterior samples:   0%|          | 0/20 [00:00<?, ?it/s]"
      ]
     },
     "metadata": {},
     "output_type": "display_data"
    },
    {
     "data": {
      "application/vnd.jupyter.widget-view+json": {
       "model_id": "05521ba61fcd4ca497432c793a638991",
       "version_major": 2,
       "version_minor": 0
      },
      "text/plain": [
       "Drawing 20 posterior samples:   0%|          | 0/20 [00:00<?, ?it/s]"
      ]
     },
     "metadata": {},
     "output_type": "display_data"
    }
   ],
   "source": [
    "import random\n",
    "import torch\n",
    "import matplotlib.pyplot as plt\n",
    "\n",
    "# Ergebnisse sammeln\n",
    "true_hgt = []\n",
    "true_rho = []\n",
    "true_hgt_events = []\n",
    "\n",
    "pred_mean_hgt = []\n",
    "pred_mean_rho = []\n",
    "pred_mean_hgt_events = []\n",
    "\n",
    "abs_diff_hgt = []\n",
    "abs_diff_rho = []\n",
    "abs_diff_hgt_events = []\n",
    "\n",
    "gene_freq_colors = []\n",
    "\n",
    "# wenn du aus dem gelernten Posterior abfragen willst:\n",
    "# typischerweise in einem separaten Notebook/Skript\n",
    "# nach dem Training\n",
    "\n",
    "# 5000 Stichproben indices zufällig auswählen\n",
    "indices = random.sample(range(len(dataset)), k=min(5000, len(dataset)))\n",
    "\n",
    "for idx in indices:\n",
    "    # hole einen einzelnen Eintrag\n",
    "    item = dataset[idx]\n",
    "    \n",
    "    # flatten & concat\n",
    "    x_test = flatten_and_concat(\n",
    "        item[\"gene_absence_presence\"].unsqueeze(0),   # B=1\n",
    "        item[\"alleles_list_pca\"].unsqueeze(0),\n",
    "        item[\"distance_matrix\"].unsqueeze(0).unsqueeze(1),\n",
    "        item[\"fitch_score\"].view(1, 1)\n",
    "    )\n",
    "    \n",
    "    # ground truth\n",
    "    true_hgt.append(item[\"theta\"][0].item())\n",
    "    true_rho.append(item[\"theta\"][1].item())\n",
    "    true_hgt_events.append(item[\"theta\"][2].item())\n",
    "    \n",
    "    # sample aus posterior\n",
    "    samples = posterior.sample((20,), x=x_test)\n",
    "    \n",
    "    # mittelwert pro Parameter\n",
    "    mean_hgt = samples[:, 0].mean().item()\n",
    "    mean_rho = samples[:, 1].mean().item()\n",
    "    mean_hgt_events = samples[:, 2].mean().item()\n",
    "    \n",
    "    pred_mean_hgt.append(mean_hgt)\n",
    "    pred_mean_rho.append(mean_rho)\n",
    "    pred_mean_hgt_events.append(mean_hgt_events)\n",
    "    \n",
    "    abs_diff_hgt.append(abs(mean_hgt - true_hgt[-1]))\n",
    "    abs_diff_rho.append(abs(mean_rho - true_rho[-1]))\n",
    "    abs_diff_hgt_events.append(abs(mean_hgt_events - true_hgt_events[-1]))\n",
    "\n",
    "    gene_freq = item[\"gene_absence_presence\"].sum() / item[\"gene_absence_presence\"].numel()\n",
    "    gene_freq_colors.append(gene_freq.item())\n",
    "\n",
    "# Konvertiere Listen für sauberes Plotting\n",
    "true_hgt = torch.tensor(true_hgt)\n",
    "true_rho = torch.tensor(true_rho)\n",
    "true_hgt_events = torch.tensor(true_hgt_events)\n",
    "\n",
    "pred_mean_hgt = torch.tensor(pred_mean_hgt)\n",
    "pred_mean_rho = torch.tensor(pred_mean_rho)\n",
    "pred_mean_hgt_events = torch.tensor(pred_mean_hgt_events)\n",
    "\n",
    "colors = torch.tensor(gene_freq_colors)"
   ]
  },
  {
   "cell_type": "code",
   "execution_count": 15,
   "id": "2a22a3d9-fd02-44fc-8483-f8839770e912",
   "metadata": {},
   "outputs": [
    {
     "data": {
      "image/png": "[encoded data removed]",
      "text/plain": [
       "<Figure size 1800x600 with 6 Axes>"
      ]
     },
     "metadata": {},
     "output_type": "display_data"
    }
   ],
   "source": [
    "# === Plotten ===\n",
    "fig, axs = plt.subplots(1, 3, figsize=(18, 6))\n",
    "\n",
    "# 1. hgt_rate\n",
    "sc0 = axs[0].scatter(\n",
    "    true_hgt,\n",
    "    pred_mean_hgt,\n",
    "    c=colors,\n",
    "    cmap=\"RdYlGn\",\n",
    "    alpha=0.7,\n",
    "    s=4\n",
    ")\n",
    "axs[0].plot(\n",
    "    [hgt_rate_min, hgt_rate_max],\n",
    "    [hgt_rate_min, hgt_rate_max],\n",
    "    color=\"red\", linestyle=\"--\"\n",
    ")\n",
    "axs[0].set_xlabel(\"Real hgt_rate\")\n",
    "axs[0].set_ylabel(\"Predicted hgt_rate\")\n",
    "axs[0].set_title(\"Predicted vs Real hgt_rate\")\n",
    "cbar0 = fig.colorbar(sc0, ax=axs[0], orientation='vertical', pad=0.01)\n",
    "cbar0.set_label(\"Gene frequency\", fontsize=9)\n",
    "\n",
    "# 2. rho\n",
    "sc1 = axs[1].scatter(\n",
    "    true_rho,\n",
    "    pred_mean_rho,\n",
    "    c=colors,\n",
    "    cmap=\"RdYlGn\",\n",
    "    alpha=0.7,\n",
    "    s=4\n",
    ")\n",
    "axs[1].plot(\n",
    "    [rho_min, rho_max],\n",
    "    [rho_min, rho_max],\n",
    "    color=\"red\", linestyle=\"--\"\n",
    ")\n",
    "axs[1].set_xlabel(\"Real rho\")\n",
    "axs[1].set_ylabel(\"Predicted rho\")\n",
    "axs[1].set_title(\"Predicted vs Real rho\")\n",
    "cbar1 = fig.colorbar(sc1, ax=axs[1], orientation='vertical', pad=0.01)\n",
    "cbar1.set_label(\"Gene frequency\", fontsize=9)\n",
    "\n",
    "# 3. number_of_hgt_events\n",
    "sc2 = axs[2].scatter(\n",
    "    true_hgt_events,\n",
    "    pred_mean_hgt_events,\n",
    "    c=colors,\n",
    "    cmap=\"RdYlGn\",\n",
    "    alpha=0.7,\n",
    "    s=4\n",
    ")\n",
    "axs[2].plot(\n",
    "    [true_hgt_events.min(), true_hgt_events.max()],\n",
    "    [true_hgt_events.min(), true_hgt_events.max()],\n",
    "    color=\"red\", linestyle=\"--\"\n",
    ")\n",
    "axs[2].set_xlabel(\"Real number_of_hgt_events\")\n",
    "axs[2].set_ylabel(\"Predicted number_of_hgt_events\")\n",
    "axs[2].set_title(\"Predicted vs Real number_of_hgt_events\")\n",
    "cbar2 = fig.colorbar(sc2, ax=axs[2], orientation='vertical', pad=0.01)\n",
    "cbar2.set_label(\"Gene frequency\", fontsize=9)\n",
    "\n",
    "plt.tight_layout()\n",
    "plt.savefig(\"combined_prediction_plots.png\", dpi=300)\n",
    "plt.show()"
   ]
  },
  {
   "cell_type": "code",
   "execution_count": null,
   "id": "462f92c7-7fc2-4a3d-92a7-365df5a5548f",
   "metadata": {},
   "outputs": [],
   "source": []
  }
 ],
 "metadata": {
  "kernelspec": {
   "display_name": "pangenome-gene-transfer-simulation",
   "language": "python",
   "name": "pangenome-gene-transfer-simulation"
  },
  "language_info": {
   "codemirror_mode": {
    "name": "ipython",
    "version": 3
   },
   "file_extension": ".py",
   "mimetype": "text/x-python",
   "name": "python",
   "nbconvert_exporter": "python",
   "pygments_lexer": "ipython3",
   "version": "3.12.1"
  }
 },
 "nbformat": 4,
 "nbformat_minor": 5
}
